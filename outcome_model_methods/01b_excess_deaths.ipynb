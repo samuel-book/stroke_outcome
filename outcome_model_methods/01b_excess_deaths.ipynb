{
 "cells": [
  {
   "cell_type": "markdown",
   "id": "43809afe-c7f3-4d40-96dd-64ab58909f0e",
   "metadata": {},
   "source": [
    "# Excess death rate calculations\n",
    "\n",
    "This document calculates the excess date rates associated with treatment for stroke. It calculates separate excess death rates for these three populations:\n",
    "\n",
    "| Patient group | Excess death rate |\n",
    "| --- | --- |\n",
    "| nLVO with IVT | __1.1%__ |\n",
    "| LVO with IVT | __3.4%__ |\n",
    "| LVO with MT | __4.0%__ |\n",
    "\n",
    "where nLVOs are non-Large Vessel Occlusions, LVOs are Large Vessel Occlusions, IVT is intravenous thrombolysis, and MT is mechanical thrombectomy.\n",
    "\n",
    "## Plain English summary \n",
    "\n",
    "Treating a stroke with thrombolysis or thrombectomy has the potential to remove the cause of the stroke, reduce the symptoms, and cause a better outcome after the stroke than if the patient had received no treatment. However, the treatments have the drawback of a small risk of death directly caused by the treatment.\n",
    "\n",
    "We want to include this risk of death in the outcome model to make sure the results it gives are as true to life as possible.\n",
    "\n",
    "To find the risk of excess death for each combination of occlusion and treatment types, we look at clinical trial data where the death rates are recorded in groups of people who received treatment and groups of people who received no treatment.\n",
    "\n",
    "## Data sources\n",
    "\n",
    "Full reference information is given at the end of this document.\n",
    "\n",
    "| Source | Useful data |\n",
    "| --- | --- | \n",
    "| Alteplase meta-analysis (Emberson et al. 2014) | Numbers of patients grouped by NIHSS score, whether or not they received thrombolysis, and whether or not they died. |\n",
    "| HERMES thrombectomy meta-analysis (Goyal et al. 2016) | Mortality rate with MT, average time to MT, and mRS distributions for a population of patients with LVO who did not receive thrombectomy. |\n",
    "| Recanalisation meta-analysis (Hui et al. 2020) | 75% rate of successful recanalisation with MT. |\n",
    "| SSNAP | Pre-stroke mRS distribution for patients with LVO. |\n",
    "\n",
    "As usual we assign nLVO to patients with an NIHSS of 10 or below following the RACE scale (de la Ossa Herrero et al. 2013).\n",
    "\n",
    "## Method\n",
    "\n",
    "For IVT, the basic steps are:\n",
    "+ Calculate the death rate for the group who received thrombolysis\n",
    "+ Calculate the death rate for the group who did not receive thrombolysis\n",
    "+ Take the difference. This is the excess death rate.\n",
    "\n",
    "For MT, the method is more complicated because the same data is not available. The steps are:\n",
    "+ Find a reference data point where both the death rate and time to treatment are known. We use the mean time to treatment and the mortality rate from the HERMES meta-analysis (Goyal et al. 2016).\n",
    "+ Define an excess death rate.\n",
    "+ Apply these excess deaths uniformly to the pre-stroke and no-treatment mRS distributions.\n",
    "+ Combine these mRS distributions to find the distribution for treatment at time zero and for treatment at the time of no effect.\n",
    "+ Take the probability of being alive (mRS < 6) in both distributions. Convert them to log-odds.\n",
    "+ Assume that log-odds falls steadily with time. This follows the methodolody in the alteplase meta-analysis (Emberson et al. 2014). Calculate the log-odds at the treatment time.\n",
    "+ Compare this log-odds at the treatment time with the target value.\n",
    "+ Adjust the excess death rate and repeat these steps until there is no difference between the calculated and target log-odds at the treatment time.\n",
    "\n",
    "## Notebook setup"
   ]
  },
  {
   "cell_type": "code",
   "execution_count": 1,
   "id": "de727386-b886-47e6-a65a-2911c57d5b62",
   "metadata": {},
   "outputs": [],
   "source": [
    "import numpy as np\n",
    "import matplotlib.pyplot as plt\n",
    "import pandas as pd\n",
    "\n",
    "from scipy.optimize import minimize  # optimise MT excess death rate"
   ]
  },
  {
   "cell_type": "markdown",
   "id": "04fe4e67-667e-49f8-94b7-1a0e89daa5d7",
   "metadata": {},
   "source": [
    "## Intravenous thrombolysis\n",
    "\n",
    "![Summary image for calculating excess deaths for IVT. 1. Calculate excess deaths for nLVO patients. Table of patient numbers from Emberson et al. 2014. Excess deaths is the difference in percentages. → Excess death is 1.1%. 2. Calculate excess deaths for LVO patients. Table of patient numbers from Emberson et al. 2014. Excess deaths is the difference in percentages. → Excess death is 3.4%.](./images/data_sources_excess-death-ivt.png)"
   ]
  },
  {
   "cell_type": "code",
   "execution_count": 2,
   "id": "0e8ba069-fbd9-4e4e-b992-eaa3a1e4cba7",
   "metadata": {},
   "outputs": [],
   "source": [
    "rows = ['Number of patients', 'Deaths']\n",
    "headings = ['Given IVT', 'No treatment']"
   ]
  },
  {
   "cell_type": "markdown",
   "id": "c38a2e90-196a-40f1-929d-d3f15f3b111e",
   "metadata": {},
   "source": [
    "### nLVO patients\n",
    "\n",
    "Make a copy of the data from the table:"
   ]
  },
  {
   "cell_type": "code",
   "execution_count": 3,
   "id": "4f76107b-cba5-42e2-b82e-5f5339d6edad",
   "metadata": {},
   "outputs": [],
   "source": [
    "df_nlvo = pd.DataFrame(\n",
    "    [[345, 1281, 321, 1252],\n",
    "     [3, 20, 0, 5]],\n",
    "    index=rows,\n",
    "    columns=pd.MultiIndex.from_tuples([\n",
    "        ('Given IVT', 'NIHSS_0-4'), ('Given IVT', 'NIHSS_5-10'),\n",
    "        ('No treatment', 'NIHSS_0-4'), ('No treatment', 'NIHSS_5-10'),\n",
    "    ])\n",
    ")\n",
    "\n",
    "# Sum the NIHSS 0-4 and NIHSS 5-10 columns to find NIHSS 0-10:\n",
    "for row in rows:\n",
    "    for head in headings:\n",
    "        df_nlvo.loc[row, (head, 'NIHSS_0-10')] = (\n",
    "            df_nlvo.loc[row, [(head, 'NIHSS_0-4'), (head, 'NIHSS_5-10')]].sum())\n",
    "\n",
    "# Sort the columns:\n",
    "df_nlvo = df_nlvo[headings]"
   ]
  },
  {
   "cell_type": "code",
   "execution_count": 4,
   "id": "76f6e7b9-c0ed-4a50-9198-ed3ecdd80fb7",
   "metadata": {},
   "outputs": [
    {
     "data": {
      "text/html": [
       "<div>\n",
       "<style scoped>\n",
       "    .dataframe tbody tr th:only-of-type {\n",
       "        vertical-align: middle;\n",
       "    }\n",
       "\n",
       "    .dataframe tbody tr th {\n",
       "        vertical-align: top;\n",
       "    }\n",
       "\n",
       "    .dataframe thead tr th {\n",
       "        text-align: left;\n",
       "    }\n",
       "</style>\n",
       "<table border=\"1\" class=\"dataframe\">\n",
       "  <thead>\n",
       "    <tr>\n",
       "      <th></th>\n",
       "      <th colspan=\"3\" halign=\"left\">Given IVT</th>\n",
       "      <th colspan=\"3\" halign=\"left\">No treatment</th>\n",
       "    </tr>\n",
       "    <tr>\n",
       "      <th></th>\n",
       "      <th>NIHSS_0-4</th>\n",
       "      <th>NIHSS_5-10</th>\n",
       "      <th>NIHSS_0-10</th>\n",
       "      <th>NIHSS_0-4</th>\n",
       "      <th>NIHSS_5-10</th>\n",
       "      <th>NIHSS_0-10</th>\n",
       "    </tr>\n",
       "  </thead>\n",
       "  <tbody>\n",
       "    <tr>\n",
       "      <th>Number of patients</th>\n",
       "      <td>345</td>\n",
       "      <td>1281</td>\n",
       "      <td>1626.0</td>\n",
       "      <td>321</td>\n",
       "      <td>1252</td>\n",
       "      <td>1573.0</td>\n",
       "    </tr>\n",
       "    <tr>\n",
       "      <th>Deaths</th>\n",
       "      <td>3</td>\n",
       "      <td>20</td>\n",
       "      <td>23.0</td>\n",
       "      <td>0</td>\n",
       "      <td>5</td>\n",
       "      <td>5.0</td>\n",
       "    </tr>\n",
       "  </tbody>\n",
       "</table>\n",
       "</div>"
      ],
      "text/plain": [
       "                   Given IVT                       No treatment             \\\n",
       "                   NIHSS_0-4 NIHSS_5-10 NIHSS_0-10    NIHSS_0-4 NIHSS_5-10   \n",
       "Number of patients       345       1281     1626.0          321       1252   \n",
       "Deaths                     3         20       23.0            0          5   \n",
       "\n",
       "                               \n",
       "                   NIHSS_0-10  \n",
       "Number of patients     1573.0  \n",
       "Deaths                    5.0  "
      ]
     },
     "execution_count": 4,
     "metadata": {},
     "output_type": "execute_result"
    }
   ],
   "source": [
    "df_nlvo"
   ]
  },
  {
   "cell_type": "markdown",
   "id": "2aac4940-0280-4276-91e5-3a7d721dbed8",
   "metadata": {},
   "source": [
    "Calculate the death rates from the table:"
   ]
  },
  {
   "cell_type": "code",
   "execution_count": 5,
   "id": "1a5222da-1915-4307-99ab-434e72b8b86d",
   "metadata": {},
   "outputs": [],
   "source": [
    "percdeath_nlvo_givenivt = 100.0 * (\n",
    "    df_nlvo['Given IVT']['NIHSS_0-10']['Deaths'] /\n",
    "    df_nlvo['Given IVT']['NIHSS_0-10']['Number of patients']\n",
    ")\n",
    "\n",
    "percdeath_nlvo_notreat = 100.0 * (\n",
    "    df_nlvo['No treatment']['NIHSS_0-10']['Deaths'] /\n",
    "    df_nlvo['No treatment']['NIHSS_0-10']['Number of patients']\n",
    ")\n",
    "\n",
    "excess_deaths_nlvo = percdeath_nlvo_givenivt - percdeath_nlvo_notreat"
   ]
  },
  {
   "cell_type": "markdown",
   "id": "c0a12cd6-0539-4092-8a10-6e6d7c21d919",
   "metadata": {},
   "source": [
    "Show the excess death rate:"
   ]
  },
  {
   "cell_type": "code",
   "execution_count": 6,
   "id": "74a5da2d-d2c6-47e9-926f-cc5d3496a952",
   "metadata": {},
   "outputs": [
    {
     "name": "stdout",
     "output_type": "stream",
     "text": [
      "Death rate for \"Given IVT\":    1.415%\n",
      "Death rate for \"No treatment\": 0.318%\n",
      "Excess death rate:             1.097%\n"
     ]
    }
   ],
   "source": [
    "print(f'Death rate for \"Given IVT\":    {percdeath_nlvo_givenivt:.3f}%')\n",
    "print(f'Death rate for \"No treatment\": {percdeath_nlvo_notreat:.3f}%')\n",
    "print(f'Excess death rate:             {excess_deaths_nlvo:.3f}%')"
   ]
  },
  {
   "cell_type": "markdown",
   "id": "a181de99-d258-48fc-bd78-285aafec805d",
   "metadata": {},
   "source": [
    "### LVO patients\n",
    "\n",
    "Repeat the same method as for nLVO patients.\n",
    "\n",
    "Make a copy of the data from the table:"
   ]
  },
  {
   "cell_type": "code",
   "execution_count": 7,
   "id": "7fb2be71-17e4-4339-9d65-0f55ebaa7c95",
   "metadata": {},
   "outputs": [],
   "source": [
    "df_lvo = pd.DataFrame(\n",
    "    [[794, 662, 309, 808, 671, 313],\n",
    "     [23, 24, 21, 1, 5, 2]],\n",
    "    index=rows,\n",
    "    columns=pd.MultiIndex.from_tuples([\n",
    "        ('Given IVT', 'NIHSS_11-15'), ('Given IVT', 'NIHSS_16-21'), ('Given IVT', 'NIHSS_>=22'),\n",
    "        ('No treatment', 'NIHSS_11-15'), ('No treatment', 'NIHSS_16-21'), ('No treatment', 'NIHSS_>=22'),\n",
    "    ])\n",
    ")\n",
    "\n",
    "# Sum the NIHSS 11-15, NIHSS 16-21 and NIHSS >=22 columns to find NIHSS >=11:\n",
    "for row in rows:\n",
    "    for head in headings:\n",
    "        df_lvo.loc[row, (head, 'NIHSS_>=11')] = (\n",
    "            df_lvo.loc[row, [(head, 'NIHSS_11-15'), (head, 'NIHSS_16-21'), (head, 'NIHSS_>=22')]].sum())\n",
    "\n",
    "# Sort the columns:\n",
    "df_lvo = df_lvo[headings]"
   ]
  },
  {
   "cell_type": "code",
   "execution_count": 8,
   "id": "61524b6e-2fa6-46b3-b526-10164b13b4c2",
   "metadata": {},
   "outputs": [
    {
     "data": {
      "text/html": [
       "<div>\n",
       "<style scoped>\n",
       "    .dataframe tbody tr th:only-of-type {\n",
       "        vertical-align: middle;\n",
       "    }\n",
       "\n",
       "    .dataframe tbody tr th {\n",
       "        vertical-align: top;\n",
       "    }\n",
       "\n",
       "    .dataframe thead tr th {\n",
       "        text-align: left;\n",
       "    }\n",
       "</style>\n",
       "<table border=\"1\" class=\"dataframe\">\n",
       "  <thead>\n",
       "    <tr>\n",
       "      <th></th>\n",
       "      <th colspan=\"4\" halign=\"left\">Given IVT</th>\n",
       "      <th colspan=\"4\" halign=\"left\">No treatment</th>\n",
       "    </tr>\n",
       "    <tr>\n",
       "      <th></th>\n",
       "      <th>NIHSS_11-15</th>\n",
       "      <th>NIHSS_16-21</th>\n",
       "      <th>NIHSS_&gt;=22</th>\n",
       "      <th>NIHSS_&gt;=11</th>\n",
       "      <th>NIHSS_11-15</th>\n",
       "      <th>NIHSS_16-21</th>\n",
       "      <th>NIHSS_&gt;=22</th>\n",
       "      <th>NIHSS_&gt;=11</th>\n",
       "    </tr>\n",
       "  </thead>\n",
       "  <tbody>\n",
       "    <tr>\n",
       "      <th>Number of patients</th>\n",
       "      <td>794</td>\n",
       "      <td>662</td>\n",
       "      <td>309</td>\n",
       "      <td>1765.0</td>\n",
       "      <td>808</td>\n",
       "      <td>671</td>\n",
       "      <td>313</td>\n",
       "      <td>1792.0</td>\n",
       "    </tr>\n",
       "    <tr>\n",
       "      <th>Deaths</th>\n",
       "      <td>23</td>\n",
       "      <td>24</td>\n",
       "      <td>21</td>\n",
       "      <td>68.0</td>\n",
       "      <td>1</td>\n",
       "      <td>5</td>\n",
       "      <td>2</td>\n",
       "      <td>8.0</td>\n",
       "    </tr>\n",
       "  </tbody>\n",
       "</table>\n",
       "</div>"
      ],
      "text/plain": [
       "                     Given IVT                                   No treatment  \\\n",
       "                   NIHSS_11-15 NIHSS_16-21 NIHSS_>=22 NIHSS_>=11  NIHSS_11-15   \n",
       "Number of patients         794         662        309     1765.0          808   \n",
       "Deaths                      23          24         21       68.0            1   \n",
       "\n",
       "                                                      \n",
       "                   NIHSS_16-21 NIHSS_>=22 NIHSS_>=11  \n",
       "Number of patients         671        313     1792.0  \n",
       "Deaths                       5          2        8.0  "
      ]
     },
     "execution_count": 8,
     "metadata": {},
     "output_type": "execute_result"
    }
   ],
   "source": [
    "df_lvo"
   ]
  },
  {
   "cell_type": "markdown",
   "id": "21bc9d78-7b59-4602-9e43-ccc7b9e596e4",
   "metadata": {},
   "source": [
    "Calculate the death rates from the table:"
   ]
  },
  {
   "cell_type": "code",
   "execution_count": 9,
   "id": "8277aa60-c264-44d5-aab0-7218c7845d90",
   "metadata": {},
   "outputs": [],
   "source": [
    "percdeath_lvo_givenivt = 100.0 * (\n",
    "    df_lvo['Given IVT']['NIHSS_>=11']['Deaths'] /\n",
    "    df_lvo['Given IVT']['NIHSS_>=11']['Number of patients']\n",
    ")\n",
    "\n",
    "percdeath_lvo_notreat = 100.0 * (\n",
    "    df_lvo['No treatment']['NIHSS_>=11']['Deaths'] /\n",
    "    df_lvo['No treatment']['NIHSS_>=11']['Number of patients']\n",
    ")\n",
    "\n",
    "excess_deaths_lvo = percdeath_lvo_givenivt - percdeath_lvo_notreat"
   ]
  },
  {
   "cell_type": "markdown",
   "id": "fc89e8fc-5acf-4ade-8b8f-29acbcb8bacd",
   "metadata": {},
   "source": [
    "Show the excess death rate:"
   ]
  },
  {
   "cell_type": "code",
   "execution_count": 10,
   "id": "2451decd-ad78-43c5-b1de-a0a3118b082c",
   "metadata": {},
   "outputs": [
    {
     "name": "stdout",
     "output_type": "stream",
     "text": [
      "Death rate for \"Given IVT\":    3.853%\n",
      "Death rate for \"No treatment\": 0.446%\n",
      "Excess death rate:             3.406%\n"
     ]
    }
   ],
   "source": [
    "print(f'Death rate for \"Given IVT\":    {percdeath_lvo_givenivt:.3f}%')\n",
    "print(f'Death rate for \"No treatment\": {percdeath_lvo_notreat:.3f}%')\n",
    "print(f'Excess death rate:             {excess_deaths_lvo:.3f}%')"
   ]
  },
  {
   "cell_type": "markdown",
   "id": "6df91fad-cc83-4bdd-a494-dc7a1793242a",
   "metadata": {},
   "source": [
    "## Mechanical thrombectomy\n",
    "\n",
    "![Summary image for calculating excess deaths from MT. 1. Find reference data point. The average MT treatment time is 285 minutes and the death rate of patients given MT is 15.3%. This gives a probability that mRS is less than 6 of 84.7%. Convert this probability to log-odds. The log-odds of mRS being less than 6 when MT is given at 285 minutes is 1.709. → log-odds reference = 1.709. 2. Define time-zero distribution. Calculate two distributions: Full-effect data: pre-stroke data with excess deaths. No-effect data: no-treatment data with excess deaths. Combine 75% of the full-effect data with 25% of the no-effect data to make the time-zero data. 3. Method for finding excess deaths: Set the excess death value e.\n",
    "As above, use these excess deaths to calculate: The full-effect data, The no-effect-time data, The time-zero data. Take the probability that mRS is less than 6 in the time-zero and the no-effect-time distributions. Convert the probabilities to log-odds. Plot the two log-odds values and treatment times and connect the points with a straight line. How close is the straight line to the reference point? These steps can be repeated with different values of excess death e until the line passes exactly through the reference data point. Using an optimiser function, we find the best e=4.00%. → Excess death is 4.0%.](./images/data_sources_excess-death-mt.png)"
   ]
  },
  {
   "cell_type": "markdown",
   "id": "3095c8a2-ba3a-4736-ba64-7f255813bca9",
   "metadata": {},
   "source": [
    "### Define functions for the MT calculations\n",
    "\n",
    "The following functions convert one or more values from probability into log-odds and back:"
   ]
  },
  {
   "cell_type": "code",
   "execution_count": 11,
   "id": "192370f7-a5d7-404e-b66f-dff798007f66",
   "metadata": {},
   "outputs": [],
   "source": [
    "def convert_prob_to_logodds(p):\n",
    "    return np.log(p / (1.0 - p))"
   ]
  },
  {
   "cell_type": "code",
   "execution_count": 12,
   "id": "708565e9-78be-4d80-b9bf-84b4a1595ead",
   "metadata": {},
   "outputs": [],
   "source": [
    "def convert_logodds_to_prob(l):\n",
    "    return np.exp(l) / (1.0 + np.exp(l))"
   ]
  },
  {
   "cell_type": "markdown",
   "id": "c5c3bb4a-6a10-4e13-ac7c-71cf3c9e7dfd",
   "metadata": {},
   "source": [
    "The following two functions are defined because the calculations will be needed very many times to fine-tune the value of excess death rate.\n",
    "\n",
    "The following function adjusts the probabilities for pre-stroke and no-treatment populations by accounting for excess deaths:"
   ]
  },
  {
   "cell_type": "code",
   "execution_count": 13,
   "id": "a3cc9fba-8ed6-4a91-994b-fb47cc1021e7",
   "metadata": {},
   "outputs": [],
   "source": [
    "def calculate_logodds_with_excess_deaths(p_pre, p_not, ed):\n",
    "    \"\"\"\n",
    "    Find logodds at time zero and time of no effect.\n",
    "\n",
    "    Add the excess deaths into the pre-stroke and no-treatment\n",
    "    distributions. Then calculate a weighted sum of the two dists.\n",
    "    Convert the resulting probabilities to log-odds.\n",
    "\n",
    "    Inputs\n",
    "    ------\n",
    "    p_pre - float or np.array. Pre-stroke probability.\n",
    "    p_not - float or np.array. No-treatment probability.\n",
    "    ed    - float. Excess death rate.\n",
    "\n",
    "    Returns\n",
    "    -------\n",
    "    l_t0  - float or np.array. Log-odds at time zero.\n",
    "    l_tne - float or np.array. Log-odds at no-effect time.\n",
    "    \"\"\"\n",
    "    # Weight pre-stroke probability by excess deaths:\n",
    "    p_pre_deaths = p_pre * (1.0 - ed)\n",
    "    # Weight no-treatment probability by excess deaths:\n",
    "    p_tne = p_not * (1.0 - ed)\n",
    "    # Calculate new time-zero-treatment probability by\n",
    "    # combining the new pre-stroke and no-treatment probs:\n",
    "    p_t0 = (0.75 * p_pre_deaths) + (0.25 * p_tne)\n",
    "    \n",
    "    # Convert time-zero and time-of-no-effect probs to logodds:\n",
    "    l_t0 = convert_prob_to_logodds(p_t0)\n",
    "    l_tne = convert_prob_to_logodds(p_tne)\n",
    "    return l_t0, l_tne"
   ]
  },
  {
   "cell_type": "markdown",
   "id": "d370687d-1b25-42ef-89a6-a6337359a3da",
   "metadata": {},
   "source": [
    "The following function first uses the previous function to find the probabilities for treatment at time zero and at the time of no effect. It then uses those end points to find the log-odds at the target treatment time."
   ]
  },
  {
   "cell_type": "code",
   "execution_count": 14,
   "id": "b8e146ac-dcc0-4ee8-b6de-2e2345d91de1",
   "metadata": {},
   "outputs": [],
   "source": [
    "def calculate_logodds_t_target(ed, p_pre, p_not, tne, t0, t_target):\n",
    "    \"\"\"\n",
    "    Calculate logodds at target time from scratch.\n",
    "\n",
    "    Find the log-odds for treatment at time zero and at the time of\n",
    "    no-effect. Connect the two points with a straight line. Find\n",
    "    the value of log(odds) along this line at the target time.\n",
    "    \n",
    "               ^\n",
    "               |  (t0, l_t0)\n",
    "               | x__\n",
    "    log(odds)  |    \\__\n",
    "               |       \\__   (tne, l_tne)\n",
    "               |          \\_x     \n",
    "               +------------------>\n",
    "                     Time\n",
    "\n",
    "    Inputs\n",
    "    ------\n",
    "    ed       - float. Excess death rate.\n",
    "    p_pre    - float or np.array. Pre-stroke probability.\n",
    "    p_not    - float or np.array. No-treatment probability.\n",
    "    t_ne     - float. Time of no effect.\n",
    "    t0       - float. Time zero.\n",
    "    t_target - float. Target treatment time.\n",
    "\n",
    "    Returns\n",
    "    -------\n",
    "    l_t_target - float or np.array. Log-odds at target treatment time.\n",
    "    \"\"\"\n",
    "    # First add excess deaths into the pre-stroke and no-treatment\n",
    "    # probabilities. Take their weighted sum to find the time-zero\n",
    "    # probabilities. Convert the time-zero treatment and no-effect\n",
    "    # probabilities into log-odds.\n",
    "    l_t0, l_tne = calculate_logodds_with_excess_deaths(p_pre, p_not, ed)\n",
    "\n",
    "    # Treat the two log-odds values as two points to be connected\n",
    "    # with a straight line. Find an equation for the line based on\n",
    "    # its slope and y-intercept.\n",
    "    slope = (l_tne - l_t0) / (tne - t0)\n",
    "    y_intercept = l_t0\n",
    "\n",
    "    # Use this line equation to find the log-odds at the chosen\n",
    "    # treatment time.\n",
    "    l_t_target = (slope * t_target) + y_intercept\n",
    "    return l_t_target"
   ]
  },
  {
   "cell_type": "markdown",
   "id": "3b1fd3f8-e4a7-4bac-b09c-ce2cbccbc016",
   "metadata": {},
   "source": [
    "### Gather reference data"
   ]
  },
  {
   "cell_type": "markdown",
   "id": "485fa788-0bfc-41f2-823e-a506975e3b6c",
   "metadata": {},
   "source": [
    "Define times in hours:"
   ]
  },
  {
   "cell_type": "code",
   "execution_count": 15,
   "id": "4c7bc2e0-3ab9-4a60-8271-dd21f3b0824f",
   "metadata": {},
   "outputs": [],
   "source": [
    "t0 = 0.0   # time zero\n",
    "tne = 8.0  # time of no effect\n",
    "# Average MT treatment time:\n",
    "t_target = (285.0 / 60.0)  # from the treatment time table."
   ]
  },
  {
   "cell_type": "markdown",
   "id": "6910672a-afc9-4322-ae9e-8cad616245ff",
   "metadata": {},
   "source": [
    "Gather the probabilities of being alive (mRS less than 6) in the pre-stroke and no-treatment distributions:"
   ]
  },
  {
   "cell_type": "code",
   "execution_count": 16,
   "id": "c9486f6f-be60-4e98-878f-15c86f4e3246",
   "metadata": {},
   "outputs": [],
   "source": [
    "# Store mRS dists in this dictionary:\n",
    "mrs_dists = dict()\n",
    "mrs_dists['pre_stroke_lvo'] = np.array([0.4179, 0.1430, 0.1184, 0.1642, 0.1138, 0.0427, 0.0000])\n",
    "mrs_dists['no_treatment_lvo'] = np.array([0.0500, 0.0790, 0.1360, 0.1640, 0.2470, 0.1350, 0.1890])\n",
    "\n",
    "# Convert the mRS distributions to cumulative mRS distributions:\n",
    "mrs_dists_cumsum = dict()\n",
    "for key, val in zip(mrs_dists.keys(), mrs_dists.values()):\n",
    "    mrs_dists_cumsum[key] = np.cumsum(mrs_dists[key])\n",
    "\n",
    "# Probabilities of mRS < 6 in pre-stroke and no-treatment distributions:\n",
    "p_pre = mrs_dists_cumsum['pre_stroke_lvo'][5]\n",
    "p_not = mrs_dists_cumsum['no_treatment_lvo'][5]"
   ]
  },
  {
   "cell_type": "code",
   "execution_count": 17,
   "id": "71945b39-2b1c-4504-ba9e-5960dec98b66",
   "metadata": {},
   "outputs": [
    {
     "name": "stdout",
     "output_type": "stream",
     "text": [
      "Probability of mRS < 6 for pre-stroke:   1.0\n",
      "Probability of mRS < 6 for no-treatment: 0.811\n"
     ]
    }
   ],
   "source": [
    "print(f'Probability of mRS < 6 for pre-stroke:   {p_pre}')\n",
    "print(f'Probability of mRS < 6 for no-treatment: {p_not}')"
   ]
  },
  {
   "cell_type": "markdown",
   "id": "ced7dca3-bda6-4921-8c8a-a4eb13277e44",
   "metadata": {},
   "source": [
    "Target probability of being alive (mRS less than 6) at average MT treatment time:"
   ]
  },
  {
   "cell_type": "code",
   "execution_count": 18,
   "id": "75203403-7f4a-48b6-9411-a462b24690fa",
   "metadata": {},
   "outputs": [],
   "source": [
    "# Probability of death:\n",
    "p_death_mt = 97.0 / 633.0  # from the mortality rate table.\n",
    "\n",
    "# Flip this for probability of being alive:\n",
    "p_target = 1.0 - p_death_mt"
   ]
  },
  {
   "cell_type": "markdown",
   "id": "84de9be7-671e-40b4-8430-f692f871ec74",
   "metadata": {},
   "source": [
    "Check that the target probability is between the starting and ending probabilities:"
   ]
  },
  {
   "cell_type": "code",
   "execution_count": 19,
   "id": "a4fdb46c-a7e9-449c-880c-a1a6be7e7b38",
   "metadata": {},
   "outputs": [
    {
     "data": {
      "text/plain": [
       "(1.0, 0.811, 0.8467614533965244)"
      ]
     },
     "execution_count": 19,
     "metadata": {},
     "output_type": "execute_result"
    }
   ],
   "source": [
    "p_pre, p_not, p_target"
   ]
  },
  {
   "cell_type": "markdown",
   "id": "1a640a20-82ca-42d0-b15f-50aff93b9145",
   "metadata": {},
   "source": [
    "Convert the target probability into log-odds at the average MT treatment time:"
   ]
  },
  {
   "cell_type": "code",
   "execution_count": 20,
   "id": "e24b46bd-e416-41c0-89b0-70f43d15d59e",
   "metadata": {},
   "outputs": [],
   "source": [
    "l_target = convert_prob_to_logodds(p_target)"
   ]
  },
  {
   "cell_type": "code",
   "execution_count": 21,
   "id": "4ee30ed7-db93-4a01-a72a-d326c73a790a",
   "metadata": {},
   "outputs": [
    {
     "data": {
      "text/plain": [
       "1.7094231825674187"
      ]
     },
     "execution_count": 21,
     "metadata": {},
     "output_type": "execute_result"
    }
   ],
   "source": [
    "l_target"
   ]
  },
  {
   "cell_type": "markdown",
   "id": "4d15b88d-926c-42f3-8a75-a5940a89edaf",
   "metadata": {},
   "source": [
    "Check that the target log-odds is correct by converting it back to probability. The result of the following function should match `p_target`."
   ]
  },
  {
   "cell_type": "code",
   "execution_count": 22,
   "id": "a0278055-f0a0-4c43-8821-a02aa1f5d1c8",
   "metadata": {},
   "outputs": [
    {
     "data": {
      "text/plain": [
       "0.8467614533965244"
      ]
     },
     "execution_count": 22,
     "metadata": {},
     "output_type": "execute_result"
    }
   ],
   "source": [
    "convert_logodds_to_prob(l_target)"
   ]
  },
  {
   "cell_type": "markdown",
   "id": "bd96cdcc-c227-4190-84e5-fab31acd6100",
   "metadata": {},
   "source": [
    "### When excess deaths are zero, what is the mortality rate at 285 minutes?\n",
    "\n",
    "Expect this value to be a bit lower than the target 15.3% from the paper."
   ]
  },
  {
   "cell_type": "code",
   "execution_count": 23,
   "id": "011477ae-e6e6-4382-a17c-a9ddac2d2199",
   "metadata": {},
   "outputs": [
    {
     "name": "stdout",
     "output_type": "stream",
     "text": [
      "Mortality at 4.75 hours: 11.05%\n"
     ]
    }
   ],
   "source": [
    "l_target_ed0 = calculate_logodds_t_target(0.0, p_pre, p_not, tne, t0, t_target)\n",
    "p_target_ed0 = convert_logodds_to_prob(l_target_ed0)\n",
    "\n",
    "print(f'Mortality at {t_target} hours: {1.0 - p_target_ed0:.2%}')"
   ]
  },
  {
   "cell_type": "markdown",
   "id": "2d45bcf7-e3da-43b7-b426-24698b571de5",
   "metadata": {},
   "source": [
    "### Try various excess death rates\n",
    "\n",
    "Calculate the straight-line fit for various excess death rates and plot them as we go along."
   ]
  },
  {
   "cell_type": "code",
   "execution_count": 24,
   "id": "06ee4f8d-43ec-472e-8e0b-d4084b482756",
   "metadata": {},
   "outputs": [
    {
     "data": {
      "image/png": "[encoded data removed]",
      "text/plain": [
       "<Figure size 640x480 with 1 Axes>"
      ]
     },
     "metadata": {},
     "output_type": "display_data"
    }
   ],
   "source": [
    "# First mark the target log-odds at the treatment time:\n",
    "plt.scatter(t_target, l_target, label='Target', marker='x', color='k')\n",
    "\n",
    "for ed in np.arange(0.00, 0.10, 0.02):\n",
    "    # Find endpoints of the straight line for this excess deaths value:\n",
    "    l_t0, l_tne = calculate_logodds_with_excess_deaths(p_pre, p_not, ed)\n",
    "    # Plot the straight line fit:\n",
    "    plt.plot(\n",
    "        [t0, tne],\n",
    "        [l_t0, l_tne],\n",
    "        label=f'{ed:.2%} excess deaths'\n",
    "    )\n",
    "plt.legend()\n",
    "plt.ylabel('log(odds)')\n",
    "plt.xlabel('Time (hours)')\n",
    "plt.show()"
   ]
  },
  {
   "cell_type": "markdown",
   "id": "e6edd17b-b1ab-4e07-b1be-7bc3392c1228",
   "metadata": {},
   "source": [
    "### Optimize the value of \"excess deaths\"\n",
    "\n",
    "Find the best value of \"excess deaths\" by using an optimiser function to try lots of different values. The \"best\" value is the one that gives the smallest difference between the target and the calculated log-odds at the treatment time. The optimiser will keep adjusting the value until the difference is as small as possible.\n",
    "\n",
    "This function returns the difference between the calculated value and the target:"
   ]
  },
  {
   "cell_type": "code",
   "execution_count": 25,
   "id": "1d7cc431-4a9f-474c-a61b-26a943358207",
   "metadata": {},
   "outputs": [],
   "source": [
    "def calculate_difference_logodds_t_target(ed, args):\n",
    "    \"\"\"Calculate log-odds and find difference from target value.\"\"\"\n",
    "    l_t_target = calculate_logodds_t_target(ed, *args[1:])\n",
    "    return np.abs(args[0] - l_t_target)"
   ]
  },
  {
   "cell_type": "code",
   "execution_count": 26,
   "id": "b5aeb9c3-cba0-4b88-97bf-15460685a185",
   "metadata": {},
   "outputs": [
    {
     "data": {
      "text/plain": [
       "       message: Optimization terminated successfully.\n",
       "       success: True\n",
       "        status: 0\n",
       "           fun: 0.00033718804324145424\n",
       "             x: [ 4.003e-02]\n",
       "           nit: 9\n",
       "          nfev: 18\n",
       " final_simplex: (array([[ 4.003e-02],\n",
       "                       [ 4.013e-02]]), array([ 3.372e-04,  3.890e-04]))"
      ]
     },
     "execution_count": 26,
     "metadata": {},
     "output_type": "execute_result"
    }
   ],
   "source": [
    "results = minimize(\n",
    "    calculate_difference_logodds_t_target,  # Result from this func.\n",
    "    0.03,                                   # Initial guess.\n",
    "    args = [l_target, p_pre, p_not, tne, t0, t_target],  # Constants.\n",
    "    method='Nelder-Mead'                    # Good when abs() in func.\n",
    ")\n",
    "\n",
    "# Save the optimized excess deaths value:\n",
    "ed_opt = results.x[0]\n",
    "\n",
    "# View full results:\n",
    "results"
   ]
  },
  {
   "cell_type": "markdown",
   "id": "df2e0cc2-c467-476b-9a4a-714b707d6a3b",
   "metadata": {},
   "source": [
    "Resulting excess deaths value:"
   ]
  },
  {
   "cell_type": "code",
   "execution_count": 27,
   "id": "ba1ef948-8370-44a2-8a9c-40088b8f0906",
   "metadata": {},
   "outputs": [
    {
     "data": {
      "text/plain": [
       "0.040031250000000004"
      ]
     },
     "execution_count": 27,
     "metadata": {},
     "output_type": "execute_result"
    }
   ],
   "source": [
    "ed_opt"
   ]
  },
  {
   "cell_type": "markdown",
   "id": "36004efc-13c2-49b2-8521-63b14a0273e5",
   "metadata": {},
   "source": [
    "Check that this excess death value is sensible by plotting its straight line fit:"
   ]
  },
  {
   "cell_type": "code",
   "execution_count": 28,
   "id": "52a4bf44-a003-46c4-93c3-c64c6304d09e",
   "metadata": {},
   "outputs": [
    {
     "data": {
      "image/png": "[encoded data removed]",
      "text/plain": [
       "<Figure size 640x480 with 1 Axes>"
      ]
     },
     "metadata": {},
     "output_type": "display_data"
    }
   ],
   "source": [
    "fig, ax = plt.subplots()\n",
    "ax.scatter(t_target, l_target, label='Target', marker='x', color='k')\n",
    "\n",
    "for e, ed in enumerate([0.00, ed_opt]):\n",
    "    l_t0, l_tne = calculate_logodds_with_excess_deaths(p_pre, p_not, ed)\n",
    "    ax.plot(\n",
    "        [t0, tne],\n",
    "        [l_t0, l_tne],\n",
    "        label=f'{ed:.2%} excess deaths',\n",
    "        linestyle='-' * (e + 1)\n",
    "    )\n",
    "\n",
    "ax.set_ylabel('log(odds)\\nof \"mRS < 6\"\\ngiven MT', rotation=0)\n",
    "ax.yaxis.set_label_coords(-0.2, 0.5)\n",
    "ax.set_xlabel('Time (hours)')\n",
    "plt.legend()\n",
    "plt.savefig('./images/excess_deaths_mt_fit.png', bbox_inches='tight')\n",
    "plt.show()"
   ]
  },
  {
   "cell_type": "markdown",
   "id": "963de298-d447-4a2f-a78a-0200850c3550",
   "metadata": {},
   "source": [
    "## Resulting excess death rates"
   ]
  },
  {
   "cell_type": "code",
   "execution_count": 29,
   "id": "cd58a579-950c-4c73-a0d1-c7e7b7f13699",
   "metadata": {},
   "outputs": [
    {
     "name": "stdout",
     "output_type": "stream",
     "text": [
      "nLVO with IVT: 1.097%\n",
      "LVO with IVT:  3.406%\n",
      "LVO with MT:   4.003%\n"
     ]
    }
   ],
   "source": [
    "print(f'nLVO with IVT: {excess_deaths_nlvo:.3f}%')\n",
    "print(f'LVO with IVT:  {excess_deaths_lvo:.3f}%')\n",
    "print(f'LVO with MT:   {100.0*ed_opt:.3f}%')"
   ]
  }
 ],
 "metadata": {
  "kernelspec": {
   "display_name": "Python 3 (ipykernel)",
   "language": "python",
   "name": "python3"
  },
  "language_info": {
   "codemirror_mode": {
    "name": "ipython",
    "version": 3
   },
   "file_extension": ".py",
   "mimetype": "text/x-python",
   "name": "python",
   "nbconvert_exporter": "python",
   "pygments_lexer": "ipython3",
   "version": "3.9.16"
  }
 },
 "nbformat": 4,
 "nbformat_minor": 5
}
