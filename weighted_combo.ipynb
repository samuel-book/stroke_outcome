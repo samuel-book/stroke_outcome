{
 "cells": [
  {
   "cell_type": "markdown",
   "id": "bdca2006-6445-459c-9976-39ca0122ae84",
   "metadata": {},
   "source": [
    "# Mathematics for creating a weighted distribution of two probability distributions"
   ]
  },
  {
   "cell_type": "markdown",
   "id": "4f56754c-e203-4757-9d9d-b39c41704b47",
   "metadata": {},
   "source": [
    "Sometimes we want to use a probability distribution of modified Rankin scale (mRS) scores that doesn't exist in the literature. To make the numbers we need, we can create a new distribution by using the weighted sum of two existing distributions. \n",
    "\n",
    "Each distribution adds up to 1, so the sum of two distributions without weights is 2. To ensure our final sum is 1, we could just multiply each distribution by 0.5 before summing them. However, we can't assume that using arbitrary weights of 0.5 and 0.5 will give us a realistic final combined distribution. Usually we will know something about the expected final distribution, for example the probability for one of the mRS bins, that will let us choose sensible weights. \n",
    "\n",
    "This notebook explains how the required weights are determined. "
   ]
  },
  {
   "cell_type": "markdown",
   "id": "a280d164-d955-4615-a87c-1890ed19f314",
   "metadata": {},
   "source": [
    "# Aims"
   ]
  },
  {
   "cell_type": "markdown",
   "id": "574f6cf7-45c7-42c5-bc9f-a246577f2197",
   "metadata": {},
   "source": [
    "In this notebook we'll derive formulae for the two weights and show a few examples of how the weights relate to the starting probabilities."
   ]
  },
  {
   "cell_type": "markdown",
   "id": "16d90808-9206-4027-8197-dfe91e6d861f",
   "metadata": {},
   "source": [
    "---"
   ]
  },
  {
   "cell_type": "markdown",
   "id": "92838418-8784-46e5-b5bb-76bd6ef34a07",
   "metadata": {},
   "source": [
    "## Notebook admin"
   ]
  },
  {
   "cell_type": "code",
   "execution_count": 1,
   "id": "ff13d22c-8183-4d9f-94f1-b2e629e6233d",
   "metadata": {},
   "outputs": [],
   "source": [
    "# Keep notebook cleaner once finalised\n",
    "import warnings\n",
    "warnings.filterwarnings('ignore')"
   ]
  },
  {
   "cell_type": "code",
   "execution_count": 2,
   "id": "fed9011c-36c3-4740-9a1d-e68f0cefc83a",
   "metadata": {},
   "outputs": [],
   "source": [
    "# Import packages\n",
    "import numpy as np\n",
    "import matplotlib.pyplot as plt"
   ]
  },
  {
   "cell_type": "code",
   "execution_count": 3,
   "id": "3a22f1f4-8e04-4973-839f-d94bc8d877dd",
   "metadata": {},
   "outputs": [],
   "source": [
    "# Set up MatPlotLib\n",
    "%matplotlib inline"
   ]
  },
  {
   "cell_type": "markdown",
   "id": "65f3db34-6cb6-485b-9182-505fd98706de",
   "metadata": {},
   "source": [
    "---"
   ]
  },
  {
   "cell_type": "markdown",
   "id": "6d5a72ae-e516-4af3-a112-1f5609cdad7a",
   "metadata": {},
   "source": [
    "## Calculate the weights"
   ]
  },
  {
   "cell_type": "markdown",
   "id": "e057f102-4b9f-4dd7-9139-480406f221f8",
   "metadata": {},
   "source": [
    "To calculate the required weights, only three values are needed: the probability $P(\\mathrm{mRS}\\leq x)$ for a fixed $x$ in three cases. We need this probability $P_1$ for the first distribution, $P_2$ for the second, and $P_c$ as the target probability for the combined distribution. \n",
    "\n",
    "The two probabilities combine using weights $w_1$ and $w_2$:\n",
    "\n",
    "$$ w_1 P_1 + w_2 P_2 = P_c $$ \n",
    "\n",
    "We also know that the weights should sum to 1:\n",
    "\n",
    "$$ w_1 + w_2 = 1 $$\n",
    "\n",
    "This ensures that all mRS bins in the combined distribution will sum to 1. For an example of why this is necessary, $P(\\mathrm{mRS}\\leq 6)=1$ for any distribution, so $P_1=P_2=P_c=1$ and $w_1 \\times 1 + w_2 \\times 1 = 1$."
   ]
  },
  {
   "cell_type": "markdown",
   "id": "bdf61f69-445a-4f23-ba1d-61214cad5901",
   "metadata": {},
   "source": [
    "By setting $w_1 = 1 - w_2$ and substituting into the equation for $P_c$,\n",
    "\n",
    "$$\n",
    "\\begin{align*}\n",
    "(1-w_2)P_1 + w_2 P_2 & = P_c \\\\ \\\\\n",
    "w_2(P_2 - P_1) + P_1 & = P_c \\\\ \\\\\n",
    "w_2 & = \\frac{P_c - P_1}{P_2 - P_1} \\\\\n",
    "\\end{align*}\n",
    "$$\n",
    "\n",
    "The weights must sum to 1 and so we know that \n",
    "\n",
    "$$ w_1 = 1 - \\frac{P_c - P_1}{P_2 - P_1} $$\n",
    "\n",
    "And since we know the values of $P_1$, $P_2$ and $P_c$, we can now calculate the two weights $w_1$ and $w_2$."
   ]
  },
  {
   "cell_type": "markdown",
   "id": "37b5d4fd-08fe-421a-8dee-064ef5d49002",
   "metadata": {},
   "source": [
    "### Example"
   ]
  },
  {
   "cell_type": "markdown",
   "id": "94230feb-33b6-4dd7-91b3-5ae8f8a07fb9",
   "metadata": {},
   "source": [
    "This example uses values for mRS$\\leq$1 from [this notebook](https://github.com/samuel-book/stroke_outcome/blob/main/mRS_datasets_full.ipynb). Taking two known probability distributions, one for LVOs only and the other for both nLVOs and LVOs, we use their weighted combination to find the probability distribution for nLVOs only.\n",
    "\n",
    "For the untreated population of patients with nLVOs, we expect to see $P_c = 0.46$ (Emberson et al. 2014). We know that, including excess deaths, the combined nLVO and LVO probability $P_1 = 0.3417$ (Lees et al. 2010) and the LVO probability $P_2 = 0.1236$ (Goyal et al. 2016). "
   ]
  },
  {
   "cell_type": "code",
   "execution_count": 4,
   "id": "48079bf7-dd4c-49f2-8e13-89d40f78c052",
   "metadata": {},
   "outputs": [],
   "source": [
    "P1 = 0.3417\n",
    "P2 = 0.1236\n",
    "Pc = 0.46"
   ]
  },
  {
   "cell_type": "markdown",
   "id": "2673a127-2e60-4400-8a4e-c1cc309807f4",
   "metadata": {},
   "source": [
    "We can use these to define the weights:"
   ]
  },
  {
   "cell_type": "code",
   "execution_count": 5,
   "id": "b283ae5a-cca4-4dea-8ed0-43aaacf0ecaa",
   "metadata": {},
   "outputs": [],
   "source": [
    "target_diff  = Pc - P1\n",
    "current_diff = P2 - P1\n",
    "\n",
    "w2 = target_diff / current_diff \n",
    "w1 = 1 - w2"
   ]
  },
  {
   "cell_type": "code",
   "execution_count": 6,
   "id": "164b51e1-db69-4332-96d7-d4d5161c31d2",
   "metadata": {},
   "outputs": [
    {
     "name": "stdout",
     "output_type": "stream",
     "text": [
      "Weights: Lees, 1.5424; Goyal, -0.5424\n"
     ]
    }
   ],
   "source": [
    "print(f'Weights: Lees, {w1:.4f}; Goyal, {w2:.4f}')"
   ]
  },
  {
   "cell_type": "markdown",
   "id": "ac7f2b66-e3f8-49a4-b494-a111dbcfd4b4",
   "metadata": {},
   "source": [
    "And to check that this gives the required target value of $P_c=0.46$:"
   ]
  },
  {
   "cell_type": "code",
   "execution_count": 7,
   "id": "0dbc9ae8-9771-4779-8e43-48e8dedbbac0",
   "metadata": {},
   "outputs": [
    {
     "data": {
      "text/plain": [
       "True"
      ]
     },
     "execution_count": 7,
     "metadata": {},
     "output_type": "execute_result"
    }
   ],
   "source": [
    "round(w1*P1 + w2*P2,4) == round(Pc,4)"
   ]
  },
  {
   "cell_type": "markdown",
   "id": "6c142cb9-0da6-48c2-9c6c-039838c6c196",
   "metadata": {},
   "source": [
    "These weights apply to all mRS in the probability distributions, not just to the mRS$\\leq$1 bins that were used in the calculation."
   ]
  },
  {
   "cell_type": "markdown",
   "id": "987427c7-ce40-49f2-a269-865257150098",
   "metadata": {},
   "source": [
    "---"
   ]
  },
  {
   "cell_type": "markdown",
   "id": "17e94f8f-c131-4594-94c4-a62bdb5bef9e",
   "metadata": {},
   "source": [
    "## What do the weights mean?"
   ]
  },
  {
   "cell_type": "markdown",
   "id": "e9159734-8625-4f2e-aa9f-bb80c4da2374",
   "metadata": {},
   "source": [
    "To best explain why these weights work, it is easiest to define $w_1$ similarly to how we found $w_2$. By defining $w_2 = 1 - w_1$ and using the equation for $P_c$,\n",
    "\n",
    "$$\n",
    "\\begin{align*}\n",
    "w_1 P_1 + (1 - w_1) P_2 & = P_c \\\\ \\\\\n",
    "w_1(P_1 - P_2) + P_2 & = P_c \\\\ \\\\\n",
    "w_1 & = \\frac{P_c - P_2}{P_1 - P_2} \\\\\n",
    "\\end{align*}\n",
    "$$"
   ]
  },
  {
   "cell_type": "markdown",
   "id": "fb35c048-a463-48bb-98bc-0823263d0079",
   "metadata": {},
   "source": [
    "Now we'll draw these probabilities on a number line from 0 to 1. "
   ]
  },
  {
   "cell_type": "markdown",
   "id": "44c2fade-155d-4e35-8145-54e159e7fe50",
   "metadata": {},
   "source": [
    "The following function just sets up the number line plot: "
   ]
  },
  {
   "cell_type": "code",
   "execution_count": 8,
   "id": "c0af8d1f-9a73-4857-99cb-e82e16825f1d",
   "metadata": {},
   "outputs": [],
   "source": [
    "def plot_number_line(probs):\n",
    "    ax = plt.subplot()\n",
    "    \n",
    "    # Draw a number line: \n",
    "    ax.plot([0,1],[0,0], color='k')\n",
    "    \n",
    "    # Sort the probabilities and their labels:\n",
    "    inds  = np.argsort(probs)\n",
    "    probs = np.array(probs)[inds]\n",
    "    prob_labels  = np.array([r'$P_1$', r'$P_2$', r'$P_c$'])[inds]\n",
    "    prob_colours = np.array(['r', 'r', 'b'])[inds]\n",
    "    \n",
    "    # Draw vertical markers for probs, including 0 and 1:\n",
    "    labels  = ['0'] + list(prob_labels)  + ['1']\n",
    "    colours = ['k'] + list(prob_colours) + ['k']\n",
    "    for i,prob in enumerate([0]+list(probs)+[1]):\n",
    "        plt.scatter(prob, 0, marker='|', color=colours[i], s=500)\n",
    "        plt.annotate(labels[i], xy=(prob, 0.1), color=colours[i], \n",
    "                     ha='center', fontsize=14) \n",
    "        \n",
    "    # Draw longest arrow and label:\n",
    "    draw_horizontal_arrow(probs[0], probs[-1], y=-0.3, \n",
    "                          label=prob_labels[-1]+r'$-$'+prob_labels[0],\n",
    "                          fontsize=12)\n",
    "    # Draw shorter arrows and labels: \n",
    "    for i in np.arange(len(probs)-1,0,-1):\n",
    "        draw_horizontal_arrow(probs[i], probs[i-1], y=-0.1, \n",
    "                              label=prob_labels[i]+r'$-$'+prob_labels[i-1],\n",
    "                              fontsize=12)\n",
    "    \n",
    "    # Other setup:\n",
    "    ax.set_ylim(-0.45,0.2)\n",
    "    ax.set_aspect(0.7)\n",
    "    ax.axis('off')"
   ]
  },
  {
   "cell_type": "markdown",
   "id": "b0b19da9-fff5-4f2c-adb0-bcf72de92236",
   "metadata": {},
   "source": [
    "And this lets us annotate arrows:"
   ]
  },
  {
   "cell_type": "code",
   "execution_count": 9,
   "id": "5c92958e-bfa2-4a94-95ac-d7a7120e249f",
   "metadata": {},
   "outputs": [],
   "source": [
    "def draw_horizontal_arrow(x_left,x_right,y,label='', fontsize=None):\n",
    "    \"\"\"\n",
    "    Draw an arrow <-> with a label below it.\n",
    "    \n",
    "    x_left, x_right, y - float or int. The coordinates of the arrow.\n",
    "    label              - string. Optional label to add above the arrow.\n",
    "    \"\"\"\n",
    "    # Draw a horizontal arrow between x_left and x_right at height y:\n",
    "    plt.annotate('', xy=(x_left,y), xytext=(x_right,y),\n",
    "                 arrowprops=dict(arrowstyle='<->'))\n",
    "    # and add a label for the arrow:\n",
    "    plt.annotate(label, xy=(0.5*(x_left+x_right),y-0.1), ha='center',\n",
    "                 fontsize=fontsize)"
   ]
  },
  {
   "cell_type": "markdown",
   "id": "ecb31532-6657-4874-a9fc-54c0d99f0b24",
   "metadata": {},
   "source": [
    "For our example values, we draw this number line:"
   ]
  },
  {
   "cell_type": "code",
   "execution_count": 10,
   "id": "e349f1db-733f-42b7-91ed-b643b6029924",
   "metadata": {},
   "outputs": [
    {
     "data": {
      "image/png": "[encoded data removed]",
      "text/plain": [
       "<Figure size 432x288 with 1 Axes>"
      ]
     },
     "metadata": {
      "needs_background": "light"
     },
     "output_type": "display_data"
    }
   ],
   "source": [
    "plot_number_line([P1, P2, Pc])\n",
    "plt.show()"
   ]
  },
  {
   "cell_type": "markdown",
   "id": "cfb1a59c-ff58-47c7-a467-d14dc0e15e1d",
   "metadata": {},
   "source": [
    "There are three distances between the three probabilities: $P_1-P_2$, $P_c-P_1$, and $P_c-P_2$. These can be written as the following sum:\n",
    "\n",
    "$$ (P_1-P_2) + (P_c-P_1) = (P_c-P_2) $$\n",
    "\n",
    "Or, writing the terms in a different order: \n",
    "\n",
    "$$ - (P_c-P_2) + (P_c-P_1)  = -(P_1-P_2) $$\n",
    "\n",
    "Dividing all terms by $-(P_1-P_2)$ gives:\n",
    "\n",
    "$$\n",
    "\\begin{align*}\n",
    "\\frac{-1}{-1}\\left(\\frac{P_c-P_2}{P_1-P_2}\\right) & +  \\frac{P_c-P_1}{-(P_1-P_2)} & = 1 \\\\\n",
    "\\frac{P_c-P_2}{P_1-P_2} & +  \\frac{P_c-P_1}{P_2-P_1} & = 1 \n",
    "\\end{align*}\n",
    "$$\n",
    "\n",
    "or in other words:\n",
    "\n",
    "$$ w_1 + w_2 = 1 $$\n",
    "\n"
   ]
  },
  {
   "cell_type": "markdown",
   "id": "cc296db6-5ffd-4c64-96d3-1c6d31c417e6",
   "metadata": {},
   "source": [
    "So __the weights represent a ratio of the distances of the probabilities $P_1$ and $P_2$ to the target probability $P_c$__. "
   ]
  },
  {
   "cell_type": "markdown",
   "id": "5bd520f9-0abc-495f-8850-339c0a96d1cb",
   "metadata": {},
   "source": [
    "---"
   ]
  },
  {
   "cell_type": "markdown",
   "id": "b329d084-1424-4ce2-bd79-5f6edc4b9d03",
   "metadata": {},
   "source": [
    "## More examples"
   ]
  },
  {
   "cell_type": "markdown",
   "id": "4cff325c-a89e-486e-92a1-536348c19668",
   "metadata": {},
   "source": [
    "__Example 1:__ Let's define some new probabilities where $P_1$ is close to the target $P_c$ and $P_2$ is far away."
   ]
  },
  {
   "cell_type": "code",
   "execution_count": 11,
   "id": "be3a24f8-1338-4ce4-856b-03277f883c97",
   "metadata": {},
   "outputs": [],
   "source": [
    "P1 = 0.8; P2 = 0.1; Pc = 0.9\n",
    "\n",
    "w2 = (Pc - P1) / (P2 - P1) \n",
    "w1 = 1 - w2"
   ]
  },
  {
   "cell_type": "markdown",
   "id": "cffcdb34-23be-41d0-b61a-093218fc0397",
   "metadata": {},
   "source": [
    "Print the weights:"
   ]
  },
  {
   "cell_type": "code",
   "execution_count": 12,
   "id": "de8f5a89-0f6c-4383-ac95-ac9a64011858",
   "metadata": {},
   "outputs": [
    {
     "name": "stdout",
     "output_type": "stream",
     "text": [
      "Weights: dist. 1, 1.1429; dist. 2, -0.1429\n"
     ]
    }
   ],
   "source": [
    "print(f'Weights: dist. 1, {w1:.4f}; dist. 2, {w2:.4f}')"
   ]
  },
  {
   "cell_type": "markdown",
   "id": "f546bc55-1c5e-4f75-bcd2-ac3166ec260b",
   "metadata": {},
   "source": [
    "Check the weighted sum equals $P_c$:"
   ]
  },
  {
   "cell_type": "code",
   "execution_count": 13,
   "id": "23aa3116-c2be-4c32-b871-a9f8c096d8b1",
   "metadata": {},
   "outputs": [
    {
     "data": {
      "text/plain": [
       "True"
      ]
     },
     "execution_count": 13,
     "metadata": {},
     "output_type": "execute_result"
    }
   ],
   "source": [
    "w1*P1 + w2*P2 == Pc"
   ]
  },
  {
   "cell_type": "code",
   "execution_count": 14,
   "id": "c57512d6-e93c-406a-8a76-c520b7e9817b",
   "metadata": {},
   "outputs": [
    {
     "data": {
      "image/png": "[encoded data removed]",
      "text/plain": [
       "<Figure size 432x288 with 1 Axes>"
      ]
     },
     "metadata": {
      "needs_background": "light"
     },
     "output_type": "display_data"
    }
   ],
   "source": [
    "plot_number_line([P1, P2, Pc])\n",
    "plt.show()"
   ]
  },
  {
   "cell_type": "markdown",
   "id": "eab2970c-4384-42dc-aaae-d032885bdc13",
   "metadata": {},
   "source": [
    "Because $P_2$ is far from $P_c$, the difference $P_c-P_2$ is large and so $w_1$ is large. Similarly, $P_1$ is close to $P_c$ so the difference $P_c-P_1$ is small and $w_2$ is small. The combined distribution uses mostly the $P_1$ value with only a tiny contribution from $P_2$."
   ]
  },
  {
   "cell_type": "markdown",
   "id": "e7b1ffa5-6f25-4fb8-87ff-f58d80fe7a6a",
   "metadata": {},
   "source": [
    "The explanations above were given for cases where $P_2<P_1<P_c$, but the same sum works in all cases. "
   ]
  },
  {
   "cell_type": "markdown",
   "id": "e31a3f70-4720-43cf-9348-8dbbb4c7ed01",
   "metadata": {},
   "source": [
    "__Example 2:__ $P_2<P_c<P_1$"
   ]
  },
  {
   "cell_type": "code",
   "execution_count": 15,
   "id": "8b0293e5-765e-4e2b-b71b-e7577604f439",
   "metadata": {},
   "outputs": [],
   "source": [
    "P1 = 0.8; P2 = 0.4; Pc = 0.5\n",
    "\n",
    "w2 = (Pc - P1) / (P2 - P1) \n",
    "w1 = 1 - w2"
   ]
  },
  {
   "cell_type": "code",
   "execution_count": 16,
   "id": "ccc04214-dc6e-4def-af7a-f925dec33dff",
   "metadata": {},
   "outputs": [
    {
     "name": "stdout",
     "output_type": "stream",
     "text": [
      "Weights: dist. 1, 0.2500; dist. 2, 0.7500\n"
     ]
    }
   ],
   "source": [
    "print(f'Weights: dist. 1, {w1:.4f}; dist. 2, {w2:.4f}')"
   ]
  },
  {
   "cell_type": "code",
   "execution_count": 17,
   "id": "d029fff2-afea-4fef-b441-2fa87dad387c",
   "metadata": {},
   "outputs": [
    {
     "data": {
      "text/plain": [
       "True"
      ]
     },
     "execution_count": 17,
     "metadata": {},
     "output_type": "execute_result"
    }
   ],
   "source": [
    "w1*P1 + w2*P2 == Pc"
   ]
  },
  {
   "cell_type": "code",
   "execution_count": 18,
   "id": "c44f2a3f-a694-41b2-b7c1-c5673da9a36b",
   "metadata": {},
   "outputs": [
    {
     "data": {
      "image/png": "[encoded data removed]",
      "text/plain": [
       "<Figure size 432x288 with 1 Axes>"
      ]
     },
     "metadata": {
      "needs_background": "light"
     },
     "output_type": "display_data"
    }
   ],
   "source": [
    "plot_number_line([P1, P2, Pc])\n",
    "plt.show()"
   ]
  },
  {
   "cell_type": "markdown",
   "id": "89124a29-c284-4f09-8774-219cfcbf188a",
   "metadata": {},
   "source": [
    "In this case, both of the weights are positive numbers between 0 and 1. "
   ]
  },
  {
   "cell_type": "markdown",
   "id": "8551c0fb-eeab-4b4f-86e9-8ef3495874f3",
   "metadata": {},
   "source": [
    "Rewriting the weights sum:\n",
    "\n",
    "$$\n",
    "\\begin{align*}\n",
    "(P_c-P_2) & + (P_1-P_c) & = & (P_1-P_2) \\\\ \\\\\n",
    "\\frac{P_c-P_2}{P_1-P_2} & +  \\frac{-1}{-1}\\left(\\frac{P_1-P_c}{P_1-P_2}\\right) & = & 1 \\\\ \\\\\n",
    "\\frac{P_c-P_2}{P_1-P_2} & +  \\frac{P_c-P_1}{P_2-P_1} & = & 1 \\\\ \\\\\n",
    "w_1 & + w_2 & = & 1 \n",
    "\\end{align*}\n",
    "$$"
   ]
  },
  {
   "cell_type": "markdown",
   "id": "5ab0b9e9-d28d-41a8-86f1-f09df2da40c6",
   "metadata": {},
   "source": [
    "__Example 3:__ $P_c<P_1<P_2$"
   ]
  },
  {
   "cell_type": "code",
   "execution_count": 19,
   "id": "c36bac59-dcc0-4ea0-8bb6-3bd8d0d1b4c2",
   "metadata": {},
   "outputs": [],
   "source": [
    "P1 = 0.5; P2 = 0.8; Pc = 0.4\n",
    "\n",
    "w2 = (Pc - P1) / (P2 - P1) \n",
    "w1 = 1 - w2"
   ]
  },
  {
   "cell_type": "code",
   "execution_count": 20,
   "id": "d28dc49f-7875-42f0-b2b7-e569f6721b4e",
   "metadata": {},
   "outputs": [
    {
     "name": "stdout",
     "output_type": "stream",
     "text": [
      "Weights: dist. 1, 1.3333; dist. 2, -0.3333\n"
     ]
    }
   ],
   "source": [
    "print(f'Weights: dist. 1, {w1:.4f}; dist. 2, {w2:.4f}')"
   ]
  },
  {
   "cell_type": "code",
   "execution_count": 21,
   "id": "806b65c3-70fc-43a6-8221-0104550d7e21",
   "metadata": {},
   "outputs": [
    {
     "data": {
      "text/plain": [
       "False"
      ]
     },
     "execution_count": 21,
     "metadata": {},
     "output_type": "execute_result"
    }
   ],
   "source": [
    "w1*P1 + w2*P2 == Pc"
   ]
  },
  {
   "cell_type": "code",
   "execution_count": 22,
   "id": "4b11e77e-20f3-4adc-98a4-fa6d765f677a",
   "metadata": {},
   "outputs": [
    {
     "data": {
      "image/png": "[encoded data removed]",
      "text/plain": [
       "<Figure size 432x288 with 1 Axes>"
      ]
     },
     "metadata": {
      "needs_background": "light"
     },
     "output_type": "display_data"
    }
   ],
   "source": [
    "plot_number_line([P1, P2, Pc])\n",
    "plt.show()"
   ]
  },
  {
   "cell_type": "markdown",
   "id": "3b66e409-f24d-421a-8703-cadbdd920bda",
   "metadata": {},
   "source": [
    "Rewriting the weights sum:\n",
    "\n",
    "$$\n",
    "\\begin{align*}\n",
    "(P_1-P_c) & + (P_2-P_1) & = & (P_2-P_c) \\\\ \\\\\n",
    "- (P_2-P_c) & + (P_1-P_c) & = & -(P_2-P_1) \\\\ \\\\ \n",
    "\\frac{P_2-P_c}{P_2-P_1} & + \\frac{P_1-P_c}{-(P_2-P_1)} & = & 1 \\\\ \\\\\n",
    "\\frac{P_2-P_c}{P_2-P_1}  & + \\frac{-1}{-1}\\left(\\frac{P_c-P_1}{P_2-P_1}\\right)  & = & 1 \\\\ \\\\\n",
    "w_1 & + w_2 & = & 1 \n",
    "\\end{align*}\n",
    "$$"
   ]
  },
  {
   "cell_type": "markdown",
   "id": "2dc37b0f-5efa-42b6-9c6a-45de4cec52c2",
   "metadata": {},
   "source": [
    "---"
   ]
  },
  {
   "cell_type": "markdown",
   "id": "a81341b5-8127-425a-a71e-6164a13d4f27",
   "metadata": {},
   "source": [
    "## Sign of the weights"
   ]
  },
  {
   "cell_type": "markdown",
   "id": "17a9c243-1f6c-4c77-8145-9c1d34c1499a",
   "metadata": {},
   "source": [
    "Sometimes the weights are positive and sometimes they're negative. In all cases, the weights sum to 1. \n",
    "\n",
    "The sign can be predicted by looking at the form of $w_1$ and $w_2$:\n",
    "\n",
    "$$ w_1 = \\frac{P_c - P_2}{P_1 - P_2} $$\n",
    "\n",
    "\n",
    "$$ w_2 = \\frac{P_c - P_1}{P_2 - P_1} $$\n",
    "\n",
    "Whether each weight is negative or positive depends on the size order of $P_1$, $P_2$, and $P_c$, and whether that makes each difference in the fraction positive or negative. "
   ]
  },
  {
   "cell_type": "markdown",
   "id": "a00d2076-3725-4d5a-8123-d951567a3cd9",
   "metadata": {},
   "source": [
    "---"
   ]
  },
  {
   "cell_type": "markdown",
   "id": "c8a10a99-5e68-467a-b326-86c6433610ae",
   "metadata": {},
   "source": [
    "## References"
   ]
  },
  {
   "cell_type": "markdown",
   "id": "6a1ba1b0-72e0-47a4-82be-1e64773943e7",
   "metadata": {},
   "source": [
    "Emberson J, Lees KR, Lyden P, et al. _Effect of treatment delay, age, and stroke severity on the effects of intravenous thrombolysis with alteplase for acute ischaemic stroke: A meta-analysis of individual patient data from randomised trials_. The Lancet 2014;384:1929–35. doi:10.1016/S0140-6736(14)60584-5\n",
    "\n",
    "\n",
    "Goyal M, Menon BK, van Zwam WH, et al. _Endovascular thrombectomy after large-vessel ischaemic stroke: a meta-analysis of individual patient data from five randomised trials._ The Lancet 2016;387:1723-1731. doi:10.1016/S0140-6736(16)00163-X\n",
    "\n",
    "\n",
    "Lees KR, Bluhmki E, von Kummer R, et al. _Time to treatment with intravenous alteplase and outcome in stroke: an updated pooled analysis of ECASS, ATLANTIS, NINDS, and EPITHET trials_. The Lancet 2010;375:1695-703. doi:10.1016/S0140-6736(10)60491-6\n"
   ]
  }
 ],
 "metadata": {
  "kernelspec": {
   "display_name": "Python 3 (ipykernel)",
   "language": "python",
   "name": "python3"
  },
  "language_info": {
   "codemirror_mode": {
    "name": "ipython",
    "version": 3
   },
   "file_extension": ".py",
   "mimetype": "text/x-python",
   "name": "python",
   "nbconvert_exporter": "python",
   "pygments_lexer": "ipython3",
   "version": "3.8.13"
  }
 },
 "nbformat": 4,
 "nbformat_minor": 5
}
