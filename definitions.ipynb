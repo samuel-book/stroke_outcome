{
 "cells": [
  {
   "cell_type": "markdown",
   "id": "cd520d6c-f831-40c8-af96-66f74ccface0",
   "metadata": {
    "pycharm": {
     "name": "#%% md\n"
    }
   },
   "source": [
    "# Define probability and odds\n",
    "\n",
    "All of the quantities we will define are only valid in the time range covered by our data, which is $0\\leq t \\leq t_{\\mathrm{ne}}$ for the no-effect time $t_{\\mathrm{ne}}$.\n",
    "\n",
    "## Probability\n",
    "\n",
    "Firstly we will define some probability distributions in terms of $x$, which is a given modified Rankin Scale (mRS), and $t$, the time from onset to treatment.\n",
    "\n",
    "+ $P(\\mathrm{mRS}=x\\ |\\ t)$, the probability distribution of mRS.\n",
    "+ $P(\\mathrm{mRS}\\leq x\\ |\\ t)$, the cumulative probability.\n",
    "\n",
    "In all cases, we know that:\n",
    "+ The probabilities of a condition being met and it not being met sum to 1: $ P(\\mathrm{mRS}>x\\ |\\ t) = 1 - P(\\mathrm{mRS}\\leq x\\ |\\ t) $\n",
    "+ The probability of mRS$\\leq6$ is always equal to 1: $P(\\mathrm{mRS}\\leq6\\ |\\ t)=1$ at all $t$. \n",
    "\n",
    "## Odds\n",
    "\n",
    "The odds are an alternative way of expressing the likeliness of an event occurring. Odds are expressed in terms of how much more (or less) likely it is that a given outcome will be attained rather than any other outcomes.\n",
    "\n",
    "+ $\\mathrm{odds} =  \\frac{\\mathrm{probability\\ of\\ this\\ outcome}}{\\mathrm{probability\\ of\\ other\\ outcomes}} \\phantom{g} \\mathrm{(single\\ patient)}  \\phantom{gap} =  \\frac{\\mathrm{number\\ of\\ this\\ outcome}}{\\mathrm{number\\ of\\ other\\ outcomes}} \\phantom{g} \\mathrm{(group\\ of\\ patients)}$\n",
    "\n",
    "+ $O(\\mathrm{mRS}\\leq x\\ |\\ t) = \\frac{P(\\mathrm{mRS}\\leq x\\ |\\ t)}{P(\\mathrm{mRS}>x\\ |\\ t)}$\n",
    "\n",
    "Special cases:\n",
    "+ When only half of the outcomes are good, i.e. probability=0.5, then odds=1 and log(odds)=0. \n",
    "+ Odds and log(odds) for $\\mathrm{mRS}\\leq6$ are not defined for any $t$. This is because $P(\\mathrm{mRS}\\leq6)=1.0$ at all times, and so:\n",
    "$$O(\\mathrm{mRS}\\leq6) = \\frac{P(\\mathrm{mRS}\\leq6)}{1-P(\\mathrm{mRS}\\leq6)} = \\frac{1}{0}$$\n",
    "\n",
    "Here we will calculate odds directly from probabilities, and so the odds will be given as non-integer positive numbers rather than fractions. \n",
    "\n",
    "We will also consider the natural log of odds, i.e. $\\log_{e}(\\mathrm{odds})$. __Whenever this notebook says \"log\", it means natural log (base $e$).__"
   ]
  }
 ],
 "metadata": {
  "kernelspec": {
   "display_name": "Python 3 (ipykernel)",
   "language": "python",
   "name": "python3"
  },
  "language_info": {
   "codemirror_mode": {
    "name": "ipython",
    "version": 3
   },
   "file_extension": ".py",
   "mimetype": "text/x-python",
   "name": "python",
   "nbconvert_exporter": "python",
   "pygments_lexer": "ipython3",
   "version": "3.9.16"
  }
 },
 "nbformat": 4,
 "nbformat_minor": 5
}
