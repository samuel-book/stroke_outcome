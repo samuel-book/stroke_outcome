{
 "cells": [
  {
   "attachments": {},
   "cell_type": "markdown",
   "id": "b1503849-80f0-4052-a142-6cd64c70fb6e",
   "metadata": {},
   "source": [
    "# Calculate distance-based treatment effects for many cohorts\n",
    "\n",
    "In this notebook we create a generic geography of an acute stroke unit and a thrombectomy centre, calculate the travel times for any point on the map to either stroke unit, and then calculate outcomes using times to treatment based on those travel times. This shows the general effects of geography on the outcomes of patients.\n",
    "\n",
    "This notebook expands on the simple example in [the previous document](05_geography.ipynb) by calculating outcomes for more cohorts of patients and combining the results. Have a look at that document for a more step-by-step walkthrough and some plots of the data as it goes along.\n",
    "\n",
    "This notebook calculates the outcomes and [the following notebook](05c_geography_outcomes_plots.ipynb) creates plots of the results. \n",
    "\n",
    "## Plain English summary\n",
    "\n",
    "This notebook adds to the content in the previous notebook.\n",
    "\n",
    "The extra material here is to calculate the outcomes for different combinations of stroke types and treatments.\n",
    "\n",
    "## Aims\n",
    "\n",
    "Calculate drip-and-ship and mothership outcomes for the usual cohorts:\n",
    "+ nLVO with IVT\n",
    "+ LVO with IVT only\n",
    "+ LVO with MT only\n",
    "+ LVO with both IVT and MT\n",
    "\n",
    "## Method\n",
    "\n",
    "This example uses the same [patient population and fixed times](01b_population.ipynb) as the England and Wales examples.\n",
    "\n",
    "We create a square grid containing an acute stroke unit and a thrombectomy centre. There is a fixed 60 minute travel time between the IVT and MT centres. Otherwise the travel times to the IVT and MT centres depend on the starting point on the grid.\n",
    "\n",
    "These variable travel times are added to a selection of fixed times to build up total times from stroke onset to treatment for any point on the grid. The variation in time to treatment around a grid is due only to the travel time differences - all other fixed times are the same.\n",
    "\n",
    "The treatment time grids are then used to calculate outcomes for any point on the grid. The outcomes calculated depend on the stroke type and the treatment given.\n",
    "\n",
    "Here we calculate the difference in outcome measures for three cohorts:\n",
    "+ nLVO treated with IVT.\n",
    "+ a mix of LVO treated with IVT only, with MT only, and with both IVT and MT.\n",
    "+ a mixed population (49.6% nLVO with IVT, 50.4% LVO with mixed treatments).\n",
    "\n",
    "The concept of comparing grids of generic geography in this way is based on the figures from Holodinsky et al. 2017 - \"Drip and Ship Versus Direct to Comprehensive Stroke Center\".\n",
    "\n",
    "\n",
    "## Notebook admin"
   ]
  },
  {
   "cell_type": "code",
   "execution_count": 1,
   "id": "13b3ff6c-c5f8-4b0c-9085-5fa251222c83",
   "metadata": {},
   "outputs": [],
   "source": [
    "# Import packages\n",
    "import numpy as np\n",
    "import pandas as pd\n",
    "import copy\n",
    "# For keeping track of files:\n",
    "import os\n",
    "from dataclasses import dataclass\n",
    "\n",
    "# Custom packages:\n",
    "from stroke_outcome.continuous_outcome import Continuous_outcome"
   ]
  },
  {
   "cell_type": "code",
   "execution_count": 5,
   "id": "735283be-16d7-4ede-82c1-c9bf186e8505",
   "metadata": {},
   "outputs": [],
   "source": [
    "# Set up MatPlotLib\n",
    "%matplotlib inline"
   ]
  },
  {
   "cell_type": "code",
   "execution_count": 6,
   "id": "38dd8b9d",
   "metadata": {
    "pycharm": {
     "name": "#%%\n"
    }
   },
   "outputs": [],
   "source": [
    "# Keep notebook cleaner once finalised\n",
    "import warnings\n",
    "warnings.filterwarnings('ignore')"
   ]
  },
  {
   "cell_type": "code",
   "execution_count": 2,
   "id": "6402bba3-6d8e-4017-9f07-91ad345f4a23",
   "metadata": {},
   "outputs": [],
   "source": [
    "# Define file paths\n",
    "@dataclass(frozen=True)\n",
    "class Paths:\n",
    "    '''Singleton object for storing paths to data and database.'''\n",
    "\n",
    "    dir_output = 'output'\n",
    "    file_grid_ivt = 'generic_geography_grid_time_travel_directly_to_ivt.csv'\n",
    "    file_grid_diff = 'generic_geography_grid_time_travel_directly_diff.csv'\n",
    "    file_grid_dict = 'generic_geography_dict_travel_grid.csv'\n",
    "    file_outcomes_nlvo = 'generic_geography_df_nlvo_ivt_diff.csv'\n",
    "    file_outcomes_lvo = 'generic_geography_df_lvo_diff.csv'\n",
    "    file_outcomes_mix = 'generic_geography_df_mixed_diff.csv'\n",
    "\n",
    "paths = Paths()"
   ]
  },
  {
   "cell_type": "markdown",
   "id": "86f64389-9431-40eb-9779-3a6725f33d6a",
   "metadata": {},
   "source": [
    "## Import data\n",
    "\n",
    "### Pathway times"
   ]
  },
  {
   "cell_type": "code",
   "execution_count": 7,
   "id": "0140b69d-2a88-43f9-bb80-46e47121ef78",
   "metadata": {},
   "outputs": [],
   "source": [
    "fixed_times = pd.read_csv(\n",
    "    os.path.join('..', 'england_wales', 'output', 'pathway_times.csv'),\n",
    "    index_col=0, header=None).squeeze()"
   ]
  },
  {
   "cell_type": "markdown",
   "id": "4164b86b-ff70-4569-a198-49aa940d5a21",
   "metadata": {},
   "source": [
    "Add an extra fixed time that is specific to this generic geography example. The time between the nearest IVT unit and the nearest MT unit is 60 minutes:"
   ]
  },
  {
   "cell_type": "code",
   "execution_count": 8,
   "id": "04fb1bf4-459c-4095-a9db-78a8b9902f4e",
   "metadata": {},
   "outputs": [],
   "source": [
    "fixed_times['travel_ivt_to_mt'] = 60"
   ]
  },
  {
   "cell_type": "markdown",
   "id": "c1373b1a-57ed-49fc-8df0-6abfac2f5348",
   "metadata": {},
   "source": [
    "View the time assumptions:"
   ]
  },
  {
   "cell_type": "code",
   "execution_count": 9,
   "id": "9f71b15b-d4ac-48dd-b265-335591fc1aff",
   "metadata": {},
   "outputs": [
    {
     "data": {
      "text/plain": [
       "0\n",
       "onset_to_ambulance_arrival                  60\n",
       "arrival_to_ivt                              30\n",
       "arrival_to_mt                               90\n",
       "net_operational_delay_to_mt_for_transfer    60\n",
       "travel_ivt_to_mt                            60\n",
       "Name: 1, dtype: int64"
      ]
     },
     "execution_count": 9,
     "metadata": {},
     "output_type": "execute_result"
    }
   ],
   "source": [
    "fixed_times"
   ]
  },
  {
   "cell_type": "markdown",
   "id": "c657fa32-3395-4689-bfe4-4b37df6c0c4c",
   "metadata": {},
   "source": [
    "### Patient proportions"
   ]
  },
  {
   "cell_type": "code",
   "execution_count": 10,
   "id": "f15da9c8-7b90-4e1e-8e8f-2caac6db2aad",
   "metadata": {},
   "outputs": [],
   "source": [
    "patient_proportions = pd.read_csv(\n",
    "    os.path.join('..', 'england_wales', 'output', 'patient_proportions.csv'),\n",
    "    index_col=0, header=None).squeeze()"
   ]
  },
  {
   "cell_type": "code",
   "execution_count": 11,
   "id": "08a50d2d-69f2-49fe-8a06-e22affdc4190",
   "metadata": {},
   "outputs": [
    {
     "data": {
      "text/plain": [
       "0\n",
       "haemorrhagic         0.13600\n",
       "lvo_no_treatment     0.14648\n",
       "lvo_ivt_only         0.00840\n",
       "lvo_ivt_mt           0.08500\n",
       "lvo_mt_only          0.01500\n",
       "nlvo_no_treatment    0.50252\n",
       "nlvo_ivt             0.10660\n",
       "Name: 1, dtype: float64"
      ]
     },
     "execution_count": 11,
     "metadata": {},
     "output_type": "execute_result"
    }
   ],
   "source": [
    "patient_proportions"
   ]
  },
  {
   "cell_type": "markdown",
   "id": "cb872466-96ef-4c65-83ca-e0704e47d0c7",
   "metadata": {},
   "source": [
    "Calculate some additional proportions:"
   ]
  },
  {
   "cell_type": "code",
   "execution_count": 12,
   "id": "ac896a4c-fe95-4244-b997-f3833602ba88",
   "metadata": {},
   "outputs": [
    {
     "data": {
      "text/plain": [
       "0.10840000000000001"
      ]
     },
     "execution_count": 12,
     "metadata": {},
     "output_type": "execute_result"
    }
   ],
   "source": [
    "# Proportion of treated LVO patients:\n",
    "prop_lvo_treated = 0.0\n",
    "\n",
    "for key, value in patient_proportions.items():\n",
    "    if (('lvo' in key) & ('nlvo' not in key) & ('no_treat' not in key)):\n",
    "        prop_lvo_treated += value\n",
    "\n",
    "prop_lvo_treated"
   ]
  },
  {
   "cell_type": "code",
   "execution_count": 13,
   "id": "7d70ce47-77e4-4aed-b642-ddda5a09f234",
   "metadata": {},
   "outputs": [
    {
     "data": {
      "text/plain": [
       "0.21500000000000002"
      ]
     },
     "execution_count": 13,
     "metadata": {},
     "output_type": "execute_result"
    }
   ],
   "source": [
    "# Proportion of treated ischaemic patients:\n",
    "prop_ischaemic_treated = 0.0\n",
    "\n",
    "for key, value in patient_proportions.items():\n",
    "    if (('lvo' in key) & ('no_treat' not in key)):\n",
    "        prop_ischaemic_treated += value\n",
    "\n",
    "prop_ischaemic_treated"
   ]
  },
  {
   "cell_type": "code",
   "execution_count": 14,
   "id": "e373b565-5bae-4f62-9d42-1ff8d7707744",
   "metadata": {},
   "outputs": [
    {
     "data": {
      "text/plain": [
       "0.864"
      ]
     },
     "execution_count": 14,
     "metadata": {},
     "output_type": "execute_result"
    }
   ],
   "source": [
    "# Proportion of ischaemic patients:\n",
    "prop_ischaemic = 1.0 - patient_proportions['haemorrhagic']\n",
    "\n",
    "prop_ischaemic"
   ]
  },
  {
   "cell_type": "code",
   "execution_count": 15,
   "id": "bcec2d52-b1a9-4526-b99f-2df60008a686",
   "metadata": {},
   "outputs": [
    {
     "data": {
      "text/plain": [
       "(0.49581395348837204, 0.5041860465116279)"
      ]
     },
     "execution_count": 15,
     "metadata": {},
     "output_type": "execute_result"
    }
   ],
   "source": [
    "prop_nlvo_of_treated = patient_proportions['nlvo_ivt'] / prop_ischaemic_treated\n",
    "prop_lvo_of_treated = 1.0 - prop_nlvo_of_treated\n",
    "\n",
    "prop_nlvo_of_treated, prop_lvo_of_treated"
   ]
  },
  {
   "attachments": {},
   "cell_type": "markdown",
   "id": "ddfe3c4d-81f2-457d-bfe4-da00e85d8c76",
   "metadata": {},
   "source": [
    "## Define travel time grids\n",
    "\n",
    "For each point on a grid, find the travel time to a given coordinate (one of the treatment centres).\n",
    "\n",
    "The treatment centres are located at the following coordinates:\n",
    "\n",
    "| Centre | x | y |\n",
    "| --- | --- | --- |\n",
    "| IVT | 0 | 0 |\n",
    "| IVT/MT | 0 | -60 |\n",
    "\n",
    "Keep a copy of the useful parameters in a dictionary that can be saved and reloaded for future use."
   ]
  },
  {
   "cell_type": "code",
   "execution_count": 53,
   "id": "a46c4c47-05e6-4e17-af0f-69cb60a854be",
   "metadata": {},
   "outputs": [],
   "source": [
    "dict_travel_grid = dict(\n",
    "    ivt_x = 0,\n",
    "    ivt_y = 0,\n",
    "    mt_x = 0,\n",
    "    mt_y = -fixed_times['travel_ivt_to_mt'],\n",
    "    travel_ivt_to_mt = fixed_times['travel_ivt_to_mt'],\n",
    "    # Only calculate travel times up to this x or y displacement:\n",
    "    time_travel_max = 60,\n",
    "    # Change how granular the grid is. \n",
    "    grid_step = 1, # minutes\n",
    ")\n",
    "\n",
    "# Make the grid a bit larger than the max travel time: \n",
    "dict_travel_grid['grid_xy_max'] = dict_travel_grid['time_travel_max'] + dict_travel_grid['grid_step'] * 2"
   ]
  },
  {
   "cell_type": "markdown",
   "id": "c64099e6-7007-4b33-8713-07fa2ac46f48",
   "metadata": {},
   "source": [
    "Define a helper function to build the time grid:"
   ]
  },
  {
   "cell_type": "code",
   "execution_count": 18,
   "id": "1cf901bf-642e-4bb6-9f62-778870bec2fb",
   "metadata": {},
   "outputs": [],
   "source": [
    "def make_time_grid(\n",
    "        xy_max,\n",
    "        step,\n",
    "        x_offset=0,\n",
    "        y_offset=0\n",
    "    ):\n",
    "    # Times for each row....\n",
    "    x_times = np.arange(-xy_max, xy_max + step, step) - x_offset\n",
    "    # ... and each column.\n",
    "    y_times = np.arange(-xy_max, xy_max + step, step) - y_offset\n",
    "    # The offsets shift the position of (0,0) from the grid centre \n",
    "    # to (x_offset, y_offset). Distances will be calculated from the\n",
    "    # latter point. \n",
    "\n",
    "    # Mesh to create new grids by stacking rows (xx) and columns (yy):\n",
    "    xx, yy = np.meshgrid(x_times, y_times)\n",
    "\n",
    "    # Then combine the two temporary grids to find distances: \n",
    "    radial_times = np.sqrt(xx**2.0 + yy**2.0)\n",
    "    return radial_times"
   ]
  },
  {
   "cell_type": "markdown",
   "id": "6628264a-cd81-413d-ae21-5791df829e7f",
   "metadata": {},
   "source": [
    "Build the grids:"
   ]
  },
  {
   "cell_type": "code",
   "execution_count": 19,
   "id": "cb49c981-1f57-4f01-a9b6-a707df5d305e",
   "metadata": {},
   "outputs": [],
   "source": [
    "grid_time_travel_directly_to_ivt = make_time_grid(\n",
    "    dict_travel_grid['grid_xy_max'],\n",
    "    dict_travel_grid['grid_step'],\n",
    "    x_offset=dict_travel_grid['ivt_x'],\n",
    "    y_offset=dict_travel_grid['ivt_y']\n",
    ")"
   ]
  },
  {
   "cell_type": "code",
   "execution_count": 20,
   "id": "f252c576-8b7a-4b49-bd7e-81df76836831",
   "metadata": {},
   "outputs": [],
   "source": [
    "grid_time_travel_directly_to_mt = make_time_grid(\n",
    "    dict_travel_grid['grid_xy_max'],\n",
    "    dict_travel_grid['grid_step'],\n",
    "    x_offset=dict_travel_grid['mt_x'],\n",
    "    y_offset=dict_travel_grid['mt_y']\n",
    ")"
   ]
  },
  {
   "cell_type": "code",
   "execution_count": 21,
   "id": "1651a60a-43e2-4592-ad3e-0e35f8804dee",
   "metadata": {},
   "outputs": [],
   "source": [
    "grid_time_travel_directly_diff = (\n",
    "    grid_time_travel_directly_to_ivt - grid_time_travel_directly_to_mt)"
   ]
  },
  {
   "cell_type": "markdown",
   "id": "c4d0997d-50bc-4cdd-b228-9ffc09e4a59a",
   "metadata": {},
   "source": [
    "Round the times to three decimal places (should be plenty):"
   ]
  },
  {
   "cell_type": "code",
   "execution_count": 22,
   "id": "c34ed36d-05aa-4949-af8a-7123b64e97bf",
   "metadata": {},
   "outputs": [],
   "source": [
    "grid_time_travel_directly_to_ivt = np.round(grid_time_travel_directly_to_ivt, 3)\n",
    "grid_time_travel_directly_to_mt = np.round(grid_time_travel_directly_to_mt, 3)\n",
    "grid_time_travel_directly_diff = np.round(grid_time_travel_directly_diff, 3)"
   ]
  },
  {
   "attachments": {},
   "cell_type": "markdown",
   "id": "45504e22-9daf-4466-9e37-abb73b9b1bc1",
   "metadata": {},
   "source": [
    "## Create outcome model inputs\n",
    "\n",
    "Calculate the fixed times to treatment _excluding_ the travel from the patient location to the first stroke unit."
   ]
  },
  {
   "cell_type": "code",
   "execution_count": 23,
   "id": "1bb72117-8d43-4423-864a-734b7adb30f9",
   "metadata": {},
   "outputs": [],
   "source": [
    "import pandas as pd\n",
    "import os"
   ]
  },
  {
   "cell_type": "code",
   "execution_count": 24,
   "id": "83c13247-653e-48d5-9ae9-d106cf6819ca",
   "metadata": {},
   "outputs": [],
   "source": [
    "treatment_time_dict = {\n",
    "    'usual_care': {},\n",
    "    'mothership': {}\n",
    "}"
   ]
  },
  {
   "cell_type": "markdown",
   "id": "ba518009-e08b-46e4-83c7-1d03f1985679",
   "metadata": {},
   "source": [
    "Times for usual care (the patient goes to their nearest stroke unit and is later transferred to the MT unit if necessary):"
   ]
  },
  {
   "cell_type": "code",
   "execution_count": 25,
   "id": "af096942-aa0a-4260-8bff-441c93c9ec45",
   "metadata": {},
   "outputs": [],
   "source": [
    "treatment_time_dict['usual_care']['ivt'] = (\n",
    "    fixed_times['onset_to_ambulance_arrival'] + \n",
    "    fixed_times['arrival_to_ivt']\n",
    "    )"
   ]
  },
  {
   "cell_type": "code",
   "execution_count": 26,
   "id": "a36e439e-d2e9-4ef7-859f-a6ee3ef0aa6b",
   "metadata": {},
   "outputs": [],
   "source": [
    "treatment_time_dict['usual_care']['mt'] = (\n",
    "    fixed_times['onset_to_ambulance_arrival'] + \n",
    "    fixed_times['arrival_to_ivt'] + \n",
    "    fixed_times['net_operational_delay_to_mt_for_transfer'] + \n",
    "    fixed_times['travel_ivt_to_mt'] + \n",
    "    fixed_times['arrival_to_mt']\n",
    "    )"
   ]
  },
  {
   "cell_type": "markdown",
   "id": "3c5a8f08-810e-4361-b331-d2ea63de7a45",
   "metadata": {},
   "source": [
    "Times for mothership (the patient goes directly to the MT unit):"
   ]
  },
  {
   "cell_type": "code",
   "execution_count": 27,
   "id": "da49259c-3e5f-40a0-8103-16a6a7b5e971",
   "metadata": {},
   "outputs": [],
   "source": [
    "treatment_time_dict['mothership']['ivt'] = (\n",
    "    fixed_times['onset_to_ambulance_arrival'] + \n",
    "    fixed_times['arrival_to_ivt']\n",
    "    )"
   ]
  },
  {
   "cell_type": "code",
   "execution_count": 28,
   "id": "133081a5-ce34-4fdc-aab6-d1699a606750",
   "metadata": {},
   "outputs": [],
   "source": [
    "treatment_time_dict['mothership']['mt'] = (\n",
    "    fixed_times['onset_to_ambulance_arrival'] + \n",
    "    fixed_times['arrival_to_mt']\n",
    "    )"
   ]
  },
  {
   "cell_type": "markdown",
   "id": "68197bb2-5bf0-4cc8-bb02-1f28e40a5849",
   "metadata": {},
   "source": [
    "Display these times:"
   ]
  },
  {
   "cell_type": "code",
   "execution_count": 29,
   "id": "bca3bbd8-2b41-4485-91f5-a759b8d04116",
   "metadata": {},
   "outputs": [
    {
     "data": {
      "text/html": [
       "<div>\n",
       "<style scoped>\n",
       "    .dataframe tbody tr th:only-of-type {\n",
       "        vertical-align: middle;\n",
       "    }\n",
       "\n",
       "    .dataframe tbody tr th {\n",
       "        vertical-align: top;\n",
       "    }\n",
       "\n",
       "    .dataframe thead th {\n",
       "        text-align: right;\n",
       "    }\n",
       "</style>\n",
       "<table border=\"1\" class=\"dataframe\">\n",
       "  <thead>\n",
       "    <tr style=\"text-align: right;\">\n",
       "      <th></th>\n",
       "      <th>usual_care</th>\n",
       "      <th>mothership</th>\n",
       "    </tr>\n",
       "  </thead>\n",
       "  <tbody>\n",
       "    <tr>\n",
       "      <th>ivt</th>\n",
       "      <td>90</td>\n",
       "      <td>90</td>\n",
       "    </tr>\n",
       "    <tr>\n",
       "      <th>mt</th>\n",
       "      <td>300</td>\n",
       "      <td>150</td>\n",
       "    </tr>\n",
       "  </tbody>\n",
       "</table>\n",
       "</div>"
      ],
      "text/plain": [
       "     usual_care  mothership\n",
       "ivt          90          90\n",
       "mt          300         150"
      ]
     },
     "execution_count": 29,
     "metadata": {},
     "output_type": "execute_result"
    }
   ],
   "source": [
    "pd.DataFrame(treatment_time_dict)"
   ]
  },
  {
   "cell_type": "markdown",
   "id": "49f8160b-5a5f-4dcf-a6f6-ec049fed2955",
   "metadata": {},
   "source": [
    "Store the times in the main fixed times dictionary for later reference."
   ]
  },
  {
   "cell_type": "code",
   "execution_count": null,
   "id": "4428dbfc-540c-4edc-a8d6-20f0fb746f02",
   "metadata": {},
   "outputs": [],
   "source": [
    "fixed_times['usual_care_ivt'] = treatment_time_dict['usual_care']['ivt']\n",
    "fixed_times['usual_care_mt'] = treatment_time_dict['usual_care']['mt']\n",
    "fixed_times['mothership_ivt'] = treatment_time_dict['mothership']['ivt']\n",
    "fixed_times['mothership_mt'] = treatment_time_dict['mothership']['mt']"
   ]
  },
  {
   "attachments": {},
   "cell_type": "markdown",
   "id": "6ef733f6-2394-45a9-a93c-2bb2ec1d6a3e",
   "metadata": {},
   "source": [
    "The time to IVT for usual care and mothership should be the same because the only difference in these cases is the travel time to the stroke unit, which isn't included in these fixed times.\n",
    "\n",
    "These times can be added to the existing travel time grids to find the time for treatment at any point in the grid.\n",
    "\n",
    "For the outcome model, we have to turn the grid of times into a single column of times using `flatten()`. We can easily undo this later when plotting the grids.\n",
    "\n",
    "Treatment times for usual care:"
   ]
  },
  {
   "cell_type": "code",
   "execution_count": 30,
   "id": "262565b2-f9cb-4cd3-8954-8b35e8a5d777",
   "metadata": {},
   "outputs": [],
   "source": [
    "df_usual_care = pd.DataFrame()\n",
    "df_usual_care['onset_to_needle_mins'] = (\n",
    "    treatment_time_dict['usual_care']['ivt'] +\n",
    "    grid_time_travel_directly_to_ivt.flatten()\n",
    ")\n",
    "df_usual_care['onset_to_puncture_mins'] = (\n",
    "    treatment_time_dict['usual_care']['mt'] +\n",
    "    grid_time_travel_directly_to_ivt.flatten()\n",
    ")\n",
    "# n.b. travel time between hospitals is included in the treatment_time_dict."
   ]
  },
  {
   "cell_type": "markdown",
   "id": "f99e756c-a925-4af3-8e88-6fffabfee311",
   "metadata": {},
   "source": [
    "Treatment times for mothership:"
   ]
  },
  {
   "cell_type": "code",
   "execution_count": 31,
   "id": "81aff8be",
   "metadata": {},
   "outputs": [],
   "source": [
    "df_mothership = pd.DataFrame()\n",
    "df_mothership['onset_to_needle_mins'] = (\n",
    "    treatment_time_dict['mothership']['ivt'] + \n",
    "    grid_time_travel_directly_to_mt.flatten()\n",
    ")\n",
    "df_mothership['onset_to_puncture_mins'] = (\n",
    "    treatment_time_dict['mothership']['mt'] +\n",
    "    grid_time_travel_directly_to_mt.flatten()\n",
    ")"
   ]
  },
  {
   "cell_type": "markdown",
   "id": "15176b18-ef95-49f1-a159-0c0864fd2cba",
   "metadata": {},
   "source": [
    "Assign three cohorts to these treatment times.\n",
    "\n",
    "nLVO with IVT:"
   ]
  },
  {
   "cell_type": "code",
   "execution_count": 32,
   "id": "da80ebbc-e052-4c88-afc2-5ee9e651edb7",
   "metadata": {},
   "outputs": [],
   "source": [
    "df_usual_care_nlvo_ivt = df_usual_care.copy()\n",
    "df_usual_care_nlvo_ivt['stroke_type_code'] = 1\n",
    "df_usual_care_nlvo_ivt['ivt_chosen_bool'] = 1\n",
    "df_usual_care_nlvo_ivt['mt_chosen_bool'] = 0"
   ]
  },
  {
   "cell_type": "code",
   "execution_count": 33,
   "id": "7f64e38f",
   "metadata": {},
   "outputs": [],
   "source": [
    "df_mothership_nlvo_ivt = df_mothership.copy()\n",
    "df_mothership_nlvo_ivt['stroke_type_code'] = 1\n",
    "df_mothership_nlvo_ivt['ivt_chosen_bool'] = 1\n",
    "df_mothership_nlvo_ivt['mt_chosen_bool'] = 0"
   ]
  },
  {
   "cell_type": "markdown",
   "id": "76af1f86-8574-46fb-ab45-3acb879aadbd",
   "metadata": {},
   "source": [
    "LVO with IVT only:"
   ]
  },
  {
   "cell_type": "code",
   "execution_count": 34,
   "id": "01eb4249-eec2-4be8-9c0d-9752b0f68787",
   "metadata": {},
   "outputs": [],
   "source": [
    "df_usual_care_lvo_ivt = df_usual_care.copy()\n",
    "df_usual_care_lvo_ivt['stroke_type_code'] = 2\n",
    "df_usual_care_lvo_ivt['ivt_chosen_bool'] = 1\n",
    "df_usual_care_lvo_ivt['mt_chosen_bool'] = 0"
   ]
  },
  {
   "cell_type": "code",
   "execution_count": 35,
   "id": "7e46b1f1-fcc6-4375-b8a2-5728717d6538",
   "metadata": {},
   "outputs": [],
   "source": [
    "df_mothership_lvo_ivt = df_mothership.copy()\n",
    "df_mothership_lvo_ivt['stroke_type_code'] = 2\n",
    "df_mothership_lvo_ivt['ivt_chosen_bool'] = 1\n",
    "df_mothership_lvo_ivt['mt_chosen_bool'] = 0"
   ]
  },
  {
   "cell_type": "markdown",
   "id": "bda1f3aa-18c4-419a-9f7e-2d16bbc789b8",
   "metadata": {},
   "source": [
    "LVO with both IVT and MT:"
   ]
  },
  {
   "cell_type": "code",
   "execution_count": 36,
   "id": "91d753bd-68f6-488b-a577-b344167b2373",
   "metadata": {},
   "outputs": [],
   "source": [
    "df_usual_care_lvo_ivt_mt = df_usual_care.copy()\n",
    "df_usual_care_lvo_ivt_mt['stroke_type_code'] = 2\n",
    "df_usual_care_lvo_ivt_mt['ivt_chosen_bool'] = 1\n",
    "df_usual_care_lvo_ivt_mt['mt_chosen_bool'] = 1"
   ]
  },
  {
   "cell_type": "code",
   "execution_count": 37,
   "id": "60eb3548-5da2-4dcb-aa00-e6176e07dad0",
   "metadata": {},
   "outputs": [],
   "source": [
    "df_mothership_lvo_ivt_mt = df_mothership.copy()\n",
    "df_mothership_lvo_ivt_mt['stroke_type_code'] = 2\n",
    "df_mothership_lvo_ivt_mt['ivt_chosen_bool'] = 1\n",
    "df_mothership_lvo_ivt_mt['mt_chosen_bool'] = 1"
   ]
  },
  {
   "cell_type": "markdown",
   "id": "4994fa65-7de0-4245-bf83-b88dcfd00826",
   "metadata": {},
   "source": [
    "LVO with MT only:"
   ]
  },
  {
   "cell_type": "code",
   "execution_count": 38,
   "id": "73039b43-ae71-4832-8c9a-0ceabd43ada0",
   "metadata": {},
   "outputs": [],
   "source": [
    "df_usual_care_lvo_mt = df_usual_care.copy()\n",
    "df_usual_care_lvo_mt['stroke_type_code'] = 2\n",
    "df_usual_care_lvo_mt['ivt_chosen_bool'] = 0\n",
    "df_usual_care_lvo_mt['mt_chosen_bool'] = 1"
   ]
  },
  {
   "cell_type": "code",
   "execution_count": 39,
   "id": "bc11293c-5884-4eb3-8986-6fdeefcb70b5",
   "metadata": {},
   "outputs": [],
   "source": [
    "df_mothership_lvo_mt = df_mothership.copy()\n",
    "df_mothership_lvo_mt['stroke_type_code'] = 2\n",
    "df_mothership_lvo_mt['ivt_chosen_bool'] = 0\n",
    "df_mothership_lvo_mt['mt_chosen_bool'] = 1"
   ]
  },
  {
   "attachments": {},
   "cell_type": "markdown",
   "id": "d3ee57f7-f923-4db5-97fd-8c4e5f629b53",
   "metadata": {},
   "source": [
    "## Calculate outcomes"
   ]
  },
  {
   "cell_type": "code",
   "execution_count": 40,
   "id": "cc776d36-87d7-4f70-bda6-1f333b3d8673",
   "metadata": {},
   "outputs": [],
   "source": [
    "# Set up outcome model\n",
    "outcome_model = Continuous_outcome()"
   ]
  },
  {
   "cell_type": "code",
   "execution_count": 41,
   "id": "f20dbf4d-1e20-46e3-b15b-504df4c484ae",
   "metadata": {},
   "outputs": [],
   "source": [
    "dfs = [\n",
    "    df_usual_care_nlvo_ivt,\n",
    "    df_mothership_nlvo_ivt,\n",
    "    df_usual_care_lvo_ivt,\n",
    "    df_mothership_lvo_ivt,\n",
    "    df_usual_care_lvo_ivt_mt,\n",
    "    df_mothership_lvo_ivt_mt,\n",
    "    df_usual_care_lvo_mt,\n",
    "    df_mothership_lvo_mt,\n",
    "]\n",
    "\n",
    "for df in dfs:\n",
    "    outcome_model.assign_patients_to_trial(df)\n",
    "\n",
    "    # Calculate outcomes:\n",
    "    patient_data_dict, outcomes_by_stroke_type, full_cohort_outcomes = (\n",
    "        outcome_model.calculate_outcomes())\n",
    "\n",
    "    # Make a copy of the results:\n",
    "    outcomes_by_stroke_type = copy.copy(outcomes_by_stroke_type)\n",
    "    full_cohort_outcomes = copy.copy(full_cohort_outcomes)\n",
    "\n",
    "    # Place the relevant results into the starting dataframe:\n",
    "    df['added_utility'] = full_cohort_outcomes['each_patient_utility_shift']\n",
    "    df['mean_mrs'] = full_cohort_outcomes['each_patient_mrs_post_stroke']\n",
    "    df['mrs_less_equal_2'] = full_cohort_outcomes['each_patient_mrs_dist_post_stroke'][:, 2]\n",
    "    df['mrs_shift'] = full_cohort_outcomes['each_patient_mrs_shift']"
   ]
  },
  {
   "attachments": {},
   "cell_type": "markdown",
   "id": "0a258c2a-7c31-4eb9-8fb2-28039a1fc321",
   "metadata": {},
   "source": [
    "## Combine outcomes\n",
    "\n",
    "Combine the data in these columns:"
   ]
  },
  {
   "cell_type": "code",
   "execution_count": 42,
   "id": "21cff9f4-ac50-49de-849c-14a6ab376007",
   "metadata": {},
   "outputs": [],
   "source": [
    "outcome_cols = ['added_utility', 'mean_mrs', 'mrs_less_equal_2', 'mrs_shift']"
   ]
  },
  {
   "cell_type": "markdown",
   "id": "eb0cabbe-ad4b-4a5c-8398-0f08639fda2d",
   "metadata": {},
   "source": [
    "### Combine outcomes for treated ischaemic population\n",
    "\n",
    "The following function combines the data from multiple dataframes, one for each cohort, in the proportions requested:"
   ]
  },
  {
   "cell_type": "code",
   "execution_count": 43,
   "id": "fb658d1c-02b8-4156-87c4-d36e1bd58195",
   "metadata": {},
   "outputs": [],
   "source": [
    "def combine_outcomes_treated_ischaemic(\n",
    "        df_nlvo_ivt,\n",
    "        df_lvo_ivt,\n",
    "        df_lvo_ivt_mt,\n",
    "        df_lvo_mt,\n",
    "        patient_proportions,\n",
    "        outcome_cols,\n",
    "        prop_ischaemic_treated\n",
    "    ):\n",
    "    # Combine the outcomes:\n",
    "    df_mixed = pd.DataFrame(\n",
    "        np.sum((\n",
    "            patient_proportions['nlvo_ivt'] * df_nlvo_ivt[outcome_cols],\n",
    "            patient_proportions['lvo_ivt_only'] * df_lvo_ivt[outcome_cols],\n",
    "            patient_proportions['lvo_ivt_mt'] * df_lvo_ivt_mt[outcome_cols],\n",
    "            patient_proportions['lvo_mt_only'] * df_lvo_mt[outcome_cols],\n",
    "        ), axis=0),\n",
    "        columns=outcome_cols\n",
    "    )\n",
    "    \n",
    "    # Adjust outcomes for just the treated population:\n",
    "    df_mixed = df_mixed / prop_ischaemic_treated\n",
    "    \n",
    "    # Copy over the treatment times.\n",
    "    # They're the same times in all three dataframes so just pick the nLVO IVT df:\n",
    "    df_mixed['onset_to_needle_mins'] = df_nlvo_ivt['onset_to_needle_mins']\n",
    "    df_mixed['onset_to_puncture_mins'] = df_nlvo_ivt['onset_to_puncture_mins']\n",
    "    return df_mixed"
   ]
  },
  {
   "cell_type": "markdown",
   "id": "d6fe0beb-bbad-4c63-8b0d-fbad707bd190",
   "metadata": {},
   "source": [
    "Usual care:"
   ]
  },
  {
   "cell_type": "code",
   "execution_count": 44,
   "id": "91316a6a",
   "metadata": {},
   "outputs": [],
   "source": [
    "df_usual_care_mixed = combine_outcomes_treated_ischaemic(\n",
    "    df_usual_care_nlvo_ivt,\n",
    "    df_usual_care_lvo_ivt,\n",
    "    df_usual_care_lvo_ivt_mt,\n",
    "    df_usual_care_lvo_mt,\n",
    "    patient_proportions,\n",
    "    outcome_cols,\n",
    "    prop_ischaemic_treated\n",
    ")"
   ]
  },
  {
   "cell_type": "markdown",
   "id": "cd6584b8-3cff-4989-ae27-f13c0ea273de",
   "metadata": {},
   "source": [
    "Mothership:"
   ]
  },
  {
   "cell_type": "code",
   "execution_count": 45,
   "id": "af56b8f7",
   "metadata": {},
   "outputs": [],
   "source": [
    "df_mothership_mixed = combine_outcomes_treated_ischaemic(\n",
    "    df_mothership_nlvo_ivt,\n",
    "    df_mothership_lvo_ivt,\n",
    "    df_mothership_lvo_ivt_mt,\n",
    "    df_mothership_lvo_mt,\n",
    "    patient_proportions,\n",
    "    outcome_cols,\n",
    "    prop_ischaemic_treated\n",
    ")"
   ]
  },
  {
   "attachments": {},
   "cell_type": "markdown",
   "id": "8af255d2-6cd6-4b2a-ac2c-09dbce16cce0",
   "metadata": {},
   "source": [
    "### Combine outcomes for LVO with various treatments\n",
    "\n",
    "The following function combines the data from multiple dataframes, one for each cohort, in the proportions requested:"
   ]
  },
  {
   "cell_type": "code",
   "execution_count": 46,
   "id": "e20f88d6-16bc-45ec-ba1b-f64de72378ad",
   "metadata": {},
   "outputs": [],
   "source": [
    "def combine_outcomes_lvo(\n",
    "        df_lvo_ivt,\n",
    "        df_lvo_ivt_mt,\n",
    "        df_lvo_mt,\n",
    "        patient_proportions,\n",
    "        outcome_cols,\n",
    "        prop_lvo_treated\n",
    "    ):\n",
    "    # Combine the outcomes:\n",
    "    df_lvo = pd.DataFrame(\n",
    "        np.sum((\n",
    "            patient_proportions['lvo_ivt_only'] * df_lvo_ivt[outcome_cols],\n",
    "            patient_proportions['lvo_ivt_mt'] * df_lvo_ivt_mt[outcome_cols],\n",
    "            patient_proportions['lvo_mt_only'] * df_lvo_mt[outcome_cols],\n",
    "        ), axis=0),\n",
    "        columns=outcome_cols\n",
    "    )\n",
    "    \n",
    "    # Adjust outcomes for just the treated population:\n",
    "    df_lvo = df_lvo / prop_lvo_treated\n",
    "    \n",
    "    # Copy over the treatment times.\n",
    "    # They're the same times in all three dataframes so just pick the LVO IVT df:\n",
    "    df_lvo['onset_to_needle_mins'] = df_lvo_ivt['onset_to_needle_mins']\n",
    "    df_lvo['onset_to_puncture_mins'] = df_lvo_ivt['onset_to_puncture_mins']\n",
    "    return df_lvo"
   ]
  },
  {
   "cell_type": "markdown",
   "id": "cd06c82e-e08f-4f5d-aac7-35d400bd53e7",
   "metadata": {},
   "source": [
    "Usual care:"
   ]
  },
  {
   "cell_type": "code",
   "execution_count": 47,
   "id": "38c6bb31-bd91-4d2f-98c6-1b364366f5d6",
   "metadata": {},
   "outputs": [],
   "source": [
    "df_usual_care_lvo = combine_outcomes_lvo(\n",
    "    df_usual_care_lvo_ivt,\n",
    "    df_usual_care_lvo_ivt_mt,\n",
    "    df_usual_care_lvo_mt,\n",
    "    patient_proportions,\n",
    "    outcome_cols,\n",
    "    prop_lvo_treated\n",
    ")"
   ]
  },
  {
   "cell_type": "markdown",
   "id": "4b8970f4-85ad-4d1c-993c-95190154d1d8",
   "metadata": {},
   "source": [
    "Mothership:"
   ]
  },
  {
   "cell_type": "code",
   "execution_count": 48,
   "id": "9a293e58",
   "metadata": {},
   "outputs": [],
   "source": [
    "df_mothership_lvo = combine_outcomes_lvo(\n",
    "    df_mothership_lvo_ivt,\n",
    "    df_mothership_lvo_ivt_mt,\n",
    "    df_mothership_lvo_mt,\n",
    "    patient_proportions,\n",
    "    outcome_cols,\n",
    "    prop_lvo_treated\n",
    ")"
   ]
  },
  {
   "cell_type": "markdown",
   "id": "89fc02e1-464f-4f5e-8ed6-77a3726da293",
   "metadata": {},
   "source": [
    "### Difference in outcomes between usual care and mothership\n",
    "\n",
    "Calculate the differences in outcomes between usual care and mothership.\n",
    "\n",
    "Only do this for the groups that will be plotted later:\n",
    "\n",
    "+ nLVO with IVT\n",
    "+ LVO with mixed treatments\n",
    "+ treated ischaemic population"
   ]
  },
  {
   "cell_type": "code",
   "execution_count": 49,
   "id": "8b0365fc-8b75-44de-b9be-25751c869e0e",
   "metadata": {},
   "outputs": [],
   "source": [
    "df_nlvo_ivt_diff = df_mothership_nlvo_ivt - df_usual_care_nlvo_ivt\n",
    "df_lvo_diff = df_mothership_lvo - df_usual_care_lvo\n",
    "df_mixed_diff = df_mothership_mixed - df_usual_care_mixed"
   ]
  },
  {
   "cell_type": "markdown",
   "id": "c02a6dbc-f7ba-4749-8625-e3218427b479",
   "metadata": {},
   "source": [
    "## Save results to file\n",
    "\n",
    "Travel time grids:"
   ]
  },
  {
   "cell_type": "code",
   "execution_count": 50,
   "id": "161f23cf-c07b-43b0-bcc7-2d48011d6879",
   "metadata": {},
   "outputs": [],
   "source": [
    "pd.DataFrame(grid_time_travel_directly_to_ivt).to_csv(\n",
    "    os.path.join(paths.dir_output, paths.file_grid_ivt),\n",
    "    index=False, header=None\n",
    ")\n",
    "pd.DataFrame(grid_time_travel_directly_diff).to_csv(\n",
    "    os.path.join(paths.dir_output, paths.file_grid_diff),\n",
    "    index=False, header=None\n",
    ")"
   ]
  },
  {
   "cell_type": "markdown",
   "id": "789f017a-4e05-4e97-b93a-9141e1d4da01",
   "metadata": {},
   "source": [
    "Useful data for travel time grids:"
   ]
  },
  {
   "cell_type": "code",
   "execution_count": 54,
   "id": "23e07d85-6a46-4024-9b49-f0c349b7bd28",
   "metadata": {},
   "outputs": [],
   "source": [
    "pd.Series(dict_travel_grid).to_csv(\n",
    "    os.path.join(paths.dir_output, paths.file_grid_dict),\n",
    "    header=False\n",
    ")"
   ]
  },
  {
   "cell_type": "markdown",
   "id": "19a75e41-9748-4f37-9ff5-e45475f2b9dc",
   "metadata": {},
   "source": [
    "Outcomes:"
   ]
  },
  {
   "cell_type": "code",
   "execution_count": 52,
   "id": "00a2d492-af9c-41b3-bc47-81ae29d66237",
   "metadata": {},
   "outputs": [],
   "source": [
    "df_nlvo_ivt_diff.to_csv(\n",
    "    os.path.join(paths.dir_output, paths.file_outcomes_nlvo),\n",
    "    index=False\n",
    ")\n",
    "df_lvo_diff.to_csv(\n",
    "    os.path.join(paths.dir_output, paths.file_outcomes_lvo),\n",
    "    index=False\n",
    ")\n",
    "df_mixed_diff.to_csv(\n",
    "    os.path.join(paths.dir_output, paths.file_outcomes_mix),\n",
    "    index=False\n",
    ")"
   ]
  },
  {
   "cell_type": "markdown",
   "id": "357be506-a66b-4e5f-9ee4-65bf3a209cbf",
   "metadata": {},
   "source": [
    "## Conclusion\n",
    "\n",
    "The outcome grids have been calculated for the separate cohorts and the results have been saved to file.\n",
    "\n",
    "The results are plotted in [the next notebook](05c_geography_outcomes.ipynb)."
   ]
  },
  {
   "cell_type": "code",
   "execution_count": null,
   "id": "2f0067f0-792a-429c-a5e7-f80f0e4b65c2",
   "metadata": {},
   "outputs": [],
   "source": []
  }
 ],
 "metadata": {
  "kernelspec": {
   "display_name": "Python 3 (ipykernel)",
   "language": "python",
   "name": "python3"
  },
  "language_info": {
   "codemirror_mode": {
    "name": "ipython",
    "version": 3
   },
   "file_extension": ".py",
   "mimetype": "text/x-python",
   "name": "python",
   "nbconvert_exporter": "python",
   "pygments_lexer": "ipython3",
   "version": "3.9.16"
  }
 },
 "nbformat": 4,
 "nbformat_minor": 5
}
