{
 "cells": [
  {
   "cell_type": "markdown",
   "id": "0cf7d690-5fba-4f02-8eaf-2309a7ea64b6",
   "metadata": {},
   "source": [
    "# Data sources cheat sheet"
   ]
  },
  {
   "cell_type": "markdown",
   "id": "4ca39b7d-1cc6-47a7-81ae-4509d3d26ec5",
   "metadata": {},
   "source": [
    "Here's where all the data came from"
   ]
  },
  {
   "cell_type": "markdown",
   "id": "ee938c43-baa8-4b69-8a77-f143ab16372f",
   "metadata": {},
   "source": [
    "---"
   ]
  },
  {
   "cell_type": "markdown",
   "id": "f94ed1de-b1e9-4f84-9598-30c0babd52ba",
   "metadata": {},
   "source": [
    "## Notebook admin"
   ]
  },
  {
   "cell_type": "code",
   "execution_count": 10,
   "id": "83920ff9-1558-45e7-8457-7c489ac2306a",
   "metadata": {},
   "outputs": [],
   "source": [
    "import matplotlib.pyplot as plt\n",
    "import numpy as np\n",
    "import pandas as pd\n",
    "\n",
    "# Set NumPy and Pandas to print 4 decimal places\n",
    "np.set_printoptions(precision=4)\n",
    "pd.set_option(\"display.precision\", 4)"
   ]
  },
  {
   "cell_type": "markdown",
   "id": "e85c8624-47f5-4aa0-af2d-eacc9b2d8762",
   "metadata": {},
   "source": [
    "---"
   ]
  },
  {
   "cell_type": "markdown",
   "id": "3120d65c-b185-40da-bcb5-de1ddcf77835",
   "metadata": {},
   "source": [
    "# Pre-stroke groups\n",
    "\n",
    "The population data comes from [the SAMueL-1 survey](https://samuel-book.github.io/samuel-1/descriptive_stats/08_prestroke_mrs.html). All of the ischaemic and intra-cranial haemorrhage data are included. Patients with NIHSS>11 are designated as LVO, and NIHSS$\\leq$10 are designated nLVO. "
   ]
  },
  {
   "cell_type": "code",
   "execution_count": 70,
   "id": "e508dbfe-5260-4b39-b35d-90f83055a1fd",
   "metadata": {},
   "outputs": [],
   "source": [
    "dist_pre_stroke_nlvo = np.array(\n",
    "    [0.582881, 0.162538, 0.103440, 0.102223, 0.041973, 0.006945, 0.0])\n",
    "dist_pre_stroke_lvo = np.array([\n",
    "    0.417894, 0.142959, 0.118430, 0.164211, 0.113775, 0.042731, 0.0])"
   ]
  },
  {
   "cell_type": "markdown",
   "id": "bc1e6e39-c5bb-44e5-979b-49544a2e267b",
   "metadata": {},
   "source": [
    "There are [246,676 patients](https://samuel-book.github.io/samuel-1/introduction/data.html) in the full dataset, and [the proportions of nLVO and LVO](https://samuel-book.github.io/samuel-1/descriptive_stats/10_using_nihss_10_for_lvo.html) are 74.9% and 25.1% respectively. Again these numbers are calculated using ICH patients too. "
   ]
  },
  {
   "cell_type": "markdown",
   "id": "12d0ef0a-4475-4cf1-b979-0e60b22964fc",
   "metadata": {},
   "source": [
    "### Our new calculations \n",
    "\n",
    "We can convert the probabilities back into number of patients:"
   ]
  },
  {
   "cell_type": "code",
   "execution_count": 71,
   "id": "46813280-6756-4079-abad-874a5cc1448e",
   "metadata": {},
   "outputs": [],
   "source": [
    "n_patients_samuel_total = 246676\n",
    "n_patients_samuel_total_nlvo = 0.749 * n_patients_samuel_total\n",
    "n_patients_samuel_total_lvo = 0.251 * n_patients_samuel_total\n",
    "\n",
    "n_patients_pre_stroke_nlvo = dist_pre_stroke_nlvo * n_patients_samuel_total_nlvo\n",
    "n_patients_pre_stroke_lvo = dist_pre_stroke_lvo * n_patients_samuel_total_lvo"
   ]
  },
  {
   "cell_type": "markdown",
   "id": "0ab241ce-7bc5-470d-996b-6b31c1a6154b",
   "metadata": {},
   "source": [
    "__nLVO:__"
   ]
  },
  {
   "cell_type": "code",
   "execution_count": 73,
   "id": "ce5edbc7-b1ad-47d0-a844-131bc1462a01",
   "metadata": {},
   "outputs": [
    {
     "data": {
      "text/html": [
       "<div>\n",
       "<style scoped>\n",
       "    .dataframe tbody tr th:only-of-type {\n",
       "        vertical-align: middle;\n",
       "    }\n",
       "\n",
       "    .dataframe tbody tr th {\n",
       "        vertical-align: top;\n",
       "    }\n",
       "\n",
       "    .dataframe thead th {\n",
       "        text-align: right;\n",
       "    }\n",
       "</style>\n",
       "<table border=\"1\" class=\"dataframe\">\n",
       "  <thead>\n",
       "    <tr style=\"text-align: right;\">\n",
       "      <th></th>\n",
       "      <th>Probability</th>\n",
       "      <th>Number of patients</th>\n",
       "      <th>Number of patients (rounded)</th>\n",
       "    </tr>\n",
       "  </thead>\n",
       "  <tbody>\n",
       "    <tr>\n",
       "      <th>mRS 0</th>\n",
       "      <td>0.5829</td>\n",
       "      <td>107693.2824</td>\n",
       "      <td>107693.0</td>\n",
       "    </tr>\n",
       "    <tr>\n",
       "      <th>mRS 1</th>\n",
       "      <td>0.1625</td>\n",
       "      <td>30030.5735</td>\n",
       "      <td>30031.0</td>\n",
       "    </tr>\n",
       "    <tr>\n",
       "      <th>mRS 2</th>\n",
       "      <td>0.1034</td>\n",
       "      <td>19111.6079</td>\n",
       "      <td>19112.0</td>\n",
       "    </tr>\n",
       "    <tr>\n",
       "      <th>mRS 3</th>\n",
       "      <td>0.1022</td>\n",
       "      <td>18886.7546</td>\n",
       "      <td>18887.0</td>\n",
       "    </tr>\n",
       "    <tr>\n",
       "      <th>mRS 4</th>\n",
       "      <td>0.0420</td>\n",
       "      <td>7754.9451</td>\n",
       "      <td>7755.0</td>\n",
       "    </tr>\n",
       "    <tr>\n",
       "      <th>mRS 5</th>\n",
       "      <td>0.0069</td>\n",
       "      <td>1283.1605</td>\n",
       "      <td>1283.0</td>\n",
       "    </tr>\n",
       "    <tr>\n",
       "      <th>mRS 6</th>\n",
       "      <td>0.0000</td>\n",
       "      <td>0.0000</td>\n",
       "      <td>0.0</td>\n",
       "    </tr>\n",
       "    <tr>\n",
       "      <th>Total</th>\n",
       "      <td>1.0000</td>\n",
       "      <td>184760.3240</td>\n",
       "      <td>184761.0</td>\n",
       "    </tr>\n",
       "  </tbody>\n",
       "</table>\n",
       "</div>"
      ],
      "text/plain": [
       "       Probability  Number of patients  Number of patients (rounded)\n",
       "mRS 0       0.5829         107693.2824                      107693.0\n",
       "mRS 1       0.1625          30030.5735                       30031.0\n",
       "mRS 2       0.1034          19111.6079                       19112.0\n",
       "mRS 3       0.1022          18886.7546                       18887.0\n",
       "mRS 4       0.0420           7754.9451                        7755.0\n",
       "mRS 5       0.0069           1283.1605                        1283.0\n",
       "mRS 6       0.0000              0.0000                           0.0\n",
       "Total       1.0000         184760.3240                      184761.0"
      ]
     },
     "execution_count": 73,
     "metadata": {},
     "output_type": "execute_result"
    }
   ],
   "source": [
    "data_pre_stroke_nlvo = np.stack((\n",
    "    dist_pre_stroke_nlvo,\n",
    "    n_patients_pre_stroke_nlvo, \n",
    "    np.round(n_patients_pre_stroke_nlvo,0).astype(int),\n",
    "))\n",
    "\n",
    "df = pd.DataFrame(data_pre_stroke_nlvo.T,\n",
    "            columns=['Probability', 'Number of patients', \n",
    "                     'Number of patients (rounded)'],\n",
    "            index=[f'mRS {i}' for i in range(7)])\n",
    "df.loc['Total'] = df.sum()\n",
    "\n",
    "df"
   ]
  },
  {
   "cell_type": "markdown",
   "id": "858613e1-3cff-4ef4-91cc-6f5737e4cc5c",
   "metadata": {},
   "source": [
    "__LVO:__"
   ]
  },
  {
   "cell_type": "code",
   "execution_count": 74,
   "id": "3aaa1bc1-71c1-4777-b557-97dd11b46713",
   "metadata": {},
   "outputs": [
    {
     "data": {
      "text/html": [
       "<div>\n",
       "<style scoped>\n",
       "    .dataframe tbody tr th:only-of-type {\n",
       "        vertical-align: middle;\n",
       "    }\n",
       "\n",
       "    .dataframe tbody tr th {\n",
       "        vertical-align: top;\n",
       "    }\n",
       "\n",
       "    .dataframe thead th {\n",
       "        text-align: right;\n",
       "    }\n",
       "</style>\n",
       "<table border=\"1\" class=\"dataframe\">\n",
       "  <thead>\n",
       "    <tr style=\"text-align: right;\">\n",
       "      <th></th>\n",
       "      <th>Probability</th>\n",
       "      <th>Number of patients</th>\n",
       "      <th>Number of patients (rounded)</th>\n",
       "    </tr>\n",
       "  </thead>\n",
       "  <tbody>\n",
       "    <tr>\n",
       "      <th>mRS 0</th>\n",
       "      <td>0.4179</td>\n",
       "      <td>25874.1895</td>\n",
       "      <td>25874.0</td>\n",
       "    </tr>\n",
       "    <tr>\n",
       "      <th>mRS 1</th>\n",
       "      <td>0.1430</td>\n",
       "      <td>8851.4031</td>\n",
       "      <td>8851.0</td>\n",
       "    </tr>\n",
       "    <tr>\n",
       "      <th>mRS 2</th>\n",
       "      <td>0.1184</td>\n",
       "      <td>7332.6735</td>\n",
       "      <td>7333.0</td>\n",
       "    </tr>\n",
       "    <tr>\n",
       "      <th>mRS 3</th>\n",
       "      <td>0.1642</td>\n",
       "      <td>10167.2351</td>\n",
       "      <td>10167.0</td>\n",
       "    </tr>\n",
       "    <tr>\n",
       "      <th>mRS 4</th>\n",
       "      <td>0.1138</td>\n",
       "      <td>7044.4560</td>\n",
       "      <td>7044.0</td>\n",
       "    </tr>\n",
       "    <tr>\n",
       "      <th>mRS 5</th>\n",
       "      <td>0.0427</td>\n",
       "      <td>2645.7188</td>\n",
       "      <td>2646.0</td>\n",
       "    </tr>\n",
       "    <tr>\n",
       "      <th>mRS 6</th>\n",
       "      <td>0.0000</td>\n",
       "      <td>0.0000</td>\n",
       "      <td>0.0</td>\n",
       "    </tr>\n",
       "    <tr>\n",
       "      <th>Total</th>\n",
       "      <td>1.0000</td>\n",
       "      <td>61915.6760</td>\n",
       "      <td>61915.0</td>\n",
       "    </tr>\n",
       "  </tbody>\n",
       "</table>\n",
       "</div>"
      ],
      "text/plain": [
       "       Probability  Number of patients  Number of patients (rounded)\n",
       "mRS 0       0.4179          25874.1895                       25874.0\n",
       "mRS 1       0.1430           8851.4031                        8851.0\n",
       "mRS 2       0.1184           7332.6735                        7333.0\n",
       "mRS 3       0.1642          10167.2351                       10167.0\n",
       "mRS 4       0.1138           7044.4560                        7044.0\n",
       "mRS 5       0.0427           2645.7188                        2646.0\n",
       "mRS 6       0.0000              0.0000                           0.0\n",
       "Total       1.0000          61915.6760                       61915.0"
      ]
     },
     "execution_count": 74,
     "metadata": {},
     "output_type": "execute_result"
    }
   ],
   "source": [
    "data_pre_stroke_lvo = np.stack((\n",
    "    dist_pre_stroke_lvo,\n",
    "    n_patients_pre_stroke_lvo, \n",
    "    np.round(n_patients_pre_stroke_lvo,0).astype(int),\n",
    "))\n",
    "\n",
    "df = pd.DataFrame(data_pre_stroke_lvo.T,\n",
    "            columns=['Probability', 'Number of patients', \n",
    "                     'Number of patients (rounded)'],\n",
    "            index=[f'mRS {i}' for i in range(7)])\n",
    "df.loc['Total'] = df.sum()\n",
    "\n",
    "df"
   ]
  },
  {
   "cell_type": "markdown",
   "id": "62108b59-adae-41ac-83a4-fe649df023ba",
   "metadata": {},
   "source": [
    "---"
   ]
  },
  {
   "cell_type": "markdown",
   "id": "0e411a2b-a63b-4cf0-9e1e-f26e41540499",
   "metadata": {},
   "source": [
    "# Control groups"
   ]
  },
  {
   "cell_type": "markdown",
   "id": "ededcaa2-fcc1-4387-ade3-1f21dff2df9f",
   "metadata": {},
   "source": [
    "## nLVO and LVO separately, for mRS<=1\n",
    "\n",
    "Population data from Emberson et al. 2014 (their Figure 2, \"Control\" column):\n",
    "\n",
    "> ![](./images/data_sources/emberson-et-al-2014_figure-2_population-data.png)"
   ]
  },
  {
   "cell_type": "markdown",
   "id": "d9cbf092-83f4-4e9e-b988-6fd0e41fa6a7",
   "metadata": {},
   "source": [
    "We take the rows where NIHSS$\\leq$10 to mean patients with nLVO, and NIHSS>10 to mean LVO. Then we can calculate the probability $P$ and odds $O$:\n",
    "\n",
    "__nLVO:__\n",
    "\n",
    "$P(\\mathrm{mRS}\\leq1 \\ |\\ \\mathrm{no\\ treatment} \\ |\\ \\mathrm{nLVO}) = \\frac{189 + 538}{321 + 1252} = 0.4622 $\n",
    "\n",
    "$O(\\mathrm{mRS}\\leq1 \\ |\\ \\mathrm{no\\ treatment} \\ |\\ \\mathrm{nLVO}) = \\frac{0.46...}{1.0 - 0.46...} = 0.8593 $\n",
    "\n",
    "__LVO:__\n",
    "\n",
    "$P(\\mathrm{mRS}\\leq1 \\ |\\ \\mathrm{no\\ treatment} \\ |\\ \\mathrm{LVO}) = \\frac{175 + 55 + 8}{808 + 671 + 313} = 0.1328 $\n",
    "\n",
    "$O(\\mathrm{mRS}\\leq1 \\ |\\ \\mathrm{no\\ treatment} \\ |\\ \\mathrm{LVO}) = \\frac{0.13...}{1.0 - 0.13...} = 0.1532 $"
   ]
  },
  {
   "cell_type": "markdown",
   "id": "acf30e17-10e0-4923-8118-0bc86fa2882f",
   "metadata": {},
   "source": [
    "## LVO, for each mRS\n",
    "\n",
    "Population data from Goyal et al. 2016 (their Figure 1, Section A \"Overall\", \"Control population\" row):\n",
    "\n",
    "> ![](./images/data_sources/goyal-et-al-2016_figure-1_mRS-dists.png)\n"
   ]
  },
  {
   "cell_type": "markdown",
   "id": "80a4315d-fa0c-4d31-acd0-88ca1d92b49a",
   "metadata": {},
   "source": [
    "From the Goyal et al. 2016 data above, the probability $P$:  \n",
    "\n",
    "$P(\\mathrm{mRS}\\leq1 \\ |\\ \\mathrm{no\\ treatment} \\ |\\ \\mathrm{LVO}) = \\frac{5.0 + 7.9}{100} = 0.129$\n",
    "\n",
    "We can compare this probability with the corresponding value from Emberson et al. 2014.\n",
    "    \n",
    "| | $P$(mRS$\\leq$1 &#124; no treatment &#124; LVO) |    \n",
    "| --- | --- | \n",
    "| Emberson et al. 2014 | 0.1328 |\n",
    "| Goyal et al. 2016 | 0.1290 | \n",
    "\n",
    "These values are the same to two significant figures."
   ]
  },
  {
   "cell_type": "markdown",
   "id": "476fb316-43e6-49ea-b0e2-778f1efe7802",
   "metadata": {},
   "source": [
    "### Our new calculations\n",
    "\n",
    "We can convert the Goyal et al. 2016 probability distribution back into the number of patients:"
   ]
  },
  {
   "cell_type": "code",
   "execution_count": 34,
   "id": "ae48f5fb-f225-4fa0-924c-4ac46efe2c94",
   "metadata": {},
   "outputs": [],
   "source": [
    "dist_notreatment_lvo = (\n",
    "    np.array([5.0, 7.9, 13.6, 16.4, 24.7, 13.5, 18.9])/100.0)\n",
    "\n",
    "n_patients_total_notreatment_lvo = 645\n",
    "\n",
    "n_patients_notreatment_lvo = []\n",
    "for prob in dist_notreatment_lvo:\n",
    "    n_patients = prob * n_patients_total_notreatment_lvo\n",
    "    n_patients_notreatment_lvo.append(n_patients)"
   ]
  },
  {
   "cell_type": "markdown",
   "id": "35b2056c-ad2f-4a09-8c23-e4469bef12be",
   "metadata": {},
   "source": [
    "The numbers of patients in each mRS bin are not whole numbers because of the rounding of the probability distribution from Figure 1. We'll also show the numbers of patients rounded to sensible numbers. "
   ]
  },
  {
   "cell_type": "code",
   "execution_count": 49,
   "id": "c44b7e17-2bbc-4955-a631-b04e99115b03",
   "metadata": {},
   "outputs": [
    {
     "data": {
      "text/html": [
       "<div>\n",
       "<style scoped>\n",
       "    .dataframe tbody tr th:only-of-type {\n",
       "        vertical-align: middle;\n",
       "    }\n",
       "\n",
       "    .dataframe tbody tr th {\n",
       "        vertical-align: top;\n",
       "    }\n",
       "\n",
       "    .dataframe thead th {\n",
       "        text-align: right;\n",
       "    }\n",
       "</style>\n",
       "<table border=\"1\" class=\"dataframe\">\n",
       "  <thead>\n",
       "    <tr style=\"text-align: right;\">\n",
       "      <th></th>\n",
       "      <th>Probability</th>\n",
       "      <th>Number of patients</th>\n",
       "      <th>Number of patients (rounded)</th>\n",
       "    </tr>\n",
       "  </thead>\n",
       "  <tbody>\n",
       "    <tr>\n",
       "      <th>mRS 0</th>\n",
       "      <td>0.050</td>\n",
       "      <td>32.250</td>\n",
       "      <td>32.0</td>\n",
       "    </tr>\n",
       "    <tr>\n",
       "      <th>mRS 1</th>\n",
       "      <td>0.079</td>\n",
       "      <td>50.955</td>\n",
       "      <td>51.0</td>\n",
       "    </tr>\n",
       "    <tr>\n",
       "      <th>mRS 2</th>\n",
       "      <td>0.136</td>\n",
       "      <td>87.720</td>\n",
       "      <td>88.0</td>\n",
       "    </tr>\n",
       "    <tr>\n",
       "      <th>mRS 3</th>\n",
       "      <td>0.164</td>\n",
       "      <td>105.780</td>\n",
       "      <td>106.0</td>\n",
       "    </tr>\n",
       "    <tr>\n",
       "      <th>mRS 4</th>\n",
       "      <td>0.247</td>\n",
       "      <td>159.315</td>\n",
       "      <td>159.0</td>\n",
       "    </tr>\n",
       "    <tr>\n",
       "      <th>mRS 5</th>\n",
       "      <td>0.135</td>\n",
       "      <td>87.075</td>\n",
       "      <td>87.0</td>\n",
       "    </tr>\n",
       "    <tr>\n",
       "      <th>mRS 6</th>\n",
       "      <td>0.189</td>\n",
       "      <td>121.905</td>\n",
       "      <td>122.0</td>\n",
       "    </tr>\n",
       "    <tr>\n",
       "      <th>Total</th>\n",
       "      <td>1.000</td>\n",
       "      <td>645.000</td>\n",
       "      <td>645.0</td>\n",
       "    </tr>\n",
       "  </tbody>\n",
       "</table>\n",
       "</div>"
      ],
      "text/plain": [
       "       Probability  Number of patients  Number of patients (rounded)\n",
       "mRS 0        0.050              32.250                          32.0\n",
       "mRS 1        0.079              50.955                          51.0\n",
       "mRS 2        0.136              87.720                          88.0\n",
       "mRS 3        0.164             105.780                         106.0\n",
       "mRS 4        0.247             159.315                         159.0\n",
       "mRS 5        0.135              87.075                          87.0\n",
       "mRS 6        0.189             121.905                         122.0\n",
       "Total        1.000             645.000                         645.0"
      ]
     },
     "execution_count": 49,
     "metadata": {},
     "output_type": "execute_result"
    }
   ],
   "source": [
    "data_lvo = np.stack((\n",
    "    dist_notreatment_lvo,\n",
    "    n_patients_notreatment_lvo, \n",
    "    np.round(n_patients_notreatment_lvo,0).astype(int)\n",
    "))\n",
    "\n",
    "df = pd.DataFrame(data_lvo.T,\n",
    "            columns=['Probability', 'Number of patients', \n",
    "                     'Number of patients (rounded)'],\n",
    "            index=[f'mRS {i}' for i in range(7)])\n",
    "\n",
    "df.loc['Total'] = df.sum()\n",
    "\n",
    "df"
   ]
  },
  {
   "cell_type": "markdown",
   "id": "2b4cf7cd-6d31-4952-bff4-4b332ae6841a",
   "metadata": {},
   "source": [
    "## nLVO and LVO combined, for each mRS\n",
    "\n",
    "Population data from Lees et al. 2010 (their Figure 2, \"Placebo\" rows):\n",
    "\n",
    "> ![](./images/data_sources/lees-et-al-2010_figure-2_mRS-dists.png)\n",
    "\n",
    "> n.b. The sizes of the bars are not given anywhere in the text."
   ]
  },
  {
   "cell_type": "markdown",
   "id": "b5d58583-50d5-4ebd-8561-50bc197dd2bd",
   "metadata": {},
   "source": [
    "### Our new calculations\n",
    "\n",
    "To convert this image into useful numbers, we've measured the ratio of the size of each individual mRS bar to the combined width of all of the bars in a row. \n",
    "\n",
    "This gives the numbers of patients in each bar as the following: "
   ]
  },
  {
   "cell_type": "code",
   "execution_count": 59,
   "id": "ae001b26-6b02-493a-8bb1-12d5930a8dd9",
   "metadata": {},
   "outputs": [],
   "source": [
    "n_patients_0to90min = np.array(\n",
    "    [15.9142, 30.3480, 16.4694, 18.3815, 29.0527, 10.6095, 30.2247])\n",
    "n_patients_91to180min = np.array(\n",
    "    [46.0662, 45.4228, 29.8529, 51.7279, 61.1213, 33.8419, 46.9669])\n",
    "n_patients_181to270min = np.array(\n",
    "    [129.5347, 176.9093, 108.6634, 113.9641, 134.5041,  64.6017, 82.8227])\n",
    "n_patients_271to360min = np.array(\n",
    "    [ 78.9657, 115.3431,  72.9767,  70.0931, 104.0306,  47.6900, 53.9007])"
   ]
  },
  {
   "cell_type": "markdown",
   "id": "38eeaab8-a0c4-43c9-912c-afceb2dccf81",
   "metadata": {},
   "source": [
    "We can combine the four \"placebo\" bars by summing them: "
   ]
  },
  {
   "cell_type": "code",
   "execution_count": null,
   "id": "02fd5f67-a91b-47d7-bd26-ff46b82bfff3",
   "metadata": {},
   "outputs": [],
   "source": [
    "n_patients_notreatment_nlvo_lvo = np.sum(\n",
    "    [n_patients_0to90min, n_patients_91to180min, \n",
    "     n_patients_181to270min, n_patients_271to360min],\n",
    "    axis=0)\n",
    "\n",
    "n_patients_total_0to360min = 151 + 315 + 811 + 543"
   ]
  },
  {
   "cell_type": "markdown",
   "id": "8f7cb983-4b1e-431e-a1c5-af35accdec3d",
   "metadata": {},
   "source": [
    "Convert the number of patients to a probability distribution:"
   ]
  },
  {
   "cell_type": "code",
   "execution_count": 75,
   "id": "bfda2cbd-90a0-4ecb-ad9e-8d911bac9298",
   "metadata": {},
   "outputs": [
    {
     "data": {
      "text/plain": [
       "array([0.1486, 0.2022, 0.1253, 0.1397, 0.1806, 0.0861, 0.1175])"
      ]
     },
     "execution_count": 75,
     "metadata": {},
     "output_type": "execute_result"
    }
   ],
   "source": [
    "dist_notreatment_nlvo_lvo = n_patients_0to360min / n_patients_total_0to360min\n",
    "\n",
    "dist_notreatment_nlvo_lvo"
   ]
  },
  {
   "cell_type": "code",
   "execution_count": 60,
   "id": "713937a8-f048-4dcd-92e2-822d908eb7da",
   "metadata": {},
   "outputs": [
    {
     "data": {
      "text/html": [
       "<div>\n",
       "<style scoped>\n",
       "    .dataframe tbody tr th:only-of-type {\n",
       "        vertical-align: middle;\n",
       "    }\n",
       "\n",
       "    .dataframe tbody tr th {\n",
       "        vertical-align: top;\n",
       "    }\n",
       "\n",
       "    .dataframe thead th {\n",
       "        text-align: right;\n",
       "    }\n",
       "</style>\n",
       "<table border=\"1\" class=\"dataframe\">\n",
       "  <thead>\n",
       "    <tr style=\"text-align: right;\">\n",
       "      <th></th>\n",
       "      <th>Probability</th>\n",
       "      <th>Number of patients</th>\n",
       "      <th>Number of patients (rounded)</th>\n",
       "    </tr>\n",
       "  </thead>\n",
       "  <tbody>\n",
       "    <tr>\n",
       "      <th>mRS 0</th>\n",
       "      <td>0.1486</td>\n",
       "      <td>270.4808</td>\n",
       "      <td>270.0</td>\n",
       "    </tr>\n",
       "    <tr>\n",
       "      <th>mRS 1</th>\n",
       "      <td>0.2022</td>\n",
       "      <td>368.0232</td>\n",
       "      <td>368.0</td>\n",
       "    </tr>\n",
       "    <tr>\n",
       "      <th>mRS 2</th>\n",
       "      <td>0.1253</td>\n",
       "      <td>227.9624</td>\n",
       "      <td>228.0</td>\n",
       "    </tr>\n",
       "    <tr>\n",
       "      <th>mRS 3</th>\n",
       "      <td>0.1397</td>\n",
       "      <td>254.1666</td>\n",
       "      <td>254.0</td>\n",
       "    </tr>\n",
       "    <tr>\n",
       "      <th>mRS 4</th>\n",
       "      <td>0.1806</td>\n",
       "      <td>328.7087</td>\n",
       "      <td>329.0</td>\n",
       "    </tr>\n",
       "    <tr>\n",
       "      <th>mRS 5</th>\n",
       "      <td>0.0861</td>\n",
       "      <td>156.7431</td>\n",
       "      <td>157.0</td>\n",
       "    </tr>\n",
       "    <tr>\n",
       "      <th>mRS 6</th>\n",
       "      <td>0.1175</td>\n",
       "      <td>213.9150</td>\n",
       "      <td>214.0</td>\n",
       "    </tr>\n",
       "    <tr>\n",
       "      <th>Total</th>\n",
       "      <td>1.0000</td>\n",
       "      <td>1819.9998</td>\n",
       "      <td>1820.0</td>\n",
       "    </tr>\n",
       "  </tbody>\n",
       "</table>\n",
       "</div>"
      ],
      "text/plain": [
       "       Probability  Number of patients  Number of patients (rounded)\n",
       "mRS 0       0.1486            270.4808                         270.0\n",
       "mRS 1       0.2022            368.0232                         368.0\n",
       "mRS 2       0.1253            227.9624                         228.0\n",
       "mRS 3       0.1397            254.1666                         254.0\n",
       "mRS 4       0.1806            328.7087                         329.0\n",
       "mRS 5       0.0861            156.7431                         157.0\n",
       "mRS 6       0.1175            213.9150                         214.0\n",
       "Total       1.0000           1819.9998                        1820.0"
      ]
     },
     "execution_count": 60,
     "metadata": {},
     "output_type": "execute_result"
    }
   ],
   "source": [
    "data_nlvo_lvo = np.stack((\n",
    "    dist_notreatment_nlvo_lvo,\n",
    "    n_patients_notreatment_nlvo_lvo, \n",
    "    np.round(n_patients_notreatment_nlvo_lvo,0).astype(int)\n",
    "))\n",
    "\n",
    "df = pd.DataFrame(data_nlvo_lvo.T,\n",
    "            columns=['Probability', 'Number of patients', \n",
    "                     'Number of patients (rounded)'],\n",
    "            index=[f'mRS {i}' for i in range(7)])\n",
    "\n",
    "df.loc['Total'] = df.sum()\n",
    "\n",
    "df"
   ]
  },
  {
   "cell_type": "markdown",
   "id": "d2555567-4da8-4728-9f60-ba3b856e7576",
   "metadata": {},
   "source": [
    "---"
   ]
  },
  {
   "cell_type": "markdown",
   "id": "11405fc6-d8f9-4e35-80bf-98db9e9fed68",
   "metadata": {},
   "source": [
    "# Extrapolate odds ratio\n",
    "\n",
    "Plot of odds ratio with time from Emberson et al. 2014 (their Figure 1):\n",
    "\n",
    "> ![](./images/data_sources/emberson-et-al-2014_figure-1_odds-ratio-with-time.png)\n",
    "\n",
    "> n.b. The y-axis is definitely \"odds ratio\". The dark blue line was calculated using \"log(odds ratio)\" and then transformed to \"odds ratio\" for the graph. "
   ]
  },
  {
   "cell_type": "markdown",
   "id": "fb3045ef-2bbd-41c1-a036-6b1e39917b54",
   "metadata": {},
   "source": [
    "We take the following two important coordinates from this graph:\n",
    "    \n",
    "| Treatment delay (hours) | Odds ratio |    \n",
    "| --- | --- | \n",
    "| 1.0 | $\\sim$1.9 |\n",
    "| 6.3 | 1.0 | \n"
   ]
  },
  {
   "cell_type": "markdown",
   "id": "505b918c-5827-4881-b789-2198ba767c42",
   "metadata": {},
   "source": [
    "## Our new calculations\n",
    "\n",
    "### Method\n",
    "\n",
    "The following method is explained more fully [here](https://github.com/samuel-book/stroke_outcome/blob/main/extrapolate_odds_ratio.ipynb). \n",
    "\n",
    "By converting the two important coordinates to log(odds ratio) and connecting them with a straight line, we can extrapolate back to time zero:\n",
    "\n",
    "> <img src='./images/extrapolate-emberson-fig1.jpg' width='600'>\n",
    "\n",
    "The three marked coordinates are:\n",
    "\n",
    "| Treatment delay (hours) | log(odds ratio) |    \n",
    "| --- | --- | \n",
    "| 0.0 | 0.76296 | \n",
    "| 1.0 | 0.64185 |\n",
    "| 6.3 | 0.00000 | \n",
    "\n",
    "\n",
    "When a data point for probability at time 6.3 hours is known, the new log(odds ratio) at time zero can be converted into probability at time zero.\n"
   ]
  },
  {
   "cell_type": "markdown",
   "id": "7fd16a07-ea26-4b2a-b639-3efa0fd04eab",
   "metadata": {},
   "source": [
    "### Usage \n",
    "\n",
    "In the \"Control Groups\" section above, we used data from the Emberson et al. 2014 Figure 2 to find probabilities in the patient population that did not receive treatment. We can feed those probabilities into this straight-line fit to create time-zero probabilities. \n",
    "\n",
    "The results:\n",
    "\n",
    "| Occlusion | $P$(mRS$\\leq$1 &#124; time zero) <br> (Extrapolated) | $P$(mRS$\\leq$1 &#124; no treatment)  <br> (Emberson et al. 2014, Figure 2) |\n",
    "| --- | --- | --- |\n",
    "| nLVO | 0.6483 | 0.4622 |\n",
    "| LVO | 0.2472 | 0.1328 |\n",
    "\n",
    "The code to generate these numbers is given at the bottom of [this page](https://github.com/samuel-book/stroke_outcome/blob/main/extrapolate_odds_ratio.ipynb). "
   ]
  },
  {
   "cell_type": "markdown",
   "id": "69c78617-9c46-472e-8a89-9991c01d9f1a",
   "metadata": {},
   "source": [
    "---"
   ]
  },
  {
   "cell_type": "markdown",
   "id": "e85340ef-b68f-4c0e-82bf-001541a33146",
   "metadata": {},
   "source": [
    "# Excess deaths"
   ]
  },
  {
   "cell_type": "markdown",
   "id": "509cbef8-dd41-48de-a36c-507466db4db1",
   "metadata": {},
   "source": [
    "## MT \n",
    "\n",
    "From Goyal et al. 2016 (Table 4, \"Mortality\" row):\n",
    "\n",
    "> ![](./images/data_sources/goyal-et-al-2016_table-4_excess-deaths.png)"
   ]
  },
  {
   "cell_type": "code",
   "execution_count": 22,
   "id": "77725e21-6f6f-4cb3-8da1-72cdde8e926e",
   "metadata": {},
   "outputs": [
    {
     "name": "stdout",
     "output_type": "stream",
     "text": [
      "% of deaths, given MT:     15.3239\n",
      "% of deaths, no treatment: 18.8854\n",
      "% of excess deaths:        -3.5616\n"
     ]
    }
   ],
   "source": [
    "prop_fatalICH_MT = (97.0 / 633.0)\n",
    "prop_fatalICH_noMT = (122.0 / 646.0)\n",
    "prop_fatalICH_MT_excess = prop_fatalICH_MT - prop_fatalICH_noMT\n",
    "\n",
    "print(f'% of deaths, given MT:     {100.0 * prop_fatalICH_MT:.4f}')\n",
    "print(f'% of deaths, no treatment: {100.0 * prop_fatalICH_noMT:.4f}')\n",
    "print(f'% of excess deaths:        {100.0 * prop_fatalICH_MT_excess:.4f}')"
   ]
  },
  {
   "cell_type": "markdown",
   "id": "ef795d9f-2184-4041-bc23-05829e344706",
   "metadata": {},
   "source": [
    "## IVT\n",
    "\n",
    "From Emberson et al. 2014 (page 5, penultimate paragraph before Discussion):\n",
    "\n",
    "> ![](./images/data_sources/emberson-et-al-2014_text_excess-deaths.png)"
   ]
  },
  {
   "cell_type": "markdown",
   "id": "3f7e2b23-a143-4678-9d6b-beb034be05c2",
   "metadata": {},
   "source": [
    "The 2.7% and 0.4% values given in the text are the proportion of fatal haemorrhages out of the population:"
   ]
  },
  {
   "cell_type": "code",
   "execution_count": 19,
   "id": "d2cf09ee-5fab-4e90-8ee1-4a2f5b1b0af5",
   "metadata": {},
   "outputs": [
    {
     "name": "stdout",
     "output_type": "stream",
     "text": [
      "% of deaths, given IVT:    2.6836\n",
      "% of deaths, no treatment: 0.3863\n",
      "% of excess deaths:        2.2972\n"
     ]
    }
   ],
   "source": [
    "prop_fatalICH_IVT = (91.0 / 3391.0)\n",
    "prop_fatalICH_noIVT = (13.0 / 3365.0)\n",
    "prop_fatalICH_IVT_excess = prop_fatalICH_IVT - prop_fatalICH_noIVT\n",
    "\n",
    "print(f'% of deaths, given IVT:    {100.0 * prop_fatalICH_IVT:.4f}')\n",
    "print(f'% of deaths, no treatment: {100.0 * prop_fatalICH_noIVT:.4f}')\n",
    "print(f'% of excess deaths:        {100.0 * prop_fatalICH_IVT_excess:.4f}')"
   ]
  },
  {
   "cell_type": "markdown",
   "id": "211a4cc8-f44b-4cf7-9bd1-2c2ef66506c5",
   "metadata": {},
   "source": [
    "## Our new calculations:\n",
    "\n",
    "Done stuff to turn IVT into nLVO and LVO separately\n",
    "\n",
    "[here](https://github.com/samuel-book/stroke_outcome/blob/main/mRS_datasets_full.ipynb). "
   ]
  },
  {
   "cell_type": "markdown",
   "id": "941dc1e4-d593-49ee-a70e-ba0ce53d484d",
   "metadata": {},
   "source": [
    "---"
   ]
  },
  {
   "cell_type": "markdown",
   "id": "5b1f1cfa-3305-4e42-8851-2ad8263b9357",
   "metadata": {},
   "source": [
    "# Recanalisation\n",
    "\n",
    "From Hui et al. 2020 (bottom of page 2031, final paragraph of \"Secondary Outcome: Recanalisation\" section):\n",
    "\n",
    "> ![](./images/data_sources/hui-et-al-2020_text_recanalisation-perc.png)"
   ]
  },
  {
   "cell_type": "markdown",
   "id": "386e0137-ebb8-4bad-a1d3-3f0133dd6c44",
   "metadata": {},
   "source": [
    "---"
   ]
  },
  {
   "cell_type": "markdown",
   "id": "eca8a16e-3695-4d05-b731-5a1416c0fe87",
   "metadata": {},
   "source": [
    "## References\n",
    "\n",
    "de la Ossa Herrero N, Carrera D, Gorchs M, Querol M, Millán M, Gomis M, et al. Design and Validation of a Prehospital Stroke Scale to Predict Large Arterial Occlusion The Rapid Arterial Occlusion Evaluation Scale. Stroke; a journal of cerebral circulation. 2013 Nov 26;45. \n",
    "\n",
    "Emberson J, Lees KR, Lyden P, et al. _Effect of treatment delay, age, and stroke severity on the effects of intravenous thrombolysis with alteplase for acute ischaemic stroke: A meta-analysis of individual patient data from randomised trials._ The Lancet 2014;384:1929–35. doi:10.1016/S0140-6736(14)60584-5\n",
    "\n",
    "Fransen, P., Berkhemer, O., Lingsma, H. et al. Time to Reperfusion and Treatment Effect for Acute Ischemic Stroke: A Randomized Clinical Trial. JAMA Neurol. 2016 Feb 1;73(2):190–6. DOI: 10.1001/jamaneurol.2015.3886\n",
    "\n",
    "Goyal M, Menon BK, van Zwam WH, et al. _Endovascular thrombectomy after large-vessel ischaemic stroke: a meta-analysis of individual patient data from five randomised trials._ The Lancet 2016;387:1723-1731. doi:10.1016/S0140-6736(16)00163-X\n",
    "\n",
    "Hui W, Wu C, Zhao W, Sun H, Hao J, Liang H, et al. Efficacy and Safety of Recanalization Therapy for Acute Ischemic Stroke With Large Vessel Occlusion. Stroke. 2020 Jul;51(7):2026–35. \n",
    "\n",
    "IST-3 collaborative group, Sandercock P, Wardlaw JM, Lindley RI, Dennis M, Cohen G, et al. The benefits and harms of intravenous thrombolysis with recombinant tissue plasminogen activator within 6 h of acute ischaemic stroke (the third international stroke trial [IST-3]): a randomised controlled trial. Lancet. 2012 379:2352-63.\n",
    "\n",
    "Lees KR, Bluhmki E, von Kummer R, et al. _Time to treatment with intravenous alteplase and outcome in stroke: an updated pooled analysis of ECASS, ATLANTIS, NINDS, and EPITHET trials_. The Lancet 2010;375:1695-703. doi:10.1016/S0140-6736(10)60491-6\n",
    "\n",
    "McMeekin P, White P, James MA, Price CI, Flynn D, Ford GA. Estimating the number of UK stroke patients eligible for endovascular thrombectomy. European Stroke Journal. 2017;2:319–26. \n",
    "\n",
    "SAMueL-1 data on mRS before stroke (DOI: 10.5281/zenodo.6896710): https://samuel-book.github.io/samuel-1/descriptive_stats/08_prestroke_mrs.html"
   ]
  }
 ],
 "metadata": {
  "kernelspec": {
   "display_name": "Python 3 (ipykernel)",
   "language": "python",
   "name": "python3"
  },
  "language_info": {
   "codemirror_mode": {
    "name": "ipython",
    "version": 3
   },
   "file_extension": ".py",
   "mimetype": "text/x-python",
   "name": "python",
   "nbconvert_exporter": "python",
   "pygments_lexer": "ipython3",
   "version": "3.8.13"
  }
 },
 "nbformat": 4,
 "nbformat_minor": 5
}
