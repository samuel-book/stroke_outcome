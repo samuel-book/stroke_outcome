{
 "cells": [
  {
   "cell_type": "markdown",
   "id": "0cf7d690-5fba-4f02-8eaf-2309a7ea64b6",
   "metadata": {},
   "source": [
    "# Data sources cheat sheet"
   ]
  },
  {
   "cell_type": "markdown",
   "id": "4ca39b7d-1cc6-47a7-81ae-4509d3d26ec5",
   "metadata": {},
   "source": [
    "Here's where all the data came from"
   ]
  },
  {
   "cell_type": "markdown",
   "id": "ee938c43-baa8-4b69-8a77-f143ab16372f",
   "metadata": {},
   "source": [
    "---"
   ]
  },
  {
   "cell_type": "markdown",
   "id": "f94ed1de-b1e9-4f84-9598-30c0babd52ba",
   "metadata": {},
   "source": [
    "## Notebook admin"
   ]
  },
  {
   "cell_type": "code",
   "execution_count": 10,
   "id": "83920ff9-1558-45e7-8457-7c489ac2306a",
   "metadata": {},
   "outputs": [],
   "source": [
    "import matplotlib.pyplot as plt\n",
    "import numpy as np\n",
    "import pandas as pd\n",
    "\n",
    "# Set NumPy and Pandas to print 4 decimal places\n",
    "np.set_printoptions(precision=4)\n",
    "pd.set_option(\"display.precision\", 4)"
   ]
  },
  {
   "cell_type": "markdown",
   "id": "62108b59-adae-41ac-83a4-fe649df023ba",
   "metadata": {},
   "source": [
    "---"
   ]
  },
  {
   "cell_type": "markdown",
   "id": "0e411a2b-a63b-4cf0-9e1e-f26e41540499",
   "metadata": {},
   "source": [
    "# Control groups"
   ]
  },
  {
   "cell_type": "markdown",
   "id": "ededcaa2-fcc1-4387-ade3-1f21dff2df9f",
   "metadata": {},
   "source": [
    "### IVT, no treatment, for mRS<=1\n",
    "\n",
    "Population data from Emberson et al. 2014 (their Figure 2, \"Control\" column):\n",
    "\n",
    "> ![](./images/emberson-et-al-2014_figure-2_population-data.png)"
   ]
  },
  {
   "cell_type": "markdown",
   "id": "d9cbf092-83f4-4e9e-b988-6fd0e41fa6a7",
   "metadata": {},
   "source": [
    "We take the rows where NIHSS$\\leq$10 to mean patients with nLVO, and NIHSS>10 to mean LVO. Then we can calculate the probability $P$ and odds $O$:\n",
    "\n",
    "__nLVO:__\n",
    "\n",
    "$P(\\mathrm{mRS}\\leq1 \\ |\\ \\mathrm{no\\ treatment} \\ |\\ \\mathrm{nLVO}) = \\frac{189 + 538}{321 + 1252} = 0.4622 $\n",
    "\n",
    "$O(\\mathrm{mRS}\\leq1 \\ |\\ \\mathrm{no\\ treatment} \\ |\\ \\mathrm{nLVO}) = \\frac{0.46...}{1.0 - 0.46...} = 0.8593 $\n",
    "\n",
    "__LVO:__\n",
    "\n",
    "$P(\\mathrm{mRS}\\leq1 \\ |\\ \\mathrm{no\\ treatment} \\ |\\ \\mathrm{LVO}) = \\frac{175 + 55 + 8}{808 + 671 + 313} = 0.1328 $\n",
    "\n",
    "$O(\\mathrm{mRS}\\leq1 \\ |\\ \\mathrm{no\\ treatment} \\ |\\ \\mathrm{LVO}) = \\frac{0.13...}{1.0 - 0.13...} = 0.1532 $"
   ]
  },
  {
   "cell_type": "markdown",
   "id": "d2555567-4da8-4728-9f60-ba3b856e7576",
   "metadata": {},
   "source": [
    "---"
   ]
  },
  {
   "cell_type": "markdown",
   "id": "11405fc6-d8f9-4e35-80bf-98db9e9fed68",
   "metadata": {},
   "source": [
    "# Extrapolate odds ratio\n",
    "\n",
    "Plot of odds ratio with time from Emberson et al. 2014 (their Figure 1):\n",
    "\n",
    "> ![](./images/emberson-et-al-2014_figure-1_odds-ratio-with-time.png)\n",
    "\n",
    "> n.b. The y-axis is definitely \"odds ratio\". The dark blue line was calculated using \"log(odds ratio)\" and then transformed to \"odds ratio\" for the graph. "
   ]
  },
  {
   "cell_type": "markdown",
   "id": "fb3045ef-2bbd-41c1-a036-6b1e39917b54",
   "metadata": {},
   "source": [
    "We take the following two important coordinates from this graph:\n",
    "    \n",
    "| Treatment delay (hours) | Odds ratio |    \n",
    "| --- | --- | \n",
    "| 1.0 | $\\sim$1.9 |\n",
    "| 6.3 | 1.0 | \n"
   ]
  },
  {
   "cell_type": "markdown",
   "id": "505b918c-5827-4881-b789-2198ba767c42",
   "metadata": {},
   "source": [
    "## Our new calculations\n",
    "\n",
    "### Method\n",
    "\n",
    "The following method is explained more fully [here](https://github.com/samuel-book/stroke_outcome/blob/main/extrapolate_odds_ratio.ipynb). \n",
    "\n",
    "By converting the two important coordinates to log(odds ratio) and connecting them with a straight line, we can extrapolate back to time zero:\n",
    "\n",
    "> <img src='./images/extrapolate-emberson-fig1.jpg' width='600'>\n",
    "\n",
    "The three marked coordinates are:\n",
    "\n",
    "| Treatment delay (hours) | log(odds ratio) |    \n",
    "| --- | --- | \n",
    "| 0.0 | 0.76296 | \n",
    "| 1.0 | 0.64185 |\n",
    "| 6.3 | 0.00000 | \n",
    "\n",
    "\n",
    "When a data point for probability at time 6.3 hours is known, the new log(odds ratio) at time zero can be converted into probability at time zero.\n"
   ]
  },
  {
   "cell_type": "markdown",
   "id": "7fd16a07-ea26-4b2a-b639-3efa0fd04eab",
   "metadata": {},
   "source": [
    "### Usage \n",
    "\n",
    "In the \"Control Groups\" section above, we used data from the Emberson et al. 2014 Figure 2 to find probabilities in the patient population that did not receive treatment. We can feed those probabilities into this straight-line fit to create time-zero probabilities. \n",
    "\n",
    "The results:\n",
    "\n",
    "| Occlusion | $P$(mRS$\\leq$1 &#124; time zero) <br> (Extrapolated) | $P$(mRS$\\leq$1 &#124; no treatment)  <br> (Emberson et al. 2014, Figure 2) |\n",
    "| --- | --- | --- |\n",
    "| nLVO | 0.6483 | 0.4622 |\n",
    "| LVO | 0.2472 | 0.1328 |\n",
    "\n",
    "The code to generate these numbers is given at the bottom of [this page](https://github.com/samuel-book/stroke_outcome/blob/main/extrapolate_odds_ratio.ipynb). "
   ]
  },
  {
   "cell_type": "markdown",
   "id": "69c78617-9c46-472e-8a89-9991c01d9f1a",
   "metadata": {},
   "source": [
    "---"
   ]
  },
  {
   "cell_type": "markdown",
   "id": "e85340ef-b68f-4c0e-82bf-001541a33146",
   "metadata": {},
   "source": [
    "# Excess deaths"
   ]
  },
  {
   "cell_type": "markdown",
   "id": "509cbef8-dd41-48de-a36c-507466db4db1",
   "metadata": {},
   "source": [
    "## MT \n",
    "\n",
    "From Goyal et al. 2016 (Table 4, \"Mortality\" row):\n",
    "\n",
    "> ![](./images/goyal-et-al-2016_table-4_excess-deaths.png)"
   ]
  },
  {
   "cell_type": "code",
   "execution_count": 22,
   "id": "77725e21-6f6f-4cb3-8da1-72cdde8e926e",
   "metadata": {},
   "outputs": [
    {
     "name": "stdout",
     "output_type": "stream",
     "text": [
      "% of deaths, given MT:     15.3239\n",
      "% of deaths, no treatment: 18.8854\n",
      "% of excess deaths:        -3.5616\n"
     ]
    }
   ],
   "source": [
    "prop_fatalICH_MT = (97.0 / 633.0)\n",
    "prop_fatalICH_noMT = (122.0 / 646.0)\n",
    "prop_fatalICH_MT_excess = prop_fatalICH_MT - prop_fatalICH_noMT\n",
    "\n",
    "print(f'% of deaths, given MT:     {100.0 * prop_fatalICH_MT:.4f}')\n",
    "print(f'% of deaths, no treatment: {100.0 * prop_fatalICH_noMT:.4f}')\n",
    "print(f'% of excess deaths:        {100.0 * prop_fatalICH_MT_excess:.4f}')"
   ]
  },
  {
   "cell_type": "markdown",
   "id": "ef795d9f-2184-4041-bc23-05829e344706",
   "metadata": {},
   "source": [
    "## IVT\n",
    "\n",
    "From Emberson et al. 2014 (page 5, penultimate paragraph before Discussion):\n",
    "\n",
    "> ![](./images/emberson-et-al-2014_text_excess-deaths.png)"
   ]
  },
  {
   "cell_type": "markdown",
   "id": "3f7e2b23-a143-4678-9d6b-beb034be05c2",
   "metadata": {},
   "source": [
    "The 2.7% and 0.4% values given in the text are the proportion of fatal haemorrhages out of the population:"
   ]
  },
  {
   "cell_type": "code",
   "execution_count": 19,
   "id": "d2cf09ee-5fab-4e90-8ee1-4a2f5b1b0af5",
   "metadata": {},
   "outputs": [
    {
     "name": "stdout",
     "output_type": "stream",
     "text": [
      "% of deaths, given IVT:    2.6836\n",
      "% of deaths, no treatment: 0.3863\n",
      "% of excess deaths:        2.2972\n"
     ]
    }
   ],
   "source": [
    "prop_fatalICH_IVT = (91.0 / 3391.0)\n",
    "prop_fatalICH_noIVT = (13.0 / 3365.0)\n",
    "prop_fatalICH_IVT_excess = prop_fatalICH_IVT - prop_fatalICH_noIVT\n",
    "\n",
    "print(f'% of deaths, given IVT:    {100.0 * prop_fatalICH_IVT:.4f}')\n",
    "print(f'% of deaths, no treatment: {100.0 * prop_fatalICH_noIVT:.4f}')\n",
    "print(f'% of excess deaths:        {100.0 * prop_fatalICH_IVT_excess:.4f}')"
   ]
  },
  {
   "cell_type": "markdown",
   "id": "211a4cc8-f44b-4cf7-9bd1-2c2ef66506c5",
   "metadata": {},
   "source": [
    "## Our new calculations:\n",
    "\n",
    "Done stuff to turn IVT into nLVO and LVO separately\n",
    "\n",
    "[here](https://github.com/samuel-book/stroke_outcome/blob/main/mRS_datasets_full.ipynb). "
   ]
  },
  {
   "cell_type": "markdown",
   "id": "941dc1e4-d593-49ee-a70e-ba0ce53d484d",
   "metadata": {},
   "source": [
    "---"
   ]
  },
  {
   "cell_type": "markdown",
   "id": "5b1f1cfa-3305-4e42-8851-2ad8263b9357",
   "metadata": {},
   "source": [
    "# Recanalisation\n",
    "\n",
    "From Hui et al. 2020 (bottom of page 2031, final paragraph of \"Secondary Outcome: Recanalisation\" section):\n",
    "\n",
    "> ![](./images/hui-et-al-2020_text_recanalisation-perc.png)"
   ]
  },
  {
   "cell_type": "markdown",
   "id": "386e0137-ebb8-4bad-a1d3-3f0133dd6c44",
   "metadata": {},
   "source": [
    "---"
   ]
  },
  {
   "cell_type": "markdown",
   "id": "eca8a16e-3695-4d05-b731-5a1416c0fe87",
   "metadata": {},
   "source": [
    "## References\n",
    "\n",
    "de la Ossa Herrero N, Carrera D, Gorchs M, Querol M, Millán M, Gomis M, et al. Design and Validation of a Prehospital Stroke Scale to Predict Large Arterial Occlusion The Rapid Arterial Occlusion Evaluation Scale. Stroke; a journal of cerebral circulation. 2013 Nov 26;45. \n",
    "\n",
    "Emberson J, Lees KR, Lyden P, et al. _Effect of treatment delay, age, and stroke severity on the effects of intravenous thrombolysis with alteplase for acute ischaemic stroke: A meta-analysis of individual patient data from randomised trials._ The Lancet 2014;384:1929–35. doi:10.1016/S0140-6736(14)60584-5\n",
    "\n",
    "Fransen, P., Berkhemer, O., Lingsma, H. et al. Time to Reperfusion and Treatment Effect for Acute Ischemic Stroke: A Randomized Clinical Trial. JAMA Neurol. 2016 Feb 1;73(2):190–6. DOI: 10.1001/jamaneurol.2015.3886\n",
    "\n",
    "Goyal M, Menon BK, van Zwam WH, et al. _Endovascular thrombectomy after large-vessel ischaemic stroke: a meta-analysis of individual patient data from five randomised trials._ The Lancet 2016;387:1723-1731. doi:10.1016/S0140-6736(16)00163-X\n",
    "\n",
    "Hui W, Wu C, Zhao W, Sun H, Hao J, Liang H, et al. Efficacy and Safety of Recanalization Therapy for Acute Ischemic Stroke With Large Vessel Occlusion. Stroke. 2020 Jul;51(7):2026–35. \n",
    "\n",
    "IST-3 collaborative group, Sandercock P, Wardlaw JM, Lindley RI, Dennis M, Cohen G, et al. The benefits and harms of intravenous thrombolysis with recombinant tissue plasminogen activator within 6 h of acute ischaemic stroke (the third international stroke trial [IST-3]): a randomised controlled trial. Lancet. 2012 379:2352-63.\n",
    "\n",
    "Lees KR, Bluhmki E, von Kummer R, et al. _Time to treatment with intravenous alteplase and outcome in stroke: an updated pooled analysis of ECASS, ATLANTIS, NINDS, and EPITHET trials_. The Lancet 2010;375:1695-703. doi:10.1016/S0140-6736(10)60491-6\n",
    "\n",
    "McMeekin P, White P, James MA, Price CI, Flynn D, Ford GA. Estimating the number of UK stroke patients eligible for endovascular thrombectomy. European Stroke Journal. 2017;2:319–26. \n",
    "\n",
    "SAMueL-1 data on mRS before stroke (DOI: 10.5281/zenodo.6896710): https://samuel-book.github.io/samuel-1/descriptive_stats/08_prestroke_mrs.html"
   ]
  }
 ],
 "metadata": {
  "kernelspec": {
   "display_name": "Python 3 (ipykernel)",
   "language": "python",
   "name": "python3"
  },
  "language_info": {
   "codemirror_mode": {
    "name": "ipython",
    "version": 3
   },
   "file_extension": ".py",
   "mimetype": "text/x-python",
   "name": "python",
   "nbconvert_exporter": "python",
   "pygments_lexer": "ipython3",
   "version": "3.8.13"
  }
 },
 "nbformat": 4,
 "nbformat_minor": 5
}
