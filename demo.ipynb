{
 "cells": [
  {
   "cell_type": "code",
   "execution_count": 1,
   "metadata": {
    "pycharm": {
     "name": "#%%\n"
    }
   },
   "outputs": [],
   "source": [
    "import matplotlib.pyplot as plt\n",
    "import numpy as np\n",
    "import pandas as pd\n",
    "from outcome_utilities.clinical_outcome import Clinical_outcome\n",
    "\n",
    "import warnings\n",
    "warnings.filterwarnings(\"ignore\")"
   ]
  },
  {
   "cell_type": "code",
   "execution_count": 2,
   "metadata": {
    "collapsed": false,
    "jupyter": {
     "outputs_hidden": false
    },
    "pycharm": {
     "name": "#%%\n"
    }
   },
   "outputs": [],
   "source": [
    "mrs_dists = pd.read_csv(\n",
    "    './outcome_utilities/mrs_dist_probs_cumsum.csv', index_col='Stroke type')\n",
    "outcome_model = Clinical_outcome(mrs_dists, patients=1000)\n",
    "time_to_ivt = 120\n",
    "time_to_mt = 240\n",
    "outcomes = outcome_model.calculate_outcomes(time_to_ivt, time_to_mt)"
   ]
  },
  {
   "cell_type": "code",
   "execution_count": 3,
   "metadata": {
    "collapsed": false,
    "jupyter": {
     "outputs_hidden": false
    },
    "pycharm": {
     "name": "#%%\n"
    }
   },
   "outputs": [
    {
     "data": {
      "text/plain": [
       "{'lvo_untreated_probs': array([0.053, 0.088, 0.148, 0.152, 0.237, 0.14 , 0.182]),\n",
       " 'nlvo_untreated_probs': array([0.206, 0.258, 0.116, 0.12 , 0.166, 0.058, 0.076]),\n",
       " 'lvo_ivt_probs': array([0.099, 0.078, 0.146, 0.147, 0.218, 0.123, 0.189]),\n",
       " 'lvo_mt_probs': array([0.122, 0.125, 0.152, 0.179, 0.184, 0.094, 0.144]),\n",
       " 'nlvo_ivt_probs': array([0.351, 0.227, 0.109, 0.128, 0.1  , 0.029, 0.056]),\n",
       " 'lvo_untreated_cum_probs': array([0.053, 0.141, 0.289, 0.441, 0.678, 0.818, 1.   ]),\n",
       " 'nlvo_untreated_cum_probs': array([0.206, 0.464, 0.58 , 0.7  , 0.866, 0.924, 1.   ]),\n",
       " 'lvo_ivt_cum_probs': array([0.099, 0.177, 0.323, 0.47 , 0.688, 0.811, 1.   ]),\n",
       " 'lvo_mt_cum_probs': array([0.122, 0.247, 0.399, 0.578, 0.762, 0.856, 1.   ]),\n",
       " 'nlvo_ivt_cum_probs': array([0.351, 0.578, 0.687, 0.815, 0.915, 0.944, 1.   ]),\n",
       " 'lvo_ivt_shift': array([ 0.046, -0.01 , -0.002, -0.005, -0.019, -0.017,  0.007]),\n",
       " 'lvo_mt_shift': array([ 0.069,  0.037,  0.004,  0.027, -0.053, -0.046, -0.038]),\n",
       " 'nlvo_ivt_shift': array([ 0.145, -0.031, -0.007,  0.008, -0.066, -0.029, -0.02 ]),\n",
       " 'lvo_untreated_mean_mRS': 3.58,\n",
       " 'nlvo_untreated_mean_mRS': 2.26,\n",
       " 'lvo_ivt_mean_mRS': 3.432,\n",
       " 'lvo_mt_mean_mRS': 3.036,\n",
       " 'nlvo_ivt_mean_mRS': 1.71,\n",
       " 'lvo_ivt_mean_shift': -0.148,\n",
       " 'lvo_mt_mean_shift': -0.607,\n",
       " 'nlvo_ivt_mean_shift': -0.55,\n",
       " 'lvo_ivt_improved': 0.155,\n",
       " 'lvo_mt_improved': 0.602,\n",
       " 'nlvo_ivt_improved': 0.55}"
      ]
     },
     "execution_count": 3,
     "metadata": {},
     "output_type": "execute_result"
    }
   ],
   "source": [
    "outcomes"
   ]
  },
  {
   "cell_type": "markdown",
   "metadata": {},
   "source": [
    "## Plot mRS distributions"
   ]
  },
  {
   "cell_type": "code",
   "execution_count": 4,
   "metadata": {
    "collapsed": false,
    "jupyter": {
     "outputs_hidden": false
    },
    "pycharm": {
     "name": "#%%\n"
    }
   },
   "outputs": [],
   "source": [
    "plt.style.use('seaborn-colorblind')\n",
    "def draw_horizontal_bar(dist,label=' '):\n",
    "    \"\"\"\n",
    "    Draw a stacked horizontal bar chart of the values in 'dist'.\n",
    "    \n",
    "    dist  - list or np.array. The probability distribution \n",
    "            (non-cumulative).\n",
    "    label - string. The name printed next to these stacked bars.\n",
    "    \"\"\"\n",
    "    fig = plt.figure(figsize=(8,2))\n",
    "    ax = fig.add_subplot()\n",
    "    ax.set_frame_on(False)\n",
    "    \n",
    "    colour_list = plt.rcParams['axes.prop_cycle'].by_key()['color']\n",
    "    # The first bar will start at this point on the x-axis:\n",
    "    left = 0\n",
    "    for i in range(len(dist)):\n",
    "        # Draw a bar starting from 'left', the end of the previous bar,\n",
    "        # with a width equal to the probability of this mRS:\n",
    "        ax.barh(' ', width=dist[i], left=left, height=0.5, \n",
    "                 label=f'{i}', edgecolor='k', color=colour_list[i%6])\n",
    "        # Update 'left' with the width of the current bar so that the \n",
    "        # next bar drawn will start in the correct place.    \n",
    "        left += dist[i]\n",
    "    ax.set_xlabel('Probability')\n",
    "    ax.set_title(label)\n",
    "    ax.legend(loc='center',ncol=7, title='mRS', \n",
    "               bbox_to_anchor=[0.5,0.0,0.0,-1.20])   # Legend below axis."
   ]
  },
  {
   "cell_type": "code",
   "execution_count": 5,
   "metadata": {
    "pycharm": {
     "name": "#%%\n"
    }
   },
   "outputs": [
    {
     "data": {
      "image/png": "[encoded data removed]",
      "text/plain": [
       "<Figure size 576x144 with 1 Axes>"
      ]
     },
     "metadata": {
      "needs_background": "light"
     },
     "output_type": "display_data"
    }
   ],
   "source": [
    "bins = np.diff(outcomes['nlvo_untreated_cum_probs'], prepend=0)\n",
    "draw_horizontal_bar(bins, 'nLVO untreated')"
   ]
  },
  {
   "cell_type": "code",
   "execution_count": 6,
   "metadata": {
    "pycharm": {
     "name": "#%%\n"
    }
   },
   "outputs": [
    {
     "data": {
      "image/png": "[encoded data removed]",
      "text/plain": [
       "<Figure size 576x144 with 1 Axes>"
      ]
     },
     "metadata": {
      "needs_background": "light"
     },
     "output_type": "display_data"
    }
   ],
   "source": [
    "bins = np.diff(outcomes['nlvo_ivt_cum_probs'], prepend=0)\n",
    "draw_horizontal_bar(bins, 'nLVO IVT')"
   ]
  },
  {
   "cell_type": "code",
   "execution_count": 7,
   "metadata": {
    "pycharm": {
     "name": "#%%\n"
    }
   },
   "outputs": [
    {
     "data": {
      "image/png": "[encoded data removed]",
      "text/plain": [
       "<Figure size 576x144 with 1 Axes>"
      ]
     },
     "metadata": {
      "needs_background": "light"
     },
     "output_type": "display_data"
    }
   ],
   "source": [
    "bins = np.diff(outcomes['lvo_untreated_cum_probs'], prepend=0)\n",
    "draw_horizontal_bar(bins, 'LVO untreated')"
   ]
  },
  {
   "cell_type": "code",
   "execution_count": 8,
   "metadata": {
    "pycharm": {
     "name": "#%%\n"
    }
   },
   "outputs": [
    {
     "data": {
      "image/png": "[encoded data removed]",
      "text/plain": [
       "<Figure size 576x144 with 1 Axes>"
      ]
     },
     "metadata": {
      "needs_background": "light"
     },
     "output_type": "display_data"
    }
   ],
   "source": [
    "bins = np.diff(outcomes['lvo_ivt_cum_probs'], prepend=0)\n",
    "draw_horizontal_bar(bins, 'LVO IVT')"
   ]
  },
  {
   "cell_type": "code",
   "execution_count": 9,
   "metadata": {
    "pycharm": {
     "name": "#%%\n"
    }
   },
   "outputs": [
    {
     "data": {
      "image/png": "[encoded data removed]",
      "text/plain": [
       "<Figure size 576x144 with 1 Axes>"
      ]
     },
     "metadata": {
      "needs_background": "light"
     },
     "output_type": "display_data"
    }
   ],
   "source": [
    "bins = np.diff(outcomes['lvo_mt_cum_probs'], prepend=0)\n",
    "draw_horizontal_bar(bins, 'LVO MT')"
   ]
  },
  {
   "cell_type": "markdown",
   "metadata": {},
   "source": [
    "## Plot changes in mRS proportions with treatment"
   ]
  },
  {
   "cell_type": "code",
   "execution_count": 10,
   "metadata": {},
   "outputs": [],
   "source": [
    "def plot_shift(dist, label=' '):\n",
    "    x=np.arange(7)\n",
    "    fig = plt.figure(figsize=(5,5))\n",
    "    ax = fig.add_subplot()\n",
    "    ax.bar(x, dist)\n",
    "    ax.hlines(0, -0.5, 6.5, color='k', linewidth=1)\n",
    "    ax.set_xlabel('mRS')\n",
    "    ax.set_ylabel('Change in probability')\n",
    "    ax.set_title(label)\n",
    "    plt.show()"
   ]
  },
  {
   "cell_type": "code",
   "execution_count": 11,
   "metadata": {},
   "outputs": [
    {
     "data": {
      "image/png": "[encoded data removed]",
      "text/plain": [
       "<Figure size 360x360 with 1 Axes>"
      ]
     },
     "metadata": {
      "needs_background": "light"
     },
     "output_type": "display_data"
    }
   ],
   "source": [
    "plot_shift(outcomes['lvo_ivt_shift'], 'LVO-IVT shift')"
   ]
  },
  {
   "cell_type": "code",
   "execution_count": 12,
   "metadata": {},
   "outputs": [
    {
     "data": {
      "image/png": "[encoded data removed]",
      "text/plain": [
       "<Figure size 360x360 with 1 Axes>"
      ]
     },
     "metadata": {
      "needs_background": "light"
     },
     "output_type": "display_data"
    }
   ],
   "source": [
    "plot_shift(outcomes['lvo_mt_shift'], 'LVO-MT shift')"
   ]
  },
  {
   "cell_type": "code",
   "execution_count": 13,
   "metadata": {},
   "outputs": [
    {
     "data": {
      "image/png": "[encoded data removed]",
      "text/plain": [
       "<Figure size 360x360 with 1 Axes>"
      ]
     },
     "metadata": {
      "needs_background": "light"
     },
     "output_type": "display_data"
    }
   ],
   "source": [
    "plot_shift(outcomes['nlvo_ivt_shift'], 'nLVO-IVT shift')"
   ]
  },
  {
   "cell_type": "markdown",
   "metadata": {},
   "source": [
    "## Other stats"
   ]
  },
  {
   "cell_type": "code",
   "execution_count": 14,
   "metadata": {},
   "outputs": [
    {
     "name": "stdout",
     "output_type": "stream",
     "text": [
      "Mean mRS\n",
      "--------\n",
      "LVO untreated: 3.58\n",
      "LVO IVT: 3.432\n",
      "LVO MT: 3.036\n",
      "nLVO untreated: 2.26\n",
      "nLVO IVT: 1.71\n"
     ]
    }
   ],
   "source": [
    "print('Mean mRS')\n",
    "print('--------')\n",
    "print('LVO untreated:', outcomes['lvo_untreated_mean_mRS'])\n",
    "print('LVO IVT:', outcomes['lvo_ivt_mean_mRS'])\n",
    "print('LVO MT:', outcomes['lvo_mt_mean_mRS'])\n",
    "print('nLVO untreated:', outcomes['nlvo_untreated_mean_mRS'])\n",
    "print('nLVO IVT:', outcomes['nlvo_ivt_mean_mRS'])"
   ]
  },
  {
   "cell_type": "code",
   "execution_count": 15,
   "metadata": {},
   "outputs": [
    {
     "name": "stdout",
     "output_type": "stream",
     "text": [
      "Mean mRS shift\n",
      "--------------\n",
      "LVO IVT: -0.148\n",
      "LVO MT: -0.607\n",
      "nLVO IVT: -0.55\n"
     ]
    }
   ],
   "source": [
    "print('Mean mRS shift')\n",
    "print('--------------')\n",
    "print('LVO IVT:', outcomes['lvo_ivt_mean_shift'])\n",
    "print('LVO MT:', outcomes['lvo_mt_mean_shift'])\n",
    "print('nLVO IVT:', outcomes['nlvo_ivt_mean_shift'])"
   ]
  },
  {
   "cell_type": "code",
   "execution_count": 16,
   "metadata": {},
   "outputs": [
    {
     "name": "stdout",
     "output_type": "stream",
     "text": [
      "Proportion improved\n",
      "-------------------\n",
      "LVO IVT: 0.602\n",
      "LVO MT: 0.155\n",
      "nLVO IVT: 0.55\n"
     ]
    }
   ],
   "source": [
    "print('Proportion improved')\n",
    "print('-------------------')\n",
    "print('LVO IVT:', outcomes['lvo_mt_improved'])\n",
    "print('LVO MT:', outcomes['lvo_ivt_improved'])\n",
    "print('nLVO IVT:', outcomes['nlvo_ivt_improved'])"
   ]
  }
 ],
 "metadata": {
  "kernelspec": {
   "display_name": "Python 3 (ipykernel)",
   "language": "python",
   "name": "python3"
  },
  "language_info": {
   "codemirror_mode": {
    "name": "ipython",
    "version": 3
   },
   "file_extension": ".py",
   "mimetype": "text/x-python",
   "name": "python",
   "nbconvert_exporter": "python",
   "pygments_lexer": "ipython3",
   "version": "3.8.13"
  },
  "vscode": {
   "interpreter": {
    "hash": "1cbbc16b0c861749b9a95c5f128e49297cfff30c52b65168a4b24d814ebeea2e"
   }
  }
 },
 "nbformat": 4,
 "nbformat_minor": 4
}
