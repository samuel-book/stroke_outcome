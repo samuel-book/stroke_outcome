{
 "cells": [
  {
   "cell_type": "markdown",
   "id": "86ce7613-26ec-46b7-a3fd-60a632a84702",
   "metadata": {
    "pycharm": {
     "name": "#%% md\n"
    }
   },
   "source": [
    "# Defining modified Rankin Scale (mRS) probability distributions for untreated patients, and predicted distributions if treatment given at time of stroke onset"
   ]
  },
  {
   "cell_type": "markdown",
   "id": "50556cb1-ecf8-4897-b052-42a2497ae0ef",
   "metadata": {
    "pycharm": {
     "name": "#%% md\n"
    }
   },
   "source": [
    "## Plain English Summary\n",
    "\n",
    "Disability levels may be measured in various ways. In this project we are using the modified Rankin Scale (mRS). It is a commonly used scale for measuring the degree of disability or dependence in the daily activities of people who have suffered a stroke.\n",
    "\n",
    "The scale runs from 0-6, running from perfect health without symptoms to death:\n",
    "\n",
    "| Score | Description |\n",
    "|---|---|\n",
    "| 0 | No symptoms. |\n",
    "| 1 | No significant disability. Able to carry out all usual activities, despite some symptoms. |\n",
    "| 2 | Slight disability. Able to look after own affairs without assistance, but unable to carry out all previous activities. |\n",
    "| 3 | Moderate disability. Requires some help, but able to walk unassisted. |\n",
    "| 4 | Moderately severe disability. Unable to attend to own bodily needs without assistance, and unable to walk unassisted. |\n",
    "| 5 | Severe disability. Requires constant nursing care and attention, bedridden, incontinent. |\n",
    "| 6 | Dead. |\n",
    "\n",
    "\n",
    "When we predict the outcome of a person who has had a stroke, we want to be able to say what is the likely improvement in disability level they would experience due to the treatment.\n",
    "\n",
    "The improvement they can get will depend on the time from when their stroke symptoms began and when they receive treatment. The best possible outcome would be if they were treated immediately after they had their stroke. The benefit of treatment reduces over time until the treatment no longer offer any benefit, and they will not be better off than having no treatment.\n",
    "\n",
    "In this notebook we describe how we estimate the spread of disability levels if treatment was given immediately after the stroke, and what the spread of disability levels would be if the treatment was given at a time when it was no longer effective. These are two key pieces of information we will later use to estimate the spread of disability levels if we know the time after stroke symptoms began when a person was treated with either thrombolysis (clot-busting medication) or thrombectomy (physical removal of a clot). "
   ]
  },
  {
   "cell_type": "markdown",
   "id": "34c27c57-efb9-4c03-92aa-719d3376c942",
   "metadata": {
    "pycharm": {
     "name": "#%% md\n"
    }
   },
   "source": [
    "## Descriptions of the mRS data sets derived here, and basic methodology\n",
    "\n",
    "**Pre-stroke mRS distributions**: Pre-stroke mRS distributions give the best possible outcome (i.e. 100% effective treatment). These distributions come from the SAMueL data set, and may be stratified by haemorrgage vs. infarction (ischaemic), and by NIHSS on arrival where, for ischaemic stroke, NIHSS 0-10 is taken as a surrogate for nLVO, and NIHSS 11+ is taken as a surrogate for LVO.\n",
    "\n",
    "**nLVO baseline (no treatment effect)**: The weighted combination of the untreated control group of combined nLVO/LVO data from Lees et al. 2010 (100%) and the untreated control group of LVO-only data from Goyal et al. 2016. Weightings are chosen to match the P(mRS <= 1) of 46% (from the control group in Emberson with NIHSS of 0-10). This distribution is then corrected for the deaths due to treatment with IVT,\n",
    "\n",
    "**nLVO t=0 treatment with IVT**: The weighted combination of pre-stroke mRS for patients with NIHSS 0-10 (87%) and untreated control group of nLVO (13%) distributions, where weights are chosen to match the P(mRS <= 1, t=0)=0.63. 63% is estimated from Emberson et al. 2014, where 46% of untreated patients with NIHSS 0-10 had mRS 0-1, and the odds ratio of mRS 0-1 extrapolates back to 2.0 at t=0. Pre-stroke mRS is for ischaemic stroke with NIHSS 0-10 (from the SAMueL data set). This distribution is then corrected for the deaths due to treatment with IVT,\n",
    "\n",
    "**LVO baseline (no treatment effect)**: The control population from Goyal et al. 2016. This distribution is then corrected for the deaths due to treatment with IVT,\n",
    "\n",
    "**LVO t=0 treatment with IVT**: Weighted combination of the no treatment LVO data from Goyal et al. 2016 and the pre-stroke mRS distribution (for ischaemic stroke with NIHSS 11+, from the SAMueL data set). The weights are chosen to match P(mRS <= 1) of 0.20 which is set as a target by extrapolating the control group mRS for patients with NIHSS 11+ from Emberson et al. 2014 back to a predicted odds ratio of mRS 0-1 of 2.0 at t=0. This distribution is then corrected for the deaths due to treatment with IVT,\n",
    "\n",
    "**LVO t=0 treatment with MT**: The weighted combination of pre-stroke (75%) and untreated LVO at no-effect-time (25%). Hui et al. 2020 reported 75% successful recanalisation with thrombectomy. We assume that recanalisation at t=0 restores all pre-stroke function*. Pre-stroke mRS is for ischaemic stroke with NIHSS 11+ (from the SAMueL data set).\n",
    "\n",
    "*Extrapolating results of good outcome, when recanalisation has been achieved with thrombectomy, from Fransen et al. 2016 back to t=0, assuming 75% recanalisation, gives the same proportion of patients with mRS <= 2 as the pre-stroke mRS in the SAMueL data (therefore this extrapolation would suggest full recovery of all health with thrombectomy theoretically carried out at t=0).\n",
    "\n",
    "\n",
    "### Deaths due to treatment\n",
    "\n",
    "IVT  deaths due to fatal intracranial haemorrhage (Emberson et al., 2014): \n",
    "\n",
    "| NIHSS | Treated | Control | Excess |\n",
    "|-------|---------|---------|--------|\n",
    "| 0-10  | 1.41%   | 0.32%   | 1.10%  |\n",
    "| 11+   | 3.85%   | 0.45%   | 3.41%  |\n",
    "\n",
    "MT deaths (Goyal et al., 2016):\n",
    "\n",
    "| Treated | Control | Excess |\n",
    "|---------|---------|--------|\n",
    "| 18.9%   | 15.3%   | -3.6%  |\n",
    "\n",
    "### Proportion of ischaemic patients with LVO\n",
    "\n",
    "#### Analysis of SAMueL data\n",
    "\n",
    "The proportion of ischaemic patients with LVO may be estimated in various ways. Estimates are likely to be swayed by the population being studied (e.g. treatment trial results may under-estimate nLVO as very low severity patients may not be selected for the trial). Below are various estimated of the  relative occurrence of LVO and nLVO:\n",
    "\n",
    "Data from SAMueL using NIHSS 11+ as a surrogate for LVO:\n",
    "\n",
    "| Admission type                       | All arrivals | Arrival within 6 hrs known onset | Arrival within 4 hrs known onset |\n",
    "|--------------------------------------|--------------|----------------------------------|----------------------------------|\n",
    "| Proportion all admissions            | 1.0          | 42.9                             | 37.1                             |\n",
    "| Proportion haemorrhagic              | 11.5         | 13.6                             | 14.1                             |\n",
    "| Proportion ischaemic                 | 88.5         | 86.4                             | 85.9                             |\n",
    "| Proportion ischaemic with NIHSS 0-10 | 74.9         | 67.4                             | 65.7                             |\n",
    "| Proportion ischaemic with NIHSS 11+  | 25.1         | 32.6                             | 34.3                             |\n",
    "\n",
    "For original analysis see: https://samuel-book.github.io/samuel-1/descriptive_stats/10_using_nihss_10_for_lvo.html\n",
    "\n",
    "#### RACECAT pre-hospital diagnosis of LVO\n",
    "\n",
    "A breakdown on stroke type from , 20the design of the RACE test for pre-hopsital diagnosis of LVO (de la Ossa Herrero et al., 2013). Note - there appears to be some discrepancies between reporting of the results between the text and the detailed breakdown by RACE score in figure 2 of the paper.\n",
    "\n",
    "* Trial recruited from patients who presented at the emergency department within 6 hours from symptoms onset.\n",
    "\n",
    "* In the text: Of 357 patients in the analysis, the stroke subtype was ischemic stroke in 240 (67.2%), hemorrhagic stroke in 52 (14.6%), transient ischemic attack in 20 (5.6%), and stroke mimic in 45 (12.6%). LVO was detected in 76 patients (31.7% of ischaemic strokes).\n",
    "\n",
    "* In figure 2: Of 357 patients in the analysis, the stroke subtype was ischemic stroke in 260 (72.8), hemorrhagic stroke in 52 (14.6%), and stroke mimic in 45 (12.6%). LVO was detected in 99 patients (38.1% of ischaemic strokes). It appears that TIAs may be counted in with ischaemic strokes in this analysis.\n",
    "\n",
    "#### Estimating the number of UK stroke patients eligible for endovascular thrombectomy (review/analysis)\n",
    "\n",
    "McMeekin et al. (2017) review the evdidence for estimating the number of UK stroke patients eligible for endovascular thrombectomy. They estimate:\n",
    "\n",
    "* 40% of ischaemic stroke patients have LVO; 80% of which have NIHSS >=6 and say be suitable for thrombectomy. This is equivalent to 32% of admitted patients having LVO with severity to warrant thrombectomy. \n",
    "\n",
    "\n",
    "\n",
    "\n",
    "\n",
    "\n"
   ]
  },
  {
   "cell_type": "markdown",
   "id": "99466c7d-30d9-4941-8fd3-ec265ee70e54",
   "metadata": {},
   "source": [
    "## Import packages"
   ]
  },
  {
   "cell_type": "code",
   "execution_count": 1,
   "id": "cdeb106b-0a66-496d-ab8c-90bb8b65cf38",
   "metadata": {},
   "outputs": [],
   "source": [
    "import matplotlib.pyplot as plt\n",
    "import numpy as np\n",
    "import pandas as pd\n",
    "\n",
    "# Set NumPy and Pandas to print 4 decimal places\n",
    "np.set_printoptions(precision=4)\n",
    "pd.set_option(\"display.precision\", 4)"
   ]
  },
  {
   "cell_type": "markdown",
   "id": "a3ea30bc-0915-4cef-a6d0-f59c8f67c938",
   "metadata": {},
   "source": [
    "## Set up dictionaries for results"
   ]
  },
  {
   "cell_type": "code",
   "execution_count": 2,
   "id": "bca72a1c-d70a-4a17-ba7a-531d8e745f82",
   "metadata": {},
   "outputs": [],
   "source": [
    "all_distributions_bins = dict()\n",
    "all_distributions_cumsum = dict()"
   ]
  },
  {
   "cell_type": "markdown",
   "id": "8894d742-9e91-4311-865d-d3f8855171a7",
   "metadata": {},
   "source": [
    "## Pre-stroke mRS distributions"
   ]
  },
  {
   "cell_type": "markdown",
   "id": "ad091b9a-cd76-4e2a-a63e-48f1b6ad542c",
   "metadata": {},
   "source": [
    "### nLVO pre-stroke mRS distribution"
   ]
  },
  {
   "cell_type": "code",
   "execution_count": 3,
   "id": "1071d2f8-8253-4990-b0ad-6d332c58185a",
   "metadata": {},
   "outputs": [
    {
     "name": "stdout",
     "output_type": "stream",
     "text": [
      "Pre-stroke nLVO\n",
      "---------------\n",
      "mRS bins:\n",
      "array([0.5829, 0.1625, 0.1034, 0.1022, 0.042 , 0.0069, 0.    ])\n",
      "\n",
      "mRS cumulative:\n",
      "array([0.5829, 0.7454, 0.8489, 0.9511, 0.9931, 1.    , 1.    ])\n"
     ]
    }
   ],
   "source": [
    "# Pre-stroke nLVO uses pre-stroke mRS from SAMueL wfor patients with ischaemic\n",
    "# stroke and NIHSS 0-10.\n",
    "\n",
    "# Define distribution from data\n",
    "pre_stroke_nlvo_bins = np.array([\n",
    "    0.582881, 0.162538, 0.103440, 0.102223, 0.041973, 0.006945, 0.0])\n",
    "\n",
    "# Normalise\n",
    "pre_stroke_nlvo_bins = pre_stroke_nlvo_bins /np.sum(pre_stroke_nlvo_bins)\n",
    "all_distributions_bins['pre_stroke_nlvo'] = pre_stroke_nlvo_bins\n",
    "\n",
    "# Make cumulative distribution\n",
    "pre_stroke_nlvo_cumsum = np.cumsum(pre_stroke_nlvo_bins)\n",
    "all_distributions_cumsum['pre_stroke_nlvo'] = pre_stroke_nlvo_cumsum\n",
    "\n",
    "# Show\n",
    "print('Pre-stroke nLVO')\n",
    "print('---------------')\n",
    "print('mRS bins:')\n",
    "print(repr(pre_stroke_nlvo_bins))\n",
    "print()\n",
    "print('mRS cumulative:')\n",
    "print(repr(pre_stroke_nlvo_cumsum))"
   ]
  },
  {
   "cell_type": "markdown",
   "id": "efd55823-b939-4bdd-94b1-94a42684537b",
   "metadata": {},
   "source": [
    "### LVO pre-stroke mRS distribution"
   ]
  },
  {
   "cell_type": "code",
   "execution_count": 4,
   "id": "f1995387-b43e-4196-b907-65ab358a3a77",
   "metadata": {},
   "outputs": [
    {
     "name": "stdout",
     "output_type": "stream",
     "text": [
      "Pre-stroke LVO\n",
      "--------------\n",
      "mRS bins:\n",
      "array([0.4179, 0.143 , 0.1184, 0.1642, 0.1138, 0.0427, 0.    ])\n",
      "\n",
      "mRS cumulative:\n",
      "array([0.4179, 0.5609, 0.6793, 0.8435, 0.9573, 1.    , 1.    ])\n"
     ]
    }
   ],
   "source": [
    "# Pre-stroke nLVO uses pre-stroke mRS from SAMueL wfor patients with ischaemic\n",
    "# stroke and NIHSS 0-10.\n",
    "\n",
    "# Define distribution from data\n",
    "pre_stroke_lvo_bins = np.array([\n",
    "    0.417894, 0.142959, 0.118430, 0.164211, 0.113775, 0.042731, 0.0])\n",
    "\n",
    "# Normalise\n",
    "pre_stroke_lvo_bins = pre_stroke_lvo_bins /np.sum(pre_stroke_lvo_bins)\n",
    "all_distributions_bins['pre_stroke_lvo'] = pre_stroke_lvo_bins\n",
    "\n",
    "# Make cumulative distribution\n",
    "pre_stroke_lvo_cumsum = np.cumsum(pre_stroke_lvo_bins)\n",
    "all_distributions_cumsum['pre_stroke_lvo'] = pre_stroke_lvo_cumsum\n",
    "\n",
    "# Show\n",
    "print('Pre-stroke LVO')\n",
    "print('--------------')\n",
    "print('mRS bins:')\n",
    "print(repr(pre_stroke_lvo_bins))\n",
    "print()\n",
    "print('mRS cumulative:')\n",
    "print(repr(pre_stroke_lvo_cumsum))"
   ]
  },
  {
   "cell_type": "markdown",
   "id": "52a75f09-9023-465f-ab11-c5ea19704025",
   "metadata": {},
   "source": [
    "## nLVO baseline (no treatment effect)\n",
    "\n",
    "The weighted combination of the untreated control group of combined nLVO/LVO data from Lees et al. 2010 (100%) and the untreated control group of LVO-only data from Goyal et al. 2016. Weightings are chosen to match the P(mRS <= 1) of 46% (from the control group in Emberson with NIHSS of 0-10).\n",
    "\n",
    "The distribution is corrected for 1.1% excess deaths in the IVT-treated group (from Emberson et al., 2014, using NIHSS 0-10 as a surrogate for nLVO)."
   ]
  },
  {
   "cell_type": "markdown",
   "id": "1d79801b-b6b0-4c98-bcab-270be63d6859",
   "metadata": {},
   "source": [
    "Set up required distributions from data."
   ]
  },
  {
   "cell_type": "code",
   "execution_count": 5,
   "id": "eaa8e157-8cd3-4199-9110-597c5c73ec2a",
   "metadata": {},
   "outputs": [
    {
     "name": "stdout",
     "output_type": "stream",
     "text": [
      "nLVO-LVO combined no treatment effect\n",
      "-------------------------------------\n",
      "mRS bins:\n",
      "array([0.1486, 0.2022, 0.1253, 0.1397, 0.1806, 0.0861, 0.1175])\n",
      "\n",
      "mRS cumulative:\n",
      "array([0.1486, 0.3508, 0.4761, 0.6158, 0.7964, 0.8825, 1.    ])\n",
      "\n",
      "LVO combined no treatment effect\n",
      "--------------------------------\n",
      "mRS bins:\n",
      "array([0.05 , 0.079, 0.136, 0.164, 0.247, 0.135, 0.189])\n",
      "\n",
      "mRS cumulative:\n",
      "array([0.05 , 0.129, 0.265, 0.429, 0.676, 0.811, 1.   ])\n"
     ]
    }
   ],
   "source": [
    "# Define distributions from data\n",
    "no_treatment_nlvo_lvo_bins = np.array(\n",
    "    [0.1486, 0.2022, 0.1253, 0.1397, 0.1806, 0.0861, 0.1175])\n",
    "\n",
    "no_treatment_lvo_bins = np.array(\n",
    "    [0.050, 0.079, 0.136, 0.164, 0.247, 0.135, 0.189])\n",
    "\n",
    "# Normalise\n",
    "no_treatment_nlvo_lvo_bins = (\n",
    "    no_treatment_nlvo_lvo_bins / np.sum(no_treatment_nlvo_lvo_bins))\n",
    "\n",
    "no_treatment_lvo_bins = (\n",
    "    no_treatment_lvo_bins / np.sum(no_treatment_lvo_bins))\n",
    "\n",
    "# Make cumulative distribution\n",
    "no_treatment_nlvo_lvo_cumsum = np.cumsum(no_treatment_nlvo_lvo_bins)\n",
    "no_treatment_lvo_cumsum = np.cumsum(no_treatment_lvo_bins)\n",
    "\n",
    "# Show\n",
    "print('nLVO-LVO combined no treatment effect')\n",
    "print('-------------------------------------')\n",
    "print('mRS bins:')\n",
    "print(repr(no_treatment_nlvo_lvo_bins))\n",
    "print()\n",
    "print('mRS cumulative:')\n",
    "print(repr(no_treatment_nlvo_lvo_cumsum))\n",
    "print()\n",
    "print('LVO combined no treatment effect')\n",
    "print('--------------------------------')\n",
    "print('mRS bins:')\n",
    "print(repr(no_treatment_lvo_bins))\n",
    "print()\n",
    "print('mRS cumulative:')\n",
    "print(repr(no_treatment_lvo_cumsum))"
   ]
  },
  {
   "cell_type": "markdown",
   "id": "b57212ae-ce0e-4670-893f-c21245c43fbe",
   "metadata": {},
   "source": [
    "Calculate the weights needed to give a distribution with P(mRS <-1, t=tne) = 46%."
   ]
  },
  {
   "cell_type": "code",
   "execution_count": 6,
   "id": "0dc60ffa-68f4-4001-aeaa-2c7021f2631b",
   "metadata": {},
   "outputs": [
    {
     "name": "stdout",
     "output_type": "stream",
     "text": [
      "Weights: -0.4923, 1.4923\n"
     ]
    }
   ],
   "source": [
    "target_diff  = 0.46 - no_treatment_nlvo_lvo_cumsum[1]\n",
    "current_diff = (no_treatment_lvo_cumsum[1] - \n",
    "                no_treatment_nlvo_lvo_cumsum[1])\n",
    "\n",
    "weight_lvo   = target_diff / current_diff\n",
    "weight_nlvo_lvo = 1.0 - weight_lvo\n",
    "\n",
    "print(f'Weights: {weight_lvo:.4f},', f'{weight_nlvo_lvo:.4f}')"
   ]
  },
  {
   "cell_type": "markdown",
   "id": "0ad778cb-0504-4dba-9425-5d81ae394dea",
   "metadata": {},
   "source": [
    "Apply the weights"
   ]
  },
  {
   "cell_type": "code",
   "execution_count": 7,
   "id": "576d0ff7-0794-4f54-957a-a6ea3f6a6255",
   "metadata": {},
   "outputs": [
    {
     "name": "stdout",
     "output_type": "stream",
     "text": [
      "nLVO no treatment effect\n",
      "------------------------\n",
      "mRS bins:\n",
      "array([0.1946, 0.2595, 0.1185, 0.1261, 0.146 , 0.062 , 0.0933])\n",
      "\n",
      "mRS cumulative:\n",
      "array([0.1946, 0.4541, 0.5726, 0.6987, 0.8447, 0.9067, 1.    ])\n"
     ]
    }
   ],
   "source": [
    "# Apply weights\n",
    "no_treatment_nlvo_bins = (\n",
    "    (weight_nlvo_lvo * no_treatment_nlvo_lvo_bins) + \n",
    "    (weight_lvo      * no_treatment_lvo_bins) )\n",
    "\n",
    "# Normalise\n",
    "no_treatment_nlvo_bins = (\n",
    "    no_treatment_nlvo_bins / np.sum(no_treatment_nlvo_bins))\n",
    "\n",
    "# Make cumulative distribution (before correction for deaths)\n",
    "no_treatment_nlvo_cumsum = np.cumsum(no_treatment_nlvo_bins)\n",
    "\n",
    "# Copy, to add trteament deaths\n",
    "no_effect_nlvo_ivt_bins = np.copy(no_treatment_nlvo_bins)\n",
    "\n",
    "# Correct deaths to be control + 0.011 excess deaths due to haemorrhage\n",
    "excess_deaths = 0.011\n",
    "no_effect_nlvo_ivt_bins[6] += excess_deaths\n",
    "correction_mrs_0_to_5 = (\n",
    "    (np.sum(no_effect_nlvo_ivt_bins[0:5]) - excess_deaths) / \n",
    "    (np.sum(no_effect_nlvo_ivt_bins[0:5])))\n",
    "no_effect_nlvo_ivt_bins[0:5] *= correction_mrs_0_to_5\n",
    "\n",
    "# Store\n",
    "all_distributions_bins['no_treatment_nlvo'] = no_effect_nlvo_ivt_bins\n",
    "\n",
    "# Make cumulative distribution\n",
    "no_effect_nlvo_cumsum = np.cumsum(no_effect_nlvo_ivt_bins)\n",
    "all_distributions_cumsum['no_effect_nlvo'] = no_effect_nlvo_cumsum\n",
    "\n",
    "# Show\n",
    "print('nLVO no treatment effect')\n",
    "print('------------------------')\n",
    "print('mRS bins:')\n",
    "print(repr(no_effect_nlvo_ivt_bins))\n",
    "print()\n",
    "print('mRS cumulative:')\n",
    "print(repr(no_effect_nlvo_cumsum))"
   ]
  },
  {
   "cell_type": "markdown",
   "id": "3f128e17-3b47-4d31-895e-448b656c1d71",
   "metadata": {},
   "source": [
    "## nLVO t=0 treatment with IVT\n",
    "\n",
    "The weighted combination of pre-stroke mRS for patients with NIHSS 0-10 (87%) and untreated control group of nLVO (13%) distributions, where weights are chosen to match the P(mRS <= 1, t=0)=0.63. 63% is estimated from Emberson et al. 2014, where 46% of untreated patients with NIHSS 0-10 had mRS 0-1, and the odds ratio of mRS 0-1 extrapolates back to 2.0 at t=0. Pre-stroke mRS is for ischaemic stroke with NIHSS 0-10 (from the SAMueL data set).\n",
    "\n",
    "The distribution is corrected for 1.1% excess deaths in the IVT-treated group (from Emberson et al., 2014, using NIHSS 0-10 as a surrogate for nLVO)."
   ]
  },
  {
   "cell_type": "markdown",
   "id": "822d321c-0648-4bd9-b42c-389c031db23e",
   "metadata": {},
   "source": [
    "Calculate weights"
   ]
  },
  {
   "cell_type": "code",
   "execution_count": 8,
   "id": "2f93ccc9-d34b-4861-81ec-40f64a9bc688",
   "metadata": {},
   "outputs": [
    {
     "name": "stdout",
     "output_type": "stream",
     "text": [
      "Weights: 0.5956, 0.4044\n"
     ]
    }
   ],
   "source": [
    "target_diff  = 0.63 - no_treatment_nlvo_cumsum[1]\n",
    "current_diff = pre_stroke_nlvo_cumsum[1] - no_treatment_nlvo_cumsum[1]\n",
    "\n",
    "weight_pre_stroke_nlvo   = target_diff / current_diff\n",
    "weight_no_treatment_nlvo = 1.0 - weight_pre_stroke_nlvo\n",
    "\n",
    "print(f'Weights: {weight_pre_stroke_nlvo:.4f},',\n",
    "      f'{weight_no_treatment_nlvo:.4f}')"
   ]
  },
  {
   "cell_type": "markdown",
   "id": "37f7b912-7c80-4631-ab2a-44fa23465c56",
   "metadata": {},
   "source": [
    "Apply the weights."
   ]
  },
  {
   "cell_type": "code",
   "execution_count": 9,
   "id": "5a86f353-401b-471d-8c9f-1c8a89513977",
   "metadata": {},
   "outputs": [
    {
     "name": "stdout",
     "output_type": "stream",
     "text": [
      "nLVO IVT t0 treatment effect\n",
      "----------------------------\n",
      "mRS bins:\n",
      "array([0.4219, 0.2007, 0.1089, 0.1112, 0.0838, 0.0292, 0.0443])\n",
      "\n",
      "mRS cumulative:\n",
      "array([0.4219, 0.6226, 0.7315, 0.8427, 0.9265, 0.9557, 1.    ])\n"
     ]
    }
   ],
   "source": [
    "#Apply weights\n",
    "t0_treatment_nlvo_ivt_bins = (\n",
    "    (weight_pre_stroke_nlvo   * pre_stroke_nlvo_bins) +\n",
    "    (weight_no_treatment_nlvo * no_treatment_nlvo_bins))\n",
    "\n",
    "# Normalise\n",
    "t0_treatment_nlvo_ivt_bins = (\n",
    "    t0_treatment_nlvo_ivt_bins / np.sum(t0_treatment_nlvo_ivt_bins))\n",
    "\n",
    "# Correct deaths to be control + 0.011 excess deaths due to haemorrhage\n",
    "excess_deaths = 0.011\n",
    "t0_treatment_nlvo_ivt_bins[6] += excess_deaths\n",
    "correction_mrs_0_to_5 = (\n",
    "    (np.sum(t0_treatment_nlvo_ivt_bins[0:5]) - excess_deaths) / \n",
    "    (np.sum(t0_treatment_nlvo_ivt_bins[0:5])))\n",
    "t0_treatment_nlvo_ivt_bins[0:5] *= correction_mrs_0_to_5\n",
    "\n",
    "# Store\n",
    "all_distributions_bins['t0_treatment_nlvo_ivt'] = t0_treatment_nlvo_ivt_bins\n",
    "\n",
    "# Make cumulative distribution\n",
    "t0_treatment_nlvo_ivt_cumsum = np.cumsum(t0_treatment_nlvo_ivt_bins)\n",
    "all_distributions_cumsum['t0_treatment_nlvo_ivt'] = t0_treatment_nlvo_ivt_cumsum\n",
    "\n",
    "# Show\n",
    "print('nLVO IVT t0 treatment effect')\n",
    "print('----------------------------')\n",
    "print('mRS bins:')\n",
    "print(repr(t0_treatment_nlvo_ivt_bins))\n",
    "print()\n",
    "print('mRS cumulative:')\n",
    "print(repr(t0_treatment_nlvo_ivt_cumsum))"
   ]
  },
  {
   "cell_type": "markdown",
   "id": "eeb4b28b-5993-42c7-adc8-ab4ad34c4543",
   "metadata": {},
   "source": [
    "## LVO baseline (no treatment effect)\n",
    "\n",
    "The control population from Goyal et al. 2016.\n",
    "\n",
    "No correction for IVT-related deaths is needed as IVT is present in both the control and treated groups."
   ]
  },
  {
   "cell_type": "code",
   "execution_count": 10,
   "id": "db661725-2b66-4bee-94d1-94632cbd7645",
   "metadata": {},
   "outputs": [
    {
     "name": "stdout",
     "output_type": "stream",
     "text": [
      "LVO no treatment effect\n",
      "------------------------\n",
      "mRS bins:\n",
      "array([0.05 , 0.079, 0.136, 0.164, 0.247, 0.135, 0.189])\n",
      "\n",
      "mRS cumulative:\n",
      "array([0.05 , 0.129, 0.265, 0.429, 0.676, 0.811, 1.   ])\n"
     ]
    }
   ],
   "source": [
    "# LVO Baseline distributions were defined in cell 5\n",
    "all_distributions_bins['no_effect_lvo'] = no_treatment_lvo_bins\n",
    "all_distributions_cumsum['no_effect_lvo'] = no_treatment_lvo_cumsum\n",
    "\n",
    "# Show\n",
    "print('LVO no treatment effect')\n",
    "print('------------------------')\n",
    "print('mRS bins:')\n",
    "print(repr(no_treatment_lvo_bins))\n",
    "print()\n",
    "print('mRS cumulative:')\n",
    "print(repr(no_treatment_lvo_cumsum))"
   ]
  },
  {
   "cell_type": "markdown",
   "id": "0848f206-b0f8-4ee0-943c-c01bab639c58",
   "metadata": {},
   "source": [
    "## LVO t=0 treatment with IVT\n",
    "\n",
    "Weighted combination of the no treatment LVO data from Goyal et al. 2016 and the pre-stroke mRS distribution (for ischaemic stroke with NIHSS 11+, from the SAMueL data set). The weights are chosen to match P(mRS <= 1) of 0.20 which is set as a target by extrapolating the control group mRS for patients with NIHSS 11+ from Emberson et al. 2014 back to a predicted odds ratio of mRS 0-1 of 2.0 at t=0.\n",
    "\n",
    "The distribution is corrected for 3.4% excess deaths in the IVT-treated group (from Emberson et al., 2014, using NIHSS 11+ as a surrogate for LVO)."
   ]
  },
  {
   "cell_type": "markdown",
   "id": "fe8086a0-7f64-4fbd-984c-adf3790b8e09",
   "metadata": {},
   "source": [
    "Calculate the weights needed to give a distribution with P(mRS <=1, t=0) = 20%."
   ]
  },
  {
   "cell_type": "code",
   "execution_count": 11,
   "id": "dd7e3d94-b203-4792-bdc7-c7075cc123ab",
   "metadata": {},
   "outputs": [
    {
     "name": "stdout",
     "output_type": "stream",
     "text": [
      "Weights: 0.8356, 0.1644\n"
     ]
    }
   ],
   "source": [
    "target_diff  = 0.20 - pre_stroke_lvo_cumsum[1]\n",
    "current_diff = (no_treatment_lvo_cumsum[1] - \n",
    "                pre_stroke_lvo_cumsum[1])\n",
    "\n",
    "weight_no_treatment_lvo   = target_diff / current_diff\n",
    "weight_pre_stroke_lvo = 1.0 - weight_no_treatment_lvo\n",
    "\n",
    "print(\n",
    "    f'Weights: {weight_no_treatment_lvo:.4f},', f'{weight_pre_stroke_lvo:.4f}')"
   ]
  },
  {
   "cell_type": "markdown",
   "id": "5d348ac5-f97c-4ca8-a989-aa16e2d4c793",
   "metadata": {},
   "source": [
    "Apply the weights."
   ]
  },
  {
   "cell_type": "code",
   "execution_count": 12,
   "id": "54482650-e163-433c-a613-9bd85daeba33",
   "metadata": {},
   "outputs": [
    {
     "name": "stdout",
     "output_type": "stream",
     "text": [
      "LVO t0 IVT treatment effect\n",
      "---------------------------\n",
      "mRS bins:\n",
      "array([0.1053, 0.0853, 0.1268, 0.1563, 0.2145, 0.1198, 0.192 ])\n",
      "\n",
      "mRS cumulative:\n",
      "array([0.1053, 0.1906, 0.3174, 0.4737, 0.6881, 0.808 , 1.    ])\n"
     ]
    }
   ],
   "source": [
    "# Apply weights\n",
    "t0_treatment_lvo_ivt_bins = (\n",
    "    (weight_pre_stroke_lvo   * pre_stroke_lvo_bins) +\n",
    "    (weight_no_treatment_lvo * no_treatment_lvo_bins))\n",
    "\n",
    "# Normalise\n",
    "t0_treatment_lvo_ivt_bins = (\n",
    "    t0_treatment_lvo_ivt_bins / np.sum(t0_treatment_lvo_ivt_bins))\n",
    "\n",
    "# Correct deaths to be control + 0.0341 excess deaths due to haemorrhage\n",
    "excess_deaths = 0.0341\n",
    "t0_treatment_lvo_ivt_bins[6] += excess_deaths\n",
    "correction_mrs_0_to_5 = (\n",
    "    (np.sum(t0_treatment_lvo_ivt_bins[0:5]) - excess_deaths) / \n",
    "    (np.sum(t0_treatment_lvo_ivt_bins[0:5])))\n",
    "t0_treatment_lvo_ivt_bins[0:5] *= correction_mrs_0_to_5\n",
    "\n",
    "all_distributions_bins['t0_treatment_lvo_ivt'] = t0_treatment_lvo_ivt_bins\n",
    "\n",
    "# Make cumulative distribution\n",
    "t0_treatment_lvo_ivt_cumsum = np.cumsum(t0_treatment_lvo_ivt_bins)\n",
    "all_distributions_cumsum['t0_treatment_lvo_ivt'] = t0_treatment_lvo_ivt_cumsum\n",
    "\n",
    "# Show\n",
    "print('LVO t0 IVT treatment effect')\n",
    "print('---------------------------')\n",
    "print('mRS bins:')\n",
    "print(repr(t0_treatment_lvo_ivt_bins))\n",
    "print()\n",
    "print('mRS cumulative:')\n",
    "print(repr(t0_treatment_lvo_ivt_cumsum))"
   ]
  },
  {
   "cell_type": "markdown",
   "id": "64f5461d-d9e1-455f-966f-bf4d5fcb2ca8",
   "metadata": {},
   "source": [
    "## LVO t=0 treatment with MT\n",
    "\n",
    "The weighted combination of pre-stroke (75%) and untreated LVO at no-effect-time (25%). Hui et al. 2020 reported 75% successful recanalisation with thrombectomy. We assume that recanalisation at t=0 restores all pre-stroke function*. Pre-stroke mRS is for ischaemic stroke with NIHSS 11+ (from the SAMueL data set).\n",
    "\n",
    "*Extrapolating results of good outcome, when recanalisation has been achieved with thrombectomy, from Fransen et al. 2016 back to t=0, assuming 75% recanalisation, gives the same proportion of patients with mRS <= 2 as the pre-stroke mRS in the SAMueL data (therefore this extrapolation would suggest full recovery of all health with thrombectomy theoretically carried out at t=0)."
   ]
  },
  {
   "cell_type": "code",
   "execution_count": 13,
   "id": "b0e7a82b-9439-4c45-a79c-327307a16981",
   "metadata": {},
   "outputs": [
    {
     "name": "stdout",
     "output_type": "stream",
     "text": [
      "Weights: 0.7500,0.2500\n"
     ]
    }
   ],
   "source": [
    "weight_pre_stroke_lvo = 0.75\n",
    "weight_no_treatment_lvo = 1.0 - weight_pre_stroke_lvo\n",
    "\n",
    "print(f'Weights: {weight_pre_stroke_lvo:.4f},' \\\n",
    "      f'{weight_no_treatment_lvo:.4f}')"
   ]
  },
  {
   "cell_type": "markdown",
   "id": "fcf91b3f-73f2-46fd-ac0e-35e24e91321c",
   "metadata": {},
   "source": [
    "Apply the weights"
   ]
  },
  {
   "cell_type": "code",
   "execution_count": 14,
   "id": "4d7e726f-992e-4dd7-bc25-17674a5c14b4",
   "metadata": {},
   "outputs": [
    {
     "name": "stdout",
     "output_type": "stream",
     "text": [
      "LVO MT t0 treatment effect\n",
      "--------------------------\n",
      "mRS bins:\n",
      "array([0.3259, 0.127 , 0.1228, 0.1642, 0.1471, 0.0658, 0.0472])\n",
      "\n",
      "mRS cumulative:\n",
      "array([0.3259, 0.4529, 0.5757, 0.7399, 0.887 , 0.9527, 1.    ])\n"
     ]
    }
   ],
   "source": [
    "# Apply weights\n",
    "t0_treatment_lvo_mt_bins = (\n",
    "    (weight_pre_stroke_lvo   * pre_stroke_lvo_bins) +\n",
    "    (weight_no_treatment_lvo * no_treatment_lvo_bins))\n",
    "\n",
    "# Normalise\n",
    "t0_treatment_lvo_mt_bins = (\n",
    "    t0_treatment_lvo_mt_bins / np.sum(t0_treatment_lvo_mt_bins))\n",
    "all_distributions_bins['t0_treatment_lvo_mt'] = t0_treatment_lvo_mt_bins\n",
    "\n",
    "# Make cumulative distribution\n",
    "t0_treatment_lvo_mt_cumsum = np.cumsum(t0_treatment_lvo_mt_bins)\n",
    "all_distributions_cumsum['t0_treatment_lvo_mt'] = t0_treatment_lvo_mt_cumsum\n",
    "\n",
    "# Show\n",
    "print('LVO MT t0 treatment effect')\n",
    "print('--------------------------')\n",
    "print('mRS bins:')\n",
    "print(repr(t0_treatment_lvo_mt_bins))\n",
    "print()\n",
    "print('mRS cumulative:')\n",
    "print(repr(t0_treatment_lvo_mt_cumsum))"
   ]
  },
  {
   "cell_type": "markdown",
   "id": "23019821-a140-4387-8e72-6766b345544b",
   "metadata": {},
   "source": [
    "## Show all results"
   ]
  },
  {
   "cell_type": "code",
   "execution_count": 15,
   "id": "e5ca1f30-4aec-44f0-82de-796dd4728f6a",
   "metadata": {},
   "outputs": [
    {
     "data": {
      "text/html": [
       "<style type=\"text/css\">\n",
       "</style>\n",
       "<table id=\"T_8b123\">\n",
       "  <caption>Distribution bins</caption>\n",
       "  <thead>\n",
       "    <tr>\n",
       "      <th class=\"blank level0\" >&nbsp;</th>\n",
       "      <th id=\"T_8b123_level0_col0\" class=\"col_heading level0 col0\" >0</th>\n",
       "      <th id=\"T_8b123_level0_col1\" class=\"col_heading level0 col1\" >1</th>\n",
       "      <th id=\"T_8b123_level0_col2\" class=\"col_heading level0 col2\" >2</th>\n",
       "      <th id=\"T_8b123_level0_col3\" class=\"col_heading level0 col3\" >3</th>\n",
       "      <th id=\"T_8b123_level0_col4\" class=\"col_heading level0 col4\" >4</th>\n",
       "      <th id=\"T_8b123_level0_col5\" class=\"col_heading level0 col5\" >5</th>\n",
       "      <th id=\"T_8b123_level0_col6\" class=\"col_heading level0 col6\" >6</th>\n",
       "    </tr>\n",
       "  </thead>\n",
       "  <tbody>\n",
       "    <tr>\n",
       "      <th id=\"T_8b123_level0_row0\" class=\"row_heading level0 row0\" >pre_stroke_nlvo</th>\n",
       "      <td id=\"T_8b123_row0_col0\" class=\"data row0 col0\" >0.582881</td>\n",
       "      <td id=\"T_8b123_row0_col1\" class=\"data row0 col1\" >0.162538</td>\n",
       "      <td id=\"T_8b123_row0_col2\" class=\"data row0 col2\" >0.103440</td>\n",
       "      <td id=\"T_8b123_row0_col3\" class=\"data row0 col3\" >0.102223</td>\n",
       "      <td id=\"T_8b123_row0_col4\" class=\"data row0 col4\" >0.041973</td>\n",
       "      <td id=\"T_8b123_row0_col5\" class=\"data row0 col5\" >0.006945</td>\n",
       "      <td id=\"T_8b123_row0_col6\" class=\"data row0 col6\" >0.000000</td>\n",
       "    </tr>\n",
       "    <tr>\n",
       "      <th id=\"T_8b123_level0_row1\" class=\"row_heading level0 row1\" >pre_stroke_lvo</th>\n",
       "      <td id=\"T_8b123_row1_col0\" class=\"data row1 col0\" >0.417894</td>\n",
       "      <td id=\"T_8b123_row1_col1\" class=\"data row1 col1\" >0.142959</td>\n",
       "      <td id=\"T_8b123_row1_col2\" class=\"data row1 col2\" >0.118430</td>\n",
       "      <td id=\"T_8b123_row1_col3\" class=\"data row1 col3\" >0.164211</td>\n",
       "      <td id=\"T_8b123_row1_col4\" class=\"data row1 col4\" >0.113775</td>\n",
       "      <td id=\"T_8b123_row1_col5\" class=\"data row1 col5\" >0.042731</td>\n",
       "      <td id=\"T_8b123_row1_col6\" class=\"data row1 col6\" >0.000000</td>\n",
       "    </tr>\n",
       "    <tr>\n",
       "      <th id=\"T_8b123_level0_row2\" class=\"row_heading level0 row2\" >no_treatment_nlvo</th>\n",
       "      <td id=\"T_8b123_row2_col0\" class=\"data row2 col0\" >0.194610</td>\n",
       "      <td id=\"T_8b123_row2_col1\" class=\"data row2 col1\" >0.259477</td>\n",
       "      <td id=\"T_8b123_row2_col2\" class=\"data row2 col2\" >0.118489</td>\n",
       "      <td id=\"T_8b123_row2_col3\" class=\"data row2 col3\" >0.126094</td>\n",
       "      <td id=\"T_8b123_row2_col4\" class=\"data row2 col4\" >0.146008</td>\n",
       "      <td id=\"T_8b123_row2_col5\" class=\"data row2 col5\" >0.062025</td>\n",
       "      <td id=\"T_8b123_row2_col6\" class=\"data row2 col6\" >0.093298</td>\n",
       "    </tr>\n",
       "    <tr>\n",
       "      <th id=\"T_8b123_level0_row3\" class=\"row_heading level0 row3\" >t0_treatment_nlvo_ivt</th>\n",
       "      <td id=\"T_8b123_row3_col0\" class=\"data row3 col0\" >0.421886</td>\n",
       "      <td id=\"T_8b123_row3_col1\" class=\"data row3 col1\" >0.200722</td>\n",
       "      <td id=\"T_8b123_row3_col2\" class=\"data row3 col2\" >0.108857</td>\n",
       "      <td id=\"T_8b123_row3_col3\" class=\"data row3 col3\" >0.111220</td>\n",
       "      <td id=\"T_8b123_row3_col4\" class=\"data row3 col4\" >0.083817</td>\n",
       "      <td id=\"T_8b123_row3_col5\" class=\"data row3 col5\" >0.029218</td>\n",
       "      <td id=\"T_8b123_row3_col6\" class=\"data row3 col6\" >0.044280</td>\n",
       "    </tr>\n",
       "    <tr>\n",
       "      <th id=\"T_8b123_level0_row4\" class=\"row_heading level0 row4\" >no_effect_lvo</th>\n",
       "      <td id=\"T_8b123_row4_col0\" class=\"data row4 col0\" >0.050000</td>\n",
       "      <td id=\"T_8b123_row4_col1\" class=\"data row4 col1\" >0.079000</td>\n",
       "      <td id=\"T_8b123_row4_col2\" class=\"data row4 col2\" >0.136000</td>\n",
       "      <td id=\"T_8b123_row4_col3\" class=\"data row4 col3\" >0.164000</td>\n",
       "      <td id=\"T_8b123_row4_col4\" class=\"data row4 col4\" >0.247000</td>\n",
       "      <td id=\"T_8b123_row4_col5\" class=\"data row4 col5\" >0.135000</td>\n",
       "      <td id=\"T_8b123_row4_col6\" class=\"data row4 col6\" >0.189000</td>\n",
       "    </tr>\n",
       "    <tr>\n",
       "      <th id=\"T_8b123_level0_row5\" class=\"row_heading level0 row5\" >t0_treatment_lvo_ivt</th>\n",
       "      <td id=\"T_8b123_row5_col0\" class=\"data row5 col0\" >0.105268</td>\n",
       "      <td id=\"T_8b123_row5_col1\" class=\"data row5 col1\" >0.085289</td>\n",
       "      <td id=\"T_8b123_row5_col2\" class=\"data row5 col2\" >0.126827</td>\n",
       "      <td id=\"T_8b123_row5_col3\" class=\"data row5 col3\" >0.156290</td>\n",
       "      <td id=\"T_8b123_row5_col4\" class=\"data row5 col4\" >0.214469</td>\n",
       "      <td id=\"T_8b123_row5_col5\" class=\"data row5 col5\" >0.119830</td>\n",
       "      <td id=\"T_8b123_row5_col6\" class=\"data row5 col6\" >0.192027</td>\n",
       "    </tr>\n",
       "    <tr>\n",
       "      <th id=\"T_8b123_level0_row6\" class=\"row_heading level0 row6\" >t0_treatment_lvo_mt</th>\n",
       "      <td id=\"T_8b123_row6_col0\" class=\"data row6 col0\" >0.325920</td>\n",
       "      <td id=\"T_8b123_row6_col1\" class=\"data row6 col1\" >0.126969</td>\n",
       "      <td id=\"T_8b123_row6_col2\" class=\"data row6 col2\" >0.122822</td>\n",
       "      <td id=\"T_8b123_row6_col3\" class=\"data row6 col3\" >0.164158</td>\n",
       "      <td id=\"T_8b123_row6_col4\" class=\"data row6 col4\" >0.147081</td>\n",
       "      <td id=\"T_8b123_row6_col5\" class=\"data row6 col5\" >0.065798</td>\n",
       "      <td id=\"T_8b123_row6_col6\" class=\"data row6 col6\" >0.047250</td>\n",
       "    </tr>\n",
       "  </tbody>\n",
       "</table>\n"
      ],
      "text/plain": [
       "<pandas.io.formats.style.Styler at 0x7f9f3475d730>"
      ]
     },
     "execution_count": 15,
     "metadata": {},
     "output_type": "execute_result"
    }
   ],
   "source": [
    "all_distributions_bins_df = pd.DataFrame(all_distributions_bins).T\n",
    "all_distributions_bins_df = all_distributions_bins_df.style.set_caption(\n",
    "    'Distribution bins')\n",
    "all_distributions_bins_df"
   ]
  },
  {
   "cell_type": "code",
   "execution_count": 16,
   "id": "7aeb7272-d003-4605-bee8-e59dd5df5a1f",
   "metadata": {},
   "outputs": [
    {
     "data": {
      "text/html": [
       "<style type=\"text/css\">\n",
       "</style>\n",
       "<table id=\"T_41189\">\n",
       "  <caption>Cumulative distrinbutions</caption>\n",
       "  <thead>\n",
       "    <tr>\n",
       "      <th class=\"blank level0\" >&nbsp;</th>\n",
       "      <th id=\"T_41189_level0_col0\" class=\"col_heading level0 col0\" >0</th>\n",
       "      <th id=\"T_41189_level0_col1\" class=\"col_heading level0 col1\" >1</th>\n",
       "      <th id=\"T_41189_level0_col2\" class=\"col_heading level0 col2\" >2</th>\n",
       "      <th id=\"T_41189_level0_col3\" class=\"col_heading level0 col3\" >3</th>\n",
       "      <th id=\"T_41189_level0_col4\" class=\"col_heading level0 col4\" >4</th>\n",
       "      <th id=\"T_41189_level0_col5\" class=\"col_heading level0 col5\" >5</th>\n",
       "      <th id=\"T_41189_level0_col6\" class=\"col_heading level0 col6\" >6</th>\n",
       "    </tr>\n",
       "  </thead>\n",
       "  <tbody>\n",
       "    <tr>\n",
       "      <th id=\"T_41189_level0_row0\" class=\"row_heading level0 row0\" >pre_stroke_nlvo</th>\n",
       "      <td id=\"T_41189_row0_col0\" class=\"data row0 col0\" >0.582881</td>\n",
       "      <td id=\"T_41189_row0_col1\" class=\"data row0 col1\" >0.745419</td>\n",
       "      <td id=\"T_41189_row0_col2\" class=\"data row0 col2\" >0.848859</td>\n",
       "      <td id=\"T_41189_row0_col3\" class=\"data row0 col3\" >0.951082</td>\n",
       "      <td id=\"T_41189_row0_col4\" class=\"data row0 col4\" >0.993055</td>\n",
       "      <td id=\"T_41189_row0_col5\" class=\"data row0 col5\" >1.000000</td>\n",
       "      <td id=\"T_41189_row0_col6\" class=\"data row0 col6\" >1.000000</td>\n",
       "    </tr>\n",
       "    <tr>\n",
       "      <th id=\"T_41189_level0_row1\" class=\"row_heading level0 row1\" >pre_stroke_lvo</th>\n",
       "      <td id=\"T_41189_row1_col0\" class=\"data row1 col0\" >0.417894</td>\n",
       "      <td id=\"T_41189_row1_col1\" class=\"data row1 col1\" >0.560853</td>\n",
       "      <td id=\"T_41189_row1_col2\" class=\"data row1 col2\" >0.679283</td>\n",
       "      <td id=\"T_41189_row1_col3\" class=\"data row1 col3\" >0.843494</td>\n",
       "      <td id=\"T_41189_row1_col4\" class=\"data row1 col4\" >0.957269</td>\n",
       "      <td id=\"T_41189_row1_col5\" class=\"data row1 col5\" >1.000000</td>\n",
       "      <td id=\"T_41189_row1_col6\" class=\"data row1 col6\" >1.000000</td>\n",
       "    </tr>\n",
       "    <tr>\n",
       "      <th id=\"T_41189_level0_row2\" class=\"row_heading level0 row2\" >no_effect_nlvo</th>\n",
       "      <td id=\"T_41189_row2_col0\" class=\"data row2 col0\" >0.194610</td>\n",
       "      <td id=\"T_41189_row2_col1\" class=\"data row2 col1\" >0.454087</td>\n",
       "      <td id=\"T_41189_row2_col2\" class=\"data row2 col2\" >0.572576</td>\n",
       "      <td id=\"T_41189_row2_col3\" class=\"data row2 col3\" >0.698670</td>\n",
       "      <td id=\"T_41189_row2_col4\" class=\"data row2 col4\" >0.844677</td>\n",
       "      <td id=\"T_41189_row2_col5\" class=\"data row2 col5\" >0.906702</td>\n",
       "      <td id=\"T_41189_row2_col6\" class=\"data row2 col6\" >1.000000</td>\n",
       "    </tr>\n",
       "    <tr>\n",
       "      <th id=\"T_41189_level0_row3\" class=\"row_heading level0 row3\" >t0_treatment_nlvo_ivt</th>\n",
       "      <td id=\"T_41189_row3_col0\" class=\"data row3 col0\" >0.421886</td>\n",
       "      <td id=\"T_41189_row3_col1\" class=\"data row3 col1\" >0.622608</td>\n",
       "      <td id=\"T_41189_row3_col2\" class=\"data row3 col2\" >0.731465</td>\n",
       "      <td id=\"T_41189_row3_col3\" class=\"data row3 col3\" >0.842685</td>\n",
       "      <td id=\"T_41189_row3_col4\" class=\"data row3 col4\" >0.926502</td>\n",
       "      <td id=\"T_41189_row3_col5\" class=\"data row3 col5\" >0.955720</td>\n",
       "      <td id=\"T_41189_row3_col6\" class=\"data row3 col6\" >1.000000</td>\n",
       "    </tr>\n",
       "    <tr>\n",
       "      <th id=\"T_41189_level0_row4\" class=\"row_heading level0 row4\" >no_effect_lvo</th>\n",
       "      <td id=\"T_41189_row4_col0\" class=\"data row4 col0\" >0.050000</td>\n",
       "      <td id=\"T_41189_row4_col1\" class=\"data row4 col1\" >0.129000</td>\n",
       "      <td id=\"T_41189_row4_col2\" class=\"data row4 col2\" >0.265000</td>\n",
       "      <td id=\"T_41189_row4_col3\" class=\"data row4 col3\" >0.429000</td>\n",
       "      <td id=\"T_41189_row4_col4\" class=\"data row4 col4\" >0.676000</td>\n",
       "      <td id=\"T_41189_row4_col5\" class=\"data row4 col5\" >0.811000</td>\n",
       "      <td id=\"T_41189_row4_col6\" class=\"data row4 col6\" >1.000000</td>\n",
       "    </tr>\n",
       "    <tr>\n",
       "      <th id=\"T_41189_level0_row5\" class=\"row_heading level0 row5\" >t0_treatment_lvo_ivt</th>\n",
       "      <td id=\"T_41189_row5_col0\" class=\"data row5 col0\" >0.105268</td>\n",
       "      <td id=\"T_41189_row5_col1\" class=\"data row5 col1\" >0.190557</td>\n",
       "      <td id=\"T_41189_row5_col2\" class=\"data row5 col2\" >0.317384</td>\n",
       "      <td id=\"T_41189_row5_col3\" class=\"data row5 col3\" >0.473674</td>\n",
       "      <td id=\"T_41189_row5_col4\" class=\"data row5 col4\" >0.688143</td>\n",
       "      <td id=\"T_41189_row5_col5\" class=\"data row5 col5\" >0.807973</td>\n",
       "      <td id=\"T_41189_row5_col6\" class=\"data row5 col6\" >1.000000</td>\n",
       "    </tr>\n",
       "    <tr>\n",
       "      <th id=\"T_41189_level0_row6\" class=\"row_heading level0 row6\" >t0_treatment_lvo_mt</th>\n",
       "      <td id=\"T_41189_row6_col0\" class=\"data row6 col0\" >0.325920</td>\n",
       "      <td id=\"T_41189_row6_col1\" class=\"data row6 col1\" >0.452890</td>\n",
       "      <td id=\"T_41189_row6_col2\" class=\"data row6 col2\" >0.575712</td>\n",
       "      <td id=\"T_41189_row6_col3\" class=\"data row6 col3\" >0.739870</td>\n",
       "      <td id=\"T_41189_row6_col4\" class=\"data row6 col4\" >0.886952</td>\n",
       "      <td id=\"T_41189_row6_col5\" class=\"data row6 col5\" >0.952750</td>\n",
       "      <td id=\"T_41189_row6_col6\" class=\"data row6 col6\" >1.000000</td>\n",
       "    </tr>\n",
       "  </tbody>\n",
       "</table>\n"
      ],
      "text/plain": [
       "<pandas.io.formats.style.Styler at 0x7f9f345781c0>"
      ]
     },
     "execution_count": 16,
     "metadata": {},
     "output_type": "execute_result"
    }
   ],
   "source": [
    "all_distributions_cumsum_df = pd.DataFrame(all_distributions_cumsum).T\n",
    "all_distributions_cumsum_df = all_distributions_cumsum_df.style.set_caption(\n",
    "    'Cumulative distrinbutions')\n",
    "all_distributions_cumsum_df"
   ]
  },
  {
   "cell_type": "markdown",
   "id": "96ae0145-f1e9-4503-b783-011037ce31c7",
   "metadata": {},
   "source": [
    "## Plot distributions"
   ]
  },
  {
   "cell_type": "code",
   "execution_count": 17,
   "id": "dc379835-4993-4554-98c5-e9d6c4f02016",
   "metadata": {},
   "outputs": [],
   "source": [
    "def draw_horizontal_bar(dist,label=''):\n",
    "    \"\"\"\n",
    "    Draw a stacked horizontal bar chart of the values in 'dist'.\n",
    "    \n",
    "    dist  - list or np.array. The probability distribution \n",
    "            (non-cumulative).\n",
    "    label - string. The name printed next to these stacked bars.\n",
    "    \"\"\"\n",
    "    colour_list = plt.rcParams['axes.prop_cycle'].by_key()['color']\n",
    "    # The first bar will start at this point on the x-axis:\n",
    "    left = 0\n",
    "    for i in range(len(dist)):\n",
    "        # Draw a bar starting from 'left', the end of the previous bar,\n",
    "        # with a width equal to the probability of this mRS:\n",
    "        plt.barh(label, width=dist[i], left=left, height=0.5, \n",
    "                 label=f'{i}', edgecolor='k', color=colour_list[i%6])\n",
    "        # Update 'left' with the width of the current bar so that the \n",
    "        # next bar drawn will start in the correct place.    \n",
    "        left += dist[i]"
   ]
  },
  {
   "cell_type": "code",
   "execution_count": 18,
   "id": "2da8321d-4dcb-4f39-8d38-7e625635a824",
   "metadata": {},
   "outputs": [],
   "source": [
    "def draw_connections(dist_t0, dist_tne, top_tne=0.25, bottom_t0=0.75):\n",
    "    \"\"\"\n",
    "    Draw lines connecting the mRS bins in the top and bottom rows.\n",
    "    \n",
    "    dist_t0, dist_tne - lists or arrays. Probability distributions.\n",
    "    top_tne, bottom_t0 - floats. y-coordinates just inside the bars. \n",
    "    \"\"\"\n",
    "    left_t0   = 0.0\n",
    "    left_tne  = 0.0\n",
    "    for i, d_t0 in enumerate(dist_t0):\n",
    "        left_t0  += dist_t0[i]\n",
    "        left_tne += dist_tne[i]\n",
    "        plt.plot([left_t0,left_tne],[bottom_t0,top_tne],color='k')"
   ]
  },
  {
   "cell_type": "code",
   "execution_count": 19,
   "id": "8ca3e569-cc22-4495-9f84-c8dd40b7a9e3",
   "metadata": {},
   "outputs": [
    {
     "data": {
      "image/png": "[encoded data removed]",
      "text/plain": [
       "<Figure size 432x288 with 1 Axes>"
      ]
     },
     "metadata": {
      "needs_background": "light"
     },
     "output_type": "display_data"
    },
    {
     "data": {
      "image/png": "[encoded data removed]",
      "text/plain": [
       "<Figure size 432x288 with 1 Axes>"
      ]
     },
     "metadata": {
      "needs_background": "light"
     },
     "output_type": "display_data"
    },
    {
     "data": {
      "image/png": "[encoded data removed]",
      "text/plain": [
       "<Figure size 432x288 with 1 Axes>"
      ]
     },
     "metadata": {
      "needs_background": "light"
     },
     "output_type": "display_data"
    }
   ],
   "source": [
    "plot_info = [\n",
    "    [no_effect_nlvo_ivt_bins, t0_treatment_nlvo_ivt_bins, 'nLVO-IVT'],\n",
    "    [no_treatment_lvo_bins, t0_treatment_lvo_ivt_bins, 'LVO-IVT'],\n",
    "    [no_treatment_lvo_bins, t0_treatment_lvo_mt_bins, 'LVO-MT']]\n",
    "\n",
    "for info in plot_info:\n",
    "    \n",
    "    # Draw no effect distribution\n",
    "    draw_horizontal_bar(info[0], 'No effect time')\n",
    "    \n",
    "    # Add legend now to prevent doubling all the labels:\n",
    "    plt.legend(loc='center',ncol=7, title='mRS', \n",
    "               bbox_to_anchor=[0.5,0.0,0.0,-0.5])   # Legend below axis.\n",
    "    \n",
    "    # Draww t=0 distribution\n",
    "    draw_horizontal_bar(info[1], 't=0hr')\n",
    "    \n",
    "    # Darw connecting lines\n",
    "    draw_connections(info[1], info[0])\n",
    "    \n",
    "    # Add general content\n",
    "    label = info[2]\n",
    "    plt.xlabel('Probability')\n",
    "    plt.title(label)\n",
    "    plt.xlim(0,1)\n",
    "    plt.savefig(f'./images/{label}.jpg', dpi=300, bbox_inches='tight', \n",
    "        pad_inches=0.2)\n",
    "    plt.show()"
   ]
  },
  {
   "cell_type": "markdown",
   "id": "32ff49cb-4e93-48a3-9908-d279661ed19a",
   "metadata": {},
   "source": [
    "## References\n",
    "\n",
    "de la Ossa Herrero N, Carrera D, Gorchs M, Querol M, Millán M, Gomis M, et al. Design and Validation of a Prehospital Stroke Scale to Predict Large Arterial Occlusion The Rapid Arterial Occlusion Evaluation Scale. Stroke; a journal of cerebral circulation. 2013 Nov 26;45. \n",
    "\n",
    "Emberson J, Lees KR, Lyden P, et al. _Effect of treatment delay, age, and stroke severity on the effects of intravenous thrombolysis with alteplase for acute ischaemic stroke: A meta-analysis of individual patient data from randomised trials._ The Lancet 2014;384:1929–35. doi:10.1016/S0140-6736(14)60584-5\n",
    "\n",
    "Fransen, P., Berkhemer, O., Lingsma, H. et al. Time to Reperfusion and Treatment Effect for Acute Ischemic Stroke: A Randomized Clinical Trial. JAMA Neurol. 2016 Feb 1;73(2):190–6. DOI: 10.1001/jamaneurol.2015.3886\n",
    "\n",
    "Goyal M, Menon BK, van Zwam WH, et al. _Endovascular thrombectomy after large-vessel ischaemic stroke: a meta-analysis of individual patient data from five randomised trials._ The Lancet 2016;387:1723-1731. doi:10.1016/S0140-6736(16)00163-X\n",
    "\n",
    "Hui W, Wu C, Zhao W, Sun H, Hao J, Liang H, et al. Efficacy and Safety of Recanalization Therapy for Acute Ischemic Stroke With Large Vessel Occlusion. Stroke. 2020 Jul;51(7):2026–35. \n",
    "\n",
    "Lees KR, Bluhmki E, von Kummer R, et al. _Time to treatment with intravenous alteplase and outcome in stroke: an updated pooled analysis of ECASS, ATLANTIS, NINDS, and EPITHET trials_. The Lancet 2010;375:1695-703. doi:10.1016/S0140-6736(10)60491-6\n",
    "\n",
    "McMeekin P, White P, James MA, Price CI, Flynn D, Ford GA. Estimating the number of UK stroke patients eligible for endovascular thrombectomy. European Stroke Journal. 2017;2:319–26. \n",
    "\n",
    "SAMueL-1 data on mRS before stroke (DOI: 10.5281/zenodo.6896710): https://samuel-book.github.io/samuel-1/descriptive_stats/08_prestroke_mrs.html"
   ]
  },
  {
   "cell_type": "code",
   "execution_count": null,
   "id": "471fa13f-8597-4194-b16b-1a364594f3a5",
   "metadata": {},
   "outputs": [],
   "source": []
  }
 ],
 "metadata": {
  "kernelspec": {
   "display_name": "Python 3 (ipykernel)",
   "language": "python",
   "name": "python3"
  },
  "language_info": {
   "codemirror_mode": {
    "name": "ipython",
    "version": 3
   },
   "file_extension": ".py",
   "mimetype": "text/x-python",
   "name": "python",
   "nbconvert_exporter": "python",
   "pygments_lexer": "ipython3",
   "version": "3.9.12"
  }
 },
 "nbformat": 4,
 "nbformat_minor": 5
}
