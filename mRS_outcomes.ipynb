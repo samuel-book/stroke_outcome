{
 "cells": [
  {
   "cell_type": "markdown",
   "id": "39a0e65c-5aa0-4c57-a239-5ebc334f0315",
   "metadata": {},
   "source": [
    "# Extra plots of probability"
   ]
  },
  {
   "cell_type": "markdown",
   "id": "100b98c4-ef9b-42cc-8b46-9ccca1572ad0",
   "metadata": {},
   "source": [
    "Here we'll compare with some more data points. "
   ]
  },
  {
   "cell_type": "markdown",
   "id": "0c017e21-ac36-4d60-bc7f-d05cd69756ee",
   "metadata": {},
   "source": [
    "---"
   ]
  },
  {
   "cell_type": "code",
   "execution_count": 1,
   "id": "38dd8b9d",
   "metadata": {
    "pycharm": {
     "name": "#%%\n"
    }
   },
   "outputs": [],
   "source": [
    "import warnings\n",
    "warnings.filterwarnings('ignore')"
   ]
  },
  {
   "cell_type": "code",
   "execution_count": 2,
   "id": "7e253275",
   "metadata": {
    "pycharm": {
     "name": "#%%\n"
    }
   },
   "outputs": [],
   "source": [
    "import numpy as np\n",
    "import matplotlib.pyplot as plt\n",
    "%matplotlib inline"
   ]
  },
  {
   "cell_type": "code",
   "execution_count": 3,
   "id": "d84aa344",
   "metadata": {
    "pycharm": {
     "name": "#%%\n"
    }
   },
   "outputs": [],
   "source": [
    "# Change default colour scheme:\n",
    "plt.style.use('seaborn-colorblind')"
   ]
  },
  {
   "cell_type": "markdown",
   "id": "08127214-9444-4e5e-9021-a8bf7426a146",
   "metadata": {},
   "source": [
    "---"
   ]
  },
  {
   "cell_type": "markdown",
   "id": "ea13f56a-172f-460b-a9a6-a1003297bca9",
   "metadata": {},
   "source": [
    "Import the data:"
   ]
  },
  {
   "cell_type": "markdown",
   "id": "bcf0ac12-28af-4b84-b163-b2ba74ad3fed",
   "metadata": {
    "pycharm": {
     "name": "#%% md\n"
    }
   },
   "source": [
    "### Get errors from Emberson's CI, assuming log odds = 0 at T_0\n",
    "\n",
    "Calculate a new distribution at time=0 using the known $\\pm$ values on the odds ratio at time T=1hr for mRS$\\leq$1. OR was 1.9. \n",
    "\n",
    "Then follow this through to each of the other mRS distributions - use the scaling of the high and low t=0 mRS$\\leq$1 points in the same way as before."
   ]
  },
  {
   "cell_type": "markdown",
   "id": "cdfd90da-de42-4527-b683-dfb46373397b",
   "metadata": {},
   "source": [
    "---"
   ]
  },
  {
   "cell_type": "code",
   "execution_count": 49,
   "id": "d44c1530-0467-4fcd-9485-2c4e1a7f3e4f",
   "metadata": {
    "pycharm": {
     "name": "#%%\n"
    }
   },
   "outputs": [],
   "source": [
    "def get_dist_0(dist_0,p2,OR,mRS_ref,T_0= 6.3*60):\n",
    "    \"\"\"Combine two functions from earlier.\"\"\"\n",
    "    p1 = get_p1(p2, OR, mRS_ref, T_0)\n",
    "    dist_0_oly,bins_0_oly = get_scaled_dist(dist_0,p1,mRS_ref)\n",
    "    return dist_0_oly,bins_0_oly "
   ]
  },
  {
   "cell_type": "code",
   "execution_count": null,
   "id": "6fe6ee30-d65b-4b65-b98d-33070a8cd462",
   "metadata": {
    "pycharm": {
     "name": "#%%\n"
    }
   },
   "outputs": [],
   "source": [
    "OR = 1.9\n",
    "OR_low = 1.4\n",
    "OR_hi = 2.6\n",
    "\n",
    "mRS_ref = 1\n",
    "\n",
    "# p2 from distribution if not treated\n",
    "# (index+1 because bins_F_oly contains 0.0 at start)\n",
    "p2 = bins_F_oly[mRS_ref+1]"
   ]
  },
  {
   "cell_type": "code",
   "execution_count": 50,
   "id": "64e2fd13-d89f-449b-afe7-4f82eeb97f17",
   "metadata": {
    "pycharm": {
     "name": "#%%\n"
    }
   },
   "outputs": [],
   "source": [
    "d_low,_ = get_dist_0(dist_0,p2,OR_low,mRS_ref)\n",
    "d_hi,_  = get_dist_0(dist_0,p2,OR_hi, mRS_ref)"
   ]
  },
  {
   "cell_type": "markdown",
   "id": "c019f1d0-1ca9-4f72-a221-0d6725397347",
   "metadata": {
    "pycharm": {
     "name": "#%% md\n"
    }
   },
   "source": [
    "#### Lower limit "
   ]
  },
  {
   "cell_type": "code",
   "execution_count": 51,
   "id": "b3793027-8944-4c62-9d03-b5a87fec1fe9",
   "metadata": {
    "pycharm": {
     "name": "#%%\n"
    }
   },
   "outputs": [],
   "source": [
    "p1 = np.log(np.cumsum(d_low)[:-1])\n",
    "p2 = np.log(1 - np.cumsum(d_low)[:-1])\n",
    "p3 = np.log(F_oly[:-1])\n",
    "p4 = np.log(1 - F_oly[:-1])\n",
    "\n",
    "a_low = p1-p2 - p3+p4"
   ]
  },
  {
   "cell_type": "code",
   "execution_count": 52,
   "id": "ffe9784e-3a27-4f40-9050-1de2586813b6",
   "metadata": {
    "pycharm": {
     "name": "#%%\n"
    }
   },
   "outputs": [],
   "source": [
    "b_low = -a_low/(6.3*60)"
   ]
  },
  {
   "cell_type": "code",
   "execution_count": 53,
   "id": "79c43cca-880e-4978-b497-449902e35c36",
   "metadata": {
    "pycharm": {
     "name": "#%%\n"
    }
   },
   "outputs": [],
   "source": [
    "A_low = a_low+p3-p4"
   ]
  },
  {
   "cell_type": "markdown",
   "id": "dc7aec0a-40ab-46e7-b475-ca2ee1e2136c",
   "metadata": {
    "pycharm": {
     "name": "#%% md\n"
    }
   },
   "source": [
    "#### Upper limit "
   ]
  },
  {
   "cell_type": "code",
   "execution_count": 54,
   "id": "13d0b577-2d21-4c51-b128-2b10eceef872",
   "metadata": {
    "pycharm": {
     "name": "#%%\n"
    }
   },
   "outputs": [],
   "source": [
    "p1 = np.log(np.cumsum(d_hi)[:-1])\n",
    "p2 = np.log(1 - np.cumsum(d_hi)[:-1])\n",
    "p3 = np.log(F_oly[:-1])\n",
    "p4 = np.log(1 - F_oly[:-1])\n",
    "\n",
    "a_hi = p1-p2 - p3+p4"
   ]
  },
  {
   "cell_type": "code",
   "execution_count": 55,
   "id": "8c439504-cda7-4ae8-a2b7-ab2d4d69e2fd",
   "metadata": {
    "pycharm": {
     "name": "#%%\n"
    }
   },
   "outputs": [],
   "source": [
    "b_hi = -a_hi/(6.3*60)"
   ]
  },
  {
   "cell_type": "code",
   "execution_count": 56,
   "id": "52d7cf23-d1fc-4ffb-9596-85af89a571a8",
   "metadata": {
    "pycharm": {
     "name": "#%%\n"
    }
   },
   "outputs": [],
   "source": [
    "A_hi = a_hi+p3-p4"
   ]
  },
  {
   "cell_type": "markdown",
   "id": "4e0e312e-df86-4eda-9cb2-511e898d6b80",
   "metadata": {
    "pycharm": {
     "name": "#%% md\n"
    }
   },
   "source": [
    "### Plot P as function of time \n",
    "\n",
    "n.b. no errors for mRS=5yet so just plotted the base line:"
   ]
  },
  {
   "cell_type": "code",
   "execution_count": 57,
   "id": "d28c2e72-86b8-41b8-ab7f-1a0d8d33d77b",
   "metadata": {
    "pycharm": {
     "name": "#%%\n"
    }
   },
   "outputs": [
    {
     "data": {
      "image/png": "[encoded data removed]",
      "text/plain": [
       "<Figure size 432x288 with 1 Axes>"
      ]
     },
     "metadata": {
      "needs_background": "light"
     },
     "output_type": "display_data"
    }
   ],
   "source": [
    "t = np.arange(0,6.3*60)\n",
    "\n",
    "for i,A_i in enumerate(A_oly):\n",
    "    \n",
    "    p_i   = np.exp(A_i      + b_oly[i]*t) / (1+np.exp(A_i      + b_oly[i]*t))\n",
    "    p_low = np.exp(A_low[i] + b_low[i]*t) / (1+np.exp(A_low[i] + b_low[i]*t))\n",
    "    p_hi  = np.exp(A_hi[i]  + b_hi[i]*t ) / (1+np.exp(A_hi[i]  + b_hi[i]*t) )\n",
    "    \n",
    "    plt.plot(t, p_i, '-', label = f'mRS <= {i}')\n",
    "    \n",
    "    plt.fill_between(t, p_low, p_hi, alpha=0.3)\n",
    "\n",
    "    \n",
    "plt.plot(t, [1.0 for x in t], '-', label = 'mRS <= 5')\n",
    "\n",
    "plt.legend(loc='best',bbox_to_anchor=[1.0,0.5,0.2,0.2])\n",
    "\n",
    "plt.ylabel('Probability')\n",
    "\n",
    "plt.xlabel('Onset to treatment time (mins)')\n",
    "\n",
    "plt.show()"
   ]
  },
  {
   "cell_type": "markdown",
   "id": "52252672-f173-411c-9dc7-37112f5a5226",
   "metadata": {},
   "source": [
    "---"
   ]
  },
  {
   "cell_type": "markdown",
   "id": "ff51e0cc",
   "metadata": {
    "pycharm": {
     "name": "#%% md\n"
    }
   },
   "source": [
    "### Plot treated 'intervention' population:"
   ]
  },
  {
   "cell_type": "markdown",
   "id": "b4ffc852",
   "metadata": {
    "pycharm": {
     "name": "#%% md\n"
    }
   },
   "source": [
    "Add in Goyal+2016 Figure 1B treated 'intervention' population:"
   ]
  },
  {
   "cell_type": "code",
   "execution_count": 17,
   "id": "1d8ac1db",
   "metadata": {
    "pycharm": {
     "name": "#%%\n"
    }
   },
   "outputs": [],
   "source": [
    "# Probabilities for the treated 'intervention' population:\n",
    "p_treated = np.array([0.100, 0.169, 0.191, 0.169, 0.156, 0.062])#, 0.153])\n",
    "\n",
    "# Margin of error calculation:\n",
    "z = 1.96\n",
    "n = 633\n",
    "errs = []\n",
    "\n",
    "# Print the n*p and n*(1-p) values to check they are above 10.0,\n",
    "# else this error method is invalid.\n",
    "for i,p in enumerate(p_treated):\n",
    "    err = p * z * np.sqrt(p*(1.0-p)/n)    \n",
    "    errs.append(p*err)\n",
    "\n",
    "    if n*p<10.0 or n*(1-p)<10.0:\n",
    "        # Print the n*p and n*(1-p) values to check they are above 10.0,\n",
    "        # else this error method is invalid.\n",
    "        print('mRS \\t n*p \\t n*(1-p)')\n",
    "        print(i, '\\t', round(n*p,1), '\\t', round(n*(1-p),1))\n",
    "    \n",
    "# Cumulative probability of treated population:    \n",
    "cp_t = np.cumsum(p_treated)\n",
    "# Normalise because excluding mRS=6:\n",
    "cp_t = cp_t/cp_t[-1]"
   ]
  },
  {
   "cell_type": "markdown",
   "id": "668759ec-71e0-4d22-b6d1-92f75605ce5b",
   "metadata": {},
   "source": [
    "Plot the data:"
   ]
  },
  {
   "cell_type": "code",
   "execution_count": 18,
   "id": "7572cbe8",
   "metadata": {
    "pycharm": {
     "name": "#%%\n"
    }
   },
   "outputs": [
    {
     "data": {
      "image/png": "[encoded data removed]",
      "text/plain": [
       "<Figure size 432x288 with 1 Axes>"
      ]
     },
     "metadata": {
      "needs_background": "light"
     },
     "output_type": "display_data"
    }
   ],
   "source": [
    "t = np.arange(0,8*60)\n",
    "\n",
    "\n",
    "for i,p in enumerate(cp_t):\n",
    "    # Scatter the Goyal+2016 Figure 1B treated 'intervention' population:\n",
    "    cpt_lab = 'Goyal+2016\\ntreated\\npopulation' if i==0 else None\n",
    "    s = plt.scatter(285, p, label=cpt_lab)\n",
    "    # y-errorbar calculated in previous cell.\n",
    "    # x-errorbar from paper, Table 1 \"onset to reperfusion\".\n",
    "    plt.errorbar(285,p,\n",
    "                 yerr=errs[i], \n",
    "                 # xerr=np.array([[285-210],[362-285]]), \n",
    "                 color=s.get_facecolors(), capsize=8)\n",
    "\n",
    "# Plot lines as before:\n",
    "plot_probs(A_ect,b_ect,t,bins_0,bins_F_ect,colour_bins=0,mark_data_ect=0)\n",
    "\n",
    "plt.show()\n",
    "\n",
    "# # Use tight_layout() to make sure the legend isn't cut off when image is saved:\n",
    "# plt.tight_layout()\n",
    "# plt.savefig('thromb_goyal-treated-population_v2.pdf')\n",
    "# plt.close()"
   ]
  },
  {
   "cell_type": "markdown",
   "id": "cea14d8e-be60-409a-92f8-94802fa5c311",
   "metadata": {
    "pycharm": {
     "name": "#%% md\n"
    }
   },
   "source": [
    "### Include treated population \n"
   ]
  },
  {
   "cell_type": "markdown",
   "id": "d07afbe9-1c33-4254-82aa-3fb67966d5f0",
   "metadata": {},
   "source": [
    "ARE THESE THE WRONG DATA?\n",
    "\n",
    "From Lees+2020. As for the $t=T_0$ case, these values are measured from the image using a ruler on Powerpoint and so the number of patients are not integers. The probabilities will be close enough. "
   ]
  },
  {
   "cell_type": "code",
   "execution_count": 43,
   "id": "1eb0183a",
   "metadata": {
    "pycharm": {
     "name": "#%%\n"
    }
   },
   "outputs": [],
   "source": [
    "# Treated population (Lees+2010):\n",
    "# Numbers of patients in the four bars: 161, 303, 809, 576.\n",
    "n_0 = np.array([ 36.10661765,  31.10825163,  12.89052288,  21.44035948,  21.76919935,   6.77410131,  30.91094771])\n",
    "n_1 = np.array([ 52.23284314,  74.01715686,  22.27941176,  40.10294118,  35.77083333,  25.12622549,  53.47058824])\n",
    "n_2 = np.array([190.68341503, 171.84640523, 105.75163399,  83.94035948,  95.17647059,  73.69566993,  87.90604575])\n",
    "n_3 = np.array([103.29411765, 113.17647059,  67.76470588,  64.94117647,  85.88235294,  56.,          84.94117647])\n",
    "\n",
    "\n",
    "# # Combine the four datasets and create probability distribution:\n",
    "# n_t_oly = np.sum([n_0,n_1,n_2,n_3],axis=0)\n",
    "# # Remove mRS=6 with [:-1]:\n",
    "# dist_t_oly = n_t_oly[:-1] / np.sum(n_t_oly[:-1])\n",
    "\n",
    "# # Create cumulative probability:\n",
    "# bins_t_oly = np.cumsum(np.concatenate(([0.0],dist_t_oly)))"
   ]
  },
  {
   "cell_type": "markdown",
   "id": "875f2c0d-919b-43c5-a0bc-1efb2f350287",
   "metadata": {
    "pycharm": {
     "name": "#%% md\n"
    }
   },
   "source": [
    "Calculate margin of error associated with the data:"
   ]
  },
  {
   "cell_type": "code",
   "execution_count": 44,
   "id": "77a2774b",
   "metadata": {
    "pycharm": {
     "name": "#%%\n"
    }
   },
   "outputs": [
    {
     "name": "stdout",
     "output_type": "stream",
     "text": [
      "time \t mRS \t n*p \t n*(1-p)\n",
      "45.0 \t 5 \t 6.8 \t 123.3\n"
     ]
    }
   ],
   "source": [
    "# Number of patients from above:\n",
    "ns = [n_0,n_1,n_2,n_3]\n",
    "# Average treatment time for each population:\n",
    "nts = [45.0,135.0,225.0,315]\n",
    "# Store binned prob dists and errors in these lists:\n",
    "bns = []\n",
    "ens = []\n",
    "\n",
    "for j,n in enumerate(ns):\n",
    "    # Convert number distribution to probability:\n",
    "    # Remove mRS=6 with [:-1]:\n",
    "    d_n = n[:-1] / np.sum(n[:-1])\n",
    "    \n",
    "    \n",
    "    # Margin of error calculation:\n",
    "    z = 1.96\n",
    "    n = np.sum(n[:-1])\n",
    "    errs = []\n",
    "    for i,p in enumerate(d_n):\n",
    "        err = p * z * np.sqrt(p*(1.0-p)/n)\n",
    "        errs.append(p*err)\n",
    "        if n*p<10.0 or n*(1-p)<10.0:\n",
    "            # Print the n*p and n*(1-p) values to check they are above 10.0,\n",
    "            # else this error method is invalid.\n",
    "            print('time \\t mRS \\t n*p \\t n*(1-p)')\n",
    "            print(nts[j], '\\t', i, '\\t', round(n*p,1), '\\t', round(n*(1-p),1))\n",
    "    ens.append(errs)\n",
    "\n",
    "    # Create cumulative probability:\n",
    "    b_n = np.cumsum(d_n)\n",
    "    bns.append(b_n)\n",
    "\n",
    "# Transpose for easier plotting:\n",
    "bns = np.transpose(np.array(bns))\n",
    "ens = np.transpose(np.array(ens))"
   ]
  },
  {
   "cell_type": "markdown",
   "id": "c47e101b-8291-41e4-8dac-250681df1e01",
   "metadata": {
    "pycharm": {
     "name": "#%% md\n"
    }
   },
   "source": [
    "Plot data as scatter with errorbars:"
   ]
  },
  {
   "cell_type": "code",
   "execution_count": 45,
   "id": "0ff28ae5",
   "metadata": {
    "pycharm": {
     "name": "#%%\n"
    }
   },
   "outputs": [
    {
     "data": {
      "image/png": "[encoded data removed]",
      "text/plain": [
       "<Figure size 432x288 with 1 Axes>"
      ]
     },
     "metadata": {
      "needs_background": "light"
     },
     "output_type": "display_data"
    }
   ],
   "source": [
    "t = np.arange(0,6.3*60)\n",
    "    \n",
    "plot_mRS5=1\n",
    "if plot_mRS5>0:\n",
    "    A_oly_plot = np.append(A_oly,[0.0])\n",
    "    \n",
    "for i,A_i in enumerate(A_oly_plot):\n",
    "    if i<5:\n",
    "        p_i = np.exp(A_i + b_oly[i]*t)/(1+np.exp(A_i + b_oly[i]*t))\n",
    "    else:\n",
    "        p_i = [1.0 for x in t]\n",
    "    l,=plt.plot(t, p_i, '-', label = f'mRS <= {i}')\n",
    "    colour = l.get_color()\n",
    "    \n",
    "    # Scatter the treated patient population at the given times (Lees+2010):\n",
    "    plt.errorbar(nts,bns[i,:],yerr=ens[i,:],xerr=45,fmt='o',color=colour,capsize=8)\n",
    "     \n",
    "plt.legend(loc='upper left', bbox_to_anchor=[1.0,0.5,0.2,0.2])\n",
    "\n",
    "plt.ylabel('Probability')\n",
    "\n",
    "plt.xlabel('Onset to treatment time (mins)')\n",
    "\n",
    "plt.show()"
   ]
  },
  {
   "cell_type": "code",
   "execution_count": null,
   "id": "0cb69d8b",
   "metadata": {
    "pycharm": {
     "name": "#%%\n"
    }
   },
   "outputs": [],
   "source": []
  },
  {
   "cell_type": "code",
   "execution_count": null,
   "id": "749073f6",
   "metadata": {
    "pycharm": {
     "name": "#%%\n"
    }
   },
   "outputs": [],
   "source": []
  }
 ],
 "metadata": {
  "kernelspec": {
   "display_name": "Python 3 (ipykernel)",
   "language": "python",
   "name": "python3"
  },
  "language_info": {
   "codemirror_mode": {
    "name": "ipython",
    "version": 3
   },
   "file_extension": ".py",
   "mimetype": "text/x-python",
   "name": "python",
   "nbconvert_exporter": "python",
   "pygments_lexer": "ipython3",
   "version": "3.9.12"
  }
 },
 "nbformat": 4,
 "nbformat_minor": 5
}
