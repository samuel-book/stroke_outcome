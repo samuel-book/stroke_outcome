{
 "cells": [
  {
   "cell_type": "code",
   "execution_count": 1,
   "id": "38dd8b9d",
   "metadata": {
    "pycharm": {
     "name": "#%%\n"
    }
   },
   "outputs": [],
   "source": [
    "import warnings\n",
    "warnings.filterwarnings('ignore')"
   ]
  },
  {
   "cell_type": "code",
   "execution_count": 2,
   "id": "7e253275",
   "metadata": {
    "pycharm": {
     "name": "#%%\n"
    }
   },
   "outputs": [],
   "source": [
    "import numpy as np\n",
    "import matplotlib.pyplot as plt\n",
    "%matplotlib inline"
   ]
  },
  {
   "cell_type": "code",
   "execution_count": 3,
   "id": "d84aa344",
   "metadata": {
    "pycharm": {
     "name": "#%%\n"
    }
   },
   "outputs": [],
   "source": [
    "# Change default colour scheme:\n",
    "plt.style.use('seaborn-colorblind')"
   ]
  },
  {
   "cell_type": "markdown",
   "id": "424730fc",
   "metadata": {
    "pycharm": {
     "name": "#%% md\n"
    }
   },
   "source": [
    "# Thrombectomy "
   ]
  },
  {
   "cell_type": "markdown",
   "id": "f9083835",
   "metadata": {
    "pycharm": {
     "name": "#%% md\n"
    }
   },
   "source": [
    "### T=0 \n",
    "\n",
    "Plot the distribution of mRS at time T=0 (i.e. before stroke) from the SAMuel-1 data.\n",
    "\n",
    "density=True makes the bars of the histogram add up to 1 - so y-axis shows probability of each mRS."
   ]
  },
  {
   "cell_type": "code",
   "execution_count": 4,
   "id": "f7f95899",
   "metadata": {
    "pycharm": {
     "name": "#%%\n"
    }
   },
   "outputs": [],
   "source": [
    "dist_0 = np.array([0.54956819, 0.14895196, 0.0980681 , 0.11769072, 0.06707674, 0.0186443])\n",
    "# dist_0 = np.cumsum(np.concatenate((dist_0,[0.0])))"
   ]
  },
  {
   "cell_type": "markdown",
   "id": "367dfa2e",
   "metadata": {
    "pycharm": {
     "name": "#%% md\n"
    }
   },
   "source": [
    "Convert the mRS distribution into cumulative frequency:"
   ]
  },
  {
   "cell_type": "code",
   "execution_count": 5,
   "id": "abc4c7a7",
   "metadata": {
    "pycharm": {
     "name": "#%%\n"
    }
   },
   "outputs": [],
   "source": [
    "bins_0 = np.cumsum(np.concatenate(([0],dist_0)))"
   ]
  },
  {
   "cell_type": "code",
   "execution_count": 6,
   "id": "972d9069",
   "metadata": {
    "pycharm": {
     "name": "#%%\n"
    }
   },
   "outputs": [
    {
     "data": {
      "text/plain": [
       "array([0.        , 0.54956819, 0.69852015, 0.79658825, 0.91427897,\n",
       "       0.98135571, 1.00000001])"
      ]
     },
     "execution_count": 6,
     "metadata": {},
     "output_type": "execute_result"
    }
   ],
   "source": [
    "bins_0"
   ]
  },
  {
   "cell_type": "markdown",
   "id": "3f83c351",
   "metadata": {
    "pycharm": {
     "name": "#%% md\n"
    }
   },
   "source": [
    "### T = 8 hours "
   ]
  },
  {
   "cell_type": "markdown",
   "id": "cb636d86",
   "metadata": {
    "pycharm": {
     "name": "#%% md\n"
    }
   },
   "source": [
    "Collect \"untreated\" mRS distribution, i.e. mRS at time T=8hrs.\n",
    "_Presumably_ this only includes patients when no thrombolysis or thrombectomy has been performed.\n",
    "\n",
    "Data from Goyal+2016[1], Figure 1 (A Overall, Control population). mRS=6 is excluded and P(mRS=6)=0.189.\n",
    "\n",
    "[1] _\"Endovascular thrombectomy after large-vessel ischaemic stroke: a meta-analysis of individual patient data from five randomised trials\"_"
   ]
  },
  {
   "cell_type": "code",
   "execution_count": 7,
   "id": "18a91b5d",
   "metadata": {
    "pycharm": {
     "name": "#%%\n"
    }
   },
   "outputs": [],
   "source": [
    "#from golye's control population (figure 1a)\n",
    "\n",
    "dist_F_ect = [0.05, 0.079, 0.136, 0.164, 0.247, 0.135]"
   ]
  },
  {
   "cell_type": "markdown",
   "id": "ab08fa5f",
   "metadata": {
    "pycharm": {
     "name": "#%% md\n"
    }
   },
   "source": [
    "Convert to cumulative frequency:"
   ]
  },
  {
   "cell_type": "code",
   "execution_count": 8,
   "id": "6dc99d64",
   "metadata": {
    "pycharm": {
     "name": "#%%\n"
    }
   },
   "outputs": [
    {
     "data": {
      "text/plain": [
       "array([0.        , 0.06165228, 0.15906289, 0.32675709, 0.52897657,\n",
       "       0.83353884, 1.        ])"
      ]
     },
     "execution_count": 8,
     "metadata": {},
     "output_type": "execute_result"
    }
   ],
   "source": [
    "bins_F_ect = np.cumsum(np.concatenate(([0],dist_F_ect)))\n",
    "\n",
    "# Need to normalise because it currently doesn't add up to 1 (non-zero mRS=6 is excluded).\n",
    "bins_F_ect = bins_F_ect/bins_F_ect[-1]\n",
    "\n",
    "bins_F_ect"
   ]
  },
  {
   "cell_type": "markdown",
   "id": "d61bd3bd",
   "metadata": {
    "pycharm": {
     "name": "#%% md\n"
    }
   },
   "source": [
    "Test some probability \"x\" - which mRS bin does it fall into?"
   ]
  },
  {
   "cell_type": "code",
   "execution_count": 9,
   "id": "bf16271a",
   "metadata": {
    "pycharm": {
     "name": "#%%\n"
    }
   },
   "outputs": [
    {
     "data": {
      "text/plain": [
       "3"
      ]
     },
     "execution_count": 9,
     "metadata": {},
     "output_type": "execute_result"
    }
   ],
   "source": [
    "#x = np.random.rand()\n",
    "x = 0.5\n",
    "\n",
    "np.digitize(x, bins_F_ect, right=True)-1"
   ]
  },
  {
   "cell_type": "markdown",
   "id": "6aa80867",
   "metadata": {
    "pycharm": {
     "name": "#%% md\n"
    }
   },
   "source": [
    "## Workings "
   ]
  },
  {
   "cell_type": "markdown",
   "id": "885d9bb8",
   "metadata": {
    "pycharm": {
     "name": "#%% md\n"
    }
   },
   "source": [
    "From Allen.pdf pseudocode paper §2.4.1:\n",
    "\n",
    "$$log Odds ratio = 0.746 - 0.12T$$\n",
    "\n",
    "T = hours from onset to treatment\n",
    "\n",
    "odds ratio = odds of outcome if exposed / odds of outcome if not exposed\n",
    "\n",
    "\n",
    "Define:\n",
    "\n",
    "- $m$ : value of mRS\n",
    "- $T$ : hours from onset to treatment\n",
    "- $T_0$ : time of zero effect\n",
    "- $O(m, x, T)$ : odds ratio for mRS <= x if thrombolysis given at time T\n",
    "- $N(\\cdot)$ : number of patients satisfying condition $\\cdot$\n",
    "- $P(\\cdot)$ : probability of patient satisfying condition $\\cdot$\n",
    "\n",
    "\n",
    "Also, inequalities $\\leq$ are used to give the cumulative probabilities.\n",
    "\n",
    "By definition, odds ratio:\n",
    "\n",
    "1 : $$ O(m,x,T) = \\frac{N(m\\leq x|T)/N(m>x|T)}{N(m\\leq x|T_0)/N(m>x|T_0)} $$\n",
    "\n",
    "i.e.:\n",
    "\n",
    "2 : $$\\log(O(m,x,T)) = \\log(N(m\\leq x|T)) - \\log(N(m>x|T)) - \\log(N(m\\leq x|T_0)) + \\log(N(m>x|T_0)) $$ \n",
    "\n",
    "3 : $$\\log(O(m,x,T)) = \\log(P(m\\leq x|T)) - \\log(P(m>x|T)) - \\log(P(m\\leq x|T_0)) + \\log(P(m>x|T_0)) $$ \n",
    "\n",
    "\n",
    "### Find formula for odds (in terms of _a_ and _b_):\n",
    "\n",
    "Assume linear realtionship between log odds and time holds for all values of m, for each value of m we solve:\n",
    "\n",
    "4 : $$ \\log(O(m,x,T)) = a + bT $$\n",
    " \n",
    "\n",
    "Equating 3 and 4:\n",
    "\n",
    "5 : $$ a + bT = \\log(P(m\\leq x|T)) - \\log(P(m>x|T)) - \\log(P(m\\leq x|T_0)) + \\log(P(m>x|T_0))$$\n",
    "\n",
    "This will be used to calculate the odds, i.e. we need to find _a_ and _b_. All of the log(_P_) are known from the input data. \n",
    "\n",
    "\n",
    "### Find formula for probability (in terms of _A_ and _b_):\n",
    "\n",
    "Absorbing terms depending on $T_0$ on RHS into constant on LHS:\n",
    "\n",
    "6: $$ A + bT = \\log(P(m\\leq x|T)) - \\log(P(m>x|T)) $$\n",
    "\n",
    "$$ A + bT = \\log(P(m\\leq x|T)) - \\log(1 - P(m\\leq x|T))$$\n",
    "\n",
    "$$ A + bT = \\log(\\frac{P(m\\leq x|T)}{1 - P(m\\leq x|T)})$$\n",
    "\n",
    "$$e^{A + bT} = \\frac{P(m\\leq x|T)}{1 - P(m\\leq x|T)}$$\n",
    "\n",
    "This equation is still just odds, but in terms of _A_ and _b_.\n",
    "\n",
    "\n",
    "Solve for probability $P \\equiv P(m\\leq x|T)$: \n",
    "\n",
    "$$e^{A + bT}(1-P) = P$$\n",
    "\n",
    "$$e^{A + bT} = (1+e^{A + bT})P$$\n",
    "\n",
    "$$ \\frac{e^{A + bT}}{1+e^{A + bT}} = P $$\n",
    "\n",
    "So _A_ and _b_ are needed to calculate probability _P_. "
   ]
  },
  {
   "cell_type": "markdown",
   "id": "825d199d",
   "metadata": {
    "pycharm": {
     "name": "#%% md\n"
    }
   },
   "source": [
    "## Model 1"
   ]
  },
  {
   "cell_type": "markdown",
   "id": "55293679",
   "metadata": {
    "pycharm": {
     "name": "#%% md\n"
    }
   },
   "source": [
    "Assume log odds = 0 at $T_0$.\n",
    "\n",
    "Each mRS has different values of _a_, _b_, and _A_, and so the variables `a`, `b`, and `A` are arrays - index 0 for mRS=0 values etc."
   ]
  },
  {
   "cell_type": "markdown",
   "id": "0078d323",
   "metadata": {
    "pycharm": {
     "name": "#%% md\n"
    }
   },
   "source": [
    "### Find a"
   ]
  },
  {
   "cell_type": "markdown",
   "id": "60b35731",
   "metadata": {
    "pycharm": {
     "name": "#%% md\n"
    }
   },
   "source": [
    "At T = 0, log odds = a (see Equation 4). Find the value of _a_ by using Equation 5 above:\n",
    "\n",
    "$$ a = \\log(P(m\\leq x|T=0hr)) - \\log(P(m>x|T=0hr)) - \\log(P(m\\leq x|T_0)) + \\log(P(m>x|T_0))$$\n",
    "\n",
    "All of the following probabilities are known from the input data:\n",
    "\n",
    "- $P(m\\leq x|T=0hr)$ = `np.cumsum(dist_0)[:-1]`\n",
    "\n",
    "- $P(m>x|T=0hr)$ = `1 - np.cumsum(dist_0)[:-1]`\n",
    "\n",
    "- $P(m\\leq x|T=T_0)$ = `F_ect[:-1]`\n",
    "\n",
    "- $P(m>x|T=T_0)$ = `1 - F_ect[:-1]`\n",
    "\n",
    "The probabilities are not calculated using the `bins_0` and `bins_F_ect` defined earlier as those arrays contain an extra 0.0 at the beginning, and we don't want to set mRS=0 to probabilities 0.0.\n",
    "\n",
    "mRS<=5 is excluded from the calculations because P(mRS<=5)=1.0 at all times, and so values for _a_, _b_ and _A_ cannot be found. Instead a straight horizontal line is plotted to show mRS<=5."
   ]
  },
  {
   "cell_type": "code",
   "execution_count": 10,
   "id": "d1ba6fba",
   "metadata": {
    "pycharm": {
     "name": "#%%\n"
    }
   },
   "outputs": [
    {
     "name": "stdout",
     "output_type": "stream",
     "text": [
      "[0.06165228 0.15906289 0.32675709 0.52897657 0.83353884 1.        ]\n",
      "[2.92153651 2.5054781  2.08799482 2.25100125 2.35247676]\n"
     ]
    }
   ],
   "source": [
    "F_ect = np.cumsum(dist_F_ect)\n",
    "\n",
    "F_ect = F_ect/F_ect[-1]\n",
    "\n",
    "print(F_ect)\n",
    "\n",
    "p1_ect = np.log(np.cumsum(dist_0)[:-1])\n",
    "p2_ect = np.log(1 - np.cumsum(dist_0)[:-1])\n",
    "p3_ect = np.log(F_ect[:-1])\n",
    "p4_ect = np.log(1 - F_ect[:-1])\n",
    "\n",
    "a_ect = (p1_ect-p2_ect) - (p3_ect - p4_ect)\n",
    "\n",
    "print(a_ect)"
   ]
  },
  {
   "cell_type": "markdown",
   "id": "3e96799d",
   "metadata": {
    "pycharm": {
     "name": "#%% md\n"
    }
   },
   "source": [
    "### Find b "
   ]
  },
  {
   "cell_type": "markdown",
   "id": "7acccefa",
   "metadata": {
    "pycharm": {
     "name": "#%% md\n"
    }
   },
   "source": [
    "At T = 8hr (i.e. $T=T_0$), log odds = 0 because the RHS of Equation 5 above cancels to zero.\n",
    "\n",
    "$$ b = -\\frac{a}{8} $$"
   ]
  },
  {
   "cell_type": "code",
   "execution_count": 11,
   "id": "757fc1eb",
   "metadata": {
    "pycharm": {
     "name": "#%%\n"
    }
   },
   "outputs": [],
   "source": [
    "b_ect = -a_ect/(8*60)"
   ]
  },
  {
   "cell_type": "markdown",
   "id": "0f323ea9",
   "metadata": {
    "pycharm": {
     "name": "#%% md\n"
    }
   },
   "source": [
    "### Find A \n",
    "\n",
    "_A_ combines _a_ and all of the $T_0$ terms - see the difference between Equations 5 and 6 above.  \n",
    "\n",
    "\n",
    "$$ A = a + \\log(P(m\\leq x|T_0)) - \\log(P(m>x|T_0))$$"
   ]
  },
  {
   "cell_type": "code",
   "execution_count": 12,
   "id": "dc24025f",
   "metadata": {
    "pycharm": {
     "name": "#%%\n"
    }
   },
   "outputs": [],
   "source": [
    "A_ect = a_ect+p3_ect-p4_ect"
   ]
  },
  {
   "cell_type": "markdown",
   "id": "3379005f",
   "metadata": {
    "pycharm": {
     "name": "#%% md\n"
    }
   },
   "source": [
    "### Plot log odds as function of time\n",
    "\n",
    "Each mRS value has a different _a_ and _b_ to calculate its log-odds. "
   ]
  },
  {
   "cell_type": "code",
   "execution_count": 13,
   "id": "f958f059",
   "metadata": {
    "pycharm": {
     "name": "#%%\n"
    }
   },
   "outputs": [
    {
     "data": {
      "image/png": "[encoded data removed]",
      "text/plain": [
       "<Figure size 432x288 with 1 Axes>"
      ]
     },
     "metadata": {
      "needs_background": "light"
     },
     "output_type": "display_data"
    }
   ],
   "source": [
    "t = np.arange(0,8*60)\n",
    "\n",
    "for i,a_i in enumerate(a_ect):\n",
    "    \n",
    "    plt.plot(t, a_i + b_ect[i]*t, '-', label = f'mRS <= {i}')\n",
    "    \n",
    "plt.legend(loc='best')\n",
    "\n",
    "plt.ylabel('Log Odds')\n",
    "\n",
    "plt.xlabel('Onset to treatment time (mins)')\n",
    "\n",
    "plt.show()"
   ]
  },
  {
   "cell_type": "markdown",
   "id": "2567963b",
   "metadata": {
    "pycharm": {
     "name": "#%% md\n"
    }
   },
   "source": [
    "### Plot P as function of time \n",
    "\n",
    "Each mRS value has a different _A_ and _b_ to calculate its probability with time.\n",
    "\n",
    "Because all of the calculations so far have used cumulative probability $P(m\\leq x|T)$, the lines should be viewed as being stacked on top of each other. \n",
    "\n",
    "We started with the data at t=0 and t=$T_0$ and have calculated the lines in between.\n",
    "\n",
    "Basic plot:"
   ]
  },
  {
   "cell_type": "code",
   "execution_count": 14,
   "id": "f307e02b",
   "metadata": {
    "pycharm": {
     "name": "#%%\n"
    }
   },
   "outputs": [
    {
     "data": {
      "image/png": "[encoded data removed]",
      "text/plain": [
       "<Figure size 432x288 with 1 Axes>"
      ]
     },
     "metadata": {
      "needs_background": "light"
     },
     "output_type": "display_data"
    }
   ],
   "source": [
    "t = np.arange(0,8*60)\n",
    "\n",
    "for i,A_i in enumerate(A_ect):\n",
    "    \n",
    "    plt.plot(t, np.exp(A_i + b_ect[i]*t)/(1+np.exp(A_i + b_ect[i]*t)), '-', label = f'mRS <= {i}')\n",
    "    \n",
    "plt.plot(t, [1.0 for x in t], '-', label = 'mRS <= 5')\n",
    "\n",
    "plt.ylabel('Probability')\n",
    "\n",
    "plt.xlabel('Onset to treatment time (mins)')\n",
    "\n",
    "plt.legend(loc='best')\n",
    "\n",
    "plt.show()"
   ]
  },
  {
   "cell_type": "markdown",
   "id": "f9fd08fb",
   "metadata": {
    "pycharm": {
     "name": "#%% md\n"
    }
   },
   "source": [
    "The same lines plotted with extra annotations:"
   ]
  },
  {
   "cell_type": "code",
   "execution_count": 15,
   "id": "f99875bf",
   "metadata": {
    "pycharm": {
     "name": "#%%\n"
    }
   },
   "outputs": [],
   "source": [
    "def plot_probs(A_ect,b_ect,t,bins_0,bins_F,colour_bins=1,mark_data_ect=0,mark_data_oly=0,plot_mRS5=1):\n",
    "    \"\"\"\n",
    "    Plot cumulative probability against time with fancier labelling.\n",
    "    \n",
    "    Inputs:\n",
    "    A_ect         - list or np.array. Contains values of A for P(t,A,b).\n",
    "    b_ect         - list or np.array. Contains values of b for P(t,A,b).\n",
    "    t             - list or np.array. Time steps.\n",
    "    bins_0        - list or np.array. Cumulative probability bins at t=0.\n",
    "    bins_F        - list or np.array. Cumulative probability bins at t=T_0.\n",
    "    colour_bins   - int, 0 or 1. Whether to colour the gaps between P(t) lines.\n",
    "    mark_data_ect - int, 0 or 1. Whether to mark the input data for thrombectomy.\n",
    "    mark_data_oly - int, 0 or 1. Whether to mark the input data for thrombolysis.\n",
    "    plot_mRS5     - int, 0 or 1. Whether to draw P(mRS<=5) along the top.\n",
    "    \n",
    "    \"\"\"\n",
    "    if plot_mRS5>0:\n",
    "        # P(mRS<=5)=1.0 at all times, so we cannot define A, a, and b.\n",
    "        # Instead append to this array a 0.0, which won't be used directly\n",
    "        # but will allow the \"for\" loop to go round one extra time.\n",
    "        A_ect = np.append(A_ect,0.0)\n",
    "    for i,A_i in enumerate(A_ect):\n",
    "\n",
    "        # Define the probability line, p_i:\n",
    "        if i<5:\n",
    "            p_i = np.exp(A_i + b_ect[i]*t)/(1+np.exp(A_i + b_ect[i]*t))\n",
    "        else:\n",
    "            # P(mRS<=5)=1.0 at all times:\n",
    "            p_i = np.full(t.shape,1.0)\n",
    "        # Plot it as before and store the colour used:\n",
    "        l, = plt.plot(t, p_i, '-', label = f'mRS <= {i}')\n",
    "        colour = l.get_color()\n",
    "\n",
    "        if mark_data_ect>0:\n",
    "            # Mark the thrombectomy data at time t=0hr and t=T_0.\n",
    "            # If first marker plotted, then add a label for the legend:\n",
    "            l_t0 = 'SAMueL data'     if i<1 else None\n",
    "            l_tF = 'Goyal+2016 data' if i<1 else None\n",
    "            # (Keep i+1 index because the first value in bins_0 is just 0.0):\n",
    "            plt.scatter(0, bins_0[i+1],\n",
    "                        marker='o', label=l_t0, facecolor=colour, edgecolor='k')\n",
    "            plt.scatter(8*60, bins_F[i+1],\n",
    "                        marker='s', label=l_tF, facecolor=colour, edgecolor='k')\n",
    "            \n",
    "        if mark_data_oly>0:\n",
    "            # Mark the thrombolysis data. \n",
    "            if i==1:\n",
    "                # For mRS<=1 only, plot the reference data point.\n",
    "                ti = np.where(t==1.0*60)\n",
    "                plt.scatter(t[ti], p_i[ti],\n",
    "                            marker='D', label='Emberson+2014 data', \n",
    "                            facecolor=colour, edgecolor='k')\n",
    "                \n",
    "            # Mark the data at time t=6.3hr.\n",
    "            # If this is the first marker plotted, then add a label for the legend:\n",
    "            l_tF = 'Lees+2010 data' if i<1 else None\n",
    "            # (Keep i+1 index because the first value in bins_0 is just 0.0):\n",
    "            plt.scatter(6.3*60, bins_F[i+1],\n",
    "                        marker='X', label=l_tF, facecolor=colour, edgecolor='k')\n",
    "              \n",
    "        if colour_bins>0:\n",
    "\n",
    "            # Fill in the area between this line, p_i, and the line below, p_j.\n",
    "            # This area marks where mRS <= the given value.\n",
    "            # If p_j is not defined yet (i=0), set all p_j to zero:\n",
    "            p_j = p_j if i>0 else np.zeros_like(p_i)\n",
    "            plt.fill_between(t, p_i, p_j, color=colour, alpha=0.3)#, label=f'mRS = {i}')\n",
    "            # ^ alpha is just used as a quick way to lighten the fill colour.\n",
    "\n",
    "            # Store the most recently-created line for the next loop:\n",
    "            p_j = p_i\n",
    "    \n",
    "    \n",
    "    plt.legend(loc='center left', bbox_to_anchor=[1.0,0.5,0.2,0.2])\n",
    "\n",
    "    plt.ylabel('Probability')\n",
    "\n",
    "    plt.xlabel('Onset to treatment time (mins)')\n",
    "\n",
    "    plt.ylim(-0.02,1.02)"
   ]
  },
  {
   "cell_type": "markdown",
   "id": "40d90571",
   "metadata": {
    "pycharm": {
     "name": "#%% md\n"
    }
   },
   "source": [
    "Fancier plot:"
   ]
  },
  {
   "cell_type": "code",
   "execution_count": 16,
   "id": "12ecc84c",
   "metadata": {
    "pycharm": {
     "name": "#%%\n"
    }
   },
   "outputs": [
    {
     "data": {
      "image/png": "[encoded data removed]",
      "text/plain": [
       "<Figure size 432x288 with 1 Axes>"
      ]
     },
     "metadata": {
      "needs_background": "light"
     },
     "output_type": "display_data"
    }
   ],
   "source": [
    "t = np.arange(0,8*60)\n",
    "\n",
    "plot_probs(A_ect,b_ect,t,bins_0,bins_F_ect,colour_bins=1,mark_data_ect=1)\n",
    "\n",
    "plt.show()"
   ]
  },
  {
   "cell_type": "markdown",
   "id": "ff51e0cc",
   "metadata": {
    "pycharm": {
     "name": "#%% md\n"
    }
   },
   "source": [
    "### Plot treated 'intervention' population:"
   ]
  },
  {
   "cell_type": "markdown",
   "id": "b4ffc852",
   "metadata": {
    "pycharm": {
     "name": "#%% md\n"
    }
   },
   "source": [
    "Add in Goyal+2016 Figure 1B treated 'intervention' population:"
   ]
  },
  {
   "cell_type": "code",
   "execution_count": 17,
   "id": "1d8ac1db",
   "metadata": {
    "pycharm": {
     "name": "#%%\n"
    }
   },
   "outputs": [],
   "source": [
    "# Probabilities for the treated 'intervention' population:\n",
    "p_treated = np.array([0.100, 0.169, 0.191, 0.169, 0.156, 0.062])#, 0.153])\n",
    "\n",
    "# Margin of error calculation:\n",
    "z = 1.96\n",
    "n = 633\n",
    "errs = []\n",
    "\n",
    "# Print the n*p and n*(1-p) values to check they are above 10.0,\n",
    "# else this error method is invalid.\n",
    "for i,p in enumerate(p_treated):\n",
    "    err = p * z * np.sqrt(p*(1.0-p)/n)    \n",
    "    errs.append(p*err)\n",
    "\n",
    "    if n*p<10.0 or n*(1-p)<10.0:\n",
    "        # Print the n*p and n*(1-p) values to check they are above 10.0,\n",
    "        # else this error method is invalid.\n",
    "        print('mRS \\t n*p \\t n*(1-p)')\n",
    "        print(i, '\\t', round(n*p,1), '\\t', round(n*(1-p),1))\n",
    "    \n",
    "# Cumulative probability of treated population:    \n",
    "cp_t = np.cumsum(p_treated)\n",
    "# Normalise because excluding mRS=6:\n",
    "cp_t = cp_t/cp_t[-1]"
   ]
  },
  {
   "cell_type": "code",
   "execution_count": 18,
   "id": "7572cbe8",
   "metadata": {
    "pycharm": {
     "name": "#%%\n"
    }
   },
   "outputs": [
    {
     "data": {
      "image/png": "[encoded data removed]",
      "text/plain": [
       "<Figure size 432x288 with 1 Axes>"
      ]
     },
     "metadata": {
      "needs_background": "light"
     },
     "output_type": "display_data"
    }
   ],
   "source": [
    "t = np.arange(0,8*60)\n",
    "\n",
    "\n",
    "for i,p in enumerate(cp_t):\n",
    "    # Scatter the Goyal+2016 Figure 1B treated 'intervention' population:\n",
    "    cpt_lab = 'Goyal+2016\\ntreated\\npopulation' if i==0 else None\n",
    "    s = plt.scatter(285, p, label=cpt_lab)\n",
    "    # y-errorbar calculated in previous cell.\n",
    "    # x-errorbar from paper, Table 1 \"onset to reperfusion\".\n",
    "    plt.errorbar(285,p,\n",
    "                 yerr=errs[i], \n",
    "                 # xerr=np.array([[285-210],[362-285]]), \n",
    "                 color=s.get_facecolors(), capsize=8)\n",
    "\n",
    "# Plot lines as before:\n",
    "plot_probs(A_ect,b_ect,t,bins_0,bins_F_ect,colour_bins=0,mark_data_ect=0)\n",
    "\n",
    "plt.show()\n",
    "\n",
    "# # Use tight_layout() to make sure the legend isn't cut off when image is saved:\n",
    "# plt.tight_layout()\n",
    "# plt.savefig('thromb_goyal-treated-population_v2.pdf')\n",
    "# plt.close()"
   ]
  },
  {
   "cell_type": "markdown",
   "id": "bb66ae56",
   "metadata": {
    "pycharm": {
     "name": "#%% md\n"
    }
   },
   "source": [
    "## Model 1 code"
   ]
  },
  {
   "cell_type": "markdown",
   "id": "44d39be1",
   "metadata": {
    "pycharm": {
     "name": "#%% md\n"
    }
   },
   "source": [
    "Inputs: \n",
    "\n",
    "- Time to thrombectomy or thrombolysis\n",
    "- Time to zero effect (set at 8 hours, but optionally changed)\n",
    "\n",
    "Outpts:\n",
    "\n",
    "- Single sample of mRS if untreated, and mRS if treated\n",
    "- 100 samples of mRS if untreated, and mRS if treated, and probability of mRS being improved by at least 1"
   ]
  },
  {
   "cell_type": "code",
   "execution_count": 19,
   "id": "c8e078ff",
   "metadata": {
    "pycharm": {
     "name": "#%%\n"
    }
   },
   "outputs": [],
   "source": [
    "def stroke_outcome(dist_0, dist_F, treatment_time, time_zero_effect=8*60, single=True, n_iter=100, xs=[]):\n",
    "    \n",
    "    '''\n",
    "    Inputs\n",
    "    \n",
    "    dist_0:           1D list or numpy array. Element i corresponds to \n",
    "                      the proportion of patients that had mRS=i, before stroke or \n",
    "                      if treated at time t=0.\n",
    "    dist_F:           1D list or numpy array. Element i corresponds to \n",
    "                      the proportion of patients that had mRS=i if not treated\n",
    "                      or treated after time_zero_effect\n",
    "    treatment_time:   int. time in minutes between stroke and treatment    \n",
    "    time_zero_effect: int. time in minutes after stroke that treatment\n",
    "                      has no effect.                      \n",
    "    single:           bool. If True, model will only perform one iteration    \n",
    "    n_iter:           int. If single=False, number of iterations the model \n",
    "                      will perform.\n",
    "    xs:               1D list or numpy array. List of values of 'x' to try.\n",
    "                      \n",
    "    \n",
    "    Outputs\n",
    "    \n",
    "    mRS_0:  1D list. mRS if treated at time t=0     \n",
    "    mRS_F:  1D list. mRS if treated at time_zero_effect  \n",
    "    mRS_T:  1D list. mRS if treated at treatment_time\n",
    "    bins_t: bins at treatment_time\n",
    "    \n",
    "    '''\n",
    "\n",
    "    # find a\n",
    "    F = np.cumsum(dist_F)\n",
    "    F = F/F[-1]\n",
    "\n",
    "    p1 = np.log(np.cumsum(dist_0)[:-1])\n",
    "    p2 = np.log(1- np.cumsum(dist_0)[:-1])\n",
    "    p3 = np.log(F[:-1])\n",
    "    p4 = np.log(1-F[:-1])\n",
    "\n",
    "    a = p1-p2 - p3 + p4\n",
    "\n",
    "    # find b\n",
    "    b = -a/(time_zero_effect)\n",
    "\n",
    "    # find A\n",
    "    A = a+p3-p4\n",
    "\n",
    "    # mRS at t=0\n",
    "    # Get all mRS bins at t=0:\n",
    "    bins_0 = np.cumsum(np.concatenate(([0],dist_0)))\n",
    "\n",
    "\n",
    "    # mRS untreated\n",
    "    # Find which bin 'x' lies in at t=T_0.\n",
    "    bins_F = np.cumsum(np.concatenate(([0],dist_F)))\n",
    "    bins_F = bins_F/bins_F[-1]\n",
    "    #print(bins_F)\n",
    "    \n",
    "\n",
    "    # mRS treated\n",
    "    # Create the probability bins at treatment_time:\n",
    "    bins_T = [np.exp(A_i + b[i]*treatment_time)/(1+np.exp(A_i + b[i]*treatment_time))\\\n",
    "                 for i,A_i in enumerate(A)]\n",
    "    # Find which bin 'x' lies in at t=treatment_time.\n",
    "    bins_T = np.concatenate((np.concatenate(([0],bins_T)),[1]))\n",
    "    \n",
    "\n",
    "    \n",
    "    if single:\n",
    "        \n",
    "        n_iter = 1\n",
    "    elif len(xs)>0:\n",
    "        n_iter = len(xs)\n",
    "        \n",
    "    count=0\n",
    "    \n",
    "    mRS_0, mRS_F, mRS_T = [],[],[]\n",
    "    \n",
    "    while count<n_iter:\n",
    "    \n",
    "        # random number to represent mRS at t=0.\n",
    "        # x is a probability on the y-axis and so runs from 0 to 1.\n",
    "\n",
    "        x = np.random.rand() if len(xs)<1 else xs[count]\n",
    "        #x = 0.9\n",
    "\n",
    "        # Find which bin 'x' lies in,\n",
    "        # i.e. which plotted probability line it lies under,\n",
    "        # at time t=0, t=treatment_time, and t=T_0.\n",
    "        mRS_0.append(np.digitize(x, bins_0, right=True)-1)\n",
    "        mRS_F.append(np.digitize(x, bins_F, right=True)-1)\n",
    "        mRS_T.append(np.digitize(x, bins_T, right=True)-1)\n",
    "    \n",
    "        if single:\n",
    "            \n",
    "            #print(x)\n",
    "\n",
    "            print(f'mRS pre-stroke: {mRS_0[-1]}')\n",
    "            print(f'mRS if not treated: {mRS_F[-1]}')\n",
    "            print(f'mRS if treated at time={treatment_time}: {mRS_T[-1]}')\n",
    "            \n",
    "        count+=1\n",
    "\n",
    "        \n",
    "    if not single:\n",
    "        # For all of the patients (n_iter values of 'x'), record whether \n",
    "        # their mRS improved (mRS_T, with treatment at treatment_time) compared with\n",
    "        # their untreated mRS level (in mRS_F). If improved, set to 1, else set to 0.\n",
    "        # Then take the average of the 1s and 0s across all n_iter patients. \n",
    "        treatment_effect = np.mean([1 if mRS_F[i] - T >=1 else 0 for i,T in enumerate(mRS_T)])\n",
    "        \n",
    "        print(f'Probability of mRS improving by 1 or more: {treatment_effect}')\n",
    "        \n",
    "    \n",
    "    return mRS_0, mRS_F, mRS_T, bins_T"
   ]
  },
  {
   "cell_type": "code",
   "execution_count": 20,
   "id": "8ced7edc",
   "metadata": {
    "pycharm": {
     "name": "#%%\n"
    }
   },
   "outputs": [
    {
     "name": "stdout",
     "output_type": "stream",
     "text": [
      "210\n",
      "mRS pre-stroke: 2\n",
      "mRS if not treated: 4\n",
      "mRS if treated at time=210: 3\n"
     ]
    }
   ],
   "source": [
    "# treatment_time = np.random.randint(0, 8*60)\n",
    "# Manually set treatment time and x:\n",
    "treatment_time = 210\n",
    "x = 0.75\n",
    "\n",
    "print(treatment_time)\n",
    "\n",
    "mRS_0, mRS_F, mRS_T, bins_T = stroke_outcome(dist_0, dist_F_ect, treatment_time, time_zero_effect=8*60, xs=[x])"
   ]
  },
  {
   "cell_type": "markdown",
   "id": "ed7b6687",
   "metadata": {
    "pycharm": {
     "name": "#%% md\n"
    }
   },
   "source": [
    "Plot the three mRS values printed above: "
   ]
  },
  {
   "cell_type": "code",
   "execution_count": 21,
   "id": "8ca13081",
   "metadata": {
    "pycharm": {
     "name": "#%%\n"
    }
   },
   "outputs": [
    {
     "data": {
      "image/png": "[encoded data removed]",
      "text/plain": [
       "<Figure size 432x288 with 1 Axes>"
      ]
     },
     "metadata": {
      "needs_background": "light"
     },
     "output_type": "display_data"
    }
   ],
   "source": [
    "t = np.arange(0,8*60)\n",
    "\n",
    "# Similar plot to before:\n",
    "plot_probs(A_ect,b_ect,t,bins_0,bins_F_ect,colour_bins=1,mark_data_ect=0)\n",
    "\n",
    "# Vertical lines at t=0, treatment time, and t=T_0:\n",
    "for t in [0,treatment_time,8*60]:\n",
    "    plt.axvline(t, color='k', linestyle=':')\n",
    "    \n",
    "# Horizontal line where considered 'x' is:\n",
    "plt.axhline(x, color='k', linestyle='--')\n",
    "    \n",
    "# Add scatter markers where the horizontal and vertical lines meet:\n",
    "for t in [0,treatment_time,8*60]:\n",
    "    plt.scatter(t,x,color='k',marker='o')\n",
    "    \n",
    "    \n",
    "plt.show()\n",
    "\n",
    "# # Use tight_layout() to make sure the legend isn't cut off when image is saved:\n",
    "#plt.tight_layout()\n",
    "#plt.savefig('lines_prob-mRS_time.pdf')\n",
    "#plt.close()"
   ]
  },
  {
   "cell_type": "markdown",
   "id": "990547fa",
   "metadata": {
    "pycharm": {
     "name": "#%% md\n"
    }
   },
   "source": [
    "### For a given start mRS, find the probability of each mRS at a time _t_"
   ]
  },
  {
   "cell_type": "code",
   "execution_count": 22,
   "id": "661bf2be",
   "metadata": {
    "pycharm": {
     "name": "#%%\n"
    }
   },
   "outputs": [
    {
     "name": "stdout",
     "output_type": "stream",
     "text": [
      "Treatment time (mins):  146\n"
     ]
    }
   ],
   "source": [
    "# Setup parameters:\n",
    "treatment_time = np.random.randint(0, 8*60) # 100\n",
    "print('Treatment time (mins): ', treatment_time)\n",
    "\n",
    "   \n",
    "# Generate probabilities xs that give a t=0 mRS of m_start.\n",
    "m_start = 1 \n",
    "xmin = bins_0[m_start]\n",
    "xmax = bins_0[m_start+1]"
   ]
  },
  {
   "cell_type": "markdown",
   "id": "e7fe8717",
   "metadata": {
    "pycharm": {
     "name": "#%% md\n"
    }
   },
   "source": [
    "Use this function to find the probability of each mRS at a given time:"
   ]
  },
  {
   "cell_type": "code",
   "execution_count": 23,
   "id": "8fc4b85e",
   "metadata": {
    "pycharm": {
     "name": "#%%\n"
    }
   },
   "outputs": [],
   "source": [
    "def prob_mRS_in_xrange(bins,xmin,xmax,m_start='?',time='???'):\n",
    "    \"\"\"\n",
    "    Given some range in cumulative probability, find the probability of being\n",
    "    in each mRS bin at a given time t. \n",
    "    \n",
    "    Inputs:\n",
    "    bins    - List or np.array. List of cumulative probabilities of each mRS \n",
    "              at a given time t. \n",
    "    xmin    - Float. Minimum P(mRS<=x|t) to check.\n",
    "    xmax    - Float. Maximum P(mRS<=x|t) to check\n",
    "    m_start - String. Used for printing only, the mRS at t=0.\n",
    "    time    - String. Used for printing only, the value of t.\n",
    "    \n",
    "    Returns:\n",
    "    -\n",
    "    \"\"\"\n",
    "    # Find intersections of the probability lines with the vertical t line\n",
    "    # within the specified range of x:\n",
    "    m_int = np.where( (bins<xmax) & (bins>xmin) )[0]\n",
    "    if len(m_int)>0:\n",
    "        # Find the probability of each m:\n",
    "        p_int = bins[m_int]\n",
    "        \n",
    "        # Include the boundary values at xmin, xmax:\n",
    "        m_ints = [m_int[0]-1, *m_int, m_int[-1]+1]\n",
    "        p_ints = [xmin, *p_int, xmax]\n",
    "        \n",
    "        # Store probabilities here:\n",
    "        pm_list = []\n",
    "        for i in range(len(m_ints)-1):\n",
    "            # Find the proportion of the probability range (y-axis span)\n",
    "            # that is covered by this value of mRS.\n",
    "            pmin = p_ints[i]\n",
    "            pmax = p_ints[i+1]\n",
    "            p_m = (pmax-pmin)/(xmax-xmin)\n",
    "            print('P(mRS={mRS:1} | m_start={m_start:1s}, t={time:3s}): {P:1.4f}'.format(\n",
    "                mRS=m_ints[i], m_start=str(m_start), time=str(time), P=p_m))\n",
    "            pm_list.append(p_m)\n",
    "        print('Sanity check: sum of probs', np.sum(pm_list))\n",
    "    else:\n",
    "        # If there are no intersections in the chosen x range,\n",
    "        # find the fixed value of mRS in this range.\n",
    "        try:\n",
    "            m_int = np.where(bins>=xmax)[0][0]-1\n",
    "        except:\n",
    "            # m>4 isn't included in the input data.\n",
    "            m_int = 5\n",
    "        print('P(mRS={mRS:1} | m_start={m_start:1s}, t={time:3s}): {P:1.4f}'.format(\n",
    "            mRS=m_int, m_start=str(m_start), time=str(time), P=1.0))"
   ]
  },
  {
   "cell_type": "markdown",
   "id": "f692fb67",
   "metadata": {
    "pycharm": {
     "name": "#%% md\n"
    }
   },
   "source": [
    "Plot the considered mRS as a probability range on the y-axis:"
   ]
  },
  {
   "cell_type": "code",
   "execution_count": 24,
   "id": "7715ffb6",
   "metadata": {
    "pycharm": {
     "name": "#%%\n"
    }
   },
   "outputs": [
    {
     "data": {
      "image/png": "[encoded data removed]",
      "text/plain": [
       "<Figure size 432x288 with 1 Axes>"
      ]
     },
     "metadata": {
      "needs_background": "light"
     },
     "output_type": "display_data"
    },
    {
     "name": "stdout",
     "output_type": "stream",
     "text": [
      "m_start: 1\n",
      "\n",
      "Time = 0\n",
      "P(mRS=1 | m_start=1, t=0  ): 1.0000\n",
      "\n",
      "Time = 146\n",
      "P(mRS=2 | m_start=1, t=146): 0.8408\n",
      "P(mRS=3 | m_start=1, t=146): 0.1592\n",
      "Sanity check: sum of probs 1.0\n",
      "\n",
      "Time = 480\n",
      "P(mRS=4 | m_start=1, t=480): 1.0000\n"
     ]
    }
   ],
   "source": [
    "# Calculate the mRS bins at treatment_time:\n",
    "bins_T_ect = [np.exp(A_i + b_ect[i]*treatment_time)/(1+np.exp(A_i + b_ect[i]*treatment_time))\\\n",
    "             for i,A_i in enumerate(A_ect)]\n",
    "bins_T_ect = np.concatenate((np.concatenate(([0],bins_T_ect)),[1]))\n",
    "\n",
    "# Draw covered range:\n",
    "t = np.arange(0,8*60)\n",
    "# Similar plot to before:\n",
    "plot_probs(A_ect,b_ect,t,bins_0,bins_F_ect,colour_bins=0,mark_data_ect=0)\n",
    "\n",
    "\n",
    "# New bits:\n",
    "# Vertical line at t=0, treatment time, and t=T_0:\n",
    "for t in [0,treatment_time,8*60]:\n",
    "    plt.axvline(t, color='k', linestyle='--')\n",
    "# Horizontal lines where considered 'x' are:\n",
    "for x in [xmin,xmax]:\n",
    "    plt.axhline(x, color='k', linestyle='--')\n",
    "    \n",
    "plt.show()\n",
    "\n",
    "\n",
    "# Use this function to find the probability of each mRS at a given time:\n",
    "print('m_start:', m_start)\n",
    "# Check probability of each mRS at t=0, t=T, and t=T_0:\n",
    "print('\\nTime =', 0)\n",
    "prob_mRS_in_xrange(bins_0,xmin,xmax, m_start, 0)\n",
    "\n",
    "print('\\nTime =', treatment_time)\n",
    "prob_mRS_in_xrange(bins_T_ect,xmin,xmax, m_start, treatment_time)\n",
    "\n",
    "print('\\nTime =', 8*60)\n",
    "prob_mRS_in_xrange(bins_F_ect,xmin,xmax, m_start, 8*60)"
   ]
  },
  {
   "cell_type": "markdown",
   "id": "24bf505a",
   "metadata": {
    "pycharm": {
     "name": "#%% md\n"
    }
   },
   "source": [
    "### Incorporate uncertainties into the previous plot:"
   ]
  },
  {
   "cell_type": "markdown",
   "id": "688b324c",
   "metadata": {
    "pycharm": {
     "name": "#%% md\n"
    }
   },
   "source": [
    "(not sure it's possible with the available data)"
   ]
  },
  {
   "cell_type": "code",
   "execution_count": null,
   "id": "3bd5cdfa",
   "metadata": {
    "pycharm": {
     "name": "#%%\n"
    }
   },
   "outputs": [],
   "source": []
  },
  {
   "cell_type": "markdown",
   "id": "08d78dd1",
   "metadata": {
    "pycharm": {
     "name": "#%% md\n"
    }
   },
   "source": [
    "---"
   ]
  },
  {
   "cell_type": "markdown",
   "id": "8b7ba619",
   "metadata": {
    "pycharm": {
     "name": "#%% md\n"
    }
   },
   "source": [
    "# Thrombolysis \n",
    "\n",
    "Same models, but different `dist_0` and `dist_F`."
   ]
  },
  {
   "cell_type": "markdown",
   "id": "a6094ae4",
   "metadata": {
    "pycharm": {
     "name": "#%% md\n"
    }
   },
   "source": [
    "## T=6.3hrs untreated population\n",
    "\n",
    "These values are read off Lees+2010 Figure 2 by measuring the widths of the boxes in Powerpoint. \n",
    "These measurements are somewhat imprecise so these arrays don't have an integer number of patients in any category, but the categories do sum to the required quantity of patients.\n",
    "\n",
    "The four bars cover different time ranges, respectively 0-90min, 91-180min, 181-270min, 271-360min. \n",
    "These bars have different numbers of patients, respectively 151, 315, 811, 543.\n",
    "All four bars contain data on mRS=0,...,6 inclusive."
   ]
  },
  {
   "cell_type": "code",
   "execution_count": 25,
   "id": "ac0ea9b6",
   "metadata": {
    "pycharm": {
     "name": "#%%\n"
    }
   },
   "outputs": [],
   "source": [
    "# Untreated population. Four sets of numbers of patients with mRS 0,1,...,5,6:\n",
    "n_0 = np.array([ 15.91421569,  30.34803922,  16.46936275,  18.38153595,  29.05269608,  10.60947712,  30.2246732 ])\n",
    "n_1 = np.array([ 46.06617647,  45.42279412,  29.85294118,  51.72794118,  61.12132353,  33.84191176,  46.96691176])\n",
    "n_2 = np.array([129.53472222, 176.90931373, 108.66339869, 113.96405229, 134.50408497,  64.60171569,  82.82271242])\n",
    "n_3 = np.array([ 78.96568627, 115.34313725,  72.97671569,  70.09313725, 104.03063725,  47.68995098,  53.90073529])\n",
    "\n",
    "# Combine the four datasets and create probability distribution:\n",
    "n_F_oly = np.sum([n_0,n_1,n_2,n_3],axis=0)\n",
    "# Remove mRS=6 with [:-1]:\n",
    "dist_F_oly = n_F_oly[:-1] / np.sum(n_F_oly[:-1])\n",
    "\n",
    "# Create cumulative probability:\n",
    "bins_F_oly = np.cumsum(np.concatenate(([0.0],dist_F_oly)))"
   ]
  },
  {
   "cell_type": "code",
   "execution_count": 26,
   "id": "819b4571",
   "metadata": {
    "pycharm": {
     "name": "#%%\n"
    }
   },
   "outputs": [
    {
     "data": {
      "text/plain": [
       "array([0.16841002, 0.2291431 , 0.14193671, 0.15825232, 0.2046646 ,\n",
       "       0.09759325])"
      ]
     },
     "execution_count": 26,
     "metadata": {},
     "output_type": "execute_result"
    }
   ],
   "source": [
    "dist_F_oly"
   ]
  },
  {
   "cell_type": "code",
   "execution_count": 27,
   "id": "5eb27008",
   "metadata": {
    "pycharm": {
     "name": "#%%\n"
    }
   },
   "outputs": [
    {
     "data": {
      "text/plain": [
       "array([0.        , 0.16841002, 0.39755312, 0.53948983, 0.69774214,\n",
       "       0.90240675, 1.        ])"
      ]
     },
     "execution_count": 27,
     "metadata": {},
     "output_type": "execute_result"
    }
   ],
   "source": [
    "bins_F_oly"
   ]
  },
  {
   "cell_type": "markdown",
   "id": "0b157bf9",
   "metadata": {
    "pycharm": {
     "name": "#%% md\n"
    }
   },
   "source": [
    "## T=0hrs population"
   ]
  },
  {
   "cell_type": "markdown",
   "id": "8eaec73b",
   "metadata": {
    "pycharm": {
     "name": "#%% md\n"
    }
   },
   "source": [
    "The existing dist_0 from the SAMueL data will be scaled according to the known value from Emberson et al. 2014 [2], odds ratio for mRS <=1 at t=1hr is $\\sim 1.9$.\n",
    "\n",
    "[2] _\"Effect of treatment delay, age, and stroke severity on the effects of intravenous thrombolysis with alteplase for acute ischaemic stroke: a meta-analysis of individual patient data from randomised trials\"_\n",
    "\n",
    "- `bins_0` - bins at $t=0hr$ (from SAMueL data).\n",
    "- `bins_0_oly` - bins at t=0 for thrombolysis, scaled from `bins_0` using OR=1.9 for mRS<=1 at t=1hr.\n",
    "- `bins_F_oly` - bins at $t=T_0=6.3hr$, the thrombolysis non-effect time."
   ]
  },
  {
   "cell_type": "markdown",
   "id": "4969ca1e",
   "metadata": {
    "pycharm": {
     "name": "#%% md\n"
    }
   },
   "source": [
    "By definition, odds ratio:\n",
    "\n",
    "$$O = \\frac{p_1/(1-p_1)}{p_2/(1-p_2)}$$\n",
    "\n",
    "Log-odds is a straight line, $log(O) = a + bT$. At $T=1hr$, $O=e^{a}$. Then from the above,\n",
    "\n",
    "$$ \\frac{e^{a}p_2}{1-p_2} = \\frac{p_1}{1-p_1}$$\n",
    "\n",
    "We define these two probabilities:\n",
    "\n",
    "$$p_1 = P(m\\leq1|0)$$\n",
    "\n",
    "$$p_2 = P(m\\leq1|T_0)$$\n",
    "\n",
    "where $p_1 = $ `bins_0_oly[1]` and $p_2 = $`bins_F_oly[1]`. This `bins_0_oly` and corresponding distribution `dist_0_oly` are calculated in `get_dist_0()`."
   ]
  },
  {
   "cell_type": "markdown",
   "id": "d346df08",
   "metadata": {
    "pycharm": {
     "name": "#%% md\n"
    }
   },
   "source": [
    "This time, to solve for _a_, start with usual log-odds straight line assumption:\n",
    "\n",
    "$$ \\log(O) = a + bT $$\n",
    "\n",
    "At time $T=T_0$, $log(O)=0$ and so $b=-\\frac{a}{T_0}$.\n",
    "\n",
    "$$ \\log(O) = a -\\frac{a}{T_0}T $$\n",
    "\n",
    "Set $T=1$ because our `OR` variable is defined at that time. Then\n",
    "\n",
    "\n",
    "$$ a(1 - \\frac{1}{T_0}) = \\log(O) $$\n",
    "\n",
    "$$ a = \\frac{\\log(O)}{1 - \\frac{1}{T_0}} $$"
   ]
  },
  {
   "cell_type": "code",
   "execution_count": 28,
   "id": "6b7eccde-bb92-413d-8c27-882da45e8281",
   "metadata": {
    "pycharm": {
     "name": "#%%\n"
    }
   },
   "outputs": [],
   "source": [
    "def get_p1(p2, OR, mRS_ref, T_0 = 6.3*60):\n",
    "    \"\"\"\n",
    "    Use (a known odds ratio for a reference mRS and time=1hr) with (the known T_0 probability)\n",
    "    to find (the t=0 probability).\n",
    "    \n",
    "    Must have reference time 1hr to use these simplified equations for a and b.\n",
    "    \n",
    "    Inputs:\n",
    "    p2      - float. Prob. P(mRS<=mRS_ref, t=T_0).\n",
    "    OR      - float. Odds ratio at t=1hr for scaling.\n",
    "    T_0     - float. Treatment non-effect time. \n",
    "    mRS_ref - int. mRS corresponding to the reference odds ratio.\n",
    "    \n",
    "    Returns:\n",
    "    p1      - float. P(mRS<=mRS_ref, t=0) at time zero. \n",
    "    \"\"\"\n",
    "    \n",
    "    # OR = odds ratio for mRS <= mRS_ref\n",
    "    \n",
    "    # set log odds = 0 at T_0 to find gradient\n",
    "    \n",
    "    # solve for a (see maths cell) :\n",
    "    # a = np.log(OR) - b: \n",
    "    # a = -T_0b\n",
    "    a = np.log(OR)/(1 - 1/T_0)\n",
    "    \n",
    "    # Find b (see maths cell)\n",
    "    b = -a/T_0\n",
    "    \n",
    "    # p1 = probability mRS <=mRS_ref at t=0\n",
    "    # From odds ratio (see maths cell):\n",
    "    lhs = np.exp(a)*p2/(1-p2)\n",
    "    \n",
    "    p1 = lhs/(1+lhs)\n",
    "    \n",
    "    return p1"
   ]
  },
  {
   "cell_type": "code",
   "execution_count": 29,
   "id": "4897446b-e525-4285-99b2-1297b518363f",
   "metadata": {
    "pycharm": {
     "name": "#%%\n"
    }
   },
   "outputs": [],
   "source": [
    "def get_scaled_dist(dist,p_ref,mRS_ref):\n",
    "    \"\"\"\n",
    "    Scale an existing distribution of probabilities to match a new data point.\n",
    "    \n",
    "    Inputs:\n",
    "    dist    - list or np.array. Prob. dist to be scaled.\n",
    "    p_ref   - Reference probability.\n",
    "    mRS_ref - The mRS bin of this reference probability. \n",
    "    \n",
    "    Returns:.\n",
    "    dist_sc - np.array. Prob. dist after scaling.\n",
    "    bins_sc - np.array. Cumulative prob. dist after scaling.\n",
    "    \"\"\"\n",
    "   \n",
    "    # scale bins around p_ref\n",
    "    \n",
    "    bins = np.cumsum(dist)\n",
    "    \n",
    "    bins_sc = np.zeros_like(bins)\n",
    "    \n",
    "    \n",
    "    # See plots in mRS_outcomes notebook to better explain this \"for\" loop.\n",
    "    #     \n",
    "    # Basically, in the initial distribution the gap A between P(mRS=n) and P(mRS_ref)  \n",
    "    # is X% of the gap B between P(mRS_ref) and 0 (n<mRS_ref) or 1 (n>mRS_ref).\n",
    "    # Then for the new scaled distribution, once P(n<=m_RS_ref) has been set to p_ref,\n",
    "    # the equivalent gap A1 should take up X% of the gap B1.\n",
    "    for mRS in range(6):\n",
    "    \n",
    "        if mRS<=mRS_ref:\n",
    "            # Scale the bins that lie below the known data point.\n",
    "            # When mRS=1, bins_0_oly[1] = p1.\n",
    "            bins_sc[mRS] = p_ref*(bins[mRS]/bins[mRS_ref])\n",
    "\n",
    "        else:\n",
    "            # Scale the bins that lie above the known data point.\n",
    "            # The p1+ adds a y-offset from zero. \n",
    "            bins_sc[mRS] =  p_ref + (1-p_ref)*(bins[mRS]-bins[mRS_ref])/(1-bins[mRS_ref])\n",
    "    \n",
    "    # use bins to obtain distribution\n",
    "        \n",
    "    bins_sc = np.concatenate(([0],bins_sc))\n",
    "\n",
    "    dist_sc = np.diff(bins_sc)\n",
    "    \n",
    "    return dist_sc, bins_sc"
   ]
  },
  {
   "cell_type": "markdown",
   "id": "c2303818-d8e1-47c7-abc4-56e26cf655d7",
   "metadata": {
    "pycharm": {
     "name": "#%% md\n"
    }
   },
   "source": [
    "Find the t=0 distribution of probabilities for thrombolysis.\n",
    "    \n",
    "The dist is found by scaling the known mRS<=1 odds ratio OR at t=1hr to find the t=0hr equivalent. Then the t=0hr value is used to scale the thrombectomy t=0 values to match. "
   ]
  },
  {
   "cell_type": "code",
   "execution_count": 30,
   "id": "59149124-dd89-4990-8960-933cee8a066a",
   "metadata": {
    "pycharm": {
     "name": "#%%\n"
    }
   },
   "outputs": [],
   "source": [
    "OR = 1.9\n",
    "mRS_ref = 1"
   ]
  },
  {
   "cell_type": "code",
   "execution_count": null,
   "id": "1f251ec8-9715-4ff4-bf00-036ea5cc47d3",
   "metadata": {
    "pycharm": {
     "name": "#%%\n"
    }
   },
   "outputs": [],
   "source": []
  },
  {
   "cell_type": "code",
   "execution_count": 31,
   "id": "c664c759-cec5-40ba-9502-1001fe9a7880",
   "metadata": {
    "pycharm": {
     "name": "#%%\n"
    }
   },
   "outputs": [],
   "source": [
    "# p2 from distribution if not treated\n",
    "# (index+1 because bins_F_oly contains 0.0 at start)\n",
    "p2 = bins_F_oly[mRS_ref+1]"
   ]
  },
  {
   "cell_type": "markdown",
   "id": "6c2ad3b8-94f2-42e9-9309-f365c6bee74e",
   "metadata": {
    "pycharm": {
     "name": "#%% md\n"
    }
   },
   "source": [
    "Calculate p1 as in the maths cell above."
   ]
  },
  {
   "cell_type": "code",
   "execution_count": 32,
   "id": "159652e7-62e3-4371-88e3-dd7864b1a485",
   "metadata": {
    "pycharm": {
     "name": "#%%\n"
    }
   },
   "outputs": [],
   "source": [
    "p1 = get_p1(p2, OR, mRS_ref, T_0 = 6.3*60)"
   ]
  },
  {
   "cell_type": "markdown",
   "id": "9138131f-1f72-43f6-b50d-ac071b94462d",
   "metadata": {
    "pycharm": {
     "name": "#%% md\n"
    }
   },
   "source": [
    "See plots later in this notebook to better explain the following function. Here t=0 thrombectomy means the SAMueL-1 dataset. \n",
    "\n",
    "At this point, we know the probabilities for mRS<=1 at t=0 for both thrombolysis and thrombectomy. The other mRS!=1 probs should be scaled about these points in the same ratios for thrombectomy as for thrombolysis.\n",
    "     \n",
    "Basically, at t=0, if the gap A between the mRS=n and mRS=1 lines for thrombectomy is X% of the gap B between 0 (n<1) or 1 (n>1) and the mRS=1 line for thrombectomy, then for thrombolysis the equivalent gap A1 should take up X% of the gap B1."
   ]
  },
  {
   "cell_type": "code",
   "execution_count": 33,
   "id": "58be58f0-abfb-4383-994a-6dbe320cb8cf",
   "metadata": {
    "pycharm": {
     "name": "#%%\n"
    }
   },
   "outputs": [],
   "source": [
    "dist_0_oly,bins_0_oly = get_scaled_dist(dist_0,p1,mRS_ref=1)"
   ]
  },
  {
   "cell_type": "markdown",
   "id": "505d6cab",
   "metadata": {
    "pycharm": {
     "name": "#%% md\n"
    }
   },
   "source": [
    "Find the distributions and bins at time t=0hrs for thrombolysis:"
   ]
  },
  {
   "cell_type": "markdown",
   "id": "1e541b17-8add-4bf7-b127-8bcaf8998e1f",
   "metadata": {
    "pycharm": {
     "name": "#%% md\n"
    }
   },
   "source": [
    "dist_0_oly,bins_0_oly = get_dist_0(dist_F_oly,dist_0,1.9)"
   ]
  },
  {
   "cell_type": "code",
   "execution_count": 34,
   "id": "a94f76df-bdb6-423a-b382-1cd3a9c8988b",
   "metadata": {
    "pycharm": {
     "name": "#%%\n"
    }
   },
   "outputs": [
    {
     "data": {
      "text/plain": [
       "array([0.4380102 , 0.11871589, 0.14419216, 0.17304382, 0.09862473,\n",
       "       0.02741321])"
      ]
     },
     "execution_count": 34,
     "metadata": {},
     "output_type": "execute_result"
    }
   ],
   "source": [
    "dist_0_oly"
   ]
  },
  {
   "cell_type": "code",
   "execution_count": 36,
   "id": "bb347323",
   "metadata": {
    "pycharm": {
     "name": "#%%\n"
    }
   },
   "outputs": [
    {
     "data": {
      "text/plain": [
       "array([0.        , 0.4380102 , 0.55672609, 0.70091825, 0.87396207,\n",
       "       0.9725868 , 1.00000001])"
      ]
     },
     "execution_count": 36,
     "metadata": {},
     "output_type": "execute_result"
    }
   ],
   "source": [
    "bins_0_oly"
   ]
  },
  {
   "cell_type": "markdown",
   "id": "f55701e3",
   "metadata": {
    "pycharm": {
     "name": "#%% md\n"
    }
   },
   "source": [
    "## Model 1"
   ]
  },
  {
   "cell_type": "markdown",
   "id": "54c372b7",
   "metadata": {
    "pycharm": {
     "name": "#%% md\n"
    }
   },
   "source": [
    "Assume log odds = 0 at $T_0$. Then _a_, _b_, and _A_ are calculated in the same way as for thrombectomy."
   ]
  },
  {
   "cell_type": "markdown",
   "id": "4bcaf584",
   "metadata": {
    "pycharm": {
     "name": "#%% md\n"
    }
   },
   "source": [
    "### Find a"
   ]
  },
  {
   "cell_type": "markdown",
   "id": "d5b11846",
   "metadata": {
    "pycharm": {
     "name": "#%% md\n"
    }
   },
   "source": [
    "At T = 0, log odds = a"
   ]
  },
  {
   "cell_type": "code",
   "execution_count": 37,
   "id": "9d758a83",
   "metadata": {
    "pycharm": {
     "name": "#%%\n"
    }
   },
   "outputs": [
    {
     "name": "stdout",
     "output_type": "stream",
     "text": [
      "[0.16841002 0.39755312 0.53948983 0.69774214 0.90240675 1.        ]\n"
     ]
    }
   ],
   "source": [
    "F_oly = np.cumsum(dist_F_oly)\n",
    "\n",
    "F_oly = F_oly/F_oly[-1]\n",
    "\n",
    "print(F_oly)\n",
    "\n",
    "p1_oly = np.log(np.cumsum(dist_0_oly)[:-1])\n",
    "p2_oly = np.log(1 - np.cumsum(dist_0_oly)[:-1])\n",
    "p3_oly = np.log(F_oly[:-1])\n",
    "p4_oly = np.log(1 - F_oly[:-1])\n",
    "\n",
    "a_oly = p1_oly-p2_oly - p3_oly+p4_oly"
   ]
  },
  {
   "cell_type": "code",
   "execution_count": 38,
   "id": "86b72b75",
   "metadata": {
    "pycharm": {
     "name": "#%%\n"
    }
   },
   "outputs": [
    {
     "data": {
      "text/plain": [
       "array([1.3476964 , 0.64355642, 0.69338531, 1.09988495, 1.34467768])"
      ]
     },
     "execution_count": 38,
     "metadata": {},
     "output_type": "execute_result"
    }
   ],
   "source": [
    "a_oly"
   ]
  },
  {
   "cell_type": "markdown",
   "id": "a22f0d0f",
   "metadata": {
    "pycharm": {
     "name": "#%% md\n"
    }
   },
   "source": [
    "### Find b "
   ]
  },
  {
   "cell_type": "markdown",
   "id": "b48e54c9",
   "metadata": {
    "pycharm": {
     "name": "#%% md\n"
    }
   },
   "source": [
    "At T = 6.3, log odds = 0"
   ]
  },
  {
   "cell_type": "code",
   "execution_count": 39,
   "id": "dd09c498",
   "metadata": {
    "pycharm": {
     "name": "#%%\n"
    }
   },
   "outputs": [],
   "source": [
    "b_oly = -a_oly/(6.3*60)"
   ]
  },
  {
   "cell_type": "markdown",
   "id": "b374a89f",
   "metadata": {
    "pycharm": {
     "name": "#%% md\n"
    }
   },
   "source": [
    "### Find A "
   ]
  },
  {
   "cell_type": "code",
   "execution_count": 40,
   "id": "fdf66635",
   "metadata": {
    "pycharm": {
     "name": "#%%\n"
    }
   },
   "outputs": [],
   "source": [
    "A_oly = a_oly+p3_oly-p4_oly"
   ]
  },
  {
   "cell_type": "markdown",
   "id": "a3b857d1",
   "metadata": {
    "pycharm": {
     "name": "#%% md\n"
    }
   },
   "source": [
    "### Plot log odds as function of time"
   ]
  },
  {
   "cell_type": "code",
   "execution_count": 41,
   "id": "7d9bf5f0",
   "metadata": {
    "pycharm": {
     "name": "#%%\n"
    }
   },
   "outputs": [
    {
     "data": {
      "image/png": "[encoded data removed]",
      "text/plain": [
       "<Figure size 432x288 with 1 Axes>"
      ]
     },
     "metadata": {
      "needs_background": "light"
     },
     "output_type": "display_data"
    }
   ],
   "source": [
    "t = np.arange(0,6.3*60)\n",
    "\n",
    "for i,a_i in enumerate(a_oly):\n",
    "    \n",
    "    plt.plot(t, a_i + b_oly[i]*t, '-', label = f'mRS <= {i}')\n",
    "    \n",
    "plt.legend(loc='best')\n",
    "\n",
    "plt.ylabel('Log Odds')\n",
    "\n",
    "plt.xlabel('Onset to treatment time (mins)')\n",
    "\n",
    "plt.show()"
   ]
  },
  {
   "cell_type": "markdown",
   "id": "0da1adf6",
   "metadata": {
    "pycharm": {
     "name": "#%% md\n"
    }
   },
   "source": [
    "### Plot P as function of time "
   ]
  },
  {
   "cell_type": "code",
   "execution_count": 42,
   "id": "0e517472",
   "metadata": {
    "pycharm": {
     "name": "#%%\n"
    }
   },
   "outputs": [
    {
     "data": {
      "image/png": "[encoded data removed]",
      "text/plain": [
       "<Figure size 432x288 with 1 Axes>"
      ]
     },
     "metadata": {
      "needs_background": "light"
     },
     "output_type": "display_data"
    }
   ],
   "source": [
    "t = np.arange(0,6.3*60)\n",
    "\n",
    "for i,A_i in enumerate(A_oly):\n",
    "    \n",
    "    plt.plot(t, np.exp(A_i + b_oly[i]*t)/(1+np.exp(A_i + b_oly[i]*t)), '-', label = f'mRS <= {i}')\n",
    "\n",
    "plt.plot(t, [1.0 for x in t], '-', label = 'mRS <= 5')\n",
    "    \n",
    "plt.legend(loc='upper left')\n",
    "\n",
    "plt.ylabel('Probability')\n",
    "\n",
    "plt.xlabel('Onset to treatment time (mins)')\n",
    "\n",
    "plt.show()"
   ]
  },
  {
   "cell_type": "markdown",
   "id": "a91beb19",
   "metadata": {
    "pycharm": {
     "name": "#%% md\n"
    }
   },
   "source": [
    "### Include treated population \n",
    "From Lees+2020. As for the $t=T_0$ case, these values are measured from the image using a ruler on Powerpoint and so the number of patients are not integers. The probabilities will be close enough. "
   ]
  },
  {
   "cell_type": "code",
   "execution_count": 43,
   "id": "1eb0183a",
   "metadata": {
    "pycharm": {
     "name": "#%%\n"
    }
   },
   "outputs": [],
   "source": [
    "# Treated population (Lees+2010):\n",
    "# Numbers of patients in the four bars: 161, 303, 809, 576.\n",
    "n_0 = np.array([ 36.10661765,  31.10825163,  12.89052288,  21.44035948,  21.76919935,   6.77410131,  30.91094771])\n",
    "n_1 = np.array([ 52.23284314,  74.01715686,  22.27941176,  40.10294118,  35.77083333,  25.12622549,  53.47058824])\n",
    "n_2 = np.array([190.68341503, 171.84640523, 105.75163399,  83.94035948,  95.17647059,  73.69566993,  87.90604575])\n",
    "n_3 = np.array([103.29411765, 113.17647059,  67.76470588,  64.94117647,  85.88235294,  56.,          84.94117647])\n",
    "\n",
    "\n",
    "# # Combine the four datasets and create probability distribution:\n",
    "# n_t_oly = np.sum([n_0,n_1,n_2,n_3],axis=0)\n",
    "# # Remove mRS=6 with [:-1]:\n",
    "# dist_t_oly = n_t_oly[:-1] / np.sum(n_t_oly[:-1])\n",
    "\n",
    "# # Create cumulative probability:\n",
    "# bins_t_oly = np.cumsum(np.concatenate(([0.0],dist_t_oly)))"
   ]
  },
  {
   "cell_type": "markdown",
   "id": "653e7a02",
   "metadata": {
    "pycharm": {
     "name": "#%% md\n"
    }
   },
   "source": [
    "Calculate margin of error associated with the data:"
   ]
  },
  {
   "cell_type": "code",
   "execution_count": 44,
   "id": "77a2774b",
   "metadata": {
    "pycharm": {
     "name": "#%%\n"
    }
   },
   "outputs": [
    {
     "name": "stdout",
     "output_type": "stream",
     "text": [
      "time \t mRS \t n*p \t n*(1-p)\n",
      "45.0 \t 5 \t 6.8 \t 123.3\n"
     ]
    }
   ],
   "source": [
    "# Number of patients from above:\n",
    "ns = [n_0,n_1,n_2,n_3]\n",
    "# Average treatment time for each population:\n",
    "nts = [45.0,135.0,225.0,315]\n",
    "# Store binned prob dists and errors in these lists:\n",
    "bns = []\n",
    "ens = []\n",
    "\n",
    "for j,n in enumerate(ns):\n",
    "    # Convert number distribution to probability:\n",
    "    # Remove mRS=6 with [:-1]:\n",
    "    d_n = n[:-1] / np.sum(n[:-1])\n",
    "    \n",
    "    \n",
    "    # Margin of error calculation:\n",
    "    z = 1.96\n",
    "    n = np.sum(n[:-1])\n",
    "    errs = []\n",
    "    for i,p in enumerate(d_n):\n",
    "        err = p * z * np.sqrt(p*(1.0-p)/n)\n",
    "        errs.append(p*err)\n",
    "        if n*p<10.0 or n*(1-p)<10.0:\n",
    "            # Print the n*p and n*(1-p) values to check they are above 10.0,\n",
    "            # else this error method is invalid.\n",
    "            print('time \\t mRS \\t n*p \\t n*(1-p)')\n",
    "            print(nts[j], '\\t', i, '\\t', round(n*p,1), '\\t', round(n*(1-p),1))\n",
    "    ens.append(errs)\n",
    "\n",
    "    # Create cumulative probability:\n",
    "    b_n = np.cumsum(d_n)\n",
    "    bns.append(b_n)\n",
    "\n",
    "# Transpose for easier plotting:\n",
    "bns = np.transpose(np.array(bns))\n",
    "ens = np.transpose(np.array(ens))"
   ]
  },
  {
   "cell_type": "markdown",
   "id": "7e4f4bec",
   "metadata": {
    "pycharm": {
     "name": "#%% md\n"
    }
   },
   "source": [
    "Plot data as scatter with errorbars:"
   ]
  },
  {
   "cell_type": "code",
   "execution_count": 45,
   "id": "0ff28ae5",
   "metadata": {
    "pycharm": {
     "name": "#%%\n"
    }
   },
   "outputs": [
    {
     "data": {
      "image/png": "[encoded data removed]",
      "text/plain": [
       "<Figure size 432x288 with 1 Axes>"
      ]
     },
     "metadata": {
      "needs_background": "light"
     },
     "output_type": "display_data"
    }
   ],
   "source": [
    "t = np.arange(0,6.3*60)\n",
    "    \n",
    "plot_mRS5=1\n",
    "if plot_mRS5>0:\n",
    "    A_oly_plot = np.append(A_oly,[0.0])\n",
    "    \n",
    "for i,A_i in enumerate(A_oly_plot):\n",
    "    if i<5:\n",
    "        p_i = np.exp(A_i + b_oly[i]*t)/(1+np.exp(A_i + b_oly[i]*t))\n",
    "    else:\n",
    "        p_i = [1.0 for x in t]\n",
    "    l,=plt.plot(t, p_i, '-', label = f'mRS <= {i}')\n",
    "    colour = l.get_color()\n",
    "    \n",
    "    # Scatter the treated patient population at the given times (Lees+2010):\n",
    "    plt.errorbar(nts,bns[i,:],yerr=ens[i,:],xerr=45,fmt='o',color=colour,capsize=8)\n",
    "     \n",
    "plt.legend(loc='upper left', bbox_to_anchor=[1.0,0.5,0.2,0.2])\n",
    "\n",
    "plt.ylabel('Probability')\n",
    "\n",
    "plt.xlabel('Onset to treatment time (mins)')\n",
    "\n",
    "plt.show()"
   ]
  },
  {
   "cell_type": "markdown",
   "id": "cba11cad",
   "metadata": {
    "pycharm": {
     "name": "#%% md\n"
    }
   },
   "source": [
    "### Plot some of the factors used to calculate `bins_0_oly`.\n",
    "\n",
    "Make plots to show the 'Gap A' and 'Gap B' mentioned in `get_dist_0()`\n",
    "\n",
    "Define a new $p_3 = P(mRS<=1 | t=0)$ to make labelling clearer."
   ]
  },
  {
   "cell_type": "code",
   "execution_count": 46,
   "id": "7956d23b",
   "metadata": {
    "pycharm": {
     "name": "#%%\n"
    }
   },
   "outputs": [],
   "source": [
    "def plot_thromb_probs(dist_0, dist_F, bins_0, bins_F, T0=8*60, \n",
    "                      mark_data_ect=0,mark_data_oly=0,colour_bins=0,  \n",
    "                      extra_arrows=1, b02=0.0, b0m=0.0, labels_e=[]):\n",
    "    \"\"\"\n",
    "    Probability lines plot with annotated arrows for key areas.\n",
    "    \n",
    "    Inputs:\n",
    "    dist_0       - List or np.array. Probabilities of each mRS at a given time t.\n",
    "    title        - Str. Title for axis, and determines whether to do certain actions\n",
    "                   for 'thrombectomy' or 'thrombolysis'.\n",
    "    T0           - Float or int. Time of non-effect.\n",
    "    colour_bins  - int, 0 or 1. Set to 1 to fill the gaps between the lines.\n",
    "    extra_arrows - int, 0 or 1. Set to 1 to draw vertical arrows between b02 and b0m.\n",
    "    b02          - Float. One of the t=0 bin values for extra arrows.\n",
    "    b0m          - Float. One of the t=0 bin values for extra arrows.\n",
    "    labels_e     - List or np.array. Labels for the extra arrows.\n",
    "    \"\"\"\n",
    "    # Time range:\n",
    "    t = np.arange(0,T0)\n",
    "\n",
    "    # Calculate a, b, A again as before:\n",
    "    F = np.cumsum(dist_F)\n",
    "    F = F/F[-1]\n",
    "\n",
    "    p1 = np.log(np.cumsum(dist_0)[:-1])\n",
    "    p2 = np.log(1 - np.cumsum(dist_0)[:-1])\n",
    "    p3 = np.log(F[:-1])\n",
    "    p4 = np.log(1 - F[:-1])\n",
    "    #\n",
    "    a = p1-p2 - p3+p4\n",
    "    A = a+p3-p4\n",
    "    b = -a/(T0)\n",
    "\n",
    "    plt.figure(figsize=(10,5))\n",
    "    plot_probs(A,b,t,bins_0,bins_F,colour_bins,mark_data_ect,mark_data_oly)\n",
    "\n",
    "\n",
    "    # Extra annotations:\n",
    "    # Vertical line for times 0, T0:\n",
    "    for T in [0,T0]:\n",
    "        plt.axvline(T, color='Gainsboro', zorder=0)\n",
    "\n",
    "    if extra_arrows>0:\n",
    "        # Arrow style dictionary:\n",
    "        adict = dict(color='k', arrowstyle='<|-|>')\n",
    "        # Plot arrow then label\n",
    "        # Gap B:\n",
    "        plt.annotate('', xy=(-20,b02), xytext=(-20,1), arrowprops=adict)\n",
    "        plt.annotate(labels_e['gapb1'], xy=(-60,np.mean([1.0,b02])),\n",
    "                     va='center', ha='center')\n",
    "        # p5 line:\n",
    "        plt.annotate('', xy=(-20,b02), xytext=(-20,0), arrowprops=adict)\n",
    "        plt.annotate(labels_e['p1'], xy=(-60, np.mean([0.0,b02])),\n",
    "                     va='center', ha='center')\n",
    "        # Gap A:\n",
    "        plt.annotate('', xy=(-35,b02), xytext=(-35,b0m), arrowprops=adict)\n",
    "        plt.annotate(labels_e['gapa1'], xy=(-70,np.mean([b02,b0m])),\n",
    "                     va='center', ha='center')\n",
    "        \n",
    "    # Figure setup:        \n",
    "    plt.xlim(-99,550)\n",
    "    "
   ]
  },
  {
   "cell_type": "code",
   "execution_count": 47,
   "id": "17f15a5f",
   "metadata": {
    "pycharm": {
     "name": "#%%\n"
    }
   },
   "outputs": [
    {
     "data": {
      "image/png": "[encoded data removed]",
      "text/plain": [
       "<Figure size 720x360 with 1 Axes>"
      ]
     },
     "metadata": {
      "needs_background": "light"
     },
     "output_type": "display_data"
    },
    {
     "data": {
      "image/png": "[encoded data removed]",
      "text/plain": [
       "<Figure size 720x360 with 1 Axes>"
      ]
     },
     "metadata": {
      "needs_background": "light"
     },
     "output_type": "display_data"
    },
    {
     "name": "stdout",
     "output_type": "stream",
     "text": [
      "              Gap A(1) | Gap B(1) | Ratio\n",
      "Thrombectomy:  0.0981  |  0.3015  | 0.3253\n",
      "Thrombolysis:  0.1442  |  0.4433  | 0.3253\n"
     ]
    }
   ],
   "source": [
    "# Plot the two probability distributions:\n",
    "m_test = 2\n",
    "\n",
    "# Thrombectomy:\n",
    "b02_ect = bins_0[2]\n",
    "b0m_ect = bins_0[m_test+1]\n",
    "labels_ect = {'gapb1':'Gap B\\n'+r'(1$-p_3$)',\n",
    "              'gapa1':'Gap A',\n",
    "              'p1':r'$p_3$'}\n",
    "plot_thromb_probs(dist_0, dist_F_ect, bins_0, bins_F_ect, \n",
    "                  T0=8*60, colour_bins=1, mark_data_ect=1,\n",
    "                  extra_arrows=1, b02=b02_ect, b0m=b0m_ect, labels_e=labels_ect)\n",
    "plt.title('Thrombectomy')\n",
    "plt.show()\n",
    "\n",
    "\n",
    "# Thrombolysis:\n",
    "b02_oly = bins_0_oly[2]\n",
    "b0m_oly = bins_0_oly[m_test+1]\n",
    "labels_oly = {'gapb1':'Gap B1\\n'+r'(1$-p_1$)',\n",
    "              'gapa1':'Gap A1',\n",
    "              'p1':r'$p_1$'}\n",
    "plot_thromb_probs(dist_0_oly, dist_F_oly, bins_0_oly, bins_F_oly,\n",
    "                  T0=6.3*60, colour_bins=1, mark_data_oly=1,\n",
    "                  extra_arrows=1, b02=b02_oly, b0m=b0m_oly, labels_e=labels_oly)\n",
    "plt.title('Thrombolysis')\n",
    "plt.show()\n",
    "\n",
    "\n",
    "# Also print the ratios of Gap A to Gap B:\n",
    "gapA   = b0m_ect - b02_ect\n",
    "gapB   = 1.0  - b02_ect\n",
    "ratAB  = gapA / gapB\n",
    "\n",
    "gapA1  = b0m_oly - b02_oly\n",
    "gapB1  = 1.0   - b02_oly\n",
    "ratAB1 = gapA1 / gapB1\n",
    "\n",
    "print('              Gap A(1) | Gap B(1) | Ratio')\n",
    "print(f'Thrombectomy:  {gapA:1.4f}  |  {gapB:1.4f}  | {ratAB:1.4f}')\n",
    "print(f'Thrombolysis:  {gapA1:1.4f}  |  {gapB1:1.4f}  | {ratAB1:1.4f}')"
   ]
  },
  {
   "cell_type": "markdown",
   "id": "d55a7ba7",
   "metadata": {
    "pycharm": {
     "name": "#%% md\n"
    }
   },
   "source": [
    "### Get errors from Emberson's CI, assuming log odds = 0 at T_0\n",
    "\n",
    "Calculate a new distribution at time=0 using the known $\\pm$ values on the odds ratio at time T=1hr for mRS$\\leq$1. OR was 1.9. \n",
    "\n",
    "Then follow this through to each of the other mRS distributions - use the scaling of the high and low t=0 mRS$\\leq$1 points in the same way as before."
   ]
  },
  {
   "cell_type": "code",
   "execution_count": 49,
   "id": "1d6d3ade-5fe3-4bb2-8dc8-12e57be234a1",
   "metadata": {
    "pycharm": {
     "name": "#%%\n"
    }
   },
   "outputs": [],
   "source": [
    "def get_dist_0(dist_0,p2,OR,mRS_ref,T_0= 6.3*60):\n",
    "    \"\"\"Combine two functions from earlier.\"\"\"\n",
    "    p1 = get_p1(p2, OR, mRS_ref, T_0)\n",
    "    dist_0_oly,bins_0_oly = get_scaled_dist(dist_0,p1,mRS_ref)\n",
    "    return dist_0_oly,bins_0_oly "
   ]
  },
  {
   "cell_type": "code",
   "execution_count": null,
   "id": "6c0657dd-4ca4-4ced-9a0b-52dc7d8dde3b",
   "metadata": {
    "pycharm": {
     "name": "#%%\n"
    }
   },
   "outputs": [],
   "source": [
    "OR = 1.9\n",
    "OR_low = 1.4\n",
    "OR_hi = 2.6\n",
    "\n",
    "mRS_ref = 1\n",
    "\n",
    "# p2 from distribution if not treated\n",
    "# (index+1 because bins_F_oly contains 0.0 at start)\n",
    "p2 = bins_F_oly[mRS_ref+1]"
   ]
  },
  {
   "cell_type": "code",
   "execution_count": 50,
   "id": "768856ae-cab4-4320-b11c-0a5233dbcb95",
   "metadata": {
    "pycharm": {
     "name": "#%%\n"
    }
   },
   "outputs": [],
   "source": [
    "d_low,_ = get_dist_0(dist_0,p2,OR_low,mRS_ref)\n",
    "d_hi,_  = get_dist_0(dist_0,p2,OR_hi, mRS_ref)"
   ]
  },
  {
   "cell_type": "markdown",
   "id": "2adfd0d3",
   "metadata": {
    "pycharm": {
     "name": "#%% md\n"
    }
   },
   "source": [
    "#### Lower limit "
   ]
  },
  {
   "cell_type": "code",
   "execution_count": 51,
   "id": "09d8399d",
   "metadata": {
    "pycharm": {
     "name": "#%%\n"
    }
   },
   "outputs": [],
   "source": [
    "p1 = np.log(np.cumsum(d_low)[:-1])\n",
    "p2 = np.log(1 - np.cumsum(d_low)[:-1])\n",
    "p3 = np.log(F_oly[:-1])\n",
    "p4 = np.log(1 - F_oly[:-1])\n",
    "\n",
    "a_low = p1-p2 - p3+p4"
   ]
  },
  {
   "cell_type": "code",
   "execution_count": 52,
   "id": "299aa715",
   "metadata": {
    "pycharm": {
     "name": "#%%\n"
    }
   },
   "outputs": [],
   "source": [
    "b_low = -a_low/(6.3*60)"
   ]
  },
  {
   "cell_type": "code",
   "execution_count": 53,
   "id": "5c7483df",
   "metadata": {
    "pycharm": {
     "name": "#%%\n"
    }
   },
   "outputs": [],
   "source": [
    "A_low = a_low+p3-p4"
   ]
  },
  {
   "cell_type": "markdown",
   "id": "9ac2be32",
   "metadata": {
    "pycharm": {
     "name": "#%% md\n"
    }
   },
   "source": [
    "#### Upper limit "
   ]
  },
  {
   "cell_type": "code",
   "execution_count": 54,
   "id": "bbded317",
   "metadata": {
    "pycharm": {
     "name": "#%%\n"
    }
   },
   "outputs": [],
   "source": [
    "p1 = np.log(np.cumsum(d_hi)[:-1])\n",
    "p2 = np.log(1 - np.cumsum(d_hi)[:-1])\n",
    "p3 = np.log(F_oly[:-1])\n",
    "p4 = np.log(1 - F_oly[:-1])\n",
    "\n",
    "a_hi = p1-p2 - p3+p4"
   ]
  },
  {
   "cell_type": "code",
   "execution_count": 55,
   "id": "02d4c029",
   "metadata": {
    "pycharm": {
     "name": "#%%\n"
    }
   },
   "outputs": [],
   "source": [
    "b_hi = -a_hi/(6.3*60)"
   ]
  },
  {
   "cell_type": "code",
   "execution_count": 56,
   "id": "bbd00d6c",
   "metadata": {
    "pycharm": {
     "name": "#%%\n"
    }
   },
   "outputs": [],
   "source": [
    "A_hi = a_hi+p3-p4"
   ]
  },
  {
   "cell_type": "markdown",
   "id": "20f32ce6",
   "metadata": {
    "pycharm": {
     "name": "#%% md\n"
    }
   },
   "source": [
    "### Plot P as function of time \n",
    "\n",
    "n.b. no errors for mRS=5yet so just plotted the base line:"
   ]
  },
  {
   "cell_type": "code",
   "execution_count": 57,
   "id": "8697c7da",
   "metadata": {
    "pycharm": {
     "name": "#%%\n"
    }
   },
   "outputs": [
    {
     "data": {
      "image/png": "[encoded data removed]",
      "text/plain": [
       "<Figure size 432x288 with 1 Axes>"
      ]
     },
     "metadata": {
      "needs_background": "light"
     },
     "output_type": "display_data"
    }
   ],
   "source": [
    "t = np.arange(0,6.3*60)\n",
    "\n",
    "for i,A_i in enumerate(A_oly):\n",
    "    \n",
    "    p_i   = np.exp(A_i      + b_oly[i]*t) / (1+np.exp(A_i      + b_oly[i]*t))\n",
    "    p_low = np.exp(A_low[i] + b_low[i]*t) / (1+np.exp(A_low[i] + b_low[i]*t))\n",
    "    p_hi  = np.exp(A_hi[i]  + b_hi[i]*t ) / (1+np.exp(A_hi[i]  + b_hi[i]*t) )\n",
    "    \n",
    "    plt.plot(t, p_i, '-', label = f'mRS <= {i}')\n",
    "    \n",
    "    plt.fill_between(t, p_low, p_hi, alpha=0.3)\n",
    "\n",
    "    \n",
    "plt.plot(t, [1.0 for x in t], '-', label = 'mRS <= 5')\n",
    "\n",
    "plt.legend(loc='best',bbox_to_anchor=[1.0,0.5,0.2,0.2])\n",
    "\n",
    "plt.ylabel('Probability')\n",
    "\n",
    "plt.xlabel('Onset to treatment time (mins)')\n",
    "\n",
    "plt.show()"
   ]
  },
  {
   "cell_type": "code",
   "execution_count": null,
   "id": "0cb69d8b",
   "metadata": {
    "pycharm": {
     "name": "#%%\n"
    }
   },
   "outputs": [],
   "source": []
  },
  {
   "cell_type": "code",
   "execution_count": null,
   "id": "749073f6",
   "metadata": {
    "pycharm": {
     "name": "#%%\n"
    }
   },
   "outputs": [],
   "source": []
  }
 ],
 "metadata": {
  "kernelspec": {
   "display_name": "Python 3 (ipykernel)",
   "language": "python",
   "name": "python3"
  },
  "language_info": {
   "codemirror_mode": {
    "name": "ipython",
    "version": 3
   },
   "file_extension": ".py",
   "mimetype": "text/x-python",
   "name": "python",
   "nbconvert_exporter": "python",
   "pygments_lexer": "ipython3",
   "version": "3.9.12"
  }
 },
 "nbformat": 4,
 "nbformat_minor": 5
}