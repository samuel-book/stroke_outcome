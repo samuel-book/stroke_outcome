{
 "cells": [
  {
   "cell_type": "markdown",
   "id": "d2fe7caf-41b7-4394-a08c-133175aca9d8",
   "metadata": {},
   "source": [
    "# **mRS outcomes** - extrapolation"
   ]
  },
  {
   "cell_type": "markdown",
   "id": "ec6ccab5-f06c-49c5-addf-65f9b94db400",
   "metadata": {},
   "source": [
    "In a previous notebook we showed how to generate distributions of probability of modified Rankin Scale (mRS) that vary with time, $P(\\mathrm{mRS}, t)$, given two datasets: \n",
    "\n",
    "1. The mRS probability distribution at $t=0$.\n",
    "2. The mRS probability distribution at $t=t_{\\mathrm{ne}}$, the time of no effect.\n",
    "\n",
    "For the example shown before, we considered the case of thrombectomy in which both of these data sets are available. \n",
    "\n",
    "However, the $t=0$ data is unknown for thrombolysis patients. For these patients, the available data is:\n",
    "\n",
    "1. The mRS probability distribution at $t=t_{\\mathrm{ne}}$.\n",
    "2. The odds ratio of a good outcome for patients with a starting mRS$\\leq$1 at $t=1\\,$hr.\n",
    "3. The mRS probability distribution pre-stroke, previously used as the prob. dist. _of thromectomy patients_ at $t=0$.\n",
    "\n",
    "We will use these three data sets to define the mRS probability distribution at $t=0$. \n",
    "\n",
    "The steps are:\n",
    "1. Define a straight line model for log(odds ratio), so that $\\log(OR)=a+bt$ for a known $a$ and $b$ calculated from the $t=1\\,$hr and $t=t_{\\mathrm{ne}}$ data.\n",
    "2. Extrapolate this line back to find log(odds ratio) at $t=0$ for mRS$\\leq1$. \n",
    "3. Convert the log(odds ratio) at $t=0$ to probability $P(\\mathrm{mRS}\\leq1, t=0)$.\n",
    "4. Use this new probability to define $t=0$ probabilities for the other mRS groups."
   ]
  },
  {
   "cell_type": "code",
   "execution_count": 1,
   "id": "f105e6a6-223a-4021-a876-04301ffaf999",
   "metadata": {},
   "outputs": [],
   "source": [
    "import warnings\n",
    "warnings.filterwarnings('ignore')"
   ]
  },
  {
   "cell_type": "code",
   "execution_count": 2,
   "id": "5b0aede0-22ec-4018-b763-9642b9459caf",
   "metadata": {},
   "outputs": [],
   "source": [
    "import numpy as np\n",
    "import matplotlib.pyplot as plt\n",
    "%matplotlib inline"
   ]
  },
  {
   "cell_type": "code",
   "execution_count": 3,
   "id": "d14c2249-35d6-46a1-916a-14125f7c15fb",
   "metadata": {},
   "outputs": [],
   "source": [
    "# Change default colour scheme:\n",
    "plt.style.use('seaborn-colorblind')"
   ]
  },
  {
   "cell_type": "markdown",
   "id": "93f94f7d-7c2b-4729-b043-c4d2c23998b8",
   "metadata": {},
   "source": [
    "---"
   ]
  },
  {
   "cell_type": "markdown",
   "id": "4a080f95-1a69-42dd-9199-5475c92f9e0a",
   "metadata": {},
   "source": [
    "## Collect the available data"
   ]
  },
  {
   "cell_type": "markdown",
   "id": "aa0cbe07-fd52-48ba-86f5-3e8db87f6961",
   "metadata": {},
   "source": [
    "Throughout this notebook, variable names contain the following strings:\n",
    "\n",
    "+ `dist` - the mRS probability distributions.\n",
    "+ `bins` - the cumulative mRS probabilities.\n",
    "+ `t0_treatment` - treatment at time $t=0$.\n",
    "+ `no_treatment` - treatment at the no-effect time $t=t_{\\mathrm{ne}}$. "
   ]
  },
  {
   "cell_type": "markdown",
   "id": "bbfc78d9-b7dd-44f6-887d-36cdba12fc01",
   "metadata": {},
   "source": [
    "### Gather data from the literature\n"
   ]
  },
  {
   "cell_type": "markdown",
   "id": "27522f11-7697-4196-a804-5a79f5d64e9a",
   "metadata": {},
   "source": [
    "1\\. Time of no effect ($t_{\\mathrm{ne}}$) distribution:\n",
    "\n",
    "These data are copied over from `mRS_datasets.ipynb` and are measured from Lees et al. 2020 [1]. $P(\\mathrm{mRS}=6)=0$.\n",
    "\n",
    "[1] - insert ref here?"
   ]
  },
  {
   "cell_type": "code",
   "execution_count": 4,
   "id": "201da88b",
   "metadata": {},
   "outputs": [],
   "source": [
    "mrs_prob_dist_no_treatment = np.array([ 0.16841002, 0.2291431, 0.14193671, 0.15825232, 0.2046646, 0.09759325])\n",
    "mrs_prob_bins_no_treatment = np.cumsum(mrs_prob_dist_no_treatment)"
   ]
  },
  {
   "cell_type": "markdown",
   "id": "754174be-cf6c-4fbe-a8c2-b97e6fb6e7fd",
   "metadata": {
    "tags": []
   },
   "source": [
    "2\\. Odds ratio for mRS$\\leq1$ at $t=1\\,$hr is $\\sim1.9$, from Emberson et al. 2014 [2].\n",
    "\n",
    "[2] _\"Effect of treatment delay, age, and stroke severity on the effects of intravenous thrombolysis with alteplase for acute ischaemic stroke: a meta-analysis of individual patient data from randomised trials\"_"
   ]
  },
  {
   "cell_type": "code",
   "execution_count": 5,
   "id": "d9748fc8-c7b4-461b-abde-7f908055553c",
   "metadata": {},
   "outputs": [],
   "source": [
    "# OddsRatio_mRS<=1_time1hr: (leq = \"less than or equal to\")\n",
    "OR_mRSleq1_t1 = 1.9"
   ]
  },
  {
   "cell_type": "markdown",
   "id": "8da47bc9-2633-4beb-8b2c-79078cd04da2",
   "metadata": {},
   "source": [
    "3\\. Distribution of mRS pre-stroke, from the SAMueL-1 data set. $P(\\mathrm{mRS}=6)=0$."
   ]
  },
  {
   "cell_type": "code",
   "execution_count": 6,
   "id": "0114ae9f-3dfc-474c-bc87-cf558c160184",
   "metadata": {},
   "outputs": [],
   "source": [
    "mrs_prob_dist_t0_treatment_pre = np.array([0.54956819, 0.14895196, 0.0980681 , 0.11769072, 0.06707674, 0.0186443 ])\n",
    "mrs_prob_bins_t0_treatment_pre = np.cumsum(mrs_prob_dist_t0_treatment_pre)"
   ]
  },
  {
   "cell_type": "markdown",
   "id": "e2cf069b-c3a1-48b5-8e5d-3d8e1ad37a34",
   "metadata": {},
   "source": [
    "Define the no-effect time for thrombolysis, $t_{\\mathrm{ne}}$:"
   ]
  },
  {
   "cell_type": "code",
   "execution_count": 7,
   "id": "205a7999-dcda-4f55-9087-82605eda98b3",
   "metadata": {},
   "outputs": [],
   "source": [
    "t_ne = 6.3*60 # minutes"
   ]
  },
  {
   "cell_type": "markdown",
   "id": "31565a49-6090-44e1-a68c-93c01bec6ed4",
   "metadata": {},
   "source": [
    "### Convert probability to odds ratio"
   ]
  },
  {
   "cell_type": "markdown",
   "id": "b5309d61-0b57-4654-b177-efbe3127594d",
   "metadata": {},
   "source": [
    "From our input data, we know the values of $P(\\mathrm{mRS}\\leq x\\ |\\ t_{\\mathrm{ne}})$ for a chosen mRS value of $x$. To directly compare these with the known odds ratio at $t=1\\,$hr, it is easiest to convert the probabilities to odds ratio. Luckily, this is very simple for the case $t=t_{\\mathrm{ne}}$. \n",
    "\n",
    "By definition, odds ratio $OR$ at a generic time $t$:\n",
    "\n",
    "1: $$ OR(\\mathrm{mRS},x,t) = \\left\\{ \\frac{P(\\mathrm{mRS}\\leq x\\ |\\ t)}{P(\\mathrm{mRS}>x\\ |\\ t)} \\right\\} \\div \\left\\{ \\frac{P(\\mathrm{mRS}\\leq x\\ |\\ t_{\\mathrm{ne}})}{P(\\mathrm{mRS}>x\\ |\\ t_{\\mathrm{ne}})} \\right\\} $$\n",
    "\n",
    "When $t=t_{\\mathrm{ne}}$, the terms on the right-hand-side cancel out, leaving $OR(\\mathrm{mRS}\\leq x,t=t_{\\mathrm{ne}})=1$ for all mRS. "
   ]
  },
  {
   "cell_type": "markdown",
   "id": "e3003206-accd-448c-8893-ab10b5ad67b2",
   "metadata": {},
   "source": [
    "### Convert odds ratio to log(odds ratio)"
   ]
  },
  {
   "cell_type": "markdown",
   "id": "921f7d09-7a8c-4e45-bcaa-b25fbd1fe90a",
   "metadata": {},
   "source": [
    "We'll start the model in terms of log(odds ratio), $\\log(OR)$, because we know that this can be modelled as a straight line. The conversion of odds ratio is straightforward:\n",
    "\n",
    "+ $\\log\\bigl[OR(\\mathrm{mRS}\\leq 1\\ |\\ t=1\\mathrm{hr})\\bigr] = \\log(1.9)$\n",
    "+ $\\log\\bigl[OR(\\mathrm{mRS}\\leq x\\ |\\ t=t_{\\mathrm{ne}})\\bigr] = \\log(1) = 0$ for all mRS"
   ]
  },
  {
   "cell_type": "markdown",
   "id": "6f998758-ab4b-457d-bc1b-c94d77354c95",
   "metadata": {},
   "source": [
    "### Plot the available data"
   ]
  },
  {
   "cell_type": "markdown",
   "id": "2fc14636-19d8-4919-8444-4f7ae9915cea",
   "metadata": {},
   "source": [
    "We'll plot the data in terms of log(odds ratio) and draw a straight line connecting the points.\n",
    "\n",
    "Define x and y coordinates for the t=1hr and t=t_ne points:"
   ]
  },
  {
   "cell_type": "code",
   "execution_count": 8,
   "id": "6cc0df60-eced-4d44-8786-b9ae71da8c5d",
   "metadata": {},
   "outputs": [],
   "source": [
    "x_t1  = 1*60                      # minutes\n",
    "y_t1  = np.log(OR_mRSleq1_t1)     # from the data\n",
    "x_tne = t_ne                      # minutes\n",
    "y_tne = 0                         # by definition"
   ]
  },
  {
   "cell_type": "markdown",
   "id": "6715abb8-5a63-4ca9-b8f3-8ded409e85b9",
   "metadata": {},
   "source": [
    "Define some coordinates of the straight line connecting these two points:"
   ]
  },
  {
   "cell_type": "code",
   "execution_count": 9,
   "id": "cf95d4db-55b2-4860-bf25-8eb76f911fa6",
   "metadata": {},
   "outputs": [],
   "source": [
    "# Find the step from the t=1 point to the t_ne point:\n",
    "x_step = x_tne - x_t1\n",
    "y_step = y_tne - y_t1\n",
    "\n",
    "# Starting from the t=1hr point, step forwards and backwards in t:\n",
    "x_line = [x_t1-x_step, x_t1+x_step]\n",
    "y_line = [y_t1-y_step, y_t1+y_step]"
   ]
  },
  {
   "cell_type": "markdown",
   "id": "a257ef9d-f186-4831-b4ef-f80d6d3890fe",
   "metadata": {},
   "source": [
    "Plot the data:"
   ]
  },
  {
   "cell_type": "code",
   "execution_count": 10,
   "id": "63abcfa3-0dad-4f90-b6ae-11f21c562836",
   "metadata": {},
   "outputs": [
    {
     "data": {
      "image/png": "[encoded data removed]",
      "text/plain": [
       "<Figure size 432x288 with 1 Axes>"
      ]
     },
     "metadata": {
      "needs_background": "light"
     },
     "output_type": "display_data"
    }
   ],
   "source": [
    "# Mark these two data points:\n",
    "plt.scatter(x_t1,  y_t1,  label='Treated patient',   marker='D')\n",
    "plt.scatter(x_tne, y_tne, label='Untreated patient', marker='o')\n",
    "\n",
    "# Draw a straight line passing through the two points:\n",
    "plt.plot(x_line,y_line, linestyle=':',color='k')\n",
    "\n",
    "# Ọther plot setup:\n",
    "plt.ylabel('log(odds ratio)')\n",
    "plt.xlabel('Onset to treatment time (mins)')\n",
    "plt.xlim(0,t_ne*1.1)\n",
    "plt.xticks(np.arange(0,t_ne+60,60))\n",
    "plt.legend()\n",
    "plt.show()"
   ]
  },
  {
   "cell_type": "markdown",
   "id": "ed00bcf6-9d73-4ac1-8068-b538638f1a62",
   "metadata": {},
   "source": [
    "---"
   ]
  },
  {
   "cell_type": "markdown",
   "id": "a5e01e79-4f3d-490d-b083-2b0de3031033",
   "metadata": {},
   "source": [
    "## Step 1: Define a straight line model for log(odds ratio)"
   ]
  },
  {
   "cell_type": "markdown",
   "id": "6278fd0b-01f0-4219-8872-3625031bcbc0",
   "metadata": {},
   "source": [
    "Here, we want to define log(OR) for mRS$\\leq$1 at $t=0$.\n",
    "\n",
    "We already have the following data points:\n",
    "\n",
    "+ $ \\log\\bigl[OR(\\mathrm{mRS}\\leq 1, t=1\\,\\mathrm{hr})\\bigr] = \\log(1.9) $\n",
    "+ $ \\log\\bigl[OR(\\mathrm{mRS}\\leq 1, t=t_{\\mathrm{ne}})\\bigr] = 0 $\n",
    "\n",
    "We can connect these two points with a straight line, and then continue the line backwards in time to $t=0$ to find $\\log(OR)$ for mRS$\\leq$1 at $t=0$. "
   ]
  },
  {
   "cell_type": "markdown",
   "id": "e4d62c7d-d190-4caf-8a04-c1ab974e32c3",
   "metadata": {},
   "source": [
    "We model log(odds ratio) as a straight line, $\\log(OR)=a+bt$. \n",
    "\n",
    "At $t=t_{\\mathrm{ne}}$,\n",
    "\n",
    "$$\n",
    "\\begin{align}\n",
    "\\log\\bigl[OR(\\mathrm{mRS}\\leq1, t=t_{\\mathrm{ne}})\\bigr] & = 0 \\\\\n",
    "a+bt_{\\mathrm{ne}} & = 0 \\\\\n",
    "b & = -\\frac{a}{t_{\\mathrm{ne}}} \\\\\n",
    "\\end{align}\n",
    "$$"
   ]
  },
  {
   "cell_type": "markdown",
   "id": "bda7a6f9-bce2-45ea-b0ff-e768ee601f97",
   "metadata": {},
   "source": [
    "Then at $t=1\\,$hr,\n",
    "\n",
    "$$\n",
    "\\begin{align}\n",
    "\\log\\bigl[OR(\\mathrm{mRS}\\leq1, t=1\\,\\mathrm{hr})\\bigr] & = \\log(1.9) \\\\\n",
    "a + b & = \\log(1.9)  \\\\\n",
    "a -\\frac{a}{t_{\\mathrm{ne}}} & = \\log(1.9) \\\\\n",
    "a\\left(1 - \\frac{1}{t_{\\mathrm{ne}}}\\right) & = \\log(1.9) \\\\\n",
    "a & = \\frac{\\log(1.9)}{1 - \\frac{1}{t_{\\mathrm{ne}}}} \\\\\n",
    "\\end{align}\n",
    "$$"
   ]
  },
  {
   "cell_type": "markdown",
   "id": "499a1b81-3a9e-487b-885d-70d9bdbbad87",
   "metadata": {},
   "source": [
    "## Step 2: Extrapolate from $t=1\\,$hr to $t=0\\,$hr"
   ]
  },
  {
   "cell_type": "markdown",
   "id": "2da54a1d-5912-4eb6-8e0c-5003bd38607a",
   "metadata": {},
   "source": [
    "Now that we've defined $a$ and $b$, we can use the same straight line equation to find the log(odds ratio) at $t=0$.\n",
    "\n",
    "At $t=0$, the straight line $a+bt = a +0 = a $ and so:\n",
    "\n",
    "2: $$ \\log\\bigl[OR(\\mathrm{mRS}\\leq1, t=0\\,\\mathrm{hr})\\bigr] = a $$"
   ]
  },
  {
   "cell_type": "markdown",
   "id": "b0c88cc5-a18c-4c6c-aa4b-6c2c1f7a1ef9",
   "metadata": {},
   "source": [
    "### Calculate log(OR) for mRS$\\leq$1 at $t=0$"
   ]
  },
  {
   "cell_type": "markdown",
   "id": "c40a6207-e718-40f8-9a18-caf0229eb08a",
   "metadata": {},
   "source": [
    "> Note that $t_{\\mathrm{ne}}$ should be given in _hours_ here, because we've already included the unit of hours in $t=1\\,$hr, and setting $t=1$ (hr) instead of $t=60$ (minutes) was essential for the formulation of $a$."
   ]
  },
  {
   "cell_type": "code",
   "execution_count": 11,
   "id": "97957d8b-22c8-4a88-ab28-96dd92cdb0ea",
   "metadata": {},
   "outputs": [
    {
     "data": {
      "text/plain": [
       "0.7629583929973748"
      ]
     },
     "execution_count": 11,
     "metadata": {},
     "output_type": "execute_result"
    }
   ],
   "source": [
    "a = np.log(OR_mRSleq1_t1) / (1.0 - (t_ne/60.0)**(-1.0))\n",
    "\n",
    "a"
   ]
  },
  {
   "cell_type": "code",
   "execution_count": 12,
   "id": "c669069c-dd29-4a91-9b09-71bb4a09a8dd",
   "metadata": {},
   "outputs": [],
   "source": [
    "logOR_mRSleq1_t0 = a"
   ]
  },
  {
   "cell_type": "markdown",
   "id": "34f33280-243c-4b7a-85e5-825589d1fcc7",
   "metadata": {},
   "source": [
    "### Plot the new value"
   ]
  },
  {
   "cell_type": "markdown",
   "id": "d8face8b-3258-4164-addb-90a36447226f",
   "metadata": {},
   "source": [
    "We can compare the newly-calculated log(OR) value with the plot from before:"
   ]
  },
  {
   "cell_type": "code",
   "execution_count": 13,
   "id": "5c9fb89e-e68c-4832-8a21-2cb0c106bff2",
   "metadata": {},
   "outputs": [],
   "source": [
    "# Define x and y coordinates of the t=0 point:\n",
    "x_t0 = 0\n",
    "y_t0 = logOR_mRSleq1_t0"
   ]
  },
  {
   "cell_type": "code",
   "execution_count": 14,
   "id": "f1517ddf-2a06-40f6-83f1-042bb67bf5cf",
   "metadata": {},
   "outputs": [
    {
     "data": {
      "image/png": "[encoded data removed]",
      "text/plain": [
       "<Figure size 432x288 with 1 Axes>"
      ]
     },
     "metadata": {
      "needs_background": "light"
     },
     "output_type": "display_data"
    }
   ],
   "source": [
    "# Mark the data points:\n",
    "plt.scatter(x_t1,  y_t1,  label='Treated patient',    marker='D')\n",
    "plt.scatter(x_tne, y_tne, label='Untreated patient',  marker='o')\n",
    "plt.scatter(x_t0,  y_t0,  label='Extrapolated point', marker='s')\n",
    "\n",
    "# Draw a straight line connecting the two points:\n",
    "plt.plot(x_line, y_line, linestyle=':',color='k')\n",
    "\n",
    "# Ọther plot setup:\n",
    "plt.ylabel('log(odds ratio)')\n",
    "plt.xlabel('Onset to treatment time (mins)')\n",
    "plt.xlim(-5,t_ne*1.1)\n",
    "plt.xticks(np.arange(0,t_ne+60,60))\n",
    "plt.legend()\n",
    "plt.show()"
   ]
  },
  {
   "cell_type": "markdown",
   "id": "fdfc2110-6f1e-41c0-ac71-6bad9dd5023c",
   "metadata": {},
   "source": [
    "## Step 3: Convert this log(OR) to probability"
   ]
  },
  {
   "cell_type": "markdown",
   "id": "32346ce0-bf40-46e8-809c-02956bb984f9",
   "metadata": {
    "tags": []
   },
   "source": [
    "Now that we know the log(odds ratio) at $t=0$, we can convert it into probability. From the definition of odds ratio (Equation 1):\n",
    "\n",
    "3: $$ \\frac{P(\\mathrm{mRS}\\leq 1\\ |\\ t=0)}{P(\\mathrm{mRS}>1\\ |\\ t=0)}  = OR(\\mathrm{mRS}\\leq1,t=0) \\cdot \\left\\{ \\frac{P(\\mathrm{mRS}\\leq 1\\ |\\ t_{\\mathrm{ne}})}{P(\\mathrm{mRS}>1\\ |\\ t_{\\mathrm{ne}})} \\right\\} $$\n",
    "\n",
    "We now know all of the terms on the right hand side. The probability terms are known from the literature data, and from Equation 2:\n",
    "\n",
    "$$\n",
    "\\begin{align}\n",
    "    \\log\\bigl[OR(\\mathrm{mRS}\\leq1, t=0\\,\\mathrm{hr})\\bigr] & = a \\\\\n",
    "    OR(\\mathrm{mRS}\\leq1, t=0\\,\\mathrm{hr})\\phantom{\\bigr]} & = e^a \\\\\n",
    "\\end{align}\n",
    "$$\n",
    "\n",
    "To rearrange Equation 3 in the form $ P(\\mathrm{mRS}\\leq 1\\ |\\ t=0) = ... $, we'll set $P=P(\\mathrm{mRS}\\leq 1\\ |\\ t=0)$ and set the entire right-hand-side of the equation to a new constant $R$:\n",
    "\n",
    "$$\n",
    "\\begin{align}\n",
    "\\frac{P}{1 - P}  & = R \\\\\n",
    "P & = R(1-P) \\\\\n",
    "P + (P\\cdot R) & = R \\\\\n",
    "P(1 + R) & = R \\\\\n",
    "P & = \\frac{R}{1 + R} \\\\\n",
    "\\end{align}\n",
    "$$"
   ]
  },
  {
   "cell_type": "markdown",
   "id": "666aa629-64e1-4be3-a742-c424a58110a3",
   "metadata": {},
   "source": [
    "This is ugly to write out in full, so we define $P_R = P(\\mathrm{mRS}\\leq 1\\ |\\ t_{\\mathrm{ne}})$ and use $OR(\\mathrm{mRS}\\leq1, t=0\\,\\mathrm{hr})\\phantom{\\bigr]} = e^a $ so that:\n",
    "\n",
    "4: $$ P(\\mathrm{mRS}\\leq 1\\ |\\ t=0) = \\frac{e^{a} \\cdot \\left\\{ \\frac{P_{R}}{1 - P_{R}} \\right\\}}{1 + e^{a} \\cdot \\left\\{ \\frac{P_{R}}{1 - P_{R}} \\right\\}} $$"
   ]
  },
  {
   "cell_type": "markdown",
   "id": "a56d4681-0752-45b8-9322-4ed57ef9d961",
   "metadata": {},
   "source": [
    "### Calculate this $P(\\mathrm{mRS}\\leq 1\\ |\\ t=0)$"
   ]
  },
  {
   "cell_type": "code",
   "execution_count": 15,
   "id": "3a3659ff-9d37-4fb0-9478-eb72bedc55f7",
   "metadata": {},
   "outputs": [
    {
     "data": {
      "text/plain": [
       "0.39755312"
      ]
     },
     "execution_count": 15,
     "metadata": {},
     "output_type": "execute_result"
    }
   ],
   "source": [
    "# Probability of mRS<=1 at t=t_ne (a.k.a. probability P_R):\n",
    "p_mRSleq1_tne = mrs_prob_bins_no_treatment[1]\n",
    "\n",
    "p_mRSleq1_tne"
   ]
  },
  {
   "cell_type": "markdown",
   "id": "dfc87905-f52d-43dc-ad46-224e335692f8",
   "metadata": {},
   "source": [
    "Calculate $R$, the right-hand-side of Equation 3."
   ]
  },
  {
   "cell_type": "code",
   "execution_count": 16,
   "id": "2c3ccc56-cc9e-460e-b8f2-c532b3133253",
   "metadata": {},
   "outputs": [],
   "source": [
    "R = np.exp(a) * p_mRSleq1_tne / (1 - p_mRSleq1_tne)"
   ]
  },
  {
   "cell_type": "markdown",
   "id": "c74bba29-502b-4c5b-a108-746e4a81c91d",
   "metadata": {},
   "source": [
    "Calculate $P(\\mathrm{mRS}\\leq 1\\ |\\ t=0)$ using Equation 4:"
   ]
  },
  {
   "cell_type": "code",
   "execution_count": 17,
   "id": "713c8a27-0a9d-4887-beba-fd2fd14075cc",
   "metadata": {},
   "outputs": [
    {
     "data": {
      "text/plain": [
       "0.5859596403377257"
      ]
     },
     "execution_count": 17,
     "metadata": {},
     "output_type": "execute_result"
    }
   ],
   "source": [
    "p_mRSleq1_t0 = R / (1 + R)\n",
    "\n",
    "p_mRSleq1_t0"
   ]
  },
  {
   "cell_type": "markdown",
   "id": "469fa184-3fa0-4bc1-ae37-17b79e8a0e15",
   "metadata": {},
   "source": [
    "### Plot our known probabilities"
   ]
  },
  {
   "cell_type": "code",
   "execution_count": 18,
   "id": "8332d41a-ac59-49a1-947b-1bd0eb8e8c06",
   "metadata": {},
   "outputs": [
    {
     "data": {
      "image/png": "[encoded data removed]",
      "text/plain": [
       "<Figure size 432x288 with 1 Axes>"
      ]
     },
     "metadata": {
      "needs_background": "light"
     },
     "output_type": "display_data"
    }
   ],
   "source": [
    "# t_ne data:\n",
    "for i in range(6):\n",
    "    s = plt.scatter(t_ne, mrs_prob_bins_no_treatment[i], label=f'mRS <= {i}')\n",
    "    if i ==1:\n",
    "        # Store the colour of mRS<=1. Use it later for the t=0 point.\n",
    "        colour = s.get_facecolor()\n",
    "\n",
    "# Newly-found t=0 data:\n",
    "plt.scatter(0, p_mRSleq1_t0, color=colour)\n",
    "    \n",
    "# Usual plot setup:\n",
    "plt.ylabel('Probability')\n",
    "plt.xlabel('Onset to treatment time (mins)')\n",
    "plt.xticks(np.arange(0,t_ne+60,60))\n",
    "plt.ylim(-0.02,1.02)\n",
    "plt.legend(loc='center')\n",
    "plt.show()"
   ]
  },
  {
   "cell_type": "markdown",
   "id": "926c196a-bb72-41a1-a6de-646dd3f59d3d",
   "metadata": {},
   "source": [
    "## Step 4: Scale the existing $t=0$ probability distribution for all mRS"
   ]
  },
  {
   "cell_type": "markdown",
   "id": "58aec604-881f-4103-9392-fd748b82a272",
   "metadata": {},
   "source": [
    "Currently we only know one point of the $t=0$ probability distribution, which is the $P(\\mathrm{mRS}\\leq 1\\ |\\ t=0)$ that we've just calculated. We will need to expand on this point to create a probability distribution at $t=0$ for all mRS, not just mRS$\\leq$1. \n",
    "\n",
    "We will base the new distribution on some existing data. In this case, we will use the mRS probability distribution pre-stroke, i.e. at the time just before the onset of stroke. "
   ]
  },
  {
   "cell_type": "markdown",
   "id": "5a72ce53-da3a-415f-8ec7-78d1723587fc",
   "metadata": {},
   "source": [
    "### Plot the existing probability distributions:\n",
    "\n",
    "Since we don't need the time axis from the previous plots, we will plot these probability distributions as a horizontal bar chart.\n",
    "\n",
    "Define a function so that we can plot the same bars in multiple figures:"
   ]
  },
  {
   "cell_type": "code",
   "execution_count": 19,
   "id": "19be425e-88ed-4c4e-b95d-20d618523c23",
   "metadata": {},
   "outputs": [],
   "source": [
    "def draw_horizontal_bars(dist,label=''):\n",
    "    \"\"\"\n",
    "    Draw a stacked horizontal bar chart of the values in 'dist'.\n",
    "    \n",
    "    dist  - list or np.array. The probability distribution \n",
    "            (non-cumulative).\n",
    "    label - string. The name printed next to these stacked bars,\n",
    "    \"\"\"\n",
    "    # The first bar will start at this point on the x-axis:\n",
    "    left = 0\n",
    "    for i in range(len(dist)):\n",
    "        # Draw a bar starting from 'left', the end of the previous bar,\n",
    "        # with a width equal to the probability of this mRS:\n",
    "        plt.barh(label, width=dist[i], \n",
    "                 left=left, height=0.3, label=f'mRS={i}')\n",
    "        # Update 'left' with the width of the current bar so that the next\n",
    "        # bar drawn will start in the correct place.    \n",
    "        left += dist[i]"
   ]
  },
  {
   "cell_type": "code",
   "execution_count": 20,
   "id": "82481701-f368-435f-b8f8-0f0dca64fe67",
   "metadata": {},
   "outputs": [],
   "source": [
    "def draw_horizontal_arrow(x_left,x_right,y,label=''):\n",
    "    \"\"\"\n",
    "    Draw an arrow <-> with a label above it.\n",
    "    \n",
    "    x_left, x_right, y - float or int. The coordinates of the arrow.\n",
    "    label              - string. Optional label to add above the arrow.\n",
    "    \"\"\"\n",
    "    # Draw a horizontal arrow between 0 and the mRS<=1 line:\n",
    "    plt.annotate('', xy=(x_left,y), xytext=(x_right,y),\n",
    "                 arrowprops=dict(arrowstyle='<->'))\n",
    "    # and add a label for the arrow:\n",
    "    plt.annotate(label, xy=(0.5*(x_left+x_right),y+0.1), ha='center')"
   ]
  },
  {
   "cell_type": "code",
   "execution_count": 21,
   "id": "5467ae77-d7bf-4bea-81ca-6abd98b2bebf",
   "metadata": {},
   "outputs": [
    {
     "data": {
      "image/png": "[encoded data removed]",
      "text/plain": [
       "<Figure size 432x288 with 1 Axes>"
      ]
     },
     "metadata": {
      "needs_background": "light"
     },
     "output_type": "display_data"
    }
   ],
   "source": [
    "# Draw the pre-stroke distribution: \n",
    "draw_horizontal_bars(mrs_prob_dist_t0_treatment_pre, 'Pre-stroke')\n",
    "# Add legend now to prevent doubling all the labels:\n",
    "plt.legend(loc='center',ncol=6, \n",
    "           bbox_to_anchor=[0.5,1.0,0.0,0.1])   # Legend above axis.\n",
    "\n",
    "# Set up an empty bar for the t=0 distribution:\n",
    "draw_horizontal_bars([0.0],  'Thrombolysis'+'\\n'+r'$t=0\\,$hr')\n",
    "# Draw a vertical line where mRS<=1:\n",
    "plt.scatter(p_mRSleq1_t0, 1.0, marker='|', color='k', s=1000)\n",
    "\n",
    "# Annotate where mRS<=1.\n",
    "draw_horizontal_arrow(0.0, p_mRSleq1_t0,\n",
    "                      y=1.2,label='mRS<=1')\n",
    "draw_horizontal_arrow(0.0, mrs_prob_bins_t0_treatment_pre[1],\n",
    "                      y=0.2,label='mRS<=1')\n",
    "\n",
    "\n",
    "# Other setup:\n",
    "plt.xlabel('Probability')\n",
    "plt.xlim(0,1)\n",
    "plt.ylim(-0.2,1.5)       \n",
    "plt.show()"
   ]
  },
  {
   "cell_type": "markdown",
   "id": "3ff9fd8b-b054-46cc-a2ee-610d53651d0e",
   "metadata": {},
   "source": [
    "The point where mRS$\\leq$1 is different in each of the distributions. "
   ]
  },
  {
   "cell_type": "markdown",
   "id": "cfb784af-8fea-4878-b163-cd40e8d87697",
   "metadata": {},
   "source": [
    "### The scaling method"
   ]
  },
  {
   "cell_type": "markdown",
   "id": "c0a2d55d-bf68-40c5-9327-1c5d0b0b3e53",
   "metadata": {},
   "source": [
    "To create the new $t=0$ distribution, we initially want to set $P(\\mathrm{mRS}\\leq 1, t=0)$ to the newly-calculated value. To find the other mRS values, we start with the pre-stroke bins only and find the size ratio of each mRS bin to the mRS$\\leq1$ bin. By carrying the ratios over to the new $t=0$ distribution, we can define the new points.\n",
    "\n",
    "For example:\n",
    "+ The pre-stroke mRS<=1 area $G_P$ covers only mRS=0 and mRS=1. \n",
    "+ The pre-stroke mRS=0 bin covers some known percentage $G_{P0}$% of the full area $G_P$. \n",
    "+ We set the $t=0$ mRS=0 bin to be $G_{P0}$% of the size of the $t=0$ mRS$\\leq1$ bin, $G$.\n",
    "\n",
    "For mRS>1, we instead keep the same size ratio of each bin to the mRS>1 bin. "
   ]
  },
  {
   "cell_type": "markdown",
   "id": "f9b98cf5-97cf-4a6b-8a48-305f78a8d9f9",
   "metadata": {},
   "source": [
    "### Calculate the scaled $t=0$ distribution:"
   ]
  },
  {
   "cell_type": "code",
   "execution_count": 22,
   "id": "3b515429-6e46-4c4b-a74c-61210e72bcc0",
   "metadata": {},
   "outputs": [],
   "source": [
    "def get_scaled_dist(mrs_prob_bins,p_ref,mRS_ref):\n",
    "    \"\"\"\n",
    "    Scale an existing probability distribution to a new data point.\n",
    "    \n",
    "    Inputs:\n",
    "    mrs_prob_bins - list or np.array. Prob. dist to be scaled.\n",
    "    p_ref         - float. Reference probability.\n",
    "    mRS_ref       - int. The mRS bin of this reference probability. \n",
    "    \n",
    "    Returns:.\n",
    "    mrs_prob_dist_sc - np.array. Prob. dist after scaling.\n",
    "    mrs_prob_bins_sc - np.array. Cumulative prob. dist after scaling.\n",
    "    \"\"\"\n",
    "    # Store the scaled bins in mrs_prob_bins_sc:    \n",
    "    mrs_prob_bins_sc = np.zeros_like(mrs_prob_bins)\n",
    "    \n",
    "    for mRS in range(6):\n",
    "        if mRS<=mRS_ref:\n",
    "            # For the points below the new reference p_ref.\n",
    "            # Find the size ratio of this bin to the mRS<=mRS_ref bin.\n",
    "            # When mRS=mRS_ref, ratio=1.\n",
    "            ratio = mrs_prob_bins[mRS] / mrs_prob_bins[mRS_ref]\n",
    "            # Scale the bins:\n",
    "            mrs_prob_bins_sc[mRS] = p_ref * ratio\n",
    "        else:\n",
    "            # For the points above the new reference p_ref.\n",
    "            # Find the size ratio of this bin excluding mRS<=mRS_ref,\n",
    "            # with size (mrs_prob_bins[mRS]-mrs_prob_bins[mRS_ref]),\n",
    "            # to the mRS>mRS_ref bin,\n",
    "            # with size (1-mrs_prob_bins[mRS_ref]).\n",
    "            ratio = ((mrs_prob_bins[mRS] - mrs_prob_bins[mRS_ref]) /\n",
    "                     (1 - mrs_prob_bins[mRS_ref]))\n",
    "            # Scale the bins:\n",
    "            mrs_prob_bins_sc[mRS] =  p_ref + (1-p_ref)*ratio\n",
    "    \n",
    "    # Use bins to obtain distribution\n",
    "    mrs_prob_dist_sc = np.diff(np.concatenate(([0.0],mrs_prob_bins_sc)))\n",
    "    \n",
    "    return mrs_prob_dist_sc, mrs_prob_bins_sc"
   ]
  },
  {
   "cell_type": "code",
   "execution_count": 23,
   "id": "c6aa0f9c-ff5e-4032-8fcb-6d7f703cd07a",
   "metadata": {},
   "outputs": [],
   "source": [
    "mrs_prob_dist_t0_treatment, mrs_prob_bins_t0_treatment = (\n",
    "    get_scaled_dist(mrs_prob_bins_t0_treatment_pre,p_mRSleq1_t0,mRS_ref=1))"
   ]
  },
  {
   "cell_type": "code",
   "execution_count": 24,
   "id": "3bb23a50-4932-4329-8ee2-9782726b0b2f",
   "metadata": {},
   "outputs": [
    {
     "data": {
      "text/plain": [
       "array([0.46101001, 0.12494963, 0.1346828 , 0.16163172, 0.09212051,\n",
       "       0.02560534])"
      ]
     },
     "execution_count": 24,
     "metadata": {},
     "output_type": "execute_result"
    }
   ],
   "source": [
    "mrs_prob_dist_t0_treatment"
   ]
  },
  {
   "cell_type": "code",
   "execution_count": 25,
   "id": "e8aae77a-1528-4cfe-ba39-dcdee67eccfc",
   "metadata": {},
   "outputs": [
    {
     "data": {
      "text/plain": [
       "array([0.46101001, 0.58595964, 0.72064244, 0.88227417, 0.97439468,\n",
       "       1.00000001])"
      ]
     },
     "execution_count": 25,
     "metadata": {},
     "output_type": "execute_result"
    }
   ],
   "source": [
    "mrs_prob_bins_t0_treatment"
   ]
  },
  {
   "cell_type": "markdown",
   "id": "0e540be4-62f2-4013-b001-2a0ca21c92db",
   "metadata": {},
   "source": [
    "### Plot the two distributions:"
   ]
  },
  {
   "cell_type": "code",
   "execution_count": 26,
   "id": "9f7035da-fe49-488c-93d3-6b46266b469f",
   "metadata": {},
   "outputs": [
    {
     "data": {
      "image/png": "[encoded data removed]",
      "text/plain": [
       "<Figure size 432x288 with 1 Axes>"
      ]
     },
     "metadata": {
      "needs_background": "light"
     },
     "output_type": "display_data"
    }
   ],
   "source": [
    "# Draw the pre-stroke distribution: \n",
    "draw_horizontal_bars(mrs_prob_dist_t0_treatment_pre, 'Pre-stroke')\n",
    "# Add legend now to prevent doubling all the labels:\n",
    "plt.legend(loc='center',ncol=6, \n",
    "           bbox_to_anchor=[0.5,1.0,0.0,0.1])   # Legend above axis.\n",
    "\n",
    "# Draw the t=0 distribution:\n",
    "draw_horizontal_bars(mrs_prob_dist_t0_treatment,  \n",
    "                     'Thrombolysis'+'\\n'+r'$t=0\\,$hr')\n",
    "\n",
    "# Annotate where mRS<=1.\n",
    "draw_horizontal_arrow(0.0, p_mRSleq1_t0,\n",
    "                      y=1.2,label='mRS<=1')\n",
    "draw_horizontal_arrow(0.0, mrs_prob_bins_t0_treatment_pre[1],\n",
    "                      y=0.2,label='mRS<=1')\n",
    "\n",
    "\n",
    "# Other setup:\n",
    "plt.xlabel('Probability')\n",
    "plt.xlim(0,1)\n",
    "plt.ylim(-0.2,1.5)       \n",
    "plt.show()"
   ]
  },
  {
   "cell_type": "markdown",
   "id": "fc71c0c6-b82d-4195-adb1-9a686aed8b35",
   "metadata": {},
   "source": [
    "Print the relevant size ratios of the bins."
   ]
  },
  {
   "cell_type": "code",
   "execution_count": 27,
   "id": "c990982f-8889-48d4-a6cd-eda8708fcb0a",
   "metadata": {},
   "outputs": [
    {
     "name": "stdout",
     "output_type": "stream",
     "text": [
      "       | ------------Pre-stroke------------- |\n",
      "       | Bin width | Ref. bin width | Ratio  |\n",
      "----------------------------------------------\n",
      "mRS=0: |   0.550   |      0.699     | 0.7868 |\n",
      "mRS=1: |   0.149   |      0.699     | 0.2132 |\n",
      "mRS=2: |   0.098   |      0.301     | 0.3253 |\n",
      "mRS=3: |   0.118   |      0.301     | 0.3904 |\n",
      "mRS=4: |   0.067   |      0.301     | 0.2225 |\n",
      "mRS=5: |   0.019   |      0.301     | 0.0618 |\n",
      " \n",
      "       | ----------------t=0---------------- |\n",
      "       | Bin width | Ref. bin width | Ratio  |\n",
      "---------------------------------------------\n",
      "mRS=0: |   0.461   |      0.586     | 0.7868 |\n",
      "mRS=1: |   0.125   |      0.586     | 0.2132 |\n",
      "mRS=2: |   0.135   |      0.414     | 0.3253 |\n",
      "mRS=3: |   0.162   |      0.414     | 0.3904 |\n",
      "mRS=4: |   0.092   |      0.414     | 0.2225 |\n",
      "mRS=5: |   0.026   |      0.414     | 0.0618 |\n"
     ]
    }
   ],
   "source": [
    "print('       | ------------Pre-stroke------------- |')\n",
    "print('       | Bin width | Ref. bin width | Ratio  |')\n",
    "print('----------------------------------------------')\n",
    "for i in range(6):\n",
    "    p_pre = mrs_prob_dist_t0_treatment_pre[i]\n",
    "    \n",
    "    if i<2:\n",
    "        p_ref_pre = mrs_prob_bins_t0_treatment_pre[1]\n",
    "    else:\n",
    "        p_ref_pre = 1.0 - mrs_prob_bins_t0_treatment_pre[1]\n",
    "        \n",
    "    ratio_pre = p_pre / p_ref_pre\n",
    "    \n",
    "    print(f'mRS={i}: |   {p_pre:1.3f}   |      {p_ref_pre:1.3f}     | {ratio_pre:1.4f} |')\n",
    "\n",
    "print(' ')\n",
    "print('       | ----------------t=0---------------- |')\n",
    "print('       | Bin width | Ref. bin width | Ratio  |')\n",
    "print('---------------------------------------------')\n",
    "for i in range(6):\n",
    "    p_t0  = mrs_prob_dist_t0_treatment[i] \n",
    "    \n",
    "    if i<2:\n",
    "        p_ref_t0  = p_mRSleq1_t0\n",
    "    else:\n",
    "        p_ref_t0  = 1.0 - p_mRSleq1_t0\n",
    "        \n",
    "    ratio_t0  = p_t0  / p_ref_t0\n",
    "    \n",
    "    print(f'mRS={i}: |   {p_t0:1.3f}   |      {p_ref_t0:1.3f}     | {ratio_t0:1.4f} |')"
   ]
  },
  {
   "cell_type": "markdown",
   "id": "ea92856d-8951-4017-9e07-aa10c999071c",
   "metadata": {},
   "source": [
    "So the mRS=0 bin covers 78.68% of the mRS$\\leq$1 bin in the original pre-stroke distribution, and the new scaled $t=0$ keeps this size ratio. \n",
    "\n",
    "> Each column of ratios adds up to 2 rather than 1. This is because we consider the ratio of the bins to two different areas: the mRS$\\leq$1 area, and the mRS>1 area. The ratios for mRS=0 and mRS=1 add up to 1 as they span the full mRS$\\leq$1 area, and separately the remaining mRS>1 ratios add up to 1 as they span everything else."
   ]
  },
  {
   "cell_type": "markdown",
   "id": "9a32dbc8-bd90-44bd-b1c7-560805c4fb85",
   "metadata": {},
   "source": [
    "The newly-defined $t=0$ probability distribution can now be used in the outcome modelling as normal. "
   ]
  }
 ],
 "metadata": {
  "kernelspec": {
   "display_name": "Python 3 (ipykernel)",
   "language": "python",
   "name": "python3"
  },
  "language_info": {
   "codemirror_mode": {
    "name": "ipython",
    "version": 3
   },
   "file_extension": ".py",
   "mimetype": "text/x-python",
   "name": "python",
   "nbconvert_exporter": "python",
   "pygments_lexer": "ipython3",
   "version": "3.9.7"
  }
 },
 "nbformat": 4,
 "nbformat_minor": 5
}
