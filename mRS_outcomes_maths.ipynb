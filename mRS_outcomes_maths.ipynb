{
 "cells": [
  {
   "cell_type": "markdown",
   "id": "8e10e0fc-ddb1-4fe9-81ce-cb8be82c7944",
   "metadata": {},
   "source": [
    "# Mathematics for calculating odds and probabilities of mRS-level outcomes after stroke, based on time to reperfusion treatment"
   ]
  },
  {
   "cell_type": "markdown",
   "id": "d520bcf8-4e61-4f26-823c-979407969923",
   "metadata": {},
   "source": [
    "In this notebook we explain how to derive various formulae for probability and odds that will be used in predicting modified Rankin Scale (mRS) after stroke, depending on time to treatment.\n",
    "\n",
    "The data used in this example correspond to thrombectomy treatment, and can be switched for other data as required without changing the formulae.\n",
    "\n",
    "## Modified Rankin Scale\n",
    "\n",
    "The modified Rankin Scale (mRS) is a commonly used scale for measuring the degree of disability or dependence in the daily activities of people who have suffered a stroke or other causes of neurological disability [Saver *et al*., 2010].\n",
    "\n",
    "The scale runs from 0-6, running from perfect health without symptoms to death:\n",
    "\n",
    "| Score | Description |\n",
    "|---|---|\n",
    "| 0 | No symptoms. |\n",
    "| 1 | No significant disability. Able to carry out all usual activities, despite some symptoms. |\n",
    "| 2 | Slight disability. Able to look after own affairs without assistance, but unable to carry out all previous activities. |\n",
    "| 3 | Moderate disability. Requires some help, but able to walk unassisted. |\n",
    "| 4 | Moderately severe disability. Unable to attend to own bodily needs without assistance, and unable to walk unassisted. |\n",
    "| 5 | Severe disability. Requires constant nursing care and attention, bedridden, incontinent. |\n",
    "| 6 | Dead. |"
   ]
  },
  {
   "cell_type": "markdown",
   "id": "19ff3f28-5972-4075-870e-57e61ff0fe33",
   "metadata": {},
   "source": [
    "## Reperfusion treatment for ischaemic stroke\n",
    "\n",
    "Ischaemic stroke is a stroke caused by the blockage of blood supply to an area of the brain, caused by a clot. Ischaemic strokes account for 80-85% of all strokes, with the remainder being *haemorrhagic* strokes where loss of blood supply is caused by a bleed in the brain.\n",
    "\n",
    "*Reperfusion* describes the restoration of blood flow following an ischaemic stroke. There are two potential reperfusion treatments:\n",
    "\n",
    "* *Thrombolysis* (also known as as *intravenous thrombolysis*, IVT) is a medical therapy where *clot-busting* drugs are used to reduce or remove the blood clot. About 20% of all stroke patients are suitable for thrombolysis. \n",
    "\n",
    "* *Thrombectomy* (also known as *mechanical thrombectomy*, MT) is the mechanical removal of a clot, by a mesh device under image guidance. Thrombectomy is suitable only for clots in a large vessel (these generally cause the worst strokes), and is a suitable treatment in about 10% of all stroke patients."
   ]
  },
  {
   "cell_type": "markdown",
   "id": "c426155a-a11a-4f74-a88c-3a2adf9d636a",
   "metadata": {},
   "source": [
    "## Decay of effect of reperfusion treatment\n",
    "\n",
    "Reperfusion treatment becomes less effective with increasing time after stroke (with the loss of effect occurring over some hours). Emberson *et al.* and Fransen *et al.* have described the declining effect as the declining *odds ratio* of achieving an essentially *'good outcome'* following thrombolysis (Emberson) or thrombectomy (Fransen). A *'good outcome'* has been described differently with studied on thrombolysis generally using a threshold of mRS 0-1 at 3-6 months, and thrombectomy studies generally using a threshold of mRS 0-2 at 3-6 months. The *odds ratio* describes the odds of a *'good outcome'* relative to the odds of a *'good outcome'* in an untreated control group.\n",
    "\n",
    "The deacy in effectiveness of reperfusion is shown in the figure below (left panel = odds ratio, right panel = log odds ratio, IVT = thrombolysis, MT = thrombectomy).\n",
    "\n",
    "![](./images/odds_decay.png)"
   ]
  },
  {
   "cell_type": "markdown",
   "id": "f280d7d4-70fb-4d29-bd0a-372fbb810a7b",
   "metadata": {},
   "source": [
    "---\n",
    "## Notebook admin"
   ]
  },
  {
   "cell_type": "code",
   "execution_count": 1,
   "id": "38dd8b9d",
   "metadata": {},
   "outputs": [],
   "source": [
    "# Keep notebook cleaner once finalised\n",
    "import warnings\n",
    "warnings.filterwarnings('ignore')"
   ]
  },
  {
   "cell_type": "code",
   "execution_count": 2,
   "id": "7e253275",
   "metadata": {},
   "outputs": [],
   "source": [
    "# Import packages\n",
    "import numpy as np\n",
    "import matplotlib.pyplot as plt"
   ]
  },
  {
   "cell_type": "code",
   "execution_count": 3,
   "id": "d84aa344",
   "metadata": {},
   "outputs": [],
   "source": [
    "# Set up MatPlotLib\n",
    "%matplotlib inline\n",
    "# Change default colour scheme:\n",
    "plt.style.use('seaborn-colorblind')"
   ]
  },
  {
   "cell_type": "markdown",
   "id": "dd0932c1-736c-4d8b-b8df-5c1270aff53f",
   "metadata": {},
   "source": [
    "---"
   ]
  },
  {
   "cell_type": "markdown",
   "id": "ec763643-362b-4148-90cc-8e7c2fbeca0e",
   "metadata": {},
   "source": [
    "## Define probability and odds\n",
    "\n",
    "We define outcome in terms of probability distributions of mRS scores. These models assume overall mortality is not affected by reperfusion treatment, and so model the distrubition of mRS scores 0-5. "
   ]
  },
  {
   "cell_type": "markdown",
   "id": "aed09231-5034-4d10-bce5-6639ea21bc5e",
   "metadata": {},
   "source": [
    "### Probability"
   ]
  },
  {
   "cell_type": "markdown",
   "id": "fae7a254-7a83-47e6-963d-a539df6623e6",
   "metadata": {},
   "source": [
    "Firstly we will define some probability distributions in terms of $x$, which is a given modified Rankin Scale (mRS), and $t$, the time from onset to treatment.\n",
    "\n",
    "+ $P(\\mathrm{mRS}=x\\ |\\ t)$, the probability distribution of mRS.\n",
    "+ $P(\\mathrm{mRS}\\leq x\\ |\\ t)$, the cumulative probability."
   ]
  },
  {
   "cell_type": "markdown",
   "id": "95580456-f91d-4e18-a95b-383b3f322cfe",
   "metadata": {},
   "source": [
    "In all cases, we know that:\n",
    "\n",
    "+ Probability is not defined beyond the no-effect time $t_{\\mathrm{ne}}$, so we set $0\\leq t \\leq t_{\\mathrm{ne}}$.\n",
    "+ The probabilities of a condition being met and it not being met sum to 1: \n",
    "$$ P(\\mathrm{mRS}>x\\ |\\ t) = 1.0 - P(\\mathrm{mRS}\\leq x\\ |\\ t) $$\n",
    "\n",
    "Also, we are not considering mRS=6, so the probability of mRS$\\leq5$ is always equal to 1: $P(\\mathrm{mRS}\\leq5)=1$ at all $t$. "
   ]
  },
  {
   "cell_type": "markdown",
   "id": "c30aa9fb-9950-4a6f-88a3-5c0e6d184181",
   "metadata": {},
   "source": [
    "### Odds and odds ratio"
   ]
  },
  {
   "cell_type": "markdown",
   "id": "8139c0d7-183a-45cc-8efb-e92540f4e512",
   "metadata": {},
   "source": [
    "The above mRS probability distributions can be used to define odds and the odds ratio for a given mRS $x$ at a time $t$ before the no-effect time $t_{\\mathrm{ne}}$. To make the maths easier, we will also consider the natural log$^{*}$ versions of odds and odds ratio. $^{*}$Whenever this notebook says \"log\", it means natural log."
   ]
  },
  {
   "cell_type": "markdown",
   "id": "3bddabff-d539-4922-a8b9-71c6082a7b99",
   "metadata": {},
   "source": [
    "#### Odds, $O$:\n",
    "\n",
    "The odds are an alternative way of expressing the likeliness of an event occurring, for example a patient attaining a good outcome. Odds are expressed in terms of how much more likely it is that the good outcome will be attained rather than the bad outcome (or vice-versa, when the odds are less than one). Here we will calculate odds directly from probabilities, and so the odds will be given as non-integer positive numbers rather than fractions. \n",
    "\n",
    "By definition:\n",
    "\n",
    "+ $\\begin{align} \\mathrm{odds} =  \\frac{\\mathrm{probability\\ of\\ good\\ outcome}}{\\mathrm{probability\\ of\\ bad\\ outcome}} \\phantom{gap} \\mathrm{(single\\ patient)} \\end{align} $\n",
    "\n",
    "+ $\\begin{align} \\mathrm{odds} =  \\frac{\\mathrm{number\\ of\\ good\\ outcomes}}{\\mathrm{number\\ of\\ bad\\ outcomes}} \\phantom{gap} \\mathrm{(group\\ of\\ patients)} \\end{align} $\n",
    "\n",
    "\n",
    "In terms of $P(t)$:\n",
    "\n",
    "+ $\\begin{align}  O(\\mathrm{mRS},x,t) = \\frac{P(\\mathrm{mRS}\\leq x\\ |\\ t)}{P(\\mathrm{mRS}>x\\ |\\ t)} \\end{align}$\n",
    "\n",
    "Log equivalent:\n",
    "\n",
    "+ log odds = $\\log_{e}(\\mathrm{odds}) $\n",
    "\n",
    "Special cases:\n",
    "+ At the time when odds=1, only half of the outcomes will be good.\n",
    "+ When odds=1, log(odds)=0."
   ]
  },
  {
   "cell_type": "markdown",
   "id": "bc37b3b5-5c9b-4061-ac77-564048f34940",
   "metadata": {},
   "source": [
    "#### Odds ratio, $OR$:\n",
    "\n",
    "The odds ratio is a way to express how much more likely it is that a good outcome will occur if the patient is treated than if they receive no treatment. In either of the two cases, we would expect at least some of the patients to have a good outcome. This odds ratio is a measure of how effective the treatment is at increasing the number of good outcomes compared with the baseline.\n",
    "\n",
    "By definition:\n",
    "\n",
    "+ $\\begin{align} \\mathrm{odds\\ ratio} = \\frac{\\mathrm{odds\\ of\\ good\\ outcome\\ if\\ treated}}{\\mathrm{odds\\ of\\ good\\ outcome\\ if\\ not\\ treated}} \\end{align}$\n",
    "\n",
    "In terms of $P(t)$:\n",
    "\n",
    "+ $\\begin{align}  OR(\\mathrm{mRS},x,t) = \\left\\{ \\frac{P(\\mathrm{mRS}\\leq x\\ |\\ t)}{P(\\mathrm{mRS}>x\\ |\\ t)} \\right\\} \\div \\left\\{ \\frac{P(\\mathrm{mRS}\\leq x\\ |\\ t_{\\mathrm{ne}})}{P(\\mathrm{mRS}>x\\ |\\ t_{\\mathrm{ne}})} \\right\\} \\end{align}$\n",
    "\n",
    "Log version:\n",
    "\n",
    "+ log odds ratio = $\\log_{e}(\\mathrm{odds\\ ratio}) $\n",
    "\n",
    "Special cases:\n",
    "\n",
    "+ At $t=t_{\\mathrm{ne}}$, the no-effect time, for all mRS the two terms on the right-hand-side of the odds ratio equation are the same, and so $OR(t=t_{\\mathrm{ne}})=1$ and  $\\log\\bigl[OR(t=t_{\\mathrm{ne}})\\bigr]=0$ by definition."
   ]
  },
  {
   "cell_type": "markdown",
   "id": "e85275cf-592b-4240-9f63-08cb74cdaf29",
   "metadata": {},
   "source": [
    "---"
   ]
  },
  {
   "cell_type": "markdown",
   "id": "af808d88-a750-4b2b-8967-9ec1af4d45b1",
   "metadata": {},
   "source": [
    "## Collect the data"
   ]
  },
  {
   "cell_type": "markdown",
   "id": "22696615-9c1c-4dab-b288-fd192e3662bf",
   "metadata": {},
   "source": [
    "Throughout this notebook, variable names contain the following strings:\n",
    "\n",
    "+ `dist` - the mRS probability distributions.\n",
    "+ `bins` - the cumulative mRS probabilities.\n",
    "+ `t0_treatment` - treatment at time $t=0$.\n",
    "+ `no_treatment` - treatment at the no-effect time $t=t_{\\mathrm{ne}}$. "
   ]
  },
  {
   "cell_type": "markdown",
   "id": "63e1cfee-55a4-4e92-a2c8-922f8ea86e6d",
   "metadata": {},
   "source": [
    "### Gather probabilities from the literature"
   ]
  },
  {
   "cell_type": "markdown",
   "id": "5a87b41b-2483-43c3-b4ed-a7e2d6c797d4",
   "metadata": {
    "tags": []
   },
   "source": [
    "For $t=0\\,$hr, the data comes from the SAMueL-1 full sample:"
   ]
  },
  {
   "cell_type": "code",
   "execution_count": 4,
   "id": "f7f95899",
   "metadata": {
    "tags": []
   },
   "outputs": [],
   "source": [
    "mrs_prob_dist_t0_treatment = [0.54956819, 0.14895196, 0.0980681, \n",
    "                              0.11769072, 0.06707674, 0.0186443]\n",
    "mrs_prob_bins_t0_treatment = np.cumsum(mrs_prob_dist_t0_treatment)"
   ]
  },
  {
   "cell_type": "markdown",
   "id": "a889856d-7bef-4a01-a1ae-47a442d17b01",
   "metadata": {},
   "source": [
    "For $t=t_{\\mathrm{ne}}$, the time of no effect, the equivalent \"untreated\" mRS distribution data comes from Goyal et al. 2016 (Figure 1: A Overall, Control population), where mRS=6 is excluded and $P(\\mathrm{mRS}=6)=0.189$."
   ]
  },
  {
   "cell_type": "code",
   "execution_count": 5,
   "id": "18a91b5d",
   "metadata": {},
   "outputs": [],
   "source": [
    "mrs_prob_dist_no_treatment = [0.05, 0.079, 0.136, 0.164, 0.247, 0.135]\n",
    "mrs_prob_bins_no_treatment = np.cumsum(mrs_prob_dist_no_treatment)\n",
    "\n",
    "# Need to normalise because it currently doesn't add up to 1 \n",
    "# (non-zero mRS=6 is excluded).\n",
    "mrs_prob_bins_no_treatment = mrs_prob_bins_no_treatment / \\\n",
    "                             mrs_prob_bins_no_treatment[-1]"
   ]
  },
  {
   "cell_type": "markdown",
   "id": "e5b98fa0-1cef-4f43-9930-8a67590ae08f",
   "metadata": {},
   "source": [
    "Define the time of no effect $t_{\\mathrm{ne}}$ that matches the Goyal et al. 2016 distribution:"
   ]
  },
  {
   "cell_type": "code",
   "execution_count": 6,
   "id": "1034a56f-6bc3-4d97-91f1-583d228fd300",
   "metadata": {},
   "outputs": [],
   "source": [
    "t_ne = 8*60 # minutes"
   ]
  },
  {
   "cell_type": "markdown",
   "id": "35d53a4f-bf4b-4ac1-a3a3-c88ba0446658",
   "metadata": {},
   "source": [
    "### Convert probability to odds and odds ratio"
   ]
  },
  {
   "cell_type": "code",
   "execution_count": 7,
   "id": "b4ace6fb-1792-41e4-aa81-b00593b9ffb9",
   "metadata": {},
   "outputs": [],
   "source": [
    "# Convert to odds:\n",
    "mrs_odds_bins_t0_treatment    = mrs_prob_bins_t0_treatment / \\\n",
    "                                (1.0 - mrs_prob_bins_t0_treatment)\n",
    "mrs_odds_bins_no_treatment    = mrs_prob_bins_no_treatment / \\\n",
    "                                (1.0 - mrs_prob_bins_no_treatment)\n",
    "\n",
    "# Manually set mRS<=5 values to infinity, since P(mRS<=5)=1:\n",
    "mrs_odds_bins_t0_treatment[-1] = np.inf \n",
    "mrs_odds_bins_no_treatment[-1] = np.inf"
   ]
  },
  {
   "cell_type": "code",
   "execution_count": 8,
   "id": "ecdc30f0-20bf-4eaa-a8a4-7c05b09d10f2",
   "metadata": {},
   "outputs": [],
   "source": [
    "# Define odds ratio:\n",
    "mrs_OR_bins_t0_treatment      = mrs_odds_bins_t0_treatment / \\\n",
    "                                mrs_odds_bins_no_treatment\n",
    "mrs_OR_bins_no_treatment      = mrs_odds_bins_no_treatment / \\\n",
    "                                mrs_odds_bins_no_treatment"
   ]
  },
  {
   "cell_type": "code",
   "execution_count": 9,
   "id": "6156bc3a-3b7c-43af-8376-c166cf9a90c8",
   "metadata": {},
   "outputs": [],
   "source": [
    "# Convert to log(odds):\n",
    "mrs_logodds_bins_t0_treatment = np.log(mrs_odds_bins_t0_treatment)\n",
    "mrs_logodds_bins_no_treatment = np.log(mrs_odds_bins_no_treatment)"
   ]
  },
  {
   "cell_type": "code",
   "execution_count": 10,
   "id": "4d88f424-4147-4f2b-9cbd-47b224bee199",
   "metadata": {},
   "outputs": [],
   "source": [
    "# Convert to log(odds ratio):\n",
    "mrs_logOR_bins_t0_treatment   = np.log(mrs_OR_bins_t0_treatment)\n",
    "mrs_logOR_bins_no_treatment   = np.log(mrs_OR_bins_no_treatment)"
   ]
  },
  {
   "cell_type": "markdown",
   "id": "6f8befaa-ed6f-4ab5-a29e-edd7c8f7c67a",
   "metadata": {},
   "source": [
    "### Plot our known data"
   ]
  },
  {
   "cell_type": "code",
   "execution_count": 11,
   "id": "42bc6e9a-7d78-411c-b4d9-92b2e34136aa",
   "metadata": {},
   "outputs": [
    {
     "data": {
      "image/png": "[encoded data removed]",
      "text/plain": [
       "<Figure size 432x288 with 1 Axes>"
      ]
     },
     "metadata": {
      "needs_background": "light"
     },
     "output_type": "display_data"
    },
    {
     "data": {
      "image/png": "[encoded data removed]",
      "text/plain": [
       "<Figure size 432x288 with 1 Axes>"
      ]
     },
     "metadata": {
      "needs_background": "light"
     },
     "output_type": "display_data"
    },
    {
     "data": {
      "image/png": "[encoded data removed]",
      "text/plain": [
       "<Figure size 432x288 with 1 Axes>"
      ]
     },
     "metadata": {
      "needs_background": "light"
     },
     "output_type": "display_data"
    },
    {
     "data": {
      "image/png": "[encoded data removed]",
      "text/plain": [
       "<Figure size 432x288 with 1 Axes>"
      ]
     },
     "metadata": {
      "needs_background": "light"
     },
     "output_type": "display_data"
    }
   ],
   "source": [
    "data_lists = [\n",
    "    [mrs_prob_bins_t0_treatment,    mrs_prob_bins_no_treatment],\n",
    "    [mrs_odds_bins_t0_treatment,    mrs_odds_bins_no_treatment],\n",
    "    [mrs_logodds_bins_t0_treatment, mrs_logodds_bins_no_treatment],\n",
    "    [mrs_logOR_bins_t0_treatment,   mrs_logOR_bins_no_treatment]\n",
    "    ]\n",
    "\n",
    "ylabels = ['Probability', 'odds', 'log(odds)', 'log(odds ratio)']\n",
    "\n",
    "for d,data_list in enumerate(data_lists):\n",
    "    d_t0 = data_list[0]\n",
    "    d_no = data_list[1]\n",
    "    for i in range(6):\n",
    "        plt.scatter([0.0,t_ne], [d_t0[i],d_no[i]], label=f'mRS <= {i}')\n",
    "    plt.axhline(0.0, color='grey')\n",
    "    plt.ylabel(ylabels[d])\n",
    "    plt.title(ylabels[d], fontsize=15)\n",
    "    plt.xlabel('Onset to treatment time (mins)')\n",
    "    plt.xticks(np.arange(0,t_ne+60,60))\n",
    "    plt.legend(loc='center')\n",
    "    plt.show()"
   ]
  },
  {
   "cell_type": "markdown",
   "id": "6d6cc44e-6cf8-40e6-8a81-ac4c9986099b",
   "metadata": {},
   "source": [
    "Some comments on the above plots:\n",
    "\n",
    "+ odds, log(odds), and log(odds ratio) for $\\mathrm{mRS}\\leq5$ are not defined for any $t$. This is because $P(\\mathrm{mRS}\\leq5)=1.0$ at all times, and so:\n",
    "$$O(\\mathrm{mRS}\\leq5) = \\frac{P(\\mathrm{mRS}\\leq5)}{1-P(\\mathrm{mRS}\\leq5)} = \\frac{1}{0}$$\n",
    "+ When $P(\\mathrm{mRS},x,t)<0.5$, then $O(\\mathrm{mRS},x,t)<1$ and $\\log\\bigl[O(\\mathrm{mRS},x,t)\\bigr]<0$. \n",
    "+ log(odds ratio)=0 at the no-treatment-time $t=t_{\\mathrm{ne}}$ for all mRS, by definition (see maths cell above). \n",
    "+ The data for probability, odds and log(odds) show the mRS points stacked on top of each other with increasing mRS, but the log(odds ratio) show the points in a different order at $t=0$. "
   ]
  },
  {
   "cell_type": "markdown",
   "id": "c0bd8d34-7a25-4cd1-b961-8f0f7df8773e",
   "metadata": {},
   "source": [
    "---"
   ]
  },
  {
   "cell_type": "markdown",
   "id": "2f84bc08-d839-4144-926c-be22099b2d66",
   "metadata": {},
   "source": [
    "## Aims "
   ]
  },
  {
   "cell_type": "markdown",
   "id": "45666b86-5f34-46a4-acfd-8e3e88432591",
   "metadata": {
    "jp-MarkdownHeadingCollapsed": true,
    "tags": []
   },
   "source": [
    "We know all about the probabilities and odds of mRS at $t=0\\,$hr and $t=t_{\\mathrm{ne}}$ from the data above. \n",
    "Now say we want to know a patient's expected mRS at a generic time $t$ when they received treatment.\n",
    "We need to use the data we have at $t=0\\,$hr and $t=t_{\\mathrm{ne}}$ to create models to describe probability and odds at all $t$. \n",
    "\n",
    "Since we know that probability, odds, log odds, and log odds ratio are all linked, \n",
    "we only need to find a formula for one of these distributions.\n",
    "That formula can then be converted into the forms required to find the other quantities.\n",
    "We'll start with the simplest formula, which is for log odds ratio.\n",
    "\n",
    "In the literature, the log odds ratio has been presented at regular time intervals and falls off approximately linearly with time $t$. This allows it to be modelled as a straight line. For example, from Allen.pdf pseudocode paper §2.4.1, for an odds ratio $OR$ and time in hours from onset to treatment $t$, we have $\\log(OR) = 0.746 - 0.12t$. More generically, the straight line formula is $\\log(OR) = a + bt$ for constants $a$ and $b$."
   ]
  },
  {
   "cell_type": "markdown",
   "id": "4249b746-cc62-4104-b200-59d2396d4c48",
   "metadata": {},
   "source": [
    "### Steps\n",
    "\n",
    "The steps here are, for mRS$\\leq$4$^*$:\n",
    "1. Define log(odds ratio), a straight-line formula $a + bt$. **(Equation 5)**\n",
    "2. Find $a$ and $b$ using the known probabilities at $t=0\\,$hr and $t=t_{\\mathrm{ne}}$. **(Equations 6 and 7)**\n",
    "3. Define log(odds), another straight line  $A+bt$, by converting the log(odds ratio) formula. **(Equation 10)**\n",
    "4. Find $A$ using the known log(odds) at $t=0\\,$hr. **(Equations 8 and 12)**\n",
    "5. Define odds, an exponential decay, by converting log(odds). **(Equation 14)**.\n",
    "6. Define probability as a function of $t$ by converting odds. **(Equations 16 and 17)**\n",
    "\n",
    "$^*$ We cannot include mRS$\\leq$5 in these calculations as noted above, but luckily we already know that $P(\\mathrm{mRS}\\leq5)=1.0$ at all $t$."
   ]
  },
  {
   "cell_type": "markdown",
   "id": "871c94ce-5728-40bc-889d-e39d4968b781",
   "metadata": {},
   "source": [
    "#### Constant reference:\n",
    "\n",
    "(these will be defined throughout the steps above)\n",
    "\n",
    "| Constant | Definition | Equation reference | \n",
    "| --- | :-- | :-- |\n",
    "| a | log(odds ratio) at time $t=0\\,$hr | Equation 6 |\n",
    "| b | Gradient of the log(odds ratio) line | Equation 7 |\n",
    "| A | log(odds) at time $t=0\\,$hr | Equations 8, 12 |"
   ]
  },
  {
   "cell_type": "markdown",
   "id": "ff6c1cf4-e53e-450b-a0bc-32f5a917f7bd",
   "metadata": {},
   "source": [
    "#### Step 1: Define straight-line formula for log(odds ratio) \n",
    "\n",
    "By definition, odds ratio:\n",
    "\n",
    "1 : $$ OR(\\mathrm{mRS},x,t) = \\left\\{\\frac{P(\\mathrm{mRS}\\leq x\\ |\\ t)}{P(\\mathrm{mRS}>x\\ |\\ t)}\\right\\} \\div \\left\\{\\frac{P(\\mathrm{mRS}\\leq x\\ |\\ t_{\\mathrm{ne}})}{P(\\mathrm{mRS}>x\\ |\\ t_{\\mathrm{ne}})}\\right\\} $$\n",
    "\n",
    "Taking the natural logarithm of both sides, this can be rewritten as:\n",
    "\n",
    "2 : $$\\log[OR(\\mathrm{mRS},x,t)] = \\Bigl\\{\\log\\big[P(\\mathrm{mRS}\\leq x\\ |\\ t)\\bigr] - \\log\\bigl[P(\\mathrm{mRS}>x\\ |\\ t)\\bigr]\\Bigr\\} - \\Bigl\\{\\log\\bigl[P(\\mathrm{mRS}\\leq x\\ |\\ t_{\\mathrm{ne}})\\bigr] - \\log\\bigl[P(\\mathrm{mRS}>x\\ |\\ t_{\\mathrm{ne}})\\bigr]\\Bigr\\} $$ \n",
    "\n",
    "\n"
   ]
  },
  {
   "cell_type": "markdown",
   "id": "8558898b-987f-4eca-bab9-cffa35a4afbb",
   "metadata": {},
   "source": [
    "Define some variables to make this shorter: \n",
    "\n",
    "3 : $$\\log(OR) = (G - B) - (G_{t\\mathrm{ne}} - B_{t\\mathrm{ne}}) $$ \n",
    "\n",
    "where \"_G_\" is for Good outcome and \"_B_\" is for Bad outcome. In full:"
   ]
  },
  {
   "cell_type": "markdown",
   "id": "2b292db9-f4b3-45d8-ae4e-9e3cd73f3eb2",
   "metadata": {},
   "source": [
    "| | | | |\n",
    "| :--- | :--- | | :--- |\n",
    "| $ G\\phantom{_{tne}}$ | $=\\log\\bigl[\\phantom{1 11 } P(\\mathrm{mRS}\\leq x\\ |\\ t)\\bigr] $ | $\\phantom{G}$ | Varies with mRS, $x$, and $t$ |\n",
    "| $ B\\phantom{_{tne}}$ | $=\\log\\bigl[1 − P(\\mathrm{mRS}\\leq x\\ |\\ t)\\bigr] $  | | Varies with mRS, $x$, and $t$ |\n",
    "| $ G_{t\\mathrm{ne}}$ | $=\\log\\bigl[\\phantom{1 11 } P(\\mathrm{mRS}\\leq x\\ |\\ t_{\\mathrm{ne}})\\bigr] $ | | Known constant for a fixed $t=t_{\\mathrm{ne}}$ and a given mRS and $x$. |\n",
    "| $ B_{t\\mathrm{ne}}$ | $=\\log\\bigl[1 − P(\\mathrm{mRS}\\leq x\\ |\\ t_{\\mathrm{ne}})\\bigr] $  | | Known constant for a fixed $t=t_{\\mathrm{ne}}$ and a given mRS and $x$. |"
   ]
  },
  {
   "cell_type": "markdown",
   "id": "b0958e43-153d-4ab3-acff-abc63ae07b77",
   "metadata": {},
   "source": [
    "Next, assume a linear relationship between log(odd ratio) and time holds for all values of mRS. For each value of mRS we solve:\n",
    "\n",
    "4 : $$ \\log(OR) = a + bt $$\n",
    "\n",
    "\n",
    "i.e. **$a$ is log(odds ratio) at t=0**, and **$b$ is the gradient of the slope**. Equating 3 and 4:\n",
    "\n",
    "5 : $$ a + bt = (G - B) - (G_{t\\mathrm{ne}} - B_{t\\mathrm{ne}}) $$ \n",
    "\n",
    "This form holds for all $t$. To find $a$ and $b$, we need to consider the values of $G$ and $B$ when $t=0\\,$hr or $t=t_{\\mathrm{ne}}$, as this is the data available to us."
   ]
  },
  {
   "cell_type": "markdown",
   "id": "bc391898-e942-4284-b75d-c1aa0de5a373",
   "metadata": {},
   "source": [
    "#### Step 2: Find $a$ and $b$ using the known probabilities\n"
   ]
  },
  {
   "cell_type": "markdown",
   "id": "07815d0f-3cc6-4ea4-9064-61b261352d35",
   "metadata": {},
   "source": [
    "##### Find $a$"
   ]
  },
  {
   "cell_type": "markdown",
   "id": "415e2776-53d4-4370-a4de-0dff17e3eeda",
   "metadata": {},
   "source": [
    "Consider Equation 5 when $t=0\\,$hr. The equation becomes:\n",
    "\n",
    "6: $$ a = (G_{t=0}-B_{t=0}) - (G_{t\\mathrm{ne}} - B_{t\\mathrm{ne}}) $$ \n",
    "\n",
    "We know each of the four terms on the right-hand-side from our data arrays."
   ]
  },
  {
   "cell_type": "code",
   "execution_count": 12,
   "id": "a0accc42-0497-43af-a66a-fb02987501db",
   "metadata": {},
   "outputs": [],
   "source": [
    "# Use the [:-1] slice to exclude mRS<=5.\n",
    "G_t0  = np.log(      mrs_prob_bins_t0_treatment[:-1])\n",
    "B_t0  = np.log(1.0 - mrs_prob_bins_t0_treatment[:-1])\n",
    "G_tne = np.log(      mrs_prob_bins_no_treatment[:-1])\n",
    "B_tne = np.log(1.0 - mrs_prob_bins_no_treatment[:-1])\n",
    "\n",
    "a = (G_t0 - B_t0) - (G_tne - B_tne)"
   ]
  },
  {
   "cell_type": "code",
   "execution_count": 13,
   "id": "fe7e23a6-3d73-4d4f-863c-8c16414798be",
   "metadata": {},
   "outputs": [
    {
     "data": {
      "text/plain": [
       "array([2.92153651, 2.5054781 , 2.08799482, 2.25100125, 2.35247676])"
      ]
     },
     "execution_count": 13,
     "metadata": {},
     "output_type": "execute_result"
    }
   ],
   "source": [
    "a"
   ]
  },
  {
   "cell_type": "markdown",
   "id": "36001425-b67f-41e2-be6a-f4b068657691",
   "metadata": {},
   "source": [
    "`a` is an array of 5 values, one each for mRS$\\leq$0,1,2,3,4.\n",
    "\n",
    "Compare these values with the calculated log(odds ratio) at $t=0$:"
   ]
  },
  {
   "cell_type": "code",
   "execution_count": 14,
   "id": "f83a93af-5a76-454a-82eb-c4ad0d907506",
   "metadata": {},
   "outputs": [
    {
     "data": {
      "text/plain": [
       "array([2.92153651, 2.5054781 , 2.08799482, 2.25100125, 2.35247676,\n",
       "              nan])"
      ]
     },
     "execution_count": 14,
     "metadata": {},
     "output_type": "execute_result"
    }
   ],
   "source": [
    "mrs_logOR_bins_t0_treatment"
   ]
  },
  {
   "cell_type": "markdown",
   "id": "8d1b2044-755b-46d7-a80d-4f167cf760b0",
   "metadata": {},
   "source": [
    "##### Find $b$"
   ]
  },
  {
   "cell_type": "markdown",
   "id": "1316fa0c-6ffc-4f14-9907-6ec9090fbeaa",
   "metadata": {},
   "source": [
    "Consider Equation 5 when $t=t_{\\mathrm{ne}}$. \n",
    "\n",
    "$$ a + bt_{\\mathrm{ne}} = (G_{t\\mathrm{ne}} - B_{t\\mathrm{ne}}) - (G_{t\\mathrm{ne}} - B_{t\\mathrm{ne}}) $$ \n",
    "\n",
    "The terms on the right-hand-side cancel to zero, and so:\n",
    "\n",
    "7: $$ b = -\\frac{a}{t_{\\mathrm{ne}}} $$"
   ]
  },
  {
   "cell_type": "code",
   "execution_count": 15,
   "id": "75b47f4c-ed4e-40be-90d0-f5a7dd80aa9d",
   "metadata": {},
   "outputs": [
    {
     "data": {
      "text/plain": [
       "array([-0.00608653, -0.00521975, -0.00434999, -0.00468959, -0.00490099])"
      ]
     },
     "execution_count": 15,
     "metadata": {},
     "output_type": "execute_result"
    }
   ],
   "source": [
    "b = -a/t_ne\n",
    "\n",
    "b"
   ]
  },
  {
   "cell_type": "markdown",
   "id": "d45c2c01-90a6-408a-8006-17e8410e3c8b",
   "metadata": {},
   "source": [
    "`b` is an array of 5 values, one each for mRS$\\leq$0,1,2,3,4. \n",
    "All of the $b$ values are negative because log(odds ratio) decreases with time."
   ]
  },
  {
   "cell_type": "markdown",
   "id": "022dcedd-ba11-4382-a8a6-9a8bb6b6c36e",
   "metadata": {},
   "source": [
    "##### Plot log(odds ratio) with time:"
   ]
  },
  {
   "cell_type": "code",
   "execution_count": 16,
   "id": "6e0dac31-f075-4902-94b9-176ee545be48",
   "metadata": {},
   "outputs": [
    {
     "data": {
      "image/png": "[encoded data removed]",
      "text/plain": [
       "<Figure size 432x288 with 1 Axes>"
      ]
     },
     "metadata": {
      "needs_background": "light"
     },
     "output_type": "display_data"
    }
   ],
   "source": [
    "t = np.arange(0,t_ne)\n",
    "\n",
    "for i,a_i in enumerate(a):\n",
    "    plt.plot(t, a_i + b[i]*t, '-', label = f'mRS <= {i}')\n",
    "    # Scatter the original data:\n",
    "    plt.scatter(0, mrs_logOR_bins_t0_treatment[i])#, label= f'a(mRS <= {i})')\n",
    "\n",
    "plt.legend(loc='best')\n",
    "plt.ylabel('Log(odds ratio)')\n",
    "plt.xlabel('Onset to treatment time (mins)')\n",
    "plt.xticks(np.arange(0.0,t_ne+60.0,60.0))\n",
    "plt.title('log odds ratio', fontsize=15)\n",
    "plt.show()"
   ]
  },
  {
   "cell_type": "markdown",
   "id": "1e7979a0-d2e0-462e-afb7-e28df7438d19",
   "metadata": {},
   "source": [
    "#### Step 3: Find formula for log(odds)\n",
    "\n",
    "We eventually want to convert the equation for log(odds ratio), Equation 5, into an equation for probability as a function of $t$. The important variables then are $y$ and $n$. In Equation 5:\n",
    "\n",
    "5 : $$ a + bt = (G - B) - (G_{t\\mathrm{ne}} - B_{t\\mathrm{ne}}) $$ \n",
    "\n",
    "where the $(G - B)$ term is equivalent to the log(odds):\n",
    "\n",
    "$$ G - B \\equiv \\log\\big[P(\\mathrm{mRS}\\leq x\\ |\\ t)\\bigr] - \\log\\bigl[P(\\mathrm{mRS}>x\\ |\\ t)\\bigr] = \\log\\left[\\frac{P(\\mathrm{mRS}\\leq x\\ |\\ t)}{1 - P(\\mathrm{mRS}\\leq x\\ |\\ t)}\\right] $$\n",
    "\n",
    "So we will find an equation for log(odds) as one of the steps towards finding an equation for probability.\n",
    "\n",
    "Firstly, the current Equation 5 can be simplified by removing some of the terms. The two rightmost terms, $G_{t\\mathrm{ne}}$ and $B_{t\\mathrm{ne}}$, are known constants. So we can combine these terms with the other constant, $a$, to define a new constant $A$:\n",
    "\n",
    "8: $$ A = a + (G_{t\\mathrm{ne}} - B_{t\\mathrm{ne}}) $$\n"
   ]
  },
  {
   "cell_type": "markdown",
   "id": "ec868f67-56a0-46fe-bd42-f1e33c47abde",
   "metadata": {},
   "source": [
    "Combining Equations 5 and 9 gives: \n",
    "\n",
    "9: $$ A + bt = (G - B) $$\n",
    "\n",
    "In terms of probabilities:\n",
    "\n",
    "10: $$ A + bt = \\log\\left[\\frac{P(\\mathrm{mRS}\\leq x\\ |\\ t)}{1 - P(\\mathrm{mRS}\\leq x\\ |\\ t)}\\right] $$\n",
    "\n",
    "11: $$ A + bt =  \\log\\bigl[O(\\mathrm{mRS}\\leq x\\ |\\ t)\\bigr] $$\n",
    "\n",
    "This is the formula for log(odds) in terms of $A$, $b$ and $t$."
   ]
  },
  {
   "cell_type": "markdown",
   "id": "322b7a03-2ea2-4c6c-ae15-7a1138fc3a30",
   "metadata": {},
   "source": [
    "To find out what $A$ actually represents, there are two options. We could take Equation 8, rewrite each term as a probability $P(\\mathrm{mRS},t)$, and cancel out all of the $t_{\\mathrm{ne}}$ terms. Alternatively, we can just consider Equation 11 for the case at time $t=0$: \n",
    "\n",
    "12: $$ A =  \\log\\bigl[O(\\mathrm{mRS}\\leq x\\ |\\ t=0)\\bigr] $$\n",
    "\n",
    "So **$A$ is equal to the log-odds at $t=0\\,$hr**."
   ]
  },
  {
   "cell_type": "markdown",
   "id": "4406dd8d-98b0-4cd4-a429-ec03ff11439a",
   "metadata": {
    "tags": []
   },
   "source": [
    "#### Step 4: Calculate $A$"
   ]
  },
  {
   "cell_type": "markdown",
   "id": "ba45da77-0df6-4a2a-8afb-97bcd960cfe9",
   "metadata": {},
   "source": [
    "Calculate the values of $A$ using Equation 9."
   ]
  },
  {
   "cell_type": "code",
   "execution_count": 17,
   "id": "f48046a0-5502-4650-bf5d-3d2e6aa75a5c",
   "metadata": {},
   "outputs": [
    {
     "data": {
      "text/plain": [
       "array([0.19892616, 0.84026084, 1.36510567, 2.36703756, 3.96339506])"
      ]
     },
     "execution_count": 17,
     "metadata": {},
     "output_type": "execute_result"
    }
   ],
   "source": [
    "A = a + (G_tne - B_tne)\n",
    "\n",
    "A"
   ]
  },
  {
   "cell_type": "markdown",
   "id": "02f6c26f-fc42-4291-85d8-56f5cb762411",
   "metadata": {},
   "source": [
    "`A` is an array of 5 values, one each for mRS$\\leq$0,1,2,3,4. \n",
    "\n",
    "Compare these with the log odds at $t=0$ that we calculated earlier:"
   ]
  },
  {
   "cell_type": "code",
   "execution_count": 18,
   "id": "3a088cd7-8399-41c5-924c-402db615e730",
   "metadata": {},
   "outputs": [
    {
     "data": {
      "text/plain": [
       "array([0.19892616, 0.84026084, 1.36510567, 2.36703756, 3.96339506,\n",
       "              inf])"
      ]
     },
     "execution_count": 18,
     "metadata": {},
     "output_type": "execute_result"
    }
   ],
   "source": [
    "mrs_logodds_bins_t0_treatment"
   ]
  },
  {
   "cell_type": "markdown",
   "id": "b22104a6-10bb-4cff-b54e-3c396ee19847",
   "metadata": {},
   "source": [
    "##### Plot log(odds) with time"
   ]
  },
  {
   "cell_type": "markdown",
   "id": "6f50130a-438f-47af-a784-03f28527b8f1",
   "metadata": {},
   "source": [
    "Plotting Equation 9:"
   ]
  },
  {
   "cell_type": "code",
   "execution_count": 19,
   "id": "9163cca6-298e-4a09-8cca-71e52dd902ab",
   "metadata": {},
   "outputs": [
    {
     "data": {
      "image/png": "[encoded data removed]",
      "text/plain": [
       "<Figure size 432x288 with 1 Axes>"
      ]
     },
     "metadata": {
      "needs_background": "light"
     },
     "output_type": "display_data"
    }
   ],
   "source": [
    "t = np.arange(0,t_ne)\n",
    "\n",
    "for i,A_i in enumerate(A):\n",
    "    l, = plt.plot(t, A_i + b[i]*t, '-', label = f'mRS <= {i}')\n",
    "    colour = l.get_color()\n",
    "    # Scatter the original data:\n",
    "    plt.scatter(   0, mrs_logodds_bins_t0_treatment[i], color=colour)\n",
    "    plt.scatter(t_ne, mrs_logodds_bins_no_treatment[i], color=colour)\n",
    "\n",
    "plt.legend(loc='best')\n",
    "plt.ylabel('log(odds)')\n",
    "plt.xlabel('Onset to treatment time (mins)')\n",
    "plt.xticks(np.arange(0.0,t_ne+60.0,60.0))\n",
    "plt.title('log odds', fontsize=15)\n",
    "plt.show()"
   ]
  },
  {
   "cell_type": "markdown",
   "id": "f58d499c-7ee3-417d-812e-c2721d3fe683",
   "metadata": {},
   "source": [
    "#### Step 5: Find formula for odds:"
   ]
  },
  {
   "cell_type": "markdown",
   "id": "a172d24e-8fef-41ea-bd90-75a09b1a55cd",
   "metadata": {},
   "source": [
    "Going back to Equation 10, the log(odds):\n",
    "\n",
    "10: $$ A + bt = \\log\\left[\\frac{P(\\mathrm{mRS}\\leq x\\ |\\ t)}{1 - P(\\mathrm{mRS}\\leq x\\ |\\ t)}\\right] $$\n",
    "\n",
    "Taking the exponential of both sides gives an equation for odds:\n",
    "\n",
    "13: $$e^{A + bt} = \\frac{P(\\mathrm{mRS}\\leq x\\ |\\ t)}{1 - P(\\mathrm{mRS}\\leq x\\ |\\ t)} $$\n",
    "\n",
    "In other words: \n",
    "\n",
    "14: $$ O(\\mathrm{mRS}\\leq x\\ |\\ t) = e^{A + bt} $$\n",
    "\n",
    "$$ O(\\mathrm{mRS}\\leq x\\ |\\ t) = e^{A} \\cdot e^{bt} $$\n",
    "\n",
    "and $A = \\log\\bigl[O(\\mathrm{mRS}\\leq x\\ |\\ t=0)\\bigr]$, so \n",
    "\n",
    "15: $$ O(\\mathrm{mRS}\\leq x\\ |\\ t) = O(\\mathrm{mRS}\\leq x\\ |\\ t=0) \\cdot e^{bt} $$\n",
    "\n",
    "Odds will decay exponentially with time because $b$ is negative."
   ]
  },
  {
   "cell_type": "markdown",
   "id": "9dc15b15-453e-4e63-8f15-4e73a88689f6",
   "metadata": {},
   "source": [
    "##### Plot the odds\n",
    "\n",
    "Plotting Equation 14:"
   ]
  },
  {
   "cell_type": "code",
   "execution_count": 20,
   "id": "596edff4-b15a-478d-8829-b541f0a233ce",
   "metadata": {},
   "outputs": [
    {
     "data": {
      "image/png": "[encoded data removed]",
      "text/plain": [
       "<Figure size 432x288 with 1 Axes>"
      ]
     },
     "metadata": {
      "needs_background": "light"
     },
     "output_type": "display_data"
    }
   ],
   "source": [
    "t = np.arange(0,t_ne)\n",
    "\n",
    "for i,A_i in enumerate(A):\n",
    "    l, = plt.plot(t, np.exp(A_i + b[i]*t), '-', label = f'mRS <= {i}')\n",
    "    colour = l.get_color()\n",
    "    # Scatter the original data:\n",
    "    plt.scatter(   0, mrs_odds_bins_t0_treatment[i], color=colour)\n",
    "    plt.scatter(t_ne, mrs_odds_bins_no_treatment[i], color=colour)\n",
    "\n",
    "plt.legend(loc='best')\n",
    "plt.ylabel('odds')\n",
    "plt.xlabel('Onset to treatment time (mins)')\n",
    "plt.xticks(np.arange(0.0,t_ne+60.0,60.0))\n",
    "plt.title('odds', fontsize=15)\n",
    "plt.show()"
   ]
  },
  {
   "cell_type": "markdown",
   "id": "c87bfe3d-9124-4531-b752-b07f97c43c72",
   "metadata": {},
   "source": [
    "#### Step 6: Find formula for probability:"
   ]
  },
  {
   "cell_type": "markdown",
   "id": "5d94c269-cd36-484e-8b77-d47ce25de684",
   "metadata": {},
   "source": [
    "Now we can solve Equation 13, the odds ratio in exponential form:\n",
    "\n",
    "13: $$e^{A + bt} = \\frac{P(\\mathrm{mRS}\\leq x\\ |\\ t)}{1 - P(\\mathrm{mRS}\\leq x\\ |\\ t)} $$\n",
    "\n",
    "in terms of probability $P \\equiv P(\\mathrm{mRS}\\leq x\\ |\\ t)$ and odds $O=e^{A + bt}$: \n",
    "\n",
    "$$ O = \\frac{P}{1 - P} $$\n",
    "\n",
    "by inverting this to find a formula for $P$:"
   ]
  },
  {
   "cell_type": "markdown",
   "id": "e1a9a090-ccc0-4be0-8ae1-e329ec4d6827",
   "metadata": {},
   "source": [
    "$$\n",
    "\\begin{aligned}\n",
    "O(1-P) & = P \\\\\n",
    "O - (O\\cdot P) & = P \\\\ \n",
    "O & = P + (O\\cdot P) \\\\\n",
    "O & = P(1+O) \\\\\n",
    "\\frac{O}{1+O} & = P \\\\\n",
    "\\end{aligned}\n",
    "$$"
   ]
  },
  {
   "cell_type": "markdown",
   "id": "ca09d192-4335-43b7-a72d-1d6133c11065",
   "metadata": {},
   "source": [
    "To simplify this, we can multiply the left-hand-side by a factor of $\\frac{\\frac{1}{O}}{\\frac{1}{O}}$, which is equal to 1:\n",
    "\n",
    "$$ P = \\frac{O}{1+O} \\cdot  \\frac{\\frac{1}{O}}{\\frac{1}{O}} $$\n",
    "\n",
    "$$ P = \\frac{1}{\\frac{1}{O} + 1}$$\n",
    "\n",
    "Then $\\frac{1}{O} = O^{-1} = (e^{A+bt})^{-1} = e^{-(A+bt)}$, so\n",
    "\n",
    "16: $$ P = \\frac{1}{1+e^{-(A + bt)}} $$\n",
    "\n",
    "So _A_ and _b_ are all that is needed to calculate probability _P_ as a function of time $t$. "
   ]
  },
  {
   "cell_type": "markdown",
   "id": "9c8a7c44-2a5b-49d8-899b-cd46963bbcdd",
   "metadata": {},
   "source": [
    "Equation 16 is almost in the form of a [logistic function](https://en.wikipedia.org/wiki/Logistic_function):\n",
    "\n",
    "$$ f(x) = \\frac{L}{1 + e^{-k(x - x_0)}} $$\n",
    "\n",
    "With one more rearrangement $ A + bt = b\\left(t +\\frac{A}{b}\\right) $, we have:\n",
    "\n",
    "17: $$ P = \\frac{1}{1+e^{-b\\left(t +\\frac{A}{b}\\right)}} $$\n",
    "\n",
    "Compared with $f(x)$ above, $L=1$, $k=b$, $x=t$, and $x_0 = -\\frac{A}{b}$."
   ]
  },
  {
   "cell_type": "markdown",
   "id": "d485f707-3c21-4601-b7d4-1543b5b36562",
   "metadata": {},
   "source": [
    "##### Plot P as a function of time \n",
    "\n",
    "Each mRS value has a different _A_ and _b_ to calculate its probability with time.\n",
    "\n",
    "Because all of the calculations so far have used cumulative probability $P(\\mathrm{mRS}\\leq x\\ |\\ t)$, the lines should be viewed as being stacked on top of each other. \n",
    "\n",
    "We started with the data at t=0 and t=$t_{\\mathrm{ne}}$ and have calculated the lines in between."
   ]
  },
  {
   "cell_type": "code",
   "execution_count": 21,
   "id": "f028aa20-643b-40cf-8fef-333afeba7e22",
   "metadata": {},
   "outputs": [
    {
     "data": {
      "image/png": "[encoded data removed]",
      "text/plain": [
       "<Figure size 432x288 with 1 Axes>"
      ]
     },
     "metadata": {
      "needs_background": "light"
     },
     "output_type": "display_data"
    }
   ],
   "source": [
    "t = np.arange(0,t_ne)\n",
    "\n",
    "for i,A_i in enumerate(A):\n",
    "    p_i = 1.0/(1.0 + np.exp(-b[i]*(t+A_i/b[i])) )\n",
    "    l, = plt.plot(t, p_i, '-', label = f'mRS <= {i}')\n",
    "    colour = l.get_color()\n",
    "    # Scatter the original data:\n",
    "    plt.scatter(0,    mrs_prob_bins_t0_treatment[i], color=colour)\n",
    "    plt.scatter(t_ne, mrs_prob_bins_no_treatment[i], color=colour)\n",
    "\n",
    "# Manually add the mRS<5 line:\n",
    "l, = plt.plot(t, [1.0 for x in t], '-', label = 'mRS <= 5')\n",
    "colour = l.get_color()\n",
    "plt.scatter(0,    mrs_prob_bins_t0_treatment[5], color=colour)\n",
    "plt.scatter(t_ne, mrs_prob_bins_no_treatment[5], color=colour)\n",
    "\n",
    "# The usual setup:\n",
    "plt.ylabel('Probability')\n",
    "plt.xlabel('Onset to treatment time (mins)')\n",
    "plt.xticks(np.arange(0,t_ne+60,60))\n",
    "plt.legend(loc='best')\n",
    "plt.title('probability', fontsize=15)\n",
    "plt.show()"
   ]
  },
  {
   "cell_type": "markdown",
   "id": "120f77e1-13cc-400e-8aea-53270a00acdc",
   "metadata": {},
   "source": [
    "### Sidetrack: Why do the probability lines bend differently?"
   ]
  },
  {
   "cell_type": "markdown",
   "id": "7876c6d2-f545-48db-9e66-34f0db8dc5b5",
   "metadata": {},
   "source": [
    "> This section isn't essential to understanding the probability calculation or the outcome model.\n",
    "\n",
    "In the graph of probability with time, the lines for each mRS follow a different path. The gradient of the bottom mRS$\\leq$0 line becomes less negative with increasing time, as though gradually curving upwards, whereas the top mRS$\\leq$4 line has a gradient becoming more negative with time, as though curving downwards. \n",
    "\n",
    "The reason for this is best explained by showing a similar line, another logistic function, with a new parameter $v=-b(t+\\frac{A}{b})$, so \n",
    "\n",
    "$$ P(v) = \\frac{1}{1+e^{v}} $$"
   ]
  },
  {
   "cell_type": "code",
   "execution_count": 22,
   "id": "912ac47f-fe7e-4aae-b3ee-4660275a624a",
   "metadata": {},
   "outputs": [
    {
     "data": {
      "image/png": "[encoded data removed]",
      "text/plain": [
       "<Figure size 432x288 with 1 Axes>"
      ]
     },
     "metadata": {
      "needs_background": "light"
     },
     "output_type": "display_data"
    }
   ],
   "source": [
    "# Define some new parameter \"v\" for the x-axis:\n",
    "v = np.linspace(-4,4,100)\n",
    "\n",
    "# Add a couple of key lines:\n",
    "plt.axhline(0.5,color='Gainsboro')\n",
    "plt.axvline(0.0,color='Gainsboro')\n",
    "\n",
    "# Plot probability as a function of \"v\":\n",
    "p_v = 1.0/(1.0+np.exp(v))\n",
    "plt.plot(v,p_v)\n",
    "\n",
    "# Draw the straight line connection:\n",
    "plt.plot([v[0],v[-1]], [p_v[0],p_v[-1]],\n",
    "        color='k',linestyle=':')\n",
    "\n",
    "# The usual setup:\n",
    "plt.ylabel('P(v)')\n",
    "plt.xlabel('v')\n",
    "plt.title('probability', fontsize=15)\n",
    "plt.show()"
   ]
  },
  {
   "cell_type": "markdown",
   "id": "e13ce3f9-cbdf-41fe-9dce-52396e79d179",
   "metadata": {},
   "source": [
    "The bend of $P(v)$ changes at $v=0$, where $P(v)=0.5$. The $P(\\mathrm{mRS})$ lines are different shapes because some of them show mostly the $v>0$ curve (i.e. mRS=0,1), and the rest the $v<0$ part (i.e. mRS$\\geq$2). This can be viewed as the $v$-axis here being offset to the right in the $P(t)$ plots above. The size of the offset is different for each mRS line.\n",
    "\n",
    "The find the offset, we can convert from $v$ to $t$. Because $v=-b(t+\\frac{A}{b}) =-(A+bt)$, then $t=-\\frac{1}{b}(v+A)$. On the $t$-axis, the key point corresponding to $v=0$ is $t_k=-\\frac{A}{b}$. This $t_k$ is different for each of the mRS lines, which is why each $P(t)$ line shows a different shift sideways from $P(v)$.  \n",
    "\n",
    "We can plot the $P(t)$ lines again and add the key points where the bend changes:"
   ]
  },
  {
   "cell_type": "code",
   "execution_count": 23,
   "id": "b8d9c3ac-c624-4373-8047-2e401dcab2c3",
   "metadata": {},
   "outputs": [
    {
     "data": {
      "image/png": "[encoded data removed]",
      "text/plain": [
       "<Figure size 432x288 with 1 Axes>"
      ]
     },
     "metadata": {
      "needs_background": "light"
     },
     "output_type": "display_data"
    }
   ],
   "source": [
    "t = np.arange(0,t_ne)\n",
    "\n",
    "# Store the key times t_k in this list:\n",
    "tk_list = []\n",
    "\n",
    "for i,A_i in enumerate(A):    \n",
    "    # Plot probability:\n",
    "    p_i = np.exp(A_i + b[i]*t)/(1+np.exp(A_i + b[i]*t))\n",
    "    l, = plt.plot(t, p_i, '-', label = f'mRS <= {i}')\n",
    "    colour = l.get_color()\n",
    "    \n",
    "    # Mark t=0 and t=t_ne data:\n",
    "    plt.scatter(0,    mrs_prob_bins_t0_treatment[i], color=colour)\n",
    "    plt.scatter(t_ne, mrs_prob_bins_no_treatment[i], color=colour)\n",
    "    \n",
    "    # Calculate the key time and store it:\n",
    "    t_k = -A_i/b[i]\n",
    "    tk_list.append(t_k)\n",
    "    # Mark the key t=-A/b (v=0) point:\n",
    "    label_tk = None if i<4 else 'Shifted v=0'\n",
    "    plt.scatter(t_k, np.exp(A_i + b[i]*t_k)/(1+np.exp(A_i + b[i]*t_k)),\n",
    "                facecolor=colour, edgecolor='k', marker='s', label=label_tk)\n",
    "    \n",
    "# The usual setup:\n",
    "plt.ylabel('Probability')\n",
    "plt.xlabel('Onset to treatment time (mins)')\n",
    "plt.xticks(np.arange(0,max(tk_list)+120,120))\n",
    "plt.legend(loc='best')\n",
    "plt.title('probability', fontsize=15)\n",
    "plt.show()"
   ]
  },
  {
   "cell_type": "markdown",
   "id": "994fc6af-ac20-435e-a303-2a2a57d0e250",
   "metadata": {},
   "source": [
    "Note that the scattered points above at $t=t_k$ all share a probability $P(t=t_k)=0.5$."
   ]
  },
  {
   "cell_type": "code",
   "execution_count": 24,
   "id": "147d17c1-0ba4-4f2a-83fe-82e08630a9fd",
   "metadata": {},
   "outputs": [
    {
     "data": {
      "text/plain": [
       "array([ 33., 161., 314., 505., 809.])"
      ]
     },
     "execution_count": 24,
     "metadata": {},
     "output_type": "execute_result"
    }
   ],
   "source": [
    "# Print the key times:\n",
    "np.round(tk_list,0)"
   ]
  },
  {
   "cell_type": "markdown",
   "id": "3caa7ffd-1917-4506-acc3-75adb4033966",
   "metadata": {},
   "source": [
    "## References\n",
    "\n",
    "Emberson J, Lees KR, Lyden P, et al. Effect of treatment delay, age, and stroke severity on the effects of intravenous thrombolysis with alteplase for acute ischaemic stroke: A meta-analysis of individual patient data from randomised trials. The Lancet 2014;384:1929–35. doi:10.1016/S0140-6736(14)60584-5\n",
    "\n",
    "Fransen PSS, Berkhemer OA, Lingsma HF, et al. Time to Reperfusion and Treatment Effect for Acute Ischemic Stroke: A Randomized Clinical Trial. JAMA Neurol 2016;73:190–6. doi:10.1001/jamaneurol.2015.3886\n",
    "\n",
    "Saver JL, Filip B, Hamilton S, et al. Improving the Reliability of Stroke Disability Grading in Clinical Trials and Clinical Practice. Stroke 2010;41:992–5. doi:10.1161/STROKEAHA.109.571364"
   ]
  }
 ],
 "metadata": {
  "kernelspec": {
   "display_name": "Python 3 (ipykernel)",
   "language": "python",
   "name": "python3"
  },
  "language_info": {
   "codemirror_mode": {
    "name": "ipython",
    "version": 3
   },
   "file_extension": ".py",
   "mimetype": "text/x-python",
   "name": "python",
   "nbconvert_exporter": "python",
   "pygments_lexer": "ipython3",
   "version": "3.9.12"
  }
 },
 "nbformat": 4,
 "nbformat_minor": 5
}
