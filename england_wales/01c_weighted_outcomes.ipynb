{
 "cells": [
  {
   "cell_type": "markdown",
   "id": "8ce4411b-bc71-41e3-9f97-80d4eef35eea",
   "metadata": {},
   "source": [
    "# Weighted population outcomes\n",
    "\n",
    "Use the patient population to combine the outcomes from the separate cohorts.\n",
    "\n",
    "## Notebook setup"
   ]
  },
  {
   "cell_type": "code",
   "execution_count": 1,
   "id": "a1b924f0-a2b6-4e8d-b012-2169bae7aec7",
   "metadata": {},
   "outputs": [],
   "source": [
    "import pandas as pd\n",
    "import numpy as np\n",
    "import os\n",
    "\n",
    "import stroke_outcome.outcome_utilities"
   ]
  },
  {
   "cell_type": "code",
   "execution_count": 2,
   "id": "696b59d1-9a12-4d63-931f-debc368d9fe8",
   "metadata": {},
   "outputs": [],
   "source": [
    "dir_output = 'output'"
   ]
  },
  {
   "cell_type": "markdown",
   "id": "83cc11a9-05f1-4cbe-a4a2-72cf7b225cc9",
   "metadata": {},
   "source": [
    "## Import data\n",
    "\n",
    "Patient proportions:"
   ]
  },
  {
   "cell_type": "code",
   "execution_count": 3,
   "id": "14c3a85e-ee9c-4ef0-8f1b-cfbe3ed33d97",
   "metadata": {},
   "outputs": [],
   "source": [
    "proportions = pd.read_csv(\n",
    "    os.path.join(dir_output, 'patient_proportions.csv'),\n",
    "    index_col=0, header=None).squeeze()"
   ]
  },
  {
   "cell_type": "code",
   "execution_count": 4,
   "id": "ccd23181-0891-440e-b5f9-7644bc2ab93b",
   "metadata": {},
   "outputs": [
    {
     "data": {
      "text/plain": [
       "0\n",
       "haemorrhagic         0.13600\n",
       "lvo_no_treatment     0.14648\n",
       "lvo_ivt_only         0.00840\n",
       "lvo_ivt_mt           0.08500\n",
       "lvo_mt_only          0.01500\n",
       "nlvo_no_treatment    0.50252\n",
       "nlvo_ivt             0.10660\n",
       "Name: 1, dtype: float64"
      ]
     },
     "execution_count": 4,
     "metadata": {},
     "output_type": "execute_result"
    }
   ],
   "source": [
    "proportions"
   ]
  },
  {
   "cell_type": "markdown",
   "id": "e223eaf2-9c9c-42fa-8198-5d742a1cb0a3",
   "metadata": {},
   "source": [
    "Calculate some additional proportions:"
   ]
  },
  {
   "cell_type": "code",
   "execution_count": 5,
   "id": "915d7fcc-b353-4253-95dd-1631fa4ac361",
   "metadata": {},
   "outputs": [
    {
     "data": {
      "text/plain": [
       "0.10840000000000001"
      ]
     },
     "execution_count": 5,
     "metadata": {},
     "output_type": "execute_result"
    }
   ],
   "source": [
    "# Proportion of treated LVO patients:\n",
    "prop_lvo = 0.0\n",
    "\n",
    "for key, value in proportions.items():\n",
    "    if (('lvo' in key) & ('nlvo' not in key) & ('no_treat' not in key)):\n",
    "        prop_lvo += value\n",
    "\n",
    "prop_lvo"
   ]
  },
  {
   "cell_type": "code",
   "execution_count": 6,
   "id": "74ec04e6-25bd-4113-84cf-a096a1ba3bf3",
   "metadata": {},
   "outputs": [
    {
     "data": {
      "text/plain": [
       "0.21500000000000002"
      ]
     },
     "execution_count": 6,
     "metadata": {},
     "output_type": "execute_result"
    }
   ],
   "source": [
    "# Proportion of treated ischaemic patients:\n",
    "prop_ischaemic_treated = 0.0\n",
    "\n",
    "for key, value in proportions.items():\n",
    "    if (('lvo' in key) & ('no_treat' not in key)):\n",
    "        prop_ischaemic_treated += value\n",
    "\n",
    "prop_ischaemic_treated"
   ]
  },
  {
   "cell_type": "code",
   "execution_count": 7,
   "id": "9fc76da2-5978-4bed-bd1f-00699aa08fe9",
   "metadata": {},
   "outputs": [
    {
     "data": {
      "text/plain": [
       "0.864"
      ]
     },
     "execution_count": 7,
     "metadata": {},
     "output_type": "execute_result"
    }
   ],
   "source": [
    "# Proportion of ischaemic patients:\n",
    "prop_ischaemic = 1.0 - proportions['haemorrhagic']\n",
    "\n",
    "prop_ischaemic"
   ]
  },
  {
   "cell_type": "markdown",
   "id": "62f0649f-f026-41e2-bd3a-1f89967b5bb5",
   "metadata": {},
   "source": [
    "Outcomes:"
   ]
  },
  {
   "cell_type": "code",
   "execution_count": 8,
   "id": "40024c25-54d7-4e52-8e3b-c596cf099fc3",
   "metadata": {},
   "outputs": [],
   "source": [
    "df_results = pd.read_csv(os.path.join(dir_output, 'cohort_outcomes.csv'), index_col=0)"
   ]
  },
  {
   "cell_type": "code",
   "execution_count": 9,
   "id": "0b618867-1b2d-4bd6-8c68-7f7235de9ef2",
   "metadata": {},
   "outputs": [
    {
     "name": "stdout",
     "output_type": "stream",
     "text": [
      "<class 'pandas.core.frame.DataFrame'>\n",
      "Index: 34752 entries, Adur 001A to York 024F\n",
      "Data columns (total 51 columns):\n",
      " #   Column                                        Non-Null Count  Dtype  \n",
      "---  ------                                        --------------  -----  \n",
      " 0   closest_ivt_time                              34752 non-null  float64\n",
      " 1   closest_ivt_unit                              34752 non-null  object \n",
      " 2   closest_mt_time                               34752 non-null  float64\n",
      " 3   closest_mt_unit                               34752 non-null  object \n",
      " 4   transfer_mt_time                              34752 non-null  float64\n",
      " 5   transfer_mt_unit                              34752 non-null  object \n",
      " 6   mt_transfer_required                          34752 non-null  bool   \n",
      " 7   ivt_drip_ship                                 34752 non-null  float64\n",
      " 8   mt_drip_ship                                  34752 non-null  float64\n",
      " 9   ivt_mothership                                34752 non-null  float64\n",
      " 10  mt_mothership                                 34752 non-null  float64\n",
      " 11  drip_ship_nlvo_ivt_added_utility              34752 non-null  float64\n",
      " 12  drip_ship_nlvo_ivt_mean_mrs                   34752 non-null  float64\n",
      " 13  drip_ship_nlvo_ivt_mrs_less_equal_2           34752 non-null  float64\n",
      " 14  drip_ship_nlvo_ivt_mrs_shift                  34752 non-null  float64\n",
      " 15  drip_ship_nlvo_ivt_added_mrs_less_equal_2     34752 non-null  float64\n",
      " 16  drip_ship_lvo_ivt_added_utility               34752 non-null  float64\n",
      " 17  drip_ship_lvo_ivt_mean_mrs                    34752 non-null  float64\n",
      " 18  drip_ship_lvo_ivt_mrs_less_equal_2            34752 non-null  float64\n",
      " 19  drip_ship_lvo_ivt_mrs_shift                   34752 non-null  float64\n",
      " 20  drip_ship_lvo_ivt_added_mrs_less_equal_2      34752 non-null  float64\n",
      " 21  drip_ship_lvo_ivt_mt_added_utility            34752 non-null  float64\n",
      " 22  drip_ship_lvo_ivt_mt_mean_mrs                 34752 non-null  float64\n",
      " 23  drip_ship_lvo_ivt_mt_mrs_less_equal_2         34752 non-null  float64\n",
      " 24  drip_ship_lvo_ivt_mt_mrs_shift                34752 non-null  float64\n",
      " 25  drip_ship_lvo_ivt_mt_added_mrs_less_equal_2   34752 non-null  float64\n",
      " 26  drip_ship_lvo_mt_added_utility                34752 non-null  float64\n",
      " 27  drip_ship_lvo_mt_mean_mrs                     34752 non-null  float64\n",
      " 28  drip_ship_lvo_mt_mrs_less_equal_2             34752 non-null  float64\n",
      " 29  drip_ship_lvo_mt_mrs_shift                    34752 non-null  float64\n",
      " 30  drip_ship_lvo_mt_added_mrs_less_equal_2       34752 non-null  float64\n",
      " 31  mothership_nlvo_ivt_added_utility             34752 non-null  float64\n",
      " 32  mothership_nlvo_ivt_mean_mrs                  34752 non-null  float64\n",
      " 33  mothership_nlvo_ivt_mrs_less_equal_2          34752 non-null  float64\n",
      " 34  mothership_nlvo_ivt_mrs_shift                 34752 non-null  float64\n",
      " 35  mothership_nlvo_ivt_added_mrs_less_equal_2    34752 non-null  float64\n",
      " 36  mothership_lvo_ivt_added_utility              34752 non-null  float64\n",
      " 37  mothership_lvo_ivt_mean_mrs                   34752 non-null  float64\n",
      " 38  mothership_lvo_ivt_mrs_less_equal_2           34752 non-null  float64\n",
      " 39  mothership_lvo_ivt_mrs_shift                  34752 non-null  float64\n",
      " 40  mothership_lvo_ivt_added_mrs_less_equal_2     34752 non-null  float64\n",
      " 41  mothership_lvo_ivt_mt_added_utility           34752 non-null  float64\n",
      " 42  mothership_lvo_ivt_mt_mean_mrs                34752 non-null  float64\n",
      " 43  mothership_lvo_ivt_mt_mrs_less_equal_2        34752 non-null  float64\n",
      " 44  mothership_lvo_ivt_mt_mrs_shift               34752 non-null  float64\n",
      " 45  mothership_lvo_ivt_mt_added_mrs_less_equal_2  34752 non-null  float64\n",
      " 46  mothership_lvo_mt_added_utility               34752 non-null  float64\n",
      " 47  mothership_lvo_mt_mean_mrs                    34752 non-null  float64\n",
      " 48  mothership_lvo_mt_mrs_less_equal_2            34752 non-null  float64\n",
      " 49  mothership_lvo_mt_mrs_shift                   34752 non-null  float64\n",
      " 50  mothership_lvo_mt_added_mrs_less_equal_2      34752 non-null  float64\n",
      "dtypes: bool(1), float64(47), object(3)\n",
      "memory usage: 13.6+ MB\n"
     ]
    }
   ],
   "source": [
    "df_results.info()"
   ]
  },
  {
   "cell_type": "markdown",
   "id": "31b66a45-235b-4bac-808d-028d352c216b",
   "metadata": {},
   "source": [
    "mRS distributions:"
   ]
  },
  {
   "cell_type": "code",
   "execution_count": 10,
   "id": "237b6893-977d-40eb-b049-fd959a5fa140",
   "metadata": {},
   "outputs": [],
   "source": [
    "df_mrs = pd.read_csv(os.path.join(dir_output, 'cohort_mrs_dists.csv'), index_col=0)"
   ]
  },
  {
   "cell_type": "code",
   "execution_count": 11,
   "id": "1b18d1c7-2956-4308-b775-a93f31354f51",
   "metadata": {},
   "outputs": [
    {
     "name": "stdout",
     "output_type": "stream",
     "text": [
      "<class 'pandas.core.frame.DataFrame'>\n",
      "Index: 34752 entries, Adur 001A to York 024F\n",
      "Data columns (total 67 columns):\n",
      " #   Column                             Non-Null Count  Dtype  \n",
      "---  ------                             --------------  -----  \n",
      " 0   closest_ivt_time                   34752 non-null  float64\n",
      " 1   closest_ivt_unit                   34752 non-null  object \n",
      " 2   closest_mt_time                    34752 non-null  float64\n",
      " 3   closest_mt_unit                    34752 non-null  object \n",
      " 4   transfer_mt_time                   34752 non-null  float64\n",
      " 5   transfer_mt_unit                   34752 non-null  object \n",
      " 6   mt_transfer_required               34752 non-null  bool   \n",
      " 7   ivt_drip_ship                      34752 non-null  float64\n",
      " 8   mt_drip_ship                       34752 non-null  float64\n",
      " 9   ivt_mothership                     34752 non-null  float64\n",
      " 10  mt_mothership                      34752 non-null  float64\n",
      " 11  drip_ship_nlvo_ivt_mrs_dists_0     34752 non-null  float64\n",
      " 12  drip_ship_nlvo_ivt_mrs_dists_1     34752 non-null  float64\n",
      " 13  drip_ship_nlvo_ivt_mrs_dists_2     34752 non-null  float64\n",
      " 14  drip_ship_nlvo_ivt_mrs_dists_3     34752 non-null  float64\n",
      " 15  drip_ship_nlvo_ivt_mrs_dists_4     34752 non-null  float64\n",
      " 16  drip_ship_nlvo_ivt_mrs_dists_5     34752 non-null  float64\n",
      " 17  drip_ship_nlvo_ivt_mrs_dists_6     34752 non-null  float64\n",
      " 18  drip_ship_lvo_ivt_mrs_dists_0      34752 non-null  float64\n",
      " 19  drip_ship_lvo_ivt_mrs_dists_1      34752 non-null  float64\n",
      " 20  drip_ship_lvo_ivt_mrs_dists_2      34752 non-null  float64\n",
      " 21  drip_ship_lvo_ivt_mrs_dists_3      34752 non-null  float64\n",
      " 22  drip_ship_lvo_ivt_mrs_dists_4      34752 non-null  float64\n",
      " 23  drip_ship_lvo_ivt_mrs_dists_5      34752 non-null  float64\n",
      " 24  drip_ship_lvo_ivt_mrs_dists_6      34752 non-null  float64\n",
      " 25  drip_ship_lvo_ivt_mt_mrs_dists_0   34752 non-null  float64\n",
      " 26  drip_ship_lvo_ivt_mt_mrs_dists_1   34752 non-null  float64\n",
      " 27  drip_ship_lvo_ivt_mt_mrs_dists_2   34752 non-null  float64\n",
      " 28  drip_ship_lvo_ivt_mt_mrs_dists_3   34752 non-null  float64\n",
      " 29  drip_ship_lvo_ivt_mt_mrs_dists_4   34752 non-null  float64\n",
      " 30  drip_ship_lvo_ivt_mt_mrs_dists_5   34752 non-null  float64\n",
      " 31  drip_ship_lvo_ivt_mt_mrs_dists_6   34752 non-null  float64\n",
      " 32  drip_ship_lvo_mt_mrs_dists_0       34752 non-null  float64\n",
      " 33  drip_ship_lvo_mt_mrs_dists_1       34752 non-null  float64\n",
      " 34  drip_ship_lvo_mt_mrs_dists_2       34752 non-null  float64\n",
      " 35  drip_ship_lvo_mt_mrs_dists_3       34752 non-null  float64\n",
      " 36  drip_ship_lvo_mt_mrs_dists_4       34752 non-null  float64\n",
      " 37  drip_ship_lvo_mt_mrs_dists_5       34752 non-null  float64\n",
      " 38  drip_ship_lvo_mt_mrs_dists_6       34752 non-null  float64\n",
      " 39  mothership_nlvo_ivt_mrs_dists_0    34752 non-null  float64\n",
      " 40  mothership_nlvo_ivt_mrs_dists_1    34752 non-null  float64\n",
      " 41  mothership_nlvo_ivt_mrs_dists_2    34752 non-null  float64\n",
      " 42  mothership_nlvo_ivt_mrs_dists_3    34752 non-null  float64\n",
      " 43  mothership_nlvo_ivt_mrs_dists_4    34752 non-null  float64\n",
      " 44  mothership_nlvo_ivt_mrs_dists_5    34752 non-null  float64\n",
      " 45  mothership_nlvo_ivt_mrs_dists_6    34752 non-null  float64\n",
      " 46  mothership_lvo_ivt_mrs_dists_0     34752 non-null  float64\n",
      " 47  mothership_lvo_ivt_mrs_dists_1     34752 non-null  float64\n",
      " 48  mothership_lvo_ivt_mrs_dists_2     34752 non-null  float64\n",
      " 49  mothership_lvo_ivt_mrs_dists_3     34752 non-null  float64\n",
      " 50  mothership_lvo_ivt_mrs_dists_4     34752 non-null  float64\n",
      " 51  mothership_lvo_ivt_mrs_dists_5     34752 non-null  float64\n",
      " 52  mothership_lvo_ivt_mrs_dists_6     34752 non-null  float64\n",
      " 53  mothership_lvo_ivt_mt_mrs_dists_0  34752 non-null  float64\n",
      " 54  mothership_lvo_ivt_mt_mrs_dists_1  34752 non-null  float64\n",
      " 55  mothership_lvo_ivt_mt_mrs_dists_2  34752 non-null  float64\n",
      " 56  mothership_lvo_ivt_mt_mrs_dists_3  34752 non-null  float64\n",
      " 57  mothership_lvo_ivt_mt_mrs_dists_4  34752 non-null  float64\n",
      " 58  mothership_lvo_ivt_mt_mrs_dists_5  34752 non-null  float64\n",
      " 59  mothership_lvo_ivt_mt_mrs_dists_6  34752 non-null  float64\n",
      " 60  mothership_lvo_mt_mrs_dists_0      34752 non-null  float64\n",
      " 61  mothership_lvo_mt_mrs_dists_1      34752 non-null  float64\n",
      " 62  mothership_lvo_mt_mrs_dists_2      34752 non-null  float64\n",
      " 63  mothership_lvo_mt_mrs_dists_3      34752 non-null  float64\n",
      " 64  mothership_lvo_mt_mrs_dists_4      34752 non-null  float64\n",
      " 65  mothership_lvo_mt_mrs_dists_5      34752 non-null  float64\n",
      " 66  mothership_lvo_mt_mrs_dists_6      34752 non-null  float64\n",
      "dtypes: bool(1), float64(63), object(3)\n",
      "memory usage: 17.8+ MB\n"
     ]
    }
   ],
   "source": [
    "df_mrs.info()"
   ]
  },
  {
   "attachments": {},
   "cell_type": "markdown",
   "id": "5dc22304-7974-4818-b5f7-629c0b84dd93",
   "metadata": {},
   "source": [
    "## Mean outcomes\n",
    "\n",
    "### Combine LVO results\n",
    "\n",
    "Combine the separate IVT, MT, and IVT and MT cohorts for LVO into one \"LVO\" group."
   ]
  },
  {
   "cell_type": "code",
   "execution_count": 12,
   "id": "dcf6ea4d-4fbd-48f4-8024-cb10b7a32df0",
   "metadata": {},
   "outputs": [],
   "source": [
    "for model_name in ['drip_ship', 'mothership']:\n",
    "    for outcome_name in ['added_utility', 'mrs_less_equal_2', 'mrs_shift', 'added_mrs_less_equal_2']:\n",
    "        # New column for results:\n",
    "        col = f'{model_name}_lvo_mix_{outcome_name}'\n",
    "        \n",
    "        # Combine results:\n",
    "        df_results[col] = (\n",
    "            (df_results[f'{model_name}_lvo_ivt_{outcome_name}'] * proportions['lvo_ivt_only']) +\n",
    "            (df_results[f'{model_name}_lvo_mt_{outcome_name}'] * proportions['lvo_mt_only']) +\n",
    "            (df_results[f'{model_name}_lvo_ivt_mt_{outcome_name}'] * proportions['lvo_ivt_mt'])\n",
    "        )\n",
    "\n",
    "        # Divide by proportion of LVO patients:\n",
    "        df_results[col] = df_results[col] / prop_lvo"
   ]
  },
  {
   "attachments": {},
   "cell_type": "markdown",
   "id": "5022d417-9be8-412a-aaf9-130be434638a",
   "metadata": {},
   "source": [
    "### Calculate treatment rates based on expected proportions of LVO/nLVO\n",
    "\n",
    "Add weighted benefit based on proportions of treated LVO and nLVO: Add weighted utility, mrs<=2, and mean_shift based on stroke type and treatment rates.\n",
    "\n",
    "The expected shift from the no-treatment outcomes is zero for the following groups:\n",
    "+ Haemorrhagic\n",
    "+ LVO no treatment\n",
    "+ nLVO no treatment\n",
    "\n",
    "so we can skip adding them in the following equation."
   ]
  },
  {
   "cell_type": "code",
   "execution_count": 13,
   "id": "b0d66d4d-23a8-4753-ae2c-b3eaf724f2f1",
   "metadata": {},
   "outputs": [],
   "source": [
    "for model_name in ['drip_ship', 'mothership']:\n",
    "    for outcome_name in ['added_utility', 'mrs_less_equal_2', 'mrs_shift', 'added_mrs_less_equal_2']:\n",
    "        col = f'{model_name}_weighted_{outcome_name}'\n",
    "        df_results[col] = (\n",
    "            (df_results[f'{model_name}_nlvo_ivt_{outcome_name}'] * proportions['nlvo_ivt']) +\n",
    "            (df_results[f'{model_name}_lvo_ivt_{outcome_name}'] * proportions['lvo_ivt_only']) +\n",
    "            (df_results[f'{model_name}_lvo_mt_{outcome_name}'] * proportions['lvo_mt_only']) +\n",
    "            (df_results[f'{model_name}_lvo_ivt_mt_{outcome_name}'] * proportions['lvo_ivt_mt'])\n",
    "        )\n",
    "        # Remove proportion of non-ischaemic patients:\n",
    "        df_results[col] = df_results[col] / (1.0 - proportions['haemorrhagic'])"
   ]
  },
  {
   "cell_type": "code",
   "execution_count": 14,
   "id": "fbda5f4c-42c3-47ab-987b-371583f2bdc7",
   "metadata": {},
   "outputs": [
    {
     "data": {
      "text/html": [
       "<div>\n",
       "<style scoped>\n",
       "    .dataframe tbody tr th:only-of-type {\n",
       "        vertical-align: middle;\n",
       "    }\n",
       "\n",
       "    .dataframe tbody tr th {\n",
       "        vertical-align: top;\n",
       "    }\n",
       "\n",
       "    .dataframe thead th {\n",
       "        text-align: right;\n",
       "    }\n",
       "</style>\n",
       "<table border=\"1\" class=\"dataframe\">\n",
       "  <thead>\n",
       "    <tr style=\"text-align: right;\">\n",
       "      <th>LSOA</th>\n",
       "      <th>Adur 001A</th>\n",
       "      <th>Adur 001B</th>\n",
       "      <th>Adur 001C</th>\n",
       "      <th>Adur 001D</th>\n",
       "      <th>Adur 001E</th>\n",
       "    </tr>\n",
       "  </thead>\n",
       "  <tbody>\n",
       "    <tr>\n",
       "      <th>closest_ivt_time</th>\n",
       "      <td>17.6</td>\n",
       "      <td>18.7</td>\n",
       "      <td>17.6</td>\n",
       "      <td>17.6</td>\n",
       "      <td>16.5</td>\n",
       "    </tr>\n",
       "    <tr>\n",
       "      <th>closest_ivt_unit</th>\n",
       "      <td>BN25BE</td>\n",
       "      <td>BN25BE</td>\n",
       "      <td>BN112DH</td>\n",
       "      <td>BN112DH</td>\n",
       "      <td>BN112DH</td>\n",
       "    </tr>\n",
       "    <tr>\n",
       "      <th>closest_mt_time</th>\n",
       "      <td>17.6</td>\n",
       "      <td>18.7</td>\n",
       "      <td>19.8</td>\n",
       "      <td>19.8</td>\n",
       "      <td>19.8</td>\n",
       "    </tr>\n",
       "    <tr>\n",
       "      <th>closest_mt_unit</th>\n",
       "      <td>BN25BE</td>\n",
       "      <td>BN25BE</td>\n",
       "      <td>BN25BE</td>\n",
       "      <td>BN25BE</td>\n",
       "      <td>BN25BE</td>\n",
       "    </tr>\n",
       "    <tr>\n",
       "      <th>transfer_mt_time</th>\n",
       "      <td>0.0</td>\n",
       "      <td>0.0</td>\n",
       "      <td>31.6</td>\n",
       "      <td>31.6</td>\n",
       "      <td>31.6</td>\n",
       "    </tr>\n",
       "    <tr>\n",
       "      <th>...</th>\n",
       "      <td>...</td>\n",
       "      <td>...</td>\n",
       "      <td>...</td>\n",
       "      <td>...</td>\n",
       "      <td>...</td>\n",
       "    </tr>\n",
       "    <tr>\n",
       "      <th>drip_ship_weighted_added_mrs_less_equal_2</th>\n",
       "      <td>0.036258</td>\n",
       "      <td>0.036112</td>\n",
       "      <td>0.029515</td>\n",
       "      <td>0.029515</td>\n",
       "      <td>0.029658</td>\n",
       "    </tr>\n",
       "    <tr>\n",
       "      <th>mothership_weighted_added_utility</th>\n",
       "      <td>0.033925</td>\n",
       "      <td>0.033791</td>\n",
       "      <td>0.033656</td>\n",
       "      <td>0.033656</td>\n",
       "      <td>0.033656</td>\n",
       "    </tr>\n",
       "    <tr>\n",
       "      <th>mothership_weighted_mrs_less_equal_2</th>\n",
       "      <td>0.141066</td>\n",
       "      <td>0.14092</td>\n",
       "      <td>0.140774</td>\n",
       "      <td>0.140774</td>\n",
       "      <td>0.140774</td>\n",
       "    </tr>\n",
       "    <tr>\n",
       "      <th>mothership_weighted_mrs_shift</th>\n",
       "      <td>-0.178152</td>\n",
       "      <td>-0.1774</td>\n",
       "      <td>-0.176649</td>\n",
       "      <td>-0.176649</td>\n",
       "      <td>-0.176649</td>\n",
       "    </tr>\n",
       "    <tr>\n",
       "      <th>mothership_weighted_added_mrs_less_equal_2</th>\n",
       "      <td>0.036258</td>\n",
       "      <td>0.036112</td>\n",
       "      <td>0.035966</td>\n",
       "      <td>0.035966</td>\n",
       "      <td>0.035966</td>\n",
       "    </tr>\n",
       "  </tbody>\n",
       "</table>\n",
       "<p>67 rows × 5 columns</p>\n",
       "</div>"
      ],
      "text/plain": [
       "LSOA                                       Adur 001A Adur 001B Adur 001C  \\\n",
       "closest_ivt_time                                17.6      18.7      17.6   \n",
       "closest_ivt_unit                              BN25BE    BN25BE   BN112DH   \n",
       "closest_mt_time                                 17.6      18.7      19.8   \n",
       "closest_mt_unit                               BN25BE    BN25BE    BN25BE   \n",
       "transfer_mt_time                                 0.0       0.0      31.6   \n",
       "...                                              ...       ...       ...   \n",
       "drip_ship_weighted_added_mrs_less_equal_2   0.036258  0.036112  0.029515   \n",
       "mothership_weighted_added_utility           0.033925  0.033791  0.033656   \n",
       "mothership_weighted_mrs_less_equal_2        0.141066   0.14092  0.140774   \n",
       "mothership_weighted_mrs_shift              -0.178152   -0.1774 -0.176649   \n",
       "mothership_weighted_added_mrs_less_equal_2  0.036258  0.036112  0.035966   \n",
       "\n",
       "LSOA                                       Adur 001D Adur 001E  \n",
       "closest_ivt_time                                17.6      16.5  \n",
       "closest_ivt_unit                             BN112DH   BN112DH  \n",
       "closest_mt_time                                 19.8      19.8  \n",
       "closest_mt_unit                               BN25BE    BN25BE  \n",
       "transfer_mt_time                                31.6      31.6  \n",
       "...                                              ...       ...  \n",
       "drip_ship_weighted_added_mrs_less_equal_2   0.029515  0.029658  \n",
       "mothership_weighted_added_utility           0.033656  0.033656  \n",
       "mothership_weighted_mrs_less_equal_2        0.140774  0.140774  \n",
       "mothership_weighted_mrs_shift              -0.176649 -0.176649  \n",
       "mothership_weighted_added_mrs_less_equal_2  0.035966  0.035966  \n",
       "\n",
       "[67 rows x 5 columns]"
      ]
     },
     "execution_count": 14,
     "metadata": {},
     "output_type": "execute_result"
    }
   ],
   "source": [
    "# Show results\n",
    "df_results.head().T"
   ]
  },
  {
   "cell_type": "markdown",
   "id": "7279e958-9b2f-458a-a5ab-b9147cec42e1",
   "metadata": {},
   "source": [
    "Save to file:"
   ]
  },
  {
   "cell_type": "code",
   "execution_count": 15,
   "id": "8baddb96-d2df-418f-834e-1fecc56cbf13",
   "metadata": {},
   "outputs": [],
   "source": [
    "# Save\n",
    "df_results.to_csv(os.path.join(dir_output, 'cohort_outcomes_weighted.csv'), index_label='lsoa')"
   ]
  },
  {
   "cell_type": "code",
   "execution_count": 16,
   "id": "f1f6435b-d14b-42f6-afcf-0b11c997ad8e",
   "metadata": {},
   "outputs": [
    {
     "name": "stderr",
     "output_type": "stream",
     "text": [
      "/tmp/ipykernel_13489/164885061.py:1: FutureWarning: The default value of numeric_only in DataFrame.mean is deprecated. In a future version, it will default to False. In addition, specifying 'numeric_only=None' is deprecated. Select only valid columns or specify the value of numeric_only to silence this warning.\n",
      "  summary = df_results.mean(axis=0).T\n"
     ]
    },
    {
     "data": {
      "text/plain": [
       "closest_ivt_time                               19.548181\n",
       "closest_mt_time                                34.939310\n",
       "transfer_mt_time                               27.509447\n",
       "mt_transfer_required                            0.675098\n",
       "ivt_drip_ship                                 109.548181\n",
       "                                                 ...    \n",
       "drip_ship_weighted_added_mrs_less_equal_2       0.031021\n",
       "mothership_weighted_added_utility               0.031797\n",
       "mothership_weighted_mrs_less_equal_2            0.138757\n",
       "mothership_weighted_mrs_shift                  -0.166331\n",
       "mothership_weighted_added_mrs_less_equal_2      0.033949\n",
       "Length: 64, dtype: float64"
      ]
     },
     "execution_count": 16,
     "metadata": {},
     "output_type": "execute_result"
    }
   ],
   "source": [
    "summary = df_results.mean(axis=0).T\n",
    "summary.to_csv(os.path.join(dir_output, 'cohort_outcomes_weighted_summary.csv'), index_label='lsoa')\n",
    "summary"
   ]
  },
  {
   "cell_type": "markdown",
   "id": "50527d49-f25d-4aa1-9dca-b51edcda8c57",
   "metadata": {},
   "source": [
    "## mRS distributions\n",
    "\n",
    "### Load in admissions data"
   ]
  },
  {
   "cell_type": "code",
   "execution_count": 17,
   "id": "45e0d2fd-4570-4266-8a61-286e1a3ae102",
   "metadata": {},
   "outputs": [],
   "source": [
    "admissions = pd.read_csv('./data/lsoa_predicted_admissions.csv')"
   ]
  },
  {
   "cell_type": "code",
   "execution_count": 18,
   "id": "49815461-52dd-41a8-b908-1e216286fce4",
   "metadata": {},
   "outputs": [
    {
     "data": {
      "text/html": [
       "<div>\n",
       "<style scoped>\n",
       "    .dataframe tbody tr th:only-of-type {\n",
       "        vertical-align: middle;\n",
       "    }\n",
       "\n",
       "    .dataframe tbody tr th {\n",
       "        vertical-align: top;\n",
       "    }\n",
       "\n",
       "    .dataframe thead th {\n",
       "        text-align: right;\n",
       "    }\n",
       "</style>\n",
       "<table border=\"1\" class=\"dataframe\">\n",
       "  <thead>\n",
       "    <tr style=\"text-align: right;\">\n",
       "      <th></th>\n",
       "      <th>lsoa11cd</th>\n",
       "      <th>lsoa11nm</th>\n",
       "      <th>msoa11cd</th>\n",
       "      <th>msoa11nm</th>\n",
       "      <th>country</th>\n",
       "      <th>LSOA_predicted_admissions</th>\n",
       "    </tr>\n",
       "  </thead>\n",
       "  <tbody>\n",
       "    <tr>\n",
       "      <th>0</th>\n",
       "      <td>E01000001</td>\n",
       "      <td>City of London 001A</td>\n",
       "      <td>E02000001</td>\n",
       "      <td>City of London 001</td>\n",
       "      <td>E</td>\n",
       "      <td>1.569672</td>\n",
       "    </tr>\n",
       "    <tr>\n",
       "      <th>1</th>\n",
       "      <td>E01000002</td>\n",
       "      <td>City of London 001B</td>\n",
       "      <td>E02000001</td>\n",
       "      <td>City of London 001</td>\n",
       "      <td>E</td>\n",
       "      <td>1.569672</td>\n",
       "    </tr>\n",
       "    <tr>\n",
       "      <th>2</th>\n",
       "      <td>E01000003</td>\n",
       "      <td>City of London 001C</td>\n",
       "      <td>E02000001</td>\n",
       "      <td>City of London 001</td>\n",
       "      <td>E</td>\n",
       "      <td>1.569672</td>\n",
       "    </tr>\n",
       "  </tbody>\n",
       "</table>\n",
       "</div>"
      ],
      "text/plain": [
       "    lsoa11cd             lsoa11nm   msoa11cd            msoa11nm country  \\\n",
       "0  E01000001  City of London 001A  E02000001  City of London 001       E   \n",
       "1  E01000002  City of London 001B  E02000001  City of London 001       E   \n",
       "2  E01000003  City of London 001C  E02000001  City of London 001       E   \n",
       "\n",
       "   LSOA_predicted_admissions  \n",
       "0                   1.569672  \n",
       "1                   1.569672  \n",
       "2                   1.569672  "
      ]
     },
     "execution_count": 18,
     "metadata": {},
     "output_type": "execute_result"
    }
   ],
   "source": [
    "admissions.head(3)"
   ]
  },
  {
   "cell_type": "code",
   "execution_count": 19,
   "id": "558aff99-54ea-4d4d-9768-44ddf1606172",
   "metadata": {},
   "outputs": [],
   "source": [
    "df_mrs = pd.merge(\n",
    "    df_mrs.reset_index(), admissions[['lsoa11nm', 'LSOA_predicted_admissions']],\n",
    "    left_on='LSOA', right_on='lsoa11nm', how='left'\n",
    ")"
   ]
  },
  {
   "cell_type": "markdown",
   "id": "15990963-8ae6-4304-bfa7-24330a36ceab",
   "metadata": {},
   "source": [
    "### Make non-cumulative mRS distributions"
   ]
  },
  {
   "cell_type": "code",
   "execution_count": 20,
   "id": "1d712728-171d-45c9-8dad-1058550492eb",
   "metadata": {},
   "outputs": [],
   "source": [
    "cols_to_combine = [c for c in df_mrs.columns if 'dist' in c]\n",
    "# Remove repeats from all the mRS bands:\n",
    "cols_each_scen = sorted(list(set(['_'.join(c.split('_')[:-1]) for c in cols_to_combine])))"
   ]
  },
  {
   "cell_type": "code",
   "execution_count": 21,
   "id": "26e12e4a-3168-4228-869b-f7a609b09573",
   "metadata": {},
   "outputs": [
    {
     "data": {
      "text/plain": [
       "['drip_ship_lvo_ivt_mrs_dists',\n",
       " 'drip_ship_lvo_ivt_mt_mrs_dists',\n",
       " 'drip_ship_lvo_mt_mrs_dists',\n",
       " 'drip_ship_nlvo_ivt_mrs_dists',\n",
       " 'mothership_lvo_ivt_mrs_dists',\n",
       " 'mothership_lvo_ivt_mt_mrs_dists',\n",
       " 'mothership_lvo_mt_mrs_dists',\n",
       " 'mothership_nlvo_ivt_mrs_dists']"
      ]
     },
     "execution_count": 21,
     "metadata": {},
     "output_type": "execute_result"
    }
   ],
   "source": [
    "cols_each_scen"
   ]
  },
  {
   "cell_type": "code",
   "execution_count": 22,
   "id": "cbd0317b-06f6-4072-b3e5-ca3c5a563fad",
   "metadata": {},
   "outputs": [],
   "source": [
    "# Make non-cumulative mRS distributions:\n",
    "for c in cols_each_scen:\n",
    "    cols_cumsum = [f'{c}_{i}' for i in range(7)]\n",
    "    cols_noncum = [f'{c}_noncum_{i}' for i in range(7)]\n",
    "\n",
    "    new_data = df_mrs[cols_cumsum].copy()\n",
    "    # Take the difference between mRS bands:\n",
    "    new_data = np.diff(new_data, prepend=0.0, axis=1)\n",
    "    # Round the values:\n",
    "    new_data = np.round(new_data, 5)\n",
    "    # Store:\n",
    "    df_mrs[cols_noncum] = new_data"
   ]
  },
  {
   "cell_type": "markdown",
   "id": "4e597b59-72d0-48d4-91ff-40b6fe313ae9",
   "metadata": {},
   "source": [
    "### Import reference no-treatment data"
   ]
  },
  {
   "cell_type": "code",
   "execution_count": 23,
   "id": "096ad86c-7e9a-4c3d-ba38-fa218ddb8eab",
   "metadata": {},
   "outputs": [],
   "source": [
    "mrs_dists, mrs_dists_notes = (\n",
    "    stroke_outcome.outcome_utilities.import_mrs_dists_from_file())"
   ]
  },
  {
   "cell_type": "code",
   "execution_count": 24,
   "id": "6f6f12e8-ba36-4e11-8176-09233129a81f",
   "metadata": {},
   "outputs": [
    {
     "data": {
      "text/html": [
       "<div>\n",
       "<style scoped>\n",
       "    .dataframe tbody tr th:only-of-type {\n",
       "        vertical-align: middle;\n",
       "    }\n",
       "\n",
       "    .dataframe tbody tr th {\n",
       "        vertical-align: top;\n",
       "    }\n",
       "\n",
       "    .dataframe thead th {\n",
       "        text-align: right;\n",
       "    }\n",
       "</style>\n",
       "<table border=\"1\" class=\"dataframe\">\n",
       "  <thead>\n",
       "    <tr style=\"text-align: right;\">\n",
       "      <th></th>\n",
       "      <th>mRS&lt;=0</th>\n",
       "      <th>mRS&lt;=1</th>\n",
       "      <th>mRS&lt;=2</th>\n",
       "      <th>mRS&lt;=3</th>\n",
       "      <th>mRS&lt;=4</th>\n",
       "      <th>mRS&lt;=5</th>\n",
       "      <th>mRS&lt;=6</th>\n",
       "    </tr>\n",
       "    <tr>\n",
       "      <th>Stroke type</th>\n",
       "      <th></th>\n",
       "      <th></th>\n",
       "      <th></th>\n",
       "      <th></th>\n",
       "      <th></th>\n",
       "      <th></th>\n",
       "      <th></th>\n",
       "    </tr>\n",
       "  </thead>\n",
       "  <tbody>\n",
       "    <tr>\n",
       "      <th>pre_stroke_nlvo</th>\n",
       "      <td>0.583</td>\n",
       "      <td>0.746</td>\n",
       "      <td>0.850</td>\n",
       "      <td>0.951</td>\n",
       "      <td>0.993</td>\n",
       "      <td>1.000</td>\n",
       "      <td>1</td>\n",
       "    </tr>\n",
       "    <tr>\n",
       "      <th>pre_stroke_lvo</th>\n",
       "      <td>0.408</td>\n",
       "      <td>0.552</td>\n",
       "      <td>0.672</td>\n",
       "      <td>0.838</td>\n",
       "      <td>0.956</td>\n",
       "      <td>1.000</td>\n",
       "      <td>1</td>\n",
       "    </tr>\n",
       "    <tr>\n",
       "      <th>no_treatment_lvo</th>\n",
       "      <td>0.050</td>\n",
       "      <td>0.129</td>\n",
       "      <td>0.265</td>\n",
       "      <td>0.429</td>\n",
       "      <td>0.676</td>\n",
       "      <td>0.811</td>\n",
       "      <td>1</td>\n",
       "    </tr>\n",
       "    <tr>\n",
       "      <th>no_treatment_nlvo</th>\n",
       "      <td>0.198</td>\n",
       "      <td>0.460</td>\n",
       "      <td>0.580</td>\n",
       "      <td>0.708</td>\n",
       "      <td>0.856</td>\n",
       "      <td>0.918</td>\n",
       "      <td>1</td>\n",
       "    </tr>\n",
       "    <tr>\n",
       "      <th>no_effect_nlvo_ivt_deaths</th>\n",
       "      <td>0.196</td>\n",
       "      <td>0.455</td>\n",
       "      <td>0.574</td>\n",
       "      <td>0.701</td>\n",
       "      <td>0.847</td>\n",
       "      <td>0.908</td>\n",
       "      <td>1</td>\n",
       "    </tr>\n",
       "    <tr>\n",
       "      <th>no_effect_lvo_ivt_deaths</th>\n",
       "      <td>0.048</td>\n",
       "      <td>0.124</td>\n",
       "      <td>0.255</td>\n",
       "      <td>0.414</td>\n",
       "      <td>0.653</td>\n",
       "      <td>0.783</td>\n",
       "      <td>1</td>\n",
       "    </tr>\n",
       "    <tr>\n",
       "      <th>no_effect_lvo_mt_deaths</th>\n",
       "      <td>0.048</td>\n",
       "      <td>0.124</td>\n",
       "      <td>0.255</td>\n",
       "      <td>0.412</td>\n",
       "      <td>0.649</td>\n",
       "      <td>0.779</td>\n",
       "      <td>1</td>\n",
       "    </tr>\n",
       "    <tr>\n",
       "      <th>t0_treatment_nlvo_ivt</th>\n",
       "      <td>0.445</td>\n",
       "      <td>0.642</td>\n",
       "      <td>0.752</td>\n",
       "      <td>0.862</td>\n",
       "      <td>0.941</td>\n",
       "      <td>0.967</td>\n",
       "      <td>1</td>\n",
       "    </tr>\n",
       "    <tr>\n",
       "      <th>t0_treatment_lvo_ivt</th>\n",
       "      <td>0.140</td>\n",
       "      <td>0.233</td>\n",
       "      <td>0.361</td>\n",
       "      <td>0.522</td>\n",
       "      <td>0.730</td>\n",
       "      <td>0.838</td>\n",
       "      <td>1</td>\n",
       "    </tr>\n",
       "    <tr>\n",
       "      <th>t0_treatment_lvo_mt</th>\n",
       "      <td>0.306</td>\n",
       "      <td>0.429</td>\n",
       "      <td>0.548</td>\n",
       "      <td>0.707</td>\n",
       "      <td>0.851</td>\n",
       "      <td>0.915</td>\n",
       "      <td>1</td>\n",
       "    </tr>\n",
       "  </tbody>\n",
       "</table>\n",
       "</div>"
      ],
      "text/plain": [
       "                           mRS<=0  mRS<=1  mRS<=2  mRS<=3  mRS<=4  mRS<=5  \\\n",
       "Stroke type                                                                 \n",
       "pre_stroke_nlvo             0.583   0.746   0.850   0.951   0.993   1.000   \n",
       "pre_stroke_lvo              0.408   0.552   0.672   0.838   0.956   1.000   \n",
       "no_treatment_lvo            0.050   0.129   0.265   0.429   0.676   0.811   \n",
       "no_treatment_nlvo           0.198   0.460   0.580   0.708   0.856   0.918   \n",
       "no_effect_nlvo_ivt_deaths   0.196   0.455   0.574   0.701   0.847   0.908   \n",
       "no_effect_lvo_ivt_deaths    0.048   0.124   0.255   0.414   0.653   0.783   \n",
       "no_effect_lvo_mt_deaths     0.048   0.124   0.255   0.412   0.649   0.779   \n",
       "t0_treatment_nlvo_ivt       0.445   0.642   0.752   0.862   0.941   0.967   \n",
       "t0_treatment_lvo_ivt        0.140   0.233   0.361   0.522   0.730   0.838   \n",
       "t0_treatment_lvo_mt         0.306   0.429   0.548   0.707   0.851   0.915   \n",
       "\n",
       "                           mRS<=6  \n",
       "Stroke type                        \n",
       "pre_stroke_nlvo                 1  \n",
       "pre_stroke_lvo                  1  \n",
       "no_treatment_lvo                1  \n",
       "no_treatment_nlvo               1  \n",
       "no_effect_nlvo_ivt_deaths       1  \n",
       "no_effect_lvo_ivt_deaths        1  \n",
       "no_effect_lvo_mt_deaths         1  \n",
       "t0_treatment_nlvo_ivt           1  \n",
       "t0_treatment_lvo_ivt            1  \n",
       "t0_treatment_lvo_mt             1  "
      ]
     },
     "execution_count": 24,
     "metadata": {},
     "output_type": "execute_result"
    }
   ],
   "source": [
    "mrs_dists"
   ]
  },
  {
   "cell_type": "code",
   "execution_count": 25,
   "id": "90bb962f-b306-4bda-845d-b30dcd3cc9b8",
   "metadata": {},
   "outputs": [],
   "source": [
    "mrs_dist_nlvo_no_treatment = mrs_dists.loc['no_treatment_nlvo'].values\n",
    "mrs_dist_lvo_no_treatment = mrs_dists.loc['no_treatment_lvo'].values\n",
    "\n",
    "mrs_dist_nlvo_no_treatment_noncum = np.diff(mrs_dist_nlvo_no_treatment, prepend=0.0)\n",
    "mrs_dist_lvo_no_treatment_noncum = np.diff(mrs_dist_lvo_no_treatment, prepend=0.0)"
   ]
  },
  {
   "cell_type": "markdown",
   "id": "2321dab5-c674-4af3-a188-60eb6e8c02a6",
   "metadata": {},
   "source": [
    "### Combine patient cohorts"
   ]
  },
  {
   "cell_type": "markdown",
   "id": "a252ecd4-b088-42d6-b10d-9b363d1aac72",
   "metadata": {},
   "source": [
    "Combine LVO groups:"
   ]
  },
  {
   "cell_type": "code",
   "execution_count": 26,
   "id": "c3963085-4c16-47dc-b916-82b2bfb6a312",
   "metadata": {},
   "outputs": [],
   "source": [
    "for model_name in ['drip_ship', 'mothership']:\n",
    "    # New column names for non-cumulative and cumulative probabilities:\n",
    "    cols_noncum = [f'{model_name}_lvo_mix_mrs_dists_noncum_{i}' for i in range(7)]\n",
    "    cols_cum = [f'{model_name}_lvo_mix_mrs_dists_{i}' for i in range(7)]\n",
    "\n",
    "    # Column names of existing data:\n",
    "    cols_lvo_ivt = [f'{model_name}_lvo_ivt_mrs_dists_noncum_{i}' for i in range(7)]\n",
    "    cols_lvo_ivt_mt = [f'{model_name}_lvo_ivt_mt_mrs_dists_noncum_{i}' for i in range(7)]\n",
    "    cols_lvo_mt = [f'{model_name}_lvo_mt_mrs_dists_noncum_{i}' for i in range(7)]\n",
    "    \n",
    "    # Weighted sum:\n",
    "    df_mrs[cols_noncum] = (\n",
    "        (df_mrs[cols_lvo_ivt].values * proportions['lvo_ivt_only']) +\n",
    "        (df_mrs[cols_lvo_ivt_mt].values * proportions['lvo_ivt_mt']) +\n",
    "        (df_mrs[cols_lvo_mt].values * proportions['lvo_mt_only'])\n",
    "    )\n",
    "    # Remove the proportion of non-LVO strokes:\n",
    "    df_mrs[cols_noncum] = df_mrs[cols_noncum] / prop_lvo\n",
    "    \n",
    "    # Convert to cumulative probabilities:\n",
    "    df_mrs[cols_cum] = np.cumsum(df_mrs[cols_noncum], axis=1)"
   ]
  },
  {
   "cell_type": "markdown",
   "id": "9888fd65-9136-4705-be56-53ccecdea0e5",
   "metadata": {},
   "source": [
    "Weighted _treated_ ischaemic population.\n",
    "\n",
    "We have no mRS distributions for the haemorrhagic strokes. We calculate the weighted population mRS distributions using the data that we do have, and then divide by the proportion of the population that is not haemorrhagic. This rescales the proportions so that all proportions excluding haemorrhagic sum to 1."
   ]
  },
  {
   "cell_type": "code",
   "execution_count": 27,
   "id": "117dfc53-d75d-4afc-a593-fdf15702cbb8",
   "metadata": {},
   "outputs": [],
   "source": [
    "for model_name in ['drip_ship', 'mothership']:\n",
    "    # New column names for non-cumulative and cumulative probabilities:\n",
    "    cols_noncum = [f'{model_name}_weighted_treated_mrs_dists_noncum_{i}' for i in range(7)]\n",
    "    cols_cum = [f'{model_name}_weighted_treated_mrs_dists_{i}' for i in range(7)]\n",
    "\n",
    "    # Column names of existing data:\n",
    "    cols_nlvo_ivt = [f'{model_name}_nlvo_ivt_mrs_dists_noncum_{i}' for i in range(7)]\n",
    "    cols_lvo_ivt = [f'{model_name}_lvo_ivt_mrs_dists_noncum_{i}' for i in range(7)]\n",
    "    cols_lvo_ivt_mt = [f'{model_name}_lvo_ivt_mt_mrs_dists_noncum_{i}' for i in range(7)]\n",
    "    cols_lvo_mt = [f'{model_name}_lvo_mt_mrs_dists_noncum_{i}' for i in range(7)]\n",
    "    \n",
    "    # Weighted sum:\n",
    "    df_mrs[cols_noncum] = (\n",
    "        (df_mrs[cols_nlvo_ivt].values * proportions['nlvo_ivt']) +\n",
    "        (df_mrs[cols_lvo_ivt].values * proportions['lvo_ivt_only']) +\n",
    "        (df_mrs[cols_lvo_ivt_mt].values * proportions['lvo_ivt_mt']) +\n",
    "        (df_mrs[cols_lvo_mt].values * proportions['lvo_mt_only'])\n",
    "    )\n",
    "    # Remove the proportion of haemorrhagic strokes:\n",
    "    df_mrs[cols_noncum] = df_mrs[cols_noncum] / prop_ischaemic_treated\n",
    "    \n",
    "    # Convert to cumulative probabilities:\n",
    "    df_mrs[cols_cum] = np.cumsum(df_mrs[cols_noncum], axis=1)"
   ]
  },
  {
   "cell_type": "markdown",
   "id": "c5d7db1c-437a-49ec-a29b-a954fd505fab",
   "metadata": {},
   "source": [
    "Weighted _total_ ischaemic population.\n",
    "\n",
    "We have no mRS distributions for the haemorrhagic strokes. We calculate the weighted population mRS distributions using the data that we do have, and then divide by the proportion of the population that is not haemorrhagic. This rescales the proportions so that all proportions excluding haemorrhagic sum to 1."
   ]
  },
  {
   "cell_type": "code",
   "execution_count": 28,
   "id": "48301bb9-17cd-48c7-b6f8-5f9ee9b11078",
   "metadata": {},
   "outputs": [],
   "source": [
    "for model_name in ['drip_ship', 'mothership']:\n",
    "    # New column names for non-cumulative and cumulative probabilities:\n",
    "    cols_noncum = [f'{model_name}_weighted_mrs_dists_noncum_{i}' for i in range(7)]\n",
    "    cols_cum = [f'{model_name}_weighted_mrs_dists_{i}' for i in range(7)]\n",
    "\n",
    "    # Column names of existing data:\n",
    "    cols_nlvo_ivt = [f'{model_name}_nlvo_ivt_mrs_dists_noncum_{i}' for i in range(7)]\n",
    "    cols_lvo_ivt = [f'{model_name}_lvo_ivt_mrs_dists_noncum_{i}' for i in range(7)]\n",
    "    cols_lvo_ivt_mt = [f'{model_name}_lvo_ivt_mt_mrs_dists_noncum_{i}' for i in range(7)]\n",
    "    cols_lvo_mt = [f'{model_name}_lvo_mt_mrs_dists_noncum_{i}' for i in range(7)]\n",
    "    \n",
    "    # Weighted sum:\n",
    "    df_mrs[cols_noncum] = (\n",
    "        (df_mrs[cols_nlvo_ivt].values * proportions['nlvo_ivt']) +\n",
    "        (df_mrs[cols_lvo_ivt].values * proportions['lvo_ivt_only']) +\n",
    "        (df_mrs[cols_lvo_ivt_mt].values * proportions['lvo_ivt_mt']) +\n",
    "        (df_mrs[cols_lvo_mt].values * proportions['lvo_mt_only']) +\n",
    "        (mrs_dist_nlvo_no_treatment_noncum * proportions['nlvo_no_treatment']) +\n",
    "        (mrs_dist_lvo_no_treatment_noncum * proportions['lvo_no_treatment'])\n",
    "    )\n",
    "    # Remove the proportion of haemorrhagic strokes:\n",
    "    df_mrs[cols_noncum] = df_mrs[cols_noncum] / prop_ischaemic\n",
    "    \n",
    "    # Convert to cumulative probabilities:\n",
    "    df_mrs[cols_cum] = np.cumsum(df_mrs[cols_noncum], axis=1)"
   ]
  },
  {
   "cell_type": "markdown",
   "id": "a53b7976-6b40-4e64-8589-0db01f938410",
   "metadata": {},
   "source": [
    "### Average mRS distributions by admissions"
   ]
  },
  {
   "cell_type": "code",
   "execution_count": 29,
   "id": "9a02cc90-39c0-4489-a365-23a4a96ffe24",
   "metadata": {},
   "outputs": [],
   "source": [
    "# Remove repeats from all the mRS bands:\n",
    "cols_each_scen = sorted(list(set(\n",
    "    [c.split('mrs_dist')[0] + 'mrs_dist' for c in df_mrs.columns if 'mrs_dist' in c]\n",
    ")))"
   ]
  },
  {
   "cell_type": "code",
   "execution_count": 30,
   "id": "53cc369b-20e7-4e37-a1de-cfafcfe72f2a",
   "metadata": {},
   "outputs": [
    {
     "data": {
      "text/plain": [
       "['drip_ship_lvo_ivt_mrs_dist',\n",
       " 'drip_ship_lvo_ivt_mt_mrs_dist',\n",
       " 'drip_ship_lvo_mix_mrs_dist',\n",
       " 'drip_ship_lvo_mt_mrs_dist',\n",
       " 'drip_ship_nlvo_ivt_mrs_dist',\n",
       " 'drip_ship_weighted_mrs_dist',\n",
       " 'drip_ship_weighted_treated_mrs_dist',\n",
       " 'mothership_lvo_ivt_mrs_dist',\n",
       " 'mothership_lvo_ivt_mt_mrs_dist',\n",
       " 'mothership_lvo_mix_mrs_dist',\n",
       " 'mothership_lvo_mt_mrs_dist',\n",
       " 'mothership_nlvo_ivt_mrs_dist',\n",
       " 'mothership_weighted_mrs_dist',\n",
       " 'mothership_weighted_treated_mrs_dist']"
      ]
     },
     "execution_count": 30,
     "metadata": {},
     "output_type": "execute_result"
    }
   ],
   "source": [
    "cols_each_scen"
   ]
  },
  {
   "cell_type": "markdown",
   "id": "2fb5ed3d-526e-486a-8d75-52d5025c9cc4",
   "metadata": {},
   "source": [
    "Only make national statistics for areas where mothership and drip and ship are different:"
   ]
  },
  {
   "cell_type": "code",
   "execution_count": 31,
   "id": "2748d779-0e2d-45f2-816e-0cb472399aaf",
   "metadata": {},
   "outputs": [],
   "source": [
    "mask = df_mrs['mt_transfer_required']"
   ]
  },
  {
   "cell_type": "code",
   "execution_count": 32,
   "id": "a472bd84-8287-460e-aef4-fb3d35bb1a57",
   "metadata": {},
   "outputs": [],
   "source": [
    "from statsmodels.stats.weightstats import DescrStatsW  # for mRS dist stats"
   ]
  },
  {
   "cell_type": "code",
   "execution_count": 33,
   "id": "709bcf0f-182a-4531-b46a-b48e234c6c34",
   "metadata": {},
   "outputs": [],
   "source": [
    "df_mrs_national = pd.DataFrame()\n",
    "val = 'National'\n",
    "\n",
    "# Stats:\n",
    "for c, col in enumerate(cols_each_scen):\n",
    "    cols_here = [c for c in df_mrs.columns if ((c.startswith(col)) & ('noncum' in c))]\n",
    "    cols_cumulative = [c.replace('_noncum', '') for c in cols_here]\n",
    "    cols_std = [\n",
    "        c.replace('_noncum_', '_noncum_std_') for c in cols_here]\n",
    "\n",
    "    # Split list of values into one column per mRS band\n",
    "    # and keep one row per LSOA.\n",
    "    vals = df_mrs.loc[mask, cols_here].copy()\n",
    "\n",
    "    # Create stats from these data:\n",
    "    weighted_stats = DescrStatsW(vals, weights=df_mrs.loc[mask, 'LSOA_predicted_admissions'], ddof=0)\n",
    "    # Means (one value per mRS):\n",
    "    means = weighted_stats.mean\n",
    "    # Standard deviations (one value per mRS):\n",
    "    stds = weighted_stats.std\n",
    "    # Cumulative probability from the mean bins:\n",
    "    cumulatives = np.cumsum(means)\n",
    "    \n",
    "    # Store in results df:\n",
    "    df_mrs_national.loc[val, cols_here] = means\n",
    "    df_mrs_national.loc[val, cols_cumulative] = cumulatives\n",
    "    df_mrs_national.loc[val, cols_std] = stds"
   ]
  },
  {
   "cell_type": "markdown",
   "id": "81830043-7620-4b65-a61f-9a5bb83d440f",
   "metadata": {},
   "source": [
    "## Errors for weighted combinations\n",
    "\n",
    "Redo the standard deviations to properly propagate the errors from the separate cohorts.\n",
    "\n",
    "LVO mix:"
   ]
  },
  {
   "cell_type": "code",
   "execution_count": 34,
   "id": "ca49c2a4-1c69-4c83-b26c-7fff5d0b8321",
   "metadata": {},
   "outputs": [],
   "source": [
    "drip_ship_lvo_stds_before = df_mrs_national[[f'drip_ship_lvo_mix_mrs_dists_noncum_std_{i}' for i in range(7)]].copy()\n",
    "mothership_lvo_stds_before = df_mrs_national[[f'mothership_lvo_mix_mrs_dists_noncum_std_{i}' for i in range(7)]].copy()"
   ]
  },
  {
   "cell_type": "code",
   "execution_count": 35,
   "id": "d3c7777f-3a0f-43fb-86e3-90ec37c4ada0",
   "metadata": {},
   "outputs": [],
   "source": [
    "stds_to_combine = ['lvo_ivt', 'lvo_mt', 'lvo_ivt_mt']\n",
    "\n",
    "for model_name in ['drip_ship', 'mothership']:\n",
    "    # New column names for std:\n",
    "    cols_std = [f'{model_name}_lvo_mix_mrs_dists_noncum_std_{i}' for i in range(7)]\n",
    "\n",
    "    # Column names of existing data:\n",
    "    cols_lvo_ivt = [f'{model_name}_lvo_ivt_mrs_dists_noncum_std_{i}' for i in range(7)]\n",
    "    cols_lvo_ivt_mt = [f'{model_name}_lvo_ivt_mt_mrs_dists_noncum_std_{i}' for i in range(7)]\n",
    "    cols_lvo_mt = [f'{model_name}_lvo_mt_mrs_dists_noncum_std_{i}' for i in range(7)]\n",
    "    \n",
    "    # Weighted sum:\n",
    "    df_mrs_national[cols_std] = np.sqrt(\n",
    "        (df_mrs_national[cols_lvo_ivt].values * (proportions['lvo_ivt_only']  / prop_lvo))**2.0 +\n",
    "        (df_mrs_national[cols_lvo_ivt_mt].values * (proportions['lvo_ivt_mt']  / prop_lvo))**2.0 +\n",
    "        (df_mrs_national[cols_lvo_mt].values * (proportions['lvo_mt_only']  / prop_lvo))**2.0\n",
    "    )"
   ]
  },
  {
   "cell_type": "code",
   "execution_count": 36,
   "id": "1878a292-409c-455b-867d-de5735801975",
   "metadata": {},
   "outputs": [
    {
     "data": {
      "text/html": [
       "<div>\n",
       "<style scoped>\n",
       "    .dataframe tbody tr th:only-of-type {\n",
       "        vertical-align: middle;\n",
       "    }\n",
       "\n",
       "    .dataframe tbody tr th {\n",
       "        vertical-align: top;\n",
       "    }\n",
       "\n",
       "    .dataframe thead th {\n",
       "        text-align: right;\n",
       "    }\n",
       "</style>\n",
       "<table border=\"1\" class=\"dataframe\">\n",
       "  <thead>\n",
       "    <tr style=\"text-align: right;\">\n",
       "      <th></th>\n",
       "      <th>Drip and ship before</th>\n",
       "      <th>Drip and ship after</th>\n",
       "      <th>Mothership before</th>\n",
       "      <th>Mothership after</th>\n",
       "    </tr>\n",
       "  </thead>\n",
       "  <tbody>\n",
       "    <tr>\n",
       "      <th>0</th>\n",
       "      <td>0.009244</td>\n",
       "      <td>0.007843</td>\n",
       "      <td>0.011756</td>\n",
       "      <td>0.009777</td>\n",
       "    </tr>\n",
       "    <tr>\n",
       "      <th>1</th>\n",
       "      <td>0.003653</td>\n",
       "      <td>0.003172</td>\n",
       "      <td>0.002374</td>\n",
       "      <td>0.001990</td>\n",
       "    </tr>\n",
       "    <tr>\n",
       "      <th>2</th>\n",
       "      <td>0.001177</td>\n",
       "      <td>0.001123</td>\n",
       "      <td>0.000886</td>\n",
       "      <td>0.000742</td>\n",
       "    </tr>\n",
       "    <tr>\n",
       "      <th>3</th>\n",
       "      <td>0.001112</td>\n",
       "      <td>0.001020</td>\n",
       "      <td>0.000298</td>\n",
       "      <td>0.000256</td>\n",
       "    </tr>\n",
       "    <tr>\n",
       "      <th>4</th>\n",
       "      <td>0.004216</td>\n",
       "      <td>0.003598</td>\n",
       "      <td>0.004524</td>\n",
       "      <td>0.003782</td>\n",
       "    </tr>\n",
       "    <tr>\n",
       "      <th>5</th>\n",
       "      <td>0.003291</td>\n",
       "      <td>0.002829</td>\n",
       "      <td>0.002929</td>\n",
       "      <td>0.002445</td>\n",
       "    </tr>\n",
       "    <tr>\n",
       "      <th>6</th>\n",
       "      <td>0.006774</td>\n",
       "      <td>0.005803</td>\n",
       "      <td>0.005566</td>\n",
       "      <td>0.004604</td>\n",
       "    </tr>\n",
       "  </tbody>\n",
       "</table>\n",
       "</div>"
      ],
      "text/plain": [
       "   Drip and ship before  Drip and ship after  Mothership before  \\\n",
       "0              0.009244             0.007843           0.011756   \n",
       "1              0.003653             0.003172           0.002374   \n",
       "2              0.001177             0.001123           0.000886   \n",
       "3              0.001112             0.001020           0.000298   \n",
       "4              0.004216             0.003598           0.004524   \n",
       "5              0.003291             0.002829           0.002929   \n",
       "6              0.006774             0.005803           0.005566   \n",
       "\n",
       "   Mothership after  \n",
       "0          0.009777  \n",
       "1          0.001990  \n",
       "2          0.000742  \n",
       "3          0.000256  \n",
       "4          0.003782  \n",
       "5          0.002445  \n",
       "6          0.004604  "
      ]
     },
     "execution_count": 36,
     "metadata": {},
     "output_type": "execute_result"
    }
   ],
   "source": [
    "pd.DataFrame(\n",
    "    np.stack((\n",
    "        drip_ship_lvo_stds_before.values[0],\n",
    "        df_mrs_national[[f'drip_ship_lvo_mix_mrs_dists_noncum_std_{i}' for i in range(7)]].values[0],\n",
    "        mothership_lvo_stds_before.values[0],\n",
    "        df_mrs_national[[f'mothership_lvo_mix_mrs_dists_noncum_std_{i}' for i in range(7)]].values[0]\n",
    "    ), axis=-1),\n",
    "    columns=['Drip and ship before', 'Drip and ship after', 'Mothership before', 'Mothership after']\n",
    ")"
   ]
  },
  {
   "cell_type": "markdown",
   "id": "cdb1a464-deb9-408d-a862-c616c1347956",
   "metadata": {},
   "source": [
    "Treated population mix:"
   ]
  },
  {
   "cell_type": "code",
   "execution_count": 37,
   "id": "cdccb6b1-0768-4eca-b833-f2a96ed1f4ca",
   "metadata": {},
   "outputs": [],
   "source": [
    "drip_ship_weighted_stds_before = df_mrs_national[[f'drip_ship_weighted_treated_mrs_dists_noncum_std_{i}' for i in range(7)]].copy()\n",
    "mothership_weighted_stds_before = df_mrs_national[[f'mothership_weighted_treated_mrs_dists_noncum_std_{i}' for i in range(7)]].copy()"
   ]
  },
  {
   "cell_type": "code",
   "execution_count": 38,
   "id": "158f2877-a84c-4ec4-ad08-b9ef603c5d77",
   "metadata": {},
   "outputs": [],
   "source": [
    "p = prop_ischaemic_treated\n",
    "\n",
    "for model_name in ['drip_ship', 'mothership']:\n",
    "    # New column names for non-cumulative and cumulative probabilities:\n",
    "    cols_std = [f'{model_name}_weighted_mrs_dists_noncum_std_{i}' for i in range(7)]\n",
    "\n",
    "    # Column names of existing data:\n",
    "    cols_nlvo_ivt = [f'{model_name}_nlvo_ivt_mrs_dists_noncum_std_{i}' for i in range(7)]\n",
    "    cols_lvo_ivt = [f'{model_name}_lvo_ivt_mrs_dists_noncum_std_{i}' for i in range(7)]\n",
    "    cols_lvo_ivt_mt = [f'{model_name}_lvo_ivt_mt_mrs_dists_noncum_std_{i}' for i in range(7)]\n",
    "    cols_lvo_mt = [f'{model_name}_lvo_mt_mrs_dists_noncum_std_{i}' for i in range(7)]\n",
    "    \n",
    "    # Weighted sum:\n",
    "    df_mrs_national[cols_std] = np.sqrt(\n",
    "        (df_mrs_national[cols_nlvo_ivt].values * (proportions['nlvo_ivt'] / p))**2.0 +\n",
    "        (df_mrs_national[cols_lvo_ivt].values * (proportions['lvo_ivt_only'] / p))**2.0 +\n",
    "        (df_mrs_national[cols_lvo_ivt_mt].values * (proportions['lvo_ivt_mt'] / p))**2.0 +\n",
    "        (df_mrs_national[cols_lvo_mt].values * (proportions['lvo_mt_only'] / p))**2.0\n",
    "    )"
   ]
  },
  {
   "cell_type": "code",
   "execution_count": 39,
   "id": "4adb872b-12e4-4c8e-a4dd-f65968b1b7ce",
   "metadata": {},
   "outputs": [
    {
     "data": {
      "text/html": [
       "<div>\n",
       "<style scoped>\n",
       "    .dataframe tbody tr th:only-of-type {\n",
       "        vertical-align: middle;\n",
       "    }\n",
       "\n",
       "    .dataframe tbody tr th {\n",
       "        vertical-align: top;\n",
       "    }\n",
       "\n",
       "    .dataframe thead th {\n",
       "        text-align: right;\n",
       "    }\n",
       "</style>\n",
       "<table border=\"1\" class=\"dataframe\">\n",
       "  <thead>\n",
       "    <tr style=\"text-align: right;\">\n",
       "      <th></th>\n",
       "      <th>Drip and ship before</th>\n",
       "      <th>Drip and ship after</th>\n",
       "      <th>Mothership before</th>\n",
       "      <th>Mothership after</th>\n",
       "    </tr>\n",
       "  </thead>\n",
       "  <tbody>\n",
       "    <tr>\n",
       "      <th>0</th>\n",
       "      <td>0.007229</td>\n",
       "      <td>0.007229</td>\n",
       "      <td>0.013461</td>\n",
       "      <td>0.013461</td>\n",
       "    </tr>\n",
       "    <tr>\n",
       "      <th>1</th>\n",
       "      <td>0.001500</td>\n",
       "      <td>0.001500</td>\n",
       "      <td>0.001035</td>\n",
       "      <td>0.001035</td>\n",
       "    </tr>\n",
       "    <tr>\n",
       "      <th>2</th>\n",
       "      <td>0.000579</td>\n",
       "      <td>0.000579</td>\n",
       "      <td>0.000818</td>\n",
       "      <td>0.000818</td>\n",
       "    </tr>\n",
       "    <tr>\n",
       "      <th>3</th>\n",
       "      <td>0.000520</td>\n",
       "      <td>0.000520</td>\n",
       "      <td>0.000783</td>\n",
       "      <td>0.000783</td>\n",
       "    </tr>\n",
       "    <tr>\n",
       "      <th>4</th>\n",
       "      <td>0.002693</td>\n",
       "      <td>0.002693</td>\n",
       "      <td>0.004197</td>\n",
       "      <td>0.004197</td>\n",
       "    </tr>\n",
       "    <tr>\n",
       "      <th>5</th>\n",
       "      <td>0.001906</td>\n",
       "      <td>0.001906</td>\n",
       "      <td>0.002404</td>\n",
       "      <td>0.002404</td>\n",
       "    </tr>\n",
       "    <tr>\n",
       "      <th>6</th>\n",
       "      <td>0.003792</td>\n",
       "      <td>0.003792</td>\n",
       "      <td>0.004280</td>\n",
       "      <td>0.004280</td>\n",
       "    </tr>\n",
       "  </tbody>\n",
       "</table>\n",
       "</div>"
      ],
      "text/plain": [
       "   Drip and ship before  Drip and ship after  Mothership before  \\\n",
       "0              0.007229             0.007229           0.013461   \n",
       "1              0.001500             0.001500           0.001035   \n",
       "2              0.000579             0.000579           0.000818   \n",
       "3              0.000520             0.000520           0.000783   \n",
       "4              0.002693             0.002693           0.004197   \n",
       "5              0.001906             0.001906           0.002404   \n",
       "6              0.003792             0.003792           0.004280   \n",
       "\n",
       "   Mothership after  \n",
       "0          0.013461  \n",
       "1          0.001035  \n",
       "2          0.000818  \n",
       "3          0.000783  \n",
       "4          0.004197  \n",
       "5          0.002404  \n",
       "6          0.004280  "
      ]
     },
     "execution_count": 39,
     "metadata": {},
     "output_type": "execute_result"
    }
   ],
   "source": [
    "pd.DataFrame(\n",
    "    np.stack((\n",
    "        drip_ship_weighted_stds_before.values[0],\n",
    "        df_mrs_national[[f'drip_ship_weighted_treated_mrs_dists_noncum_std_{i}' for i in range(7)]].values[0],\n",
    "        mothership_weighted_stds_before.values[0],\n",
    "        df_mrs_national[[f'mothership_weighted_treated_mrs_dists_noncum_std_{i}' for i in range(7)]].values[0]\n",
    "    ), axis=-1),\n",
    "    columns=['Drip and ship before', 'Drip and ship after', 'Mothership before', 'Mothership after']\n",
    ")    "
   ]
  },
  {
   "cell_type": "markdown",
   "id": "7b769a12-9235-4dc2-931c-6593d84d8831",
   "metadata": {},
   "source": [
    "Total ischaemic population mix:"
   ]
  },
  {
   "cell_type": "code",
   "execution_count": 40,
   "id": "67f132ec-6b5c-4a44-ac7a-66240ef5ea63",
   "metadata": {},
   "outputs": [],
   "source": [
    "drip_ship_weighted_stds_before = df_mrs_national[[f'drip_ship_weighted_mrs_dists_noncum_std_{i}' for i in range(7)]].copy()\n",
    "mothership_weighted_stds_before = df_mrs_national[[f'mothership_weighted_mrs_dists_noncum_std_{i}' for i in range(7)]].copy()"
   ]
  },
  {
   "cell_type": "code",
   "execution_count": 41,
   "id": "01da6d35-d965-4408-859d-9639291ecbab",
   "metadata": {},
   "outputs": [],
   "source": [
    "p = prop_ischaemic\n",
    "\n",
    "for model_name in ['drip_ship', 'mothership']:\n",
    "    # New column names for non-cumulative and cumulative probabilities:\n",
    "    cols_std = [f'{model_name}_weighted_mrs_dists_noncum_std_{i}' for i in range(7)]\n",
    "\n",
    "    # Column names of existing data:\n",
    "    cols_nlvo_ivt = [f'{model_name}_nlvo_ivt_mrs_dists_noncum_std_{i}' for i in range(7)]\n",
    "    cols_lvo_ivt = [f'{model_name}_lvo_ivt_mrs_dists_noncum_std_{i}' for i in range(7)]\n",
    "    cols_lvo_ivt_mt = [f'{model_name}_lvo_ivt_mt_mrs_dists_noncum_std_{i}' for i in range(7)]\n",
    "    cols_lvo_mt = [f'{model_name}_lvo_mt_mrs_dists_noncum_std_{i}' for i in range(7)]\n",
    "    \n",
    "    # Weighted sum:\n",
    "    df_mrs_national[cols_std] = np.sqrt(\n",
    "        (df_mrs_national[cols_nlvo_ivt].values * (proportions['nlvo_ivt'] / p))**2.0 +\n",
    "        (df_mrs_national[cols_lvo_ivt].values * (proportions['lvo_ivt_only'] / p))**2.0 +\n",
    "        (df_mrs_national[cols_lvo_ivt_mt].values * (proportions['lvo_ivt_mt'] / p))**2.0 +\n",
    "        (df_mrs_national[cols_lvo_mt].values * (proportions['lvo_mt_only'] / p))**2.0\n",
    "    )"
   ]
  },
  {
   "cell_type": "code",
   "execution_count": 42,
   "id": "7099f703-0975-4ec7-ad63-aae947ffcbe9",
   "metadata": {},
   "outputs": [
    {
     "data": {
      "text/html": [
       "<div>\n",
       "<style scoped>\n",
       "    .dataframe tbody tr th:only-of-type {\n",
       "        vertical-align: middle;\n",
       "    }\n",
       "\n",
       "    .dataframe tbody tr th {\n",
       "        vertical-align: top;\n",
       "    }\n",
       "\n",
       "    .dataframe thead th {\n",
       "        text-align: right;\n",
       "    }\n",
       "</style>\n",
       "<table border=\"1\" class=\"dataframe\">\n",
       "  <thead>\n",
       "    <tr style=\"text-align: right;\">\n",
       "      <th></th>\n",
       "      <th>Drip and ship before</th>\n",
       "      <th>Drip and ship after</th>\n",
       "      <th>Mothership before</th>\n",
       "      <th>Mothership after</th>\n",
       "    </tr>\n",
       "  </thead>\n",
       "  <tbody>\n",
       "    <tr>\n",
       "      <th>0</th>\n",
       "      <td>0.005156</td>\n",
       "      <td>0.001283</td>\n",
       "      <td>0.009005</td>\n",
       "      <td>0.002241</td>\n",
       "    </tr>\n",
       "    <tr>\n",
       "      <th>1</th>\n",
       "      <td>0.001921</td>\n",
       "      <td>0.000478</td>\n",
       "      <td>0.002419</td>\n",
       "      <td>0.000602</td>\n",
       "    </tr>\n",
       "    <tr>\n",
       "      <th>2</th>\n",
       "      <td>0.000598</td>\n",
       "      <td>0.000149</td>\n",
       "      <td>0.000529</td>\n",
       "      <td>0.000132</td>\n",
       "    </tr>\n",
       "    <tr>\n",
       "      <th>3</th>\n",
       "      <td>0.000603</td>\n",
       "      <td>0.000150</td>\n",
       "      <td>0.000665</td>\n",
       "      <td>0.000165</td>\n",
       "    </tr>\n",
       "    <tr>\n",
       "      <th>4</th>\n",
       "      <td>0.001980</td>\n",
       "      <td>0.000493</td>\n",
       "      <td>0.002703</td>\n",
       "      <td>0.000673</td>\n",
       "    </tr>\n",
       "    <tr>\n",
       "      <th>5</th>\n",
       "      <td>0.001473</td>\n",
       "      <td>0.000367</td>\n",
       "      <td>0.001542</td>\n",
       "      <td>0.000384</td>\n",
       "    </tr>\n",
       "    <tr>\n",
       "      <th>6</th>\n",
       "      <td>0.002982</td>\n",
       "      <td>0.000742</td>\n",
       "      <td>0.002750</td>\n",
       "      <td>0.000684</td>\n",
       "    </tr>\n",
       "  </tbody>\n",
       "</table>\n",
       "</div>"
      ],
      "text/plain": [
       "   Drip and ship before  Drip and ship after  Mothership before  \\\n",
       "0              0.005156             0.001283           0.009005   \n",
       "1              0.001921             0.000478           0.002419   \n",
       "2              0.000598             0.000149           0.000529   \n",
       "3              0.000603             0.000150           0.000665   \n",
       "4              0.001980             0.000493           0.002703   \n",
       "5              0.001473             0.000367           0.001542   \n",
       "6              0.002982             0.000742           0.002750   \n",
       "\n",
       "   Mothership after  \n",
       "0          0.002241  \n",
       "1          0.000602  \n",
       "2          0.000132  \n",
       "3          0.000165  \n",
       "4          0.000673  \n",
       "5          0.000384  \n",
       "6          0.000684  "
      ]
     },
     "execution_count": 42,
     "metadata": {},
     "output_type": "execute_result"
    }
   ],
   "source": [
    "pd.DataFrame(\n",
    "    np.stack((\n",
    "        drip_ship_weighted_stds_before.values[0],\n",
    "        df_mrs_national[[f'drip_ship_weighted_mrs_dists_noncum_std_{i}' for i in range(7)]].values[0],\n",
    "        mothership_weighted_stds_before.values[0],\n",
    "        df_mrs_national[[f'mothership_weighted_mrs_dists_noncum_std_{i}' for i in range(7)]].values[0]\n",
    "    ), axis=-1),\n",
    "    columns=['Drip and ship before', 'Drip and ship after', 'Mothership before', 'Mothership after']\n",
    ")    "
   ]
  },
  {
   "cell_type": "markdown",
   "id": "23c8b283-f884-49d3-a798-e26b84faaf4b",
   "metadata": {},
   "source": [
    "## Save results"
   ]
  },
  {
   "cell_type": "code",
   "execution_count": 43,
   "id": "52b52b06-ae95-4b8e-8355-d12bf38f0d34",
   "metadata": {},
   "outputs": [],
   "source": [
    "# Save to file:\n",
    "df_mrs.to_csv(os.path.join(dir_output, 'cohort_mrs_dists_weighted.csv'))"
   ]
  },
  {
   "cell_type": "code",
   "execution_count": 44,
   "id": "012666f2-256e-4fd3-b6f5-79724523c07f",
   "metadata": {},
   "outputs": [
    {
     "name": "stdout",
     "output_type": "stream",
     "text": [
      "<class 'pandas.core.frame.DataFrame'>\n",
      "Index: 1 entries, National to National\n",
      "Columns: 294 entries, drip_ship_lvo_ivt_mrs_dists_noncum_0 to mothership_weighted_treated_mrs_dists_noncum_std_6\n",
      "dtypes: float64(294)\n",
      "memory usage: 2.4+ KB\n"
     ]
    }
   ],
   "source": [
    "df_mrs_national.info()"
   ]
  },
  {
   "cell_type": "code",
   "execution_count": 45,
   "id": "a6b0ffd7-03e1-4c90-a458-6c946f18009f",
   "metadata": {},
   "outputs": [],
   "source": [
    "# Save to file:\n",
    "df_mrs_national.to_csv(os.path.join(dir_output, 'cohort_mrs_dists_weighted_national.csv'))"
   ]
  }
 ],
 "metadata": {
  "kernelspec": {
   "display_name": "Python 3 (ipykernel)",
   "language": "python",
   "name": "python3"
  },
  "language_info": {
   "codemirror_mode": {
    "name": "ipython",
    "version": 3
   },
   "file_extension": ".py",
   "mimetype": "text/x-python",
   "name": "python",
   "nbconvert_exporter": "python",
   "pygments_lexer": "ipython3",
   "version": "3.9.16"
  }
 },
 "nbformat": 4,
 "nbformat_minor": 5
}
