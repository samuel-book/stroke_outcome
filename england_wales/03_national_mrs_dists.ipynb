{
 "cells": [
  {
   "attachments": {},
   "cell_type": "markdown",
   "metadata": {},
   "source": [
    "# National mRS distributions"
   ]
  },
  {
   "cell_type": "code",
   "execution_count": 1,
   "metadata": {},
   "outputs": [],
   "source": [
    "dir_output = 'output'\n",
    "limit_to_england = False"
   ]
  },
  {
   "attachments": {},
   "cell_type": "markdown",
   "metadata": {},
   "source": [
    "## Import packages"
   ]
  },
  {
   "cell_type": "code",
   "execution_count": 2,
   "metadata": {},
   "outputs": [],
   "source": [
    "import matplotlib.pyplot as plt\n",
    "import numpy as np\n",
    "import pandas as pd\n",
    "import os\n",
    "\n",
    "import stroke_outcome.outcome_utilities\n",
    "\n",
    "pd.set_option('display.max_rows', 150)"
   ]
  },
  {
   "cell_type": "code",
   "execution_count": 3,
   "metadata": {},
   "outputs": [
    {
     "data": {
      "text/plain": [
       "'0.1.6'"
      ]
     },
     "execution_count": 3,
     "metadata": {},
     "output_type": "execute_result"
    }
   ],
   "source": [
    "stroke_outcome.__version__"
   ]
  },
  {
   "attachments": {},
   "cell_type": "markdown",
   "metadata": {},
   "source": [
    "## Load data\n",
    "\n",
    "Results from outcome model:"
   ]
  },
  {
   "cell_type": "code",
   "execution_count": 4,
   "metadata": {},
   "outputs": [],
   "source": [
    "df_mrs_national_noncum = pd.read_csv(os.path.join(dir_output, 'cohort_mrs_dists_weighted_national_noncum.csv'), index_col=0)"
   ]
  },
  {
   "cell_type": "code",
   "execution_count": 5,
   "metadata": {},
   "outputs": [
    {
     "data": {
      "text/html": [
       "<div>\n",
       "<style scoped>\n",
       "    .dataframe tbody tr th:only-of-type {\n",
       "        vertical-align: middle;\n",
       "    }\n",
       "\n",
       "    .dataframe tbody tr th {\n",
       "        vertical-align: top;\n",
       "    }\n",
       "\n",
       "    .dataframe thead th {\n",
       "        text-align: right;\n",
       "    }\n",
       "</style>\n",
       "<table border=\"1\" class=\"dataframe\">\n",
       "  <thead>\n",
       "    <tr style=\"text-align: right;\">\n",
       "      <th></th>\n",
       "      <th>mRS=0</th>\n",
       "      <th>mRS=1</th>\n",
       "      <th>mRS=2</th>\n",
       "      <th>mRS=3</th>\n",
       "      <th>mRS=4</th>\n",
       "      <th>mRS=5</th>\n",
       "      <th>mRS=6</th>\n",
       "    </tr>\n",
       "  </thead>\n",
       "  <tbody>\n",
       "    <tr>\n",
       "      <th>drip_ship_lvo_ivt</th>\n",
       "      <td>0.103557</td>\n",
       "      <td>0.091883</td>\n",
       "      <td>0.132440</td>\n",
       "      <td>0.162241</td>\n",
       "      <td>0.218449</td>\n",
       "      <td>0.114585</td>\n",
       "      <td>0.176843</td>\n",
       "    </tr>\n",
       "    <tr>\n",
       "      <th>drip_ship_lvo_ivt_mt</th>\n",
       "      <td>0.114716</td>\n",
       "      <td>0.111330</td>\n",
       "      <td>0.145709</td>\n",
       "      <td>0.172771</td>\n",
       "      <td>0.205944</td>\n",
       "      <td>0.100365</td>\n",
       "      <td>0.149164</td>\n",
       "    </tr>\n",
       "    <tr>\n",
       "      <th>drip_ship_lvo_mix</th>\n",
       "      <td>0.113820</td>\n",
       "      <td>0.109832</td>\n",
       "      <td>0.144696</td>\n",
       "      <td>0.171965</td>\n",
       "      <td>0.206917</td>\n",
       "      <td>0.101464</td>\n",
       "      <td>0.151306</td>\n",
       "    </tr>\n",
       "    <tr>\n",
       "      <th>drip_ship_lvo_mt</th>\n",
       "      <td>0.114492</td>\n",
       "      <td>0.111393</td>\n",
       "      <td>0.145819</td>\n",
       "      <td>0.172843</td>\n",
       "      <td>0.205969</td>\n",
       "      <td>0.100340</td>\n",
       "      <td>0.149144</td>\n",
       "    </tr>\n",
       "    <tr>\n",
       "      <th>drip_ship_nlvo_ivt</th>\n",
       "      <td>0.361342</td>\n",
       "      <td>0.227713</td>\n",
       "      <td>0.116027</td>\n",
       "      <td>0.119072</td>\n",
       "      <td>0.097072</td>\n",
       "      <td>0.033926</td>\n",
       "      <td>0.044848</td>\n",
       "    </tr>\n",
       "    <tr>\n",
       "      <th>drip_ship_weighted</th>\n",
       "      <td>0.182500</td>\n",
       "      <td>0.207653</td>\n",
       "      <td>0.125321</td>\n",
       "      <td>0.138518</td>\n",
       "      <td>0.165893</td>\n",
       "      <td>0.075864</td>\n",
       "      <td>0.104252</td>\n",
       "    </tr>\n",
       "    <tr>\n",
       "      <th>drip_ship_weighted_treated</th>\n",
       "      <td>0.236545</td>\n",
       "      <td>0.168279</td>\n",
       "      <td>0.130482</td>\n",
       "      <td>0.145740</td>\n",
       "      <td>0.152454</td>\n",
       "      <td>0.067977</td>\n",
       "      <td>0.098523</td>\n",
       "    </tr>\n",
       "    <tr>\n",
       "      <th>mothership_lvo_ivt</th>\n",
       "      <td>0.097051</td>\n",
       "      <td>0.091035</td>\n",
       "      <td>0.132926</td>\n",
       "      <td>0.162281</td>\n",
       "      <td>0.220543</td>\n",
       "      <td>0.115988</td>\n",
       "      <td>0.180176</td>\n",
       "    </tr>\n",
       "    <tr>\n",
       "      <th>mothership_lvo_ivt_mt</th>\n",
       "      <td>0.155232</td>\n",
       "      <td>0.121472</td>\n",
       "      <td>0.144093</td>\n",
       "      <td>0.172983</td>\n",
       "      <td>0.189488</td>\n",
       "      <td>0.089206</td>\n",
       "      <td>0.127526</td>\n",
       "    </tr>\n",
       "    <tr>\n",
       "      <th>mothership_lvo_mix</th>\n",
       "      <td>0.150723</td>\n",
       "      <td>0.119113</td>\n",
       "      <td>0.143227</td>\n",
       "      <td>0.172153</td>\n",
       "      <td>0.191895</td>\n",
       "      <td>0.091282</td>\n",
       "      <td>0.131606</td>\n",
       "    </tr>\n",
       "    <tr>\n",
       "      <th>mothership_lvo_mt</th>\n",
       "      <td>0.155232</td>\n",
       "      <td>0.121472</td>\n",
       "      <td>0.144093</td>\n",
       "      <td>0.172983</td>\n",
       "      <td>0.189488</td>\n",
       "      <td>0.089206</td>\n",
       "      <td>0.127526</td>\n",
       "    </tr>\n",
       "    <tr>\n",
       "      <th>mothership_nlvo_ivt</th>\n",
       "      <td>0.344418</td>\n",
       "      <td>0.232942</td>\n",
       "      <td>0.116952</td>\n",
       "      <td>0.120624</td>\n",
       "      <td>0.101236</td>\n",
       "      <td>0.035894</td>\n",
       "      <td>0.047935</td>\n",
       "    </tr>\n",
       "    <tr>\n",
       "      <th>mothership_weighted</th>\n",
       "      <td>0.185042</td>\n",
       "      <td>0.209463</td>\n",
       "      <td>0.125251</td>\n",
       "      <td>0.138733</td>\n",
       "      <td>0.164522</td>\n",
       "      <td>0.074829</td>\n",
       "      <td>0.102161</td>\n",
       "    </tr>\n",
       "    <tr>\n",
       "      <th>mothership_weighted_treated</th>\n",
       "      <td>0.246760</td>\n",
       "      <td>0.175551</td>\n",
       "      <td>0.130200</td>\n",
       "      <td>0.146604</td>\n",
       "      <td>0.146945</td>\n",
       "      <td>0.063819</td>\n",
       "      <td>0.090121</td>\n",
       "    </tr>\n",
       "  </tbody>\n",
       "</table>\n",
       "</div>"
      ],
      "text/plain": [
       "                                mRS=0     mRS=1     mRS=2     mRS=3     mRS=4  \\\n",
       "drip_ship_lvo_ivt            0.103557  0.091883  0.132440  0.162241  0.218449   \n",
       "drip_ship_lvo_ivt_mt         0.114716  0.111330  0.145709  0.172771  0.205944   \n",
       "drip_ship_lvo_mix            0.113820  0.109832  0.144696  0.171965  0.206917   \n",
       "drip_ship_lvo_mt             0.114492  0.111393  0.145819  0.172843  0.205969   \n",
       "drip_ship_nlvo_ivt           0.361342  0.227713  0.116027  0.119072  0.097072   \n",
       "drip_ship_weighted           0.182500  0.207653  0.125321  0.138518  0.165893   \n",
       "drip_ship_weighted_treated   0.236545  0.168279  0.130482  0.145740  0.152454   \n",
       "mothership_lvo_ivt           0.097051  0.091035  0.132926  0.162281  0.220543   \n",
       "mothership_lvo_ivt_mt        0.155232  0.121472  0.144093  0.172983  0.189488   \n",
       "mothership_lvo_mix           0.150723  0.119113  0.143227  0.172153  0.191895   \n",
       "mothership_lvo_mt            0.155232  0.121472  0.144093  0.172983  0.189488   \n",
       "mothership_nlvo_ivt          0.344418  0.232942  0.116952  0.120624  0.101236   \n",
       "mothership_weighted          0.185042  0.209463  0.125251  0.138733  0.164522   \n",
       "mothership_weighted_treated  0.246760  0.175551  0.130200  0.146604  0.146945   \n",
       "\n",
       "                                mRS=5     mRS=6  \n",
       "drip_ship_lvo_ivt            0.114585  0.176843  \n",
       "drip_ship_lvo_ivt_mt         0.100365  0.149164  \n",
       "drip_ship_lvo_mix            0.101464  0.151306  \n",
       "drip_ship_lvo_mt             0.100340  0.149144  \n",
       "drip_ship_nlvo_ivt           0.033926  0.044848  \n",
       "drip_ship_weighted           0.075864  0.104252  \n",
       "drip_ship_weighted_treated   0.067977  0.098523  \n",
       "mothership_lvo_ivt           0.115988  0.180176  \n",
       "mothership_lvo_ivt_mt        0.089206  0.127526  \n",
       "mothership_lvo_mix           0.091282  0.131606  \n",
       "mothership_lvo_mt            0.089206  0.127526  \n",
       "mothership_nlvo_ivt          0.035894  0.047935  \n",
       "mothership_weighted          0.074829  0.102161  \n",
       "mothership_weighted_treated  0.063819  0.090121  "
      ]
     },
     "execution_count": 5,
     "metadata": {},
     "output_type": "execute_result"
    }
   ],
   "source": [
    "df_mrs_national_noncum"
   ]
  },
  {
   "cell_type": "code",
   "execution_count": 6,
   "metadata": {},
   "outputs": [],
   "source": [
    "df_mrs_national_std = pd.read_csv(os.path.join(dir_output, 'cohort_mrs_dists_weighted_national_std.csv'), index_col=0)"
   ]
  },
  {
   "cell_type": "code",
   "execution_count": 7,
   "metadata": {},
   "outputs": [
    {
     "data": {
      "text/html": [
       "<div>\n",
       "<style scoped>\n",
       "    .dataframe tbody tr th:only-of-type {\n",
       "        vertical-align: middle;\n",
       "    }\n",
       "\n",
       "    .dataframe tbody tr th {\n",
       "        vertical-align: top;\n",
       "    }\n",
       "\n",
       "    .dataframe thead th {\n",
       "        text-align: right;\n",
       "    }\n",
       "</style>\n",
       "<table border=\"1\" class=\"dataframe\">\n",
       "  <thead>\n",
       "    <tr style=\"text-align: right;\">\n",
       "      <th></th>\n",
       "      <th>mRS=0</th>\n",
       "      <th>mRS=1</th>\n",
       "      <th>mRS=2</th>\n",
       "      <th>mRS=3</th>\n",
       "      <th>mRS=4</th>\n",
       "      <th>mRS=5</th>\n",
       "      <th>mRS=6</th>\n",
       "    </tr>\n",
       "  </thead>\n",
       "  <tbody>\n",
       "    <tr>\n",
       "      <th>drip_ship_lvo_ivt</th>\n",
       "      <td>0.002619</td>\n",
       "      <td>0.000293</td>\n",
       "      <td>0.000223</td>\n",
       "      <td>0.000032</td>\n",
       "      <td>0.000826</td>\n",
       "      <td>0.000546</td>\n",
       "      <td>0.001285</td>\n",
       "    </tr>\n",
       "    <tr>\n",
       "      <th>drip_ship_lvo_ivt_mt</th>\n",
       "      <td>0.009830</td>\n",
       "      <td>0.003991</td>\n",
       "      <td>0.001429</td>\n",
       "      <td>0.001293</td>\n",
       "      <td>0.004516</td>\n",
       "      <td>0.003555</td>\n",
       "      <td>0.007289</td>\n",
       "    </tr>\n",
       "    <tr>\n",
       "      <th>drip_ship_lvo_mix</th>\n",
       "      <td>0.009244</td>\n",
       "      <td>0.003653</td>\n",
       "      <td>0.001177</td>\n",
       "      <td>0.001112</td>\n",
       "      <td>0.004216</td>\n",
       "      <td>0.003291</td>\n",
       "      <td>0.006774</td>\n",
       "    </tr>\n",
       "    <tr>\n",
       "      <th>drip_ship_lvo_mt</th>\n",
       "      <td>0.010367</td>\n",
       "      <td>0.003729</td>\n",
       "      <td>0.000536</td>\n",
       "      <td>0.000805</td>\n",
       "      <td>0.004602</td>\n",
       "      <td>0.003466</td>\n",
       "      <td>0.007233</td>\n",
       "    </tr>\n",
       "    <tr>\n",
       "      <th>drip_ship_nlvo_ivt</th>\n",
       "      <td>0.006673</td>\n",
       "      <td>0.002145</td>\n",
       "      <td>0.000390</td>\n",
       "      <td>0.000636</td>\n",
       "      <td>0.001602</td>\n",
       "      <td>0.000744</td>\n",
       "      <td>0.001157</td>\n",
       "    </tr>\n",
       "    <tr>\n",
       "      <th>drip_ship_weighted</th>\n",
       "      <td>0.001799</td>\n",
       "      <td>0.000373</td>\n",
       "      <td>0.000144</td>\n",
       "      <td>0.000129</td>\n",
       "      <td>0.000670</td>\n",
       "      <td>0.000474</td>\n",
       "      <td>0.000944</td>\n",
       "    </tr>\n",
       "    <tr>\n",
       "      <th>drip_ship_weighted_treated</th>\n",
       "      <td>0.007229</td>\n",
       "      <td>0.001500</td>\n",
       "      <td>0.000579</td>\n",
       "      <td>0.000520</td>\n",
       "      <td>0.002693</td>\n",
       "      <td>0.001906</td>\n",
       "      <td>0.003792</td>\n",
       "    </tr>\n",
       "    <tr>\n",
       "      <th>mothership_lvo_ivt</th>\n",
       "      <td>0.005683</td>\n",
       "      <td>0.000897</td>\n",
       "      <td>0.000350</td>\n",
       "      <td>0.000044</td>\n",
       "      <td>0.001879</td>\n",
       "      <td>0.001281</td>\n",
       "      <td>0.003087</td>\n",
       "    </tr>\n",
       "    <tr>\n",
       "      <th>mothership_lvo_ivt_mt</th>\n",
       "      <td>0.012266</td>\n",
       "      <td>0.002498</td>\n",
       "      <td>0.000931</td>\n",
       "      <td>0.000322</td>\n",
       "      <td>0.004746</td>\n",
       "      <td>0.003068</td>\n",
       "      <td>0.005774</td>\n",
       "    </tr>\n",
       "    <tr>\n",
       "      <th>mothership_lvo_mix</th>\n",
       "      <td>0.011756</td>\n",
       "      <td>0.002374</td>\n",
       "      <td>0.000886</td>\n",
       "      <td>0.000298</td>\n",
       "      <td>0.004524</td>\n",
       "      <td>0.002929</td>\n",
       "      <td>0.005566</td>\n",
       "    </tr>\n",
       "    <tr>\n",
       "      <th>mothership_lvo_mt</th>\n",
       "      <td>0.012266</td>\n",
       "      <td>0.002498</td>\n",
       "      <td>0.000931</td>\n",
       "      <td>0.000322</td>\n",
       "      <td>0.004746</td>\n",
       "      <td>0.003068</td>\n",
       "      <td>0.005774</td>\n",
       "    </tr>\n",
       "    <tr>\n",
       "      <th>mothership_nlvo_ivt</th>\n",
       "      <td>0.015198</td>\n",
       "      <td>0.004439</td>\n",
       "      <td>0.000755</td>\n",
       "      <td>0.001315</td>\n",
       "      <td>0.003865</td>\n",
       "      <td>0.001869</td>\n",
       "      <td>0.002973</td>\n",
       "    </tr>\n",
       "    <tr>\n",
       "      <th>mothership_weighted</th>\n",
       "      <td>0.003350</td>\n",
       "      <td>0.000257</td>\n",
       "      <td>0.000203</td>\n",
       "      <td>0.000195</td>\n",
       "      <td>0.001044</td>\n",
       "      <td>0.000598</td>\n",
       "      <td>0.001065</td>\n",
       "    </tr>\n",
       "    <tr>\n",
       "      <th>mothership_weighted_treated</th>\n",
       "      <td>0.013461</td>\n",
       "      <td>0.001035</td>\n",
       "      <td>0.000818</td>\n",
       "      <td>0.000783</td>\n",
       "      <td>0.004197</td>\n",
       "      <td>0.002404</td>\n",
       "      <td>0.004280</td>\n",
       "    </tr>\n",
       "  </tbody>\n",
       "</table>\n",
       "</div>"
      ],
      "text/plain": [
       "                                mRS=0     mRS=1     mRS=2     mRS=3     mRS=4  \\\n",
       "drip_ship_lvo_ivt            0.002619  0.000293  0.000223  0.000032  0.000826   \n",
       "drip_ship_lvo_ivt_mt         0.009830  0.003991  0.001429  0.001293  0.004516   \n",
       "drip_ship_lvo_mix            0.009244  0.003653  0.001177  0.001112  0.004216   \n",
       "drip_ship_lvo_mt             0.010367  0.003729  0.000536  0.000805  0.004602   \n",
       "drip_ship_nlvo_ivt           0.006673  0.002145  0.000390  0.000636  0.001602   \n",
       "drip_ship_weighted           0.001799  0.000373  0.000144  0.000129  0.000670   \n",
       "drip_ship_weighted_treated   0.007229  0.001500  0.000579  0.000520  0.002693   \n",
       "mothership_lvo_ivt           0.005683  0.000897  0.000350  0.000044  0.001879   \n",
       "mothership_lvo_ivt_mt        0.012266  0.002498  0.000931  0.000322  0.004746   \n",
       "mothership_lvo_mix           0.011756  0.002374  0.000886  0.000298  0.004524   \n",
       "mothership_lvo_mt            0.012266  0.002498  0.000931  0.000322  0.004746   \n",
       "mothership_nlvo_ivt          0.015198  0.004439  0.000755  0.001315  0.003865   \n",
       "mothership_weighted          0.003350  0.000257  0.000203  0.000195  0.001044   \n",
       "mothership_weighted_treated  0.013461  0.001035  0.000818  0.000783  0.004197   \n",
       "\n",
       "                                mRS=5     mRS=6  \n",
       "drip_ship_lvo_ivt            0.000546  0.001285  \n",
       "drip_ship_lvo_ivt_mt         0.003555  0.007289  \n",
       "drip_ship_lvo_mix            0.003291  0.006774  \n",
       "drip_ship_lvo_mt             0.003466  0.007233  \n",
       "drip_ship_nlvo_ivt           0.000744  0.001157  \n",
       "drip_ship_weighted           0.000474  0.000944  \n",
       "drip_ship_weighted_treated   0.001906  0.003792  \n",
       "mothership_lvo_ivt           0.001281  0.003087  \n",
       "mothership_lvo_ivt_mt        0.003068  0.005774  \n",
       "mothership_lvo_mix           0.002929  0.005566  \n",
       "mothership_lvo_mt            0.003068  0.005774  \n",
       "mothership_nlvo_ivt          0.001869  0.002973  \n",
       "mothership_weighted          0.000598  0.001065  \n",
       "mothership_weighted_treated  0.002404  0.004280  "
      ]
     },
     "execution_count": 7,
     "metadata": {},
     "output_type": "execute_result"
    }
   ],
   "source": [
    "df_mrs_national_std"
   ]
  },
  {
   "cell_type": "code",
   "execution_count": 8,
   "metadata": {},
   "outputs": [
    {
     "data": {
      "text/plain": [
       "array(['drip_ship_lvo_ivt', 'drip_ship_lvo_ivt_mt', 'drip_ship_lvo_mix',\n",
       "       'drip_ship_lvo_mt', 'drip_ship_nlvo_ivt', 'drip_ship_weighted',\n",
       "       'drip_ship_weighted_treated', 'mothership_lvo_ivt',\n",
       "       'mothership_lvo_ivt_mt', 'mothership_lvo_mix', 'mothership_lvo_mt',\n",
       "       'mothership_nlvo_ivt', 'mothership_weighted',\n",
       "       'mothership_weighted_treated'], dtype=object)"
      ]
     },
     "execution_count": 8,
     "metadata": {},
     "output_type": "execute_result"
    }
   ],
   "source": [
    "cols_each_scen = df_mrs_national_noncum.index.values\n",
    "\n",
    "cols_each_scen"
   ]
  },
  {
   "cell_type": "markdown",
   "metadata": {},
   "source": [
    "Reference no-treatment mRS distributions:"
   ]
  },
  {
   "cell_type": "code",
   "execution_count": 9,
   "metadata": {},
   "outputs": [],
   "source": [
    "mrs_dists, mrs_dists_notes = (\n",
    "    stroke_outcome.outcome_utilities.import_mrs_dists_from_file())"
   ]
  },
  {
   "cell_type": "code",
   "execution_count": 10,
   "metadata": {},
   "outputs": [
    {
     "data": {
      "text/html": [
       "<div>\n",
       "<style scoped>\n",
       "    .dataframe tbody tr th:only-of-type {\n",
       "        vertical-align: middle;\n",
       "    }\n",
       "\n",
       "    .dataframe tbody tr th {\n",
       "        vertical-align: top;\n",
       "    }\n",
       "\n",
       "    .dataframe thead th {\n",
       "        text-align: right;\n",
       "    }\n",
       "</style>\n",
       "<table border=\"1\" class=\"dataframe\">\n",
       "  <thead>\n",
       "    <tr style=\"text-align: right;\">\n",
       "      <th></th>\n",
       "      <th>mRS&lt;=0</th>\n",
       "      <th>mRS&lt;=1</th>\n",
       "      <th>mRS&lt;=2</th>\n",
       "      <th>mRS&lt;=3</th>\n",
       "      <th>mRS&lt;=4</th>\n",
       "      <th>mRS&lt;=5</th>\n",
       "      <th>mRS&lt;=6</th>\n",
       "    </tr>\n",
       "    <tr>\n",
       "      <th>Stroke type</th>\n",
       "      <th></th>\n",
       "      <th></th>\n",
       "      <th></th>\n",
       "      <th></th>\n",
       "      <th></th>\n",
       "      <th></th>\n",
       "      <th></th>\n",
       "    </tr>\n",
       "  </thead>\n",
       "  <tbody>\n",
       "    <tr>\n",
       "      <th>pre_stroke_nlvo</th>\n",
       "      <td>0.583</td>\n",
       "      <td>0.746</td>\n",
       "      <td>0.850</td>\n",
       "      <td>0.951</td>\n",
       "      <td>0.993</td>\n",
       "      <td>1.000</td>\n",
       "      <td>1</td>\n",
       "    </tr>\n",
       "    <tr>\n",
       "      <th>pre_stroke_lvo</th>\n",
       "      <td>0.408</td>\n",
       "      <td>0.552</td>\n",
       "      <td>0.672</td>\n",
       "      <td>0.838</td>\n",
       "      <td>0.956</td>\n",
       "      <td>1.000</td>\n",
       "      <td>1</td>\n",
       "    </tr>\n",
       "    <tr>\n",
       "      <th>no_treatment_lvo</th>\n",
       "      <td>0.050</td>\n",
       "      <td>0.129</td>\n",
       "      <td>0.265</td>\n",
       "      <td>0.429</td>\n",
       "      <td>0.676</td>\n",
       "      <td>0.811</td>\n",
       "      <td>1</td>\n",
       "    </tr>\n",
       "    <tr>\n",
       "      <th>no_treatment_nlvo</th>\n",
       "      <td>0.198</td>\n",
       "      <td>0.460</td>\n",
       "      <td>0.580</td>\n",
       "      <td>0.708</td>\n",
       "      <td>0.856</td>\n",
       "      <td>0.918</td>\n",
       "      <td>1</td>\n",
       "    </tr>\n",
       "    <tr>\n",
       "      <th>no_effect_nlvo_ivt_deaths</th>\n",
       "      <td>0.196</td>\n",
       "      <td>0.455</td>\n",
       "      <td>0.574</td>\n",
       "      <td>0.701</td>\n",
       "      <td>0.847</td>\n",
       "      <td>0.908</td>\n",
       "      <td>1</td>\n",
       "    </tr>\n",
       "    <tr>\n",
       "      <th>no_effect_lvo_ivt_deaths</th>\n",
       "      <td>0.048</td>\n",
       "      <td>0.124</td>\n",
       "      <td>0.255</td>\n",
       "      <td>0.414</td>\n",
       "      <td>0.653</td>\n",
       "      <td>0.783</td>\n",
       "      <td>1</td>\n",
       "    </tr>\n",
       "    <tr>\n",
       "      <th>no_effect_lvo_mt_deaths</th>\n",
       "      <td>0.048</td>\n",
       "      <td>0.124</td>\n",
       "      <td>0.255</td>\n",
       "      <td>0.412</td>\n",
       "      <td>0.649</td>\n",
       "      <td>0.779</td>\n",
       "      <td>1</td>\n",
       "    </tr>\n",
       "    <tr>\n",
       "      <th>t0_treatment_nlvo_ivt</th>\n",
       "      <td>0.445</td>\n",
       "      <td>0.642</td>\n",
       "      <td>0.752</td>\n",
       "      <td>0.862</td>\n",
       "      <td>0.941</td>\n",
       "      <td>0.967</td>\n",
       "      <td>1</td>\n",
       "    </tr>\n",
       "    <tr>\n",
       "      <th>t0_treatment_lvo_ivt</th>\n",
       "      <td>0.140</td>\n",
       "      <td>0.233</td>\n",
       "      <td>0.361</td>\n",
       "      <td>0.522</td>\n",
       "      <td>0.730</td>\n",
       "      <td>0.838</td>\n",
       "      <td>1</td>\n",
       "    </tr>\n",
       "    <tr>\n",
       "      <th>t0_treatment_lvo_mt</th>\n",
       "      <td>0.306</td>\n",
       "      <td>0.429</td>\n",
       "      <td>0.548</td>\n",
       "      <td>0.707</td>\n",
       "      <td>0.851</td>\n",
       "      <td>0.915</td>\n",
       "      <td>1</td>\n",
       "    </tr>\n",
       "  </tbody>\n",
       "</table>\n",
       "</div>"
      ],
      "text/plain": [
       "                           mRS<=0  mRS<=1  mRS<=2  mRS<=3  mRS<=4  mRS<=5  \\\n",
       "Stroke type                                                                 \n",
       "pre_stroke_nlvo             0.583   0.746   0.850   0.951   0.993   1.000   \n",
       "pre_stroke_lvo              0.408   0.552   0.672   0.838   0.956   1.000   \n",
       "no_treatment_lvo            0.050   0.129   0.265   0.429   0.676   0.811   \n",
       "no_treatment_nlvo           0.198   0.460   0.580   0.708   0.856   0.918   \n",
       "no_effect_nlvo_ivt_deaths   0.196   0.455   0.574   0.701   0.847   0.908   \n",
       "no_effect_lvo_ivt_deaths    0.048   0.124   0.255   0.414   0.653   0.783   \n",
       "no_effect_lvo_mt_deaths     0.048   0.124   0.255   0.412   0.649   0.779   \n",
       "t0_treatment_nlvo_ivt       0.445   0.642   0.752   0.862   0.941   0.967   \n",
       "t0_treatment_lvo_ivt        0.140   0.233   0.361   0.522   0.730   0.838   \n",
       "t0_treatment_lvo_mt         0.306   0.429   0.548   0.707   0.851   0.915   \n",
       "\n",
       "                           mRS<=6  \n",
       "Stroke type                        \n",
       "pre_stroke_nlvo                 1  \n",
       "pre_stroke_lvo                  1  \n",
       "no_treatment_lvo                1  \n",
       "no_treatment_nlvo               1  \n",
       "no_effect_nlvo_ivt_deaths       1  \n",
       "no_effect_lvo_ivt_deaths        1  \n",
       "no_effect_lvo_mt_deaths         1  \n",
       "t0_treatment_nlvo_ivt           1  \n",
       "t0_treatment_lvo_ivt            1  \n",
       "t0_treatment_lvo_mt             1  "
      ]
     },
     "execution_count": 10,
     "metadata": {},
     "output_type": "execute_result"
    }
   ],
   "source": [
    "mrs_dists"
   ]
  },
  {
   "cell_type": "code",
   "execution_count": 11,
   "metadata": {},
   "outputs": [],
   "source": [
    "mrs_dist_nlvo_no_treatment = mrs_dists.loc['no_treatment_nlvo'].values\n",
    "mrs_dist_lvo_no_treatment = mrs_dists.loc['no_treatment_lvo'].values\n",
    "\n",
    "mrs_dist_nlvo_no_treatment_noncum = np.diff(mrs_dist_nlvo_no_treatment, prepend=0.0)\n",
    "mrs_dist_lvo_no_treatment_noncum = np.diff(mrs_dist_lvo_no_treatment, prepend=0.0)"
   ]
  },
  {
   "cell_type": "markdown",
   "metadata": {},
   "source": [
    "Stroke type proportions:"
   ]
  },
  {
   "cell_type": "code",
   "execution_count": 12,
   "metadata": {},
   "outputs": [],
   "source": [
    "proportions = pd.read_csv(\n",
    "    os.path.join(dir_output, 'patient_proportions.csv'),\n",
    "    index_col=0, header=None).squeeze()"
   ]
  },
  {
   "cell_type": "code",
   "execution_count": 13,
   "metadata": {},
   "outputs": [
    {
     "data": {
      "text/plain": [
       "0\n",
       "haemorrhagic         0.13600\n",
       "lvo_no_treatment     0.14648\n",
       "lvo_ivt_only         0.00840\n",
       "lvo_ivt_mt           0.08500\n",
       "lvo_mt_only          0.01500\n",
       "nlvo_no_treatment    0.50252\n",
       "nlvo_ivt             0.10660\n",
       "Name: 1, dtype: float64"
      ]
     },
     "execution_count": 13,
     "metadata": {},
     "output_type": "execute_result"
    }
   ],
   "source": [
    "proportions"
   ]
  },
  {
   "cell_type": "markdown",
   "metadata": {},
   "source": [
    "### Calculate weighted no treatment dist:"
   ]
  },
  {
   "cell_type": "code",
   "execution_count": 14,
   "metadata": {},
   "outputs": [],
   "source": [
    "prop_lvo = 0.0\n",
    "prop_nlvo = 0.0\n",
    "\n",
    "for key, value in proportions.items():\n",
    "    if 'nlvo' in key:\n",
    "        prop_nlvo += value\n",
    "    elif 'lvo' in key:\n",
    "        prop_lvo += value"
   ]
  },
  {
   "cell_type": "code",
   "execution_count": 15,
   "metadata": {},
   "outputs": [
    {
     "data": {
      "text/plain": [
       "(0.25488, 0.60912)"
      ]
     },
     "execution_count": 15,
     "metadata": {},
     "output_type": "execute_result"
    }
   ],
   "source": [
    "prop_lvo, prop_nlvo"
   ]
  },
  {
   "cell_type": "code",
   "execution_count": 16,
   "metadata": {},
   "outputs": [],
   "source": [
    "mrs_dist_weighted_no_treatment_noncum = (\n",
    "    (mrs_dist_nlvo_no_treatment_noncum * prop_nlvo) +\n",
    "    (mrs_dist_lvo_no_treatment_noncum * prop_lvo)\n",
    ")\n",
    "\n",
    "# Remove the non-ischaemic patients:\n",
    "mrs_dist_weighted_no_treatment_noncum = (\n",
    "    mrs_dist_weighted_no_treatment_noncum / (prop_nlvo + prop_lvo)\n",
    ")"
   ]
  },
  {
   "cell_type": "code",
   "execution_count": 17,
   "metadata": {},
   "outputs": [
    {
     "data": {
      "text/plain": [
       "0.9999999999999999"
      ]
     },
     "execution_count": 17,
     "metadata": {},
     "output_type": "execute_result"
    }
   ],
   "source": [
    "np.sum(mrs_dist_weighted_no_treatment_noncum)"
   ]
  },
  {
   "cell_type": "code",
   "execution_count": 18,
   "metadata": {},
   "outputs": [],
   "source": [
    "dict_no_treat = {\n",
    "    'nlvo': mrs_dist_nlvo_no_treatment_noncum,\n",
    "    'lvo': mrs_dist_lvo_no_treatment_noncum,\n",
    "    'weighted': mrs_dist_weighted_no_treatment_noncum,\n",
    "    'weighted_treated': mrs_dist_weighted_no_treatment_noncum,\n",
    "}"
   ]
  },
  {
   "cell_type": "markdown",
   "metadata": {},
   "source": [
    "## Gather data for plots"
   ]
  },
  {
   "cell_type": "code",
   "execution_count": 21,
   "metadata": {},
   "outputs": [],
   "source": [
    "def gather_dists(scenario, df_mrs_national_noncum, df_mrs_national_std):\n",
    "    d = {}\n",
    "\n",
    "    for cohort in ['nlvo_ivt', 'lvo_mix', 'weighted', 'weighted_treated']:\n",
    "        ind = f'{scenario}_{cohort}'\n",
    "\n",
    "        d[cohort] = {}\n",
    "        d[cohort]['values'] = df_mrs_national_noncum.loc[ind]\n",
    "        d[cohort]['std'] = df_mrs_national_std.loc[ind]\n",
    "    \n",
    "    return d"
   ]
  },
  {
   "cell_type": "code",
   "execution_count": 22,
   "metadata": {},
   "outputs": [],
   "source": [
    "dict_drip_ship = gather_dists('drip_ship', df_mrs_national_noncum, df_mrs_national_std)\n",
    "dict_mothership = gather_dists('mothership', df_mrs_national_noncum, df_mrs_national_std)"
   ]
  },
  {
   "cell_type": "markdown",
   "metadata": {},
   "source": [
    "## Plot"
   ]
  },
  {
   "cell_type": "code",
   "execution_count": 23,
   "metadata": {},
   "outputs": [],
   "source": [
    "colour_drip = '#00517f'   # seaborn colorblind blue darker\n",
    "colour_moth = '#0072b2'  # seaborn colorblind blue\n",
    "colour_no_treat = 'DarkGray'"
   ]
  },
  {
   "cell_type": "code",
   "execution_count": 24,
   "metadata": {},
   "outputs": [
    {
     "data": {
      "image/png": "[encoded data removed]",
      "text/plain": [
       "<Figure size 1500x300 with 5 Axes>"
      ]
     },
     "metadata": {},
     "output_type": "display_data"
    }
   ],
   "source": [
    "fig, axs = plt.subplots(1, 5, figsize=(15, 3), sharey=True, gridspec_kw={'wspace': 0.1, 'width_ratios':[1, 1, 1, 0.5, 1]})\n",
    "\n",
    "bar_width = 0.25\n",
    "offsets = [-bar_width, 0.0, bar_width]\n",
    "\n",
    "legend_drawn = False\n",
    "for c, cohort in enumerate(['nlvo_ivt', 'lvo_mix', 'weighted', 'weighted_treated']):\n",
    "    dist_drip = dict_drip_ship[cohort]['values']\n",
    "    std_drip = dict_drip_ship[cohort]['std']\n",
    "    dist_moth = dict_mothership[cohort]['values']\n",
    "    std_moth = dict_mothership[cohort]['std']\n",
    "    \n",
    "    if 'nlvo' in cohort:\n",
    "        ax = axs[0]\n",
    "        dist_no_treat = dict_no_treat['nlvo']\n",
    "    elif 'lvo' in cohort:\n",
    "        ax = axs[1]\n",
    "        dist_no_treat = dict_no_treat['lvo']\n",
    "    elif 'treated' in cohort:\n",
    "        ax = axs[2]\n",
    "        dist_no_treat = dict_no_treat['weighted_treated']\n",
    "    else:\n",
    "        ax = axs[-1]\n",
    "        dist_no_treat = dict_no_treat['weighted']\n",
    "\n",
    "    ax.bar(\n",
    "        np.arange(7) + offsets[0], dist_drip, yerr=std_drip, capsize=2.0,\n",
    "        facecolor=colour_drip, label='Drip & ship', width=bar_width\n",
    "        )\n",
    "    ax.bar(\n",
    "        np.arange(7) + offsets[1], dist_moth, yerr=std_moth, capsize=2.0,\n",
    "        facecolor=colour_moth, label='Mothership', width=bar_width\n",
    "        )\n",
    "    ax.bar(\n",
    "        np.arange(7) + offsets[2], dist_no_treat,\n",
    "        facecolor=colour_no_treat, label='No treatment', width=bar_width\n",
    "        )\n",
    "\n",
    "    if legend_drawn is False:\n",
    "        fig.legend(bbox_to_anchor=(0.5, -0.1), loc='upper center', ncol=3)\n",
    "        legend_drawn = True\n",
    "\n",
    "for ax in axs:\n",
    "    ax.set_xticks(range(7))\n",
    "\n",
    "axs[0].set_title('nLVO')\n",
    "axs[1].set_title('LVO')\n",
    "axs[2].set_title('Treated\\nischaemic population')\n",
    "axs[-1].set_title('Total\\nischaemic population')\n",
    "\n",
    "axs[0].set_ylabel('Probability')\n",
    "axs[-1].set_ylabel('Probability')\n",
    "axs[-1].yaxis.set_tick_params(labelleft=True)  # turn the tick labels back on\n",
    "axs[1].set_xlabel('mRS')\n",
    "axs[-1].set_xlabel('mRS')\n",
    "\n",
    "axs[3].axis('off')\n",
    "\n",
    "plt.savefig(os.path.join(dir_output, 'mrs_dists_redirection_areas.png'), bbox_inches='tight')\n",
    "plt.show()"
   ]
  },
  {
   "cell_type": "markdown",
   "metadata": {},
   "source": [
    "### Save a copy of data behind the figure\n",
    "\n",
    "Keep a copy of the separate LVO cohorts even though the figure only shows the combined LVO cohort.\n",
    "\n",
    "Add the no-treatment distributions into the starting data:"
   ]
  },
  {
   "cell_type": "code",
   "execution_count": 27,
   "metadata": {},
   "outputs": [],
   "source": [
    "for key, value in dict_no_treat.items():\n",
    "    ind = f'no_treatment_{key}'\n",
    "    df_mrs_national_noncum.loc[ind] = value\n",
    "    df_mrs_national_std.loc[ind] = pd.NA"
   ]
  },
  {
   "cell_type": "code",
   "execution_count": 30,
   "metadata": {},
   "outputs": [],
   "source": [
    "# Save to file:\n",
    "df_mrs_national_noncum.to_csv(os.path.join(dir_output, 'fig_data_mrs_dists.csv'))\n",
    "df_mrs_national_std.to_csv(os.path.join(dir_output, 'fig_data_mrs_dists_std.csv'))"
   ]
  },
  {
   "cell_type": "code",
   "execution_count": null,
   "metadata": {},
   "outputs": [],
   "source": []
  }
 ],
 "metadata": {
  "kernelspec": {
   "display_name": "Python 3 (ipykernel)",
   "language": "python",
   "name": "python3"
  },
  "language_info": {
   "codemirror_mode": {
    "name": "ipython",
    "version": 3
   },
   "file_extension": ".py",
   "mimetype": "text/x-python",
   "name": "python",
   "nbconvert_exporter": "python",
   "pygments_lexer": "ipython3",
   "version": "3.9.16"
  },
  "vscode": {
   "interpreter": {
    "hash": "a0926c079b4c466635c292471a3e821b7c06121d6fcbcec81aabb07ff30350cc"
   }
  }
 },
 "nbformat": 4,
 "nbformat_minor": 4
}
