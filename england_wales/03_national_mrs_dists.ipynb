{
 "cells": [
  {
   "attachments": {},
   "cell_type": "markdown",
   "metadata": {},
   "source": [
    "# National mRS distributions"
   ]
  },
  {
   "cell_type": "code",
   "execution_count": 1,
   "metadata": {},
   "outputs": [],
   "source": [
    "dir_output = 'output'\n",
    "limit_to_england = False"
   ]
  },
  {
   "attachments": {},
   "cell_type": "markdown",
   "metadata": {},
   "source": [
    "## Import packages"
   ]
  },
  {
   "cell_type": "code",
   "execution_count": 2,
   "metadata": {},
   "outputs": [],
   "source": [
    "import matplotlib.pyplot as plt\n",
    "import numpy as np\n",
    "import pandas as pd\n",
    "import os\n",
    "\n",
    "import stroke_outcome.outcome_utilities\n",
    "\n",
    "pd.set_option('display.max_rows', 150)"
   ]
  },
  {
   "cell_type": "code",
   "execution_count": 3,
   "metadata": {},
   "outputs": [
    {
     "data": {
      "text/plain": [
       "'0.1.6'"
      ]
     },
     "execution_count": 3,
     "metadata": {},
     "output_type": "execute_result"
    }
   ],
   "source": [
    "stroke_outcome.__version__"
   ]
  },
  {
   "attachments": {},
   "cell_type": "markdown",
   "metadata": {},
   "source": [
    "## Load data\n",
    "\n",
    "Results from outcome model:"
   ]
  },
  {
   "cell_type": "code",
   "execution_count": 4,
   "metadata": {},
   "outputs": [],
   "source": [
    "df_mrs_national = pd.read_csv(os.path.join(dir_output, 'cohort_mrs_dists_weighted_national.csv'), index_col=0)"
   ]
  },
  {
   "cell_type": "code",
   "execution_count": 5,
   "metadata": {},
   "outputs": [
    {
     "data": {
      "text/html": [
       "<div>\n",
       "<style scoped>\n",
       "    .dataframe tbody tr th:only-of-type {\n",
       "        vertical-align: middle;\n",
       "    }\n",
       "\n",
       "    .dataframe tbody tr th {\n",
       "        vertical-align: top;\n",
       "    }\n",
       "\n",
       "    .dataframe thead th {\n",
       "        text-align: right;\n",
       "    }\n",
       "</style>\n",
       "<table border=\"1\" class=\"dataframe\">\n",
       "  <thead>\n",
       "    <tr style=\"text-align: right;\">\n",
       "      <th></th>\n",
       "      <th>National</th>\n",
       "    </tr>\n",
       "  </thead>\n",
       "  <tbody>\n",
       "    <tr>\n",
       "      <th>drip_ship_lvo_ivt_mrs_dists_noncum_0</th>\n",
       "      <td>0.103557</td>\n",
       "    </tr>\n",
       "    <tr>\n",
       "      <th>drip_ship_lvo_ivt_mrs_dists_noncum_1</th>\n",
       "      <td>0.091883</td>\n",
       "    </tr>\n",
       "    <tr>\n",
       "      <th>drip_ship_lvo_ivt_mrs_dists_noncum_2</th>\n",
       "      <td>0.132440</td>\n",
       "    </tr>\n",
       "    <tr>\n",
       "      <th>drip_ship_lvo_ivt_mrs_dists_noncum_3</th>\n",
       "      <td>0.162241</td>\n",
       "    </tr>\n",
       "    <tr>\n",
       "      <th>drip_ship_lvo_ivt_mrs_dists_noncum_4</th>\n",
       "      <td>0.218449</td>\n",
       "    </tr>\n",
       "    <tr>\n",
       "      <th>...</th>\n",
       "      <td>...</td>\n",
       "    </tr>\n",
       "    <tr>\n",
       "      <th>mothership_weighted_treated_mrs_dists_noncum_std_2</th>\n",
       "      <td>0.000818</td>\n",
       "    </tr>\n",
       "    <tr>\n",
       "      <th>mothership_weighted_treated_mrs_dists_noncum_std_3</th>\n",
       "      <td>0.000783</td>\n",
       "    </tr>\n",
       "    <tr>\n",
       "      <th>mothership_weighted_treated_mrs_dists_noncum_std_4</th>\n",
       "      <td>0.004197</td>\n",
       "    </tr>\n",
       "    <tr>\n",
       "      <th>mothership_weighted_treated_mrs_dists_noncum_std_5</th>\n",
       "      <td>0.002404</td>\n",
       "    </tr>\n",
       "    <tr>\n",
       "      <th>mothership_weighted_treated_mrs_dists_noncum_std_6</th>\n",
       "      <td>0.004280</td>\n",
       "    </tr>\n",
       "  </tbody>\n",
       "</table>\n",
       "<p>294 rows × 1 columns</p>\n",
       "</div>"
      ],
      "text/plain": [
       "                                                    National\n",
       "drip_ship_lvo_ivt_mrs_dists_noncum_0                0.103557\n",
       "drip_ship_lvo_ivt_mrs_dists_noncum_1                0.091883\n",
       "drip_ship_lvo_ivt_mrs_dists_noncum_2                0.132440\n",
       "drip_ship_lvo_ivt_mrs_dists_noncum_3                0.162241\n",
       "drip_ship_lvo_ivt_mrs_dists_noncum_4                0.218449\n",
       "...                                                      ...\n",
       "mothership_weighted_treated_mrs_dists_noncum_std_2  0.000818\n",
       "mothership_weighted_treated_mrs_dists_noncum_std_3  0.000783\n",
       "mothership_weighted_treated_mrs_dists_noncum_std_4  0.004197\n",
       "mothership_weighted_treated_mrs_dists_noncum_std_5  0.002404\n",
       "mothership_weighted_treated_mrs_dists_noncum_std_6  0.004280\n",
       "\n",
       "[294 rows x 1 columns]"
      ]
     },
     "execution_count": 5,
     "metadata": {},
     "output_type": "execute_result"
    }
   ],
   "source": [
    "df_mrs_national.T"
   ]
  },
  {
   "cell_type": "code",
   "execution_count": 6,
   "metadata": {},
   "outputs": [
    {
     "data": {
      "text/plain": [
       "['drip_ship_lvo_ivt_mrs_dists',\n",
       " 'drip_ship_lvo_ivt_mt_mrs_dists',\n",
       " 'drip_ship_lvo_mix_mrs_dists',\n",
       " 'drip_ship_lvo_mt_mrs_dists',\n",
       " 'drip_ship_nlvo_ivt_mrs_dists',\n",
       " 'drip_ship_weighted_mrs_dists',\n",
       " 'drip_ship_weighted_treated_mrs_dists',\n",
       " 'mothership_lvo_ivt_mrs_dists',\n",
       " 'mothership_lvo_ivt_mt_mrs_dists',\n",
       " 'mothership_lvo_mix_mrs_dists',\n",
       " 'mothership_lvo_mt_mrs_dists',\n",
       " 'mothership_nlvo_ivt_mrs_dists',\n",
       " 'mothership_weighted_mrs_dists',\n",
       " 'mothership_weighted_treated_mrs_dists']"
      ]
     },
     "execution_count": 6,
     "metadata": {},
     "output_type": "execute_result"
    }
   ],
   "source": [
    "# Remove repeats from all the mRS bands:\n",
    "cols_each_scen = sorted(list(set([c.split('mrs_dists')[0] + 'mrs_dists' for c in df_mrs_national.columns])))\n",
    "\n",
    "cols_each_scen"
   ]
  },
  {
   "cell_type": "markdown",
   "metadata": {},
   "source": [
    "Reference no-treatment mRS distributions:"
   ]
  },
  {
   "cell_type": "code",
   "execution_count": 7,
   "metadata": {},
   "outputs": [],
   "source": [
    "mrs_dists, mrs_dists_notes = (\n",
    "    stroke_outcome.outcome_utilities.import_mrs_dists_from_file())"
   ]
  },
  {
   "cell_type": "code",
   "execution_count": 8,
   "metadata": {},
   "outputs": [
    {
     "data": {
      "text/html": [
       "<div>\n",
       "<style scoped>\n",
       "    .dataframe tbody tr th:only-of-type {\n",
       "        vertical-align: middle;\n",
       "    }\n",
       "\n",
       "    .dataframe tbody tr th {\n",
       "        vertical-align: top;\n",
       "    }\n",
       "\n",
       "    .dataframe thead th {\n",
       "        text-align: right;\n",
       "    }\n",
       "</style>\n",
       "<table border=\"1\" class=\"dataframe\">\n",
       "  <thead>\n",
       "    <tr style=\"text-align: right;\">\n",
       "      <th></th>\n",
       "      <th>mRS&lt;=0</th>\n",
       "      <th>mRS&lt;=1</th>\n",
       "      <th>mRS&lt;=2</th>\n",
       "      <th>mRS&lt;=3</th>\n",
       "      <th>mRS&lt;=4</th>\n",
       "      <th>mRS&lt;=5</th>\n",
       "      <th>mRS&lt;=6</th>\n",
       "    </tr>\n",
       "    <tr>\n",
       "      <th>Stroke type</th>\n",
       "      <th></th>\n",
       "      <th></th>\n",
       "      <th></th>\n",
       "      <th></th>\n",
       "      <th></th>\n",
       "      <th></th>\n",
       "      <th></th>\n",
       "    </tr>\n",
       "  </thead>\n",
       "  <tbody>\n",
       "    <tr>\n",
       "      <th>pre_stroke_nlvo</th>\n",
       "      <td>0.583</td>\n",
       "      <td>0.746</td>\n",
       "      <td>0.850</td>\n",
       "      <td>0.951</td>\n",
       "      <td>0.993</td>\n",
       "      <td>1.000</td>\n",
       "      <td>1</td>\n",
       "    </tr>\n",
       "    <tr>\n",
       "      <th>pre_stroke_lvo</th>\n",
       "      <td>0.408</td>\n",
       "      <td>0.552</td>\n",
       "      <td>0.672</td>\n",
       "      <td>0.838</td>\n",
       "      <td>0.956</td>\n",
       "      <td>1.000</td>\n",
       "      <td>1</td>\n",
       "    </tr>\n",
       "    <tr>\n",
       "      <th>no_treatment_lvo</th>\n",
       "      <td>0.050</td>\n",
       "      <td>0.129</td>\n",
       "      <td>0.265</td>\n",
       "      <td>0.429</td>\n",
       "      <td>0.676</td>\n",
       "      <td>0.811</td>\n",
       "      <td>1</td>\n",
       "    </tr>\n",
       "    <tr>\n",
       "      <th>no_treatment_nlvo</th>\n",
       "      <td>0.198</td>\n",
       "      <td>0.460</td>\n",
       "      <td>0.580</td>\n",
       "      <td>0.708</td>\n",
       "      <td>0.856</td>\n",
       "      <td>0.918</td>\n",
       "      <td>1</td>\n",
       "    </tr>\n",
       "    <tr>\n",
       "      <th>no_effect_nlvo_ivt_deaths</th>\n",
       "      <td>0.196</td>\n",
       "      <td>0.455</td>\n",
       "      <td>0.574</td>\n",
       "      <td>0.701</td>\n",
       "      <td>0.847</td>\n",
       "      <td>0.908</td>\n",
       "      <td>1</td>\n",
       "    </tr>\n",
       "    <tr>\n",
       "      <th>no_effect_lvo_ivt_deaths</th>\n",
       "      <td>0.048</td>\n",
       "      <td>0.124</td>\n",
       "      <td>0.255</td>\n",
       "      <td>0.414</td>\n",
       "      <td>0.653</td>\n",
       "      <td>0.783</td>\n",
       "      <td>1</td>\n",
       "    </tr>\n",
       "    <tr>\n",
       "      <th>no_effect_lvo_mt_deaths</th>\n",
       "      <td>0.048</td>\n",
       "      <td>0.124</td>\n",
       "      <td>0.255</td>\n",
       "      <td>0.412</td>\n",
       "      <td>0.649</td>\n",
       "      <td>0.779</td>\n",
       "      <td>1</td>\n",
       "    </tr>\n",
       "    <tr>\n",
       "      <th>t0_treatment_nlvo_ivt</th>\n",
       "      <td>0.445</td>\n",
       "      <td>0.642</td>\n",
       "      <td>0.752</td>\n",
       "      <td>0.862</td>\n",
       "      <td>0.941</td>\n",
       "      <td>0.967</td>\n",
       "      <td>1</td>\n",
       "    </tr>\n",
       "    <tr>\n",
       "      <th>t0_treatment_lvo_ivt</th>\n",
       "      <td>0.140</td>\n",
       "      <td>0.233</td>\n",
       "      <td>0.361</td>\n",
       "      <td>0.522</td>\n",
       "      <td>0.730</td>\n",
       "      <td>0.838</td>\n",
       "      <td>1</td>\n",
       "    </tr>\n",
       "    <tr>\n",
       "      <th>t0_treatment_lvo_mt</th>\n",
       "      <td>0.306</td>\n",
       "      <td>0.429</td>\n",
       "      <td>0.548</td>\n",
       "      <td>0.707</td>\n",
       "      <td>0.851</td>\n",
       "      <td>0.915</td>\n",
       "      <td>1</td>\n",
       "    </tr>\n",
       "  </tbody>\n",
       "</table>\n",
       "</div>"
      ],
      "text/plain": [
       "                           mRS<=0  mRS<=1  mRS<=2  mRS<=3  mRS<=4  mRS<=5  \\\n",
       "Stroke type                                                                 \n",
       "pre_stroke_nlvo             0.583   0.746   0.850   0.951   0.993   1.000   \n",
       "pre_stroke_lvo              0.408   0.552   0.672   0.838   0.956   1.000   \n",
       "no_treatment_lvo            0.050   0.129   0.265   0.429   0.676   0.811   \n",
       "no_treatment_nlvo           0.198   0.460   0.580   0.708   0.856   0.918   \n",
       "no_effect_nlvo_ivt_deaths   0.196   0.455   0.574   0.701   0.847   0.908   \n",
       "no_effect_lvo_ivt_deaths    0.048   0.124   0.255   0.414   0.653   0.783   \n",
       "no_effect_lvo_mt_deaths     0.048   0.124   0.255   0.412   0.649   0.779   \n",
       "t0_treatment_nlvo_ivt       0.445   0.642   0.752   0.862   0.941   0.967   \n",
       "t0_treatment_lvo_ivt        0.140   0.233   0.361   0.522   0.730   0.838   \n",
       "t0_treatment_lvo_mt         0.306   0.429   0.548   0.707   0.851   0.915   \n",
       "\n",
       "                           mRS<=6  \n",
       "Stroke type                        \n",
       "pre_stroke_nlvo                 1  \n",
       "pre_stroke_lvo                  1  \n",
       "no_treatment_lvo                1  \n",
       "no_treatment_nlvo               1  \n",
       "no_effect_nlvo_ivt_deaths       1  \n",
       "no_effect_lvo_ivt_deaths        1  \n",
       "no_effect_lvo_mt_deaths         1  \n",
       "t0_treatment_nlvo_ivt           1  \n",
       "t0_treatment_lvo_ivt            1  \n",
       "t0_treatment_lvo_mt             1  "
      ]
     },
     "execution_count": 8,
     "metadata": {},
     "output_type": "execute_result"
    }
   ],
   "source": [
    "mrs_dists"
   ]
  },
  {
   "cell_type": "code",
   "execution_count": 9,
   "metadata": {},
   "outputs": [],
   "source": [
    "mrs_dist_nlvo_no_treatment = mrs_dists.loc['no_treatment_nlvo'].values\n",
    "mrs_dist_lvo_no_treatment = mrs_dists.loc['no_treatment_lvo'].values\n",
    "\n",
    "mrs_dist_nlvo_no_treatment_noncum = np.diff(mrs_dist_nlvo_no_treatment, prepend=0.0)\n",
    "mrs_dist_lvo_no_treatment_noncum = np.diff(mrs_dist_lvo_no_treatment, prepend=0.0)"
   ]
  },
  {
   "cell_type": "markdown",
   "metadata": {},
   "source": [
    "Stroke type proportions:"
   ]
  },
  {
   "cell_type": "code",
   "execution_count": 10,
   "metadata": {},
   "outputs": [],
   "source": [
    "proportions = pd.read_csv(\n",
    "    os.path.join(dir_output, 'patient_proportions.csv'),\n",
    "    index_col=0, header=None).squeeze()"
   ]
  },
  {
   "cell_type": "code",
   "execution_count": 11,
   "metadata": {},
   "outputs": [
    {
     "data": {
      "text/plain": [
       "0\n",
       "haemorrhagic         0.13600\n",
       "lvo_no_treatment     0.14648\n",
       "lvo_ivt_only         0.00840\n",
       "lvo_ivt_mt           0.08500\n",
       "lvo_mt_only          0.01500\n",
       "nlvo_no_treatment    0.50252\n",
       "nlvo_ivt             0.10660\n",
       "Name: 1, dtype: float64"
      ]
     },
     "execution_count": 11,
     "metadata": {},
     "output_type": "execute_result"
    }
   ],
   "source": [
    "proportions"
   ]
  },
  {
   "cell_type": "markdown",
   "metadata": {},
   "source": [
    "### Calculate weighted no treatment dist:"
   ]
  },
  {
   "cell_type": "code",
   "execution_count": 12,
   "metadata": {},
   "outputs": [],
   "source": [
    "prop_lvo = 0.0\n",
    "prop_nlvo = 0.0\n",
    "\n",
    "for key, value in proportions.items():\n",
    "    if 'nlvo' in key:\n",
    "        prop_nlvo += value\n",
    "    elif 'lvo' in key:\n",
    "        prop_lvo += value"
   ]
  },
  {
   "cell_type": "code",
   "execution_count": 13,
   "metadata": {},
   "outputs": [
    {
     "data": {
      "text/plain": [
       "(0.25488, 0.60912)"
      ]
     },
     "execution_count": 13,
     "metadata": {},
     "output_type": "execute_result"
    }
   ],
   "source": [
    "prop_lvo, prop_nlvo"
   ]
  },
  {
   "cell_type": "code",
   "execution_count": 14,
   "metadata": {},
   "outputs": [],
   "source": [
    "mrs_dist_weighted_no_treatment_noncum = (\n",
    "    (mrs_dist_nlvo_no_treatment_noncum * prop_nlvo) +\n",
    "    (mrs_dist_lvo_no_treatment_noncum * prop_lvo)\n",
    ")\n",
    "\n",
    "# Remove the non-ischaemic patients:\n",
    "mrs_dist_weighted_no_treatment_noncum = (\n",
    "    mrs_dist_weighted_no_treatment_noncum / (prop_nlvo + prop_lvo)\n",
    ")"
   ]
  },
  {
   "cell_type": "code",
   "execution_count": 15,
   "metadata": {},
   "outputs": [
    {
     "data": {
      "text/plain": [
       "0.9999999999999999"
      ]
     },
     "execution_count": 15,
     "metadata": {},
     "output_type": "execute_result"
    }
   ],
   "source": [
    "np.sum(mrs_dist_weighted_no_treatment_noncum)"
   ]
  },
  {
   "cell_type": "code",
   "execution_count": 16,
   "metadata": {},
   "outputs": [],
   "source": [
    "dict_no_treat = {\n",
    "    'nlvo': mrs_dist_nlvo_no_treatment_noncum,\n",
    "    'lvo': mrs_dist_lvo_no_treatment_noncum,\n",
    "    'weighted': mrs_dist_weighted_no_treatment_noncum,\n",
    "    'weighted_treated': mrs_dist_weighted_no_treatment_noncum,\n",
    "}"
   ]
  },
  {
   "cell_type": "markdown",
   "metadata": {},
   "source": [
    "## Gather data for plots"
   ]
  },
  {
   "cell_type": "code",
   "execution_count": 17,
   "metadata": {},
   "outputs": [],
   "source": [
    "def gather_dists(scenario):\n",
    "    d = {}\n",
    "\n",
    "    for cohort in ['nlvo_ivt', 'lvo_mix', 'weighted', 'weighted_treated']:\n",
    "        cols_noncum = [c for c in df_mrs_national.columns if ((c.startswith(f'{scenario}_{cohort}_mrs_dists_noncum')) & ('std' not in c))]\n",
    "        cols_std = [c for c in df_mrs_national.columns if ((c.startswith(f'{scenario}_{cohort}_mrs_dists_noncum')) & ('std' in c))]\n",
    "\n",
    "        d[cohort] = {}\n",
    "        d[cohort]['values'] = df_mrs_national[cols_noncum].values[0]\n",
    "        d[cohort]['std'] = df_mrs_national[cols_std].values[0]\n",
    "    \n",
    "    return d"
   ]
  },
  {
   "cell_type": "code",
   "execution_count": 18,
   "metadata": {},
   "outputs": [],
   "source": [
    "dict_drip_ship = gather_dists('drip_ship')\n",
    "dict_mothership = gather_dists('mothership')"
   ]
  },
  {
   "cell_type": "markdown",
   "metadata": {},
   "source": [
    "## Plot"
   ]
  },
  {
   "cell_type": "code",
   "execution_count": 42,
   "metadata": {},
   "outputs": [],
   "source": [
    "colour_drip = '#00517f'   # seaborn colorblind blue darker\n",
    "colour_moth = '#0072b2'  # seaborn colorblind blue\n",
    "colour_no_treat = 'DarkGray'"
   ]
  },
  {
   "cell_type": "code",
   "execution_count": 44,
   "metadata": {},
   "outputs": [
    {
     "data": {
      "image/png": "[encoded data removed]",
      "text/plain": [
       "<Figure size 1500x300 with 5 Axes>"
      ]
     },
     "metadata": {},
     "output_type": "display_data"
    }
   ],
   "source": [
    "fig, axs = plt.subplots(1, 5, figsize=(15, 3), sharey=True, gridspec_kw={'wspace': 0.1, 'width_ratios':[1, 1, 1, 0.5, 1]})\n",
    "\n",
    "bar_width = 0.25\n",
    "offsets = [-bar_width, 0.0, bar_width]\n",
    "\n",
    "legend_drawn = False\n",
    "for c, cohort in enumerate(['nlvo_ivt', 'lvo_mix', 'weighted', 'weighted_treated']):\n",
    "    dist_drip = dict_drip_ship[cohort]['values']\n",
    "    std_drip = dict_drip_ship[cohort]['std']\n",
    "    dist_moth = dict_mothership[cohort]['values']\n",
    "    std_moth = dict_mothership[cohort]['std']\n",
    "    \n",
    "    if 'nlvo' in cohort:\n",
    "        ax = axs[0]\n",
    "        dist_no_treat = dict_no_treat['nlvo']\n",
    "    elif 'lvo' in cohort:\n",
    "        ax = axs[1]\n",
    "        dist_no_treat = dict_no_treat['lvo']\n",
    "    elif 'treated' in cohort:\n",
    "        ax = axs[2]\n",
    "        dist_no_treat = dict_no_treat['weighted_treated']\n",
    "    else:\n",
    "        ax = axs[-1]\n",
    "        dist_no_treat = dict_no_treat['weighted']\n",
    "\n",
    "    ax.bar(\n",
    "        np.arange(7) + offsets[0], dist_drip, yerr=std_drip, capsize=2.0,\n",
    "        facecolor=colour_drip, label='Drip & ship', width=bar_width\n",
    "        )\n",
    "    ax.bar(\n",
    "        np.arange(7) + offsets[1], dist_moth, yerr=std_moth, capsize=2.0,\n",
    "        facecolor=colour_moth, label='Mothership', width=bar_width\n",
    "        )\n",
    "    ax.bar(\n",
    "        np.arange(7) + offsets[2], dist_no_treat,\n",
    "        facecolor=colour_no_treat, label='No treatment', width=bar_width\n",
    "        )\n",
    "\n",
    "    if legend_drawn is False:\n",
    "        fig.legend(bbox_to_anchor=(0.5, -0.1), loc='upper center', ncol=3)\n",
    "        legend_drawn = True\n",
    "\n",
    "for ax in axs:\n",
    "    ax.set_xticks(range(7))\n",
    "\n",
    "axs[0].set_title('nLVO')\n",
    "axs[1].set_title('LVO')\n",
    "axs[2].set_title('Treated\\nischaemic population')\n",
    "axs[-1].set_title('Total\\nischaemic population')\n",
    "\n",
    "axs[0].set_ylabel('Probability')\n",
    "axs[-1].set_ylabel('Probability')\n",
    "axs[-1].yaxis.set_tick_params(labelleft=True)  # turn the tick labels back on\n",
    "axs[1].set_xlabel('mRS')\n",
    "axs[-1].set_xlabel('mRS')\n",
    "\n",
    "axs[3].axis('off')\n",
    "\n",
    "plt.savefig(os.path.join(dir_output, 'mrs_dists_redirection_areas.png'), bbox_inches='tight')\n",
    "plt.show()"
   ]
  },
  {
   "cell_type": "markdown",
   "metadata": {},
   "source": [
    "### Save a copy of data behind the figure\n",
    "\n",
    "Keep a copy of the separate LVO cohorts even though the figure only shows the combined LVO cohort.\n",
    "\n",
    "Add the no-treatment distributions into the starting data:"
   ]
  },
  {
   "cell_type": "code",
   "execution_count": 46,
   "metadata": {},
   "outputs": [],
   "source": [
    "for key, value in dict_no_treat.items():\n",
    "    cols = [f'no_treatment_{key}_mrs_dists_noncum_{i}' for i in range(7)]\n",
    "    df_mrs_national[cols] = value"
   ]
  },
  {
   "cell_type": "code",
   "execution_count": 50,
   "metadata": {},
   "outputs": [],
   "source": [
    "# Save to file:\n",
    "df_mrs_national.to_csv(os.path.join(dir_output, 'fig_data_mrs_dists.csv'))"
   ]
  }
 ],
 "metadata": {
  "kernelspec": {
   "display_name": "Python 3 (ipykernel)",
   "language": "python",
   "name": "python3"
  },
  "language_info": {
   "codemirror_mode": {
    "name": "ipython",
    "version": 3
   },
   "file_extension": ".py",
   "mimetype": "text/x-python",
   "name": "python",
   "nbconvert_exporter": "python",
   "pygments_lexer": "ipython3",
   "version": "3.9.16"
  },
  "vscode": {
   "interpreter": {
    "hash": "a0926c079b4c466635c292471a3e821b7c06121d6fcbcec81aabb07ff30350cc"
   }
  }
 },
 "nbformat": 4,
 "nbformat_minor": 4
}
