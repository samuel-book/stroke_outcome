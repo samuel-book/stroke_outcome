{
 "cells": [
  {
   "cell_type": "markdown",
   "id": "00baf118-ff1b-4d5d-bd57-180f42e59e15",
   "metadata": {},
   "source": [
    "# Example patient population\n",
    "\n",
    "This notebook creates the patient population that is used in the England and Wales examples.\n",
    "\n",
    "## Notebook setup"
   ]
  },
  {
   "cell_type": "code",
   "execution_count": 7,
   "id": "c8d12a5f-da74-4528-9f6b-1b5581aa81f1",
   "metadata": {},
   "outputs": [],
   "source": [
    "import matplotlib.pyplot as plt\n",
    "import pandas as pd\n",
    "import os\n",
    "\n",
    "from numpy import isclose  # for checking proportions vs targets"
   ]
  },
  {
   "cell_type": "code",
   "execution_count": 2,
   "id": "b8c76cfd-bc20-4070-99be-4364a52a30c1",
   "metadata": {},
   "outputs": [],
   "source": [
    "dir_output = 'output'"
   ]
  },
  {
   "cell_type": "code",
   "execution_count": 3,
   "id": "5f8bd9f4-f351-45ed-998f-c6f21de82dd5",
   "metadata": {},
   "outputs": [],
   "source": [
    "colour_dict = {\n",
    "    'haemorrhagic': 'grey',\n",
    "    'lvo': '#0072b2',                # seaborn colorblind blue\n",
    "    'nlvo': '#d55e00',               # seaborn colorblind orange\n",
    "    'lvo_no_treatment': '#00517f',   # seaborn colorblind blue darker\n",
    "    'lvo_ivt_only': '#0072b2',       # seaborn colorblind blue\n",
    "    'lvo_ivt_mt': '#0093e5',         # seaborn colorblind blue lighter\n",
    "    'lvo_mt_only': '#00b3ff',        # seaborn colorblind blue lighter 2\n",
    "    'nlvo_no_treatment': '#d55e00',  # seaborn colorblind orange\n",
    "    'nlvo_ivt': '#ff7400',           # seaborn colorblind orange lighter\n",
    "}"
   ]
  },
  {
   "cell_type": "markdown",
   "id": "0f9d4219-2176-45d7-ab81-5cfc0fa5c47a",
   "metadata": {},
   "source": [
    "## Stroke types\n",
    "\n",
    "For patients arriving within 6 hours of stroke onset (from [SAMueL-1 book](https://samuel-book.github.io/samuel-1/descriptive_stats/10_using_nihss_10_for_lvo.html)):\n",
    "+ 13.6% have haemorrhagic stroke\n",
    "+ The remaining strokes are ischaemic. Of these:\n",
    "  + 29.5% are LVO\n",
    "  + 70.5% are nLVO"
   ]
  },
  {
   "cell_type": "code",
   "execution_count": 4,
   "id": "e28c0763-0eb1-433f-abbc-f528d2f133c6",
   "metadata": {},
   "outputs": [],
   "source": [
    "stroke_type_proportions = {\n",
    "    'haemorrhagic': 0.136,\n",
    "    'lvo': 0.295 * (1 - 0.136),\n",
    "    'nlvo': 0.705 * (1 - 0.136)\n",
    "}"
   ]
  },
  {
   "cell_type": "markdown",
   "id": "e4249be2-b296-43be-bbcb-734852acb98c",
   "metadata": {},
   "source": [
    "Display the proportions:"
   ]
  },
  {
   "cell_type": "code",
   "execution_count": 5,
   "id": "9e7fe675-c336-4064-9ad5-9573f47bfc70",
   "metadata": {},
   "outputs": [
    {
     "data": {
      "text/plain": [
       "haemorrhagic    0.13600\n",
       "lvo             0.25488\n",
       "nlvo            0.60912\n",
       "dtype: float64"
      ]
     },
     "execution_count": 5,
     "metadata": {},
     "output_type": "execute_result"
    }
   ],
   "source": [
    "pd.Series(stroke_type_proportions)"
   ]
  },
  {
   "cell_type": "code",
   "execution_count": 8,
   "id": "3f0ac331-5a7f-4e7b-b956-545037a70c9b",
   "metadata": {},
   "outputs": [
    {
     "data": {
      "image/png": "[encoded data removed]",
      "text/plain": [
       "<Figure size 640x480 with 1 Axes>"
      ]
     },
     "metadata": {},
     "output_type": "display_data"
    }
   ],
   "source": [
    "plt.pie(\n",
    "    stroke_type_proportions.values(),\n",
    "    labels=stroke_type_proportions.keys(),\n",
    "    autopct='%1.1f%%',\n",
    "    colors=[colour_dict[c] for c in stroke_type_proportions.keys()]\n",
    "    )\n",
    "plt.title('Stroke types')\n",
    "plt.savefig(os.path.join(dir_output, 'props_stroke_types.png'))\n",
    "plt.show()"
   ]
  },
  {
   "cell_type": "markdown",
   "id": "ead9b6e9-24c0-445c-a791-cd7ef41f2078",
   "metadata": {},
   "source": [
    "## Treatment\n",
    "\n",
    "Fix the MT value first because this depends only on LVO.\n",
    "\n",
    "Patients with NIHSS>10 account for 46.7% of all thrombolysed patients ([from SAMueL-1](https://samuel-book.github.io/samuel-1/descriptive_stats/01a_descriptive_nihss_cutoff.html)).\n",
    "\n",
    "Multiply this proportion by the target IVT rate:\n",
    "\n",
    "> 20% $\\times$ 46.7% = Proportion of all patients with LVO and IVT\n",
    "\n",
    "And assign the remaining patients to nLVO:\n",
    "\n",
    "> 20% $\\times$ (100% - 46.7%) = Proportion of all patients with nLVO and IVT\n",
    "\n",
    "Then account for the fact that most LVO patients receiving MT also receive IVT."
   ]
  },
  {
   "cell_type": "code",
   "execution_count": 9,
   "id": "79d81fc0-c215-4b9f-9884-f6b2c5a99be5",
   "metadata": {},
   "outputs": [],
   "source": [
    "target_ivt = 0.2\n",
    "target_mt = 0.1\n",
    "prop_mt_previously_ivt = 0.85\n",
    "\n",
    "prop_ivt_lvo = 0.467"
   ]
  },
  {
   "cell_type": "markdown",
   "id": "47b51d96-e5da-4f25-8749-e7f64ae65400",
   "metadata": {},
   "source": [
    "### nLVO"
   ]
  },
  {
   "cell_type": "code",
   "execution_count": 10,
   "id": "0850dbbd-21e5-451b-b36d-6b4863662e09",
   "metadata": {},
   "outputs": [],
   "source": [
    "prop_nlvo_ivt = target_ivt * (1.0 - prop_ivt_lvo) / stroke_type_proportions['nlvo']"
   ]
  },
  {
   "cell_type": "markdown",
   "id": "afafd3c6-57d8-4664-b51d-f8b087a5c638",
   "metadata": {},
   "source": [
    "Display the proportions:"
   ]
  },
  {
   "cell_type": "code",
   "execution_count": 12,
   "id": "92d25186-0657-4448-8d55-fc34acfda18f",
   "metadata": {},
   "outputs": [],
   "source": [
    "nlvo_proportions = {\n",
    "    'nlvo_no_treatment': (1.0 - prop_nlvo_ivt),\n",
    "    'nlvo_ivt': prop_nlvo_ivt,\n",
    "}"
   ]
  },
  {
   "cell_type": "code",
   "execution_count": 13,
   "id": "fd575990-d7dd-4c0b-9e24-a825f2bdb61b",
   "metadata": {},
   "outputs": [
    {
     "data": {
      "text/plain": [
       "nlvo_no_treatment    0.824993\n",
       "nlvo_ivt             0.175007\n",
       "dtype: float64"
      ]
     },
     "execution_count": 13,
     "metadata": {},
     "output_type": "execute_result"
    }
   ],
   "source": [
    "pd.Series(nlvo_proportions)"
   ]
  },
  {
   "cell_type": "code",
   "execution_count": 31,
   "id": "21d13fa9-88f5-4aef-a147-7b0a24888c14",
   "metadata": {},
   "outputs": [
    {
     "data": {
      "image/png": "[encoded data removed]",
      "text/plain": [
       "<Figure size 640x480 with 1 Axes>"
      ]
     },
     "metadata": {},
     "output_type": "display_data"
    }
   ],
   "source": [
    "plt.pie(\n",
    "    nlvo_proportions.values(),\n",
    "    labels=[c.split('nlvo_')[1].replace('_', ' ') for c in nlvo_proportions.keys()],\n",
    "    autopct='%1.1f%%',\n",
    "    colors=[colour_dict[c] for c in nlvo_proportions.keys()]\n",
    "    )\n",
    "plt.title('nLVO treatment')\n",
    "plt.savefig(os.path.join(dir_output, 'props_nlvo.png'))\n",
    "plt.show()"
   ]
  },
  {
   "cell_type": "markdown",
   "id": "a043182f-0991-442b-949b-644f6873848b",
   "metadata": {},
   "source": [
    "### LVO\n",
    "\n",
    "Only LVO is treated with MT, so to hit the target value of 10% we need:\n",
    "\n",
    "> Proportion LVO $\\times$ Proportion of LVO treated with MT = 10%\n",
    "\n",
    "Rearranging:\n",
    "\n",
    "> Proportion of LVO treated with MT = 10% / Proportion LVO"
   ]
  },
  {
   "cell_type": "code",
   "execution_count": 15,
   "id": "0b8e4195-3066-4124-a639-429350ae6090",
   "metadata": {},
   "outputs": [],
   "source": [
    "prop_lvo_mt = target_mt / stroke_type_proportions['lvo']"
   ]
  },
  {
   "cell_type": "markdown",
   "id": "02f660ad-b142-4ceb-87df-60ac024b59bd",
   "metadata": {},
   "source": [
    "Then set the overlap between IVT and MT for LVO patients:"
   ]
  },
  {
   "cell_type": "code",
   "execution_count": 17,
   "id": "f70e4ed9-faf3-4cf2-a5f5-bd6c32b34e7f",
   "metadata": {},
   "outputs": [],
   "source": [
    "prop_lvo_ivtmt = prop_lvo_mt * prop_mt_previously_ivt"
   ]
  },
  {
   "cell_type": "markdown",
   "id": "82afee87-86b3-494c-868e-7de27b071957",
   "metadata": {},
   "source": [
    "Find the LVO patients treated with IVT:"
   ]
  },
  {
   "cell_type": "code",
   "execution_count": 18,
   "id": "305a3949-c720-4928-af10-6a18e9c98658",
   "metadata": {},
   "outputs": [],
   "source": [
    "prop_lvo_ivt = (target_ivt * prop_ivt_lvo) / stroke_type_proportions['lvo']"
   ]
  },
  {
   "cell_type": "markdown",
   "id": "96fadbad-241b-4ee0-82f5-6882b7295897",
   "metadata": {},
   "source": [
    "Compare values:"
   ]
  },
  {
   "cell_type": "code",
   "execution_count": 19,
   "id": "415ee6aa-25e4-402f-8759-4db9deb2c9f4",
   "metadata": {},
   "outputs": [
    {
     "name": "stdout",
     "output_type": "stream",
     "text": [
      "0.39234149403640933 0.33349026993094794 0.3664469554300063\n"
     ]
    }
   ],
   "source": [
    "print(prop_lvo_mt, prop_lvo_ivtmt, prop_lvo_ivt)"
   ]
  },
  {
   "cell_type": "markdown",
   "id": "fc6cf39b-c9c1-4709-9295-e4d179cb793e",
   "metadata": {},
   "source": [
    "Subtract the overlap:"
   ]
  },
  {
   "cell_type": "code",
   "execution_count": 20,
   "id": "c2fb525b-06c1-4b79-8c03-961d9a2fd827",
   "metadata": {},
   "outputs": [],
   "source": [
    "prop_lvo_mtonly = prop_lvo_mt - prop_lvo_ivtmt\n",
    "prop_lvo_ivtonly = prop_lvo_ivt - prop_lvo_ivtmt"
   ]
  },
  {
   "cell_type": "markdown",
   "id": "b171f453-945b-48df-90b7-8421e09e1710",
   "metadata": {},
   "source": [
    "Display the LVO proportions:"
   ]
  },
  {
   "cell_type": "code",
   "execution_count": 21,
   "id": "4f5156bf-8853-4789-8ac3-60d083b1e95f",
   "metadata": {},
   "outputs": [],
   "source": [
    "lvo_proportions = {\n",
    "    'lvo_no_treatment': (1.0 - prop_lvo_mt - prop_lvo_ivtonly),\n",
    "    'lvo_ivt_only': prop_lvo_ivtonly,\n",
    "    'lvo_ivt_mt': prop_lvo_ivtmt,\n",
    "    'lvo_mt_only': prop_lvo_mtonly,\n",
    "}"
   ]
  },
  {
   "cell_type": "code",
   "execution_count": 22,
   "id": "7462d7df-cced-42a1-8bbd-220408e9655a",
   "metadata": {},
   "outputs": [
    {
     "data": {
      "text/plain": [
       "lvo_no_treatment    0.574702\n",
       "lvo_ivt_only        0.032957\n",
       "lvo_ivt_mt          0.333490\n",
       "lvo_mt_only         0.058851\n",
       "dtype: float64"
      ]
     },
     "execution_count": 22,
     "metadata": {},
     "output_type": "execute_result"
    }
   ],
   "source": [
    "pd.Series(lvo_proportions)"
   ]
  },
  {
   "cell_type": "code",
   "execution_count": 32,
   "id": "687c8e5a-e34a-480e-8bb1-b14b0a67528e",
   "metadata": {},
   "outputs": [
    {
     "data": {
      "image/png": "[encoded data removed]",
      "text/plain": [
       "<Figure size 640x480 with 1 Axes>"
      ]
     },
     "metadata": {},
     "output_type": "display_data"
    }
   ],
   "source": [
    "plt.pie(\n",
    "    lvo_proportions.values(),\n",
    "    labels=[c.split('lvo_')[1].replace('_', ' ') for c in lvo_proportions.keys()],\n",
    "    autopct='%1.1f%%',\n",
    "    colors=[colour_dict[c] for c in lvo_proportions.keys()]\n",
    "    )\n",
    "plt.title('LVO treatment')\n",
    "plt.savefig(os.path.join(dir_output, 'props_lvo.png'))\n",
    "plt.show()"
   ]
  },
  {
   "cell_type": "markdown",
   "id": "a4778b5c-8653-4333-82ce-052cc838efff",
   "metadata": {},
   "source": [
    "## Whole population breakdown"
   ]
  },
  {
   "cell_type": "code",
   "execution_count": 37,
   "id": "4b5755be-deb5-485e-a565-6a9af5ae0aeb",
   "metadata": {},
   "outputs": [],
   "source": [
    "pop_proportions = {\n",
    "    'haemorrhagic': stroke_type_proportions['haemorrhagic'],\n",
    "    'lvo_no_treatment': stroke_type_proportions['lvo'] * lvo_proportions['lvo_no_treatment'],\n",
    "    'lvo_ivt_only': stroke_type_proportions['lvo'] * lvo_proportions['lvo_ivt_only'],\n",
    "    'lvo_ivt_mt': stroke_type_proportions['lvo'] * lvo_proportions['lvo_ivt_mt'],\n",
    "    'lvo_mt_only': stroke_type_proportions['lvo'] * lvo_proportions['lvo_mt_only'],\n",
    "    'nlvo_no_treatment': stroke_type_proportions['nlvo'] * nlvo_proportions['nlvo_no_treatment'],\n",
    "    'nlvo_ivt': stroke_type_proportions['nlvo'] * nlvo_proportions['nlvo_ivt'],\n",
    "}\n",
    "\n",
    "# Round values to 5 decimal places:\n",
    "for key, value in pop_proportions.items():\n",
    "    pop_proportions[key] = round(value, 5)"
   ]
  },
  {
   "cell_type": "code",
   "execution_count": 38,
   "id": "65c901a3-2389-4be6-b68f-10812ffe66fa",
   "metadata": {},
   "outputs": [
    {
     "data": {
      "text/plain": [
       "haemorrhagic         0.13600\n",
       "lvo_no_treatment     0.14648\n",
       "lvo_ivt_only         0.00840\n",
       "lvo_ivt_mt           0.08500\n",
       "lvo_mt_only          0.01500\n",
       "nlvo_no_treatment    0.50252\n",
       "nlvo_ivt             0.10660\n",
       "dtype: float64"
      ]
     },
     "execution_count": 38,
     "metadata": {},
     "output_type": "execute_result"
    }
   ],
   "source": [
    "pd.Series(pop_proportions)"
   ]
  },
  {
   "cell_type": "markdown",
   "id": "35938062-2d48-449d-9ca5-d0c70bf9a51b",
   "metadata": {},
   "source": [
    "### Sanity checks\n",
    "\n",
    "Do all proportions add up to 1?"
   ]
  },
  {
   "cell_type": "code",
   "execution_count": 39,
   "id": "f8e931ce-bdbf-4e31-b241-c2f4733a2ee9",
   "metadata": {},
   "outputs": [
    {
     "data": {
      "text/plain": [
       "1.0"
      ]
     },
     "execution_count": 39,
     "metadata": {},
     "output_type": "execute_result"
    }
   ],
   "source": [
    "pd.Series(pop_proportions).sum()"
   ]
  },
  {
   "cell_type": "markdown",
   "id": "67af8f80-7f88-4df5-8336-4795a8938569",
   "metadata": {},
   "source": [
    "Check that the treated proportions match the targets:"
   ]
  },
  {
   "cell_type": "code",
   "execution_count": 40,
   "id": "4ef15648-dca8-4328-90ca-78114580bbc7",
   "metadata": {},
   "outputs": [],
   "source": [
    "prop_ivt = 0.0\n",
    "prop_mt = 0.0\n",
    "\n",
    "for key, value in pop_proportions.items():\n",
    "    if 'ivt' in key:\n",
    "        prop_ivt += value\n",
    "    if 'mt' in key:\n",
    "        prop_mt += value"
   ]
  },
  {
   "cell_type": "code",
   "execution_count": 41,
   "id": "70aa9747-3125-4b71-b424-0ebbd4ce669a",
   "metadata": {},
   "outputs": [
    {
     "name": "stdout",
     "output_type": "stream",
     "text": [
      "IVT: 0.2 True\n",
      "MT: 0.1 True\n"
     ]
    }
   ],
   "source": [
    "print('IVT:', prop_ivt, isclose(prop_ivt, target_ivt))\n",
    "print('MT:', prop_mt, isclose(prop_mt, target_mt))"
   ]
  },
  {
   "cell_type": "markdown",
   "id": "0713fbcb-6821-47e5-8cb0-5cabaec61e07",
   "metadata": {},
   "source": [
    "Check that the stroke type subgroups add up to the total stroke type sizes:"
   ]
  },
  {
   "cell_type": "code",
   "execution_count": 42,
   "id": "51035842-a515-490a-9b8e-98bcbd646418",
   "metadata": {},
   "outputs": [],
   "source": [
    "prop_lvo = 0.0\n",
    "prop_nlvo = 0.0\n",
    "\n",
    "for key, value in pop_proportions.items():\n",
    "    if 'nlvo' in key:\n",
    "        prop_nlvo += value\n",
    "    elif 'lvo' in key:\n",
    "        prop_lvo += value"
   ]
  },
  {
   "cell_type": "code",
   "execution_count": 43,
   "id": "f3717076-df08-43bf-b5cc-9795f17e35e9",
   "metadata": {},
   "outputs": [
    {
     "name": "stdout",
     "output_type": "stream",
     "text": [
      "LVO: 0.25488 True\n",
      "nLVO: 0.60912 True\n"
     ]
    }
   ],
   "source": [
    "print('LVO:', prop_lvo, isclose(prop_lvo, stroke_type_proportions['lvo']))\n",
    "print('nLVO:', prop_nlvo, isclose(prop_nlvo, stroke_type_proportions['nlvo']))"
   ]
  },
  {
   "cell_type": "markdown",
   "id": "c696b9a9-5238-4ed8-8283-3f407c5d0f28",
   "metadata": {},
   "source": [
    "### Plot"
   ]
  },
  {
   "cell_type": "code",
   "execution_count": 44,
   "id": "ed85e2f9-37ed-4001-b3e9-9374531c7148",
   "metadata": {},
   "outputs": [
    {
     "data": {
      "image/png": "[encoded data removed]",
      "text/plain": [
       "<Figure size 640x480 with 1 Axes>"
      ]
     },
     "metadata": {},
     "output_type": "display_data"
    }
   ],
   "source": [
    "fig, ax = plt.subplots()\n",
    "\n",
    "# Draw each cohort/treatment subgroup in a different colour\n",
    "# and write the size on the wedge.\n",
    "wedges, texts, autotexts = ax.pie(\n",
    "    pop_proportions.values(),\n",
    "    autopct='%1.1f%%',\n",
    "    radius=1.0,\n",
    "    wedgeprops=dict(width=0.5),\n",
    "    colors=[colour_dict[c] for c in pop_proportions.keys()]\n",
    "    )\n",
    "\n",
    "# Outline LVO, nLVO and haemorrhagic sections\n",
    "# and add labels outside each section.\n",
    "ax.pie(\n",
    "    stroke_type_proportions.values(),\n",
    "    labels=[f'{c:.1%}' for c in stroke_type_proportions.values()],\n",
    "    # autopct='%1.1f%%',\n",
    "    radius=1.0,\n",
    "    wedgeprops=dict(width=1.0, edgecolor='k'),\n",
    "    colors=['None'] * len(stroke_type_proportions),\n",
    "    )\n",
    "\n",
    "ax.legend(\n",
    "    wedges, [c.replace('_', ' ') for c in pop_proportions.keys()],\n",
    "    bbox_to_anchor=[1.0, 0.5], loc='center left'\n",
    ")\n",
    "\n",
    "plt.title('Patient population')\n",
    "plt.savefig(os.path.join(dir_output, 'props_all.png'))\n",
    "plt.show()"
   ]
  },
  {
   "cell_type": "markdown",
   "id": "9f54bdb3-6b30-44ab-8ab3-d670d7e74449",
   "metadata": {},
   "source": [
    "### Save population proportions to file"
   ]
  },
  {
   "cell_type": "code",
   "execution_count": 46,
   "id": "880b0505-1274-40c8-9b23-65f84be212de",
   "metadata": {},
   "outputs": [],
   "source": [
    "pd.Series(pop_proportions).to_csv(os.path.join(dir_output, 'patient_proportions.csv'), header=False)"
   ]
  },
  {
   "cell_type": "code",
   "execution_count": null,
   "id": "d6715cb9-9c42-4476-b23e-71fdacfc40c6",
   "metadata": {},
   "outputs": [],
   "source": []
  }
 ],
 "metadata": {
  "kernelspec": {
   "display_name": "Python 3 (ipykernel)",
   "language": "python",
   "name": "python3"
  },
  "language_info": {
   "codemirror_mode": {
    "name": "ipython",
    "version": 3
   },
   "file_extension": ".py",
   "mimetype": "text/x-python",
   "name": "python",
   "nbconvert_exporter": "python",
   "pygments_lexer": "ipython3",
   "version": "3.9.16"
  }
 },
 "nbformat": 4,
 "nbformat_minor": 5
}
