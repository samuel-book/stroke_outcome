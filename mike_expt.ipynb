{
 "cells": [
  {
   "cell_type": "code",
   "execution_count": 1,
   "id": "889ca52e-a2ec-42d7-b4a0-2f3855f26769",
   "metadata": {
    "pycharm": {
     "name": "#%%\n"
    }
   },
   "outputs": [],
   "source": [
    "import numpy as np\n",
    "import matplotlib.pyplot as plt"
   ]
  },
  {
   "cell_type": "markdown",
   "id": "3eb79413-296c-44ac-957b-f5569ab33fa5",
   "metadata": {
    "pycharm": {
     "name": "#%% md\n"
    }
   },
   "source": [
    "Set mRS distributions for effect at t=0 and at time of no effect."
   ]
  },
  {
   "cell_type": "code",
   "execution_count": 2,
   "id": "55adcbc7-d327-416d-a656-78d70e1df2f9",
   "metadata": {
    "pycharm": {
     "name": "#%%\n"
    }
   },
   "outputs": [],
   "source": [
    "# Set mRS distributions\n",
    "mrs_t0 = np.array([0.54956819, 0.14895196, 0.0980681 , 0.11769072, 0.06707674, 0.0186443])\n",
    "mrs_no_effect = np.array([0.05, 0.079, 0.136, 0.164, 0.247, 0.135])\n",
    "\n",
    "# Calulcate cumulative distributions and normalise\n",
    "bins_t0 = np.cumsum(np.concatenate(([0], mrs_t0)))\n",
    "bins_t0 = bins_t0 / bins_t0[-1]\n",
    "bins_no_effect = np.cumsum(np.concatenate(([0], mrs_no_effect)))\n",
    "bins_no_effect = bins_no_effect / bins_no_effect[-1]"
   ]
  },
  {
   "cell_type": "markdown",
   "id": "1b73bf25-f595-448f-90bd-4c3860150dc4",
   "metadata": {
    "pycharm": {
     "name": "#%% md\n"
    }
   },
   "source": [
    "Function to convert probability to log odds."
   ]
  },
  {
   "cell_type": "code",
   "execution_count": 7,
   "id": "aa2aede3-4264-44b3-8b84-64f41c57ec9a",
   "metadata": {
    "pycharm": {
     "name": "#%%\n"
    }
   },
   "outputs": [],
   "source": [
    "def convert_probs_to_log_odds(probs):\n",
    "    \"\"\"Convert probabilities to log odds\"\"\"\n",
    "    \n",
    "    # Convert any zeros to 1e-6\n",
    "    mask = probs == 0\n",
    "    probs[mask] = 1e-6\n",
    "\n",
    "    # Convert probs to odds\n",
    "    odds = probs / (1 - probs)\n",
    "\n",
    "    # Convert any infs to 1e6\n",
    "    mask = np.isinf(odds)\n",
    "    odds[mask] = 1e6\n",
    "    \n",
    "    # Log\n",
    "    log_odds = np.log(odds)\n",
    "    \n",
    "    \n",
    "    \n",
    "    return log_odds"
   ]
  },
  {
   "cell_type": "code",
   "execution_count": 6,
   "id": "2e99a6a7-aba3-4d18-a574-de29348b77f4",
   "metadata": {
    "pycharm": {
     "name": "#%%\n"
    }
   },
   "outputs": [
    {
     "name": "stderr",
     "output_type": "stream",
     "text": [
      "/tmp/ipykernel_27871/4164418899.py:9: RuntimeWarning: divide by zero encountered in true_divide\n",
      "  odds = probs / (1 - probs)\n"
     ]
    },
    {
     "ename": "ImportError",
     "evalue": "cannot import name 'Tracer' from 'IPython.core.debugger' (/home/michael/miniconda3/lib/python3.9/site-packages/IPython/core/debugger.py)",
     "output_type": "error",
     "traceback": [
      "\u001b[0;31m---------------------------------------------------------------------------\u001b[0m",
      "\u001b[0;31mImportError\u001b[0m                               Traceback (most recent call last)",
      "Input \u001b[0;32mIn [6]\u001b[0m, in \u001b[0;36m<cell line: 1>\u001b[0;34m()\u001b[0m\n\u001b[0;32m----> 1\u001b[0m \u001b[43mconvert_probs_to_log_odds\u001b[49m\u001b[43m(\u001b[49m\u001b[43mbins_no_effect\u001b[49m\u001b[43m)\u001b[49m\n",
      "Input \u001b[0;32mIn [5]\u001b[0m, in \u001b[0;36mconvert_probs_to_log_odds\u001b[0;34m(probs)\u001b[0m\n\u001b[1;32m     15\u001b[0m \u001b[38;5;66;03m# Log\u001b[39;00m\n\u001b[1;32m     16\u001b[0m log_odds \u001b[38;5;241m=\u001b[39m np\u001b[38;5;241m.\u001b[39mlog(odds)\n\u001b[0;32m---> 18\u001b[0m \u001b[38;5;28;01mfrom\u001b[39;00m \u001b[38;5;21;01mIPython\u001b[39;00m\u001b[38;5;21;01m.\u001b[39;00m\u001b[38;5;21;01mcore\u001b[39;00m\u001b[38;5;21;01m.\u001b[39;00m\u001b[38;5;21;01mdebugger\u001b[39;00m \u001b[38;5;28;01mimport\u001b[39;00m Tracer\n\u001b[1;32m     19\u001b[0m Tracer()() \u001b[38;5;66;03m#this one triggers the debugger\u001b[39;00m\n\u001b[1;32m     21\u001b[0m \u001b[38;5;28;01mreturn\u001b[39;00m log_odds\n",
      "\u001b[0;31mImportError\u001b[0m: cannot import name 'Tracer' from 'IPython.core.debugger' (/home/michael/miniconda3/lib/python3.9/site-packages/IPython/core/debugger.py)"
     ]
    }
   ],
   "source": [
    "convert_probs_to_log_odds(bins_no_effect)"
   ]
  },
  {
   "cell_type": "code",
   "execution_count": null,
   "id": "a61c9350-88c2-4e6d-964f-31ad25b2cf49",
   "metadata": {
    "pycharm": {
     "name": "#%%\n"
    }
   },
   "outputs": [],
   "source": []
  }
 ],
 "metadata": {
  "interpreter": {
   "hash": "454c770916b6454c0a88ff275a86b0749913e3b5fd95e06480f7c2ec33b94adf"
  },
  "kernelspec": {
   "display_name": "Python 3 (ipykernel)",
   "language": "python",
   "name": "python3"
  },
  "language_info": {
   "codemirror_mode": {
    "name": "ipython",
    "version": 3
   },
   "file_extension": ".py",
   "mimetype": "text/x-python",
   "name": "python",
   "nbconvert_exporter": "python",
   "pygments_lexer": "ipython3",
   "version": "3.9.12"
  }
 },
 "nbformat": 4,
 "nbformat_minor": 5
}
