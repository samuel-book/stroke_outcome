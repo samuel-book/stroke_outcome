{
 "cells": [
  {
   "cell_type": "code",
   "execution_count": 1,
   "id": "38dd8b9d",
   "metadata": {},
   "outputs": [],
   "source": [
    "import warnings\n",
    "warnings.filterwarnings('ignore')"
   ]
  },
  {
   "cell_type": "code",
   "execution_count": 2,
   "id": "7e253275",
   "metadata": {},
   "outputs": [],
   "source": [
    "import numpy as np\n",
    "import matplotlib.pyplot as plt\n",
    "%matplotlib inline"
   ]
  },
  {
   "cell_type": "code",
   "execution_count": 3,
   "id": "d84aa344",
   "metadata": {},
   "outputs": [],
   "source": [
    "# Change default colour scheme:\n",
    "plt.style.use('seaborn-colorblind')"
   ]
  },
  {
   "cell_type": "markdown",
   "id": "424730fc",
   "metadata": {},
   "source": [
    "# Thrombectomy "
   ]
  },
  {
   "cell_type": "markdown",
   "id": "f9083835",
   "metadata": {},
   "source": [
    "### T=0 \n",
    "\n",
    "The distribution of mRS at time T=0 (i.e. before stroke) from the SAMuel-1 data. "
   ]
  },
  {
   "cell_type": "code",
   "execution_count": 4,
   "id": "f7f95899",
   "metadata": {},
   "outputs": [],
   "source": [
    "mrs_prob_dist_t0_treatment = np.array([0.54956819, 0.14895196, 0.0980681 , 0.11769072, 0.06707674, 0.0186443])\n",
    "# mrs_prob_dist_t0_treatment = np.cumsum(np.concatenate((mrs_prob_dist_t0_treatment,[0.0])))"
   ]
  },
  {
   "cell_type": "markdown",
   "id": "367dfa2e",
   "metadata": {},
   "source": [
    "Convert the mRS distribution into cumulative frequency:"
   ]
  },
  {
   "cell_type": "code",
   "execution_count": 5,
   "id": "abc4c7a7",
   "metadata": {},
   "outputs": [],
   "source": [
    "mrs_prob_bins_t0_treatment = np.cumsum(np.concatenate(([0],mrs_prob_dist_t0_treatment)))"
   ]
  },
  {
   "cell_type": "code",
   "execution_count": 6,
   "id": "972d9069",
   "metadata": {},
   "outputs": [
    {
     "data": {
      "text/plain": [
       "array([0.        , 0.54956819, 0.69852015, 0.79658825, 0.91427897,\n",
       "       0.98135571, 1.00000001])"
      ]
     },
     "execution_count": 6,
     "metadata": {},
     "output_type": "execute_result"
    }
   ],
   "source": [
    "mrs_prob_bins_t0_treatment"
   ]
  },
  {
   "cell_type": "markdown",
   "id": "3f83c351",
   "metadata": {},
   "source": [
    "### T = 8 hours "
   ]
  },
  {
   "cell_type": "markdown",
   "id": "cb636d86",
   "metadata": {},
   "source": [
    "Collect \"untreated\" mRS distribution, i.e. mRS at time T=8hrs.\n",
    "_Presumably_ this only includes patients when no thrombolysis or thrombectomy has been performed.\n",
    "\n",
    "Data from Goyal+2016[1], Figure 1 (A Overall, Control population). mRS=6 is excluded and P(mRS=6)=0.189.\n",
    "\n",
    "[1] _\"Endovascular thrombectomy after large-vessel ischaemic stroke: a meta-analysis of individual patient data from five randomised trials\"_"
   ]
  },
  {
   "cell_type": "code",
   "execution_count": 7,
   "id": "18a91b5d",
   "metadata": {},
   "outputs": [],
   "source": [
    "#from golye's control population (figure 1a)\n",
    "\n",
    "mrs_prob_dist_no_treatment_ect = [0.05, 0.079, 0.136, 0.164, 0.247, 0.135]"
   ]
  },
  {
   "cell_type": "markdown",
   "id": "ab08fa5f",
   "metadata": {},
   "source": [
    "Convert to cumulative frequency:"
   ]
  },
  {
   "cell_type": "code",
   "execution_count": 8,
   "id": "6dc99d64",
   "metadata": {},
   "outputs": [
    {
     "data": {
      "text/plain": [
       "array([0.        , 0.06165228, 0.15906289, 0.32675709, 0.52897657,\n",
       "       0.83353884, 1.        ])"
      ]
     },
     "execution_count": 8,
     "metadata": {},
     "output_type": "execute_result"
    }
   ],
   "source": [
    "mrs_prob_bins_no_treatment_ect = np.cumsum(np.concatenate(([0],mrs_prob_dist_no_treatment_ect)))\n",
    "\n",
    "# Need to normalise because it currently doesn't add up to 1 (non-zero mRS=6 is excluded).\n",
    "mrs_prob_bins_no_treatment_ect = mrs_prob_bins_no_treatment_ect/mrs_prob_bins_no_treatment_ect[-1]\n",
    "\n",
    "mrs_prob_bins_no_treatment_ect"
   ]
  },
  {
   "cell_type": "markdown",
   "id": "d61bd3bd",
   "metadata": {},
   "source": [
    "Test some probability \"x\" - which mRS bin does it fall into?"
   ]
  },
  {
   "cell_type": "code",
   "execution_count": 9,
   "id": "bf16271a",
   "metadata": {},
   "outputs": [
    {
     "data": {
      "text/plain": [
       "3"
      ]
     },
     "execution_count": 9,
     "metadata": {},
     "output_type": "execute_result"
    }
   ],
   "source": [
    "#x = np.random.rand()\n",
    "x = 0.5\n",
    "\n",
    "np.digitize(x, mrs_prob_bins_no_treatment_ect, right=True)-1"
   ]
  },
  {
   "cell_type": "markdown",
   "id": "4c587b5b-ff33-453d-8b0b-48ad7dbd3ae4",
   "metadata": {},
   "source": [
    "---"
   ]
  },
  {
   "cell_type": "markdown",
   "id": "825d199d",
   "metadata": {},
   "source": [
    "## Model 1"
   ]
  },
  {
   "cell_type": "markdown",
   "id": "55293679",
   "metadata": {},
   "source": [
    "Assume log odds = 0 at $T_{NE}$.\n",
    "\n",
    "Each mRS has different values of _a_, _b_, and _A_, and so the variables `a`, `b`, and `A` are arrays - index 0 for mRS=0 values etc."
   ]
  },
  {
   "cell_type": "markdown",
   "id": "0078d323",
   "metadata": {},
   "source": [
    "### Find a"
   ]
  },
  {
   "cell_type": "markdown",
   "id": "60b35731",
   "metadata": {},
   "source": [
    "At T = 0, log odds = a (see Equation 4). Find the value of _a_ by using Equation 5 above:\n",
    "\n",
    "$$ a = \\log[P(m\\leq x|T=0hr)] - \\log[P(m>x|T=0hr)] - \\log[P(m\\leq x|T_{NE})] + \\log[P(m>x|T_{NE})]$$\n",
    "\n",
    "Define some things so that:\n",
    "\n",
    "$$ a = p1 - p2 - p3 + p4 $$\n",
    "\n",
    "All of these right-hand-side RHS probabilities are known from the input data. \n",
    "\n",
    "The probabilities are not calculated using the `mrs_prob_bins_t0_treatment` and `mrs_prob_bins_no_treatment_ect` defined earlier as those arrays contain an extra 0.0 at the beginning, and we don't want to set mRS=0 to probabilities 0.0.\n",
    "\n",
    "mRS<=5 is excluded from the calculations because P(mRS<=5)=1.0 at all times, and so values for _a_, _b_ and _A_ cannot be found. Instead a straight horizontal line is plotted to show mRS<=5."
   ]
  },
  {
   "cell_type": "code",
   "execution_count": 10,
   "id": "d1ba6fba",
   "metadata": {},
   "outputs": [
    {
     "name": "stdout",
     "output_type": "stream",
     "text": [
      "[0.06165228 0.15906289 0.32675709 0.52897657 0.83353884 1.        ]\n",
      "[2.92153651 2.5054781  2.08799482 2.25100125 2.35247676]\n"
     ]
    }
   ],
   "source": [
    "F_ect = np.cumsum(mrs_prob_dist_no_treatment_ect)\n",
    "\n",
    "F_ect = F_ect/F_ect[-1]\n",
    "\n",
    "print(F_ect)\n",
    "\n",
    "p1_ect = np.log(np.cumsum(mrs_prob_dist_t0_treatment)[:-1])\n",
    "p2_ect = np.log(1 - np.cumsum(mrs_prob_dist_t0_treatment)[:-1])\n",
    "p3_ect = np.log(F_ect[:-1])\n",
    "p4_ect = np.log(1 - F_ect[:-1])\n",
    "\n",
    "a_ect = p1_ect-p2_ect - p3_ect+p4_ect\n",
    "\n",
    "print(a_ect)"
   ]
  },
  {
   "cell_type": "markdown",
   "id": "3e96799d",
   "metadata": {},
   "source": [
    "### Find b "
   ]
  },
  {
   "cell_type": "markdown",
   "id": "7acccefa",
   "metadata": {},
   "source": [
    "At T = 8hr (i.e. $T=T_{NE}$), log odds = 0 because the RHS of Equation 5 above cancels to zero. i.e. at T_0, odds=1. \n",
    "\n",
    "$$ b = -\\frac{a}{8} $$"
   ]
  },
  {
   "cell_type": "code",
   "execution_count": 11,
   "id": "757fc1eb",
   "metadata": {},
   "outputs": [],
   "source": [
    "b_ect = -a_ect/(8*60)"
   ]
  },
  {
   "cell_type": "markdown",
   "id": "0f323ea9",
   "metadata": {},
   "source": [
    "### Find A \n",
    "\n",
    "_A_ combines _a_ and all of the $time_to_no_effect$ terms - see the difference between Equations 5 and 6 above.  \n",
    "\n",
    "\n",
    "$$ A = a + \\log[P(m\\leq x|T_{NE})] - \\log[P(m>x|T_{NE})]$$"
   ]
  },
  {
   "cell_type": "code",
   "execution_count": 58,
   "id": "dc24025f",
   "metadata": {},
   "outputs": [
    {
     "data": {
      "text/plain": [
       "array([0.19892616, 0.84026084, 1.36510567, 2.36703756, 3.96339506])"
      ]
     },
     "execution_count": 58,
     "metadata": {},
     "output_type": "execute_result"
    }
   ],
   "source": [
    "A_ect = a_ect+p3_ect-p4_ect\n",
    "\n",
    "A_ect"
   ]
  },
  {
   "cell_type": "markdown",
   "id": "3379005f",
   "metadata": {},
   "source": [
    "### Plot log odds as function of time\n",
    "\n",
    "Each mRS value has a different _a_ and _b_ to calculate its log-odds. \n",
    "\n",
    "_a_ is the y-intercept and _b_ is the gradient."
   ]
  },
  {
   "cell_type": "code",
   "execution_count": 13,
   "id": "f958f059",
   "metadata": {},
   "outputs": [
    {
     "data": {
      "image/png": "[encoded data removed]",
      "text/plain": [
       "<Figure size 432x288 with 1 Axes>"
      ]
     },
     "metadata": {
      "needs_background": "light"
     },
     "output_type": "display_data"
    }
   ],
   "source": [
    "t = np.arange(0,8*60)\n",
    "\n",
    "for i,a_i in enumerate(a_ect):\n",
    "    \n",
    "    plt.plot(t, a_i + b_ect[i]*t, '-', label = f'mRS <= {i}')\n",
    "    \n",
    "    plt.scatter(0, a_i, label= f'a(mRS <= {i})')\n",
    "    \n",
    "plt.legend(loc='best')\n",
    "\n",
    "plt.ylabel('Log Odds')\n",
    "\n",
    "plt.xlabel('Onset to treatment time (mins)')\n",
    "\n",
    "plt.show()"
   ]
  },
  {
   "cell_type": "markdown",
   "id": "2567963b",
   "metadata": {},
   "source": [
    "### Plot P as function of time \n",
    "\n",
    "Each mRS value has a different _A_ and _b_ to calculate its probability with time.\n",
    "\n",
    "Because all of the calculations so far have used cumulative probability $P(m\\leq x|T)$, the lines should be viewed as being stacked on top of each other. \n",
    "\n",
    "We started with the data at t=0 and t=$time_to_no_effect$ and have calculated the lines in between.\n",
    "\n",
    "Basic plot:"
   ]
  },
  {
   "cell_type": "code",
   "execution_count": 14,
   "id": "f307e02b",
   "metadata": {},
   "outputs": [
    {
     "data": {
      "image/png": "[encoded data removed]",
      "text/plain": [
       "<Figure size 432x288 with 1 Axes>"
      ]
     },
     "metadata": {
      "needs_background": "light"
     },
     "output_type": "display_data"
    }
   ],
   "source": [
    "t = np.arange(0,8*60)\n",
    "\n",
    "for i,A_i in enumerate(A_ect):\n",
    "    \n",
    "    plt.plot(t, np.exp(A_i + b_ect[i]*t)/(1+np.exp(A_i + b_ect[i]*t)), '-', label = f'mRS <= {i}')\n",
    "    \n",
    "plt.plot(t, [1.0 for x in t], '-', label = 'mRS <= 5')\n",
    "\n",
    "plt.ylabel('Probability')\n",
    "\n",
    "plt.xlabel('Onset to treatment time (mins)')\n",
    "\n",
    "plt.legend(loc='best')\n",
    "\n",
    "plt.show()"
   ]
  },
  {
   "cell_type": "markdown",
   "id": "f9fd08fb",
   "metadata": {},
   "source": [
    "The same lines plotted with extra annotations:"
   ]
  },
  {
   "cell_type": "code",
   "execution_count": 15,
   "id": "f99875bf",
   "metadata": {},
   "outputs": [],
   "source": [
    "def plot_probs(A_ect,b_ect,t,mrs_prob_bins_t0_treatment,mrs_prob_bins_no_treatment,colour_bins=1,mark_data_ect=0,mark_data_oly=0,plot_mRS5=1):\n",
    "    \"\"\"\n",
    "    Plot cumulative probability against time with fancier labelling.\n",
    "    \n",
    "    Inputs:\n",
    "    A_ect         - list or np.array. Contains values of A for P(t,A,b).\n",
    "    b_ect         - list or np.array. Contains values of b for P(t,A,b).\n",
    "    t             - list or np.array. Time steps.\n",
    "    mrs_prob_bins_t0_treatment        - list or np.array. Cumulative probability bins at t=0.\n",
    "    mrs_prob_bins_no_treatment        - list or np.array. Cumulative probability bins at t=time_to_no_effect.\n",
    "    colour_bins   - int, 0 or 1. Whether to colour the gaps between P(t) lines.\n",
    "    mark_data_ect - int, 0 or 1. Whether to mark the input data for thrombectomy.\n",
    "    mark_data_oly - int, 0 or 1. Whether to mark the input data for thrombolysis.\n",
    "    plot_mRS5     - int, 0 or 1. Whether to draw P(mRS<=5) along the top.\n",
    "    \n",
    "    \"\"\"\n",
    "    if plot_mRS5>0:\n",
    "        # P(mRS<=5)=1.0 at all times, so we cannot define A, a, and b.\n",
    "        # Instead append to this array a 0.0, which won't be used directly\n",
    "        # but will allow the \"for\" loop to go round one extra time.\n",
    "        A_ect = np.append(A_ect,0.0)\n",
    "    for i,A_i in enumerate(A_ect):\n",
    "\n",
    "        # Define the probability line, p_i:\n",
    "        if i<5:\n",
    "            p_i = np.exp(A_i + b_ect[i]*t)/(1+np.exp(A_i + b_ect[i]*t))\n",
    "        else:\n",
    "            # P(mRS<=5)=1.0 at all times:\n",
    "            p_i = np.full(t.shape,1.0)\n",
    "        # Plot it as before and store the colour used:\n",
    "        l, = plt.plot(t, p_i, '-', label = f'mRS <= {i}')\n",
    "        colour = l.get_color()\n",
    "\n",
    "        if mark_data_ect>0:\n",
    "            # Mark the thrombectomy data at time t=0hr and t=time_to_no_effect.\n",
    "            # If first marker plotted, then add a label for the legend:\n",
    "            l_T0 = 'SAMueL data'     if i<1 else None\n",
    "            l_time_to_no_effect = 'Goyal+2016 data' if i<1 else None\n",
    "            # (Keep i+1 index because the first value in mrs_prob_bins_t0_treatment is just 0.0):\n",
    "            plt.scatter(0, mrs_prob_bins_t0_treatment[i+1],\n",
    "                        marker='o', label=l_T0, facecolor=colour, edgecolor='k')\n",
    "            plt.scatter(8*60, mrs_prob_bins_no_treatment[i+1],\n",
    "                        marker='s', label=l_time_to_no_effect, facecolor=colour, edgecolor='k')\n",
    "            \n",
    "        if mark_data_oly>0:\n",
    "            # Mark the thrombolysis data. \n",
    "            if i==1:\n",
    "                # For mRS<=1 only, plot the reference data point.\n",
    "                ti = np.where(t==1.0*60)\n",
    "                plt.scatter(t[ti], p_i[ti],\n",
    "                            marker='D', label='Emberson+2014 data', \n",
    "                            facecolor=colour, edgecolor='k')\n",
    "                \n",
    "            # Mark the data at time t=6.3hr.\n",
    "            # If this is the first marker plotted, then add a label for the legend:\n",
    "            l_time_to_no_effect = 'Lees+2010 data' if i<1 else None\n",
    "            # (Keep i+1 index because the first value in mrs_prob_bins_t0_treatment is just 0.0):\n",
    "            plt.scatter(6.3*60, mrs_prob_bins_no_treatment[i+1],\n",
    "                        marker='X', label=l_time_to_no_effect, facecolor=colour, edgecolor='k')\n",
    "              \n",
    "        if colour_bins>0:\n",
    "\n",
    "            # Fill in the area between this line, p_i, and the line below, p_j.\n",
    "            # This area marks where mRS <= the given value.\n",
    "            # If p_j is not defined yet (i=0), set all p_j to zero:\n",
    "            p_j = p_j if i>0 else np.zeros_like(p_i)\n",
    "            plt.fill_between(t, p_i, p_j, color=colour, alpha=0.3)#, label=f'mRS = {i}')\n",
    "            # ^ alpha is just used as a quick way to lighten the fill colour.\n",
    "\n",
    "            # Store the most recently-created line for the next loop:\n",
    "            p_j = p_i\n",
    "    \n",
    "    \n",
    "    plt.legend(loc='center left', bbox_to_anchor=[1.0,0.5,0.2,0.2])\n",
    "\n",
    "    plt.ylabel('Probability')\n",
    "\n",
    "    plt.xlabel('Onset to treatment time (mins)')\n",
    "\n",
    "    plt.ylim(-0.02,1.02)"
   ]
  },
  {
   "cell_type": "markdown",
   "id": "40d90571",
   "metadata": {},
   "source": [
    "Fancier plot:"
   ]
  },
  {
   "cell_type": "code",
   "execution_count": 16,
   "id": "12ecc84c",
   "metadata": {},
   "outputs": [
    {
     "data": {
      "image/png": "[encoded data removed]",
      "text/plain": [
       "<Figure size 432x288 with 1 Axes>"
      ]
     },
     "metadata": {
      "needs_background": "light"
     },
     "output_type": "display_data"
    }
   ],
   "source": [
    "t = np.arange(0,8*60)\n",
    "\n",
    "plot_probs(A_ect,b_ect,t,mrs_prob_bins_t0_treatment,mrs_prob_bins_no_treatment_ect,colour_bins=1,mark_data_ect=1)\n",
    "\n",
    "plt.show()"
   ]
  },
  {
   "cell_type": "markdown",
   "id": "bb66ae56",
   "metadata": {},
   "source": [
    "## Model 1 code"
   ]
  },
  {
   "cell_type": "markdown",
   "id": "44d39be1",
   "metadata": {},
   "source": [
    "Inputs: \n",
    "\n",
    "- Time to thrombectomy or thrombolysis\n",
    "- Time to zero effect (set at 8 hours, but optionally changed)\n",
    "\n",
    "Outpts:\n",
    "\n",
    "- Single sample of mRS if untreated, and mRS if treated\n",
    "- 100 samples of mRS if untreated, and mRS if treated, and probability of mRS being improved by at least 1"
   ]
  },
  {
   "cell_type": "code",
   "execution_count": 19,
   "id": "c8e078ff",
   "metadata": {},
   "outputs": [],
   "source": [
    "def stroke_outcome(mrs_prob_dist_t0_treatment, mrs_prob_dist_no_treatment, treatment_time, time_zero_effect=8*60, single=True, n_iter=100, xs=[]):\n",
    "    \n",
    "    '''\n",
    "    Inputs\n",
    "    \n",
    "    mrs_prob_dist_t0_treatment:           1D list or numpy array. Element i corresponds to \n",
    "                      the proportion of patients that had mRS=i, before stroke or \n",
    "                      if treated at time t=0.\n",
    "    mrs_prob_dist_no_treatment:           1D list or numpy array. Element i corresponds to \n",
    "                      the proportion of patients that had mRS=i if not treated\n",
    "                      or treated after time_zero_effect\n",
    "    treatment_time:   int. time in minutes between stroke and treatment    \n",
    "    time_zero_effect: int. time in minutes after stroke that treatment\n",
    "                      has no effect.                      \n",
    "    single:           bool. If True, model will only perform one iteration    \n",
    "    n_iter:           int. If single=False, number of iterations the model \n",
    "                      will perform.\n",
    "    xs:               1D list or numpy array. List of values of 'x' to try.\n",
    "                      \n",
    "    \n",
    "    Outputs\n",
    "    \n",
    "    mRS_0:  1D list. mRS if treated at time t=0     \n",
    "    mRS_F:  1D list. mRS if treated at time_zero_effect  \n",
    "    mRS_T:  1D list. mRS if treated at treatment_time\n",
    "    bins_t: bins at treatment_time\n",
    "    \n",
    "    '''\n",
    "\n",
    "    # find a\n",
    "    F = np.cumsum(mrs_prob_dist_no_treatment)\n",
    "    F = F/F[-1]\n",
    "\n",
    "    p1 = np.log(np.cumsum(mrs_prob_dist_t0_treatment)[:-1])\n",
    "    p2 = np.log(1- np.cumsum(mrs_prob_dist_t0_treatment)[:-1])\n",
    "    p3 = np.log(F[:-1])\n",
    "    p4 = np.log(1-F[:-1])\n",
    "\n",
    "    a = p1-p2 - p3 + p4\n",
    "\n",
    "    # find b\n",
    "    b = -a/(time_zero_effect)\n",
    "\n",
    "    # find A\n",
    "    A = a+p3-p4\n",
    "\n",
    "    # mRS at t=0\n",
    "    # Get all mRS bins at t=0:\n",
    "    mrs_prob_bins_t0_treatment = np.cumsum(np.concatenate(([0],mrs_prob_dist_t0_treatment)))\n",
    "\n",
    "\n",
    "    # mRS untreated\n",
    "    # Find which bin 'x' lies in at t=time_to_no_effect.\n",
    "    mrs_prob_bins_no_treatment = np.cumsum(np.concatenate(([0],mrs_prob_dist_no_treatment)))\n",
    "    mrs_prob_bins_no_treatment = mrs_prob_bins_no_treatment/mrs_prob_bins_no_treatment[-1]\n",
    "    #print(mrs_prob_bins_no_treatment)\n",
    "    \n",
    "\n",
    "    # mRS treated\n",
    "    # Create the probability bins at treatment_time:\n",
    "    bins_T = [np.exp(A_i + b[i]*treatment_time)/(1+np.exp(A_i + b[i]*treatment_time))\\\n",
    "                 for i,A_i in enumerate(A)]\n",
    "    # Find which bin 'x' lies in at t=treatment_time.\n",
    "    bins_T = np.concatenate((np.concatenate(([0],bins_T)),[1]))\n",
    "    \n",
    "\n",
    "    \n",
    "    if single:\n",
    "        \n",
    "        n_iter = 1\n",
    "    elif len(xs)>0:\n",
    "        n_iter = len(xs)\n",
    "        \n",
    "    count=0\n",
    "    \n",
    "    mRS_0, mRS_F, mRS_T = [],[],[]\n",
    "    \n",
    "    while count<n_iter:\n",
    "    \n",
    "        # random number to represent mRS at t=0.\n",
    "        # x is a probability on the y-axis and so runs from 0 to 1.\n",
    "\n",
    "        x = np.random.rand() if len(xs)<1 else xs[count]\n",
    "        #x = 0.9\n",
    "\n",
    "        # Find which bin 'x' lies in,\n",
    "        # i.e. which plotted probability line it lies under,\n",
    "        # at time t=0, t=treatment_time, and t=time_to_no_effect.\n",
    "        mRS_0.append(np.digitize(x, mrs_prob_bins_t0_treatment, right=True)-1)\n",
    "        mRS_F.append(np.digitize(x, mrs_prob_bins_no_treatment, right=True)-1)\n",
    "        mRS_T.append(np.digitize(x, bins_T, right=True)-1)\n",
    "    \n",
    "        if single:\n",
    "            \n",
    "            #print(x)\n",
    "\n",
    "            print(f'mRS pre-stroke: {mRS_0[-1]}')\n",
    "            print(f'mRS if not treated: {mRS_F[-1]}')\n",
    "            print(f'mRS if treated at time={treatment_time}: {mRS_T[-1]}')\n",
    "            \n",
    "        count+=1\n",
    "\n",
    "        \n",
    "    if not single:\n",
    "        # For all of the patients (n_iter values of 'x'), record whether \n",
    "        # their mRS improved (mRS_T, with treatment at treatment_time) compared with\n",
    "        # their untreated mRS level (in mRS_F). If improved, set to 1, else set to 0.\n",
    "        # Then take the average of the 1s and 0s across all n_iter patients. \n",
    "        treatment_effect = np.mean([1 if mRS_F[i] - T >=1 else 0 for i,T in enumerate(mRS_T)])\n",
    "        \n",
    "        print(f'Probability of mRS improving by 1 or more: {treatment_effect}')\n",
    "        \n",
    "    \n",
    "    return mRS_0, mRS_F, mRS_T, bins_T"
   ]
  },
  {
   "cell_type": "code",
   "execution_count": 20,
   "id": "8ced7edc",
   "metadata": {},
   "outputs": [
    {
     "name": "stdout",
     "output_type": "stream",
     "text": [
      "210\n",
      "mRS pre-stroke: 2\n",
      "mRS if not treated: 4\n",
      "mRS if treated at time=210: 3\n"
     ]
    }
   ],
   "source": [
    "# treatment_time = np.random.randint(0, 8*60)\n",
    "# Manually set treatment time and x:\n",
    "treatment_time = 210\n",
    "x = 0.75\n",
    "\n",
    "print(treatment_time)\n",
    "\n",
    "mRS_0, mRS_F, mRS_T, bins_T = stroke_outcome(mrs_prob_dist_t0_treatment, mrs_prob_dist_no_treatment_ect, treatment_time, time_zero_effect=8*60, xs=[x])"
   ]
  },
  {
   "cell_type": "markdown",
   "id": "ed7b6687",
   "metadata": {},
   "source": [
    "Plot the three mRS values printed above: "
   ]
  },
  {
   "cell_type": "code",
   "execution_count": 21,
   "id": "8ca13081",
   "metadata": {},
   "outputs": [
    {
     "data": {
      "image/png": "[encoded data removed]",
      "text/plain": [
       "<Figure size 432x288 with 1 Axes>"
      ]
     },
     "metadata": {
      "needs_background": "light"
     },
     "output_type": "display_data"
    }
   ],
   "source": [
    "t = np.arange(0,8*60)\n",
    "\n",
    "# Similar plot to before:\n",
    "plot_probs(A_ect,b_ect,t,mrs_prob_bins_t0_treatment,mrs_prob_bins_no_treatment_ect,colour_bins=1,mark_data_ect=0)\n",
    "\n",
    "# Vertical lines at t=0, treatment time, and t=time_to_no_effect:\n",
    "for t in [0,treatment_time,8*60]:\n",
    "    plt.axvline(t, color='k', linestyle=':')\n",
    "    \n",
    "# Horizontal line where considered 'x' is:\n",
    "plt.axhline(x, color='k', linestyle='--')\n",
    "    \n",
    "# Add scatter markers where the horizontal and vertical lines meet:\n",
    "for t in [0,treatment_time,8*60]:\n",
    "    plt.scatter(t,x,color='k',marker='o')\n",
    "    \n",
    "    \n",
    "plt.show()\n",
    "\n",
    "# # Use tight_layout() to make sure the legend isn't cut off when image is saved:\n",
    "#plt.tight_layout()\n",
    "#plt.savefig('lines_prob-mRS_time.pdf')\n",
    "#plt.close()"
   ]
  },
  {
   "cell_type": "markdown",
   "id": "08d78dd1",
   "metadata": {},
   "source": [
    "---"
   ]
  },
  {
   "cell_type": "markdown",
   "id": "8b7ba619",
   "metadata": {},
   "source": [
    "# Thrombolysis \n",
    "\n",
    "Same models, but different `mrs_prob_dist_t0_treatment` and `mrs_prob_dist_no_treatment`."
   ]
  },
  {
   "cell_type": "markdown",
   "id": "a6094ae4",
   "metadata": {},
   "source": [
    "## T=6.3hrs untreated population\n",
    "\n",
    "These values are read off Lees+2010 Figure 2 by measuring the widths of the boxes in Powerpoint. \n",
    "These measurements are somewhat imprecise so these arrays don't have an integer number of patients in any category, but the categories do sum to the required quantity of patients.\n",
    "\n",
    "The four bars cover different time ranges, respectively 0-90min, 91-180min, 181-270min, 271-360min. \n",
    "These bars have different numbers of patients, respectively 151, 315, 811, 543.\n",
    "All four bars contain data on mRS=0,...,6 inclusive."
   ]
  },
  {
   "cell_type": "code",
   "execution_count": 25,
   "id": "ac0ea9b6",
   "metadata": {},
   "outputs": [],
   "source": [
    "# Untreated population. Four sets of numbers of patients with mRS 0,1,...,5,6:\n",
    "n_0 = np.array([ 15.91421569,  30.34803922,  16.46936275,  18.38153595,  29.05269608,  10.60947712,  30.2246732 ])\n",
    "n_1 = np.array([ 46.06617647,  45.42279412,  29.85294118,  51.72794118,  61.12132353,  33.84191176,  46.96691176])\n",
    "n_2 = np.array([129.53472222, 176.90931373, 108.66339869, 113.96405229, 134.50408497,  64.60171569,  82.82271242])\n",
    "n_3 = np.array([ 78.96568627, 115.34313725,  72.97671569,  70.09313725, 104.03063725,  47.68995098,  53.90073529])\n",
    "\n",
    "# Combine the four datasets and create probability distribution:\n",
    "n_F_oly = np.sum([n_0,n_1,n_2,n_3],axis=0)\n",
    "# Remove mRS=6 with [:-1]:\n",
    "mrs_prob_dist_no_treatment_oly = n_F_oly[:-1] / np.sum(n_F_oly[:-1])\n",
    "\n",
    "# Create cumulative probability:\n",
    "mrs_prob_bins_no_treatment_oly = np.cumsum(np.concatenate(([0.0],mrs_prob_dist_no_treatment_oly)))"
   ]
  },
  {
   "cell_type": "code",
   "execution_count": 26,
   "id": "819b4571",
   "metadata": {},
   "outputs": [
    {
     "data": {
      "text/plain": [
       "array([0.16841002, 0.2291431 , 0.14193671, 0.15825232, 0.2046646 ,\n",
       "       0.09759325])"
      ]
     },
     "execution_count": 26,
     "metadata": {},
     "output_type": "execute_result"
    }
   ],
   "source": [
    "mrs_prob_dist_no_treatment_oly"
   ]
  },
  {
   "cell_type": "code",
   "execution_count": 27,
   "id": "5eb27008",
   "metadata": {},
   "outputs": [
    {
     "data": {
      "text/plain": [
       "array([0.        , 0.16841002, 0.39755312, 0.53948983, 0.69774214,\n",
       "       0.90240675, 1.        ])"
      ]
     },
     "execution_count": 27,
     "metadata": {},
     "output_type": "execute_result"
    }
   ],
   "source": [
    "mrs_prob_bins_no_treatment_oly"
   ]
  },
  {
   "cell_type": "markdown",
   "id": "c2303818-d8e1-47c7-abc4-56e26cf655d7",
   "metadata": {},
   "source": [
    "Find the t=0 distribution of probabilities for thrombolysis.\n",
    "    \n",
    "The dist is found by scaling the known mRS<=1 odds ratio OR at t=1hr to find the t=0hr equivalent. Then the t=0hr value is used to scale the thrombectomy t=0 values to match. "
   ]
  },
  {
   "cell_type": "code",
   "execution_count": 30,
   "id": "59149124-dd89-4990-8960-933cee8a066a",
   "metadata": {},
   "outputs": [],
   "source": [
    "OR = 1.9\n",
    "mRS_ref = 1"
   ]
  },
  {
   "cell_type": "code",
   "execution_count": 31,
   "id": "c664c759-cec5-40ba-9502-1001fe9a7880",
   "metadata": {},
   "outputs": [],
   "source": [
    "# p2 from distribution if not treated\n",
    "# (index+1 because mrs_prob_bins_no_treatment_oly contains 0.0 at start)\n",
    "p2 = mrs_prob_bins_no_treatment_oly[mRS_ref+1]"
   ]
  },
  {
   "cell_type": "markdown",
   "id": "6c2ad3b8-94f2-42e9-9309-f365c6bee74e",
   "metadata": {},
   "source": [
    "Calculate p1 as in the maths cell above."
   ]
  },
  {
   "cell_type": "code",
   "execution_count": 32,
   "id": "159652e7-62e3-4371-88e3-dd7864b1a485",
   "metadata": {},
   "outputs": [],
   "source": [
    "p1 = get_p1(p2, OR, T_NE = 6.3)"
   ]
  },
  {
   "cell_type": "markdown",
   "id": "9138131f-1f72-43f6-b50d-ac071b94462d",
   "metadata": {},
   "source": [
    "See plots later in this notebook to better explain the following function. Here t=0 thrombectomy means the SAMueL-1 dataset. \n",
    "\n",
    "At this point, we know the probabilities for mRS<=1 at t=0 for both thrombolysis and thrombectomy. The other mRS!=1 probs should be scaled about these points in the same ratios for thrombectomy as for thrombolysis.\n",
    "     \n",
    "Basically, at t=0, if the gap A between the mRS=n and mRS=1 lines for thrombectomy is X% of the gap B between 0 (n<1) or 1 (n>1) and the mRS=1 line for thrombectomy, then for thrombolysis the equivalent gap A1 should take up X% of the gap B1."
   ]
  },
  {
   "cell_type": "markdown",
   "id": "505d6cab",
   "metadata": {},
   "source": [
    "Find the distributions and bins at time t=0hrs for thrombolysis:"
   ]
  },
  {
   "cell_type": "code",
   "execution_count": 33,
   "id": "58be58f0-abfb-4383-994a-6dbe320cb8cf",
   "metadata": {},
   "outputs": [],
   "source": [
    "mrs_prob_dist_t0_treatment_oly,mrs_prob_bins_t0_treatment_oly = get_scaled_dist(mrs_prob_dist_t0_treatment,p1,mRS_ref=1)"
   ]
  },
  {
   "cell_type": "code",
   "execution_count": 34,
   "id": "a94f76df-bdb6-423a-b382-1cd3a9c8988b",
   "metadata": {},
   "outputs": [
    {
     "data": {
      "text/plain": [
       "array([0.46101   , 0.12494963, 0.1346828 , 0.16163173, 0.09212051,\n",
       "       0.02560534])"
      ]
     },
     "execution_count": 34,
     "metadata": {},
     "output_type": "execute_result"
    }
   ],
   "source": [
    "mrs_prob_dist_t0_treatment_oly"
   ]
  },
  {
   "cell_type": "code",
   "execution_count": 35,
   "id": "bb347323",
   "metadata": {},
   "outputs": [
    {
     "data": {
      "text/plain": [
       "array([0.        , 0.46101   , 0.58595964, 0.72064244, 0.88227417,\n",
       "       0.97439468, 1.00000001])"
      ]
     },
     "execution_count": 35,
     "metadata": {},
     "output_type": "execute_result"
    }
   ],
   "source": [
    "mrs_prob_bins_t0_treatment_oly"
   ]
  },
  {
   "cell_type": "markdown",
   "id": "f55701e3",
   "metadata": {},
   "source": [
    "## Model 1"
   ]
  },
  {
   "cell_type": "markdown",
   "id": "54c372b7",
   "metadata": {},
   "source": [
    "Assume log odds = 0 at $T_F$. Then _a_, _b_, and _A_ are calculated in the same way as for thrombectomy."
   ]
  },
  {
   "cell_type": "markdown",
   "id": "4bcaf584",
   "metadata": {},
   "source": [
    "### Find a"
   ]
  },
  {
   "cell_type": "markdown",
   "id": "d5b11846",
   "metadata": {},
   "source": [
    "At T = 0, log odds = a"
   ]
  },
  {
   "cell_type": "code",
   "execution_count": 36,
   "id": "9d758a83",
   "metadata": {},
   "outputs": [
    {
     "name": "stdout",
     "output_type": "stream",
     "text": [
      "[0.16841002 0.39755312 0.53948983 0.69774214 0.90240675 1.        ]\n"
     ]
    }
   ],
   "source": [
    "F_oly = np.cumsum(mrs_prob_dist_no_treatment_oly)\n",
    "\n",
    "F_oly = F_oly/F_oly[-1]\n",
    "\n",
    "print(F_oly)\n",
    "\n",
    "p1_oly = np.log(np.cumsum(mrs_prob_dist_t0_treatment_oly)[:-1])\n",
    "p2_oly = np.log(1 - np.cumsum(mrs_prob_dist_t0_treatment_oly)[:-1])\n",
    "p3_oly = np.log(F_oly[:-1])\n",
    "p4_oly = np.log(1 - F_oly[:-1])\n",
    "\n",
    "a_oly = p1_oly-p2_oly - p3_oly+p4_oly"
   ]
  },
  {
   "cell_type": "code",
   "execution_count": 37,
   "id": "86b72b75",
   "metadata": {},
   "outputs": [
    {
     "data": {
      "text/plain": [
       "array([1.44066064, 0.76295839, 0.78936158, 1.17757525, 1.41475922])"
      ]
     },
     "execution_count": 37,
     "metadata": {},
     "output_type": "execute_result"
    }
   ],
   "source": [
    "a_oly"
   ]
  },
  {
   "cell_type": "markdown",
   "id": "a22f0d0f",
   "metadata": {},
   "source": [
    "### Find b "
   ]
  },
  {
   "cell_type": "markdown",
   "id": "b48e54c9",
   "metadata": {},
   "source": [
    "At T = 6.3, log odds = 0"
   ]
  },
  {
   "cell_type": "code",
   "execution_count": 38,
   "id": "dd09c498",
   "metadata": {},
   "outputs": [],
   "source": [
    "b_oly = -a_oly/(6.3*60)"
   ]
  },
  {
   "cell_type": "markdown",
   "id": "b374a89f",
   "metadata": {},
   "source": [
    "### Find A "
   ]
  },
  {
   "cell_type": "code",
   "execution_count": 39,
   "id": "fdf66635",
   "metadata": {},
   "outputs": [],
   "source": [
    "A_oly = a_oly+p3_oly-p4_oly"
   ]
  },
  {
   "cell_type": "markdown",
   "id": "a3b857d1",
   "metadata": {},
   "source": [
    "### Plot log odds as function of time"
   ]
  },
  {
   "cell_type": "code",
   "execution_count": 40,
   "id": "7d9bf5f0",
   "metadata": {},
   "outputs": [
    {
     "data": {
      "image/png": "[encoded data removed]",
      "text/plain": [
       "<Figure size 432x288 with 1 Axes>"
      ]
     },
     "metadata": {
      "needs_background": "light"
     },
     "output_type": "display_data"
    }
   ],
   "source": [
    "t = np.arange(0,6.3*60)\n",
    "\n",
    "for i,a_i in enumerate(a_oly):\n",
    "    \n",
    "    plt.plot(t, a_i + b_oly[i]*t, '-', label = f'mRS <= {i}')\n",
    "    \n",
    "plt.legend(loc='best')\n",
    "\n",
    "plt.ylabel('Log Odds')\n",
    "\n",
    "plt.xlabel('Onset to treatment time (mins)')\n",
    "\n",
    "plt.show()"
   ]
  },
  {
   "cell_type": "markdown",
   "id": "0da1adf6",
   "metadata": {},
   "source": [
    "### Plot P as function of time "
   ]
  },
  {
   "cell_type": "code",
   "execution_count": 41,
   "id": "0e517472",
   "metadata": {},
   "outputs": [
    {
     "data": {
      "image/png": "[encoded data removed]",
      "text/plain": [
       "<Figure size 432x288 with 1 Axes>"
      ]
     },
     "metadata": {
      "needs_background": "light"
     },
     "output_type": "display_data"
    }
   ],
   "source": [
    "t = np.arange(0,6.3*60)\n",
    "\n",
    "for i,A_i in enumerate(A_oly):\n",
    "    \n",
    "    plt.plot(t, np.exp(A_i + b_oly[i]*t)/(1+np.exp(A_i + b_oly[i]*t)), '-', label = f'mRS <= {i}')\n",
    "\n",
    "plt.plot(t, [1.0 for x in t], '-', label = 'mRS <= 5')\n",
    "    \n",
    "plt.legend(loc='upper left')\n",
    "\n",
    "plt.ylabel('Probability')\n",
    "\n",
    "plt.xlabel('Onset to treatment time (mins)')\n",
    "\n",
    "plt.show()"
   ]
  },
  {
   "cell_type": "markdown",
   "id": "d55a7ba7",
   "metadata": {},
   "source": [
    "### Get errors from Emberson's CI, assuming log odds = 0 at T_F\n",
    "\n",
    "Calculate a new distribution at time=0 using the known $\\pm$ values on the odds ratio at time T=1hr for mRS$\\leq$1. OR was 1.9. \n",
    "\n",
    "Then follow this through to each of the other mRS distributions - use the scaling of the high and low t=0 mRS$\\leq$1 points in the same way as before."
   ]
  },
  {
   "cell_type": "code",
   "execution_count": 47,
   "id": "1d6d3ade-5fe3-4bb2-8dc8-12e57be234a1",
   "metadata": {},
   "outputs": [],
   "source": [
    "def get_mrs_prob_dist_t0_treatment(mrs_prob_dist_t0_treatment,p2,OR,mRS_ref,time_to_no_effect= 6.3):\n",
    "    \"\"\"Combine two functions from earlier.\"\"\"\n",
    "    p1 = get_p1(p2, OR, time_to_no_effect)\n",
    "    mrs_prob_dist_t0_treatment_oly,mrs_prob_bins_t0_treatment_oly = get_scaled_dist(mrs_prob_dist_t0_treatment,p1,mRS_ref)\n",
    "    return mrs_prob_dist_t0_treatment_oly,mrs_prob_bins_t0_treatment_oly "
   ]
  },
  {
   "cell_type": "code",
   "execution_count": 48,
   "id": "6c0657dd-4ca4-4ced-9a0b-52dc7d8dde3b",
   "metadata": {},
   "outputs": [],
   "source": [
    "OR = 1.9\n",
    "OR_low = 1.4\n",
    "OR_hi = 2.6\n",
    "\n",
    "mRS_ref = 1\n",
    "\n",
    "# p2 from distribution if not treated\n",
    "# (index+1 because mrs_prob_bins_no_treatment_oly contains 0.0 at start)\n",
    "p2 = mrs_prob_bins_no_treatment_oly[mRS_ref+1]"
   ]
  },
  {
   "cell_type": "code",
   "execution_count": 49,
   "id": "768856ae-cab4-4320-b11c-0a5233dbcb95",
   "metadata": {},
   "outputs": [],
   "source": [
    "d_low,_ = get_mrs_prob_dist_t0_treatment(mrs_prob_dist_t0_treatment,p2,OR_low,mRS_ref)\n",
    "d_hi,_  = get_mrs_prob_dist_t0_treatment(mrs_prob_dist_t0_treatment,p2,OR_hi, mRS_ref)"
   ]
  },
  {
   "cell_type": "markdown",
   "id": "2adfd0d3",
   "metadata": {},
   "source": [
    "#### Lower limit "
   ]
  },
  {
   "cell_type": "code",
   "execution_count": 50,
   "id": "09d8399d",
   "metadata": {},
   "outputs": [],
   "source": [
    "p1 = np.log(np.cumsum(d_low)[:-1])\n",
    "p2 = np.log(1 - np.cumsum(d_low)[:-1])\n",
    "p3 = np.log(F_oly[:-1])\n",
    "p4 = np.log(1 - F_oly[:-1])\n",
    "\n",
    "a_low = p1-p2 - p3+p4"
   ]
  },
  {
   "cell_type": "code",
   "execution_count": 51,
   "id": "299aa715",
   "metadata": {},
   "outputs": [],
   "source": [
    "b_low = -a_low/(6.3*60)"
   ]
  },
  {
   "cell_type": "code",
   "execution_count": 52,
   "id": "5c7483df",
   "metadata": {},
   "outputs": [],
   "source": [
    "A_low = a_low+p3-p4"
   ]
  },
  {
   "cell_type": "markdown",
   "id": "9ac2be32",
   "metadata": {},
   "source": [
    "#### Upper limit "
   ]
  },
  {
   "cell_type": "code",
   "execution_count": 53,
   "id": "bbded317",
   "metadata": {},
   "outputs": [],
   "source": [
    "p1 = np.log(np.cumsum(d_hi)[:-1])\n",
    "p2 = np.log(1 - np.cumsum(d_hi)[:-1])\n",
    "p3 = np.log(F_oly[:-1])\n",
    "p4 = np.log(1 - F_oly[:-1])\n",
    "\n",
    "a_hi = p1-p2 - p3+p4"
   ]
  },
  {
   "cell_type": "code",
   "execution_count": 54,
   "id": "02d4c029",
   "metadata": {},
   "outputs": [],
   "source": [
    "b_hi = -a_hi/(6.3*60)"
   ]
  },
  {
   "cell_type": "code",
   "execution_count": 55,
   "id": "bbd00d6c",
   "metadata": {},
   "outputs": [],
   "source": [
    "A_hi = a_hi+p3-p4"
   ]
  },
  {
   "cell_type": "markdown",
   "id": "20f32ce6",
   "metadata": {},
   "source": [
    "### Plot P as function of time \n",
    "\n",
    "n.b. no errors for mRS=5yet so just plotted the base line:"
   ]
  },
  {
   "cell_type": "code",
   "execution_count": 56,
   "id": "8697c7da",
   "metadata": {},
   "outputs": [
    {
     "data": {
      "image/png": "[encoded data removed]",
      "text/plain": [
       "<Figure size 432x288 with 1 Axes>"
      ]
     },
     "metadata": {
      "needs_background": "light"
     },
     "output_type": "display_data"
    }
   ],
   "source": [
    "t = np.arange(0,6.3*60)\n",
    "\n",
    "for i,A_i in enumerate(A_oly):\n",
    "    \n",
    "    p_i   = np.exp(A_i      + b_oly[i]*t) / (1+np.exp(A_i      + b_oly[i]*t))\n",
    "    p_low = np.exp(A_low[i] + b_low[i]*t) / (1+np.exp(A_low[i] + b_low[i]*t))\n",
    "    p_hi  = np.exp(A_hi[i]  + b_hi[i]*t ) / (1+np.exp(A_hi[i]  + b_hi[i]*t) )\n",
    "    \n",
    "    plt.plot(t, p_i, '-', label = f'mRS <= {i}')\n",
    "    \n",
    "    plt.fill_between(t, p_low, p_hi, alpha=0.3)\n",
    "\n",
    "    \n",
    "plt.plot(t, [1.0 for x in t], '-', label = 'mRS <= 5')\n",
    "\n",
    "plt.legend(loc='best',bbox_to_anchor=[1.0,0.5,0.2,0.2])\n",
    "\n",
    "plt.ylabel('Probability')\n",
    "\n",
    "plt.xlabel('Onset to treatment time (mins)')\n",
    "\n",
    "plt.show()"
   ]
  },
  {
   "cell_type": "code",
   "execution_count": null,
   "id": "0cb69d8b",
   "metadata": {},
   "outputs": [],
   "source": []
  },
  {
   "cell_type": "code",
   "execution_count": null,
   "id": "749073f6",
   "metadata": {},
   "outputs": [],
   "source": []
  }
 ],
 "metadata": {
  "kernelspec": {
   "display_name": "Python 3 (ipykernel)",
   "language": "python",
   "name": "python3"
  },
  "language_info": {
   "codemirror_mode": {
    "name": "ipython",
    "version": 3
   },
   "file_extension": ".py",
   "mimetype": "text/x-python",
   "name": "python",
   "nbconvert_exporter": "python",
   "pygments_lexer": "ipython3",
   "version": "3.9.7"
  }
 },
 "nbformat": 4,
 "nbformat_minor": 5
}
