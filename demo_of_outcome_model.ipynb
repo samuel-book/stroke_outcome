{
 "cells": [
  {
   "cell_type": "markdown",
   "metadata": {},
   "source": [
    "# Example output from stroke outcome model\n",
    "\n",
    "In this notebook we provide an example of the output from the stroke outcome model assuming IVT is delivered at 90 mins and MT is delivered at 120 mins after stroke onset.\n",
    "\n",
    "The model provides a sample distribution of mRS scores for 1,000 patients."
   ]
  },
  {
   "cell_type": "markdown",
   "metadata": {},
   "source": [
    "## Load packages and data file"
   ]
  },
  {
   "cell_type": "code",
   "execution_count": 1,
   "metadata": {
    "pycharm": {
     "name": "#%%\n"
    }
   },
   "outputs": [],
   "source": [
    "import matplotlib.pyplot as plt\n",
    "import numpy as np\n",
    "import pandas as pd\n",
    "from outcome_utilities.clinical_outcome import Clinical_outcome\n",
    "\n",
    "import warnings\n",
    "warnings.filterwarnings(\"ignore\")\n",
    "\n",
    "# Load mRS distributions\n",
    "mrs_dists = pd.read_csv(\n",
    "    './outcome_utilities/mrs_dist_probs_cumsum.csv', index_col='Stroke type')"
   ]
  },
  {
   "cell_type": "code",
   "execution_count": 2,
   "metadata": {},
   "outputs": [],
   "source": [
    "# Set up MatPlotLib\n",
    "%matplotlib inline\n",
    "# Change default colour scheme:\n",
    "plt.style.use('seaborn-colorblind')"
   ]
  },
  {
   "cell_type": "markdown",
   "metadata": {},
   "source": [
    "## View the loaded mRS distributions\n",
    "For each stroke type (by row) the the imported table shows the cumulative proportion of patients with each mRS score (0-6)"
   ]
  },
  {
   "cell_type": "code",
   "execution_count": 3,
   "metadata": {},
   "outputs": [
    {
     "data": {
      "text/html": [
       "<div>\n",
       "<style scoped>\n",
       "    .dataframe tbody tr th:only-of-type {\n",
       "        vertical-align: middle;\n",
       "    }\n",
       "\n",
       "    .dataframe tbody tr th {\n",
       "        vertical-align: top;\n",
       "    }\n",
       "\n",
       "    .dataframe thead th {\n",
       "        text-align: right;\n",
       "    }\n",
       "</style>\n",
       "<table border=\"1\" class=\"dataframe\">\n",
       "  <thead>\n",
       "    <tr style=\"text-align: right;\">\n",
       "      <th></th>\n",
       "      <th>0</th>\n",
       "      <th>1</th>\n",
       "      <th>2</th>\n",
       "      <th>3</th>\n",
       "      <th>4</th>\n",
       "      <th>5</th>\n",
       "      <th>6</th>\n",
       "    </tr>\n",
       "    <tr>\n",
       "      <th>Stroke type</th>\n",
       "      <th></th>\n",
       "      <th></th>\n",
       "      <th></th>\n",
       "      <th></th>\n",
       "      <th></th>\n",
       "      <th></th>\n",
       "      <th></th>\n",
       "    </tr>\n",
       "  </thead>\n",
       "  <tbody>\n",
       "    <tr>\n",
       "      <th>pre_stroke_nlvo</th>\n",
       "      <td>0.582881</td>\n",
       "      <td>0.745419</td>\n",
       "      <td>0.848859</td>\n",
       "      <td>0.951082</td>\n",
       "      <td>0.993055</td>\n",
       "      <td>1.000000</td>\n",
       "      <td>1.0</td>\n",
       "    </tr>\n",
       "    <tr>\n",
       "      <th>pre_stroke_nlvo_ivt_deaths</th>\n",
       "      <td>0.576469</td>\n",
       "      <td>0.737219</td>\n",
       "      <td>0.839522</td>\n",
       "      <td>0.940620</td>\n",
       "      <td>0.982131</td>\n",
       "      <td>0.989000</td>\n",
       "      <td>1.0</td>\n",
       "    </tr>\n",
       "    <tr>\n",
       "      <th>pre_stroke_lvo</th>\n",
       "      <td>0.417894</td>\n",
       "      <td>0.560853</td>\n",
       "      <td>0.679283</td>\n",
       "      <td>0.843494</td>\n",
       "      <td>0.957269</td>\n",
       "      <td>1.000000</td>\n",
       "      <td>1.0</td>\n",
       "    </tr>\n",
       "    <tr>\n",
       "      <th>pre_stroke_lvo_ivt_deaths</th>\n",
       "      <td>0.403644</td>\n",
       "      <td>0.541728</td>\n",
       "      <td>0.656119</td>\n",
       "      <td>0.814731</td>\n",
       "      <td>0.924626</td>\n",
       "      <td>0.965900</td>\n",
       "      <td>1.0</td>\n",
       "    </tr>\n",
       "    <tr>\n",
       "      <th>pre_stroke_lvo_mt_deaths</th>\n",
       "      <td>0.402850</td>\n",
       "      <td>0.540662</td>\n",
       "      <td>0.654829</td>\n",
       "      <td>0.813128</td>\n",
       "      <td>0.922807</td>\n",
       "      <td>0.964000</td>\n",
       "      <td>1.0</td>\n",
       "    </tr>\n",
       "    <tr>\n",
       "      <th>no_treatment_nlvo</th>\n",
       "      <td>0.197144</td>\n",
       "      <td>0.460000</td>\n",
       "      <td>0.580032</td>\n",
       "      <td>0.707768</td>\n",
       "      <td>0.855677</td>\n",
       "      <td>0.917702</td>\n",
       "      <td>1.0</td>\n",
       "    </tr>\n",
       "    <tr>\n",
       "      <th>no_effect_nlvo_ivt_deaths</th>\n",
       "      <td>0.197271</td>\n",
       "      <td>0.460000</td>\n",
       "      <td>0.577583</td>\n",
       "      <td>0.702252</td>\n",
       "      <td>0.845244</td>\n",
       "      <td>0.904454</td>\n",
       "      <td>1.0</td>\n",
       "    </tr>\n",
       "    <tr>\n",
       "      <th>t0_treatment_nlvo_ivt</th>\n",
       "      <td>0.429808</td>\n",
       "      <td>0.630000</td>\n",
       "      <td>0.738212</td>\n",
       "      <td>0.848427</td>\n",
       "      <td>0.929188</td>\n",
       "      <td>0.956300</td>\n",
       "      <td>1.0</td>\n",
       "    </tr>\n",
       "    <tr>\n",
       "      <th>no_treatment_lvo</th>\n",
       "      <td>0.050000</td>\n",
       "      <td>0.129000</td>\n",
       "      <td>0.265000</td>\n",
       "      <td>0.429000</td>\n",
       "      <td>0.676000</td>\n",
       "      <td>0.811000</td>\n",
       "      <td>1.0</td>\n",
       "    </tr>\n",
       "    <tr>\n",
       "      <th>no_effect_lvo_ivt_deaths</th>\n",
       "      <td>0.047898</td>\n",
       "      <td>0.123576</td>\n",
       "      <td>0.253858</td>\n",
       "      <td>0.410962</td>\n",
       "      <td>0.647576</td>\n",
       "      <td>0.776900</td>\n",
       "      <td>1.0</td>\n",
       "    </tr>\n",
       "    <tr>\n",
       "      <th>no_effect_lvo_mt_deaths</th>\n",
       "      <td>0.047781</td>\n",
       "      <td>0.123274</td>\n",
       "      <td>0.253237</td>\n",
       "      <td>0.409957</td>\n",
       "      <td>0.645993</td>\n",
       "      <td>0.775000</td>\n",
       "      <td>1.0</td>\n",
       "    </tr>\n",
       "    <tr>\n",
       "      <th>t0_treatment_lvo_ivt</th>\n",
       "      <td>0.112916</td>\n",
       "      <td>0.200000</td>\n",
       "      <td>0.327377</td>\n",
       "      <td>0.484757</td>\n",
       "      <td>0.698212</td>\n",
       "      <td>0.811443</td>\n",
       "      <td>1.0</td>\n",
       "    </tr>\n",
       "    <tr>\n",
       "      <th>t0_treatment_lvo_mt</th>\n",
       "      <td>0.314082</td>\n",
       "      <td>0.436315</td>\n",
       "      <td>0.554431</td>\n",
       "      <td>0.712335</td>\n",
       "      <td>0.853604</td>\n",
       "      <td>0.916750</td>\n",
       "      <td>1.0</td>\n",
       "    </tr>\n",
       "  </tbody>\n",
       "</table>\n",
       "</div>"
      ],
      "text/plain": [
       "                                   0         1         2         3         4  \\\n",
       "Stroke type                                                                    \n",
       "pre_stroke_nlvo             0.582881  0.745419  0.848859  0.951082  0.993055   \n",
       "pre_stroke_nlvo_ivt_deaths  0.576469  0.737219  0.839522  0.940620  0.982131   \n",
       "pre_stroke_lvo              0.417894  0.560853  0.679283  0.843494  0.957269   \n",
       "pre_stroke_lvo_ivt_deaths   0.403644  0.541728  0.656119  0.814731  0.924626   \n",
       "pre_stroke_lvo_mt_deaths    0.402850  0.540662  0.654829  0.813128  0.922807   \n",
       "no_treatment_nlvo           0.197144  0.460000  0.580032  0.707768  0.855677   \n",
       "no_effect_nlvo_ivt_deaths   0.197271  0.460000  0.577583  0.702252  0.845244   \n",
       "t0_treatment_nlvo_ivt       0.429808  0.630000  0.738212  0.848427  0.929188   \n",
       "no_treatment_lvo            0.050000  0.129000  0.265000  0.429000  0.676000   \n",
       "no_effect_lvo_ivt_deaths    0.047898  0.123576  0.253858  0.410962  0.647576   \n",
       "no_effect_lvo_mt_deaths     0.047781  0.123274  0.253237  0.409957  0.645993   \n",
       "t0_treatment_lvo_ivt        0.112916  0.200000  0.327377  0.484757  0.698212   \n",
       "t0_treatment_lvo_mt         0.314082  0.436315  0.554431  0.712335  0.853604   \n",
       "\n",
       "                                   5    6  \n",
       "Stroke type                                \n",
       "pre_stroke_nlvo             1.000000  1.0  \n",
       "pre_stroke_nlvo_ivt_deaths  0.989000  1.0  \n",
       "pre_stroke_lvo              1.000000  1.0  \n",
       "pre_stroke_lvo_ivt_deaths   0.965900  1.0  \n",
       "pre_stroke_lvo_mt_deaths    0.964000  1.0  \n",
       "no_treatment_nlvo           0.917702  1.0  \n",
       "no_effect_nlvo_ivt_deaths   0.904454  1.0  \n",
       "t0_treatment_nlvo_ivt       0.956300  1.0  \n",
       "no_treatment_lvo            0.811000  1.0  \n",
       "no_effect_lvo_ivt_deaths    0.776900  1.0  \n",
       "no_effect_lvo_mt_deaths     0.775000  1.0  \n",
       "t0_treatment_lvo_ivt        0.811443  1.0  \n",
       "t0_treatment_lvo_mt         0.916750  1.0  "
      ]
     },
     "execution_count": 3,
     "metadata": {},
     "output_type": "execute_result"
    }
   ],
   "source": [
    "mrs_dists"
   ]
  },
  {
   "cell_type": "markdown",
   "metadata": {},
   "source": [
    "## Set up outcome model and get output"
   ]
  },
  {
   "cell_type": "code",
   "execution_count": 4,
   "metadata": {
    "collapsed": false,
    "jupyter": {
     "outputs_hidden": false
    },
    "pycharm": {
     "name": "#%%\n"
    }
   },
   "outputs": [],
   "source": [
    "# Set up outcome model\n",
    "outcome_model = Clinical_outcome(mrs_dists)\n",
    "\n",
    "# Get outputs\n",
    "time_to_ivt = 90\n",
    "time_to_mt = 120\n",
    "outcomes = outcome_model.calculate_outcomes(\n",
    "    time_to_ivt, time_to_mt, patients=10000, random_spacing=False)"
   ]
  },
  {
   "cell_type": "markdown",
   "metadata": {},
   "source": [
    "## Show raw model output\n",
    "\n",
    "The model output is a dictionary of results."
   ]
  },
  {
   "cell_type": "code",
   "execution_count": 5,
   "metadata": {
    "collapsed": false,
    "jupyter": {
     "outputs_hidden": false
    },
    "pycharm": {
     "name": "#%%\n"
    }
   },
   "outputs": [
    {
     "data": {
      "text/plain": [
       "{'lvo_untreated_probs': array([0.05 , 0.079, 0.136, 0.164, 0.247, 0.135, 0.189]),\n",
       " 'nlvo_untreated_probs': array([0.1972, 0.2628, 0.12  , 0.1278, 0.1478, 0.0621, 0.0823]),\n",
       " 'lvo_ivt_probs': array([0.0926, 0.0865, 0.1298, 0.1581, 0.2195, 0.1171, 0.1964]),\n",
       " 'lvo_mt_probs': array([0.2085, 0.1272, 0.1377, 0.1697, 0.1703, 0.0783, 0.1083]),\n",
       " 'nlvo_ivt_probs': array([0.366 , 0.2248, 0.1128, 0.1164, 0.0941, 0.033 , 0.0529]),\n",
       " 'lvo_untreated_mean_utility': 0.33261,\n",
       " 'nlvo_untreated_mean_utility': 0.5993989999999999,\n",
       " 'lvo_ivt_mean_utility': 0.37059999999999993,\n",
       " 'lvo_mt_mean_utility': 0.528597,\n",
       " 'nlvo_ivt_mean_utility': 0.7128859999999999,\n",
       " 'lvo_ivt_added_utility': 0.03798999999999991,\n",
       " 'lvo_mt_added_utility': 0.19598699999999997,\n",
       " 'nlvo_ivt_added_utility': 0.113487,\n",
       " 'lvo_untreated_cum_probs': array([0.05 , 0.129, 0.265, 0.429, 0.676, 0.811, 1.   ]),\n",
       " 'nlvo_untreated_cum_probs': array([0.1972, 0.46  , 0.58  , 0.7078, 0.8556, 0.9177, 1.    ]),\n",
       " 'lvo_ivt_cum_probs': array([0.0926, 0.1791, 0.3089, 0.467 , 0.6865, 0.8036, 1.    ]),\n",
       " 'lvo_mt_cum_probs': array([0.2085, 0.3357, 0.4734, 0.6431, 0.8134, 0.8917, 1.    ]),\n",
       " 'nlvo_ivt_cum_probs': array([0.366 , 0.5908, 0.7036, 0.82  , 0.9141, 0.9471, 1.    ]),\n",
       " 'lvo_ivt_shift': array([ 0.0426,  0.0075, -0.0062, -0.0059, -0.0275, -0.0179,  0.0074]),\n",
       " 'lvo_mt_shift': array([ 0.1585,  0.0482,  0.0017,  0.0057, -0.0767, -0.0567, -0.0807]),\n",
       " 'nlvo_ivt_shift': array([ 0.1688, -0.038 , -0.0072, -0.0114, -0.0537, -0.0291, -0.0294]),\n",
       " 'lvo_untreated_mean_mRS': 3.64,\n",
       " 'nlvo_untreated_mean_mRS': 2.2817,\n",
       " 'lvo_ivt_mean_mRS': 3.4623,\n",
       " 'lvo_mt_mean_mRS': 2.6342,\n",
       " 'nlvo_ivt_mean_mRS': 1.6584,\n",
       " 'lvo_ivt_mean_shift': -0.1777,\n",
       " 'lvo_mt_mean_shift': -1.0058,\n",
       " 'nlvo_ivt_mean_shift': -0.6233,\n",
       " 'lvo_ivt_improved': 0.1851,\n",
       " 'lvo_mt_improved': 0.8088,\n",
       " 'nlvo_ivt_improved': 0.6125}"
      ]
     },
     "execution_count": 5,
     "metadata": {},
     "output_type": "execute_result"
    }
   ],
   "source": [
    "outcomes"
   ]
  },
  {
   "cell_type": "markdown",
   "metadata": {},
   "source": [
    "## Plot mRS distributions"
   ]
  },
  {
   "cell_type": "markdown",
   "metadata": {},
   "source": [
    "mRS distributions"
   ]
  },
  {
   "cell_type": "code",
   "execution_count": 6,
   "metadata": {},
   "outputs": [
    {
     "data": {
      "image/png": "[encoded data removed]",
      "text/plain": [
       "<Figure size 720x432 with 2 Axes>"
      ]
     },
     "metadata": {
      "needs_background": "light"
     },
     "output_type": "display_data"
    }
   ],
   "source": [
    "fig = plt.figure(figsize=(10,6))\n",
    "\n",
    "# nLVO\n",
    "x = np.arange(7)\n",
    "width = 0.4\n",
    "ax1 = fig.add_subplot(121)\n",
    "y = outcomes['nlvo_untreated_probs']\n",
    "ax1.bar(x - width/2, y, width = width, label='Untreated', color='k')\n",
    "y = outcomes['nlvo_ivt_probs']\n",
    "ax1.bar(x + width/2, y, width = width, label='IVT', color='y')\n",
    "title = f'nLVO\\nTime to IVT {time_to_ivt} mins.'\n",
    "ax1.set_title(title)\n",
    "ax1.set_xlabel('mRS')\n",
    "ax1.set_ylabel('Probability')\n",
    "ax1.grid()\n",
    "ax1.legend()\n",
    "\n",
    "# LVO\n",
    "width = 0.25\n",
    "x = np.arange(7)\n",
    "ax2 = fig.add_subplot(122)\n",
    "y = outcomes['lvo_untreated_probs']\n",
    "ax2.bar(x - width, y, width = width, label='Untreated', color='k')\n",
    "y = outcomes['lvo_ivt_probs']\n",
    "ax2.bar(x, y, width = width, label='IVT', color='y')\n",
    "y = outcomes['lvo_mt_probs']\n",
    "ax2.bar(x + width, y, width = width, label='MT', color='r')\n",
    "title = f'LVO\\nTime to IVT {time_to_ivt} mins; Time to MT {time_to_mt} mins.'\n",
    "ax2.set_title(title)\n",
    "ax2.set_xlabel('mRS')\n",
    "ax2.set_ylabel('Probability')\n",
    "ax2.grid()\n",
    "ax2.legend()\n",
    "\n",
    "plt.tight_layout(pad=2)\n",
    "plt.savefig('./images/demo_mrs_dists.jpg', dpi=300)\n",
    "plt.show()"
   ]
  },
  {
   "cell_type": "markdown",
   "metadata": {},
   "source": [
    "Cumulative mRS distributions"
   ]
  },
  {
   "cell_type": "code",
   "execution_count": 7,
   "metadata": {},
   "outputs": [
    {
     "data": {
      "image/png": "[encoded data removed]",
      "text/plain": [
       "<Figure size 720x432 with 2 Axes>"
      ]
     },
     "metadata": {
      "needs_background": "light"
     },
     "output_type": "display_data"
    }
   ],
   "source": [
    "fig = plt.figure(figsize=(10,6))\n",
    "\n",
    "# nLVO\n",
    "x = np.arange(7)\n",
    "width = 0.4\n",
    "ax1 = fig.add_subplot(121)\n",
    "y = np.cumsum(outcomes['nlvo_untreated_probs'])\n",
    "ax1.bar(x - width/2, y, width = width, label='Untreated', color='k')\n",
    "y = np.cumsum(outcomes['nlvo_ivt_probs'])\n",
    "ax1.bar(x + width/2, y, width = width, label='IVT', color='y')\n",
    "title = f'nLVO\\nTime to IVT {time_to_ivt} mins.'\n",
    "ax1.set_title(title)\n",
    "ax1.set_xlabel('mRS')\n",
    "ax1.set_ylabel('Cumulative probability')\n",
    "ax1.grid()\n",
    "ax1.legend()\n",
    "\n",
    "# LVO\n",
    "width = 0.25\n",
    "x = np.arange(7)\n",
    "ax2 = fig.add_subplot(122)\n",
    "y = np.cumsum(outcomes['lvo_untreated_probs'])\n",
    "ax2.bar(x - width, y, width = width, label='Untreated', color='k')\n",
    "y = np.cumsum(outcomes['lvo_ivt_probs'])\n",
    "ax2.bar(x, y, width = width, label='IVT', color='y')\n",
    "y = np.cumsum(outcomes['lvo_mt_probs'])\n",
    "ax2.bar(x + width, y, width = width, label='MT', color='r')\n",
    "title = f'LVO\\nTime to IVT {time_to_ivt} mins; Time to MT {time_to_mt} mins.'\n",
    "ax2.set_title(title)\n",
    "ax2.set_xlabel('mRS')\n",
    "ax2.set_ylabel('Cumulative probability')\n",
    "ax2.grid()\n",
    "ax2.legend()\n",
    "\n",
    "plt.tight_layout(pad=2)\n",
    "plt.savefig('./images/demo_cum_mrs_dists.jpg', dpi=300)\n",
    "plt.show()"
   ]
  },
  {
   "cell_type": "markdown",
   "metadata": {},
   "source": [
    "Plot changes in mRS proportions with treatment"
   ]
  },
  {
   "cell_type": "code",
   "execution_count": 8,
   "metadata": {},
   "outputs": [
    {
     "data": {
      "image/png": "[encoded data removed]",
      "text/plain": [
       "<Figure size 720x432 with 2 Axes>"
      ]
     },
     "metadata": {
      "needs_background": "light"
     },
     "output_type": "display_data"
    }
   ],
   "source": [
    "fig = plt.figure(figsize=(10,6))\n",
    "\n",
    "# nLVO\n",
    "x = np.arange(7)\n",
    "width = 0.8\n",
    "ax1 = fig.add_subplot(121)\n",
    "y = outcomes['nlvo_ivt_shift']\n",
    "ax1.bar(x, y, width = width, label='IVT', color='y')\n",
    "title = f'nLVO\\nTime to IVT {time_to_ivt} mins.'\n",
    "ax1.set_title(title)\n",
    "ax1.set_xlabel('mRS')\n",
    "ax1.set_ylabel('Change in probability')\n",
    "ax1.grid()\n",
    "ax1.legend()\n",
    "\n",
    "# LVO\n",
    "width = 0.4\n",
    "x = np.arange(7)\n",
    "ax2 = fig.add_subplot(122)\n",
    "y = outcomes['lvo_ivt_shift']\n",
    "ax2.bar(x - width/2, y, width = width, label='IVT', color='y')\n",
    "y = outcomes['lvo_mt_shift']\n",
    "ax2.bar(x + width/2, y, width = width, label='MT', color='r')\n",
    "title = f'LVO\\nTime to IVT {time_to_ivt} mins; Time to MT {time_to_mt} mins.'\n",
    "ax2.set_title(title)\n",
    "ax2.set_xlabel('mRS')\n",
    "ax2.set_ylabel('Probability')\n",
    "ax2.grid()\n",
    "ax2.legend()\n",
    "\n",
    "plt.tight_layout(pad=2)\n",
    "plt.savefig('./images/demo_mrs_shifts.jpg', dpi=300)\n",
    "plt.show()"
   ]
  },
  {
   "cell_type": "markdown",
   "metadata": {},
   "source": [
    "## Other stats\n",
    "\n",
    "### Mean mRS"
   ]
  },
  {
   "cell_type": "code",
   "execution_count": 9,
   "metadata": {},
   "outputs": [
    {
     "name": "stdout",
     "output_type": "stream",
     "text": [
      "Mean mRS\n",
      "--------\n",
      "LVO untreated: 3.64\n",
      "LVO IVT: 3.4623\n",
      "LVO MT: 2.6342\n",
      "nLVO untreated: 2.2817\n",
      "nLVO IVT: 1.6584\n"
     ]
    }
   ],
   "source": [
    "print('Mean mRS')\n",
    "print('--------')\n",
    "print('LVO untreated:', outcomes['lvo_untreated_mean_mRS'])\n",
    "print('LVO IVT:', outcomes['lvo_ivt_mean_mRS'])\n",
    "print('LVO MT:', outcomes['lvo_mt_mean_mRS'])\n",
    "print('nLVO untreated:', outcomes['nlvo_untreated_mean_mRS'])\n",
    "print('nLVO IVT:', outcomes['nlvo_ivt_mean_mRS'])"
   ]
  },
  {
   "cell_type": "markdown",
   "metadata": {},
   "source": [
    "### Mean shift in mRS"
   ]
  },
  {
   "cell_type": "code",
   "execution_count": 10,
   "metadata": {},
   "outputs": [
    {
     "name": "stdout",
     "output_type": "stream",
     "text": [
      "Mean mRS shift\n",
      "--------------\n",
      "LVO IVT: -0.1777\n",
      "LVO MT: -1.0058\n",
      "nLVO IVT: -0.6233\n"
     ]
    }
   ],
   "source": [
    "print('Mean mRS shift')\n",
    "print('--------------')\n",
    "print('LVO IVT:', outcomes['lvo_ivt_mean_shift'])\n",
    "print('LVO MT:', outcomes['lvo_mt_mean_shift'])\n",
    "print('nLVO IVT:', outcomes['nlvo_ivt_mean_shift'])"
   ]
  },
  {
   "cell_type": "markdown",
   "metadata": {},
   "source": [
    "### The proportion of patients with improved mRS\n",
    "Assuming all patients move up the mRS."
   ]
  },
  {
   "cell_type": "code",
   "execution_count": 11,
   "metadata": {},
   "outputs": [
    {
     "name": "stdout",
     "output_type": "stream",
     "text": [
      "Proportion improved\n",
      "-------------------\n",
      "LVO IVT: 0.1851\n",
      "LVO MT: 0.8088\n",
      "nLVO IVT: 0.6125\n"
     ]
    }
   ],
   "source": [
    "print('Proportion improved')\n",
    "print('-------------------')\n",
    "print('LVO IVT:', outcomes['lvo_ivt_improved'])\n",
    "print('LVO MT:', outcomes['lvo_mt_improved'])\n",
    "print('nLVO IVT:', outcomes['nlvo_ivt_improved'])"
   ]
  },
  {
   "cell_type": "markdown",
   "metadata": {},
   "source": [
    "### Utility-weighted mRS outcomes\n",
    "\n",
    "In addition to mRS, we may calculate utility-weighted mRS (UW-mRS).\n",
    "\n",
    "UW-mRS incorporates both treatment effect and patient perceived quality of life as a single outcome measure for stroke trials.\n",
    "\n",
    "UW-mRS scores are based on a pooled analysis of 2,000+ patients. \n",
    "From  Wang X, Moullaali TJ, Li Q, Berge E, Robinson TG, Lindley R, et al.\n",
    "Utility-Weighted Modified Rankin Scale Scores for the Assessment of Stroke\n",
    "Outcome. Stroke. 2020 Aug 1;51(8):2411-7.\n",
    "\n",
    "| mRS Score | 0    | 1    | 2    | 3    | 4    | 5     | 6    |\n",
    "|-----------|------|------|------|------|------|-------|------|\n",
    "| Utility   | 0.97 | 0.88 | 0.74 | 0.55 | 0.20 | -0.19 | 0.00 |"
   ]
  },
  {
   "cell_type": "code",
   "execution_count": 12,
   "metadata": {},
   "outputs": [
    {
     "name": "stdout",
     "output_type": "stream",
     "text": [
      "LVO untreated UW-mRS: 0.333\n",
      "LVO IVT UW-mRS: 0.371 (added UW-mRS: 0.038)\n",
      "LVO MT UW-mRS: 0.529 (added UW-mRS: 0.196)\n",
      "nLVO untreated UW-mRS: 0.599\n",
      "nLVO IVT UW-mRS: 0.713 (added UW-mRS: 0.113)\n"
     ]
    }
   ],
   "source": [
    "x = outcomes['lvo_untreated_mean_utility']\n",
    "print(f'LVO untreated UW-mRS: {x:0.3f}')\n",
    "\n",
    "x1 = outcomes['lvo_ivt_mean_utility']\n",
    "x2 = outcomes['lvo_ivt_added_utility']\n",
    "print(f'LVO IVT UW-mRS: {x1:0.3f} (added UW-mRS: {x2:0.3f})')\n",
    "\n",
    "x1 = outcomes['lvo_mt_mean_utility']\n",
    "x2 = outcomes['lvo_mt_added_utility']\n",
    "print(f'LVO MT UW-mRS: {x1:0.3f} (added UW-mRS: {x2:0.3f})')\n",
    "\n",
    "x = outcomes['nlvo_untreated_mean_utility']\n",
    "print(f'nLVO untreated UW-mRS: {x:0.3f}')\n",
    "\n",
    "x1 = outcomes['nlvo_ivt_mean_utility']\n",
    "x2 = outcomes['nlvo_ivt_added_utility']\n",
    "print(f'nLVO IVT UW-mRS: {x1:0.3f} (added UW-mRS: {x2:0.3f})')\n",
    "\n"
   ]
  },
  {
   "cell_type": "markdown",
   "metadata": {},
   "source": [
    "## An example showing how untreated and treated mRS are compared at a patient level\n",
    "\n",
    "In the example below we look at the treatment effect of 5 LVO patients treated with MT.\n",
    "\n",
    "After calculating the treated mRS distribution at the specified treatment time, we can sample random patients by sampling from a uniform 0-1 distribution and using that same sampled value for each patient compare their location on untreated and treated distributions.\n",
    "\n",
    "For illustration we use more evenly spaced patient values (rather than random), and we can see:\n",
    "\n",
    "* Patient #1 (P=0.1): mRS untreated = 1, mRS treated = 0\n",
    "* Patient #2 (P=0.3): mRS untreated = 3, mRS treated = 1\n",
    "* Patient #3 (P=0.5): mRS untreated = 4, mRS treated = 3\n",
    "* Patient #4 (P=0.7): mRS untreated = 5, mRS treated = 4\n",
    "* Patient #5 (P=0.9): mRS untreated = 6, mRS treated = 6\n",
    "\n",
    "This model is likely a simplification of actual effects, but should capture the average effect of treatment well, and provide a good guide to the proportion of patients who will move at least one mRS unit with treatment."
   ]
  },
  {
   "cell_type": "code",
   "execution_count": 13,
   "metadata": {},
   "outputs": [],
   "source": [
    "def draw_horizontal_bar(dist,label=''):\n",
    "    \"\"\"\n",
    "    Draw a stacked horizontal bar chart of the values in 'dist'.\n",
    "    \n",
    "    dist  - list or np.array. The probability distribution \n",
    "            (non-cumulative).\n",
    "    label - string. The name printed next to these stacked bars.\n",
    "    \"\"\"\n",
    "    colour_list = plt.rcParams['axes.prop_cycle'].by_key()['color']\n",
    "    colour_list.append('DarkSlateGrey')\n",
    "    # The first bar will start at this point on the x-axis:\n",
    "    left = 0\n",
    "    for i in range(len(dist)):\n",
    "        # Draw a bar starting from 'left', the end of the previous bar,\n",
    "        # with a width equal to the probability of this mRS:\n",
    "        plt.barh(label, width=dist[i], left=left, height=0.5, \n",
    "                 label=f'{i}', edgecolor='k', color=colour_list[i])\n",
    "        # Update 'left' with the width of the current bar so that the \n",
    "        # next bar drawn will start in the correct place.    \n",
    "        left += dist[i]"
   ]
  },
  {
   "cell_type": "code",
   "execution_count": 14,
   "metadata": {},
   "outputs": [],
   "source": [
    "def draw_connections(dist_t0, dist_tne, top_tne=0.25, bottom_t0=0.75):\n",
    "    \"\"\"\n",
    "    Draw lines connecting the mRS bins in the top and bottom rows.\n",
    "    \n",
    "    dist_t0, dist_tne - lists or arrays. Probability distributions.\n",
    "    top_tne, bottom_t0 - floats. y-coordinates just inside the bars. \n",
    "    \"\"\"\n",
    "    left_t0   = 0.0\n",
    "    left_tne  = 0.0\n",
    "    for i, d_t0 in enumerate(dist_t0):\n",
    "        left_t0  += dist_t0[i]\n",
    "        left_tne += dist_tne[i]\n",
    "        plt.plot([left_t0,left_tne],[bottom_t0,top_tne],color='k')"
   ]
  },
  {
   "cell_type": "code",
   "execution_count": 15,
   "metadata": {},
   "outputs": [
    {
     "data": {
      "image/png": "[encoded data removed]",
      "text/plain": [
       "<Figure size 432x288 with 1 Axes>"
      ]
     },
     "metadata": {
      "needs_background": "light"
     },
     "output_type": "display_data"
    }
   ],
   "source": [
    "bar_1 = outcomes['lvo_untreated_probs']\n",
    "bar_2 = outcomes['lvo_mt_probs']\n",
    "\n",
    "# Draw no effect distribution\n",
    "draw_horizontal_bar(bar_2, 'Treated (MT)')\n",
    "\n",
    "# Add legend now to prevent doubling all the labels:\n",
    "plt.legend(loc='center',ncol=7, title='mRS', \n",
    "           bbox_to_anchor=[0.5,0.0,0.0,-0.5])   # Legend below axis.\n",
    "\n",
    "# Draww t=0 distribution\n",
    "draw_horizontal_bar(bar_1, 'Untreated')\n",
    "\n",
    "# Darw connecting lines\n",
    "draw_connections(bar_1, bar_2)\n",
    "\n",
    "plt.vlines(0.1, -0.25, 1.25, colors='y', linestyles='dashed')\n",
    "plt.vlines(0.3, -0.25, 1.25, colors='y', linestyles='dashed')\n",
    "plt.vlines(0.5, -0.25, 1.25, colors='y', linestyles='dashed')\n",
    "plt.vlines(0.7, -0.25, 1.25, colors='y', linestyles='dashed')\n",
    "plt.vlines(0.9, -0.25, 1.25, colors='y', linestyles='dashed')\n",
    "\n",
    "# Add general content\n",
    "plt.xlabel('Probability')\n",
    "plt.title('Treatment effect in 5 LVO patients (dashed lines)')\n",
    "plt.xlim(0,1)\n",
    "plt.savefig(f'./images/treatment_shift.jpg', dpi=300, bbox_inches='tight', \n",
    "    pad_inches=0.2)\n",
    "plt.show()"
   ]
  },
  {
   "cell_type": "markdown",
   "metadata": {},
   "source": [
    "# An example of how added utility is calculated"
   ]
  },
  {
   "cell_type": "markdown",
   "metadata": {},
   "source": [
    "Gather distributions:"
   ]
  },
  {
   "cell_type": "code",
   "execution_count": 16,
   "metadata": {},
   "outputs": [],
   "source": [
    "# Probability distributions:\n",
    "mRS_dist1 = outcomes['lvo_ivt_probs']\n",
    "mRS_dist2 = outcomes['lvo_untreated_probs'] \n",
    "\n",
    "# Cumulative probability distributions:\n",
    "mRS_dist1_cum = outcomes['lvo_ivt_cum_probs']\n",
    "mRS_dist2_cum = outcomes['lvo_untreated_cum_probs']"
   ]
  },
  {
   "cell_type": "markdown",
   "metadata": {},
   "source": [
    "Function to find the added utility along the distributions:"
   ]
  },
  {
   "cell_type": "code",
   "execution_count": 17,
   "metadata": {},
   "outputs": [],
   "source": [
    "from outcome_utilities.added_utility_between_dists import \\\n",
    "    find_added_utility_between_dists"
   ]
  },
  {
   "cell_type": "code",
   "execution_count": 18,
   "metadata": {},
   "outputs": [],
   "source": [
    "mRS_dist_mix, weighted_added_utils = (\n",
    "    find_added_utility_between_dists(mRS_dist1_cum, mRS_dist2_cum) )"
   ]
  },
  {
   "cell_type": "markdown",
   "metadata": {},
   "source": [
    "Compare the calculated added utilities here and from the outcome model directly:"
   ]
  },
  {
   "cell_type": "code",
   "execution_count": 19,
   "metadata": {},
   "outputs": [
    {
     "name": "stdout",
     "output_type": "stream",
     "text": [
      "0.0380\n",
      "0.0380\n"
     ]
    }
   ],
   "source": [
    "print(f\"{weighted_added_utils[-1]:1.4f}\")\n",
    "print(f\"{outcomes['lvo_ivt_added_utility']:1.4f}\")"
   ]
  },
  {
   "cell_type": "markdown",
   "metadata": {},
   "source": [
    "These numbers might not be identical to high precision because this calculation uses the full distribution whereas the outcome model samples a fixed number of points within the distribution. The numbers will become closer when a higher number of patients is used in the outcome model."
   ]
  },
  {
   "cell_type": "markdown",
   "metadata": {},
   "source": [
    "Plot the cumulative added utility as each mRS bin is taken into account:"
   ]
  },
  {
   "cell_type": "code",
   "execution_count": 20,
   "metadata": {},
   "outputs": [
    {
     "data": {
      "image/png": "[encoded data removed]",
      "text/plain": [
       "<Figure size 576x576 with 2 Axes>"
      ]
     },
     "metadata": {
      "needs_background": "light"
     },
     "output_type": "display_data"
    }
   ],
   "source": [
    "fig, axs = plt.subplots(2, 1, sharex=True, figsize=(8,8))\n",
    "\n",
    "draw_horizontal_bar(mRS_dist2, 'Untreated')\n",
    "plt.legend(loc='center', ncol=7, bbox_to_anchor=(0.5,0.0,0.0,-0.5))\n",
    "draw_horizontal_bar(mRS_dist1, 'Treated with IVT')\n",
    "\n",
    "axs[0].plot(mRS_dist_mix, weighted_added_utils)\n",
    "axs[0].set_ylabel('Weighted added utility')\n",
    "\n",
    "for ax in axs:\n",
    "    for boundary in mRS_dist_mix:\n",
    "        ax.axvline(boundary, color='silver', zorder=0)\n",
    "\n",
    "axs[1].set_xlim(0,1)\n",
    "axs[1].set_xlabel('Probability')\n",
    "plt.show()"
   ]
  }
 ],
 "metadata": {
  "kernelspec": {
   "display_name": "Python 3 (ipykernel)",
   "language": "python",
   "name": "python3"
  },
  "language_info": {
   "codemirror_mode": {
    "name": "ipython",
    "version": 3
   },
   "file_extension": ".py",
   "mimetype": "text/x-python",
   "name": "python",
   "nbconvert_exporter": "python",
   "pygments_lexer": "ipython3",
   "version": "3.8.13"
  },
  "vscode": {
   "interpreter": {
    "hash": "1cbbc16b0c861749b9a95c5f128e49297cfff30c52b65168a4b24d814ebeea2e"
   }
  }
 },
 "nbformat": 4,
 "nbformat_minor": 4
}
