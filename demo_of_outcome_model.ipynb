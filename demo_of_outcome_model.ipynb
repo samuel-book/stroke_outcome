{
 "cells": [
  {
   "cell_type": "markdown",
   "metadata": {},
   "source": [
    "# Example output from stroke outcome model\n",
    "\n",
    "In this notebook we provide an example of the output from the stroke outcome model assuming IVT is delivered at 90 mins and MT is delieverd at 120 mins after stroke onset.\n",
    "\n",
    "The model provides a sample distribution of mRS scores for 1,000 patients."
   ]
  },
  {
   "cell_type": "markdown",
   "metadata": {},
   "source": [
    "## Load packages and data file"
   ]
  },
  {
   "cell_type": "code",
   "execution_count": 1,
   "metadata": {
    "pycharm": {
     "name": "#%%\n"
    }
   },
   "outputs": [],
   "source": [
    "import matplotlib.pyplot as plt\n",
    "import numpy as np\n",
    "import pandas as pd\n",
    "from outcome_utilities.clinical_outcome import Clinical_outcome\n",
    "\n",
    "import warnings\n",
    "warnings.filterwarnings(\"ignore\")\n",
    "\n",
    "# Load mRS distributions\n",
    "mrs_dists = pd.read_csv(\n",
    "    './outcome_utilities/mrs_dist_probs_cumsum.csv', index_col='Stroke type')"
   ]
  },
  {
   "cell_type": "markdown",
   "metadata": {},
   "source": [
    "## Set up outcome model and get output"
   ]
  },
  {
   "cell_type": "code",
   "execution_count": 2,
   "metadata": {
    "collapsed": false,
    "jupyter": {
     "outputs_hidden": false
    },
    "pycharm": {
     "name": "#%%\n"
    }
   },
   "outputs": [],
   "source": [
    "# Set up outcome model\n",
    "outcome_model = Clinical_outcome(mrs_dists, patients=1000)\n",
    "\n",
    "# Get outputs\n",
    "time_to_ivt = 90\n",
    "time_to_mt = 120\n",
    "outcomes = outcome_model.calculate_outcomes(time_to_ivt, time_to_mt)"
   ]
  },
  {
   "cell_type": "markdown",
   "metadata": {},
   "source": [
    "## Show raw model output\n",
    "\n",
    "The model output is a dictionary of resuls."
   ]
  },
  {
   "cell_type": "code",
   "execution_count": 3,
   "metadata": {
    "collapsed": false,
    "jupyter": {
     "outputs_hidden": false
    },
    "pycharm": {
     "name": "#%%\n"
    }
   },
   "outputs": [
    {
     "data": {
      "text/plain": [
       "{'lvo_untreated_probs': array([0.06 , 0.073, 0.137, 0.158, 0.254, 0.129, 0.189]),\n",
       " 'nlvo_untreated_probs': array([0.206, 0.286, 0.101, 0.13 , 0.14 , 0.058, 0.079]),\n",
       " 'lvo_ivt_probs': array([0.101, 0.084, 0.126, 0.156, 0.226, 0.112, 0.195]),\n",
       " 'lvo_mt_probs': array([0.194, 0.136, 0.145, 0.142, 0.187, 0.076, 0.12 ]),\n",
       " 'nlvo_ivt_probs': array([0.398, 0.205, 0.112, 0.111, 0.09 , 0.029, 0.055]),\n",
       " 'lvo_untreated_mean_utility': 0.33701000000000003,\n",
       " 'nlvo_untreated_mean_utility': 0.6147199999999999,\n",
       " 'lvo_ivt_mean_utility': 0.37484999999999996,\n",
       " 'lvo_mt_mean_utility': 0.51622,\n",
       " 'nlvo_ivt_mean_utility': 0.72288,\n",
       " 'lvo_ivt_added_utility': 0.03783999999999993,\n",
       " 'lvo_mt_added_utility': 0.17920999999999998,\n",
       " 'nlvo_ivt_added_utility': 0.10816000000000003,\n",
       " 'lvo_untreated_cum_probs': array([0.06 , 0.133, 0.27 , 0.428, 0.682, 0.811, 1.   ]),\n",
       " 'nlvo_untreated_cum_probs': array([0.206, 0.492, 0.593, 0.723, 0.863, 0.921, 1.   ]),\n",
       " 'lvo_ivt_cum_probs': array([0.101, 0.185, 0.311, 0.467, 0.693, 0.805, 1.   ]),\n",
       " 'lvo_mt_cum_probs': array([0.194, 0.33 , 0.475, 0.617, 0.804, 0.88 , 1.   ]),\n",
       " 'nlvo_ivt_cum_probs': array([0.398, 0.603, 0.715, 0.826, 0.916, 0.945, 1.   ]),\n",
       " 'lvo_ivt_shift': array([ 0.041,  0.011, -0.011, -0.002, -0.028, -0.017,  0.006]),\n",
       " 'lvo_mt_shift': array([ 0.134,  0.063,  0.008, -0.016, -0.067, -0.053, -0.069]),\n",
       " 'nlvo_ivt_shift': array([ 0.192, -0.081,  0.011, -0.019, -0.05 , -0.029, -0.024]),\n",
       " 'lvo_untreated_mean_mRS': 3.616,\n",
       " 'nlvo_untreated_mean_mRS': 2.202,\n",
       " 'lvo_ivt_mean_mRS': 3.438,\n",
       " 'lvo_mt_mean_mRS': 2.7,\n",
       " 'nlvo_ivt_mean_mRS': 1.597,\n",
       " 'lvo_ivt_mean_shift': -0.178,\n",
       " 'lvo_mt_mean_shift': -0.994,\n",
       " 'nlvo_ivt_mean_shift': -0.605,\n",
       " 'lvo_ivt_improved': 0.184,\n",
       " 'lvo_mt_improved': 0.81,\n",
       " 'nlvo_ivt_improved': 0.595}"
      ]
     },
     "execution_count": 3,
     "metadata": {},
     "output_type": "execute_result"
    }
   ],
   "source": [
    "outcomes"
   ]
  },
  {
   "cell_type": "markdown",
   "metadata": {},
   "source": [
    "## Plot mRS distributions"
   ]
  },
  {
   "cell_type": "code",
   "execution_count": 4,
   "metadata": {
    "collapsed": false,
    "jupyter": {
     "outputs_hidden": false
    },
    "pycharm": {
     "name": "#%%\n"
    }
   },
   "outputs": [],
   "source": [
    "plt.style.use('seaborn-colorblind')\n",
    "def draw_horizontal_bar(dist,label=' '):\n",
    "    \"\"\"\n",
    "    Draw a stacked horizontal bar chart of the values in 'dist'.\n",
    "    \n",
    "    dist  - list or np.array. The probability distribution \n",
    "            (non-cumulative).\n",
    "    label - string. The name printed next to these stacked bars.\n",
    "    \"\"\"\n",
    "    fig = plt.figure(figsize=(8,2))\n",
    "    ax = fig.add_subplot()\n",
    "    ax.set_frame_on(False)\n",
    "    \n",
    "    colour_list = plt.rcParams['axes.prop_cycle'].by_key()['color']\n",
    "    # The first bar will start at this point on the x-axis:\n",
    "    left = 0\n",
    "    for i in range(len(dist)):\n",
    "        # Draw a bar starting from 'left', the end of the previous bar,\n",
    "        # with a width equal to the probability of this mRS:\n",
    "        ax.barh(' ', width=dist[i], left=left, height=0.5, \n",
    "                 label=f'{i}', edgecolor='k', color=colour_list[i%6])\n",
    "        # Update 'left' with the width of the current bar so that the \n",
    "        # next bar drawn will start in the correct place.    \n",
    "        left += dist[i]\n",
    "    ax.set_xlabel('Probability')\n",
    "    ax.set_title(label)\n",
    "    ax.legend(loc='center',ncol=7, title='mRS', \n",
    "               bbox_to_anchor=[0.5,0.0,0.0,-1.20])   # Legend below axis."
   ]
  },
  {
   "cell_type": "markdown",
   "metadata": {},
   "source": [
    "Plot mRS distribution for untreated LVO."
   ]
  },
  {
   "cell_type": "code",
   "execution_count": 5,
   "metadata": {
    "pycharm": {
     "name": "#%%\n"
    }
   },
   "outputs": [
    {
     "data": {
      "image/png": "[encoded data removed]",
      "text/plain": [
       "<Figure size 576x144 with 1 Axes>"
      ]
     },
     "metadata": {
      "needs_background": "light"
     },
     "output_type": "display_data"
    }
   ],
   "source": [
    "draw_horizontal_bar(outcomes['lvo_untreated_probs'], 'LVO untreated')"
   ]
  },
  {
   "cell_type": "markdown",
   "metadata": {},
   "source": [
    "Plot mRS distribution for LVO treated with IVT."
   ]
  },
  {
   "cell_type": "code",
   "execution_count": 6,
   "metadata": {
    "pycharm": {
     "name": "#%%\n"
    }
   },
   "outputs": [
    {
     "data": {
      "image/png": "[encoded data removed]",
      "text/plain": [
       "<Figure size 576x144 with 1 Axes>"
      ]
     },
     "metadata": {
      "needs_background": "light"
     },
     "output_type": "display_data"
    }
   ],
   "source": [
    "draw_horizontal_bar(outcomes['lvo_ivt_probs'], 'LVO IVT')"
   ]
  },
  {
   "cell_type": "markdown",
   "metadata": {},
   "source": [
    "Plot mRS distribution for LVO treated with MT."
   ]
  },
  {
   "cell_type": "code",
   "execution_count": 7,
   "metadata": {},
   "outputs": [
    {
     "data": {
      "image/png": "[encoded data removed]",
      "text/plain": [
       "<Figure size 576x144 with 1 Axes>"
      ]
     },
     "metadata": {
      "needs_background": "light"
     },
     "output_type": "display_data"
    }
   ],
   "source": [
    "draw_horizontal_bar(outcomes['lvo_mt_probs'], 'LVO MT')"
   ]
  },
  {
   "cell_type": "markdown",
   "metadata": {},
   "source": [
    "Plot mRS distribution for untreated LVO."
   ]
  },
  {
   "cell_type": "code",
   "execution_count": 8,
   "metadata": {},
   "outputs": [
    {
     "data": {
      "image/png": "[encoded data removed]",
      "text/plain": [
       "<Figure size 576x144 with 1 Axes>"
      ]
     },
     "metadata": {
      "needs_background": "light"
     },
     "output_type": "display_data"
    }
   ],
   "source": [
    "draw_horizontal_bar(outcomes['nlvo_untreated_probs'], 'nLVO untreated')"
   ]
  },
  {
   "cell_type": "markdown",
   "metadata": {},
   "source": [
    "Plot mRS distribution for nLVO treated with IVT."
   ]
  },
  {
   "cell_type": "code",
   "execution_count": 9,
   "metadata": {},
   "outputs": [
    {
     "data": {
      "image/png": "[encoded data removed]",
      "text/plain": [
       "<Figure size 576x144 with 1 Axes>"
      ]
     },
     "metadata": {
      "needs_background": "light"
     },
     "output_type": "display_data"
    }
   ],
   "source": [
    "draw_horizontal_bar(outcomes['nlvo_ivt_probs'], 'nLVO IVT')"
   ]
  },
  {
   "cell_type": "markdown",
   "metadata": {},
   "source": [
    "## Plot changes in mRS proportions with treatment"
   ]
  },
  {
   "cell_type": "code",
   "execution_count": 10,
   "metadata": {},
   "outputs": [],
   "source": [
    "def plot_shift(dist, label=' '):\n",
    "    x=np.arange(7)\n",
    "    fig = plt.figure(figsize=(6,5))\n",
    "    ax = fig.add_subplot()\n",
    "    ax.bar(x, dist)\n",
    "    ax.hlines(0, -0.5, 6.5, color='k', linewidth=1)\n",
    "    ax.set_xlabel('mRS')\n",
    "    ax.set_ylabel('Change in probability')\n",
    "    ax.set_title(label)\n",
    "    plt.show()"
   ]
  },
  {
   "cell_type": "code",
   "execution_count": 11,
   "metadata": {},
   "outputs": [
    {
     "data": {
      "image/png": "[encoded data removed]",
      "text/plain": [
       "<Figure size 432x360 with 1 Axes>"
      ]
     },
     "metadata": {
      "needs_background": "light"
     },
     "output_type": "display_data"
    }
   ],
   "source": [
    "plot_shift(outcomes['lvo_ivt_shift'], 'LVO-IVT shift')"
   ]
  },
  {
   "cell_type": "code",
   "execution_count": 12,
   "metadata": {},
   "outputs": [
    {
     "data": {
      "image/png": "[encoded data removed]",
      "text/plain": [
       "<Figure size 432x360 with 1 Axes>"
      ]
     },
     "metadata": {
      "needs_background": "light"
     },
     "output_type": "display_data"
    }
   ],
   "source": [
    "plot_shift(outcomes['lvo_mt_shift'], 'LVO-MT shift')"
   ]
  },
  {
   "cell_type": "code",
   "execution_count": 13,
   "metadata": {},
   "outputs": [
    {
     "data": {
      "image/png": "[encoded data removed]",
      "text/plain": [
       "<Figure size 432x360 with 1 Axes>"
      ]
     },
     "metadata": {
      "needs_background": "light"
     },
     "output_type": "display_data"
    }
   ],
   "source": [
    "plot_shift(outcomes['nlvo_ivt_shift'], 'nLVO-IVT shift')"
   ]
  },
  {
   "cell_type": "markdown",
   "metadata": {},
   "source": [
    "## Other stats\n",
    "\n",
    "### Mean mRS"
   ]
  },
  {
   "cell_type": "code",
   "execution_count": 14,
   "metadata": {},
   "outputs": [
    {
     "name": "stdout",
     "output_type": "stream",
     "text": [
      "Mean mRS\n",
      "--------\n",
      "LVO untreated: 3.616\n",
      "LVO IVT: 3.438\n",
      "LVO MT: 2.7\n",
      "nLVO untreated: 2.202\n",
      "nLVO IVT: 1.597\n"
     ]
    }
   ],
   "source": [
    "print('Mean mRS')\n",
    "print('--------')\n",
    "print('LVO untreated:', outcomes['lvo_untreated_mean_mRS'])\n",
    "print('LVO IVT:', outcomes['lvo_ivt_mean_mRS'])\n",
    "print('LVO MT:', outcomes['lvo_mt_mean_mRS'])\n",
    "print('nLVO untreated:', outcomes['nlvo_untreated_mean_mRS'])\n",
    "print('nLVO IVT:', outcomes['nlvo_ivt_mean_mRS'])"
   ]
  },
  {
   "cell_type": "markdown",
   "metadata": {},
   "source": [
    "### Mean shift in mRS"
   ]
  },
  {
   "cell_type": "code",
   "execution_count": 15,
   "metadata": {},
   "outputs": [
    {
     "name": "stdout",
     "output_type": "stream",
     "text": [
      "Mean mRS shift\n",
      "--------------\n",
      "LVO IVT: -0.178\n",
      "LVO MT: -0.994\n",
      "nLVO IVT: -0.605\n"
     ]
    }
   ],
   "source": [
    "print('Mean mRS shift')\n",
    "print('--------------')\n",
    "print('LVO IVT:', outcomes['lvo_ivt_mean_shift'])\n",
    "print('LVO MT:', outcomes['lvo_mt_mean_shift'])\n",
    "print('nLVO IVT:', outcomes['nlvo_ivt_mean_shift'])"
   ]
  },
  {
   "cell_type": "markdown",
   "metadata": {},
   "source": [
    "### The proportion of patients with improved mRS"
   ]
  },
  {
   "cell_type": "code",
   "execution_count": 16,
   "metadata": {},
   "outputs": [
    {
     "name": "stdout",
     "output_type": "stream",
     "text": [
      "Proportion improved\n",
      "-------------------\n",
      "LVO IVT: 0.184\n",
      "LVO MT: 0.81\n",
      "nLVO IVT: 0.595\n"
     ]
    }
   ],
   "source": [
    "print('Proportion improved')\n",
    "print('-------------------')\n",
    "print('LVO IVT:', outcomes['lvo_ivt_improved'])\n",
    "print('LVO MT:', outcomes['lvo_mt_improved'])\n",
    "print('nLVO IVT:', outcomes['nlvo_ivt_improved'])"
   ]
  },
  {
   "cell_type": "markdown",
   "metadata": {},
   "source": [
    "### Utility-weighted outcomes\n",
    "\n",
    "In addition to mRS we may calculate utility-weighted mRS.\n",
    "\n",
    "mRS Utility scores are based on a pooled Analysis of 20 000+ Patients. \n",
    "From  Wang X, Moullaali TJ, Li Q, Berge E, Robinson TG, Lindley R, et al.\n",
    "Utility-Weighted Modified Rankin Scale Scores for the Assessment of Stroke\n",
    "Outcome. Stroke. 2020 Aug 1;51(8):2411-7.\n",
    "\n",
    "| mRS Score | 0    | 1    | 2    | 3    | 4    | 5     | 6    |\n",
    "|-----------|------|------|------|------|------|-------|------|\n",
    "| Utility   | 0.97 | 0.88 | 0.74 | 0.55 | 0.20 | -0.19 | 0.00 |"
   ]
  },
  {
   "cell_type": "code",
   "execution_count": 17,
   "metadata": {},
   "outputs": [
    {
     "name": "stdout",
     "output_type": "stream",
     "text": [
      "LVO untreated utility: 0.337\n",
      "LVO IVT utility: 0.375 (added utility: 0.038)\n",
      "LVO MT utility: 0.516 (added utility: 0.179)\n",
      "nLVO untreated utility: 0.615\n",
      "nLVO IVT utility: 0.723 (added utility: 0.108)\n"
     ]
    }
   ],
   "source": [
    "x = outcomes['lvo_untreated_mean_utility']\n",
    "print(f'LVO untreated utility: {x:0.3f}')\n",
    "\n",
    "x1 = outcomes['lvo_ivt_mean_utility']\n",
    "x2 = outcomes['lvo_ivt_added_utility']\n",
    "print(f'LVO IVT utility: {x1:0.3f} (added utility: {x2:0.3f})')\n",
    "\n",
    "x1 = outcomes['lvo_mt_mean_utility']\n",
    "x2 = outcomes['lvo_mt_added_utility']\n",
    "print(f'LVO MT utility: {x1:0.3f} (added utility: {x2:0.3f})')\n",
    "\n",
    "x = outcomes['nlvo_untreated_mean_utility']\n",
    "print(f'nLVO untreated utility: {x:0.3f}')\n",
    "\n",
    "x1 = outcomes['nlvo_ivt_mean_utility']\n",
    "x2 = outcomes['nlvo_ivt_added_utility']\n",
    "print(f'nLVO IVT utility: {x1:0.3f} (added utility: {x2:0.3f})')\n",
    "\n"
   ]
  }
 ],
 "metadata": {
  "kernelspec": {
   "display_name": "Python 3 (ipykernel)",
   "language": "python",
   "name": "python3"
  },
  "language_info": {
   "codemirror_mode": {
    "name": "ipython",
    "version": 3
   },
   "file_extension": ".py",
   "mimetype": "text/x-python",
   "name": "python",
   "nbconvert_exporter": "python",
   "pygments_lexer": "ipython3",
   "version": "3.8.13"
  },
  "vscode": {
   "interpreter": {
    "hash": "1cbbc16b0c861749b9a95c5f128e49297cfff30c52b65168a4b24d814ebeea2e"
   }
  }
 },
 "nbformat": 4,
 "nbformat_minor": 4
}
