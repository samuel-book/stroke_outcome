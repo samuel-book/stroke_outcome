{
 "cells": [
  {
   "cell_type": "markdown",
   "metadata": {},
   "source": [
    "# Demonstration of thrombolysis (IVT) + thromebctomy (MT) clinical outcome model"
   ]
  },
  {
   "cell_type": "markdown",
   "metadata": {},
   "source": [
    "Import libraries"
   ]
  },
  {
   "cell_type": "code",
   "execution_count": 1,
   "metadata": {},
   "outputs": [],
   "source": [
    "import matplotlib.pyplot as plt\n",
    "import numpy as np\n",
    "from clinical_outcome import Clinical_outcome"
   ]
  },
  {
   "cell_type": "markdown",
   "metadata": {},
   "source": [
    "## Example using a single group/patient\n",
    "\n",
    "The model takes input for patients or groups identically. Inputs are probabilibilites for that patient or group having different stroke types, and probabilities of being eligable for treatment. The group must have the same times to treatment (e.g. predicting outcome for a group of patients in a small area, all with the same time from onset to arrival at hospital)."
   ]
  },
  {
   "cell_type": "markdown",
   "metadata": {},
   "source": [
    "Create a clinical outcome model object"
   ]
  },
  {
   "cell_type": "code",
   "execution_count": 2,
   "metadata": {},
   "outputs": [],
   "source": [
    "outcome = Clinical_outcome()"
   ]
  },
  {
   "cell_type": "markdown",
   "metadata": {},
   "source": [
    "Define inputs."
   ]
  },
  {
   "cell_type": "code",
   "execution_count": 3,
   "metadata": {},
   "outputs": [],
   "source": [
    "mimic = np.array([0]) # No mimics\n",
    "ich = np.array([0.16]) # 16% ICH\n",
    "nlvo = np.array([0.52]) # 52% NLVO\n",
    "lvo = np.array([0.32]) # 32% LVO\n",
    "onset_to_needle = np.array([100]) # 100 min onset to IVT\n",
    "onset_to_puncture = np.array([150]) # 150 min onset to MT\n",
    "nlvo_eligible_for_treatment = np.array([0.194]) # 19.4% NLVO treatable\n",
    "lvo_eligible_for_treatment = np.array([0.313]) # 31.3% LVO treatable\n",
    "prop_thrombolysed_lvo_receiving_thrombectomy = np.array([1]) # All MT have IVT"
   ]
  },
  {
   "cell_type": "markdown",
   "metadata": {},
   "source": [
    "Get probabilities of good outcome."
   ]
  },
  {
   "cell_type": "code",
   "execution_count": 4,
   "metadata": {},
   "outputs": [],
   "source": [
    "outcomes=outcome.calculate_outcome_for_all(\n",
    "    mimic,\n",
    "    ich,\n",
    "    nlvo,\n",
    "    lvo,\n",
    "    onset_to_needle,\n",
    "    onset_to_puncture,\n",
    "    nlvo_eligible_for_treatment,\n",
    "    lvo_eligible_for_treatment,\n",
    "    prop_thrombolysed_lvo_receiving_thrombectomy)"
   ]
  },
  {
   "cell_type": "code",
   "execution_count": 5,
   "metadata": {},
   "outputs": [
    {
     "data": {
      "text/plain": [
       "array([0.36462703])"
      ]
     },
     "execution_count": 5,
     "metadata": {},
     "output_type": "execute_result"
    }
   ],
   "source": [
    "outcomes"
   ]
  },
  {
   "cell_type": "markdown",
   "metadata": {},
   "source": [
    "## Example using multiple groups or single patients\n",
    "\n",
    "The model can prvide results for an array of patients/groups with different characteristics.\n",
    "\n",
    "The model takes input for patients or groups identically. Inputs are probabilibilites for that patient or group having different stroke types, and probabilities of being eligable for treatment. The group must have the same times to treatment (e.g. predicting outcome for a group of patients in a small area, all with the same time from onset to arrival at hospital)."
   ]
  },
  {
   "cell_type": "markdown",
   "metadata": {},
   "source": [
    "Create a clinical outcome model object"
   ]
  },
  {
   "cell_type": "code",
   "execution_count": 6,
   "metadata": {},
   "outputs": [],
   "source": [
    "outcome = Clinical_outcome()"
   ]
  },
  {
   "cell_type": "markdown",
   "metadata": {},
   "source": [
    "Define inputs. Here we will vary time of onset to IVT from 0 to 600 minutes, with MT (for eligable patients with LVO) being carried out 60 minutes later."
   ]
  },
  {
   "cell_type": "code",
   "execution_count": 7,
   "metadata": {},
   "outputs": [],
   "source": [
    "mimic = np.array([0]*21)\n",
    "ich = np.array([0.16]*21)\n",
    "nlvo = np.array([0.52]*21)\n",
    "lvo = np.array([0.32]*21)\n",
    "onset_to_needle = np.linspace(0,600,21)\n",
    "onset_to_puncture = onset_to_needle + 60 \n",
    "nlvo_eligible_for_treatment = np.array([1]*21)\n",
    "lvo_eligible_for_treatment = np.array([1]*21)\n",
    "prop_thrombolysed_lvo_receiving_thrombectomy = np.array([1]*21)"
   ]
  },
  {
   "cell_type": "markdown",
   "metadata": {},
   "source": [
    "Get probabilities of good outcome."
   ]
  },
  {
   "cell_type": "code",
   "execution_count": 8,
   "metadata": {},
   "outputs": [],
   "source": [
    "outcomes=outcome.calculate_outcome_for_all(\n",
    "    mimic,\n",
    "    ich,\n",
    "    nlvo,\n",
    "    lvo,\n",
    "    onset_to_needle,\n",
    "    onset_to_puncture,\n",
    "    nlvo_eligible_for_treatment,\n",
    "    lvo_eligible_for_treatment,\n",
    "    prop_thrombolysed_lvo_receiving_thrombectomy)"
   ]
  },
  {
   "cell_type": "code",
   "execution_count": 9,
   "metadata": {},
   "outputs": [
    {
     "data": {
      "text/plain": [
       "array([0.54455378, 0.52642047, 0.50819722, 0.48996927, 0.47181846,\n",
       "       0.45382138, 0.43604793, 0.41856022, 0.40141196, 0.38464817,\n",
       "       0.34273311, 0.32124   , 0.32124   , 0.32124   , 0.32124   ,\n",
       "       0.32124   , 0.32124   , 0.32124   , 0.32124   , 0.32124   ,\n",
       "       0.32124   ])"
      ]
     },
     "execution_count": 9,
     "metadata": {},
     "output_type": "execute_result"
    }
   ],
   "source": [
    "outcomes"
   ]
  },
  {
   "cell_type": "markdown",
   "metadata": {},
   "source": [
    "Plot outcomes"
   ]
  },
  {
   "cell_type": "code",
   "execution_count": 10,
   "metadata": {},
   "outputs": [
    {
     "data": {
      "image/png": "[encoded data removed]",
      "text/plain": [
       "<Figure size 360x360 with 1 Axes>"
      ]
     },
     "metadata": {
      "needs_background": "light"
     },
     "output_type": "display_data"
    }
   ],
   "source": [
    "fig, ax = plt.subplots(figsize=(5,5))\n",
    "ax.plot(onset_to_needle, outcomes)\n",
    "ax.set(xlabel='time to IVT (mins)', ylabel='probability of good outcome',\n",
    "       title='Effect of time to IVT on stroke outcomes')\n",
    "ax.grid()\n",
    "plt.show()"
   ]
  }
 ],
 "metadata": {
  "kernelspec": {
   "display_name": "Python 3",
   "language": "python",
   "name": "python3"
  },
  "language_info": {
   "codemirror_mode": {
    "name": "ipython",
    "version": 3
   },
   "file_extension": ".py",
   "mimetype": "text/x-python",
   "name": "python",
   "nbconvert_exporter": "python",
   "pygments_lexer": "ipython3",
   "version": "3.7.6"
  }
 },
 "nbformat": 4,
 "nbformat_minor": 4
}
