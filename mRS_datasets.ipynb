{
 "cells": [
  {
   "cell_type": "markdown",
   "id": "b6a2719d",
   "metadata": {},
   "source": [
    "# Defining modified Rankin Scale (mRS) probability distributions for untreated patients, and predicted distributions if treatment given at time of stroke onset"
   ]
  },
  {
   "cell_type": "markdown",
   "id": "88df6962-0969-4bd4-a0a7-78556eb577cf",
   "metadata": {},
   "source": [
    "## Plain English Summary\n",
    "\n",
    "Disability levels may be measured in various ways. In this project we are using the modified Rankin Scale (mRS). It is a commonly used scale for measuring the degree of disability or dependence in the daily activities of people who have suffered a stroke.\n",
    "\n",
    "The scale runs from 0-6, running from perfect health without symptoms to death:\n",
    "\n",
    "| Score | Description |\n",
    "|---|---|\n",
    "| 0 | No symptoms. |\n",
    "| 1 | No significant disability. Able to carry out all usual activities, despite some symptoms. |\n",
    "| 2 | Slight disability. Able to look after own affairs without assistance, but unable to carry out all previous activities. |\n",
    "| 3 | Moderate disability. Requires some help, but able to walk unassisted. |\n",
    "| 4 | Moderately severe disability. Unable to attend to own bodily needs without assistance, and unable to walk unassisted. |\n",
    "| 5 | Severe disability. Requires constant nursing care and attention, bedridden, incontinent. |\n",
    "| 6 | Dead. |\n",
    "\n",
    "\n",
    "When we predict the outcome of a person who has had a stroke, we want to be able to say what is the likely improvement in disability level they would experience due to the treatment.\n",
    "\n",
    "The improvement they can get will depend on the time from when their stroke symptoms began and when they receive treatment. The best possible outcome would be if they were treated immediately after they had their stroke. The benefit of treatment reduces over time until the treatment no longer offer any benefit, and they will not be better off than having no treatment.\n",
    "\n",
    "In this notebook we describe how we estimate the spread of disability levels if treatment was given immediately after the stroke, and what the spread of disability levels would be if the treatment was given at a time when it was no longer effective. These are two key pieces of information we will later use to estimate the spread of disability levels if we know the time after stroke symptoms began when a person was treated with either thrombolysis (clot-busting medication) or thrombectomy (physical removal of a clot). "
   ]
  },
  {
   "cell_type": "markdown",
   "id": "a6df60fa-2b72-4850-9ee4-480df7e19c0a",
   "metadata": {},
   "source": [
    "## Aims"
   ]
  },
  {
   "cell_type": "markdown",
   "id": "8ea200a2-2d8d-4683-beb4-827e1079c1ce",
   "metadata": {},
   "source": [
    "We define probability distributions at times from onset to treatment of zero hours, and of the no-effect time, $t_{ne}$. Any data sets containing mRS=6 (death) have the associated probability $P(\\mathrm{mRS}=6)$ removed, and the remaining values are normalised so that $P(\\mathrm{mRS}\\leq5)=1.0$.\n",
    "\n",
    "All of the probability distributions are plotted here as stacked horizontal bars.\n",
    "\n",
    "Most of the data is taken directly from the source, but some of the probability distributions here have been calculated from multiple data sets. These more complicated distributions are derived later on in this notebook."
   ]
  },
  {
   "cell_type": "markdown",
   "id": "64da81f9-e347-4509-86eb-78a48b50ec8d",
   "metadata": {},
   "source": [
    "## Descriptions of the mRS data sets used here:"
   ]
  },
  {
   "cell_type": "markdown",
   "id": "db9f8ec0",
   "metadata": {
    "tags": []
   },
   "source": [
    "| Description | Time zero | No-effect time (no treatment) | \n",
    "| :-- | :-- | :-- |\n",
    "| Pre-stroke | The estimated pre-stroke mRS scores from SSNAP data, as used in the SAMueL-1 project. | N/A |\n",
    "| Haemorrhaegic | N/A | N/A|\n",
    "| nLVO & LVO combined | [Explained here](#nLVO-and-LVO-combined:-t=0). We find the mRS$\\leq$1 data at time zero by combining the no-effect time data (from the Lees et al. 2010 no-treatment control group) with the odds ratio of mRS$\\leq$1 at $t=1$hrs (from Emberson et al. 2014). These two mRS$\\leq$1 points are converted to log(odds ratio), and connected by a straight line that we extrapolate back to time zero. This log(odds ratio) at time zero is converted to probability, and then used to scale the pre-stroke distribution into the final distribution. | The no-treatment control group from Lees et al. 2010, as measured from Figure 2. |\n",
    "| nLVO - untreated | N/A | [Explained here](#nLVO-untreated:-time-of-no-effect). The weighted combination of the no-effect-time nLVO and LVO combined data (100%) and the no-effect-time LVO-only data (minus 40%), then further scaled to match $P(\\mathrm{mRS}\\leq1, t=t_\\mathrm{ne})=0.46$ from Holodinsky et al. 2018. |\n",
    "| nLVO - thrombolysis | [Explained here](#nLVO-thrombolysis:-t=0). The weighted combination of pre-stroke (87%) and untreated nLVO at no-effect-time (13%), where weights are chosen to match the $P(\\mathrm{mRS}\\leq1, t=0)=0.63$ from Holodinsky et al. 2018. | Same as above. |\n",
    "| LVO - untreated | N/A | The control population from Goyal et al. 2016. |\n",
    "| LVO - thrombolysis only | [Explained here](#LVO-thrombolysis-only:-t=0). Weighted combination of the no-effect-time LVO data (82%) and the pre-stroke data (18%). | Same as above. |\n",
    "| LVO - thrombectomy <br /> with/out thrombolysis | [Explained here](#LVO-thrombectomy:-t=0). The weighted combination of pre-stroke (75%) and untreated LVO at no-effect-time (25%), where weights are chosen to match the predicted $P(\\mathrm{mRS}\\leq2, t=0)=0.68$ from Fransen et al. 2016. | Same as above. | "
   ]
  },
  {
   "cell_type": "markdown",
   "id": "b8a4a68a-e1d0-4393-b933-ce8f9e5cc748",
   "metadata": {},
   "source": [
    "[References can be found here.](#References)"
   ]
  },
  {
   "cell_type": "markdown",
   "id": "623746c5-06d8-43a8-a080-51e195b7557f",
   "metadata": {},
   "source": []
  },
  {
   "cell_type": "markdown",
   "id": "f37e4180-d550-4070-8f0f-07e31142c668",
   "metadata": {},
   "source": [
    "---"
   ]
  },
  {
   "cell_type": "markdown",
   "id": "d088757c-5ba1-4caa-b085-a52232bbf7de",
   "metadata": {},
   "source": [
    "## Notebook admin"
   ]
  },
  {
   "cell_type": "code",
   "execution_count": 1,
   "id": "38dd8b9d",
   "metadata": {},
   "outputs": [],
   "source": [
    "# Keep notebook cleaner once finalised\n",
    "import warnings\n",
    "warnings.filterwarnings('ignore')"
   ]
  },
  {
   "cell_type": "code",
   "execution_count": 2,
   "id": "7e253275",
   "metadata": {},
   "outputs": [],
   "source": [
    "# Import packages\n",
    "import numpy as np\n",
    "import matplotlib.pyplot as plt\n",
    "import pandas as pd"
   ]
  },
  {
   "cell_type": "code",
   "execution_count": 3,
   "id": "d84aa344",
   "metadata": {},
   "outputs": [],
   "source": [
    "# Set up MatPlotLib\n",
    "%matplotlib inline\n",
    "# Change default colour scheme:\n",
    "plt.style.use('seaborn-colorblind')"
   ]
  },
  {
   "cell_type": "code",
   "execution_count": 4,
   "id": "35a1cd0d-5cdb-483e-b971-3316e421db21",
   "metadata": {},
   "outputs": [],
   "source": [
    "# Set NumPy to pront 4 decimal places\n",
    "np.set_printoptions(precision=4)"
   ]
  },
  {
   "cell_type": "markdown",
   "id": "638eb3d7-0524-4ce3-9c58-156524158685",
   "metadata": {},
   "source": [
    "---"
   ]
  },
  {
   "cell_type": "markdown",
   "id": "a4209bd8-1381-4d7e-8b68-e55799da4933",
   "metadata": {},
   "source": [
    "## Import data"
   ]
  },
  {
   "cell_type": "markdown",
   "id": "2789ec4a-f5bf-4689-b7ba-011898f9d9d4",
   "metadata": {},
   "source": [
    "The mRS probability distributions are stored in dictionaries in a file."
   ]
  },
  {
   "cell_type": "markdown",
   "id": "c69c0434-15e1-44ee-9050-7d2e433df926",
   "metadata": {},
   "source": [
    "The dictionaries are named using these strings:\n",
    "+ `t0_treatment` - data from time $t=0$hr\n",
    "+ `no_treatment` - data from the no-effect time $t=t_{ne}$\n",
    "+ `lvo` - large-vessel occlusion\n",
    "+ `nlvo` - non-large-vessel occlusion\n",
    "+ `ich` - intra-cerebral haemorrhaege\n",
    "+ `pre-stroke` - data recorded before the onset of stroke (all patients)\n",
    "+ `pre-stroke_nlvo` - data recorded before the onset of stroke (NIHSS 0-10)\n",
    "+ `pre-stroke_lvo` - data recorded before the onset of stroke (NIHSS 11+)\n",
    "+ `oly` - thromb**oly**sis used\n",
    "+ `ect` - thromb**ect**omy used.\n",
    "\n",
    "Each dictionary contains an entry for:\n",
    "+ `dist_mrs6` - mRS distribution including mRS=6. If the mRS=6 data is unknown, it is set to 0. \n",
    "+ `dist` - mRS distribution excluding mRS=6.\n",
    "+ `bins` - cumulative probabilities of `dist`."
   ]
  },
  {
   "cell_type": "markdown",
   "id": "25a4710d-7a5d-45e7-9d0a-ef4536e14c47",
   "metadata": {},
   "source": [
    "We import the data corresponding to the table above from `mRS_datasets.py` in the `outcome_utilities` directory:"
   ]
  },
  {
   "cell_type": "code",
   "execution_count": 5,
   "id": "71d44464-5cc7-40e8-b707-1162c89a5176",
   "metadata": {},
   "outputs": [],
   "source": [
    "from outcome_utilities.mRS_datasets import (\n",
    "    dict_pre_stroke, dict_pre_stroke_nlvo, dict_pre_stroke_lvo,\n",
    "    dict_t0_treatment_ich,      dict_no_treatment_ich, \n",
    "    dict_t0_treatment_nlvo_lvo, dict_no_treatment_nlvo_lvo,\n",
    "    dict_t0_treatment_lvo,      dict_no_treatment_lvo,\n",
    "    dict_t0_treatment_lvo_oly,  dict_no_treatment_lvo_oly, \n",
    "    dict_t0_treatment_lvo_ect,  dict_no_treatment_lvo_ect, \n",
    "    dict_t0_treatment_nlvo,     dict_no_treatment_nlvo, \n",
    "    dict_t0_treatment_nlvo_oly, dict_no_treatment_nlvo_oly)"
   ]
  },
  {
   "cell_type": "markdown",
   "id": "0fbca846-19b3-4125-83ab-b3aa3e656872",
   "metadata": {},
   "source": [
    "__Example 1:__ Removal of mRS=6 data"
   ]
  },
  {
   "cell_type": "markdown",
   "id": "cf18c0f4-6100-4bf0-947e-7c3bc8f27e19",
   "metadata": {},
   "source": [
    "The original distribution of the no-effect-time combined nLVO and LVO data contains an entry for mRS=6:"
   ]
  },
  {
   "cell_type": "code",
   "execution_count": 6,
   "id": "f0a9d07b-4689-45d1-b473-21071faf23da",
   "metadata": {},
   "outputs": [
    {
     "data": {
      "text/plain": [
       "array([0.1486, 0.2022, 0.1253, 0.1397, 0.1806, 0.0861, 0.1175])"
      ]
     },
     "execution_count": 6,
     "metadata": {},
     "output_type": "execute_result"
    }
   ],
   "source": [
    "dict_no_treatment_nlvo_lvo['dist_mrs6']"
   ]
  },
  {
   "cell_type": "markdown",
   "id": "0fb1bd9a-c0a4-47db-9aa1-848700e313d2",
   "metadata": {},
   "source": [
    "When we remove the mRS=6 entry, the remaining values are re-normalised so that the new distribution sums to one:"
   ]
  },
  {
   "cell_type": "code",
   "execution_count": 7,
   "id": "dadc6717-864e-423f-abe7-a80a1bce7ad2",
   "metadata": {},
   "outputs": [
    {
     "data": {
      "text/plain": [
       "array([0.1684, 0.2291, 0.1419, 0.1583, 0.2047, 0.0976])"
      ]
     },
     "execution_count": 7,
     "metadata": {},
     "output_type": "execute_result"
    }
   ],
   "source": [
    "dict_no_treatment_nlvo_lvo['dist']"
   ]
  },
  {
   "cell_type": "code",
   "execution_count": 8,
   "id": "7449cb1e-eceb-4ad8-8f87-faedff82b237",
   "metadata": {},
   "outputs": [
    {
     "data": {
      "text/plain": [
       "array([0.1684, 0.3976, 0.5395, 0.6977, 0.9024, 1.    ])"
      ]
     },
     "execution_count": 8,
     "metadata": {},
     "output_type": "execute_result"
    }
   ],
   "source": [
    "dict_no_treatment_nlvo_lvo['bins']"
   ]
  },
  {
   "cell_type": "markdown",
   "id": "5fa1137d-bd9e-43d8-87f8-648d9531fa12",
   "metadata": {},
   "source": [
    "__Example 2:__ Invalid data"
   ]
  },
  {
   "cell_type": "markdown",
   "id": "4168b62f-7b95-418e-9ad2-233be5f82aef",
   "metadata": {},
   "source": [
    "Some of the probability distributions are unknown. In these cases, we fill the arrays with placeholder negative values. For example, we have no data for intra-cerebral haemorrhaege at time zero:"
   ]
  },
  {
   "cell_type": "code",
   "execution_count": 9,
   "id": "b84705b0-d3f0-4907-864e-fa6c91392a75",
   "metadata": {},
   "outputs": [
    {
     "data": {
      "text/plain": [
       "array([-1, -1, -1, -1, -1, -1])"
      ]
     },
     "execution_count": 9,
     "metadata": {},
     "output_type": "execute_result"
    }
   ],
   "source": [
    "dict_t0_treatment_ich['dist']"
   ]
  },
  {
   "cell_type": "markdown",
   "id": "cb03e564-8265-475e-856a-3d6fa241ce36",
   "metadata": {},
   "source": [
    "Since we never ordinarily expect negative probabilities, seeing a negative number in one of the lists is an indication that the data is invalid."
   ]
  },
  {
   "cell_type": "markdown",
   "id": "2e9922de-900a-4336-98a5-403a63f4b066",
   "metadata": {},
   "source": [
    "---"
   ]
  },
  {
   "cell_type": "markdown",
   "id": "d787c487-b808-4e64-a8ce-94b126986645",
   "metadata": {},
   "source": [
    "## Plot the data"
   ]
  },
  {
   "cell_type": "markdown",
   "id": "5dfb3f69-a68c-430d-ad2f-ad7c0ad8ddfa",
   "metadata": {},
   "source": [
    "For our convenience in this notebook, we'll gather all of the imported data into one big list:"
   ]
  },
  {
   "cell_type": "code",
   "execution_count": 10,
   "id": "4b2d60b5-370b-40e8-a794-951c7adb246d",
   "metadata": {},
   "outputs": [],
   "source": [
    "full_data_list = [\n",
    "    [dict_pre_stroke,            dict_pre_stroke,            'Pre-stroke'],\n",
    "    [dict_pre_stroke_nlvo,       dict_pre_stroke_nlvo,       'Pre-stroke_nlvo'],\n",
    "    [dict_pre_stroke_lvo,        dict_pre_stroke_lvo,        'Pre-stroke_lvo'],\n",
    "    [dict_t0_treatment_ich,      dict_no_treatment_ich,      'Haemorrhagic'],\n",
    "    [dict_t0_treatment_nlvo_lvo, dict_no_treatment_nlvo_lvo, 'nLVO/LVO combined IVT'],\n",
    "    [dict_t0_treatment_lvo,      dict_no_treatment_lvo,      'LVO untreated'],\n",
    "    [dict_t0_treatment_lvo_oly,  dict_no_treatment_lvo_oly,  'LVO IVT'],\n",
    "    [dict_t0_treatment_lvo_ect,  dict_no_treatment_lvo_ect,  'LVO MT'],\n",
    "    [dict_t0_treatment_nlvo,     dict_no_treatment_nlvo,     'nLVO untreated'],\n",
    "    [dict_t0_treatment_nlvo_oly, dict_no_treatment_nlvo_oly, 'nLVO IVT']\n",
    "    ]"
   ]
  },
  {
   "cell_type": "markdown",
   "id": "c7299184-7ace-46cc-ab2c-93f9054ece74",
   "metadata": {},
   "source": [
    "### Stacked bars"
   ]
  },
  {
   "cell_type": "markdown",
   "id": "da9b1a47-d2d1-4789-8a56-a9e39d211e6b",
   "metadata": {},
   "source": [
    "Define a function for plotting the stacked horizontal bar:"
   ]
  },
  {
   "cell_type": "code",
   "execution_count": 11,
   "id": "335e8b5a-db68-4e86-be42-be19e5165ae5",
   "metadata": {},
   "outputs": [],
   "source": [
    "def draw_horizontal_bar(dist,label=''):\n",
    "    \"\"\"\n",
    "    Draw a stacked horizontal bar chart of the values in 'dist'.\n",
    "    \n",
    "    dist  - list or np.array. The probability distribution \n",
    "            (non-cumulative).\n",
    "    label - string. The name printed next to these stacked bars.\n",
    "    \"\"\"\n",
    "    # The first bar will start at this point on the x-axis:\n",
    "    left = 0\n",
    "    for i in range(len(dist)):\n",
    "        # Draw a bar starting from 'left', the end of the previous bar,\n",
    "        # with a width equal to the probability of this mRS:\n",
    "        plt.barh(label, width=dist[i], left=left, height=0.5, \n",
    "                 label=f'{i}', edgecolor='k')\n",
    "        # Update 'left' with the width of the current bar so that the \n",
    "        # next bar drawn will start in the correct place.    \n",
    "        left += dist[i]"
   ]
  },
  {
   "cell_type": "code",
   "execution_count": 12,
   "id": "48f5b393-a28a-497e-acdc-0c889cfd34e4",
   "metadata": {},
   "outputs": [],
   "source": [
    "def draw_connections(dist_t0, dist_tne, top_tne=0.25, bottom_t0=0.75):\n",
    "    \"\"\"\n",
    "    Draw lines connecting the mRS bins in the top and bottom rows.\n",
    "    \n",
    "    dist_t0, dist_tne - lists or arrays. Probability distributions.\n",
    "    top_tne, bottom_t0 - floats. y-coordinates just inside the bars. \n",
    "    \"\"\"\n",
    "    left_t0   = 0.0\n",
    "    left_tne  = 0.0\n",
    "    for i, d_t0 in enumerate(dict_t0['dist']):\n",
    "        left_t0  +=  dict_t0['dist'][i]\n",
    "        left_tne += dict_tne['dist'][i]\n",
    "        plt.plot([left_t0,left_tne],[bottom_t0,top_tne],color='k')"
   ]
  },
  {
   "cell_type": "markdown",
   "id": "b72da8e4-2646-4741-8ad8-4b4b71643984",
   "metadata": {},
   "source": [
    "Run through each row of the full data list in turn and plot its data:"
   ]
  },
  {
   "cell_type": "code",
   "execution_count": 13,
   "id": "04e5c0a9-6048-40dd-9b71-dd2b6da21374",
   "metadata": {},
   "outputs": [
    {
     "data": {
      "image/png": "[encoded data removed]",
      "text/plain": [
       "<Figure size 432x288 with 1 Axes>"
      ]
     },
     "metadata": {
      "needs_background": "light"
     },
     "output_type": "display_data"
    },
    {
     "data": {
      "image/png": "[encoded data removed]",
      "text/plain": [
       "<Figure size 432x288 with 1 Axes>"
      ]
     },
     "metadata": {
      "needs_background": "light"
     },
     "output_type": "display_data"
    },
    {
     "data": {
      "image/png": "[encoded data removed]",
      "text/plain": [
       "<Figure size 432x288 with 1 Axes>"
      ]
     },
     "metadata": {
      "needs_background": "light"
     },
     "output_type": "display_data"
    }
   ],
   "source": [
    "for data_list in full_data_list:\n",
    "    \n",
    "    dict_t0  = data_list[0]\n",
    "    dict_tne = data_list[1]\n",
    "    label    = data_list[2]\n",
    "    \n",
    "    # Only plot specific treatments\n",
    "    if label in ['LVO IVT', 'LVO MT', 'nLVO IVT', 'nLVO and LVO combined IVT']:\n",
    "            \n",
    "        draw_horizontal_bar(dict_tne['dist'], 'no effect time')\n",
    "\n",
    "        # Add legend now to prevent doubling all the labels:\n",
    "        plt.legend(loc='center',ncol=6, title='mRS',\n",
    "                   bbox_to_anchor=[0.5,0.0,0.0,-0.5])   # Legend below axis.\n",
    "\n",
    "        draw_horizontal_bar(dict_t0['dist'], 't=0hr')\n",
    "\n",
    "        # Draw connecting lines between the two mRS groups:\n",
    "        if np.sum(dict_t0['dist'])>0 and np.sum(dict_tne['dist'])>0:\n",
    "            draw_connections(dict_t0['dist'], dict_tne['dist'])\n",
    "      \n",
    "        plt.xlabel('Probability')\n",
    "        plt.title(label)\n",
    "        plt.xlim(0,1)\n",
    "        plt.savefig(f'./images/{label}.jpg', dpi=300, bbox_inches='tight', \n",
    "            pad_inches=0.2)\n",
    "        plt.show()"
   ]
  },
  {
   "cell_type": "code",
   "execution_count": 14,
   "id": "b635a486-323a-43d9-8998-72ad46e172a6",
   "metadata": {},
   "outputs": [],
   "source": [
    "combine_data = dict()\n",
    "for row in full_data_list:\n",
    "    stroke_type = row[-1]\n",
    "    if stroke_type in ['LVO IVT', 'LVO MT', 'nLVO IVT', 'nLVO and LVO combined IVT']:\n",
    "        index = (stroke_type, 't0')\n",
    "        combine_data[index] = row[0]['dist']\n",
    "        index = (stroke_type, 'no_effect')\n",
    "        combine_data[index] = row[1]['dist']\n",
    "df = pd.DataFrame(combine_data).T\n",
    "index_labels = ['stroke_type', 'effect']\n",
    "df.index.names = index_labels"
   ]
  },
  {
   "cell_type": "markdown",
   "id": "60cb8b86-4f68-4c9f-b877-a9bf77942bae",
   "metadata": {},
   "source": [
    "## Tabulate and save key treatment data"
   ]
  },
  {
   "cell_type": "code",
   "execution_count": 15,
   "id": "879e789e-6954-4dbf-b54c-b5c4992e7559",
   "metadata": {},
   "outputs": [],
   "source": [
    "combine_data = dict()\n",
    "for row in full_data_list:\n",
    "    stroke_type = row[-1]\n",
    "    if stroke_type in ['LVO IVT', 'LVO MT', 'nLVO IVT', 'nLVO and LVO combined IVT']:\n",
    "        index = (stroke_type, 't0')\n",
    "        combine_data[index] = row[0]['dist']\n",
    "        index = (stroke_type, 'no_effect')\n",
    "        combine_data[index] = row[1]['dist']\n",
    "df = pd.DataFrame(combine_data).T\n",
    "index_labels = ['stroke_type', 'effect']\n",
    "df.index.names = index_labels\n",
    "df.to_csv('./outcome_utilities/mrs_dist.csv')"
   ]
  },
  {
   "cell_type": "code",
   "execution_count": 16,
   "id": "2669ee95-ae0d-4401-8050-2b81f9819263",
   "metadata": {},
   "outputs": [
    {
     "data": {
      "text/html": [
       "<div>\n",
       "<style scoped>\n",
       "    .dataframe tbody tr th:only-of-type {\n",
       "        vertical-align: middle;\n",
       "    }\n",
       "\n",
       "    .dataframe tbody tr th {\n",
       "        vertical-align: top;\n",
       "    }\n",
       "\n",
       "    .dataframe thead th {\n",
       "        text-align: right;\n",
       "    }\n",
       "</style>\n",
       "<table border=\"1\" class=\"dataframe\">\n",
       "  <thead>\n",
       "    <tr style=\"text-align: right;\">\n",
       "      <th></th>\n",
       "      <th></th>\n",
       "      <th>0</th>\n",
       "      <th>1</th>\n",
       "      <th>2</th>\n",
       "      <th>3</th>\n",
       "      <th>4</th>\n",
       "      <th>5</th>\n",
       "    </tr>\n",
       "    <tr>\n",
       "      <th>stroke_type</th>\n",
       "      <th>effect</th>\n",
       "      <th></th>\n",
       "      <th></th>\n",
       "      <th></th>\n",
       "      <th></th>\n",
       "      <th></th>\n",
       "      <th></th>\n",
       "    </tr>\n",
       "  </thead>\n",
       "  <tbody>\n",
       "    <tr>\n",
       "      <th rowspan=\"2\" valign=\"top\">LVO IVT</th>\n",
       "      <th>t0</th>\n",
       "      <td>0.125776</td>\n",
       "      <td>0.105609</td>\n",
       "      <td>0.158827</td>\n",
       "      <td>0.195378</td>\n",
       "      <td>0.270221</td>\n",
       "      <td>0.144190</td>\n",
       "    </tr>\n",
       "    <tr>\n",
       "      <th>no_effect</th>\n",
       "      <td>0.061652</td>\n",
       "      <td>0.097411</td>\n",
       "      <td>0.167694</td>\n",
       "      <td>0.202219</td>\n",
       "      <td>0.304562</td>\n",
       "      <td>0.166461</td>\n",
       "    </tr>\n",
       "    <tr>\n",
       "      <th rowspan=\"2\" valign=\"top\">LVO MT</th>\n",
       "      <th>t0</th>\n",
       "      <td>0.418619</td>\n",
       "      <td>0.143052</td>\n",
       "      <td>0.118330</td>\n",
       "      <td>0.164134</td>\n",
       "      <td>0.113387</td>\n",
       "      <td>0.042479</td>\n",
       "    </tr>\n",
       "    <tr>\n",
       "      <th>no_effect</th>\n",
       "      <td>0.061652</td>\n",
       "      <td>0.097411</td>\n",
       "      <td>0.167694</td>\n",
       "      <td>0.202219</td>\n",
       "      <td>0.304562</td>\n",
       "      <td>0.166461</td>\n",
       "    </tr>\n",
       "    <tr>\n",
       "      <th rowspan=\"2\" valign=\"top\">nLVO IVT</th>\n",
       "      <th>t0</th>\n",
       "      <td>0.427174</td>\n",
       "      <td>0.202826</td>\n",
       "      <td>0.121984</td>\n",
       "      <td>0.123726</td>\n",
       "      <td>0.093647</td>\n",
       "      <td>0.030643</td>\n",
       "    </tr>\n",
       "    <tr>\n",
       "      <th>no_effect</th>\n",
       "      <td>0.197834</td>\n",
       "      <td>0.262166</td>\n",
       "      <td>0.149298</td>\n",
       "      <td>0.155399</td>\n",
       "      <td>0.169757</td>\n",
       "      <td>0.065547</td>\n",
       "    </tr>\n",
       "  </tbody>\n",
       "</table>\n",
       "</div>"
      ],
      "text/plain": [
       "                              0         1         2         3         4  \\\n",
       "stroke_type effect                                                        \n",
       "LVO IVT     t0         0.125776  0.105609  0.158827  0.195378  0.270221   \n",
       "            no_effect  0.061652  0.097411  0.167694  0.202219  0.304562   \n",
       "LVO MT      t0         0.418619  0.143052  0.118330  0.164134  0.113387   \n",
       "            no_effect  0.061652  0.097411  0.167694  0.202219  0.304562   \n",
       "nLVO IVT    t0         0.427174  0.202826  0.121984  0.123726  0.093647   \n",
       "            no_effect  0.197834  0.262166  0.149298  0.155399  0.169757   \n",
       "\n",
       "                              5  \n",
       "stroke_type effect               \n",
       "LVO IVT     t0         0.144190  \n",
       "            no_effect  0.166461  \n",
       "LVO MT      t0         0.042479  \n",
       "            no_effect  0.166461  \n",
       "nLVO IVT    t0         0.030643  \n",
       "            no_effect  0.065547  "
      ]
     },
     "execution_count": 16,
     "metadata": {},
     "output_type": "execute_result"
    }
   ],
   "source": [
    "df"
   ]
  },
  {
   "cell_type": "markdown",
   "id": "8b57cf77",
   "metadata": {},
   "source": [
    "---"
   ]
  },
  {
   "cell_type": "markdown",
   "id": "14e17147-b37a-4979-a54a-2327dccc4693",
   "metadata": {},
   "source": [
    "# Distributions that require further explanation"
   ]
  },
  {
   "cell_type": "markdown",
   "id": "b2aa32ce",
   "metadata": {},
   "source": [
    "## nLVO and LVO combined: t=0"
   ]
  },
  {
   "cell_type": "markdown",
   "id": "e4b4e7dd-7198-4ba3-aa1d-6eba58f31dee",
   "metadata": {},
   "source": [
    "Summary: Use the \"no effect\" distribution with the t=1hr value from Emberson+2014 to extrapolate back and find a t=0hr point, then scale the pre-stroke bins back to match."
   ]
  },
  {
   "cell_type": "markdown",
   "id": "c34b4507-76c4-4ef7-a7ae-007874b71240",
   "metadata": {},
   "source": [
    "Steps:\n",
    "1. Gather the known data at different times.\n",
    "    + Odds ratio $OR(\\mathrm{mRS}\\leq1, t=1hr)$ from Emberson et al. 2014.\n",
    "    + Probability $P(\\mathrm{mRS}\\leq1, t=t_\\mathrm{ne})$ from Lees et al. 2010.\n",
    "    + The pre-stroke probability distribution from the SAMueL dataset. \n",
    "    \n",
    "1. Use the function `extrapolate_odds_ratio` to do the following:\n",
    "   1. Convert $OR(\\mathrm{mRS}\\leq1, t=1hr)$ and $P(\\mathrm{mRS}\\leq1, t=t_\\mathrm{ne})$ to log(odds ratio) and connect the two points with a straight line. \n",
    "   1. Extrapolate the line to time zero.\n",
    "   1. Convert log(odds ratio) at time zero back to probability.\n",
    "   1. We now have data for $P(\\mathrm{mRS}\\leq1, t=0)$.\n",
    "    \n",
    "1. Use the function `scale_dist` to do the following:\n",
    "   1. Move the pre-stroke $P(\\mathrm{mRS}\\leq1)$ value to match $P(\\mathrm{mRS}\\leq1, t=0)$.\n",
    "   1. Scale the pre-stroke probabilities for the other mRS bins around $P(\\mathrm{mRS}\\leq1, t=0)$, otherwise keeping the same bin size proportions.\n",
    "   \n",
    "Result: Probability distribution at time zero for the combined nLVO and LVO patients."
   ]
  },
  {
   "cell_type": "markdown",
   "id": "6b9f2f71-d8f2-4b39-b30a-fc6c423a78ac",
   "metadata": {},
   "source": [
    "__Step 1:__ Use the following imported datasets and known values: "
   ]
  },
  {
   "cell_type": "code",
   "execution_count": 17,
   "id": "6ca716ec-9041-4736-9f01-04c8ec998928",
   "metadata": {},
   "outputs": [],
   "source": [
    "mrs_prob_bins_no_treatment_nlvo_lvo = dict_no_treatment_nlvo_lvo['bins']\n",
    "mrs_prob_bins_pre_stroke            = dict_pre_stroke['bins']"
   ]
  },
  {
   "cell_type": "code",
   "execution_count": 18,
   "id": "f06527fd-8051-4b6b-85ae-1d9fd1c75840",
   "metadata": {},
   "outputs": [],
   "source": [
    "OR   = 1.9\n",
    "t_ne = 6.3 # hours\n",
    "p_ne = mrs_prob_bins_no_treatment_nlvo_lvo[1]"
   ]
  },
  {
   "cell_type": "markdown",
   "id": "53921385-3d0e-4dec-b75e-fc3f6a6a08e0",
   "metadata": {},
   "source": [
    "__Step 2:__ Use the mRS$\\leq$1 odds ratio at t=1hr, `OR`, and probability at the no-effect time, `p_ne`, to find the time zero odds ratio `OR_t0` and probability `p_t0`.\n",
    "\n",
    "(The returned `a` and `b` go unused here but are the constants used to make the straight line log(odds ratio)$=a+bt$.)"
   ]
  },
  {
   "cell_type": "code",
   "execution_count": 19,
   "id": "d90e4c1a-2a07-48c1-a069-4afea9fbcea9",
   "metadata": {},
   "outputs": [],
   "source": [
    "from outcome_utilities.extrapolate_odds_ratio import extrapolate_odds_ratio\n",
    "\n",
    "OR_t0, p_t0, a, b = extrapolate_odds_ratio(\n",
    "    t_1=60,      OR_1=OR,              # t=1hr data\n",
    "    t_2=60*t_ne, OR_2=1,   p_2=p_ne,   # t=t_ne data\n",
    "    t_e=0 )                            # Extrapolate to time 0."
   ]
  },
  {
   "cell_type": "markdown",
   "id": "f413eb59-17dd-4e40-8dc6-9daf73ca524a",
   "metadata": {},
   "source": [
    "__Step 3:__ Use the new probability `p_t0` to scale the pre-stroke bins:"
   ]
  },
  {
   "cell_type": "code",
   "execution_count": 20,
   "id": "be2d17a8-f461-456b-9f45-6b34c00906ea",
   "metadata": {},
   "outputs": [],
   "source": [
    "from outcome_utilities.scale_dist import scale_dist\n",
    "\n",
    "mrs_prob_dist_t0_treatment_nlvo_lvo, mrs_prob_bins_no_treatment_nlvo_lvo = (\n",
    "    scale_dist(mrs_prob_bins_pre_stroke, p_t0, mRS_ref=1))"
   ]
  },
  {
   "cell_type": "markdown",
   "id": "62f70fc8-6fdd-460b-b314-e9d4e2de0b5e",
   "metadata": {},
   "source": [
    "__Result:__ The newly-created time zero probability distribution:"
   ]
  },
  {
   "cell_type": "code",
   "execution_count": 21,
   "id": "a46235ca-379a-4f14-8b4b-801b9380afea",
   "metadata": {},
   "outputs": [
    {
     "data": {
      "text/plain": [
       "array([0.4531, 0.1329, 0.1437, 0.1618, 0.0847, 0.0238])"
      ]
     },
     "execution_count": 21,
     "metadata": {},
     "output_type": "execute_result"
    }
   ],
   "source": [
    "mrs_prob_dist_t0_treatment_nlvo_lvo"
   ]
  },
  {
   "cell_type": "markdown",
   "id": "d7644065-5977-46bf-9de1-ef989cd60efa",
   "metadata": {},
   "source": [
    "Compare with the imported data:"
   ]
  },
  {
   "cell_type": "code",
   "execution_count": 22,
   "id": "c5fde34f-9c3c-4df1-b3ed-2971f7ba8246",
   "metadata": {},
   "outputs": [
    {
     "data": {
      "text/plain": [
       "array([0.4531, 0.1329, 0.1437, 0.1618, 0.0847, 0.0238])"
      ]
     },
     "execution_count": 22,
     "metadata": {},
     "output_type": "execute_result"
    }
   ],
   "source": [
    "dict_t0_treatment_nlvo_lvo['dist']"
   ]
  },
  {
   "cell_type": "markdown",
   "id": "e6720f79",
   "metadata": {},
   "source": [
    "---"
   ]
  },
  {
   "cell_type": "markdown",
   "id": "33e0cd5b",
   "metadata": {},
   "source": [
    "## LVO thrombolysis only: t=0"
   ]
  },
  {
   "cell_type": "markdown",
   "id": "205e6a73",
   "metadata": {},
   "source": [
    "Summary: Weighted distribution of 18% full effect (using the time zero pre-stroke distribution) with 82% no effect (using the no-effect-time LVO distribution), as in Holodinsky et al. 2018. "
   ]
  },
  {
   "cell_type": "markdown",
   "id": "872525b7-f59f-4dbd-ad63-a9150c453cff",
   "metadata": {},
   "source": [
    "Steps:\n",
    "1. Gather the known data.\n",
    "    + Pre-stroke probability distribution\n",
    "    + No-effect LVO probability distribution\n",
    "    + Weights of 18% and 82% respectively.\n",
    "1. Multiply each distribution by its weighting, and then sum the two weighted distributions.\n",
    " \n",
    "Result: Probability distribution at time zero for the LVO patients treated with thrombolysis."
   ]
  },
  {
   "cell_type": "markdown",
   "id": "954172d8-4fae-4363-bdd1-4b402d700ba9",
   "metadata": {},
   "source": [
    "__Step 1:__ Use the following imported datasets and known values: "
   ]
  },
  {
   "cell_type": "code",
   "execution_count": 23,
   "id": "2b2a7225-ca68-4d97-909b-1b1af2e096b1",
   "metadata": {},
   "outputs": [],
   "source": [
    "mrs_prob_dist_pre_stroke = dict_pre_stroke_lvo['dist']\n",
    "mrs_prob_dist_no_treatment_lvo = dict_no_treatment_lvo['dist']"
   ]
  },
  {
   "cell_type": "code",
   "execution_count": 24,
   "id": "8065b395-9173-41e5-8b96-c5254f320202",
   "metadata": {},
   "outputs": [
    {
     "name": "stdout",
     "output_type": "stream",
     "text": [
      "Weighting for pre-stroke data: 0.18\n",
      "Weighting for untreated LVO data: 0.82\n"
     ]
    }
   ],
   "source": [
    "from outcome_utilities.mRS_datasets import (\n",
    "    weight_pre_stroke_lvo_oly, weight_no_treatment_lvo_oly)\n",
    "\n",
    "print('Weighting for pre-stroke data:',    weight_pre_stroke_lvo_oly)\n",
    "print('Weighting for untreated LVO data:', weight_no_treatment_lvo_oly)"
   ]
  },
  {
   "cell_type": "markdown",
   "id": "5d79da44-e5d5-409d-ae7f-d30cc6dfd20c",
   "metadata": {},
   "source": [
    "__Step 2:__ Apply the weights:"
   ]
  },
  {
   "cell_type": "code",
   "execution_count": 25,
   "id": "dee1793d",
   "metadata": {},
   "outputs": [],
   "source": [
    "mrs_prob_dist_t0_treatment_lvo_oly = (\n",
    "    (weight_pre_stroke_lvo_oly   * mrs_prob_dist_pre_stroke) + \n",
    "    (weight_no_treatment_lvo_oly * mrs_prob_dist_no_treatment_lvo) )"
   ]
  },
  {
   "cell_type": "markdown",
   "id": "d8dc8184-2b56-4a86-8a2b-54f4531fb472",
   "metadata": {},
   "source": [
    "__Result:__ The newly-created time zero probability distribution:"
   ]
  },
  {
   "cell_type": "code",
   "execution_count": 26,
   "id": "9992bc49",
   "metadata": {},
   "outputs": [
    {
     "data": {
      "text/plain": [
       "array([0.1258, 0.1056, 0.1588, 0.1954, 0.2702, 0.1442])"
      ]
     },
     "execution_count": 26,
     "metadata": {},
     "output_type": "execute_result"
    }
   ],
   "source": [
    "mrs_prob_dist_t0_treatment_lvo_oly"
   ]
  },
  {
   "cell_type": "markdown",
   "id": "ae8f2bf1-a2dc-4643-94c6-534e6c94d161",
   "metadata": {},
   "source": [
    "Compare this with the imported distribution:"
   ]
  },
  {
   "cell_type": "code",
   "execution_count": 27,
   "id": "b45c4a41-2b74-4887-9303-fe7ffee24e4a",
   "metadata": {},
   "outputs": [
    {
     "data": {
      "text/plain": [
       "array([0.1258, 0.1056, 0.1588, 0.1954, 0.2702, 0.1442])"
      ]
     },
     "execution_count": 27,
     "metadata": {},
     "output_type": "execute_result"
    }
   ],
   "source": [
    "dict_t0_treatment_lvo_oly['dist']"
   ]
  },
  {
   "cell_type": "markdown",
   "id": "16360d8e",
   "metadata": {},
   "source": [
    "---"
   ]
  },
  {
   "cell_type": "markdown",
   "id": "542baceb",
   "metadata": {},
   "source": [
    "## nLVO untreated: time of no effect"
   ]
  },
  {
   "cell_type": "markdown",
   "id": "5778add2",
   "metadata": {},
   "source": [
    "Summary: Estimate from weighted subtraction of the no-effect LVO data from the no-effect combined nLVO and LVO data, and then scale the resulting distribution using a known data point $P(\\mathrm{mRS}\\leq1, t=t_\\mathrm{ne})=0.46$."
   ]
  },
  {
   "cell_type": "markdown",
   "id": "8bb3ae15-1b97-45b2-9843-ab4ae5d68956",
   "metadata": {},
   "source": [
    "Steps:\n",
    "1. Gather the available data.\n",
    "    + Probability distribution for no-effect-time combined nLVO and LVO (Lees et al. 2010).\n",
    "    + Probability distribution for no-effect-time LVO (Goyal et al. 2016).\n",
    "    + Weights of 100% and -38% respectively. \n",
    "    + $P(\\mathrm{mRS}\\leq1, t=t_\\mathrm{ne})=0.46$ (Holodinsky et al. 2018).\n",
    "1. Multiply the distributions by their weights, sum the two, and normalise.\n",
    "1. Force the calculated $P(\\mathrm{mRS}\\leq1, t=t_\\mathrm{ne})$ to equal 46% and scale the other bins around this value using `scale_dist()`.\n",
    " \n",
    "Result: No-effect-time probability distribution for untreated nLVOs."
   ]
  },
  {
   "cell_type": "markdown",
   "id": "3fdddb84-6730-4a39-b17c-e7689cc94b3e",
   "metadata": {},
   "source": [
    "__Step 1:__ Use the following imported datasets and known values:"
   ]
  },
  {
   "cell_type": "code",
   "execution_count": 28,
   "id": "934ea427-83b0-4cdb-af1e-19a871635189",
   "metadata": {},
   "outputs": [],
   "source": [
    "mrs_prob_dist_no_treatment_nlvo_lvo = dict_no_treatment_nlvo_lvo['dist']\n",
    "mrs_prob_dist_no_treatment_lvo      = dict_no_treatment_lvo['dist']"
   ]
  },
  {
   "cell_type": "code",
   "execution_count": 29,
   "id": "fdc956af-c2ed-4cb7-9510-890005c2fd9a",
   "metadata": {},
   "outputs": [
    {
     "name": "stdout",
     "output_type": "stream",
     "text": [
      "Weights:\n",
      "untreated nLVO and LVO data: 1.0\n",
      "untreated LVO data:          -0.38\n"
     ]
    }
   ],
   "source": [
    "from outcome_utilities.mRS_datasets import (\n",
    "    weight_no_treatment_nlvo_lvo, weight_no_treatment_lvo)\n",
    "\n",
    "print('Weights:')\n",
    "print('untreated nLVO and LVO data:', weight_no_treatment_nlvo_lvo)\n",
    "print('untreated LVO data:         ', weight_no_treatment_lvo)"
   ]
  },
  {
   "cell_type": "markdown",
   "id": "a7908251-1714-4197-bbaf-8433c3d26978",
   "metadata": {},
   "source": [
    "__Step 2:__ Apply the weights:"
   ]
  },
  {
   "cell_type": "code",
   "execution_count": 30,
   "id": "c15f8963",
   "metadata": {},
   "outputs": [],
   "source": [
    "mrs_prob_dist_no_treatment_nlvo = (\n",
    "    (weight_no_treatment_nlvo_lvo * mrs_prob_dist_no_treatment_nlvo_lvo) + \n",
    "    (weight_no_treatment_lvo      * mrs_prob_dist_no_treatment_lvo) )"
   ]
  },
  {
   "cell_type": "markdown",
   "id": "6e1d99a7-b56c-4be7-a153-62127aecc224",
   "metadata": {},
   "source": [
    "Currently the bins are unlikely to sum to 1 as required, so they must be normalised:"
   ]
  },
  {
   "cell_type": "code",
   "execution_count": 31,
   "id": "d9f11586-c522-4363-85af-36e82492081e",
   "metadata": {},
   "outputs": [],
   "source": [
    "mrs_prob_dist_no_treatment_nlvo = (\n",
    "    mrs_prob_dist_no_treatment_nlvo / np.sum(mrs_prob_dist_no_treatment_nlvo))"
   ]
  },
  {
   "cell_type": "code",
   "execution_count": 32,
   "id": "fd3b6f52",
   "metadata": {},
   "outputs": [
    {
     "data": {
      "text/plain": [
       "array([0.2338, 0.3099, 0.1261, 0.1313, 0.1434, 0.0554])"
      ]
     },
     "execution_count": 32,
     "metadata": {},
     "output_type": "execute_result"
    }
   ],
   "source": [
    "mrs_prob_dist_no_treatment_nlvo"
   ]
  },
  {
   "cell_type": "markdown",
   "id": "0c67433e-0558-4e2d-9c15-dc9ab4cc406f",
   "metadata": {},
   "source": [
    "__Step 3:__ Compare the current $P(\\mathrm{mRS}\\leq1, t=t_\\mathrm{ne})$ with the expected 46%."
   ]
  },
  {
   "cell_type": "code",
   "execution_count": 33,
   "id": "8affadce-d4e3-4878-bbad-d511aa106c79",
   "metadata": {},
   "outputs": [],
   "source": [
    "mrs_prob_bins_no_treatment_nlvo = np.cumsum(mrs_prob_dist_no_treatment_nlvo)"
   ]
  },
  {
   "cell_type": "code",
   "execution_count": 34,
   "id": "1c1e4f91",
   "metadata": {},
   "outputs": [
    {
     "data": {
      "text/plain": [
       "0.5437245471598184"
      ]
     },
     "execution_count": 34,
     "metadata": {},
     "output_type": "execute_result"
    }
   ],
   "source": [
    "mrs_prob_bins_no_treatment_nlvo[1]"
   ]
  },
  {
   "cell_type": "markdown",
   "id": "d967cd8f",
   "metadata": {},
   "source": [
    "Because the values don't match, we'll force $P(\\mathrm{mRS}\\leq1, t=t_\\mathrm{ne})$ to equal 46% and scale the other bins around this movement so that they keep the same proportions.  "
   ]
  },
  {
   "cell_type": "code",
   "execution_count": 35,
   "id": "cb9a4bab",
   "metadata": {},
   "outputs": [],
   "source": [
    "mRS_ref_nlvo = 1\n",
    "p_ref_nlvo   = 0.46"
   ]
  },
  {
   "cell_type": "code",
   "execution_count": 36,
   "id": "5b9f418d-4fa8-48d8-a795-4ca77fb535db",
   "metadata": {},
   "outputs": [],
   "source": [
    "from outcome_utilities.scale_dist import scale_dist\n",
    "\n",
    "mrs_prob_dist_no_treatment_nlvo, mrs_prob_bins_no_treatment_nlvo = (\n",
    "    scale_dist(mrs_prob_bins_no_treatment_nlvo, p_ref_nlvo, \n",
    "               mRS_ref=mRS_ref_nlvo))"
   ]
  },
  {
   "cell_type": "markdown",
   "id": "29e82632-0df4-44d9-8beb-fc11c54eaead",
   "metadata": {},
   "source": [
    "__Result:__ The newly-created probability distribution:"
   ]
  },
  {
   "cell_type": "code",
   "execution_count": 37,
   "id": "9a582fc0",
   "metadata": {},
   "outputs": [
    {
     "data": {
      "text/plain": [
       "array([0.1978, 0.2622, 0.1493, 0.1554, 0.1698, 0.0655])"
      ]
     },
     "execution_count": 37,
     "metadata": {},
     "output_type": "execute_result"
    }
   ],
   "source": [
    "mrs_prob_dist_no_treatment_nlvo"
   ]
  },
  {
   "cell_type": "markdown",
   "id": "7157bf8d-82fa-47f1-8fe0-c746fd3100a2",
   "metadata": {},
   "source": [
    "The mRS$\\leq$1 bin is 0.46 as required:"
   ]
  },
  {
   "cell_type": "code",
   "execution_count": 38,
   "id": "2ff77b63",
   "metadata": {},
   "outputs": [
    {
     "data": {
      "text/plain": [
       "array([0.1978, 0.46  , 0.6093, 0.7647, 0.9345, 1.    ])"
      ]
     },
     "execution_count": 38,
     "metadata": {},
     "output_type": "execute_result"
    }
   ],
   "source": [
    "mrs_prob_bins_no_treatment_nlvo"
   ]
  },
  {
   "cell_type": "markdown",
   "id": "6e0c37ef-bb38-490a-9a93-3f51cf931aa8",
   "metadata": {},
   "source": [
    "Compare with the imported data:"
   ]
  },
  {
   "cell_type": "code",
   "execution_count": 39,
   "id": "8c15cc64-b41c-4eda-9002-ece162387a68",
   "metadata": {},
   "outputs": [
    {
     "data": {
      "text/plain": [
       "array([0.1978, 0.2622, 0.1493, 0.1554, 0.1698, 0.0655])"
      ]
     },
     "execution_count": 39,
     "metadata": {},
     "output_type": "execute_result"
    }
   ],
   "source": [
    "dict_no_treatment_nlvo['dist']"
   ]
  },
  {
   "cell_type": "markdown",
   "id": "84f4869c",
   "metadata": {},
   "source": [
    "---"
   ]
  },
  {
   "cell_type": "markdown",
   "id": "afc82309",
   "metadata": {},
   "source": [
    "### nLVO thrombolysis: t=0"
   ]
  },
  {
   "cell_type": "markdown",
   "id": "009a2b53",
   "metadata": {},
   "source": [
    "Summary: Weighted distribution of the pre-stroke and no-effect-time nLVO distributions. The weights are chosen to give $P(\\mathrm{mRS}<=1, t=0)=$ 63% (from Holodinsky et al. 2018. )"
   ]
  },
  {
   "cell_type": "markdown",
   "id": "a4fdb538-eff8-41f5-ac3b-46d20f925f92",
   "metadata": {},
   "source": [
    "Steps:\n",
    "1. Gather the known data.\n",
    "    + Probability distribution for pre-stroke patients (SAMueL-1).\n",
    "    + Probability distribution for nLVO patients treated with thrombolysis at the no-effect-time ([calculated here](#nLVO-untreated:-time-of-no-effect)).\n",
    "    + $P(\\mathrm{mRS}<=1, t=0)=$ 63% (Holodinsky et al. 2018).\n",
    "1. Calculate the weights needed to combine the two probability distributions and ensure that $P(\\mathrm{mRS}<=1, t=0)=$ 63%.\n",
    "1. Multiply the distributions by the weights and sum them. \n",
    "\n",
    "Result: A probability distribution for nLVO patients treated with thrombolysis at time zero.\n",
    " "
   ]
  },
  {
   "cell_type": "markdown",
   "id": "cb0dd0cb-a77d-42be-a150-a4a48d475317",
   "metadata": {},
   "source": [
    "__Step 1:__ Use the following imported datasets and known values:"
   ]
  },
  {
   "cell_type": "code",
   "execution_count": 40,
   "id": "c6a74909-7849-49a1-865b-6076a9b18880",
   "metadata": {},
   "outputs": [],
   "source": [
    "mrs_prob_bins_no_treatment_nlvo_oly = dict_no_treatment_nlvo_oly['bins']\n",
    "mrs_prob_dist_no_treatment_nlvo_oly = dict_no_treatment_nlvo_oly['dist']\n",
    "\n",
    "mrs_prob_bins_pre_stroke = dict_pre_stroke_nlvo['bins']\n",
    "mrs_prob_dist_pre_stroke = dict_pre_stroke_nlvo['dist']"
   ]
  },
  {
   "cell_type": "markdown",
   "id": "2e719cd9-320c-4cf5-a1df-ed97c0013e5f",
   "metadata": {},
   "source": [
    "__Step 2:__ Calculate the weights needed to give a distribution with $P(\\mathrm{mRS}<=1, t=0)=$ 63%:"
   ]
  },
  {
   "cell_type": "code",
   "execution_count": 41,
   "id": "3720ffeb",
   "metadata": {},
   "outputs": [
    {
     "name": "stdout",
     "output_type": "stream",
     "text": [
      "Weights: 0.5956,0.4044\n"
     ]
    }
   ],
   "source": [
    "target_diff  = 0.63 - mrs_prob_bins_no_treatment_nlvo_oly[1]\n",
    "current_diff = (mrs_prob_bins_pre_stroke[1] - \n",
    "                mrs_prob_bins_no_treatment_nlvo_oly[1])\n",
    "\n",
    "weight_pre_stroke_nlvo_oly   = target_diff / current_diff\n",
    "weight_no_treatment_nlvo_oly = 1.0 - weight_pre_stroke_nlvo_oly\n",
    "\n",
    "print(f'Weights: {weight_pre_stroke_nlvo_oly:.4f},' \\\n",
    "      f'{weight_no_treatment_nlvo_oly:.4f}')"
   ]
  },
  {
   "cell_type": "markdown",
   "id": "9ac761d5-6794-40b5-8db1-da35e6f82169",
   "metadata": {},
   "source": [
    "Compare these weights with the values used to create the imported data:"
   ]
  },
  {
   "cell_type": "code",
   "execution_count": 42,
   "id": "79396bd4-8386-4339-b6c2-e4ea2155fea3",
   "metadata": {},
   "outputs": [
    {
     "name": "stdout",
     "output_type": "stream",
     "text": [
      "0.5956,0.4044\n"
     ]
    }
   ],
   "source": [
    "from outcome_utilities.mRS_datasets import (weight_pre_stroke_nlvo_oly, \n",
    "                                            weight_no_treatment_nlvo_oly)\n",
    "\n",
    "print(f'{weight_pre_stroke_nlvo_oly:.4f},'\n",
    "      f'{weight_no_treatment_nlvo_oly:0.4f}')"
   ]
  },
  {
   "cell_type": "markdown",
   "id": "b04d02a8-d892-4075-855a-32f7fe79442a",
   "metadata": {},
   "source": [
    "__Step 3:__ Apply the weights:"
   ]
  },
  {
   "cell_type": "code",
   "execution_count": 43,
   "id": "7ec62820-1cc3-4c8c-9b4d-d3a7f9f9ad70",
   "metadata": {},
   "outputs": [],
   "source": [
    "mrs_prob_dist_t0_treatment_nlvo_oly = (\n",
    "    (weight_pre_stroke_nlvo_oly   * mrs_prob_dist_pre_stroke) + \n",
    "    (weight_no_treatment_nlvo_oly * mrs_prob_dist_no_treatment_nlvo_oly) )\n",
    "\n",
    "\n",
    "mrs_prob_bins_t0_treatment_nlvo_oly = np.cumsum(\n",
    "    mrs_prob_dist_t0_treatment_nlvo_oly)"
   ]
  },
  {
   "cell_type": "markdown",
   "id": "bc7340fe-0778-4724-b0d4-0db00b06d153",
   "metadata": {},
   "source": [
    "__Result:__ The newly-created probability distribution:"
   ]
  },
  {
   "cell_type": "code",
   "execution_count": 44,
   "id": "3ae70f49",
   "metadata": {},
   "outputs": [
    {
     "data": {
      "text/plain": [
       "array([0.4272, 0.2028, 0.122 , 0.1237, 0.0936, 0.0306])"
      ]
     },
     "execution_count": 44,
     "metadata": {},
     "output_type": "execute_result"
    }
   ],
   "source": [
    "mrs_prob_dist_t0_treatment_nlvo_oly"
   ]
  },
  {
   "cell_type": "markdown",
   "id": "235f5cd5-7b71-4aea-892f-680fbe9510c8",
   "metadata": {},
   "source": [
    "Now $P(\\mathrm{mRS}<=1, t=0)=$63% as required:"
   ]
  },
  {
   "cell_type": "code",
   "execution_count": 45,
   "id": "df027415",
   "metadata": {},
   "outputs": [
    {
     "data": {
      "text/plain": [
       "array([0.4272, 0.63  , 0.752 , 0.8757, 0.9694, 1.    ])"
      ]
     },
     "execution_count": 45,
     "metadata": {},
     "output_type": "execute_result"
    }
   ],
   "source": [
    "mrs_prob_bins_t0_treatment_nlvo_oly"
   ]
  },
  {
   "cell_type": "markdown",
   "id": "6e93a9a6-39c1-48d6-b48f-dffc02ff1f19",
   "metadata": {},
   "source": [
    "---"
   ]
  },
  {
   "cell_type": "markdown",
   "id": "fcb4c98a-fbd9-46ae-b6d7-567aadbc4c37",
   "metadata": {},
   "source": [
    "### LVO thrombectomy: t=0\n",
    "\n",
    "Summary: Weighted distribution of the pre-stroke and no-effect-time nLVO distributions. The weights are chosen to give $P(\\mathrm{mRS}<=2, t=0)=$ 68% (extrapolated from Fransen et al., 2016).\n",
    "\n",
    "Steps:\n",
    "1. Gather the known data.\n",
    "    + Probability distribution for pre-stroke patients (SAMueL-1).\n",
    "    + Probability distribution for LVO patients treated with thrombectomy at the no-effect-time (the control population from Goyal et al. 2016).\n",
    "    + $P(\\mathrm{mRS}<=2, t=0)=$ 68% (Extrapolation of time-effect back to t=0 from Fransen et al., 2016).\n",
    "1. Calculate the weights needed to combine the two probability distributions and ensure that $P(\\mathrm{mRS}<=2, t=0)=$ 68%.\n",
    "1. Multiply the distributions by the weights and sum them. \n",
    "\n",
    "Result: A probability distribution for LVO patients treated with thrombolysis at time zero."
   ]
  },
  {
   "cell_type": "markdown",
   "id": "76851f73-bac3-47fd-91a6-313eb127f05a",
   "metadata": {},
   "source": [
    "__Step 1:__ Use the following imported datasets and known values:"
   ]
  },
  {
   "cell_type": "code",
   "execution_count": 46,
   "id": "200a097c-a615-4a4f-ae07-424a30f755d5",
   "metadata": {},
   "outputs": [],
   "source": [
    "mrs_prob_bins_no_treatment_lvo_oly = dict_no_treatment_lvo_oly['bins']\n",
    "mrs_prob_dist_no_treatment_lvo_oly = dict_no_treatment_lvo_oly['dist']\n",
    "\n",
    "mrs_prob_bins_pre_stroke = dict_pre_stroke_lvo['bins']\n",
    "mrs_prob_dist_pre_stroke = dict_pre_stroke_lvo['dist']"
   ]
  },
  {
   "cell_type": "markdown",
   "id": "3331b379-56a5-4ef5-b592-c3014a12ee13",
   "metadata": {},
   "source": [
    "__Step 2:__ Calculate the weights needed to give a distribution with $P(\\mathrm{mRS}<=2, t=0)=$ 68%:"
   ]
  },
  {
   "cell_type": "code",
   "execution_count": 47,
   "id": "64bc40cd-bb57-4eaa-bef9-754e84c7a8d9",
   "metadata": {},
   "outputs": [
    {
     "name": "stdout",
     "output_type": "stream",
     "text": [
      "Weights: 1.0020,-0.0020\n"
     ]
    }
   ],
   "source": [
    "target_diff  = 0.68 - mrs_prob_bins_no_treatment_lvo_oly[2]\n",
    "current_diff = (mrs_prob_bins_pre_stroke[2] - \n",
    "                mrs_prob_bins_no_treatment_lvo_oly[2])\n",
    "\n",
    "weight_pre_stroke_lvo_oly   = target_diff / current_diff\n",
    "weight_no_treatment_lvo_oly = 1.0 - weight_pre_stroke_lvo_oly\n",
    "\n",
    "print(f'Weights: {weight_pre_stroke_lvo_oly:.4f},' \\\n",
    "      f'{weight_no_treatment_lvo_oly:.4f}')"
   ]
  },
  {
   "cell_type": "markdown",
   "id": "6ffa8b2f-6794-429c-a3ec-4806ba2b16c7",
   "metadata": {},
   "source": [
    "__Step 3:__ Apply the weights:"
   ]
  },
  {
   "cell_type": "code",
   "execution_count": 48,
   "id": "a60a0cb5-8bd7-45a6-b3e2-12ae4425de67",
   "metadata": {},
   "outputs": [],
   "source": [
    "mrs_prob_dist_t0_treatment_lvo_oly = (\n",
    "    (weight_pre_stroke_lvo_oly   * mrs_prob_dist_pre_stroke) + \n",
    "    (weight_no_treatment_lvo_oly * mrs_prob_dist_no_treatment_lvo_oly) )\n",
    "\n",
    "\n",
    "mrs_prob_bins_t0_treatment_lvo_oly = np.cumsum(\n",
    "    mrs_prob_dist_t0_treatment_lvo_oly)"
   ]
  },
  {
   "cell_type": "markdown",
   "id": "0c8f36d8-6957-4300-9512-43f268bdfefb",
   "metadata": {},
   "source": [
    "__Result:__ The newly-created probability distribution:"
   ]
  },
  {
   "cell_type": "code",
   "execution_count": 49,
   "id": "8e69d8ec-d899-494a-a007-ffd24c2d3efc",
   "metadata": {},
   "outputs": [
    {
     "data": {
      "text/plain": [
       "array([0.4186, 0.1431, 0.1183, 0.1641, 0.1134, 0.0425])"
      ]
     },
     "execution_count": 49,
     "metadata": {},
     "output_type": "execute_result"
    }
   ],
   "source": [
    "mrs_prob_dist_t0_treatment_lvo_oly"
   ]
  },
  {
   "cell_type": "markdown",
   "id": "ad2baa08-f5c1-47c3-9db2-9311e1c1f779",
   "metadata": {},
   "source": [
    "Now $P(\\mathrm{mRS}<=2, t=0)=$ 68% as required:"
   ]
  },
  {
   "cell_type": "code",
   "execution_count": 50,
   "id": "5e1ac8a3-7cda-4899-b5b7-2bee84529aa7",
   "metadata": {},
   "outputs": [
    {
     "data": {
      "text/plain": [
       "array([0.4186, 0.5617, 0.68  , 0.8441, 0.9575, 1.    ])"
      ]
     },
     "execution_count": 50,
     "metadata": {},
     "output_type": "execute_result"
    }
   ],
   "source": [
    "mrs_prob_bins_t0_treatment_lvo_oly"
   ]
  },
  {
   "cell_type": "markdown",
   "id": "3e662700",
   "metadata": {},
   "source": [
    "---"
   ]
  },
  {
   "cell_type": "markdown",
   "id": "beb2c7be-766b-484c-bc3e-5ae06dec78b7",
   "metadata": {},
   "source": [
    "## References\n",
    "\n",
    "Emberson J, Lees KR, Lyden P, et al. _Effect of treatment delay, age, and stroke severity on the effects of intravenous thrombolysis with alteplase for acute ischaemic stroke: A meta-analysis of individual patient data from randomised trials._ The Lancet 2014;384:1929–35. doi:10.1016/S0140-6736(14)60584-5\n",
    "\n",
    "Fransen, P., Berkhemer, O., Lingsma, H. et al. Time to Reperfusion and Treatment Effect for Acute Ischemic Stroke: A Randomized Clinical Trial. JAMA Neurol. 2016 Feb 1;73(2):190–6. DOI: 10.1001/jamaneurol.2015.3886\n",
    "\n",
    "Goyal M, Menon BK, van Zwam WH, et al. _Endovascular thrombectomy after large-vessel ischaemic stroke: a meta-analysis of individual patient data from five randomised trials._ The Lancet 2016;387:1723-1731. doi:10.1016/S0140-6736(16)00163-X\n",
    "\n",
    "Holodinsky JK, Williamson TS, Demchuk AM, et al. _Modeling Stroke Patient Transport for All Patients With Suspected Large-Vessel Occlusion._ JAMA Neurol. 2018;75(12):1477-1486. doi:10.1001/jamaneurol.2018.2424\n",
    "\n",
    "Lees KR, Bluhmki E, von Kummer R, et al. _Time to treatment with intravenous alteplase and outcome in stroke: an updated pooled analysis of ECASS, ATLANTIS, NINDS, and EPITHET trials_. The Lancet 2010;375:1695-703. doi:10.1016/S0140-6736(10)60491-6\n",
    "\n",
    "SAMueL-1 data on mRS before stroke (DOI: 10.5281/zenodo.6896710): https://samuel-book.github.io/samuel-1/descriptive_stats/08_prestroke_mrs.html"
   ]
  },
  {
   "cell_type": "markdown",
   "id": "8c1b6402-4c66-4381-8df0-278cce9bf410",
   "metadata": {},
   "source": [
    "## Appendix: tabulate all data"
   ]
  },
  {
   "cell_type": "code",
   "execution_count": 51,
   "id": "7b9a2078-d40d-41d5-bd88-c3865b4477e3",
   "metadata": {},
   "outputs": [
    {
     "name": "stdout",
     "output_type": "stream",
     "text": [
      "                       ,           , ------------------------------mRS--------------------------------\n",
      "Distribution           ,   Time    ,     0    ,     1    ,     2    ,     3    ,     4    ,     5    \n",
      "------------------------------------------------------------------------------------------------------\n",
      "Pre-stroke             , Zero      ,   0.53304,   0.15630,   0.10778,   0.12142,   0.06358,   0.01787\n",
      "Pre-stroke             , No effect ,   0.53304,   0.15630,   0.10778,   0.12142,   0.06358,   0.01787\n",
      "Pre-stroke_nlvo        , Zero      ,   0.58288,   0.16254,   0.10344,   0.10222,   0.04197,   0.00695\n",
      "Pre-stroke_nlvo        , No effect ,   0.58288,   0.16254,   0.10344,   0.10222,   0.04197,   0.00695\n",
      "Pre-stroke_lvo         , Zero      ,   0.41789,   0.14296,   0.11843,   0.16421,   0.11378,   0.04273\n",
      "Pre-stroke_lvo         , No effect ,   0.41789,   0.14296,   0.11843,   0.16421,   0.11378,   0.04273\n",
      "Haemorrhagic           , Zero      ,  -1.00000,  -1.00000,  -1.00000,  -1.00000,  -1.00000,  -1.00000\n",
      "Haemorrhagic           , No effect ,  -1.00000,  -1.00000,  -1.00000,  -1.00000,  -1.00000,  -1.00000\n",
      "nLVO/LVO combined IVT  , Zero      ,   0.45310,   0.13286,   0.14365,   0.16183,   0.08474,   0.02382\n",
      "nLVO/LVO combined IVT  , No effect ,   0.16841,   0.22914,   0.14194,   0.15825,   0.20466,   0.09759\n",
      "LVO untreated          , Zero      ,   0.06165,   0.09741,   0.16769,   0.20222,   0.30456,   0.16646\n",
      "LVO untreated          , No effect ,   0.06165,   0.09741,   0.16769,   0.20222,   0.30456,   0.16646\n",
      "LVO IVT                , Zero      ,   0.12578,   0.10561,   0.15883,   0.19538,   0.27022,   0.14419\n",
      "LVO IVT                , No effect ,   0.06165,   0.09741,   0.16769,   0.20222,   0.30456,   0.16646\n",
      "LVO MT                 , Zero      ,   0.41862,   0.14305,   0.11833,   0.16413,   0.11339,   0.04248\n",
      "LVO MT                 , No effect ,   0.06165,   0.09741,   0.16769,   0.20222,   0.30456,   0.16646\n",
      "nLVO untreated         , Zero      ,   0.19783,   0.26217,   0.14930,   0.15540,   0.16976,   0.06555\n",
      "nLVO untreated         , No effect ,   0.19783,   0.26217,   0.14930,   0.15540,   0.16976,   0.06555\n",
      "nLVO IVT               , Zero      ,   0.42717,   0.20283,   0.12198,   0.12373,   0.09365,   0.03064\n",
      "nLVO IVT               , No effect ,   0.19783,   0.26217,   0.14930,   0.15540,   0.16976,   0.06555\n"
     ]
    }
   ],
   "source": [
    "# Print the column headings:\n",
    "print(' '*23 + ',' +' '*11 + ', ' + '-'*30 + 'mRS' + '-'*32)\n",
    "header = 'Distribution           ,   Time    '\n",
    "for j in range(6):\n",
    "    header += ',' + ' '*5 + str(j) + ' '*4 \n",
    "print(header)\n",
    "print('-'*102)\n",
    "\n",
    "# Switch between printing these two times on alternate rows:\n",
    "times = ['Zero', 'No effect']\n",
    "\n",
    "# Print each row of data from the big list:\n",
    "for row in full_data_list:\n",
    "    for i,data_list in enumerate([row[0], row[1]]):\n",
    "        # Add label and time to the string:\n",
    "        p_str = f'{row[2]:23}, {times[i]:10}'\n",
    "        for j in range(6):\n",
    "            # Add this mRS value to the string, to 5 decimal places:\n",
    "            p_str += f',  {data_list[\"dist\"][j]:8.5f}'\n",
    "        print(p_str)"
   ]
  }
 ],
 "metadata": {
  "kernelspec": {
   "display_name": "Python 3 (ipykernel)",
   "language": "python",
   "name": "python3"
  },
  "language_info": {
   "codemirror_mode": {
    "name": "ipython",
    "version": 3
   },
   "file_extension": ".py",
   "mimetype": "text/x-python",
   "name": "python",
   "nbconvert_exporter": "python",
   "pygments_lexer": "ipython3",
   "version": "3.9.12"
  }
 },
 "nbformat": 4,
 "nbformat_minor": 5
}
