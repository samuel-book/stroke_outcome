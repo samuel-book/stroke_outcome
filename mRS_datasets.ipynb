{
 "cells": [
  {
   "cell_type": "markdown",
   "id": "b6a2719d",
   "metadata": {
    "pycharm": {
     "name": "#%% md\n"
    }
   },
   "source": [
    "# Defining modified Rankin Scale (mRS) probability distributions for untreated patients, and predicted distributions if treatment given at time of stroke onset"
   ]
  },
  {
   "cell_type": "markdown",
   "id": "88df6962-0969-4bd4-a0a7-78556eb577cf",
   "metadata": {
    "pycharm": {
     "name": "#%% md\n"
    }
   },
   "source": [
    "## Plain English Summary\n",
    "\n",
    "Disability levels may be measured in various ways. In this project we are using the modified Rankin Scale (mRS). It is a commonly used scale for measuring the degree of disability or dependence in the daily activities of people who have suffered a stroke.\n",
    "\n",
    "The scale runs from 0-6, running from perfect health without symptoms to death:\n",
    "\n",
    "| Score | Description |\n",
    "|---|---|\n",
    "| 0 | No symptoms. |\n",
    "| 1 | No significant disability. Able to carry out all usual activities, despite some symptoms. |\n",
    "| 2 | Slight disability. Able to look after own affairs without assistance, but unable to carry out all previous activities. |\n",
    "| 3 | Moderate disability. Requires some help, but able to walk unassisted. |\n",
    "| 4 | Moderately severe disability. Unable to attend to own bodily needs without assistance, and unable to walk unassisted. |\n",
    "| 5 | Severe disability. Requires constant nursing care and attention, bedridden, incontinent. |\n",
    "| 6 | Dead. |\n",
    "\n",
    "\n",
    "When we predict the outcome of a person who has had a stroke, we want to be able to say what is the likely improvement in disability level they would experience due to the treatment.\n",
    "\n",
    "The improvement they can get will depend on the time from when their stroke symptoms began and when they receive treatment. The best possible outcome would be if they were treated immediately after they had their stroke. The benefit of treatment reduces over time until the treatment no longer offer any benefit, and they will not be better off than having no treatment.\n",
    "\n",
    "In this notebook we describe how we estimate the spread of disability levels if treatment was given immediately after the stroke, and what the spread of disability levels would be if the treatment was given at a time when it was no longer effective. These are two key pieces of information we will later use to estimate the spread of disability levels if we know the time after stroke symptoms began when a person was treated with either thrombolysis (clot-busting medication) or thrombectomy (physical removal of a clot). "
   ]
  },
  {
   "cell_type": "markdown",
   "id": "a6df60fa-2b72-4850-9ee4-480df7e19c0a",
   "metadata": {
    "pycharm": {
     "name": "#%% md\n"
    }
   },
   "source": [
    "## Aims"
   ]
  },
  {
   "cell_type": "markdown",
   "id": "8ea200a2-2d8d-4683-beb4-827e1079c1ce",
   "metadata": {
    "pycharm": {
     "name": "#%% md\n"
    }
   },
   "source": [
    "We define probability distributions at times from onset to treatment of zero hours, and of the no-effect time, $t_{ne}$. Any data sets containing mRS=6 (death) have the associated probability $P(\\mathrm{mRS}=6)$ removed, and the remaining values are normalised so that $P(\\mathrm{mRS}\\leq5)=1.0$.\n",
    "\n",
    "All of the probability distributions are plotted here as stacked horizontal bars.\n",
    "\n",
    "Most of the data is taken directly from the source, but some of the probability distributions here have been calculated from multiple data sets. These more complicated distributions are derived later on in this notebook."
   ]
  },
  {
   "cell_type": "markdown",
   "id": "64da81f9-e347-4509-86eb-78a48b50ec8d",
   "metadata": {
    "pycharm": {
     "name": "#%% md\n"
    }
   },
   "source": [
    "## Descriptions of the mRS data sets used here:"
   ]
  },
  {
   "cell_type": "markdown",
   "id": "db9f8ec0",
   "metadata": {
    "pycharm": {
     "name": "#%% md\n"
    },
    "tags": []
   },
   "source": [
    "| Description | Time zero | No-effect time (no treatment) | \n",
    "| :-- | :-- | :-- |\n",
    "| Pre-stroke | The estimated pre-stroke mRS scores from SSNAP data, as used in the SAMueL-1 project. | N/A |\n",
    "| Haemorrhaegic | N/A | N/A|\n",
    "| nLVO - untreated | N/A | [Explained here](#nLVO-untreated:-time-of-no-effect). The weighted combination of the no-effect-time nLVO and LVO combined data from Lees et al. 2010 (100%) and the no-effect-time LVO-only data (minus 23%, taken as the incidence of LVO in all ischaamic strokes using NIHSS >10 in SAMueL data), then further scaled to match $P(\\mathrm{mRS}\\leq1, t=t_\\mathrm{ne})=0.46$ from Holodinsky et al. 2018. |\n",
    "| nLVO - thrombolysis | [Explained here](#nLVO-thrombolysis:-t=0). The weighted combination of pre-stroke (87%) and untreated nLVO at no-effect-time (13%), where weights are chosen to match the $P(\\mathrm{mRS}\\leq1, t=0)=0.63$ from Holodinsky et al. 2018. | Same as above. |\n",
    "| LVO - untreated | N/A | The control population from Goyal et al. 2016. |\n",
    "| LVO - thrombolysis only | [Explained here](#LVO-thrombolysis-only:-t=0). Weighted combination of the no-effect-time LVO data (82%) and the pre-stroke data (18%). | Same as above. |\n",
    "| LVO - thrombectomy <br /> with/out thrombolysis | [Explained here](#LVO-thrombectomy:-t=0). The weighted combination of pre-stroke (75%) and untreated LVO at no-effect-time (25%), where weights are chosen to match the predicted $P(\\mathrm{mRS}\\leq2, t=0)=0.68$ from Fransen et al. 2016. | Same as above. | "
   ]
  },
  {
   "cell_type": "markdown",
   "id": "b8a4a68a-e1d0-4393-b933-ce8f9e5cc748",
   "metadata": {
    "pycharm": {
     "name": "#%% md\n"
    }
   },
   "source": [
    "[References can be found here.](#References)"
   ]
  },
  {
   "cell_type": "markdown",
   "id": "f37e4180-d550-4070-8f0f-07e31142c668",
   "metadata": {
    "pycharm": {
     "name": "#%% md\n"
    }
   },
   "source": [
    "---"
   ]
  },
  {
   "cell_type": "markdown",
   "id": "d088757c-5ba1-4caa-b085-a52232bbf7de",
   "metadata": {
    "pycharm": {
     "name": "#%% md\n"
    }
   },
   "source": [
    "## Notebook admin"
   ]
  },
  {
   "cell_type": "code",
   "execution_count": 1,
   "id": "38dd8b9d",
   "metadata": {
    "pycharm": {
     "name": "#%%\n"
    }
   },
   "outputs": [],
   "source": [
    "# Keep notebook cleaner once finalised\n",
    "import warnings\n",
    "warnings.filterwarnings('ignore')"
   ]
  },
  {
   "cell_type": "code",
   "execution_count": 2,
   "id": "7e253275",
   "metadata": {
    "pycharm": {
     "name": "#%%\n"
    }
   },
   "outputs": [],
   "source": [
    "# Import packages\n",
    "import numpy as np\n",
    "import matplotlib\n",
    "import matplotlib.pyplot as plt\n",
    "import pandas as pd"
   ]
  },
  {
   "cell_type": "code",
   "execution_count": 3,
   "id": "d84aa344",
   "metadata": {
    "pycharm": {
     "name": "#%%\n"
    }
   },
   "outputs": [],
   "source": [
    "# Set up MatPlotLib\n",
    "%matplotlib inline\n",
    "# Change default colour scheme:\n",
    "#plt.style.use('seaborn-colorblind')"
   ]
  },
  {
   "cell_type": "code",
   "execution_count": 4,
   "id": "35a1cd0d-5cdb-483e-b971-3316e421db21",
   "metadata": {
    "pycharm": {
     "name": "#%%\n"
    }
   },
   "outputs": [],
   "source": [
    "# Set NumPy to pront 4 decimal places\n",
    "np.set_printoptions(precision=4)"
   ]
  },
  {
   "cell_type": "markdown",
   "id": "638eb3d7-0524-4ce3-9c58-156524158685",
   "metadata": {
    "pycharm": {
     "name": "#%% md\n"
    }
   },
   "source": [
    "---"
   ]
  },
  {
   "cell_type": "markdown",
   "id": "a4209bd8-1381-4d7e-8b68-e55799da4933",
   "metadata": {
    "pycharm": {
     "name": "#%% md\n"
    }
   },
   "source": [
    "## Import data"
   ]
  },
  {
   "cell_type": "markdown",
   "id": "2789ec4a-f5bf-4689-b7ba-011898f9d9d4",
   "metadata": {
    "pycharm": {
     "name": "#%% md\n"
    }
   },
   "source": [
    "The mRS probability distributions are stored in dictionaries in a file."
   ]
  },
  {
   "cell_type": "markdown",
   "id": "c69c0434-15e1-44ee-9050-7d2e433df926",
   "metadata": {
    "pycharm": {
     "name": "#%% md\n"
    }
   },
   "source": [
    "The dictionaries are named using these strings:\n",
    "+ `t0_treatment` - data from time $t=0$hr\n",
    "+ `no_treatment` - data from the no-effect time $t=t_{ne}$\n",
    "+ `lvo` - large-vessel occlusion\n",
    "+ `nlvo` - non-large-vessel occlusion\n",
    "+ `ich` - intra-cerebral haemorrhaege\n",
    "+ `pre-stroke` - data recorded before the onset of stroke (all patients)\n",
    "+ `pre-stroke_nlvo` - data recorded before the onset of stroke (NIHSS 0-10)\n",
    "+ `pre-stroke_lvo` - data recorded before the onset of stroke (NIHSS 11+)\n",
    "+ `oly` - thromb**oly**sis used\n",
    "+ `ect` - thromb**ect**omy used.\n",
    "\n",
    "Each dictionary contains an entry for:\n",
    "+ `dist_mrs6` - mRS distribution including mRS=6. If the mRS=6 data is unknown, it is set to 0. \n",
    "+ `dist` - mRS distribution excluding mRS=6.\n",
    "+ `bins` - cumulative probabilities of `dist`."
   ]
  },
  {
   "cell_type": "markdown",
   "id": "25a4710d-7a5d-45e7-9d0a-ef4536e14c47",
   "metadata": {
    "pycharm": {
     "name": "#%% md\n"
    }
   },
   "source": [
    "We import the data corresponding to the table above from `mRS_datasets.py` in the `outcome_utilities` directory:"
   ]
  },
  {
   "cell_type": "code",
   "execution_count": 5,
   "id": "71d44464-5cc7-40e8-b707-1162c89a5176",
   "metadata": {
    "pycharm": {
     "name": "#%%\n"
    }
   },
   "outputs": [],
   "source": [
    "from outcome_utilities.mRS_datasets import (\n",
    "    dict_pre_stroke, dict_pre_stroke_nlvo, dict_pre_stroke_lvo,\n",
    "    dict_t0_treatment_ich,      dict_no_treatment_ich, \n",
    "    dict_t0_treatment_nlvo_lvo, dict_no_treatment_nlvo_lvo,\n",
    "    dict_t0_treatment_lvo,      dict_no_treatment_lvo,\n",
    "    dict_t0_treatment_lvo_ivt,  dict_no_treatment_lvo_ivt,\n",
    "    dict_t0_treatment_lvo_mt,  dict_no_treatment_lvo_mt,\n",
    "    dict_t0_treatment_nlvo,     dict_no_treatment_nlvo, \n",
    "    dict_t0_treatment_nlvo_ivt, dict_no_treatment_nlvo_ivt)"
   ]
  },
  {
   "cell_type": "markdown",
   "id": "5fa1137d-bd9e-43d8-87f8-648d9531fa12",
   "metadata": {
    "pycharm": {
     "name": "#%% md\n"
    }
   },
   "source": [
    "__Invalid data:__"
   ]
  },
  {
   "cell_type": "markdown",
   "id": "4168b62f-7b95-418e-9ad2-233be5f82aef",
   "metadata": {
    "pycharm": {
     "name": "#%% md\n"
    }
   },
   "source": [
    "Some of the probability distributions are unknown. In these cases, we fill the arrays with placeholder negative values. For example, we have no data for intra-cerebral haemorrhaege at time zero:"
   ]
  },
  {
   "cell_type": "code",
   "execution_count": 6,
   "id": "b84705b0-d3f0-4907-864e-fa6c91392a75",
   "metadata": {
    "pycharm": {
     "name": "#%%\n"
    }
   },
   "outputs": [
    {
     "data": {
      "text/plain": [
       "array([-1, -1, -1, -1, -1, -1, -1])"
      ]
     },
     "execution_count": 6,
     "metadata": {},
     "output_type": "execute_result"
    }
   ],
   "source": [
    "dict_t0_treatment_ich['dist_mrs6']"
   ]
  },
  {
   "cell_type": "markdown",
   "id": "cb03e564-8265-475e-856a-3d6fa241ce36",
   "metadata": {
    "pycharm": {
     "name": "#%% md\n"
    }
   },
   "source": [
    "Since we never ordinarily expect negative probabilities, seeing a negative number in one of the lists is an indication that the data is invalid."
   ]
  },
  {
   "cell_type": "markdown",
   "id": "2e9922de-900a-4336-98a5-403a63f4b066",
   "metadata": {
    "pycharm": {
     "name": "#%% md\n"
    }
   },
   "source": [
    "---"
   ]
  },
  {
   "cell_type": "markdown",
   "id": "d787c487-b808-4e64-a8ce-94b126986645",
   "metadata": {
    "pycharm": {
     "name": "#%% md\n"
    }
   },
   "source": [
    "## Plot the data"
   ]
  },
  {
   "cell_type": "markdown",
   "id": "5dfb3f69-a68c-430d-ad2f-ad7c0ad8ddfa",
   "metadata": {
    "pycharm": {
     "name": "#%% md\n"
    }
   },
   "source": [
    "For our convenience in this notebook, we'll gather all of the imported data into one big list:"
   ]
  },
  {
   "cell_type": "code",
   "execution_count": 7,
   "id": "4b2d60b5-370b-40e8-a794-951c7adb246d",
   "metadata": {
    "pycharm": {
     "name": "#%%\n"
    }
   },
   "outputs": [],
   "source": [
    "full_data_list = [\n",
    "    [dict_pre_stroke,            dict_pre_stroke,            'Pre-stroke'],\n",
    "    [dict_pre_stroke_nlvo,       dict_pre_stroke_nlvo,       'Pre-stroke_nlvo'],\n",
    "    [dict_pre_stroke_lvo,        dict_pre_stroke_lvo,        'Pre-stroke_lvo'],\n",
    "    [dict_t0_treatment_ich,      dict_no_treatment_ich,      'Haemorrhagic'],\n",
    "    [dict_t0_treatment_nlvo_lvo, dict_no_treatment_nlvo_lvo, 'nLVO/LVO combined IVT'],\n",
    "    [dict_t0_treatment_lvo,      dict_no_treatment_lvo,      'LVO untreated'],\n",
    "    [dict_t0_treatment_lvo_ivt,  dict_no_treatment_lvo_ivt,  'LVO IVT'],\n",
    "    [dict_t0_treatment_lvo_mt,  dict_no_treatment_lvo_mt,  'LVO MT'],\n",
    "    [dict_t0_treatment_nlvo,     dict_no_treatment_nlvo,     'nLVO untreated'],\n",
    "    [dict_t0_treatment_nlvo_ivt, dict_no_treatment_nlvo_ivt, 'nLVO IVT']\n",
    "    ]"
   ]
  },
  {
   "cell_type": "markdown",
   "id": "c7299184-7ace-46cc-ab2c-93f9054ece74",
   "metadata": {
    "pycharm": {
     "name": "#%% md\n"
    }
   },
   "source": [
    "### Stacked bars"
   ]
  },
  {
   "cell_type": "markdown",
   "id": "da9b1a47-d2d1-4789-8a56-a9e39d211e6b",
   "metadata": {
    "pycharm": {
     "name": "#%% md\n"
    }
   },
   "source": [
    "Define a function for plotting the stacked horizontal bar:"
   ]
  },
  {
   "cell_type": "code",
   "execution_count": 8,
   "id": "335e8b5a-db68-4e86-be42-be19e5165ae5",
   "metadata": {
    "pycharm": {
     "name": "#%%\n"
    }
   },
   "outputs": [],
   "source": [
    "def draw_horizontal_bar(dist,label=''):\n",
    "    \"\"\"\n",
    "    Draw a stacked horizontal bar chart of the values in 'dist'.\n",
    "    \n",
    "    dist  - list or np.array. The probability distribution \n",
    "            (non-cumulative).\n",
    "    label - string. The name printed next to these stacked bars.\n",
    "    \"\"\"\n",
    "    cmap = matplotlib.cm.get_cmap('Set1')\n",
    "    # The first bar will start at this point on the x-axis:\n",
    "    left = 0\n",
    "    for i in range(len(dist)):\n",
    "        # Draw a bar starting from 'left', the end of the previous bar,\n",
    "        # with a width equal to the probability of this mRS:\n",
    "        plt.barh(label, width=dist[i], left=left, height=0.5, \n",
    "                 label=f'{i}', edgecolor='k', color=cmap(i))\n",
    "        # Update 'left' with the width of the current bar so that the \n",
    "        # next bar drawn will start in the correct place.    \n",
    "        left += dist[i]"
   ]
  },
  {
   "cell_type": "code",
   "execution_count": 9,
   "id": "48f5b393-a28a-497e-acdc-0c889cfd34e4",
   "metadata": {
    "pycharm": {
     "name": "#%%\n"
    }
   },
   "outputs": [],
   "source": [
    "def draw_connections(dist_t0, dist_tne, top_tne=0.25, bottom_t0=0.75):\n",
    "    \"\"\"\n",
    "    Draw lines connecting the mRS bins in the top and bottom rows.\n",
    "    \n",
    "    dist_t0, dist_tne - lists or arrays. Probability distributions.\n",
    "    top_tne, bottom_t0 - floats. y-coordinates just inside the bars. \n",
    "    \"\"\"\n",
    "    left_t0   = 0.0\n",
    "    left_tne  = 0.0\n",
    "    for i, d_t0 in enumerate(dict_t0['dist_mrs6']):\n",
    "        left_t0  +=  dict_t0['dist_mrs6'][i]\n",
    "        left_tne += dict_tne['dist_mrs6'][i]\n",
    "        plt.plot([left_t0,left_tne],[bottom_t0,top_tne],color='k')"
   ]
  },
  {
   "cell_type": "markdown",
   "id": "b72da8e4-2646-4741-8ad8-4b4b71643984",
   "metadata": {
    "pycharm": {
     "name": "#%% md\n"
    }
   },
   "source": [
    "Run through each row of the full data list in turn and plot its data:"
   ]
  },
  {
   "cell_type": "code",
   "execution_count": 10,
   "id": "04e5c0a9-6048-40dd-9b71-dd2b6da21374",
   "metadata": {
    "pycharm": {
     "name": "#%%\n"
    }
   },
   "outputs": [
    {
     "data": {
      "image/png": "[encoded data removed]",
      "text/plain": [
       "<Figure size 432x288 with 1 Axes>"
      ]
     },
     "metadata": {
      "needs_background": "light"
     },
     "output_type": "display_data"
    },
    {
     "data": {
      "image/png": "[encoded data removed]",
      "text/plain": [
       "<Figure size 432x288 with 1 Axes>"
      ]
     },
     "metadata": {
      "needs_background": "light"
     },
     "output_type": "display_data"
    },
    {
     "data": {
      "image/png": "[encoded data removed]",
      "text/plain": [
       "<Figure size 432x288 with 1 Axes>"
      ]
     },
     "metadata": {
      "needs_background": "light"
     },
     "output_type": "display_data"
    }
   ],
   "source": [
    "for data_list in full_data_list:\n",
    "    \n",
    "    dict_t0  = data_list[0]\n",
    "    dict_tne = data_list[1]\n",
    "    label    = data_list[2]\n",
    "    \n",
    "    # Only plot specific treatments\n",
    "    if label in ['LVO IVT', 'LVO MT', 'nLVO IVT', 'nLVO and LVO combined IVT']:\n",
    "            \n",
    "        draw_horizontal_bar(dict_tne['dist_mrs6'], 'no effect time')\n",
    "\n",
    "        # Add legend now to prevent doubling all the labels:\n",
    "        plt.legend(loc='center',ncol=7, title='mRS', \n",
    "                   bbox_to_anchor=[0.5,0.0,0.0,-0.5])   # Legend below axis.\n",
    "\n",
    "        draw_horizontal_bar(dict_t0['dist_mrs6'], 't=0hr')\n",
    "\n",
    "        # Draw connecting lines between the two mRS groups:\n",
    "        if np.sum(dict_t0['dist_mrs6'])>0 and np.sum(dict_tne['dist_mrs6'])>0:\n",
    "            draw_connections(dict_t0['dist_mrs6'], dict_tne['dist_mrs6'])\n",
    "      \n",
    "        plt.xlabel('Probability')\n",
    "        plt.title(label)\n",
    "        plt.xlim(0,1)\n",
    "        plt.savefig(f'./images/{label}.jpg', dpi=300, bbox_inches='tight', \n",
    "            pad_inches=0.2)\n",
    "        plt.show()"
   ]
  },
  {
   "cell_type": "code",
   "execution_count": 11,
   "id": "b635a486-323a-43d9-8998-72ad46e172a6",
   "metadata": {
    "pycharm": {
     "name": "#%%\n"
    }
   },
   "outputs": [],
   "source": [
    "combine_data = dict()\n",
    "for row in full_data_list:\n",
    "    stroke_type = row[-1]\n",
    "    if stroke_type in ['LVO IVT', 'LVO MT', 'nLVO IVT', 'nLVO and LVO combined IVT']:\n",
    "        index = (stroke_type, 't0')\n",
    "        combine_data[index] = row[0]['dist_mrs6']\n",
    "        index = (stroke_type, 'no_effect')\n",
    "        combine_data[index] = row[1]['dist_mrs6']\n",
    "df = pd.DataFrame(combine_data).T\n",
    "index_labels = ['stroke_type', 'effect']\n",
    "df.index.names = index_labels"
   ]
  },
  {
   "cell_type": "markdown",
   "id": "60cb8b86-4f68-4c9f-b877-a9bf77942bae",
   "metadata": {
    "pycharm": {
     "name": "#%% md\n"
    }
   },
   "source": [
    "## Tabulate and save key treatment data"
   ]
  },
  {
   "cell_type": "code",
   "execution_count": 12,
   "id": "879e789e-6954-4dbf-b54c-b5c4992e7559",
   "metadata": {
    "pycharm": {
     "name": "#%%\n"
    }
   },
   "outputs": [],
   "source": [
    "combine_data = dict()\n",
    "for row in full_data_list:\n",
    "    stroke_type = row[-1]\n",
    "    if stroke_type in ['LVO IVT', 'LVO MT', 'nLVO IVT', 'nLVO and LVO combined IVT']:\n",
    "        index = (stroke_type, 't0')\n",
    "        combine_data[index] = row[0]['dist_mrs6']\n",
    "        index = (stroke_type, 'no_effect')\n",
    "        combine_data[index] = row[1]['dist_mrs6']\n",
    "df = pd.DataFrame(combine_data).T\n",
    "index_labels = ['stroke_type', 'effect']\n",
    "df.index.names = index_labels\n",
    "df.to_csv('./outcome_utilities/mrs_dist.csv')"
   ]
  },
  {
   "cell_type": "code",
   "execution_count": 13,
   "id": "2669ee95-ae0d-4401-8050-2b81f9819263",
   "metadata": {
    "pycharm": {
     "name": "#%%\n"
    }
   },
   "outputs": [
    {
     "data": {
      "text/html": [
       "<div>\n",
       "<style scoped>\n",
       "    .dataframe tbody tr th:only-of-type {\n",
       "        vertical-align: middle;\n",
       "    }\n",
       "\n",
       "    .dataframe tbody tr th {\n",
       "        vertical-align: top;\n",
       "    }\n",
       "\n",
       "    .dataframe thead th {\n",
       "        text-align: right;\n",
       "    }\n",
       "</style>\n",
       "<table border=\"1\" class=\"dataframe\">\n",
       "  <thead>\n",
       "    <tr style=\"text-align: right;\">\n",
       "      <th></th>\n",
       "      <th></th>\n",
       "      <th>0</th>\n",
       "      <th>1</th>\n",
       "      <th>2</th>\n",
       "      <th>3</th>\n",
       "      <th>4</th>\n",
       "      <th>5</th>\n",
       "      <th>6</th>\n",
       "    </tr>\n",
       "    <tr>\n",
       "      <th>stroke_type</th>\n",
       "      <th>effect</th>\n",
       "      <th></th>\n",
       "      <th></th>\n",
       "      <th></th>\n",
       "      <th></th>\n",
       "      <th></th>\n",
       "      <th></th>\n",
       "      <th></th>\n",
       "    </tr>\n",
       "  </thead>\n",
       "  <tbody>\n",
       "    <tr>\n",
       "      <th rowspan=\"2\" valign=\"top\">LVO IVT</th>\n",
       "      <th>t0</th>\n",
       "      <td>0.116221</td>\n",
       "      <td>0.090513</td>\n",
       "      <td>0.132837</td>\n",
       "      <td>0.164038</td>\n",
       "      <td>0.22302</td>\n",
       "      <td>0.118392</td>\n",
       "      <td>0.15498</td>\n",
       "    </tr>\n",
       "    <tr>\n",
       "      <th>no_effect</th>\n",
       "      <td>0.05</td>\n",
       "      <td>0.079</td>\n",
       "      <td>0.136</td>\n",
       "      <td>0.164</td>\n",
       "      <td>0.247</td>\n",
       "      <td>0.135</td>\n",
       "      <td>0.189</td>\n",
       "    </tr>\n",
       "    <tr>\n",
       "      <th rowspan=\"2\" valign=\"top\">LVO MT</th>\n",
       "      <th>t0</th>\n",
       "      <td>0.325921</td>\n",
       "      <td>0.126969</td>\n",
       "      <td>0.122823</td>\n",
       "      <td>0.164158</td>\n",
       "      <td>0.147081</td>\n",
       "      <td>0.065798</td>\n",
       "      <td>0.04725</td>\n",
       "    </tr>\n",
       "    <tr>\n",
       "      <th>no_effect</th>\n",
       "      <td>0.05</td>\n",
       "      <td>0.079</td>\n",
       "      <td>0.136</td>\n",
       "      <td>0.164</td>\n",
       "      <td>0.247</td>\n",
       "      <td>0.135</td>\n",
       "      <td>0.189</td>\n",
       "    </tr>\n",
       "    <tr>\n",
       "      <th rowspan=\"2\" valign=\"top\">nLVO IVT</th>\n",
       "      <th>t0</th>\n",
       "      <td>0.426592</td>\n",
       "      <td>0.203408</td>\n",
       "      <td>0.10733</td>\n",
       "      <td>0.110477</td>\n",
       "      <td>0.08523</td>\n",
       "      <td>0.03093</td>\n",
       "      <td>0.036034</td>\n",
       "    </tr>\n",
       "    <tr>\n",
       "      <th>no_effect</th>\n",
       "      <td>0.196394</td>\n",
       "      <td>0.263606</td>\n",
       "      <td>0.113059</td>\n",
       "      <td>0.122634</td>\n",
       "      <td>0.148942</td>\n",
       "      <td>0.066257</td>\n",
       "      <td>0.089108</td>\n",
       "    </tr>\n",
       "  </tbody>\n",
       "</table>\n",
       "</div>"
      ],
      "text/plain": [
       "                              0         1         2         3         4  \\\n",
       "stroke_type effect                                                        \n",
       "LVO IVT     t0         0.116221  0.090513  0.132837  0.164038   0.22302   \n",
       "            no_effect      0.05     0.079     0.136     0.164     0.247   \n",
       "LVO MT      t0         0.325921  0.126969  0.122823  0.164158  0.147081   \n",
       "            no_effect      0.05     0.079     0.136     0.164     0.247   \n",
       "nLVO IVT    t0         0.426592  0.203408   0.10733  0.110477   0.08523   \n",
       "            no_effect  0.196394  0.263606  0.113059  0.122634  0.148942   \n",
       "\n",
       "                              5         6  \n",
       "stroke_type effect                         \n",
       "LVO IVT     t0         0.118392   0.15498  \n",
       "            no_effect     0.135     0.189  \n",
       "LVO MT      t0         0.065798   0.04725  \n",
       "            no_effect     0.135     0.189  \n",
       "nLVO IVT    t0          0.03093  0.036034  \n",
       "            no_effect  0.066257  0.089108  "
      ]
     },
     "execution_count": 13,
     "metadata": {},
     "output_type": "execute_result"
    }
   ],
   "source": [
    "df"
   ]
  },
  {
   "cell_type": "markdown",
   "id": "8b57cf77",
   "metadata": {
    "pycharm": {
     "name": "#%% md\n"
    }
   },
   "source": [
    "---"
   ]
  },
  {
   "cell_type": "markdown",
   "id": "14e17147-b37a-4979-a54a-2327dccc4693",
   "metadata": {
    "pycharm": {
     "name": "#%% md\n"
    }
   },
   "source": [
    "# Distributions that require further explanation"
   ]
  },
  {
   "cell_type": "markdown",
   "id": "e6720f79",
   "metadata": {
    "pycharm": {
     "name": "#%% md\n"
    }
   },
   "source": [
    "---"
   ]
  },
  {
   "cell_type": "markdown",
   "id": "33e0cd5b",
   "metadata": {
    "pycharm": {
     "name": "#%% md\n"
    }
   },
   "source": [
    "## LVO thrombolysis only: t=0"
   ]
  },
  {
   "cell_type": "markdown",
   "id": "205e6a73",
   "metadata": {
    "pycharm": {
     "name": "#%% md\n"
    }
   },
   "source": [
    "Summary: Weighted distribution of 18% full effect (using the time zero pre-stroke distribution) with 82% no effect (using the no-effect-time LVO distribution), as in Holodinsky et al. 2018. "
   ]
  },
  {
   "cell_type": "markdown",
   "id": "872525b7-f59f-4dbd-ad63-a9150c453cff",
   "metadata": {
    "pycharm": {
     "name": "#%% md\n"
    }
   },
   "source": [
    "Steps:\n",
    "1. Gather the known data.\n",
    "    + Pre-stroke probability distribution\n",
    "    + No-effect LVO probability distribution\n",
    "    + Weights of 18% and 82% respectively.\n",
    "1. Multiply each distribution by its weighting, and then sum the two weighted distributions.\n",
    " \n",
    "Result: Probability distribution at time zero for the LVO patients treated with thrombolysis."
   ]
  },
  {
   "cell_type": "markdown",
   "id": "954172d8-4fae-4363-bdd1-4b402d700ba9",
   "metadata": {
    "pycharm": {
     "name": "#%% md\n"
    }
   },
   "source": [
    "__Step 1:__ Use the following imported datasets and known values: "
   ]
  },
  {
   "cell_type": "code",
   "execution_count": 14,
   "id": "2b2a7225-ca68-4d97-909b-1b1af2e096b1",
   "metadata": {
    "pycharm": {
     "name": "#%%\n"
    }
   },
   "outputs": [],
   "source": [
    "mrs_prob_dist_pre_stroke = dict_pre_stroke_lvo['dist_mrs6']\n",
    "mrs_prob_dist_no_treatment_lvo = dict_no_treatment_lvo['dist_mrs6']"
   ]
  },
  {
   "cell_type": "code",
   "execution_count": 15,
   "id": "8065b395-9173-41e5-8b96-c5254f320202",
   "metadata": {
    "pycharm": {
     "name": "#%%\n"
    }
   },
   "outputs": [
    {
     "name": "stdout",
     "output_type": "stream",
     "text": [
      "Weighting for pre-stroke data: 0.18\n",
      "Weighting for untreated LVO data: 0.82\n"
     ]
    }
   ],
   "source": [
    "from outcome_utilities.mRS_datasets import (\n",
    "    weight_pre_stroke_lvo_ivt, weight_no_treatment_lvo_ivt)\n",
    "\n",
    "print('Weighting for pre-stroke data:',    weight_pre_stroke_lvo_ivt)\n",
    "print('Weighting for untreated LVO data:', weight_no_treatment_lvo_ivt)"
   ]
  },
  {
   "cell_type": "markdown",
   "id": "5d79da44-e5d5-409d-ae7f-d30cc6dfd20c",
   "metadata": {
    "pycharm": {
     "name": "#%% md\n"
    }
   },
   "source": [
    "__Step 2:__ Apply the weights:"
   ]
  },
  {
   "cell_type": "code",
   "execution_count": 16,
   "id": "dee1793d",
   "metadata": {
    "pycharm": {
     "name": "#%%\n"
    }
   },
   "outputs": [],
   "source": [
    "mrs_prob_dist_t0_treatment_lvo_ivt = (\n",
    "    (weight_pre_stroke_lvo_ivt   * mrs_prob_dist_pre_stroke) +\n",
    "    (weight_no_treatment_lvo_ivt * mrs_prob_dist_no_treatment_lvo) )"
   ]
  },
  {
   "cell_type": "markdown",
   "id": "d8dc8184-2b56-4a86-8a2b-54f4531fb472",
   "metadata": {
    "pycharm": {
     "name": "#%% md\n"
    }
   },
   "source": [
    "__Result:__ The newly-created time zero probability distribution:"
   ]
  },
  {
   "cell_type": "code",
   "execution_count": 17,
   "id": "9992bc49",
   "metadata": {
    "pycharm": {
     "name": "#%%\n"
    }
   },
   "outputs": [
    {
     "data": {
      "text/plain": [
       "[0.1162, 0.0905, 0.1328, 0.164, 0.223, 0.1184, 0.155]"
      ]
     },
     "execution_count": 17,
     "metadata": {},
     "output_type": "execute_result"
    }
   ],
   "source": [
    "[np.round(x, 4) for x in mrs_prob_dist_t0_treatment_lvo_ivt]"
   ]
  },
  {
   "cell_type": "markdown",
   "id": "ae8f2bf1-a2dc-4643-94c6-534e6c94d161",
   "metadata": {
    "pycharm": {
     "name": "#%% md\n"
    }
   },
   "source": [
    "Compare this with the imported distribution:"
   ]
  },
  {
   "cell_type": "code",
   "execution_count": 18,
   "id": "b45c4a41-2b74-4887-9303-fe7ffee24e4a",
   "metadata": {
    "pycharm": {
     "name": "#%%\n"
    }
   },
   "outputs": [
    {
     "data": {
      "text/plain": [
       "[0.1162, 0.0905, 0.1328, 0.164, 0.223, 0.1184, 0.155]"
      ]
     },
     "execution_count": 18,
     "metadata": {},
     "output_type": "execute_result"
    }
   ],
   "source": [
    "[np.round(x, 4) for x in dict_t0_treatment_lvo_ivt['dist_mrs6']]"
   ]
  },
  {
   "cell_type": "markdown",
   "id": "16360d8e",
   "metadata": {
    "pycharm": {
     "name": "#%% md\n"
    }
   },
   "source": [
    "---"
   ]
  },
  {
   "cell_type": "markdown",
   "id": "542baceb",
   "metadata": {
    "pycharm": {
     "name": "#%% md\n"
    }
   },
   "source": [
    "## nLVO untreated: time of no effect"
   ]
  },
  {
   "cell_type": "markdown",
   "id": "5778add2",
   "metadata": {
    "pycharm": {
     "name": "#%% md\n"
    }
   },
   "source": [
    "Summary: Estimate from weighted subtraction of the no-effect LVO data from the no-effect combined nLVO and LVO data, and then scale the resulting distribution using a known data point $P(\\mathrm{mRS}\\leq1, t=t_\\mathrm{ne})=0.46$."
   ]
  },
  {
   "cell_type": "markdown",
   "id": "8bb3ae15-1b97-45b2-9843-ab4ae5d68956",
   "metadata": {
    "pycharm": {
     "name": "#%% md\n"
    }
   },
   "source": [
    "Steps:\n",
    "1. Gather the available data.\n",
    "    + Probability distribution for no-effect-time combined nLVO and LVO (Lees et al. 2010).\n",
    "    + Probability distribution for no-effect-time LVO (Goyal et al. 2016).\n",
    "    + Weights of 100% and -23% respectively (proportion of ischaemic strokes with NIHSS >10 in SAMueL data). \n",
    "    + $P(\\mathrm{mRS}\\leq1, t=t_\\mathrm{ne})=0.46$ (Holodinsky et al. 2018).\n",
    "1. Multiply the distributions by their weights, sum the two, and normalise.\n",
    "1. Force the calculated $P(\\mathrm{mRS}\\leq1, t=t_\\mathrm{ne})$ to equal 46% and scale the other bins around this value using `scale_dist()`.\n",
    " \n",
    "Result: No-effect-time probability distribution for untreated nLVOs."
   ]
  },
  {
   "cell_type": "markdown",
   "id": "3fdddb84-6730-4a39-b17c-e7689cc94b3e",
   "metadata": {
    "pycharm": {
     "name": "#%% md\n"
    }
   },
   "source": [
    "__Step 1:__ Use the following imported datasets and known values:"
   ]
  },
  {
   "cell_type": "code",
   "execution_count": 19,
   "id": "934ea427-83b0-4cdb-af1e-19a871635189",
   "metadata": {
    "pycharm": {
     "name": "#%%\n"
    }
   },
   "outputs": [],
   "source": [
    "mrs_prob_dist_no_treatment_nlvo_lvo = dict_no_treatment_nlvo_lvo['dist_mrs6']\n",
    "mrs_prob_dist_no_treatment_lvo      = dict_no_treatment_lvo['dist_mrs6']"
   ]
  },
  {
   "cell_type": "code",
   "execution_count": 20,
   "id": "fdc956af-c2ed-4cb7-9510-890005c2fd9a",
   "metadata": {
    "pycharm": {
     "name": "#%%\n"
    }
   },
   "outputs": [
    {
     "name": "stdout",
     "output_type": "stream",
     "text": [
      "Weights:\n",
      "untreated nLVO and LVO data: 1.0\n",
      "untreated LVO data:          -0.23\n"
     ]
    }
   ],
   "source": [
    "from outcome_utilities.mRS_datasets import (\n",
    "    weight_no_treatment_nlvo_lvo, weight_no_treatment_lvo)\n",
    "\n",
    "print('Weights:')\n",
    "print('untreated nLVO and LVO data:', weight_no_treatment_nlvo_lvo)\n",
    "print('untreated LVO data:         ', weight_no_treatment_lvo)"
   ]
  },
  {
   "cell_type": "markdown",
   "id": "a7908251-1714-4197-bbaf-8433c3d26978",
   "metadata": {
    "pycharm": {
     "name": "#%% md\n"
    }
   },
   "source": [
    "__Step 2:__ Apply the weights:"
   ]
  },
  {
   "cell_type": "code",
   "execution_count": 21,
   "id": "c15f8963",
   "metadata": {
    "pycharm": {
     "name": "#%%\n"
    }
   },
   "outputs": [],
   "source": [
    "mrs_prob_dist_no_treatment_nlvo = (\n",
    "    (weight_no_treatment_nlvo_lvo * mrs_prob_dist_no_treatment_nlvo_lvo) + \n",
    "    (weight_no_treatment_lvo      * mrs_prob_dist_no_treatment_lvo) )"
   ]
  },
  {
   "cell_type": "markdown",
   "id": "6e1d99a7-b56c-4be7-a153-62127aecc224",
   "metadata": {
    "pycharm": {
     "name": "#%% md\n"
    }
   },
   "source": [
    "Normlalise bins to add up to 1."
   ]
  },
  {
   "cell_type": "code",
   "execution_count": 22,
   "id": "d9f11586-c522-4363-85af-36e82492081e",
   "metadata": {
    "pycharm": {
     "name": "#%%\n"
    }
   },
   "outputs": [],
   "source": [
    "mrs_prob_dist_no_treatment_nlvo = (\n",
    "    mrs_prob_dist_no_treatment_nlvo / np.sum(mrs_prob_dist_no_treatment_nlvo))"
   ]
  },
  {
   "cell_type": "markdown",
   "id": "94d8adff-8959-48f5-89a2-88aa5624fc07",
   "metadata": {},
   "source": [
    "__Step 3:__ Compare the current $P(\\mathrm{mRS}\\leq1, t=t_\\mathrm{ne})$ with the expected 46%."
   ]
  },
  {
   "cell_type": "code",
   "execution_count": 23,
   "id": "e609f7e8-bf6b-4cd6-814d-e1e13abb298c",
   "metadata": {},
   "outputs": [],
   "source": [
    "mrs_prob_bins_no_treatment_nlvo = np.cumsum(mrs_prob_dist_no_treatment_nlvo)"
   ]
  },
  {
   "cell_type": "code",
   "execution_count": 24,
   "id": "52021db6-f491-4a50-b268-4961d4c24217",
   "metadata": {},
   "outputs": [
    {
     "name": "stdout",
     "output_type": "stream",
     "text": [
      "0.417\n"
     ]
    }
   ],
   "source": [
    "print (f'{mrs_prob_bins_no_treatment_nlvo[1]:0.3f}')"
   ]
  },
  {
   "cell_type": "markdown",
   "id": "4202012b-b7d1-40e4-8e7c-c8cd256e9a03",
   "metadata": {},
   "source": [
    "Because the values don't exactly match, we'll fine-tune $P(\\mathrm{mRS}\\leq1, t=t_\\mathrm{ne})$ to equal 46% and scale the other bins around this movement so that they keep the same proportions.  "
   ]
  },
  {
   "cell_type": "code",
   "execution_count": 25,
   "id": "6dc863f2-da30-4fc2-833e-144c01bad916",
   "metadata": {},
   "outputs": [],
   "source": [
    "mRS_ref_nlvo = 1\n",
    "p_ref_nlvo   = 0.46"
   ]
  },
  {
   "cell_type": "code",
   "execution_count": 26,
   "id": "dd5ee55b-9f3d-4b66-b07a-410e02fb79e8",
   "metadata": {},
   "outputs": [],
   "source": [
    "from outcome_utilities.scale_dist import scale_dist\n",
    "\n",
    "mrs_prob_dist_no_treatment_nlvo, mrs_prob_bins_no_treatment_nlvo = (\n",
    "    scale_dist(mrs_prob_bins_no_treatment_nlvo, p_ref_nlvo, \n",
    "               mRS_ref=mRS_ref_nlvo))"
   ]
  },
  {
   "cell_type": "code",
   "execution_count": 27,
   "id": "2ff77b63",
   "metadata": {
    "pycharm": {
     "name": "#%%\n"
    }
   },
   "outputs": [
    {
     "data": {
      "text/plain": [
       "[0.1964, 0.2636, 0.1131, 0.1226, 0.1489, 0.0663, 0.0891]"
      ]
     },
     "execution_count": 27,
     "metadata": {},
     "output_type": "execute_result"
    }
   ],
   "source": [
    "[np.round(x, 4) for x in mrs_prob_dist_no_treatment_nlvo]"
   ]
  },
  {
   "cell_type": "markdown",
   "id": "6e0c37ef-bb38-490a-9a93-3f51cf931aa8",
   "metadata": {
    "pycharm": {
     "name": "#%% md\n"
    }
   },
   "source": [
    "Compare with the imported data:"
   ]
  },
  {
   "cell_type": "code",
   "execution_count": 28,
   "id": "8c15cc64-b41c-4eda-9002-ece162387a68",
   "metadata": {
    "pycharm": {
     "name": "#%%\n"
    }
   },
   "outputs": [
    {
     "data": {
      "text/plain": [
       "[0.1964, 0.2636, 0.1131, 0.1226, 0.1489, 0.0663, 0.0891]"
      ]
     },
     "execution_count": 28,
     "metadata": {},
     "output_type": "execute_result"
    }
   ],
   "source": [
    "[np.round(x, 4) for x in dict_no_treatment_nlvo['dist_mrs6']]"
   ]
  },
  {
   "cell_type": "markdown",
   "id": "84f4869c",
   "metadata": {
    "pycharm": {
     "name": "#%% md\n"
    }
   },
   "source": [
    "---"
   ]
  },
  {
   "cell_type": "markdown",
   "id": "afc82309",
   "metadata": {
    "pycharm": {
     "name": "#%% md\n"
    }
   },
   "source": [
    "### nLVO thrombolysis: t=0"
   ]
  },
  {
   "cell_type": "markdown",
   "id": "009a2b53",
   "metadata": {
    "pycharm": {
     "name": "#%% md\n"
    }
   },
   "source": [
    "Summary: Weighted distribution of the pre-stroke and no-effect-time nLVO distributions. The weights are chosen to give $P(\\mathrm{mRS}<=1, t=0)=$ 63% (from Holodinsky et al. 2018. )"
   ]
  },
  {
   "cell_type": "markdown",
   "id": "a4fdb538-eff8-41f5-ac3b-46d20f925f92",
   "metadata": {
    "pycharm": {
     "name": "#%% md\n"
    }
   },
   "source": [
    "Steps:\n",
    "1. Gather the known data.\n",
    "    + Probability distribution for pre-stroke patients (SAMueL-1).\n",
    "    + Probability distribution for nLVO patients treated with thrombolysis at the no-effect-time ([calculated here](#nLVO-untreated:-time-of-no-effect)).\n",
    "    + $P(\\mathrm{mRS}<=1, t=0)=$ 63% (Holodinsky et al. 2018).\n",
    "1. Calculate the weights needed to combine the two probability distributions and ensure that $P(\\mathrm{mRS}<=1, t=0)=$ 63%.\n",
    "1. Multiply the distributions by the weights and sum them. \n",
    "\n",
    "Result: A probability distribution for nLVO patients treated with thrombolysis at time zero.\n",
    " "
   ]
  },
  {
   "cell_type": "markdown",
   "id": "cb0dd0cb-a77d-42be-a150-a4a48d475317",
   "metadata": {
    "pycharm": {
     "name": "#%% md\n"
    }
   },
   "source": [
    "__Step 1:__ Use the following imported datasets and known values:"
   ]
  },
  {
   "cell_type": "code",
   "execution_count": 29,
   "id": "c6a74909-7849-49a1-865b-6076a9b18880",
   "metadata": {
    "pycharm": {
     "name": "#%%\n"
    }
   },
   "outputs": [],
   "source": [
    "mrs_prob_bins_no_treatment_nlvo_ivt = dict_no_treatment_nlvo_ivt['bins']\n",
    "mrs_prob_dist_no_treatment_nlvo_ivt = dict_no_treatment_nlvo_ivt['dist_mrs6']\n",
    "\n",
    "mrs_prob_bins_pre_stroke = dict_pre_stroke_nlvo['bins']\n",
    "mrs_prob_dist_pre_stroke = dict_pre_stroke_nlvo['dist_mrs6']"
   ]
  },
  {
   "cell_type": "markdown",
   "id": "2e719cd9-320c-4cf5-a1df-ed97c0013e5f",
   "metadata": {
    "pycharm": {
     "name": "#%% md\n"
    }
   },
   "source": [
    "__Step 2:__ Calculate the weights needed to give a distribution with $P(\\mathrm{mRS}<=1, t=0)=$ 63%:"
   ]
  },
  {
   "cell_type": "code",
   "execution_count": 30,
   "id": "3720ffeb",
   "metadata": {
    "pycharm": {
     "name": "#%%\n"
    }
   },
   "outputs": [
    {
     "name": "stdout",
     "output_type": "stream",
     "text": [
      "Weights: 0.5956,0.4044\n"
     ]
    }
   ],
   "source": [
    "target_diff  = 0.63 - mrs_prob_bins_no_treatment_nlvo_ivt[1]\n",
    "current_diff = (mrs_prob_bins_pre_stroke[1] - \n",
    "                mrs_prob_bins_no_treatment_nlvo_ivt[1])\n",
    "\n",
    "weight_pre_stroke_nlvo_ivt   = target_diff / current_diff\n",
    "weight_no_treatment_nlvo_ivt = 1.0 - weight_pre_stroke_nlvo_ivt\n",
    "\n",
    "print(f'Weights: {weight_pre_stroke_nlvo_ivt:.4f},' \\\n",
    "      f'{weight_no_treatment_nlvo_ivt:.4f}')"
   ]
  },
  {
   "cell_type": "markdown",
   "id": "9ac761d5-6794-40b5-8db1-da35e6f82169",
   "metadata": {
    "pycharm": {
     "name": "#%% md\n"
    }
   },
   "source": [
    "Compare these weights with the values used to create the imported data:"
   ]
  },
  {
   "cell_type": "code",
   "execution_count": 31,
   "id": "79396bd4-8386-4339-b6c2-e4ea2155fea3",
   "metadata": {
    "pycharm": {
     "name": "#%%\n"
    }
   },
   "outputs": [
    {
     "name": "stdout",
     "output_type": "stream",
     "text": [
      "0.5956,0.4044\n"
     ]
    }
   ],
   "source": [
    "from outcome_utilities.mRS_datasets import (weight_pre_stroke_nlvo_ivt,\n",
    "                                            weight_no_treatment_nlvo_ivt)\n",
    "\n",
    "print(f'{weight_pre_stroke_nlvo_ivt:.4f},'\n",
    "      f'{weight_no_treatment_nlvo_ivt:0.4f}')"
   ]
  },
  {
   "cell_type": "markdown",
   "id": "b04d02a8-d892-4075-855a-32f7fe79442a",
   "metadata": {
    "pycharm": {
     "name": "#%% md\n"
    }
   },
   "source": [
    "__Step 3:__ Apply the weights:"
   ]
  },
  {
   "cell_type": "code",
   "execution_count": 32,
   "id": "7ec62820-1cc3-4c8c-9b4d-d3a7f9f9ad70",
   "metadata": {
    "pycharm": {
     "name": "#%%\n"
    }
   },
   "outputs": [],
   "source": [
    "mrs_prob_dist_t0_treatment_nlvo_ivt = (\n",
    "    (weight_pre_stroke_nlvo_ivt   * mrs_prob_dist_pre_stroke) +\n",
    "    (weight_no_treatment_nlvo_ivt * mrs_prob_dist_no_treatment_nlvo_ivt) )\n",
    "\n",
    "\n",
    "mrs_prob_bins_t0_treatment_nlvo_ivt = np.cumsum(\n",
    "    mrs_prob_dist_t0_treatment_nlvo_ivt)"
   ]
  },
  {
   "cell_type": "markdown",
   "id": "bc7340fe-0778-4724-b0d4-0db00b06d153",
   "metadata": {
    "pycharm": {
     "name": "#%% md\n"
    }
   },
   "source": [
    "__Result:__ The newly-created probability distribution:"
   ]
  },
  {
   "cell_type": "code",
   "execution_count": 33,
   "id": "3ae70f49",
   "metadata": {
    "pycharm": {
     "name": "#%%\n"
    }
   },
   "outputs": [
    {
     "data": {
      "text/plain": [
       "[0.4266, 0.2034, 0.1073, 0.1105, 0.0852, 0.0309, 0.036]"
      ]
     },
     "execution_count": 33,
     "metadata": {},
     "output_type": "execute_result"
    }
   ],
   "source": [
    "[np.round(x, 4) for x in mrs_prob_dist_t0_treatment_nlvo_ivt]"
   ]
  },
  {
   "cell_type": "markdown",
   "id": "235f5cd5-7b71-4aea-892f-680fbe9510c8",
   "metadata": {
    "pycharm": {
     "name": "#%% md\n"
    }
   },
   "source": [
    "Now $P(\\mathrm{mRS}<=1, t=0)=$63% as required:"
   ]
  },
  {
   "cell_type": "code",
   "execution_count": 34,
   "id": "df027415",
   "metadata": {
    "pycharm": {
     "name": "#%%\n"
    }
   },
   "outputs": [
    {
     "data": {
      "text/plain": [
       "[0.4266, 0.63, 0.7373, 0.8478, 0.933, 0.964, 1.0]"
      ]
     },
     "execution_count": 34,
     "metadata": {},
     "output_type": "execute_result"
    }
   ],
   "source": [
    "[np.round(x, 4) for x in mrs_prob_bins_t0_treatment_nlvo_ivt]"
   ]
  },
  {
   "cell_type": "markdown",
   "id": "97a56fbb-2f27-4d04-8fb6-a76f59928124",
   "metadata": {
    "pycharm": {
     "name": "#%% md\n"
    }
   },
   "source": [
    "Compare with the imported data:"
   ]
  },
  {
   "cell_type": "code",
   "execution_count": 35,
   "id": "74ecebd9-e9f1-4672-bcf9-592e85f39300",
   "metadata": {
    "pycharm": {
     "name": "#%%\n"
    }
   },
   "outputs": [
    {
     "data": {
      "text/plain": [
       "[0.4266, 0.2034, 0.1073, 0.1105, 0.0852, 0.0309, 0.036]"
      ]
     },
     "execution_count": 35,
     "metadata": {},
     "output_type": "execute_result"
    }
   ],
   "source": [
    "[np.round(x, 4) for x in dict_t0_treatment_nlvo_ivt['dist_mrs6']]"
   ]
  },
  {
   "cell_type": "markdown",
   "id": "6e93a9a6-39c1-48d6-b48f-dffc02ff1f19",
   "metadata": {
    "pycharm": {
     "name": "#%% md\n"
    }
   },
   "source": [
    "---"
   ]
  },
  {
   "cell_type": "markdown",
   "id": "fcb4c98a-fbd9-46ae-b6d7-567aadbc4c37",
   "metadata": {
    "pycharm": {
     "name": "#%% md\n"
    },
    "tags": []
   },
   "source": [
    "### LVO thrombectomy: t=0\n",
    "\n",
    "Summary: Weighted distribution of the pre-stroke and no-effect-time nLVO distributions. \n",
    "\n",
    "Steps:\n",
    "1. Gather the known data.\n",
    "    + Probability distribution for pre-stroke patients (SAMueL-1).\n",
    "    + Probability distribution for LVO patients treated with thrombectomy at the no-effect-time (the control population from Goyal et al. 2016).\n",
    "    + Hui et al. reported 75% successful recanalisation with thrombectomy.\n",
    "    + Extrapolating results from Fransen et al. back to t=0 gives the same proportion of patients mRS <= 2 as the pre-stroke mRS int he SAMueL data (therefore this extrapolation would suggest full recovery of all health with thrombectomy theoretically carried out at t=0).\n",
    "\n",
    "Result: A probability distribution for LVO patients treated with thrombolysis at time zero."
   ]
  },
  {
   "cell_type": "markdown",
   "id": "76851f73-bac3-47fd-91a6-313eb127f05a",
   "metadata": {
    "pycharm": {
     "name": "#%% md\n"
    }
   },
   "source": [
    "__Step 1:__ Use the following imported datasets and known values:"
   ]
  },
  {
   "cell_type": "code",
   "execution_count": 36,
   "id": "200a097c-a615-4a4f-ae07-424a30f755d5",
   "metadata": {
    "pycharm": {
     "name": "#%%\n"
    }
   },
   "outputs": [],
   "source": [
    "mrs_prob_bins_no_treatment_lvo_mt = dict_no_treatment_lvo_mt['bins']\n",
    "mrs_prob_dist_no_treatment_lvo_mt = dict_no_treatment_lvo_mt['dist_mrs6']\n",
    "\n",
    "mrs_prob_bins_pre_stroke = dict_pre_stroke_lvo['bins']\n",
    "mrs_prob_dist_pre_stroke = dict_pre_stroke_lvo['dist_mrs6']"
   ]
  },
  {
   "cell_type": "markdown",
   "id": "3331b379-56a5-4ef5-b592-c3014a12ee13",
   "metadata": {
    "pycharm": {
     "name": "#%% md\n"
    }
   },
   "source": [
    "__Step 2:__ Apply weight\n",
    "\n",
    "If weights are chosen to give $P(\\mathrm{mRS}<=2, t=0)=$ 68% (extrapolated from Fransen et al., 2016), then the weight is 1.00 for the pre-stroke population.\n",
    "\n",
    "Hui et al. reported 75% successful recanalisation with thrombectomy. We will assume t=0 treatement would give us a mix of 75% pre-stroke mRS and 25% no-effect mRS."
   ]
  },
  {
   "cell_type": "code",
   "execution_count": 37,
   "id": "64bc40cd-bb57-4eaa-bef9-754e84c7a8d9",
   "metadata": {
    "pycharm": {
     "name": "#%%\n"
    }
   },
   "outputs": [
    {
     "name": "stdout",
     "output_type": "stream",
     "text": [
      "Weights: 0.7500,0.2500\n"
     ]
    }
   ],
   "source": [
    "weight_pre_stroke_lvo_mt = 0.75\n",
    "weight_no_treatment_lvo_mt = 1.0 - weight_pre_stroke_lvo_mt\n",
    "\n",
    "print(f'Weights: {weight_pre_stroke_lvo_mt:.4f},' \\\n",
    "      f'{weight_no_treatment_lvo_mt:.4f}')"
   ]
  },
  {
   "cell_type": "markdown",
   "id": "6ffa8b2f-6794-429c-a3ec-4806ba2b16c7",
   "metadata": {
    "pycharm": {
     "name": "#%% md\n"
    }
   },
   "source": [
    "__Step 3:__ Apply the weights:"
   ]
  },
  {
   "cell_type": "code",
   "execution_count": 38,
   "id": "a60a0cb5-8bd7-45a6-b3e2-12ae4425de67",
   "metadata": {
    "pycharm": {
     "name": "#%%\n"
    }
   },
   "outputs": [],
   "source": [
    "mrs_prob_dist_t0_treatment_lvo_mt = (\n",
    "    (weight_pre_stroke_lvo_mt   * mrs_prob_dist_pre_stroke) +\n",
    "    (weight_no_treatment_lvo_mt * mrs_prob_dist_no_treatment_lvo_mt))\n",
    "\n",
    "\n",
    "mrs_prob_bins_t0_treatment_lvo_mt = np.cumsum(\n",
    "    mrs_prob_dist_t0_treatment_lvo_mt)"
   ]
  },
  {
   "cell_type": "markdown",
   "id": "0c8f36d8-6957-4300-9512-43f268bdfefb",
   "metadata": {
    "pycharm": {
     "name": "#%% md\n"
    }
   },
   "source": [
    "__Result:__ The newly-created probability distribution:"
   ]
  },
  {
   "cell_type": "code",
   "execution_count": 39,
   "id": "8e69d8ec-d899-494a-a007-ffd24c2d3efc",
   "metadata": {
    "pycharm": {
     "name": "#%%\n"
    }
   },
   "outputs": [
    {
     "data": {
      "text/plain": [
       "[0.3259, 0.127, 0.1228, 0.1642, 0.1471, 0.0658, 0.0472]"
      ]
     },
     "execution_count": 39,
     "metadata": {},
     "output_type": "execute_result"
    }
   ],
   "source": [
    "[np.round(x, 4) for x in mrs_prob_dist_t0_treatment_lvo_mt]"
   ]
  },
  {
   "cell_type": "markdown",
   "id": "1fc940b7-bc3d-4ce3-ab4c-41663f40b673",
   "metadata": {
    "pycharm": {
     "name": "#%% md\n"
    }
   },
   "source": [
    "Compare with the imported data:"
   ]
  },
  {
   "cell_type": "code",
   "execution_count": 40,
   "id": "bf66aee2-e8db-485e-bd62-15bb27bbf1b5",
   "metadata": {
    "pycharm": {
     "name": "#%%\n"
    }
   },
   "outputs": [
    {
     "data": {
      "text/plain": [
       "[0.3259, 0.127, 0.1228, 0.1642, 0.1471, 0.0658, 0.0472]"
      ]
     },
     "execution_count": 40,
     "metadata": {},
     "output_type": "execute_result"
    }
   ],
   "source": [
    "[np.round(x, 4) for x in dict_t0_treatment_lvo_mt['dist_mrs6']]"
   ]
  },
  {
   "cell_type": "markdown",
   "id": "3e662700",
   "metadata": {
    "pycharm": {
     "name": "#%% md\n"
    }
   },
   "source": [
    "---"
   ]
  },
  {
   "cell_type": "markdown",
   "id": "beb2c7be-766b-484c-bc3e-5ae06dec78b7",
   "metadata": {
    "pycharm": {
     "name": "#%% md\n"
    }
   },
   "source": [
    "## References\n",
    "\n",
    "Emberson J, Lees KR, Lyden P, et al. _Effect of treatment delay, age, and stroke severity on the effects of intravenous thrombolysis with alteplase for acute ischaemic stroke: A meta-analysis of individual patient data from randomised trials._ The Lancet 2014;384:1929–35. doi:10.1016/S0140-6736(14)60584-5\n",
    "\n",
    "Fransen, P., Berkhemer, O., Lingsma, H. et al. Time to Reperfusion and Treatment Effect for Acute Ischemic Stroke: A Randomized Clinical Trial. JAMA Neurol. 2016 Feb 1;73(2):190–6. DOI: 10.1001/jamaneurol.2015.3886\n",
    "\n",
    "Goyal M, Menon BK, van Zwam WH, et al. _Endovascular thrombectomy after large-vessel ischaemic stroke: a meta-analysis of individual patient data from five randomised trials._ The Lancet 2016;387:1723-1731. doi:10.1016/S0140-6736(16)00163-X\n",
    "\n",
    "Holodinsky JK, Williamson TS, Demchuk AM, et al. _Modeling Stroke Patient Transport for All Patients With Suspected Large-Vessel Occlusion._ JAMA Neurol. 2018;75(12):1477-1486. doi:10.1001/jamaneurol.2018.2424\n",
    "\n",
    "Hui W, Wu C, Zhao W, Sun H, Hao J, Liang H, et al. Efficacy and Safety of Recanalization Therapy for Acute Ischemic Stroke With Large Vessel Occlusion. Stroke. 2020 Jul;51(7):2026–35. \n",
    "\n",
    "Lees KR, Bluhmki E, von Kummer R, et al. _Time to treatment with intravenous alteplase and outcome in stroke: an updated pooled analysis of ECASS, ATLANTIS, NINDS, and EPITHET trials_. The Lancet 2010;375:1695-703. doi:10.1016/S0140-6736(10)60491-6\n",
    "\n",
    "SAMueL-1 data on mRS before stroke (DOI: 10.5281/zenodo.6896710): https://samuel-book.github.io/samuel-1/descriptive_stats/08_prestroke_mrs.html"
   ]
  },
  {
   "cell_type": "markdown",
   "id": "8c1b6402-4c66-4381-8df0-278cce9bf410",
   "metadata": {
    "pycharm": {
     "name": "#%% md\n"
    }
   },
   "source": [
    "## Appendix: tabulate all data"
   ]
  },
  {
   "cell_type": "code",
   "execution_count": 41,
   "id": "7b9a2078-d40d-41d5-bd88-c3865b4477e3",
   "metadata": {
    "pycharm": {
     "name": "#%%\n"
    }
   },
   "outputs": [
    {
     "name": "stdout",
     "output_type": "stream",
     "text": [
      "                       ,           , ------------------------------------mRS------------------------------------\n",
      "Distribution           ,   Time    ,     0    ,     1    ,     2    ,     3    ,     4    ,     5    ,     6    \n",
      "----------------------------------------------------------------------------------------------------------------\n",
      "Pre-stroke             , Zero      ,   0.53492,   0.15796,   0.10808,   0.11920,   0.06265,   0.01720,   0.00000\n",
      "Pre-stroke             , No effect ,   0.53492,   0.15796,   0.10808,   0.11920,   0.06265,   0.01720,   0.00000\n",
      "Pre-stroke_nlvo        , Zero      ,   0.58288,   0.16254,   0.10344,   0.10222,   0.04197,   0.00694,   0.00000\n",
      "Pre-stroke_nlvo        , No effect ,   0.58288,   0.16254,   0.10344,   0.10222,   0.04197,   0.00694,   0.00000\n",
      "Pre-stroke_lvo         , Zero      ,   0.41789,   0.14296,   0.11843,   0.16421,   0.11378,   0.04273,   0.00000\n",
      "Pre-stroke_lvo         , No effect ,   0.41789,   0.14296,   0.11843,   0.16421,   0.11378,   0.04273,   0.00000\n",
      "Haemorrhagic           , Zero      ,  -1.00000,  -1.00000,  -1.00000,  -1.00000,  -1.00000,  -1.00000,  -1.00000\n",
      "Haemorrhagic           , No effect ,  -1.00000,  -1.00000,  -1.00000,  -1.00000,  -1.00000,  -1.00000,  -1.00000\n",
      "nLVO/LVO combined IVT  , Zero      ,  -1.00000,  -1.00000,  -1.00000,  -1.00000,  -1.00000,  -1.00000,  -1.00000\n",
      "nLVO/LVO combined IVT  , No effect ,   0.14862,   0.20221,   0.12525,   0.13965,   0.18061,   0.08612,   0.11754\n",
      "LVO untreated          , Zero      ,   0.05000,   0.07900,   0.13600,   0.16400,   0.24700,   0.13500,   0.18900\n",
      "LVO untreated          , No effect ,   0.05000,   0.07900,   0.13600,   0.16400,   0.24700,   0.13500,   0.18900\n",
      "LVO IVT                , Zero      ,   0.11622,   0.09051,   0.13284,   0.16404,   0.22302,   0.11839,   0.15498\n",
      "LVO IVT                , No effect ,   0.05000,   0.07900,   0.13600,   0.16400,   0.24700,   0.13500,   0.18900\n",
      "LVO MT                 , Zero      ,   0.32592,   0.12697,   0.12282,   0.16416,   0.14708,   0.06580,   0.04725\n",
      "LVO MT                 , No effect ,   0.05000,   0.07900,   0.13600,   0.16400,   0.24700,   0.13500,   0.18900\n",
      "nLVO untreated         , Zero      ,   0.19639,   0.26361,   0.11306,   0.12263,   0.14894,   0.06626,   0.08911\n",
      "nLVO untreated         , No effect ,   0.19639,   0.26361,   0.11306,   0.12263,   0.14894,   0.06626,   0.08911\n",
      "nLVO IVT               , Zero      ,   0.42659,   0.20341,   0.10733,   0.11048,   0.08523,   0.03093,   0.03603\n",
      "nLVO IVT               , No effect ,   0.19639,   0.26361,   0.11306,   0.12263,   0.14894,   0.06626,   0.08911\n"
     ]
    }
   ],
   "source": [
    "# Print the column headings:\n",
    "print(' '*23 + ',' +' '*11 + ', ' + '-'*36 + 'mRS' + '-'*36)\n",
    "header = 'Distribution           ,   Time    '\n",
    "for j in range(7):\n",
    "    header += ',' + ' '*5 + str(j) + ' '*4 \n",
    "print(header)\n",
    "print('-'*112)\n",
    "\n",
    "# Switch between printing these two times on alternate rows:\n",
    "times = ['Zero', 'No effect']\n",
    "\n",
    "# Print each row of data from the big list:\n",
    "for row in full_data_list:\n",
    "    for i,data_list in enumerate([row[0], row[1]]):\n",
    "        # Add label and time to the string:\n",
    "        p_str = f'{row[2]:23}, {times[i]:10}'\n",
    "        for j in range(7):\n",
    "            # Add this mRS value to the string, to 5 decimal places:\n",
    "            p_str += f',  {data_list[\"dist_mrs6\"][j]:8.5f}'\n",
    "        print(p_str)"
   ]
  }
 ],
 "metadata": {
  "kernelspec": {
   "display_name": "Python 3 (ipykernel)",
   "language": "python",
   "name": "python3"
  },
  "language_info": {
   "codemirror_mode": {
    "name": "ipython",
    "version": 3
   },
   "file_extension": ".py",
   "mimetype": "text/x-python",
   "name": "python",
   "nbconvert_exporter": "python",
   "pygments_lexer": "ipython3",
   "version": "3.9.12"
  }
 },
 "nbformat": 4,
 "nbformat_minor": 5
}
