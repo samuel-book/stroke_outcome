{
 "cells": [
  {
   "cell_type": "code",
   "execution_count": 1,
   "id": "a309ac29",
   "metadata": {},
   "outputs": [],
   "source": [
    "import warnings\n",
    "warnings.filterwarnings('ignore')"
   ]
  },
  {
   "cell_type": "code",
   "execution_count": 2,
   "id": "184e0636",
   "metadata": {},
   "outputs": [],
   "source": [
    "import numpy as np\n",
    "import matplotlib.pyplot as plt\n",
    "%matplotlib inline"
   ]
  },
  {
   "cell_type": "code",
   "execution_count": 3,
   "id": "62c8a6f2",
   "metadata": {},
   "outputs": [],
   "source": [
    "# Change default colour scheme:\n",
    "plt.style.use('seaborn-colorblind')"
   ]
  },
  {
   "cell_type": "markdown",
   "id": "b6a2719d",
   "metadata": {},
   "source": [
    "# Data sets used \n",
    "\n",
    "All of the various mRS probability data sets are gathered here for time=0 and time=$T_0$, i.e. no effect time.\n",
    "\n",
    "Any data sets containing mRS=6 (death) have the associated probability $P(mRS=6)$ removed, and the remaining values are normalised so that $P(mRS\\leq5)=1.0$.\n",
    "\n",
    "+ nLVO - non-large-vessel occlusion\n",
    "+ LVO - large-vessel occlusion"
   ]
  },
  {
   "cell_type": "markdown",
   "id": "98df76bc",
   "metadata": {},
   "source": [
    "Arrays are named using these strings:\n",
    "+ `dist` - mRS distribution\n",
    "+ `bins` - cumulative probabilities of `dist`\n",
    "+ `0` and `F` - time $t=0$hr and $t=T_0$hr.\n",
    "\n",
    "Plus more specific labels are appended. \n",
    "\n",
    "mRS distribution arrays used here:"
   ]
  },
  {
   "cell_type": "markdown",
   "id": "db9f8ec0",
   "metadata": {},
   "source": [
    "| Description | $t=0$ | $t=T_0$ | \n",
    "| :-- | :-- | :-- |\n",
    "| Pre-stroke | `dist_0_pre` <br /> From SAMueL-1 data. | N/A |\n",
    "|Haemorrhaegic | N/A | (yet to find) |\n",
    "| nLVO - untreated | N/A | `dist_F_nLVO` <br /> Weighted combination of `dist_F_Lees` (64%) and `dist_F_LVO` (36%), then further scaled to match $P(mRS<=1, t=T_0)=0.46$ from Holodinsky+2018. |\n",
    "| nLVO - thrombolysis | `dist_0_nLVOoly` <br /> Weighted combination of `dist_0_pre` (87%) and `dist_F_nLVO` (13%), where weights are chosen to match the $P(mRS<=1, t=0)=0.63$ from Holodinsky+2018. | Same as above. |\n",
    "| LVO - untreated | N/A | `dist_F_LVO` <br /> Goyal+2016 control population. |\n",
    "| LVO - thrombolysis only | `dist_0_LVOoly` <br /> Weighted combination of `dist_F_LVO` (82%) and `dist_0_pre` (18%). | Same as above. |\n",
    "| LVO - thrombectomy <br /> with/out thrombolysis | `dist_0_LVOect` <br /> No effect of stroke, therefore same mRS as pre-stroke. | Same as above. | \n",
    "\n",
    "Also, \n",
    "\n",
    "| Array | Time $t$ | Description | Data sources |\n",
    "| :--- | :---: | :--- | :--- |\n",
    "| `dist_F_Lees`    | $T_0$ | Untreated LVO and nLVO populations. | Lees+2010. |\n"
   ]
  },
  {
   "cell_type": "markdown",
   "id": "8b57cf77",
   "metadata": {},
   "source": [
    "---"
   ]
  },
  {
   "cell_type": "markdown",
   "id": "130e6232",
   "metadata": {},
   "source": [
    "# Pre-stroke"
   ]
  },
  {
   "cell_type": "markdown",
   "id": "53e95a61",
   "metadata": {},
   "source": [
    "Plot the distribution of mRS at time T=0 (i.e. before stroke) from the SAMuel-1 data set. P(mRS=6)=0."
   ]
  },
  {
   "cell_type": "code",
   "execution_count": 4,
   "id": "c1dc8cff",
   "metadata": {},
   "outputs": [],
   "source": [
    "dist_0_pre = np.array([0.54956819, 0.14895196, 0.0980681 , 0.11769072, 0.06707674, 0.0186443 ])"
   ]
  },
  {
   "cell_type": "markdown",
   "id": "c6a5741c",
   "metadata": {},
   "source": [
    "Convert the mRS distribution into cumulative frequency:"
   ]
  },
  {
   "cell_type": "code",
   "execution_count": 5,
   "id": "6b991f60",
   "metadata": {},
   "outputs": [],
   "source": [
    "bins_0_pre = np.cumsum(np.concatenate(([0],dist_0_pre)))"
   ]
  },
  {
   "cell_type": "code",
   "execution_count": 6,
   "id": "048632ac",
   "metadata": {},
   "outputs": [
    {
     "data": {
      "text/plain": [
       "array([0.        , 0.54956819, 0.69852015, 0.79658825, 0.91427897,\n",
       "       0.98135571, 1.00000001])"
      ]
     },
     "execution_count": 6,
     "metadata": {},
     "output_type": "execute_result"
    }
   ],
   "source": [
    "bins_0_pre"
   ]
  },
  {
   "cell_type": "markdown",
   "id": "3f57c9ef",
   "metadata": {},
   "source": [
    "---"
   ]
  },
  {
   "cell_type": "markdown",
   "id": "b2aa32ce",
   "metadata": {},
   "source": [
    "# Haemorrhaegic"
   ]
  },
  {
   "cell_type": "markdown",
   "id": "65a2e46f",
   "metadata": {},
   "source": [
    "## t=0 distribution\n",
    "\n",
    "N/A"
   ]
  },
  {
   "cell_type": "markdown",
   "id": "dabdc989",
   "metadata": {},
   "source": [
    "## \"No effect\" distribution\n",
    "\n",
    "_Yet to find this_"
   ]
  },
  {
   "cell_type": "markdown",
   "id": "96540086",
   "metadata": {},
   "source": [
    "---"
   ]
  },
  {
   "cell_type": "markdown",
   "id": "c52d1a2e",
   "metadata": {},
   "source": [
    "# LVO - untreated "
   ]
  },
  {
   "cell_type": "markdown",
   "id": "49024511",
   "metadata": {},
   "source": [
    "## t=0 distribution\n",
    "\n",
    "N/A"
   ]
  },
  {
   "cell_type": "markdown",
   "id": "68b12b98",
   "metadata": {},
   "source": [
    "## \"No effect\" distribution\n",
    "\n",
    "Goyal+2016 control population."
   ]
  },
  {
   "cell_type": "markdown",
   "id": "e52c5bdf",
   "metadata": {},
   "source": [
    "Collect \"untreated\" mRS distribution, i.e. mRS at time T=8hrs.\n",
    "_Presumably_ this only includes patients when no thrombolysis or thrombectomy has been performed.\n",
    "\n",
    "Data from Goyal+2016[1], Figure 1 (A Overall, Control population). mRS=6 is excluded and P(mRS=6)=0.189.\n",
    "\n",
    "[1] _\"Endovascular thrombectomy after large-vessel ischaemic stroke: a meta-analysis of individual patient data from five randomised trials\"_"
   ]
  },
  {
   "cell_type": "code",
   "execution_count": 7,
   "id": "aeca60cc",
   "metadata": {},
   "outputs": [],
   "source": [
    "#from golye's control population (figure 1a)\n",
    "\n",
    "dist_F_LVO = np.array([0.05, 0.079, 0.136, 0.164, 0.247, 0.135])\n",
    "\n",
    "# Need to normalise because it currently doesn't add up to 1 (non-zero mRS=6 is excluded).\n",
    "dist_F_LVO = dist_F_LVO/np.sum(dist_F_LVO)"
   ]
  },
  {
   "cell_type": "code",
   "execution_count": 8,
   "id": "fa22ac49",
   "metadata": {},
   "outputs": [
    {
     "data": {
      "text/plain": [
       "array([0.06165228, 0.0974106 , 0.1676942 , 0.20221948, 0.30456227,\n",
       "       0.16646116])"
      ]
     },
     "execution_count": 8,
     "metadata": {},
     "output_type": "execute_result"
    }
   ],
   "source": [
    "dist_F_LVO"
   ]
  },
  {
   "cell_type": "markdown",
   "id": "32850530",
   "metadata": {},
   "source": [
    "Convert to cumulative frequency:"
   ]
  },
  {
   "cell_type": "code",
   "execution_count": 9,
   "id": "d0a3afad",
   "metadata": {},
   "outputs": [],
   "source": [
    "bins_F_LVO = np.cumsum(np.concatenate(([0],dist_F_LVO)))"
   ]
  },
  {
   "cell_type": "code",
   "execution_count": 10,
   "id": "e7411fe3",
   "metadata": {},
   "outputs": [
    {
     "data": {
      "text/plain": [
       "array([0.        , 0.06165228, 0.15906289, 0.32675709, 0.52897657,\n",
       "       0.83353884, 1.        ])"
      ]
     },
     "execution_count": 10,
     "metadata": {},
     "output_type": "execute_result"
    }
   ],
   "source": [
    "bins_F_LVO"
   ]
  },
  {
   "cell_type": "markdown",
   "id": "e6720f79",
   "metadata": {},
   "source": [
    "---"
   ]
  },
  {
   "cell_type": "markdown",
   "id": "33e0cd5b",
   "metadata": {},
   "source": [
    "# LVO - thrombolysis only "
   ]
  },
  {
   "cell_type": "markdown",
   "id": "205e6a73",
   "metadata": {},
   "source": [
    "## t=0 distribution\n",
    "\n",
    "Weighted distribution of full effect `dist_0_pre` and no effect `dist_F_LVO`, 0.18:0.82. (as in Holodinsky paper)."
   ]
  },
  {
   "cell_type": "code",
   "execution_count": 11,
   "id": "dee1793d",
   "metadata": {},
   "outputs": [],
   "source": [
    "# Define the weights 'w':\n",
    "w_LVOoly_pre = 0.18\n",
    "w_LVOoly_noe = 0.82\n",
    "\n",
    "dist_0_LVOoly = w_LVOoly_pre*dist_0_pre + w_LVOoly_noe*dist_F_LVO\n",
    "# Normalise:\n",
    "dist_0_LVOoly = dist_0_LVOoly / np.sum(dist_0_LVOoly)\n",
    "\n",
    "# Create bins:\n",
    "bins_0_LVOoly = np.cumsum(dist_0_LVOoly)"
   ]
  },
  {
   "cell_type": "code",
   "execution_count": 12,
   "id": "289d5fcb",
   "metadata": {},
   "outputs": [
    {
     "data": {
      "text/plain": [
       "array([0.14947714, 0.10668805, 0.15516151, 0.1870043 , 0.26181487,\n",
       "       0.13985412])"
      ]
     },
     "execution_count": 12,
     "metadata": {},
     "output_type": "execute_result"
    }
   ],
   "source": [
    "dist_0_LVOoly"
   ]
  },
  {
   "cell_type": "code",
   "execution_count": 13,
   "id": "9992bc49",
   "metadata": {},
   "outputs": [
    {
     "data": {
      "text/plain": [
       "array([0.14947714, 0.25616519, 0.4113267 , 0.598331  , 0.86014588,\n",
       "       1.        ])"
      ]
     },
     "execution_count": 13,
     "metadata": {},
     "output_type": "execute_result"
    }
   ],
   "source": [
    "bins_0_LVOoly"
   ]
  },
  {
   "cell_type": "markdown",
   "id": "4577b6b3",
   "metadata": {},
   "source": [
    "## \"No effect\" distribution\n",
    "\n",
    "Goyal+2016 control population - use `dist_F_LVO` and `bins_F_LVO`."
   ]
  },
  {
   "cell_type": "markdown",
   "id": "16360d8e",
   "metadata": {},
   "source": [
    "---"
   ]
  },
  {
   "cell_type": "markdown",
   "id": "8272049c",
   "metadata": {},
   "source": [
    "# LVO - thrombectomy (with or without thrombolysis) "
   ]
  },
  {
   "cell_type": "markdown",
   "id": "a05b7dd2",
   "metadata": {},
   "source": [
    "## t=0 distribution\n",
    "\n",
    "Assume no effect of stroke, therefore use same mRS as pre-stroke."
   ]
  },
  {
   "cell_type": "code",
   "execution_count": 14,
   "id": "eecd854e",
   "metadata": {},
   "outputs": [],
   "source": [
    "dist_0_LVOect = dist_0_pre\n",
    "\n",
    "bins_0_LVOect = bins_0_pre"
   ]
  },
  {
   "cell_type": "code",
   "execution_count": 15,
   "id": "3b1cca99",
   "metadata": {},
   "outputs": [
    {
     "data": {
      "text/plain": [
       "array([0.54956819, 0.14895196, 0.0980681 , 0.11769072, 0.06707674,\n",
       "       0.0186443 ])"
      ]
     },
     "execution_count": 15,
     "metadata": {},
     "output_type": "execute_result"
    }
   ],
   "source": [
    "dist_0_LVOect"
   ]
  },
  {
   "cell_type": "code",
   "execution_count": 16,
   "id": "d692c783",
   "metadata": {},
   "outputs": [
    {
     "data": {
      "text/plain": [
       "array([0.        , 0.54956819, 0.69852015, 0.79658825, 0.91427897,\n",
       "       0.98135571, 1.00000001])"
      ]
     },
     "execution_count": 16,
     "metadata": {},
     "output_type": "execute_result"
    }
   ],
   "source": [
    "bins_0_LVOect"
   ]
  },
  {
   "cell_type": "markdown",
   "id": "c4383666",
   "metadata": {},
   "source": [
    "## \"No effect\" distribution\n",
    "\n",
    "Goyal+2016 control population - use `dist_F_LVO` and `bins_F_LVO`."
   ]
  },
  {
   "cell_type": "markdown",
   "id": "aab8fd63",
   "metadata": {},
   "source": [
    "---"
   ]
  },
  {
   "cell_type": "markdown",
   "id": "542baceb",
   "metadata": {},
   "source": [
    "# nLVO - untreated"
   ]
  },
  {
   "cell_type": "markdown",
   "id": "402dcba1",
   "metadata": {},
   "source": [
    "## t=0 distribution\n",
    "\n",
    "N/A"
   ]
  },
  {
   "cell_type": "markdown",
   "id": "5778add2",
   "metadata": {},
   "source": [
    "## \"No effect\" distribution\n",
    "\n",
    "Estimate from weighted subtraction of Goyal+2016 data from the Lees+2010 data. Assume 60% nLVO and 40% LVO and then refine - with the 60/40 balance, the P(mRS<=5) bin ends up being negative. The closest weighting that prevents this is 64%/36%.\n",
    "\n",
    "The Lees+2020 values were measured in mRS_outcomes.ipynb using Powerpoint. "
   ]
  },
  {
   "cell_type": "code",
   "execution_count": 17,
   "id": "201da88b",
   "metadata": {},
   "outputs": [],
   "source": [
    "# Lees+2010 distribution:\n",
    "dist_F_Lees = np.array([ 0.16841002, 0.2291431, 0.14193671, 0.15825232, 0.2046646, 0.09759325])\n",
    "# dist_F_LVO = np.array([0.05,       0.079,     0.136,      0.164,      0.247,     0.135])\n",
    "\n",
    "# Create cumulative probability:\n",
    "bins_F_Lees = np.cumsum(np.concatenate(([0.0],dist_F_Lees)))"
   ]
  },
  {
   "cell_type": "code",
   "execution_count": 18,
   "id": "c15f8963",
   "metadata": {},
   "outputs": [],
   "source": [
    "# Define the weights 'w':\n",
    "w_nLVO_nLVO = 0.64\n",
    "w_nLVO_LVO  = 1.0-w_nLVO_nLVO\n",
    "\n",
    "bins_F_nLVO = w_nLVO_nLVO*bins_F_Lees - w_nLVO_LVO*bins_F_LVO\n",
    "\n",
    "# Normalise:\n",
    "bins_F_nLVO = bins_F_nLVO / bins_F_nLVO[-1]\n",
    "\n",
    "dist_F_nLVO = np.diff(bins_F_nLVO)"
   ]
  },
  {
   "cell_type": "code",
   "execution_count": 19,
   "id": "fd3b6f52",
   "metadata": {},
   "outputs": [
    {
     "data": {
      "text/plain": [
       "array([0.30566997, 0.39851345, 0.10881993, 0.10172311, 0.07622474,\n",
       "       0.0090488 ])"
      ]
     },
     "execution_count": 19,
     "metadata": {},
     "output_type": "execute_result"
    }
   ],
   "source": [
    "dist_F_nLVO"
   ]
  },
  {
   "cell_type": "code",
   "execution_count": 20,
   "id": "1c127cf4",
   "metadata": {},
   "outputs": [
    {
     "data": {
      "text/plain": [
       "array([0.        , 0.30566997, 0.70418342, 0.81300335, 0.91472646,\n",
       "       0.9909512 , 1.        ])"
      ]
     },
     "execution_count": 20,
     "metadata": {},
     "output_type": "execute_result"
    }
   ],
   "source": [
    "bins_F_nLVO"
   ]
  },
  {
   "cell_type": "markdown",
   "id": "6568295b",
   "metadata": {},
   "source": [
    "Check whether mRS<=1 value is a match for the 43% value from Holodinsky+2018."
   ]
  },
  {
   "cell_type": "code",
   "execution_count": 21,
   "id": "1c1e4f91",
   "metadata": {},
   "outputs": [
    {
     "data": {
      "text/plain": [
       "0.7041834217227412"
      ]
     },
     "execution_count": 21,
     "metadata": {},
     "output_type": "execute_result"
    }
   ],
   "source": [
    "bins_F_nLVO[2]"
   ]
  },
  {
   "cell_type": "markdown",
   "id": "8f9d3030",
   "metadata": {},
   "source": [
    "### Function for scaling existing distributions to match a new data point:\n",
    "\n",
    "(originally from mRS_outcomes.ipynb)"
   ]
  },
  {
   "cell_type": "code",
   "execution_count": 22,
   "id": "9d40feab",
   "metadata": {},
   "outputs": [],
   "source": [
    "def get_scaled_dist(dist,p_ref,mRS_ref):\n",
    "    \"\"\"\n",
    "    Scale an existing distribution of probabilities to match a new data point.\n",
    "    \n",
    "    Inputs:\n",
    "    dist    - list or np.array. Prob. dist to be scaled.\n",
    "    p_ref   - Reference probability.\n",
    "    mRS_ref - The mRS bin of this reference probability. \n",
    "    \n",
    "    Returns:.\n",
    "    dist_sc - np.array. Prob. dist after scaling.\n",
    "    bins_sc - np.array. Cumulative prob. dist after scaling.\n",
    "    \"\"\"\n",
    "   \n",
    "    # scale bins around p_ref\n",
    "    \n",
    "    bins = np.cumsum(dist)\n",
    "    \n",
    "    bins_sc = np.zeros_like(bins)\n",
    "    \n",
    "    \n",
    "    # See plots in mRS_outcomes notebook to better explain this \"for\" loop.\n",
    "    #     \n",
    "    # Basically, in the initial distribution the gap A between P(mRS=n) and P(mRS_ref)  \n",
    "    # is X% of the gap B between P(mRS_ref) and 0 (n<mRS_ref) or 1 (n>mRS_ref).\n",
    "    # Then for the new scaled distribution, once P(n<=m_RS_ref) has been set to p_ref,\n",
    "    # the equivalent gap A1 should take up X% of the gap B1.\n",
    "    for mRS in range(6):\n",
    "    \n",
    "        if mRS<=mRS_ref:\n",
    "            # Scale the bins that lie below the known data point.\n",
    "            # When mRS=1, bins_0_oly[1] = p1.\n",
    "            bins_sc[mRS] = p_ref*(bins[mRS]/bins[mRS_ref])\n",
    "\n",
    "        else:\n",
    "            # Scale the bins that lie above the known data point.\n",
    "            # The p1+ adds a y-offset from zero. \n",
    "            bins_sc[mRS] =  p_ref + (1-p_ref)*(bins[mRS]-bins[mRS_ref])/(1-bins[mRS_ref])\n",
    "    \n",
    "    # use bins to obtain distribution\n",
    "        \n",
    "    bins_sc = np.concatenate(([0],bins_sc))\n",
    "\n",
    "    dist_sc = np.diff(bins_sc)\n",
    "    \n",
    "    return dist_sc, bins_sc"
   ]
  },
  {
   "cell_type": "markdown",
   "id": "d967cd8f",
   "metadata": {},
   "source": [
    "Scale the bins to match the value from Holodinsky+2018, $P(mRS\\leq1, t=T_0)=0.46$."
   ]
  },
  {
   "cell_type": "code",
   "execution_count": 23,
   "id": "cb9a4bab",
   "metadata": {},
   "outputs": [],
   "source": [
    "mRS_ref_nLVO = 1\n",
    "p_ref_nLVO   = 0.46"
   ]
  },
  {
   "cell_type": "code",
   "execution_count": 24,
   "id": "42b24e6c",
   "metadata": {},
   "outputs": [],
   "source": [
    "dist_0_nLVO, bins_0_nLVO = get_scaled_dist(dist_F_nLVO,p_ref_nLVO,mRS_ref_nLVO)"
   ]
  },
  {
   "cell_type": "code",
   "execution_count": 25,
   "id": "9a582fc0",
   "metadata": {},
   "outputs": [
    {
     "data": {
      "text/plain": [
       "array([0.19967551, 0.26032449, 0.19864594, 0.18569101, 0.13914487,\n",
       "       0.01651817])"
      ]
     },
     "execution_count": 25,
     "metadata": {},
     "output_type": "execute_result"
    }
   ],
   "source": [
    "dist_0_nLVO"
   ]
  },
  {
   "cell_type": "code",
   "execution_count": 26,
   "id": "2ff77b63",
   "metadata": {},
   "outputs": [
    {
     "data": {
      "text/plain": [
       "array([0.        , 0.19967551, 0.46      , 0.65864594, 0.84433696,\n",
       "       0.98348183, 1.        ])"
      ]
     },
     "execution_count": 26,
     "metadata": {},
     "output_type": "execute_result"
    }
   ],
   "source": [
    "bins_0_nLVO"
   ]
  },
  {
   "cell_type": "markdown",
   "id": "84f4869c",
   "metadata": {},
   "source": [
    "---"
   ]
  },
  {
   "cell_type": "markdown",
   "id": "afc82309",
   "metadata": {},
   "source": [
    "# nLVO - thrombolysis"
   ]
  },
  {
   "cell_type": "markdown",
   "id": "009a2b53",
   "metadata": {},
   "source": [
    "## t=0 distribution\n",
    "\n",
    "Weighted distribution of the pre-stroke and \"no effect\" distributions."
   ]
  },
  {
   "cell_type": "markdown",
   "id": "6b1c7029",
   "metadata": {},
   "source": [
    "Find the weighting that results in $P(mRS<=1, t=0)=0.63$ (from Holodinsky+2018)."
   ]
  },
  {
   "cell_type": "code",
   "execution_count": 27,
   "id": "3720ffeb",
   "metadata": {},
   "outputs": [
    {
     "name": "stdout",
     "output_type": "stream",
     "text": [
      "Weights:  0.8729831731128811 0.1270168268871189\n"
     ]
    }
   ],
   "source": [
    "# Define the weights 'w':\n",
    "w_nLVOoly_pre = (0.63 - bins_F_LVO[2]) / (bins_0_pre[2] - bins_F_LVO[2])\n",
    "w_nLVOoly_noe = 1.0 - w_nLVOoly_pre\n",
    "\n",
    "print('Weights: ', w_nLVOoly_pre, w_nLVOoly_noe)\n",
    "\n",
    "bins_0_nLVOoly = w_nLVOoly_pre*bins_0_pre + w_nLVOoly_noe*bins_F_LVO\n",
    "\n",
    "dist_0_nLVOoly = np.diff(bins_0_nLVOoly)"
   ]
  },
  {
   "cell_type": "code",
   "execution_count": 28,
   "id": "3ae70f49",
   "metadata": {},
   "outputs": [
    {
     "data": {
      "text/plain": [
       "array([0.48759466, 0.14240534, 0.10691179, 0.1284273 , 0.0972414 ,\n",
       "       0.03741953])"
      ]
     },
     "execution_count": 28,
     "metadata": {},
     "output_type": "execute_result"
    }
   ],
   "source": [
    "dist_0_nLVOoly"
   ]
  },
  {
   "cell_type": "code",
   "execution_count": 29,
   "id": "df027415",
   "metadata": {},
   "outputs": [
    {
     "data": {
      "text/plain": [
       "array([0.        , 0.48759466, 0.63      , 0.73691179, 0.86533908,\n",
       "       0.96258048, 1.00000001])"
      ]
     },
     "execution_count": 29,
     "metadata": {},
     "output_type": "execute_result"
    }
   ],
   "source": [
    "bins_0_nLVOoly"
   ]
  },
  {
   "cell_type": "markdown",
   "id": "a367d8ca",
   "metadata": {},
   "source": [
    "## \"No effect\" distribution\n",
    "\n",
    "Same as for untreated nLVO."
   ]
  },
  {
   "cell_type": "markdown",
   "id": "3e662700",
   "metadata": {},
   "source": [
    "---"
   ]
  },
  {
   "cell_type": "markdown",
   "id": "5bfedc87",
   "metadata": {},
   "source": [
    "# Plotting"
   ]
  },
  {
   "cell_type": "code",
   "execution_count": 30,
   "id": "246dbe8c",
   "metadata": {},
   "outputs": [],
   "source": [
    "def plot_two_hists(dist_0=[],dist_F=[],title=''):\n",
    "    # Compare histograms of the full data at t=0 and t=untreated:\n",
    "    fig, axs = plt.subplots(1,2,figsize=(10,5),gridspec_kw={'wspace':0.04})\n",
    "    ax0 = axs[0]\n",
    "    axF = axs[1]\n",
    "    \n",
    "    # Fudge the histogram by multiplying all dist values by 1000,\n",
    "    # generating a fudge dataset with that many values in, \n",
    "    # and plotting the fudge.\n",
    "    dists = [dist_0, dist_F]\n",
    "    for i,dist in enumerate(dists):\n",
    "        fdist = []\n",
    "        if len(dist)>0:\n",
    "            for b in range(len(dist)):\n",
    "                fdist += [b]*int(dist[b]*1000)\n",
    "            # Draw the histograms:\n",
    "            dist0, bins0, _ = axs[i].hist(fdist, bins=[0,1,2,3,4,5,6,7], \n",
    "                                          density=True, width=0.6, align='mid')\n",
    "\n",
    "        # Sanity check:\n",
    "        axs[i].scatter(range(len(dist)),dist)\n",
    "    \n",
    "    \n",
    "    # Share y axis:\n",
    "    for ax in [ax0,axF]:\n",
    "        ax.set_xlabel('mRS')\n",
    "        ax.set_ylabel('P(mRS)')\n",
    "        ax.set_xlim(-0.3,6.9)\n",
    "        ax.set_ylim(0.0,0.6)\n",
    "        ax.tick_params(right=True,left=True)\n",
    "\n",
    "            \n",
    "    # Add labels for clarity:\n",
    "    ax0.annotate('Time 0hr',xy=(0.0,ax0.get_ylim()[1]*0.95),va='center',ha='left')\n",
    "    axF.annotate('Time of no effect',xy=(0.0,axF.get_ylim()[1]*0.95),\n",
    "                 va='center',ha='left')\n",
    "\n",
    "\n",
    "    # Move RHS plot's y-axis labels to its right:\n",
    "    axF.yaxis.tick_right()\n",
    "    axF.yaxis.set_label_position('right')\n",
    "\n",
    "    # Remind RHS axis to put tick marks on left:\n",
    "    axF.tick_params(left=True)\n",
    "    \n",
    "    fig.suptitle(title)\n",
    "    plt.show()\n",
    "    \n",
    "    # Sanity check:\n",
    "    print('Sums of the plotted distributions (LHS, RHS): ', np.sum(dist_0), np.sum(dist_F))"
   ]
  },
  {
   "cell_type": "code",
   "execution_count": 31,
   "id": "a88cad68",
   "metadata": {
    "scrolled": false
   },
   "outputs": [
    {
     "data": {
      "image/png": "[encoded data removed]",
      "text/plain": [
       "<Figure size 720x360 with 2 Axes>"
      ]
     },
     "metadata": {
      "needs_background": "light"
     },
     "output_type": "display_data"
    },
    {
     "name": "stdout",
     "output_type": "stream",
     "text": [
      "Sums of the plotted distributions (LHS, RHS):  0.0 0.0\n"
     ]
    },
    {
     "data": {
      "image/png": "[encoded data removed]",
      "text/plain": [
       "<Figure size 720x360 with 2 Axes>"
      ]
     },
     "metadata": {
      "needs_background": "light"
     },
     "output_type": "display_data"
    },
    {
     "name": "stdout",
     "output_type": "stream",
     "text": [
      "Sums of the plotted distributions (LHS, RHS):  0.0 1.0\n"
     ]
    },
    {
     "data": {
      "image/png": "[encoded data removed]",
      "text/plain": [
       "<Figure size 720x360 with 2 Axes>"
      ]
     },
     "metadata": {
      "needs_background": "light"
     },
     "output_type": "display_data"
    },
    {
     "name": "stdout",
     "output_type": "stream",
     "text": [
      "Sums of the plotted distributions (LHS, RHS):  1.0000000000000002 1.0\n"
     ]
    },
    {
     "data": {
      "image/png": "[encoded data removed]",
      "text/plain": [
       "<Figure size 720x360 with 2 Axes>"
      ]
     },
     "metadata": {
      "needs_background": "light"
     },
     "output_type": "display_data"
    },
    {
     "name": "stdout",
     "output_type": "stream",
     "text": [
      "Sums of the plotted distributions (LHS, RHS):  1.00000001 1.0\n"
     ]
    },
    {
     "data": {
      "image/png": "[encoded data removed]",
      "text/plain": [
       "<Figure size 720x360 with 2 Axes>"
      ]
     },
     "metadata": {
      "needs_background": "light"
     },
     "output_type": "display_data"
    },
    {
     "name": "stdout",
     "output_type": "stream",
     "text": [
      "Sums of the plotted distributions (LHS, RHS):  0.0 1.0\n"
     ]
    },
    {
     "data": {
      "image/png": "[encoded data removed]",
      "text/plain": [
       "<Figure size 720x360 with 2 Axes>"
      ]
     },
     "metadata": {
      "needs_background": "light"
     },
     "output_type": "display_data"
    },
    {
     "name": "stdout",
     "output_type": "stream",
     "text": [
      "Sums of the plotted distributions (LHS, RHS):  1.0000000087298315 1.0\n"
     ]
    }
   ],
   "source": [
    "# Haemorrhaegic:\n",
    "plot_two_hists([],[],title='Haemorrhaegic')\n",
    "\n",
    "# LVO untreated:\n",
    "plot_two_hists([], dist_F_LVO, title='LVO untreated')\n",
    "\n",
    "# LVO thrombolysis only:\n",
    "plot_two_hists(dist_0_LVOoly, dist_F_LVO, title='LVO thrombolysis')\n",
    "\n",
    "# LVO thrombectomy with/out thrombolysis:\n",
    "plot_two_hists(dist_0_pre, dist_F_LVO, title='LVO thrombectomy')\n",
    "\n",
    "# nLVO untreated:\n",
    "plot_two_hists([], dist_F_nLVO, title='nLVO untreated')\n",
    "\n",
    "# nLVO thrombolysis:\n",
    "plot_two_hists(dist_0_nLVOoly, dist_F_nLVO, title='nLVO thrombolysis')\n"
   ]
  },
  {
   "cell_type": "code",
   "execution_count": null,
   "id": "fa54674f",
   "metadata": {},
   "outputs": [],
   "source": []
  }
 ],
 "metadata": {
  "kernelspec": {
   "display_name": "Python 3",
   "language": "python",
   "name": "python3"
  },
  "language_info": {
   "codemirror_mode": {
    "name": "ipython",
    "version": 3
   },
   "file_extension": ".py",
   "mimetype": "text/x-python",
   "name": "python",
   "nbconvert_exporter": "python",
   "pygments_lexer": "ipython3",
   "version": "3.7.3"
  }
 },
 "nbformat": 4,
 "nbformat_minor": 5
}
