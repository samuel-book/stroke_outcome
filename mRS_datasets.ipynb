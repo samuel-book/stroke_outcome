{
 "cells": [
  {
   "cell_type": "markdown",
   "id": "b6a2719d",
   "metadata": {},
   "source": [
    "# Data behind the mRS probability distributions"
   ]
  },
  {
   "cell_type": "markdown",
   "id": "a6df60fa-2b72-4850-9ee4-480df7e19c0a",
   "metadata": {},
   "source": [
    "## Aims:"
   ]
  },
  {
   "cell_type": "markdown",
   "id": "8ea200a2-2d8d-4683-beb4-827e1079c1ce",
   "metadata": {},
   "source": [
    "All of the various mRS probability data sets are gathered here. We define probability distributions at times from onset to treatment of zero hours and of the no-effect time, $t_{ne}$. Any data sets containing mRS=6 (death) have the associated probability $P(\\mathrm{mRS}=6)$ removed, and the remaining values are normalised so that $P(\\mathrm{mRS}\\leq5)=1.0$.\n",
    "\n",
    "All of the probability distributions are plotted here as stacked horizontal bars and as histograms (bar charts).\n",
    "\n",
    "Most of the data is taken directly from the source, but some of the probability distributions here have been calculated from multiple data sets. These more complicated distributions are derived later on in this notebook. "
   ]
  },
  {
   "cell_type": "markdown",
   "id": "64da81f9-e347-4509-86eb-78a48b50ec8d",
   "metadata": {},
   "source": [
    "## Descriptions of the mRS data sets used here:"
   ]
  },
  {
   "cell_type": "markdown",
   "id": "db9f8ec0",
   "metadata": {
    "tags": []
   },
   "source": [
    "| Description | Time zero | No-effect time (no treatment) | \n",
    "| :-- | :-- | :-- |\n",
    "| Pre-stroke | The estimated pre-stroke mRS scores from SSNAP data, as used in the SAMueL-1 project. | N/A |\n",
    "| Haemorrhaegic | N/A | _(yet to find)_ |\n",
    "| nLVO & LVO combined | [Explained here](#nLVO-and-LVO-combined---t=0). We find the mRS$\\leq$1 data at time zero by combining the no-effect time data (from the Lees et al. 2010 no-treatment control group) with the odds ratio of mRS$\\leq$1 at $t=1$hrs (from Emberson et al. 2014). These two mRS$\\leq$1 points are converted to log(odds ratio), and connected by a straight line that we extrapolate back to time zero. This log(odds ratio) at time zero is converted to probability, and then used to scale the pre-stroke distribution into the final distribution. | The no-treatment control group from Lees et al. 2010, as measured from Figure 2. |\n",
    "| nLVO - untreated | N/A | [Explained here](#nLVO---untreated---time-of-no-effect). The weighted combination of the no-effect-time nLVO and LVO combined data (100%) and the no-effect-time LVO-only data (minus 40%), then further scaled to match $P(\\mathrm{mRS}\\leq1, t=t_\\mathrm{ne})=0.46$ from Holodinsky et al. 2018. |\n",
    "| nLVO - thrombolysis | [Explained here](#nLVO---thrombolysis). The weighted combination of pre-stroke (87%) and untreated nLVO at no-effect-time (13%), where weights are chosen to match the $P(\\mathrm{mRS}\\leq1, t=0)=0.63$ from Holodinsky et al. 2018. | Same as above. |\n",
    "| LVO - untreated | N/A | The control population from Goyal et al. 2016. |\n",
    "| LVO - thrombolysis only | [Explained here](#LVO---thrombolysis-only---t=0). Weighted combination of the no-effect-time LVO data (82%) and the pre-stroke data (18%). | Same as above. |\n",
    "| LVO - thrombectomy <br /> with/out thrombolysis | Assume that the stroke has had no effect, and so use the same mRS as pre-stroke. | Same as above. | "
   ]
  },
  {
   "cell_type": "markdown",
   "id": "b8a4a68a-e1d0-4393-b933-ce8f9e5cc748",
   "metadata": {},
   "source": [
    "[References can be found here.](#References)"
   ]
  },
  {
   "cell_type": "markdown",
   "id": "f37e4180-d550-4070-8f0f-07e31142c668",
   "metadata": {},
   "source": [
    "---"
   ]
  },
  {
   "cell_type": "markdown",
   "id": "d088757c-5ba1-4caa-b085-a52232bbf7de",
   "metadata": {},
   "source": [
    "## Notebook admin"
   ]
  },
  {
   "cell_type": "code",
   "execution_count": 1,
   "id": "38dd8b9d",
   "metadata": {},
   "outputs": [],
   "source": [
    "# Keep notebook cleaner once finalised\n",
    "import warnings\n",
    "warnings.filterwarnings('ignore')"
   ]
  },
  {
   "cell_type": "code",
   "execution_count": 2,
   "id": "7e253275",
   "metadata": {},
   "outputs": [],
   "source": [
    "# Import packages\n",
    "import numpy as np\n",
    "import matplotlib.pyplot as plt"
   ]
  },
  {
   "cell_type": "code",
   "execution_count": 3,
   "id": "d84aa344",
   "metadata": {},
   "outputs": [],
   "source": [
    "# Set up MatPlotLib\n",
    "%matplotlib inline\n",
    "# Change default colour scheme:\n",
    "plt.style.use('seaborn-colorblind')"
   ]
  },
  {
   "cell_type": "markdown",
   "id": "638eb3d7-0524-4ce3-9c58-156524158685",
   "metadata": {},
   "source": [
    "---"
   ]
  },
  {
   "cell_type": "markdown",
   "id": "a4209bd8-1381-4d7e-8b68-e55799da4933",
   "metadata": {},
   "source": [
    "## Import data"
   ]
  },
  {
   "cell_type": "markdown",
   "id": "2789ec4a-f5bf-4689-b7ba-011898f9d9d4",
   "metadata": {},
   "source": [
    "The mRS probability distributions are stored in dictionaries in a file."
   ]
  },
  {
   "cell_type": "markdown",
   "id": "c69c0434-15e1-44ee-9050-7d2e433df926",
   "metadata": {},
   "source": [
    "The dictionaries are named using these strings:\n",
    "+ `t0_treatment` - data from time $t=0$hr\n",
    "+ `no_treatment` - data from the no-effect time $t=t_{ne}$\n",
    "+ `lvo` - large-vessel occlusion\n",
    "+ `nlvo` - non-large-vessel occlusion\n",
    "+ `ich` - intra-cerebral haemorrhaege\n",
    "+ `pre-stroke` - data recorded before the onset of stroke\n",
    "+ `oly` - thromb**oly**sis used\n",
    "+ `ect` - thromb**ect**omy used.\n",
    "\n",
    "Each dictionary contains an entry for:\n",
    "+ `dist_mrs6` - mRS distribution including mRS=6. If the mRS=6 data is unknown, it is set to 0. \n",
    "+ `dist` - mRS distribution excluding mRS=6.\n",
    "+ `bins` - cumulative probabilities of `dist`."
   ]
  },
  {
   "cell_type": "markdown",
   "id": "25a4710d-7a5d-45e7-9d0a-ef4536e14c47",
   "metadata": {},
   "source": [
    "We import the data corresponding to the table above from `mRS_datasets.py` in the `outcome_utilities` directory:"
   ]
  },
  {
   "cell_type": "code",
   "execution_count": 4,
   "id": "71d44464-5cc7-40e8-b707-1162c89a5176",
   "metadata": {},
   "outputs": [],
   "source": [
    "from outcome_utilities.mRS_datasets import (dict_pre_stroke, \n",
    "    dict_t0_treatment_ich,      dict_no_treatment_ich, \n",
    "    dict_t0_treatment_nlvo_lvo, dict_no_treatment_nlvo_lvo,\n",
    "    dict_t0_treatment_lvo,      dict_no_treatment_lvo,\n",
    "    dict_t0_treatment_lvo_oly,  dict_no_treatment_lvo_oly, \n",
    "    dict_t0_treatment_lvo_ect,  dict_no_treatment_lvo_ect, \n",
    "    dict_t0_treatment_nlvo,     dict_no_treatment_nlvo, \n",
    "    dict_t0_treatment_nlvo_oly, dict_no_treatment_nlvo_oly)"
   ]
  },
  {
   "cell_type": "markdown",
   "id": "0fbca846-19b3-4125-83ab-b3aa3e656872",
   "metadata": {},
   "source": [
    "__Example 1:__ Removal of mRS=6 data"
   ]
  },
  {
   "cell_type": "markdown",
   "id": "cf18c0f4-6100-4bf0-947e-7c3bc8f27e19",
   "metadata": {},
   "source": [
    "The original distribution of the no-effect-time combined nLVO and LVO data contains an entry for mRS=6:"
   ]
  },
  {
   "cell_type": "code",
   "execution_count": 5,
   "id": "f0a9d07b-4689-45d1-b473-21071faf23da",
   "metadata": {},
   "outputs": [
    {
     "data": {
      "text/plain": [
       "array([0.14861582, 0.2022106 , 0.12525408, 0.13965201, 0.1806092 ,\n",
       "       0.08612256, 0.11753573])"
      ]
     },
     "execution_count": 5,
     "metadata": {},
     "output_type": "execute_result"
    }
   ],
   "source": [
    "dict_no_treatment_nlvo_lvo['dist_mrs6']"
   ]
  },
  {
   "cell_type": "markdown",
   "id": "0fb1bd9a-c0a4-47db-9aa1-848700e313d2",
   "metadata": {},
   "source": [
    "When we remove the mRS=6 entry, the remaining values are re-normalised so that the new distribution sums to one:"
   ]
  },
  {
   "cell_type": "code",
   "execution_count": 6,
   "id": "dadc6717-864e-423f-abe7-a80a1bce7ad2",
   "metadata": {},
   "outputs": [
    {
     "data": {
      "text/plain": [
       "array([0.16841001, 0.2291431 , 0.14193672, 0.15825231, 0.2046646 ,\n",
       "       0.09759325])"
      ]
     },
     "execution_count": 6,
     "metadata": {},
     "output_type": "execute_result"
    }
   ],
   "source": [
    "dict_no_treatment_nlvo_lvo['dist']"
   ]
  },
  {
   "cell_type": "code",
   "execution_count": 7,
   "id": "7449cb1e-eceb-4ad8-8f87-faedff82b237",
   "metadata": {},
   "outputs": [
    {
     "data": {
      "text/plain": [
       "array([0.16841001, 0.39755312, 0.53948983, 0.69774214, 0.90240675,\n",
       "       1.        ])"
      ]
     },
     "execution_count": 7,
     "metadata": {},
     "output_type": "execute_result"
    }
   ],
   "source": [
    "dict_no_treatment_nlvo_lvo['bins']"
   ]
  },
  {
   "cell_type": "markdown",
   "id": "5fa1137d-bd9e-43d8-87f8-648d9531fa12",
   "metadata": {},
   "source": [
    "__Example 2:__ Invalid data"
   ]
  },
  {
   "cell_type": "markdown",
   "id": "4168b62f-7b95-418e-9ad2-233be5f82aef",
   "metadata": {},
   "source": [
    "Some of the probability distributions are unknown. In these cases, we fill the arrays with placeholder negative values. For example, we have no data for intra-cerebral haemorrhaege at time zero:"
   ]
  },
  {
   "cell_type": "code",
   "execution_count": 8,
   "id": "b84705b0-d3f0-4907-864e-fa6c91392a75",
   "metadata": {},
   "outputs": [
    {
     "data": {
      "text/plain": [
       "array([-1, -1, -1, -1, -1, -1])"
      ]
     },
     "execution_count": 8,
     "metadata": {},
     "output_type": "execute_result"
    }
   ],
   "source": [
    "dict_t0_treatment_ich['dist']"
   ]
  },
  {
   "cell_type": "markdown",
   "id": "cb03e564-8265-475e-856a-3d6fa241ce36",
   "metadata": {},
   "source": [
    "Since we never ordinarily expect negative probabilities, seeing a negative number in one of the lists is an indication that the data is invalid."
   ]
  },
  {
   "cell_type": "markdown",
   "id": "2e9922de-900a-4336-98a5-403a63f4b066",
   "metadata": {},
   "source": [
    "---"
   ]
  },
  {
   "cell_type": "markdown",
   "id": "d787c487-b808-4e64-a8ce-94b126986645",
   "metadata": {},
   "source": [
    "## Plot the data"
   ]
  },
  {
   "cell_type": "markdown",
   "id": "5dfb3f69-a68c-430d-ad2f-ad7c0ad8ddfa",
   "metadata": {},
   "source": [
    "For our convenience in this notebook, we'll gather all of the imported data into one big list:"
   ]
  },
  {
   "cell_type": "code",
   "execution_count": 9,
   "id": "4b2d60b5-370b-40e8-a794-951c7adb246d",
   "metadata": {},
   "outputs": [],
   "source": [
    "big_data_list = [\n",
    "    [dict_pre_stroke,            {'dist':[-1]*6},            'Pre-stroke'],\n",
    "    [dict_t0_treatment_ich,      dict_no_treatment_ich,      'Haemorrhaegic'],\n",
    "    [dict_t0_treatment_nlvo_lvo, dict_no_treatment_nlvo_lvo, 'nLVO and LVO combined'],\n",
    "    [dict_t0_treatment_lvo,      dict_no_treatment_lvo,      'LVO untreated'],\n",
    "    [dict_t0_treatment_lvo_oly,  dict_no_treatment_lvo_oly,  'LVO thrombolysis'],\n",
    "    [dict_t0_treatment_lvo_ect,  dict_no_treatment_lvo_ect,  'LVO thrombectomy'],\n",
    "    [dict_t0_treatment_nlvo,     dict_no_treatment_nlvo,     'nLVO untreated'],\n",
    "    [dict_t0_treatment_nlvo_oly, dict_no_treatment_nlvo_oly, 'nLVO thrombolysis']\n",
    "    ]"
   ]
  },
  {
   "cell_type": "markdown",
   "id": "c7299184-7ace-46cc-ab2c-93f9054ece74",
   "metadata": {},
   "source": [
    "### Stacked bars"
   ]
  },
  {
   "cell_type": "markdown",
   "id": "da9b1a47-d2d1-4789-8a56-a9e39d211e6b",
   "metadata": {},
   "source": [
    "Define a function for plotting the stacked horizontal bar:"
   ]
  },
  {
   "cell_type": "code",
   "execution_count": 10,
   "id": "335e8b5a-db68-4e86-be42-be19e5165ae5",
   "metadata": {},
   "outputs": [],
   "source": [
    "def draw_horizontal_bar(dist,label=''):\n",
    "    \"\"\"\n",
    "    Draw a stacked horizontal bar chart of the values in 'dist'.\n",
    "    \n",
    "    dist  - list or np.array. The probability distribution \n",
    "            (non-cumulative).\n",
    "    label - string. The name printed next to these stacked bars.\n",
    "    \"\"\"\n",
    "    # The first bar will start at this point on the x-axis:\n",
    "    left = 0\n",
    "    for i in range(len(dist)):\n",
    "        # Draw a bar starting from 'left', the end of the previous bar,\n",
    "        # with a width equal to the probability of this mRS:\n",
    "        plt.barh(label, width=dist[i], left=left, height=0.3, \n",
    "                 label=f'{i}', edgecolor='k')\n",
    "        # Update 'left' with the width of the current bar so that the \n",
    "        # next bar drawn will start in the correct place.    \n",
    "        left += dist[i]"
   ]
  },
  {
   "cell_type": "code",
   "execution_count": 11,
   "id": "48f5b393-a28a-497e-acdc-0c889cfd34e4",
   "metadata": {},
   "outputs": [],
   "source": [
    "def draw_connections(dist_t0, dist_tne, top_tne=0.15, bottom_t0=0.85):\n",
    "    \"\"\"\n",
    "    Draw lines connecting the mRS bins in the top and bottom rows.\n",
    "    \n",
    "    dist_t0, dist_tne - lists or arrays. Probability distributions.\n",
    "    top_tne, bottom_t0 - floats. y-coordinates just inside the bars. \n",
    "    \"\"\"\n",
    "    left_t0   = 0.0\n",
    "    left_tne  = 0.0\n",
    "    for i, d_t0 in enumerate(dict_t0['dist']):\n",
    "        left_t0  +=  dict_t0['dist'][i]\n",
    "        left_tne += dict_tne['dist'][i]\n",
    "        plt.plot([left_t0,left_tne],[bottom_t0,top_tne],color='Gainsboro')"
   ]
  },
  {
   "cell_type": "markdown",
   "id": "b72da8e4-2646-4741-8ad8-4b4b71643984",
   "metadata": {},
   "source": [
    "Run through each row of the big data list in turn and plot its data:"
   ]
  },
  {
   "cell_type": "code",
   "execution_count": 12,
   "id": "04e5c0a9-6048-40dd-9b71-dd2b6da21374",
   "metadata": {},
   "outputs": [
    {
     "data": {
      "image/png": "[encoded data removed]",
      "text/plain": [
       "<Figure size 432x288 with 1 Axes>"
      ]
     },
     "metadata": {
      "needs_background": "light"
     },
     "output_type": "display_data"
    },
    {
     "data": {
      "image/png": "[encoded data removed]",
      "text/plain": [
       "<Figure size 432x288 with 1 Axes>"
      ]
     },
     "metadata": {
      "needs_background": "light"
     },
     "output_type": "display_data"
    },
    {
     "data": {
      "image/png": "[encoded data removed]",
      "text/plain": [
       "<Figure size 432x288 with 1 Axes>"
      ]
     },
     "metadata": {
      "needs_background": "light"
     },
     "output_type": "display_data"
    },
    {
     "data": {
      "image/png": "[encoded data removed]",
      "text/plain": [
       "<Figure size 432x288 with 1 Axes>"
      ]
     },
     "metadata": {
      "needs_background": "light"
     },
     "output_type": "display_data"
    },
    {
     "data": {
      "image/png": "[encoded data removed]",
      "text/plain": [
       "<Figure size 432x288 with 1 Axes>"
      ]
     },
     "metadata": {
      "needs_background": "light"
     },
     "output_type": "display_data"
    },
    {
     "data": {
      "image/png": "[encoded data removed]",
      "text/plain": [
       "<Figure size 432x288 with 1 Axes>"
      ]
     },
     "metadata": {
      "needs_background": "light"
     },
     "output_type": "display_data"
    },
    {
     "data": {
      "image/png": "[encoded data removed]",
      "text/plain": [
       "<Figure size 432x288 with 1 Axes>"
      ]
     },
     "metadata": {
      "needs_background": "light"
     },
     "output_type": "display_data"
    },
    {
     "data": {
      "image/png": "[encoded data removed]",
      "text/plain": [
       "<Figure size 432x288 with 1 Axes>"
      ]
     },
     "metadata": {
      "needs_background": "light"
     },
     "output_type": "display_data"
    }
   ],
   "source": [
    "for data_list in big_data_list:\n",
    "    \n",
    "    dict_t0  = data_list[0]\n",
    "    dict_tne = data_list[1]\n",
    "    label    = data_list[2]\n",
    "    \n",
    "    draw_horizontal_bar(dict_tne['dist'], 'no effect time')\n",
    "    \n",
    "    # Add legend now to prevent doubling all the labels:\n",
    "    plt.legend(loc='center',ncol=6, title='mRS',\n",
    "               bbox_to_anchor=[0.5,0.0,0.0,-0.5])   # Legend below axis.\n",
    "    \n",
    "    draw_horizontal_bar(dict_t0['dist'], 't=0hr')\n",
    "    \n",
    "    # Draw connecting lines between the two mRS groups:\n",
    "    if np.sum(dict_t0['dist'])>0 and np.sum(dict_tne['dist'])>0:\n",
    "        draw_connections(dict_t0['dist'], dict_tne['dist'])\n",
    "\n",
    "       \n",
    "    plt.xlabel('Probability')\n",
    "    plt.title(label)\n",
    "    plt.xlim(0,1)\n",
    "    plt.show()"
   ]
  },
  {
   "cell_type": "markdown",
   "id": "088f2ba9-7a02-4c4b-bd66-f34fa0c31192",
   "metadata": {},
   "source": [
    "### Histograms (bar charts)"
   ]
  },
  {
   "cell_type": "markdown",
   "id": "2d1ff3f7-2919-496b-898d-01ebe852e100",
   "metadata": {},
   "source": [
    "We'll write another function to draw the probability distributions as histograms:"
   ]
  },
  {
   "cell_type": "code",
   "execution_count": 13,
   "id": "9d783535-e42a-4a04-9869-6ba0d3962ab6",
   "metadata": {},
   "outputs": [],
   "source": [
    "def plot_two_bars(mrs_prob_dist_t0_treatment=[],\n",
    "                  mrs_prob_dist_no_treatment=[], title=''):\n",
    "    \"\"\"\n",
    "    Draw two histograms with shared scales. One for time zero, the \n",
    "    other for the no-effect time. \n",
    "    \n",
    "    mrs_prob_dist_t0/no_treatment - list or np.array. Probability \n",
    "                                    distribution at given time. \n",
    "    title                         - string. title for the plot.\n",
    "    \"\"\"\n",
    "    fig, axs = plt.subplots(1,2)\n",
    "        \n",
    "    # Plot the data:\n",
    "    axs[0].bar(range(6),mrs_prob_dist_t0_treatment)\n",
    "    axs[1].bar(range(6),mrs_prob_dist_no_treatment)\n",
    "    \n",
    "    # Labels and axis setup:\n",
    "    labels = ['Time 0hr', 'Time of no effect']\n",
    "    # Share y axis:\n",
    "    for i,ax in enumerate(axs):\n",
    "        ax.set_xlabel('mRS')\n",
    "        ax.set_ylabel('Probability')\n",
    "        ax.set_xlim(-0.3,6.9)\n",
    "        ax.set_ylim(0.0,0.6)\n",
    "        ax.tick_params(right=True, left=True)\n",
    "        ax.annotate(labels[i], xy=(0.0, ax.get_ylim()[1]*0.95),\n",
    "                    va='center', ha='left')\n",
    "\n",
    "    # Move RHS plot's y-axis labels to its right:\n",
    "    axs[1].yaxis.tick_right()\n",
    "    axs[1].yaxis.set_label_position('right')\n",
    "    # Remind RHS axis to put tick marks on left:\n",
    "    axs[1].tick_params(left=True)\n",
    "    \n",
    "    fig.suptitle(title)\n",
    "    plt.show()"
   ]
  },
  {
   "cell_type": "markdown",
   "id": "2b23765d-d8ea-4533-a1ba-5f7ab5566c19",
   "metadata": {},
   "source": [
    "Now plot each row of the big data list:"
   ]
  },
  {
   "cell_type": "code",
   "execution_count": 14,
   "id": "df460b73-c53d-4e36-a5ab-b1b836dee70a",
   "metadata": {},
   "outputs": [
    {
     "data": {
      "image/png": "[encoded data removed]",
      "text/plain": [
       "<Figure size 432x288 with 2 Axes>"
      ]
     },
     "metadata": {
      "needs_background": "light"
     },
     "output_type": "display_data"
    },
    {
     "data": {
      "image/png": "[encoded data removed]",
      "text/plain": [
       "<Figure size 432x288 with 2 Axes>"
      ]
     },
     "metadata": {
      "needs_background": "light"
     },
     "output_type": "display_data"
    },
    {
     "data": {
      "image/png": "[encoded data removed]",
      "text/plain": [
       "<Figure size 432x288 with 2 Axes>"
      ]
     },
     "metadata": {
      "needs_background": "light"
     },
     "output_type": "display_data"
    },
    {
     "data": {
      "image/png": "[encoded data removed]",
      "text/plain": [
       "<Figure size 432x288 with 2 Axes>"
      ]
     },
     "metadata": {
      "needs_background": "light"
     },
     "output_type": "display_data"
    },
    {
     "data": {
      "image/png": "[encoded data removed]",
      "text/plain": [
       "<Figure size 432x288 with 2 Axes>"
      ]
     },
     "metadata": {
      "needs_background": "light"
     },
     "output_type": "display_data"
    },
    {
     "data": {
      "image/png": "[encoded data removed]",
      "text/plain": [
       "<Figure size 432x288 with 2 Axes>"
      ]
     },
     "metadata": {
      "needs_background": "light"
     },
     "output_type": "display_data"
    },
    {
     "data": {
      "image/png": "[encoded data removed]",
      "text/plain": [
       "<Figure size 432x288 with 2 Axes>"
      ]
     },
     "metadata": {
      "needs_background": "light"
     },
     "output_type": "display_data"
    },
    {
     "data": {
      "image/png": "[encoded data removed]",
      "text/plain": [
       "<Figure size 432x288 with 2 Axes>"
      ]
     },
     "metadata": {
      "needs_background": "light"
     },
     "output_type": "display_data"
    }
   ],
   "source": [
    "for data_list in big_data_list:\n",
    "    \n",
    "    dict_t0  = data_list[0]\n",
    "    dict_tne = data_list[1]\n",
    "    label    = data_list[2]\n",
    "    \n",
    "    plot_two_bars(dict_t0['dist'], dict_tne['dist'], label)"
   ]
  },
  {
   "cell_type": "markdown",
   "id": "60cb8b86-4f68-4c9f-b877-a9bf77942bae",
   "metadata": {},
   "source": [
    "## Tabulate data"
   ]
  },
  {
   "cell_type": "markdown",
   "id": "aceb44d0-a1d2-4d81-b31f-1aba1565e297",
   "metadata": {},
   "source": [
    "For future reference, here are all of the data printed in comma-separated format. "
   ]
  },
  {
   "cell_type": "code",
   "execution_count": 15,
   "id": "edd29681-198c-46e9-a3d9-9faf30022f7a",
   "metadata": {},
   "outputs": [
    {
     "name": "stdout",
     "output_type": "stream",
     "text": [
      "                       ,           , ------------------------------mRS--------------------------------\n",
      "Distribution           ,   Time    ,     0    ,     1    ,     2    ,     3    ,     4    ,     5    \n",
      "------------------------------------------------------------------------------------------------------\n",
      "Pre-stroke             , Zero      ,   0.54957,   0.14895,   0.09807,   0.11769,   0.06708,   0.01864\n",
      "Pre-stroke             , No effect ,  -1.00000,  -1.00000,  -1.00000,  -1.00000,  -1.00000,  -1.00000\n",
      "Haemorrhaegic          , Zero      ,  -1.00000,  -1.00000,  -1.00000,  -1.00000,  -1.00000,  -1.00000\n",
      "Haemorrhaegic          , No effect ,  -1.00000,  -1.00000,  -1.00000,  -1.00000,  -1.00000,  -1.00000\n",
      "nLVO and LVO combined  , Zero      ,   0.46101,   0.12495,   0.13468,   0.16163,   0.09212,   0.02561\n",
      "nLVO and LVO combined  , No effect ,   0.16841,   0.22914,   0.14194,   0.15825,   0.20466,   0.09759\n",
      "LVO untreated          , Zero      ,  -1.00000,  -1.00000,  -1.00000,  -1.00000,  -1.00000,  -1.00000\n",
      "LVO untreated          , No effect ,   0.06165,   0.09741,   0.16769,   0.20222,   0.30456,   0.16646\n",
      "LVO thrombolysis       , Zero      ,   0.14948,   0.10669,   0.15516,   0.18700,   0.26181,   0.13985\n",
      "LVO thrombolysis       , No effect ,   0.06165,   0.09741,   0.16769,   0.20222,   0.30456,   0.16646\n",
      "LVO thrombectomy       , Zero      ,   0.54957,   0.14895,   0.09807,   0.11769,   0.06708,   0.01864\n",
      "LVO thrombectomy       , No effect ,   0.06165,   0.09741,   0.16769,   0.20222,   0.30456,   0.16646\n",
      "nLVO untreated         , Zero      ,  -1.00000,  -1.00000,  -1.00000,  -1.00000,  -1.00000,  -1.00000\n",
      "nLVO untreated         , No effect ,   0.19802,   0.26198,   0.15193,   0.15701,   0.16813,   0.06293\n",
      "nLVO thrombolysis      , Zero      ,   0.44858,   0.18142,   0.11354,   0.12899,   0.09611,   0.03137\n",
      "nLVO thrombolysis      , No effect ,   0.19802,   0.26198,   0.15193,   0.15701,   0.16813,   0.06293\n"
     ]
    }
   ],
   "source": [
    "# Print the column headings:\n",
    "print(' '*23 + ',' +' '*11 + ', ' + '-'*30 + 'mRS' + '-'*32)\n",
    "header = 'Distribution           ,   Time    '\n",
    "for j in range(6):\n",
    "    header += ',' + ' '*5 + str(j) + ' '*4 \n",
    "print(header)\n",
    "print('-'*102)\n",
    "\n",
    "# Switch between printing these two times on alternate rows:\n",
    "times = ['Zero', 'No effect']\n",
    "\n",
    "# Print each row of data from the big list:\n",
    "for row in big_data_list:\n",
    "    for i,data_list in enumerate([row[0], row[1]]):\n",
    "        # Add label and time to the string:\n",
    "        p_str = f'{row[2]:23}, {times[i]:10}'\n",
    "        for j in range(6):\n",
    "            # Add this mRS value to the string, to 5 decimal places:\n",
    "            p_str += f',  {data_list[\"dist\"][j]:8.5f}'\n",
    "        print(p_str)"
   ]
  },
  {
   "cell_type": "markdown",
   "id": "8b57cf77",
   "metadata": {},
   "source": [
    "---"
   ]
  },
  {
   "cell_type": "markdown",
   "id": "14e17147-b37a-4979-a54a-2327dccc4693",
   "metadata": {},
   "source": [
    "# Distributions that require explanation"
   ]
  },
  {
   "cell_type": "markdown",
   "id": "b2aa32ce",
   "metadata": {},
   "source": [
    "## nLVO and LVO combined - t=0"
   ]
  },
  {
   "cell_type": "markdown",
   "id": "e4b4e7dd-7198-4ba3-aa1d-6eba58f31dee",
   "metadata": {},
   "source": [
    "Summary: Use the \"no effect\" distribution with the t=1hr value from Emberson+2014 to extrapolate back and find a t=0hr point, then scale the pre-stroke bins back to match."
   ]
  },
  {
   "cell_type": "markdown",
   "id": "c34b4507-76c4-4ef7-a7ae-007874b71240",
   "metadata": {},
   "source": [
    "Steps:\n",
    "1. Gather the known data at different times.\n",
    "    + Odds ratio $OR(\\mathrm{mRS}\\leq1, t=1hr)$ from Emberson et al. 2014.\n",
    "    + Probability $P(\\mathrm{mRS}\\leq1, t=t_\\mathrm{ne})$ from Lees et al. 2010.\n",
    "    + The pre-stroke probability distribution from the SAMueL dataset. \n",
    "    \n",
    "1. Use the function `extrapolate_odds_ratio` to do the following:\n",
    "   1. Convert $OR(\\mathrm{mRS}\\leq1, t=1hr)$ and $P(\\mathrm{mRS}\\leq1, t=t_\\mathrm{ne})$ to log(odds ratio) and connect the two points with a straight line. \n",
    "   1. Extrapolate the line to time zero.\n",
    "   1. Convert log(odds ratio) at time zero back to probability.\n",
    "   1. We now have data for $P(\\mathrm{mRS}\\leq1, t=0)$.\n",
    "    \n",
    "1. Use the function `scale_dist` to do the following:\n",
    "   1. Move the pre-stroke $P(\\mathrm{mRS}\\leq1)$ value to match $P(\\mathrm{mRS}\\leq1, t=0)$.\n",
    "   1. Scale the pre-stroke probabilities for the other mRS bins around $P(\\mathrm{mRS}\\leq1, t=0)$, otherwise keeping the same bin size proportions.\n",
    "   \n",
    "Result: Probability distribution at time zero for the combined nLVO and LVO patients."
   ]
  },
  {
   "cell_type": "markdown",
   "id": "6b9f2f71-d8f2-4b39-b30a-fc6c423a78ac",
   "metadata": {},
   "source": [
    "__Step 1:__ Use the following imported datasets and known values: "
   ]
  },
  {
   "cell_type": "code",
   "execution_count": 16,
   "id": "6ca716ec-9041-4736-9f01-04c8ec998928",
   "metadata": {},
   "outputs": [],
   "source": [
    "mrs_prob_bins_no_treatment_nlvo_lvo = dict_no_treatment_nlvo_lvo['bins']\n",
    "mrs_prob_bins_pre_stroke            = dict_pre_stroke['bins']"
   ]
  },
  {
   "cell_type": "code",
   "execution_count": 17,
   "id": "f06527fd-8051-4b6b-85ae-1d9fd1c75840",
   "metadata": {},
   "outputs": [],
   "source": [
    "OR   = 1.9\n",
    "t_ne = 6.3 # hours\n",
    "p_ne = mrs_prob_bins_no_treatment_nlvo_lvo[1]"
   ]
  },
  {
   "cell_type": "markdown",
   "id": "53921385-3d0e-4dec-b75e-fc3f6a6a08e0",
   "metadata": {},
   "source": [
    "__Step 2:__ Use the mRS$\\leq$1 odds ratio at t=1hr, `OR`, and probability at the no-effect time, `p_ne`, to find the time zero odds ratio `OR_t0` and probability `p_t0`.\n",
    "\n",
    "(The returned `a` and `b` go unused here but are the constants used to make the straight line log(odds ratio)$=a+bt$.)"
   ]
  },
  {
   "cell_type": "code",
   "execution_count": 18,
   "id": "d90e4c1a-2a07-48c1-a069-4afea9fbcea9",
   "metadata": {},
   "outputs": [],
   "source": [
    "from outcome_utilities.extrapolate_odds_ratio import extrapolate_odds_ratio\n",
    "\n",
    "OR_t0, p_t0, a, b = extrapolate_odds_ratio(\n",
    "    t_1=60,      OR_1=OR,              # t=1hr data\n",
    "    t_2=60*t_ne, OR_2=1,   p_2=p_ne,   # t=t_ne data\n",
    "    t_e=0 )                            # Extrapolate to time 0."
   ]
  },
  {
   "cell_type": "markdown",
   "id": "f413eb59-17dd-4e40-8dc6-9daf73ca524a",
   "metadata": {},
   "source": [
    "__Step 3:__ Use the new probability `p_t0` to scale the pre-stroke bins:"
   ]
  },
  {
   "cell_type": "code",
   "execution_count": 19,
   "id": "be2d17a8-f461-456b-9f45-6b34c00906ea",
   "metadata": {},
   "outputs": [],
   "source": [
    "from outcome_utilities.scale_dist import scale_dist\n",
    "\n",
    "mrs_prob_dist_t0_treatment_nlvo_lvo, mrs_prob_bins_no_treatment_nlvo_lvo = (\n",
    "    scale_dist(mrs_prob_bins_pre_stroke, p_t0, mRS_ref=1))"
   ]
  },
  {
   "cell_type": "markdown",
   "id": "62f70fc8-6fdd-460b-b314-e9d4e2de0b5e",
   "metadata": {},
   "source": [
    "__Result:__ The newly-created time zero probability distribution:"
   ]
  },
  {
   "cell_type": "code",
   "execution_count": 20,
   "id": "a46235ca-379a-4f14-8b4b-801b9380afea",
   "metadata": {},
   "outputs": [
    {
     "data": {
      "text/plain": [
       "array([0.46101   , 0.12494963, 0.1346828 , 0.16163172, 0.09212051,\n",
       "       0.02560533])"
      ]
     },
     "execution_count": 20,
     "metadata": {},
     "output_type": "execute_result"
    }
   ],
   "source": [
    "mrs_prob_dist_t0_treatment_nlvo_lvo"
   ]
  },
  {
   "cell_type": "markdown",
   "id": "d7644065-5977-46bf-9de1-ef989cd60efa",
   "metadata": {},
   "source": [
    "Compare with the imported data:"
   ]
  },
  {
   "cell_type": "code",
   "execution_count": 21,
   "id": "c5fde34f-9c3c-4df1-b3ed-2971f7ba8246",
   "metadata": {},
   "outputs": [
    {
     "data": {
      "text/plain": [
       "array([0.46101   , 0.12494963, 0.1346828 , 0.16163172, 0.09212051,\n",
       "       0.02560533])"
      ]
     },
     "execution_count": 21,
     "metadata": {},
     "output_type": "execute_result"
    }
   ],
   "source": [
    "dict_t0_treatment_nlvo_lvo['dist']"
   ]
  },
  {
   "cell_type": "markdown",
   "id": "e6720f79",
   "metadata": {},
   "source": [
    "---"
   ]
  },
  {
   "cell_type": "markdown",
   "id": "33e0cd5b",
   "metadata": {},
   "source": [
    "## LVO - thrombolysis only - t=0"
   ]
  },
  {
   "cell_type": "markdown",
   "id": "205e6a73",
   "metadata": {},
   "source": [
    "Summary: Weighted distribution of 18% full effect (using the time zero pre-stroke distribution) with 82% no effect (using the no-effect-time LVO distribution), as in Holodinsky et al. 2018. "
   ]
  },
  {
   "cell_type": "markdown",
   "id": "872525b7-f59f-4dbd-ad63-a9150c453cff",
   "metadata": {},
   "source": [
    "Steps:\n",
    "1. Gather the known data.\n",
    "    + Pre-stroke probability distribution\n",
    "    + No-effect LVO probability distribution\n",
    "    + Weights of 18% and 82% respectively.\n",
    "1. Multiply each distribution by its weighting, and then sum the two weighted distributions.\n",
    " \n",
    "Result: Probability distribution at time zero for the LVO patients treated with thrombolysis."
   ]
  },
  {
   "cell_type": "markdown",
   "id": "954172d8-4fae-4363-bdd1-4b402d700ba9",
   "metadata": {},
   "source": [
    "__Step 1:__ Use the following imported datasets and known values: "
   ]
  },
  {
   "cell_type": "code",
   "execution_count": 22,
   "id": "2b2a7225-ca68-4d97-909b-1b1af2e096b1",
   "metadata": {},
   "outputs": [],
   "source": [
    "mrs_prob_dist_pre_stroke = dict_pre_stroke['dist']\n",
    "mrs_prob_dist_no_treatment_lvo = dict_no_treatment_lvo['dist']"
   ]
  },
  {
   "cell_type": "code",
   "execution_count": 23,
   "id": "8065b395-9173-41e5-8b96-c5254f320202",
   "metadata": {},
   "outputs": [
    {
     "name": "stdout",
     "output_type": "stream",
     "text": [
      "Weighting for pre-stroke data: 0.18\n",
      "Weighting for untreated LVO data: 0.82\n"
     ]
    }
   ],
   "source": [
    "from outcome_utilities.mRS_datasets import (\n",
    "    weight_pre_stroke_lvo_oly, weight_no_treatment_lvo_oly)\n",
    "\n",
    "print('Weighting for pre-stroke data:',    weight_pre_stroke_lvo_oly)\n",
    "print('Weighting for untreated LVO data:', weight_no_treatment_lvo_oly)"
   ]
  },
  {
   "cell_type": "markdown",
   "id": "5d79da44-e5d5-409d-ae7f-d30cc6dfd20c",
   "metadata": {},
   "source": [
    "__Step 2:__ Apply the weights:"
   ]
  },
  {
   "cell_type": "code",
   "execution_count": 24,
   "id": "dee1793d",
   "metadata": {},
   "outputs": [],
   "source": [
    "mrs_prob_dist_t0_treatment_lvo_oly = (\n",
    "    (weight_pre_stroke_lvo_oly   * mrs_prob_dist_pre_stroke) + \n",
    "    (weight_no_treatment_lvo_oly * mrs_prob_dist_no_treatment_lvo) )"
   ]
  },
  {
   "cell_type": "markdown",
   "id": "d8dc8184-2b56-4a86-8a2b-54f4531fb472",
   "metadata": {},
   "source": [
    "__Result:__ The newly-created time zero probability distribution:"
   ]
  },
  {
   "cell_type": "code",
   "execution_count": 25,
   "id": "9992bc49",
   "metadata": {},
   "outputs": [
    {
     "data": {
      "text/plain": [
       "array([0.14947714, 0.10668805, 0.15516151, 0.1870043 , 0.26181487,\n",
       "       0.13985412])"
      ]
     },
     "execution_count": 25,
     "metadata": {},
     "output_type": "execute_result"
    }
   ],
   "source": [
    "mrs_prob_dist_t0_treatment_lvo_oly"
   ]
  },
  {
   "cell_type": "markdown",
   "id": "ae8f2bf1-a2dc-4643-94c6-534e6c94d161",
   "metadata": {},
   "source": [
    "Compare this with the imported distribution:"
   ]
  },
  {
   "cell_type": "code",
   "execution_count": 26,
   "id": "b45c4a41-2b74-4887-9303-fe7ffee24e4a",
   "metadata": {},
   "outputs": [
    {
     "data": {
      "text/plain": [
       "array([0.14947714, 0.10668805, 0.15516151, 0.1870043 , 0.26181487,\n",
       "       0.13985412])"
      ]
     },
     "execution_count": 26,
     "metadata": {},
     "output_type": "execute_result"
    }
   ],
   "source": [
    "dict_t0_treatment_lvo_oly['dist']"
   ]
  },
  {
   "cell_type": "markdown",
   "id": "3470eee5-88b4-4c74-9c7e-b4a061be7a76",
   "metadata": {},
   "source": [
    "### Plot the weighting"
   ]
  },
  {
   "cell_type": "markdown",
   "id": "5d7394a0-c5df-435f-9f6f-e868caf6c5c1",
   "metadata": {},
   "source": [
    "Make the weighted distributions separately:"
   ]
  },
  {
   "cell_type": "code",
   "execution_count": 27,
   "id": "5e164c0b-53a9-488c-9a63-445af6256542",
   "metadata": {},
   "outputs": [],
   "source": [
    "weighted_pre = weight_pre_stroke_lvo_oly   * mrs_prob_dist_pre_stroke\n",
    "weighted_lvo = weight_no_treatment_lvo_oly * mrs_prob_dist_no_treatment_lvo"
   ]
  },
  {
   "cell_type": "code",
   "execution_count": 28,
   "id": "7765986f-f10c-4ffa-901d-10b68fa67129",
   "metadata": {},
   "outputs": [
    {
     "data": {
      "image/png": "[encoded data removed]",
      "text/plain": [
       "<Figure size 432x288 with 1 Axes>"
      ]
     },
     "metadata": {
      "needs_background": "light"
     },
     "output_type": "display_data"
    }
   ],
   "source": [
    "bars = plt.bar(range(6), weighted_pre, label='Pre-stroke' )\n",
    "\n",
    "# Draw the second set of bars on top of the first using 'tops' list:\n",
    "tops = bars.datavalues\n",
    "plt.bar(range(6), weighted_lvo, bottom=tops, label='LVO at no-effect time' )\n",
    "\n",
    "plt.legend()\n",
    "plt.xlabel('mRS')\n",
    "plt.ylabel('Probability')\n",
    "plt.title('Time-zero LVO patients with thrombolysis')\n",
    "plt.show()"
   ]
  },
  {
   "cell_type": "markdown",
   "id": "16360d8e",
   "metadata": {},
   "source": [
    "---"
   ]
  },
  {
   "cell_type": "markdown",
   "id": "542baceb",
   "metadata": {},
   "source": [
    "## nLVO - untreated - time of no effect"
   ]
  },
  {
   "cell_type": "markdown",
   "id": "5778add2",
   "metadata": {},
   "source": [
    "Summary: Estimate from weighted subtraction of the no-effect LVO data from the no-effect combined nLVO and LVO data, and then scale the resulting distribution using a known data point $P(\\mathrm{mRS}\\leq1, t=t_\\mathrm{ne})=0.46$."
   ]
  },
  {
   "cell_type": "markdown",
   "id": "8bb3ae15-1b97-45b2-9843-ab4ae5d68956",
   "metadata": {},
   "source": [
    "Steps:\n",
    "1. Gather the available data.\n",
    "    + Probability distribution for no-effect-time combined nLVO and LVO (Lees et al. 2010).\n",
    "    + Probability distribution for no-effect-time LVO (Goyal et al. 2016).\n",
    "    + Weights of 100% and -40% respectively. \n",
    "    + $P(\\mathrm{mRS}\\leq1, t=t_\\mathrm{ne})=0.46$ (Holodinsky et al. 2018).\n",
    "1. Multiply the distributions by their weights, sum the two, and normalise.\n",
    "1. Force the calculated $P(\\mathrm{mRS}\\leq1, t=t_\\mathrm{ne})$ to equal 46% and scale the other bins around this value using `scale_dist()`.\n",
    " \n",
    "Result: No-effect-time probability distribution for untreated nLVOs."
   ]
  },
  {
   "cell_type": "markdown",
   "id": "3fdddb84-6730-4a39-b17c-e7689cc94b3e",
   "metadata": {},
   "source": [
    "__Step 1:__ Use the following imported datasets and known values:"
   ]
  },
  {
   "cell_type": "code",
   "execution_count": 29,
   "id": "934ea427-83b0-4cdb-af1e-19a871635189",
   "metadata": {},
   "outputs": [],
   "source": [
    "mrs_prob_dist_no_treatment_nlvo_lvo = dict_no_treatment_nlvo_lvo['dist']\n",
    "mrs_prob_dist_no_treatment_lvo      = dict_no_treatment_lvo['dist']"
   ]
  },
  {
   "cell_type": "code",
   "execution_count": 30,
   "id": "fdc956af-c2ed-4cb7-9510-890005c2fd9a",
   "metadata": {},
   "outputs": [
    {
     "name": "stdout",
     "output_type": "stream",
     "text": [
      "Weights:\n",
      "untreated nLVO and LVO data: 1.0\n",
      "untreated LVO data:          -0.4\n"
     ]
    }
   ],
   "source": [
    "from outcome_utilities.mRS_datasets import (\n",
    "    weight_no_treatment_nlvo_lvo, weight_no_treatment_lvo)\n",
    "\n",
    "print('Weights:')\n",
    "print('untreated nLVO and LVO data:', weight_no_treatment_nlvo_lvo)\n",
    "print('untreated LVO data:         ', weight_no_treatment_lvo)"
   ]
  },
  {
   "cell_type": "markdown",
   "id": "a7908251-1714-4197-bbaf-8433c3d26978",
   "metadata": {},
   "source": [
    "__Step 2:__ Apply the weights:"
   ]
  },
  {
   "cell_type": "code",
   "execution_count": 31,
   "id": "c15f8963",
   "metadata": {},
   "outputs": [],
   "source": [
    "mrs_prob_dist_no_treatment_nlvo = (\n",
    "    (weight_no_treatment_nlvo_lvo * mrs_prob_dist_no_treatment_nlvo_lvo) + \n",
    "    (weight_no_treatment_lvo      * mrs_prob_dist_no_treatment_lvo) )"
   ]
  },
  {
   "cell_type": "markdown",
   "id": "6e1d99a7-b56c-4be7-a153-62127aecc224",
   "metadata": {},
   "source": [
    "Currently the bins are unlikely to sum to 1 as required, so they must be normalised:"
   ]
  },
  {
   "cell_type": "code",
   "execution_count": 32,
   "id": "d9f11586-c522-4363-85af-36e82492081e",
   "metadata": {},
   "outputs": [],
   "source": [
    "mrs_prob_dist_no_treatment_nlvo = (\n",
    "    mrs_prob_dist_no_treatment_nlvo / np.sum(mrs_prob_dist_no_treatment_nlvo))"
   ]
  },
  {
   "cell_type": "code",
   "execution_count": 33,
   "id": "fd3b6f52",
   "metadata": {},
   "outputs": [
    {
     "data": {
      "text/plain": [
       "array([0.23958184, 0.31696477, 0.12476506, 0.12894086, 0.13806616,\n",
       "       0.05168132])"
      ]
     },
     "execution_count": 33,
     "metadata": {},
     "output_type": "execute_result"
    }
   ],
   "source": [
    "mrs_prob_dist_no_treatment_nlvo"
   ]
  },
  {
   "cell_type": "markdown",
   "id": "0c67433e-0558-4e2d-9c15-dc9ab4cc406f",
   "metadata": {},
   "source": [
    "__Step 3:__ Compare the current $P(\\mathrm{mRS}\\leq1, t=t_\\mathrm{ne})$ with the expected 46%."
   ]
  },
  {
   "cell_type": "code",
   "execution_count": 34,
   "id": "8affadce-d4e3-4878-bbad-d511aa106c79",
   "metadata": {},
   "outputs": [],
   "source": [
    "mrs_prob_bins_no_treatment_nlvo = np.cumsum(mrs_prob_dist_no_treatment_nlvo)"
   ]
  },
  {
   "cell_type": "code",
   "execution_count": 35,
   "id": "1c1e4f91",
   "metadata": {},
   "outputs": [
    {
     "data": {
      "text/plain": [
       "0.5565466025542539"
      ]
     },
     "execution_count": 35,
     "metadata": {},
     "output_type": "execute_result"
    }
   ],
   "source": [
    "mrs_prob_bins_no_treatment_nlvo[1]"
   ]
  },
  {
   "cell_type": "markdown",
   "id": "d967cd8f",
   "metadata": {},
   "source": [
    "Because the values don't match, we'll force $P(\\mathrm{mRS}\\leq1, t=t_\\mathrm{ne})$ to equal 46% and scale the other bins around this movement so that they keep the same proportions.  "
   ]
  },
  {
   "cell_type": "code",
   "execution_count": 36,
   "id": "cb9a4bab",
   "metadata": {},
   "outputs": [],
   "source": [
    "mRS_ref_nlvo = 1\n",
    "p_ref_nlvo   = 0.46"
   ]
  },
  {
   "cell_type": "code",
   "execution_count": 37,
   "id": "5b9f418d-4fa8-48d8-a795-4ca77fb535db",
   "metadata": {},
   "outputs": [],
   "source": [
    "from outcome_utilities.scale_dist import scale_dist\n",
    "\n",
    "mrs_prob_dist_no_treatment_nlvo, mrs_prob_bins_no_treatment_nlvo = (\n",
    "    scale_dist(mrs_prob_bins_no_treatment_nlvo, p_ref_nlvo, \n",
    "               mRS_ref=mRS_ref_nlvo))"
   ]
  },
  {
   "cell_type": "markdown",
   "id": "29e82632-0df4-44d9-8beb-fc11c54eaead",
   "metadata": {},
   "source": [
    "__Result:__ The newly-created probability distribution:"
   ]
  },
  {
   "cell_type": "code",
   "execution_count": 38,
   "id": "9a582fc0",
   "metadata": {},
   "outputs": [
    {
     "data": {
      "text/plain": [
       "array([0.19802051, 0.26197949, 0.15192832, 0.15701327, 0.16812528,\n",
       "       0.06293313])"
      ]
     },
     "execution_count": 38,
     "metadata": {},
     "output_type": "execute_result"
    }
   ],
   "source": [
    "mrs_prob_dist_no_treatment_nlvo"
   ]
  },
  {
   "cell_type": "markdown",
   "id": "7157bf8d-82fa-47f1-8fe0-c746fd3100a2",
   "metadata": {},
   "source": [
    "The mRS$\\leq$1 bin is 0.46 as required:"
   ]
  },
  {
   "cell_type": "code",
   "execution_count": 39,
   "id": "2ff77b63",
   "metadata": {},
   "outputs": [
    {
     "data": {
      "text/plain": [
       "array([0.19802051, 0.46      , 0.61192832, 0.76894159, 0.93706687,\n",
       "       1.        ])"
      ]
     },
     "execution_count": 39,
     "metadata": {},
     "output_type": "execute_result"
    }
   ],
   "source": [
    "mrs_prob_bins_no_treatment_nlvo"
   ]
  },
  {
   "cell_type": "markdown",
   "id": "6e0c37ef-bb38-490a-9a93-3f51cf931aa8",
   "metadata": {},
   "source": [
    "Compare with the imported data:"
   ]
  },
  {
   "cell_type": "code",
   "execution_count": 40,
   "id": "8c15cc64-b41c-4eda-9002-ece162387a68",
   "metadata": {},
   "outputs": [
    {
     "data": {
      "text/plain": [
       "array([0.19802051, 0.26197949, 0.15192832, 0.15701327, 0.16812528,\n",
       "       0.06293313])"
      ]
     },
     "execution_count": 40,
     "metadata": {},
     "output_type": "execute_result"
    }
   ],
   "source": [
    "dict_no_treatment_nlvo['dist']"
   ]
  },
  {
   "cell_type": "markdown",
   "id": "84f4869c",
   "metadata": {},
   "source": [
    "---"
   ]
  },
  {
   "cell_type": "markdown",
   "id": "afc82309",
   "metadata": {},
   "source": [
    "## nLVO - thrombolysis"
   ]
  },
  {
   "cell_type": "markdown",
   "id": "009a2b53",
   "metadata": {},
   "source": [
    "## t=0 distribution\n",
    "\n",
    "Summary: Weighted distribution of the pre-stroke and no-effect-time nLVO distributions. The weights are chosen to give $P(\\mathrm{mRS}<=1, t=0)=$63%."
   ]
  },
  {
   "cell_type": "markdown",
   "id": "a4fdb538-eff8-41f5-ac3b-46d20f925f92",
   "metadata": {},
   "source": [
    "Steps:\n",
    "1. Gather the known data.\n",
    "    + Probability distribution for pre-stroke patients (SAMueL-1).\n",
    "    + Probability distribution for nLVO patients treated with thrombolysis at the no-effect-time ([calculated here](#nLVO---untreated---time-of-no-effect)).\n",
    "    + $P(\\mathrm{mRS}<=1, t=0)=$63% (Holodinsky et al. 2018).\n",
    "1. Calculate the weights needed to combine the two probability distributions and ensure that $P(\\mathrm{mRS}<=1, t=0)=$63%.\n",
    "1. Multiply the distributions by the weights and sum them. \n",
    "\n",
    "Result: A probability distribution for nLVO patients treated with thrombolysis at time zero.\n",
    " "
   ]
  },
  {
   "cell_type": "markdown",
   "id": "cb0dd0cb-a77d-42be-a150-a4a48d475317",
   "metadata": {},
   "source": [
    "__Step 1:__ Use the following imported datasets and known values:"
   ]
  },
  {
   "cell_type": "code",
   "execution_count": 41,
   "id": "c6a74909-7849-49a1-865b-6076a9b18880",
   "metadata": {},
   "outputs": [],
   "source": [
    "mrs_prob_bins_no_treatment_nlvo_oly = dict_no_treatment_nlvo_oly['bins']\n",
    "mrs_prob_dist_no_treatment_nlvo_oly = dict_no_treatment_nlvo_oly['dist']\n",
    "\n",
    "mrs_prob_bins_pre_stroke = dict_pre_stroke['bins']\n",
    "mrs_prob_dist_pre_stroke = dict_pre_stroke['dist']"
   ]
  },
  {
   "cell_type": "markdown",
   "id": "2e719cd9-320c-4cf5-a1df-ed97c0013e5f",
   "metadata": {},
   "source": [
    "__Step 2:__ Calculate the weights needed to give a distribution with $P(\\mathrm{mRS}<=1, t=0)=$63%:"
   ]
  },
  {
   "cell_type": "code",
   "execution_count": 42,
   "id": "3720ffeb",
   "metadata": {},
   "outputs": [
    {
     "name": "stdout",
     "output_type": "stream",
     "text": [
      "Weights:  0.7127280650232234 0.2872719349767766\n"
     ]
    }
   ],
   "source": [
    "target_diff  = 0.63 - mrs_prob_bins_no_treatment_nlvo_oly[1]\n",
    "current_diff = (mrs_prob_bins_pre_stroke[1] - \n",
    "                mrs_prob_bins_no_treatment_nlvo_oly[1])\n",
    "\n",
    "weight_pre_stroke_nlvo_oly   = target_diff / current_diff\n",
    "weight_no_treatment_nlvo_oly = 1.0 - weight_pre_stroke_nlvo_oly\n",
    "\n",
    "print('Weights: ', weight_pre_stroke_nlvo_oly, weight_no_treatment_nlvo_oly)"
   ]
  },
  {
   "cell_type": "markdown",
   "id": "9ac761d5-6794-40b5-8db1-da35e6f82169",
   "metadata": {},
   "source": [
    "Compare these weights with the values used to create the imported data:"
   ]
  },
  {
   "cell_type": "code",
   "execution_count": 43,
   "id": "79396bd4-8386-4339-b6c2-e4ea2155fea3",
   "metadata": {},
   "outputs": [
    {
     "name": "stdout",
     "output_type": "stream",
     "text": [
      "0.7127280650232234 0.2872719349767766\n"
     ]
    }
   ],
   "source": [
    "from outcome_utilities.mRS_datasets import (weight_pre_stroke_nlvo_oly, \n",
    "                                            weight_no_treatment_nlvo_oly)\n",
    "\n",
    "print(weight_pre_stroke_nlvo_oly, weight_no_treatment_nlvo_oly)"
   ]
  },
  {
   "cell_type": "markdown",
   "id": "b04d02a8-d892-4075-855a-32f7fe79442a",
   "metadata": {},
   "source": [
    "__Step 3:__ Apply the weights:"
   ]
  },
  {
   "cell_type": "code",
   "execution_count": 44,
   "id": "7ec62820-1cc3-4c8c-9b4d-d3a7f9f9ad70",
   "metadata": {},
   "outputs": [],
   "source": [
    "mrs_prob_dist_t0_treatment_nlvo_oly = (\n",
    "    (weight_pre_stroke_nlvo_oly   * mrs_prob_dist_pre_stroke) + \n",
    "    (weight_no_treatment_nlvo_oly * mrs_prob_dist_no_treatment_nlvo_oly) )\n",
    "\n",
    "\n",
    "mrs_prob_bins_t0_treatment_nlvo_oly = np.cumsum(\n",
    "    mrs_prob_dist_t0_treatment_nlvo_oly)"
   ]
  },
  {
   "cell_type": "markdown",
   "id": "bc7340fe-0778-4724-b0d4-0db00b06d153",
   "metadata": {},
   "source": [
    "__Result:__ The newly-created probability distribution:"
   ]
  },
  {
   "cell_type": "code",
   "execution_count": 45,
   "id": "3ae70f49",
   "metadata": {},
   "outputs": [
    {
     "data": {
      "text/plain": [
       "array([0.44857841, 0.18142159, 0.11354063, 0.12898698, 0.09610515,\n",
       "       0.03136724])"
      ]
     },
     "execution_count": 45,
     "metadata": {},
     "output_type": "execute_result"
    }
   ],
   "source": [
    "mrs_prob_dist_t0_treatment_nlvo_oly"
   ]
  },
  {
   "cell_type": "markdown",
   "id": "235f5cd5-7b71-4aea-892f-680fbe9510c8",
   "metadata": {},
   "source": [
    "Now $P(\\mathrm{mRS}<=1, t=0)=$63% as required:"
   ]
  },
  {
   "cell_type": "code",
   "execution_count": 46,
   "id": "df027415",
   "metadata": {},
   "outputs": [
    {
     "data": {
      "text/plain": [
       "array([0.44857841, 0.63      , 0.74354063, 0.87252761, 0.96863276,\n",
       "       1.        ])"
      ]
     },
     "execution_count": 46,
     "metadata": {},
     "output_type": "execute_result"
    }
   ],
   "source": [
    "mrs_prob_bins_t0_treatment_nlvo_oly"
   ]
  },
  {
   "cell_type": "markdown",
   "id": "af6b11b8-eb87-4f48-858d-b56c835cb368",
   "metadata": {},
   "source": [
    "Compare with the imported data:"
   ]
  },
  {
   "cell_type": "code",
   "execution_count": 47,
   "id": "9e3d121f-7f17-41c5-b208-d80302511ab9",
   "metadata": {},
   "outputs": [
    {
     "data": {
      "text/plain": [
       "array([0.44857841, 0.18142159, 0.11354063, 0.12898698, 0.09610515,\n",
       "       0.03136724])"
      ]
     },
     "execution_count": 47,
     "metadata": {},
     "output_type": "execute_result"
    }
   ],
   "source": [
    "dict_t0_treatment_nlvo_oly['dist']"
   ]
  },
  {
   "cell_type": "markdown",
   "id": "9342a282-c790-49c4-a7f6-37172f764240",
   "metadata": {},
   "source": [
    "### Plot the weighting"
   ]
  },
  {
   "cell_type": "markdown",
   "id": "46414d00-cc27-4169-a8d4-c18aa2379d59",
   "metadata": {},
   "source": [
    "Make the weighted distributions separately:"
   ]
  },
  {
   "cell_type": "code",
   "execution_count": 48,
   "id": "7804f5d1-b562-419c-bfeb-b7fd928db962",
   "metadata": {},
   "outputs": [],
   "source": [
    "weighted_pre      = (weight_pre_stroke_nlvo_oly   * \n",
    "                     mrs_prob_dist_pre_stroke )\n",
    "weighted_nlvo_oly = (weight_no_treatment_nlvo_oly * \n",
    "                     mrs_prob_dist_no_treatment_nlvo_oly )"
   ]
  },
  {
   "cell_type": "code",
   "execution_count": 49,
   "id": "938ddc6b-8ce0-4b54-b883-e91c2f31c5a4",
   "metadata": {},
   "outputs": [
    {
     "data": {
      "image/png": "[encoded data removed]",
      "text/plain": [
       "<Figure size 432x288 with 1 Axes>"
      ]
     },
     "metadata": {
      "needs_background": "light"
     },
     "output_type": "display_data"
    }
   ],
   "source": [
    "bars = plt.bar(range(6), weighted_pre, label='Pre-stroke' )\n",
    "\n",
    "# Draw the second set of bars on top of the first using 'tops' list:\n",
    "tops = bars.datavalues\n",
    "plt.bar(range(6), weighted_nlvo_oly, bottom=tops, \n",
    "        label='nLVO at no-effect time' )\n",
    "\n",
    "plt.legend()\n",
    "plt.xlabel('mRS')\n",
    "plt.ylabel('Probability')\n",
    "plt.show()"
   ]
  },
  {
   "cell_type": "markdown",
   "id": "3e662700",
   "metadata": {},
   "source": [
    "---"
   ]
  },
  {
   "cell_type": "markdown",
   "id": "beb2c7be-766b-484c-bc3e-5ae06dec78b7",
   "metadata": {},
   "source": [
    "## References\n",
    "\n",
    "Emberson J, Lees KR, Lyden P, et al. _Effect of treatment delay, age, and stroke severity on the effects of intravenous thrombolysis with alteplase for acute ischaemic stroke: A meta-analysis of individual patient data from randomised trials._ The Lancet 2014;384:1929–35. doi:10.1016/S0140-6736(14)60584-5\n",
    "\n",
    "Goyal M, Menon BK, van Zwam WH, et al. _Endovascular thrombectomy after large-vessel ischaemic stroke: a meta-analysis of individual patient data from five randomised trials._ The Lancet 2016;387:1723-1731. doi:10.1016/S0140-6736(16)00163-X\n",
    "\n",
    "Holodinsky JK, Williamson TS, Demchuk AM, et al. _Modeling Stroke Patient Transport for All Patients With Suspected Large-Vessel Occlusion._ JAMA Neurol. 2018;75(12):1477-1486. doi:10.1001/jamaneurol.2018.2424\n",
    "\n",
    "Lees KR, Bluhmki E, von Kummer R, et al. _Time to treatment with intravenous alteplase and outcome in stroke: an updated pooled analysis of ECASS, ATLANTIS, NINDS, and EPITHET trials_. The Lancet 2010;375:1695-703. doi:10.1016/S0140-6736(10)60491-6\n",
    "\n",
    "SAMueL-1 data"
   ]
  }
 ],
 "metadata": {
  "kernelspec": {
   "display_name": "Python 3 (ipykernel)",
   "language": "python",
   "name": "python3"
  },
  "language_info": {
   "codemirror_mode": {
    "name": "ipython",
    "version": 3
   },
   "file_extension": ".py",
   "mimetype": "text/x-python",
   "name": "python",
   "nbconvert_exporter": "python",
   "pygments_lexer": "ipython3",
   "version": "3.9.12"
  }
 },
 "nbformat": 4,
 "nbformat_minor": 5
}
