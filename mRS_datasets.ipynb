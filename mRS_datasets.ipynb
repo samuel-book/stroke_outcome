{
 "cells": [
  {
   "cell_type": "markdown",
   "id": "b6a2719d",
   "metadata": {},
   "source": [
    "# Data behind the mRS probability distributions"
   ]
  },
  {
   "cell_type": "markdown",
   "id": "a6df60fa-2b72-4850-9ee4-480df7e19c0a",
   "metadata": {},
   "source": [
    "## Aims:"
   ]
  },
  {
   "cell_type": "markdown",
   "id": "8ea200a2-2d8d-4683-beb4-827e1079c1ce",
   "metadata": {},
   "source": [
    "All of the various mRS probability data sets are gathered here. We define probability distributions at times from onset to treatment of zero hours and of the no-effect time, $t_{ne}$. Any data sets containing mRS=6 (death) have the associated probability $P(\\mathrm{mRS}=6)$ removed, and the remaining values are normalised so that $P(\\mathrm{mRS}\\leq5)=1.0$.\n",
    "\n",
    "All of the probability distributions are plotted here as stacked horizontal bars and as histograms (bar charts).\n",
    "\n",
    "Most of the data is taken directly from the source, but some of the probability distributions here have been calculated from multiple data sets. These more complicated distributions are derived later on in this notebook. "
   ]
  },
  {
   "cell_type": "markdown",
   "id": "64da81f9-e347-4509-86eb-78a48b50ec8d",
   "metadata": {},
   "source": [
    "## Descriptions of the mRS data sets used here:"
   ]
  },
  {
   "cell_type": "markdown",
   "id": "db9f8ec0",
   "metadata": {
    "tags": []
   },
   "source": [
    "| Description | $t=0$ | $t=t_{ne}$ (no treatment) | \n",
    "| :-- | :-- | :-- |\n",
    "| Pre-stroke | The estimated pre-stroke mRS scores from SSNAP data, as used in the SAMueL-1 project. | N/A |\n",
    "| Haemorrhaegic | N/A | _(yet to find)_ |\n",
    "| nLVO & LVO combined | [Explained here](#nLVO-and-LVO-combined---t=0). Found by combining the no-effect time data (from the Lees+2010 no-treatment control group) with the odds ratio of mRS$\\leq$1 at $t=1$hrs (from Emberson+2014). The mRS$\\leq$1 data are combined to find P(mRS$\\leq$1, $t$=0hr), and then this point is used to scale up an existing t=0 probability distribution (from ...???). | The no-treatment control group from Lees+2010. Although the numbers in the distribution are not listed in Lees+2010, they have been measured from Figure 1(?). |\n",
    "| nLVO - untreated | N/A | [Explained here](#nLVO---untreated---time-of-no-effect). Weighted combination of `_no_treatment_Lees` (100%) and `_no_treatment_LVO` (40%), then further scaled to match $P(mRS<=1, t=T_0)=0.46$ from Holodinsky+2018. |\n",
    "| nLVO - thrombolysis | [Explained here](#nLVO---thrombolysis). Weighted combination of `_t0_treatment_pre` (87%) and `_no_treatment_nLVO` (13%), where weights are chosen to match the $P(mRS<=1, t=0)=0.63$ from Holodinsky+2018. | Same as above. |\n",
    "| LVO - untreated | N/A | Goyal+2016 control population. |\n",
    "| LVO - thrombolysis only | [Explained here](#LVO---thrombolysis-only---t=0). Weighted combination of `_no_treatment_LVO` (82%) and `_t0_treatment_pre` (18%). | Same as above. |\n",
    "| LVO - thrombectomy <br /> with/out thrombolysis | No effect of stroke, therefore same mRS as pre-stroke. | Same as above. | "
   ]
  },
  {
   "cell_type": "markdown",
   "id": "f37e4180-d550-4070-8f0f-07e31142c668",
   "metadata": {},
   "source": [
    "---"
   ]
  },
  {
   "cell_type": "markdown",
   "id": "95b1b4f4-fa75-4aae-8140-8975b18b945e",
   "metadata": {},
   "source": [
    "## Notebook admin"
   ]
  },
  {
   "cell_type": "code",
   "execution_count": 1,
   "id": "a309ac29",
   "metadata": {},
   "outputs": [],
   "source": [
    "import warnings\n",
    "warnings.filterwarnings('ignore')"
   ]
  },
  {
   "cell_type": "code",
   "execution_count": 2,
   "id": "184e0636",
   "metadata": {},
   "outputs": [],
   "source": [
    "import numpy as np\n",
    "import matplotlib.pyplot as plt\n",
    "%matplotlib inline"
   ]
  },
  {
   "cell_type": "code",
   "execution_count": 3,
   "id": "62c8a6f2",
   "metadata": {},
   "outputs": [],
   "source": [
    "# Change default colour scheme:\n",
    "plt.style.use('seaborn-colorblind')"
   ]
  },
  {
   "cell_type": "markdown",
   "id": "abb7e4df-bce9-486d-aebf-6ec507f6348f",
   "metadata": {},
   "source": [
    "---"
   ]
  },
  {
   "cell_type": "markdown",
   "id": "a4209bd8-1381-4d7e-8b68-e55799da4933",
   "metadata": {},
   "source": [
    "## Import data"
   ]
  },
  {
   "cell_type": "markdown",
   "id": "2789ec4a-f5bf-4689-b7ba-011898f9d9d4",
   "metadata": {},
   "source": [
    "The mRS probability distributions are stored in dictionaries in a file."
   ]
  },
  {
   "cell_type": "markdown",
   "id": "c69c0434-15e1-44ee-9050-7d2e433df926",
   "metadata": {},
   "source": [
    "The dictionaries are named using these strings:\n",
    "+ `t0_treatment` - data from time $t=0$hr\n",
    "+ `no_treatment` - data from the no-effect time $t=t_{ne}$\n",
    "+ `lvo` - large-vessel occlusion\n",
    "+ `nlvo` - non-large-vessel occlusion\n",
    "+ `ich` - intra-cerebral haemorrhaege\n",
    "+ `pre-stroke` - data recorded before the onset of stroke\n",
    "+ `oly` - thromb**oly**sis used\n",
    "+ `ect` - thromb**ect**omy used.\n",
    "\n",
    "Each dictionary contains an entry for:\n",
    "+ `dist_mrs6` - mRS distribution including mRS=6. If the mRS=6 data is unknown, it is set to 0. \n",
    "+ `dist` - mRS distribution excluding mRS=6.\n",
    "+ `bins` - cumulative probabilities of `dist`."
   ]
  },
  {
   "cell_type": "markdown",
   "id": "25a4710d-7a5d-45e7-9d0a-ef4536e14c47",
   "metadata": {},
   "source": [
    "We import the data corresponding to the table above from `mRS_datasets.py` in the `outcome_utilities` directory:"
   ]
  },
  {
   "cell_type": "code",
   "execution_count": 4,
   "id": "71d44464-5cc7-40e8-b707-1162c89a5176",
   "metadata": {},
   "outputs": [],
   "source": [
    "from outcome_utilities.mRS_datasets import (dict_pre_stroke, \n",
    "    dict_t0_treatment_ich,      dict_no_treatment_ich, \n",
    "    dict_t0_treatment_nlvo_lvo, dict_no_treatment_nlvo_lvo,\n",
    "    dict_t0_treatment_lvo,      dict_no_treatment_lvo,\n",
    "    dict_t0_treatment_lvo_oly,  dict_no_treatment_lvo_oly, \n",
    "    dict_t0_treatment_lvo_ect,  dict_no_treatment_lvo_ect, \n",
    "    dict_t0_treatment_nlvo,     dict_no_treatment_nlvo, \n",
    "    dict_t0_treatment_nlvo_oly, dict_no_treatment_nlvo_oly)"
   ]
  },
  {
   "cell_type": "markdown",
   "id": "0fbca846-19b3-4125-83ab-b3aa3e656872",
   "metadata": {},
   "source": [
    "__Example 1:__ Removal of mRS=6 data"
   ]
  },
  {
   "cell_type": "markdown",
   "id": "cf18c0f4-6100-4bf0-947e-7c3bc8f27e19",
   "metadata": {},
   "source": [
    "The original distribution of the no-effect-time combined nLVO and LVO data contains an entry for mRS=6:"
   ]
  },
  {
   "cell_type": "code",
   "execution_count": 111,
   "id": "f0a9d07b-4689-45d1-b473-21071faf23da",
   "metadata": {},
   "outputs": [
    {
     "data": {
      "text/plain": [
       "array([0.14861582, 0.2022106 , 0.12525408, 0.13965201, 0.1806092 ,\n",
       "       0.08612256, 0.11753573])"
      ]
     },
     "execution_count": 111,
     "metadata": {},
     "output_type": "execute_result"
    }
   ],
   "source": [
    "dict_no_treatment_nlvo_lvo['dist_mrs6']"
   ]
  },
  {
   "cell_type": "markdown",
   "id": "0fb1bd9a-c0a4-47db-9aa1-848700e313d2",
   "metadata": {},
   "source": [
    "When we remove the mRS=6 entry, the remaining values are re-normalised so that the new distribution sums to one:"
   ]
  },
  {
   "cell_type": "code",
   "execution_count": 112,
   "id": "dadc6717-864e-423f-abe7-a80a1bce7ad2",
   "metadata": {},
   "outputs": [
    {
     "data": {
      "text/plain": [
       "array([0.16841001, 0.2291431 , 0.14193672, 0.15825231, 0.2046646 ,\n",
       "       0.09759325])"
      ]
     },
     "execution_count": 112,
     "metadata": {},
     "output_type": "execute_result"
    }
   ],
   "source": [
    "dict_no_treatment_nlvo_lvo['dist']"
   ]
  },
  {
   "cell_type": "code",
   "execution_count": 113,
   "id": "7449cb1e-eceb-4ad8-8f87-faedff82b237",
   "metadata": {},
   "outputs": [
    {
     "data": {
      "text/plain": [
       "array([0.16841001, 0.39755312, 0.53948983, 0.69774214, 0.90240675,\n",
       "       1.        ])"
      ]
     },
     "execution_count": 113,
     "metadata": {},
     "output_type": "execute_result"
    }
   ],
   "source": [
    "dict_no_treatment_nlvo_lvo['bins']"
   ]
  },
  {
   "cell_type": "markdown",
   "id": "5fa1137d-bd9e-43d8-87f8-648d9531fa12",
   "metadata": {},
   "source": [
    "__Example 2:__ Invalid data"
   ]
  },
  {
   "cell_type": "markdown",
   "id": "4168b62f-7b95-418e-9ad2-233be5f82aef",
   "metadata": {},
   "source": [
    "Some of the probability distributions are unknown. In these cases, we fill the arrays with placeholder negative values. For example, we have no data for intra-cerebral haemorrhaege at time zero:"
   ]
  },
  {
   "cell_type": "code",
   "execution_count": 116,
   "id": "b84705b0-d3f0-4907-864e-fa6c91392a75",
   "metadata": {},
   "outputs": [
    {
     "data": {
      "text/plain": [
       "array([-1, -1, -1, -1, -1, -1])"
      ]
     },
     "execution_count": 116,
     "metadata": {},
     "output_type": "execute_result"
    }
   ],
   "source": [
    "dict_t0_treatment_ich['dist']"
   ]
  },
  {
   "cell_type": "markdown",
   "id": "cb03e564-8265-475e-856a-3d6fa241ce36",
   "metadata": {},
   "source": [
    "Since we never ordinarily expect negative probabilities, seeing a negative number in one of the lists is an indication that the data is invalid."
   ]
  },
  {
   "cell_type": "markdown",
   "id": "2e9922de-900a-4336-98a5-403a63f4b066",
   "metadata": {},
   "source": [
    "---"
   ]
  },
  {
   "cell_type": "markdown",
   "id": "d787c487-b808-4e64-a8ce-94b126986645",
   "metadata": {},
   "source": [
    "## Plot the data"
   ]
  },
  {
   "cell_type": "markdown",
   "id": "5dfb3f69-a68c-430d-ad2f-ad7c0ad8ddfa",
   "metadata": {},
   "source": [
    "For our convenience in this notebook, we'll gather all of the imported data into one big list:"
   ]
  },
  {
   "cell_type": "code",
   "execution_count": 110,
   "id": "4b2d60b5-370b-40e8-a794-951c7adb246d",
   "metadata": {},
   "outputs": [],
   "source": [
    "big_data_list = [\n",
    "    [dict_pre_stroke,            {'dist':[-1]*6},             'Pre-stroke'],\n",
    "    [dict_t0_treatment_ich,      dict_no_treatment_ich,      'Haemorrhaegic'],\n",
    "    [dict_t0_treatment_nlvo_lvo, dict_no_treatment_nlvo_lvo, 'nLVO and LVO combined'],\n",
    "    [dict_t0_treatment_lvo,      dict_no_treatment_lvo,      'LVO untreated'],\n",
    "    [dict_t0_treatment_lvo_oly,  dict_no_treatment_lvo_oly,  'LVO thrombolysis'],\n",
    "    [dict_t0_treatment_lvo_ect,  dict_no_treatment_lvo_ect,  'LVO thrombectomy'],\n",
    "    [dict_t0_treatment_nlvo,     dict_no_treatment_nlvo,     'nLVO untreated'],\n",
    "    [dict_t0_treatment_nlvo_oly, dict_no_treatment_nlvo_oly, 'nLVO thrombolysis']\n",
    "    ]"
   ]
  },
  {
   "cell_type": "markdown",
   "id": "c7299184-7ace-46cc-ab2c-93f9054ece74",
   "metadata": {},
   "source": [
    "### Stacked bars"
   ]
  },
  {
   "cell_type": "markdown",
   "id": "da9b1a47-d2d1-4789-8a56-a9e39d211e6b",
   "metadata": {},
   "source": [
    "Define a function for plotting the stacked horizontal bar:"
   ]
  },
  {
   "cell_type": "code",
   "execution_count": 121,
   "id": "335e8b5a-db68-4e86-be42-be19e5165ae5",
   "metadata": {},
   "outputs": [],
   "source": [
    "def draw_horizontal_bar(dist,label=''):\n",
    "    \"\"\"\n",
    "    Draw a stacked horizontal bar chart of the values in 'dist'.\n",
    "    \n",
    "    dist  - list or np.array. The probability distribution \n",
    "            (non-cumulative).\n",
    "    label - string. The name printed next to these stacked bars.\n",
    "    \"\"\"\n",
    "    # The first bar will start at this point on the x-axis:\n",
    "    left = 0\n",
    "    for i in range(len(dist)):\n",
    "        # Draw a bar starting from 'left', the end of the previous bar,\n",
    "        # with a width equal to the probability of this mRS:\n",
    "        plt.barh(label, width=dist[i], left=left, height=0.3, \n",
    "                 label=f'{i}', edgecolor='k')\n",
    "        # Update 'left' with the width of the current bar so that the \n",
    "        # next bar drawn will start in the correct place.    \n",
    "        left += dist[i]"
   ]
  },
  {
   "cell_type": "code",
   "execution_count": 125,
   "id": "48f5b393-a28a-497e-acdc-0c889cfd34e4",
   "metadata": {},
   "outputs": [],
   "source": [
    "def draw_connections(dist_t0, dist_tne, top_tne=0.15, bottom_t0=0.85):\n",
    "    \"\"\"\n",
    "    Draw lines connecting the mRS bins in the top and bottom rows.\n",
    "    \n",
    "    dist_t0, dist_tne - lists or arrays. Probability distributions.\n",
    "    top_tne, bottom_t0 - floats. y-coordinates just inside the bars. \n",
    "    \"\"\"\n",
    "    left_t0   = 0.0\n",
    "    left_tne  = 0.0\n",
    "    for i, d_t0 in enumerate(dict_t0['dist']):\n",
    "        left_t0  +=  dict_t0['dist'][i]\n",
    "        left_tne += dict_tne['dist'][i]\n",
    "        plt.plot([left_t0,left_tne],[bottom_t0,top_tne],color='Gainsboro')"
   ]
  },
  {
   "cell_type": "markdown",
   "id": "b72da8e4-2646-4741-8ad8-4b4b71643984",
   "metadata": {},
   "source": [
    "Run through each row of the big data list in turn and plot its data:"
   ]
  },
  {
   "cell_type": "code",
   "execution_count": 126,
   "id": "04e5c0a9-6048-40dd-9b71-dd2b6da21374",
   "metadata": {},
   "outputs": [
    {
     "data": {
      "image/png": "[encoded data removed]",
      "text/plain": [
       "<Figure size 432x288 with 1 Axes>"
      ]
     },
     "metadata": {
      "needs_background": "light"
     },
     "output_type": "display_data"
    },
    {
     "data": {
      "image/png": "[encoded data removed]",
      "text/plain": [
       "<Figure size 432x288 with 1 Axes>"
      ]
     },
     "metadata": {
      "needs_background": "light"
     },
     "output_type": "display_data"
    },
    {
     "data": {
      "image/png": "[encoded data removed]",
      "text/plain": [
       "<Figure size 432x288 with 1 Axes>"
      ]
     },
     "metadata": {
      "needs_background": "light"
     },
     "output_type": "display_data"
    },
    {
     "data": {
      "image/png": "[encoded data removed]",
      "text/plain": [
       "<Figure size 432x288 with 1 Axes>"
      ]
     },
     "metadata": {
      "needs_background": "light"
     },
     "output_type": "display_data"
    },
    {
     "data": {
      "image/png": "[encoded data removed]",
      "text/plain": [
       "<Figure size 432x288 with 1 Axes>"
      ]
     },
     "metadata": {
      "needs_background": "light"
     },
     "output_type": "display_data"
    },
    {
     "data": {
      "image/png": "[encoded data removed]",
      "text/plain": [
       "<Figure size 432x288 with 1 Axes>"
      ]
     },
     "metadata": {
      "needs_background": "light"
     },
     "output_type": "display_data"
    },
    {
     "data": {
      "image/png": "[encoded data removed]",
      "text/plain": [
       "<Figure size 432x288 with 1 Axes>"
      ]
     },
     "metadata": {
      "needs_background": "light"
     },
     "output_type": "display_data"
    },
    {
     "data": {
      "image/png": "[encoded data removed]",
      "text/plain": [
       "<Figure size 432x288 with 1 Axes>"
      ]
     },
     "metadata": {
      "needs_background": "light"
     },
     "output_type": "display_data"
    }
   ],
   "source": [
    "for data_list in big_data_list:\n",
    "    \n",
    "    dict_t0  = data_list[0]\n",
    "    dict_tne = data_list[1]\n",
    "    label    = data_list[2]\n",
    "    \n",
    "    draw_horizontal_bar(dict_tne['dist'], 'no effect time')\n",
    "    \n",
    "    # Add legend now to prevent doubling all the labels:\n",
    "    plt.legend(loc='center',ncol=6, title='mRS',\n",
    "               bbox_to_anchor=[0.5,0.0,0.0,-0.5])   # Legend below axis.\n",
    "    \n",
    "    draw_horizontal_bar(dict_t0['dist'], 't=0hr')\n",
    "    \n",
    "    # Draw connecting lines between the two mRS groups:\n",
    "    if np.sum(dict_t0['dist'])>0 and np.sum(dict_tne['dist'])>0:\n",
    "        draw_connections(dict_t0['dist'], dict_tne['dist'])\n",
    "\n",
    "       \n",
    "    plt.xlabel('Probability')\n",
    "    plt.title(label)\n",
    "    plt.xlim(0,1)\n",
    "    plt.show()"
   ]
  },
  {
   "cell_type": "markdown",
   "id": "088f2ba9-7a02-4c4b-bd66-f34fa0c31192",
   "metadata": {},
   "source": [
    "### Histograms (bar charts)"
   ]
  },
  {
   "cell_type": "markdown",
   "id": "2d1ff3f7-2919-496b-898d-01ebe852e100",
   "metadata": {},
   "source": [
    "We'll write another function to draw the probability distributions as histograms:"
   ]
  },
  {
   "cell_type": "code",
   "execution_count": 119,
   "id": "9d783535-e42a-4a04-9869-6ba0d3962ab6",
   "metadata": {},
   "outputs": [],
   "source": [
    "def plot_two_bars(mrs_prob_dist_t0_treatment=[],\n",
    "                  mrs_prob_dist_no_treatment=[], title=''):\n",
    "    \"\"\"\n",
    "    Draw two histograms with shared scales. One for time zero, the \n",
    "    other for the no-effect time. \n",
    "    \n",
    "    mrs_prob_dist_t0/no_treatment - list or np.array. Probability \n",
    "                                    distribution at given time. \n",
    "    title                         - string. title for the plot.\n",
    "    \"\"\"\n",
    "    fig, axs = plt.subplots(1,2)\n",
    "        \n",
    "    # Plot the data:\n",
    "    axs[0].bar(range(6),mrs_prob_dist_t0_treatment)\n",
    "    axs[1].bar(range(6),mrs_prob_dist_no_treatment)\n",
    "    \n",
    "    # Labels and axis setup:\n",
    "    labels = ['Time 0hr', 'Time of no effect']\n",
    "    # Share y axis:\n",
    "    for i,ax in enumerate(axs):\n",
    "        ax.set_xlabel('mRS')\n",
    "        ax.set_ylabel('Probability')\n",
    "        ax.set_xlim(-0.3,6.9)\n",
    "        ax.set_ylim(0.0,0.6)\n",
    "        ax.tick_params(right=True, left=True)\n",
    "        ax.annotate(labels[i], xy=(0.0, ax.get_ylim()[1]*0.95),\n",
    "                    va='center', ha='left')\n",
    "\n",
    "    # Move RHS plot's y-axis labels to its right:\n",
    "    axs[1].yaxis.tick_right()\n",
    "    axs[1].yaxis.set_label_position('right')\n",
    "    # Remind RHS axis to put tick marks on left:\n",
    "    axs[1].tick_params(left=True)\n",
    "    \n",
    "    fig.suptitle(title)\n",
    "    plt.show()"
   ]
  },
  {
   "cell_type": "markdown",
   "id": "2b23765d-d8ea-4533-a1ba-5f7ab5566c19",
   "metadata": {},
   "source": [
    "Now plot each row of the big data list:"
   ]
  },
  {
   "cell_type": "code",
   "execution_count": 120,
   "id": "df460b73-c53d-4e36-a5ab-b1b836dee70a",
   "metadata": {},
   "outputs": [
    {
     "data": {
      "image/png": "[encoded data removed]",
      "text/plain": [
       "<Figure size 432x288 with 2 Axes>"
      ]
     },
     "metadata": {
      "needs_background": "light"
     },
     "output_type": "display_data"
    },
    {
     "data": {
      "image/png": "[encoded data removed]",
      "text/plain": [
       "<Figure size 432x288 with 2 Axes>"
      ]
     },
     "metadata": {
      "needs_background": "light"
     },
     "output_type": "display_data"
    },
    {
     "data": {
      "image/png": "[encoded data removed]",
      "text/plain": [
       "<Figure size 432x288 with 2 Axes>"
      ]
     },
     "metadata": {
      "needs_background": "light"
     },
     "output_type": "display_data"
    },
    {
     "data": {
      "image/png": "[encoded data removed]",
      "text/plain": [
       "<Figure size 432x288 with 2 Axes>"
      ]
     },
     "metadata": {
      "needs_background": "light"
     },
     "output_type": "display_data"
    },
    {
     "data": {
      "image/png": "[encoded data removed]",
      "text/plain": [
       "<Figure size 432x288 with 2 Axes>"
      ]
     },
     "metadata": {
      "needs_background": "light"
     },
     "output_type": "display_data"
    },
    {
     "data": {
      "image/png": "[encoded data removed]",
      "text/plain": [
       "<Figure size 432x288 with 2 Axes>"
      ]
     },
     "metadata": {
      "needs_background": "light"
     },
     "output_type": "display_data"
    },
    {
     "data": {
      "image/png": "[encoded data removed]",
      "text/plain": [
       "<Figure size 432x288 with 2 Axes>"
      ]
     },
     "metadata": {
      "needs_background": "light"
     },
     "output_type": "display_data"
    },
    {
     "data": {
      "image/png": "[encoded data removed]",
      "text/plain": [
       "<Figure size 432x288 with 2 Axes>"
      ]
     },
     "metadata": {
      "needs_background": "light"
     },
     "output_type": "display_data"
    }
   ],
   "source": [
    "for data_list in big_data_list:\n",
    "    \n",
    "    dict_t0  = data_list[0]\n",
    "    dict_tne = data_list[1]\n",
    "    label    = data_list[2]\n",
    "    \n",
    "    plot_two_bars(dict_t0['dist'], dict_tne['dist'], label)"
   ]
  },
  {
   "cell_type": "markdown",
   "id": "8b57cf77",
   "metadata": {},
   "source": [
    "---"
   ]
  },
  {
   "cell_type": "markdown",
   "id": "14e17147-b37a-4979-a54a-2327dccc4693",
   "metadata": {},
   "source": [
    "# Distributions that require explanation"
   ]
  },
  {
   "cell_type": "markdown",
   "id": "b2aa32ce",
   "metadata": {},
   "source": [
    "## nLVO and LVO combined - t=0"
   ]
  },
  {
   "cell_type": "markdown",
   "id": "e4b4e7dd-7198-4ba3-aa1d-6eba58f31dee",
   "metadata": {},
   "source": [
    "Sources: \n",
    "+ Lees et al. 2010 (no treatment distribution),\n",
    "+ SAMueL-1 dataset (pre-stroke distribution),\n",
    "+ Emberson et al. 2014 (odds ratio for mRS<=1 at t=1hr).\n",
    "\n",
    "Use the \"no effect\" distribution with the t=1hr value from Emberson+2014 to extrapolate back and find a t=0hr point, then scale the pre-stroke bins back to match."
   ]
  },
  {
   "cell_type": "markdown",
   "id": "c34b4507-76c4-4ef7-a7ae-007874b71240",
   "metadata": {},
   "source": [
    "Steps:\n",
    "1. \n",
    "1. \n",
    " "
   ]
  },
  {
   "cell_type": "markdown",
   "id": "6b9f2f71-d8f2-4b39-b30a-fc6c423a78ac",
   "metadata": {},
   "source": [
    "Use the following imported datasets and known values: "
   ]
  },
  {
   "cell_type": "code",
   "execution_count": 15,
   "id": "6ca716ec-9041-4736-9f01-04c8ec998928",
   "metadata": {},
   "outputs": [],
   "source": [
    "mrs_prob_bins_no_treatment_nlvo_lvo = dict_no_treatment_nlvo_lvo['bins']\n",
    "mrs_prob_bins_t0_treatment_pre = dict_pre_stroke['bins']"
   ]
  },
  {
   "cell_type": "code",
   "execution_count": 16,
   "id": "f06527fd-8051-4b6b-85ae-1d9fd1c75840",
   "metadata": {},
   "outputs": [],
   "source": [
    "OR   = 1.9\n",
    "t_ne = 6.3 # hours\n",
    "p    = mrs_prob_bins_no_treatment_nlvo_lvo[1]"
   ]
  },
  {
   "cell_type": "markdown",
   "id": "53921385-3d0e-4dec-b75e-fc3f6a6a08e0",
   "metadata": {},
   "source": [
    "Use the odds ratio at t=1hr and probability at t=(time of No Effect) to find odds ratio `OR` and probability `p` at t=0:"
   ]
  },
  {
   "cell_type": "code",
   "execution_count": 17,
   "id": "d90e4c1a-2a07-48c1-a069-4afea9fbcea9",
   "metadata": {},
   "outputs": [],
   "source": [
    "from outcome_utilities.extrapolate_odds_ratio import extrapolate_odds_ratio\n",
    "\n",
    "OR, p, a, b = extrapolate_odds_ratio(\n",
    "    t_1=60,      OR_1=1.9,             # t=1hr data\n",
    "    t_2=60*t_ne, OR_2=1,   p_2=p,      # t=t_ne data\n",
    "    t_e=0 )                            # Extrapolate to time 0."
   ]
  },
  {
   "cell_type": "markdown",
   "id": "f413eb59-17dd-4e40-8dc6-9daf73ca524a",
   "metadata": {},
   "source": [
    "Use the new probability `p` to scale the pre-stroke bins:"
   ]
  },
  {
   "cell_type": "code",
   "execution_count": 18,
   "id": "be2d17a8-f461-456b-9f45-6b34c00906ea",
   "metadata": {},
   "outputs": [],
   "source": [
    "from outcome_utilities.scale_dist import scale_dist\n",
    "\n",
    "mrs_prob_dist_t0_treatment_nlvo_lvo, mrs_prob_bins_no_treatment_nlvo_lvo = (\n",
    "    scale_dist(mrs_prob_bins_t0_treatment_pre, p, mRS_ref=1))"
   ]
  },
  {
   "cell_type": "code",
   "execution_count": 19,
   "id": "a46235ca-379a-4f14-8b4b-801b9380afea",
   "metadata": {},
   "outputs": [
    {
     "data": {
      "text/plain": [
       "array([0.46101   , 0.12494963, 0.1346828 , 0.16163172, 0.09212051,\n",
       "       0.02560533])"
      ]
     },
     "execution_count": 19,
     "metadata": {},
     "output_type": "execute_result"
    }
   ],
   "source": [
    "mrs_prob_dist_t0_treatment_nlvo_lvo"
   ]
  },
  {
   "cell_type": "markdown",
   "id": "d7644065-5977-46bf-9de1-ef989cd60efa",
   "metadata": {},
   "source": [
    "Compare with the imported data:"
   ]
  },
  {
   "cell_type": "code",
   "execution_count": 20,
   "id": "c5fde34f-9c3c-4df1-b3ed-2971f7ba8246",
   "metadata": {},
   "outputs": [
    {
     "data": {
      "text/plain": [
       "array([0.46101   , 0.12494963, 0.1346828 , 0.16163172, 0.09212051,\n",
       "       0.02560533])"
      ]
     },
     "execution_count": 20,
     "metadata": {},
     "output_type": "execute_result"
    }
   ],
   "source": [
    "dict_t0_treatment_nlvo_lvo['dist']"
   ]
  },
  {
   "cell_type": "markdown",
   "id": "e6720f79",
   "metadata": {},
   "source": [
    "---"
   ]
  },
  {
   "cell_type": "markdown",
   "id": "33e0cd5b",
   "metadata": {},
   "source": [
    "## LVO - thrombolysis only - t=0"
   ]
  },
  {
   "cell_type": "markdown",
   "id": "205e6a73",
   "metadata": {},
   "source": [
    "Weighted distribution of full effect `mrs_prob_dist_t0_treatment_pre` and no effect `mrs_prob_dist_no_treatment_LVO`, 0.18:0.82. (as in Holodinsky paper)."
   ]
  },
  {
   "cell_type": "markdown",
   "id": "872525b7-f59f-4dbd-ad63-a9150c453cff",
   "metadata": {},
   "source": [
    "Steps:\n",
    "1. \n",
    "1. \n",
    " "
   ]
  },
  {
   "cell_type": "markdown",
   "id": "954172d8-4fae-4363-bdd1-4b402d700ba9",
   "metadata": {},
   "source": [
    "Use the following imported datasets and known values: "
   ]
  },
  {
   "cell_type": "code",
   "execution_count": 21,
   "id": "2b2a7225-ca68-4d97-909b-1b1af2e096b1",
   "metadata": {},
   "outputs": [],
   "source": [
    "mrs_prob_dist_t0_treatment_pre = dict_pre_stroke['dist']\n",
    "mrs_prob_dist_no_treatment_lvo = dict_no_treatment_lvo['dist']"
   ]
  },
  {
   "cell_type": "code",
   "execution_count": 22,
   "id": "8065b395-9173-41e5-8b96-c5254f320202",
   "metadata": {},
   "outputs": [
    {
     "name": "stdout",
     "output_type": "stream",
     "text": [
      "Weighting for pre-stroke data: 0.18\n",
      "Weighting for untreated LVO data: 0.82\n"
     ]
    }
   ],
   "source": [
    "from outcome_utilities.mRS_datasets import (\n",
    "    weight_pre_stroke_lvo_oly, weight_no_treatment_lvo_oly)\n",
    "\n",
    "print('Weighting for pre-stroke data:',    weight_pre_stroke_lvo_oly)\n",
    "print('Weighting for untreated LVO data:', weight_no_treatment_lvo_oly)"
   ]
  },
  {
   "cell_type": "markdown",
   "id": "5d79da44-e5d5-409d-ae7f-d30cc6dfd20c",
   "metadata": {},
   "source": [
    "Apply the weights:"
   ]
  },
  {
   "cell_type": "code",
   "execution_count": 23,
   "id": "dee1793d",
   "metadata": {},
   "outputs": [],
   "source": [
    "mrs_prob_dist_t0_treatment_lvo_oly = (\n",
    "    (weight_pre_stroke_lvo_oly   * mrs_prob_dist_t0_treatment_pre) + \n",
    "    (weight_no_treatment_lvo_oly * mrs_prob_dist_no_treatment_lvo) )"
   ]
  },
  {
   "cell_type": "code",
   "execution_count": 24,
   "id": "9992bc49",
   "metadata": {},
   "outputs": [
    {
     "data": {
      "text/plain": [
       "array([0.14947714, 0.10668805, 0.15516151, 0.1870043 , 0.26181487,\n",
       "       0.13985412])"
      ]
     },
     "execution_count": 24,
     "metadata": {},
     "output_type": "execute_result"
    }
   ],
   "source": [
    "mrs_prob_dist_t0_treatment_lvo_oly"
   ]
  },
  {
   "cell_type": "markdown",
   "id": "ae8f2bf1-a2dc-4643-94c6-534e6c94d161",
   "metadata": {},
   "source": [
    "Compare this with the imported distribution:"
   ]
  },
  {
   "cell_type": "code",
   "execution_count": 25,
   "id": "b45c4a41-2b74-4887-9303-fe7ffee24e4a",
   "metadata": {},
   "outputs": [
    {
     "data": {
      "text/plain": [
       "array([0.1494771437409869, 0.10668804796961767, 0.15516150566564757,\n",
       "       0.18700430472724422, 0.26181487349849736, 0.13985412439800624],\n",
       "      dtype=object)"
      ]
     },
     "execution_count": 25,
     "metadata": {},
     "output_type": "execute_result"
    }
   ],
   "source": [
    "dict_t0_treatment_lvo_oly['dist']"
   ]
  },
  {
   "cell_type": "markdown",
   "id": "3470eee5-88b4-4c74-9c7e-b4a061be7a76",
   "metadata": {},
   "source": [
    "### Plot the weighting"
   ]
  },
  {
   "cell_type": "code",
   "execution_count": 26,
   "id": "7765986f-f10c-4ffa-901d-10b68fa67129",
   "metadata": {},
   "outputs": [
    {
     "data": {
      "image/png": "[encoded data removed]",
      "text/plain": [
       "<Figure size 432x288 with 1 Axes>"
      ]
     },
     "metadata": {
      "needs_background": "light"
     },
     "output_type": "display_data"
    }
   ],
   "source": [
    "weighted_pre = weight_pre_stroke_lvo_oly   * mrs_prob_dist_t0_treatment_pre\n",
    "weighted_lvo = weight_no_treatment_lvo_oly * mrs_prob_dist_no_treatment_lvo\n",
    "\n",
    "bars = plt.bar(range(6), weighted_pre, label='Pre-stroke' )\n",
    "\n",
    "# Draw the second set of bars on top of the first using 'tops' list:\n",
    "tops = bars.datavalues\n",
    "plt.bar(range(6), weighted_lvo, bottom=tops, label='LVO at no-effect time' )\n",
    "\n",
    "plt.legend()\n",
    "plt.show()"
   ]
  },
  {
   "cell_type": "markdown",
   "id": "16360d8e",
   "metadata": {},
   "source": [
    "---"
   ]
  },
  {
   "cell_type": "markdown",
   "id": "542baceb",
   "metadata": {},
   "source": [
    "## nLVO - untreated - time of no effect"
   ]
  },
  {
   "cell_type": "markdown",
   "id": "5778add2",
   "metadata": {},
   "source": [
    "Estimate from weighted subtraction of Goyal+2016 data from the Lees+2010 data."
   ]
  },
  {
   "cell_type": "markdown",
   "id": "8bb3ae15-1b97-45b2-9843-ab4ae5d68956",
   "metadata": {},
   "source": [
    "Steps:\n",
    "1. \n",
    "1. \n",
    " "
   ]
  },
  {
   "cell_type": "code",
   "execution_count": 55,
   "id": "934ea427-83b0-4cdb-af1e-19a871635189",
   "metadata": {},
   "outputs": [],
   "source": [
    "mrs_prob_dist_no_treatment_Lees = dict_no_treatment_nlvo_lvo['dist']\n",
    "mrs_prob_dist_no_treatment_LVO  = dict_no_treatment_lvo['dist']"
   ]
  },
  {
   "cell_type": "code",
   "execution_count": 56,
   "id": "fdc956af-c2ed-4cb7-9510-890005c2fd9a",
   "metadata": {},
   "outputs": [
    {
     "name": "stdout",
     "output_type": "stream",
     "text": [
      "Weights:\n",
      "untreated nLVO and LVO data: 1.0\n",
      "untreated LVO data:          -0.4\n"
     ]
    }
   ],
   "source": [
    "from outcome_utilities.mRS_datasets import (\n",
    "    weight_no_treatment_nlvo_lvo, weight_no_treatment_lvo)\n",
    "\n",
    "print('Weights:')\n",
    "print('untreated nLVO and LVO data:', weight_no_treatment_nlvo_lvo)\n",
    "print('untreated LVO data:         ', weight_no_treatment_lvo)"
   ]
  },
  {
   "cell_type": "code",
   "execution_count": 57,
   "id": "c15f8963",
   "metadata": {},
   "outputs": [],
   "source": [
    "mrs_prob_dist_no_treatment_nLVO = (\n",
    "    (weight_no_treatment_nlvo_lvo * mrs_prob_dist_no_treatment_Lees) + \n",
    "    (weight_no_treatment_lvo      * mrs_prob_dist_no_treatment_LVO) )"
   ]
  },
  {
   "cell_type": "markdown",
   "id": "6e1d99a7-b56c-4be7-a153-62127aecc224",
   "metadata": {},
   "source": [
    "Currently the bins are unlikely to sum to 1 as required, so they must be normalised:"
   ]
  },
  {
   "cell_type": "code",
   "execution_count": 58,
   "id": "d9f11586-c522-4363-85af-36e82492081e",
   "metadata": {},
   "outputs": [],
   "source": [
    "mrs_prob_dist_no_treatment_nLVO = (mrs_prob_dist_no_treatment_nLVO / \n",
    "                                   np.sum(mrs_prob_dist_no_treatment_nLVO))"
   ]
  },
  {
   "cell_type": "code",
   "execution_count": 59,
   "id": "fd3b6f52",
   "metadata": {},
   "outputs": [
    {
     "data": {
      "text/plain": [
       "array([0.23958184, 0.31696477, 0.12476506, 0.12894086, 0.13806616,\n",
       "       0.05168132])"
      ]
     },
     "execution_count": 59,
     "metadata": {},
     "output_type": "execute_result"
    }
   ],
   "source": [
    "mrs_prob_dist_no_treatment_nLVO"
   ]
  },
  {
   "cell_type": "markdown",
   "id": "6568295b",
   "metadata": {},
   "source": [
    "Check whether mRS<=1 value is a match for the 46% value from Holodinsky+2018."
   ]
  },
  {
   "cell_type": "code",
   "execution_count": 60,
   "id": "8affadce-d4e3-4878-bbad-d511aa106c79",
   "metadata": {},
   "outputs": [],
   "source": [
    "mrs_prob_bins_no_treatment_nLVO = np.cumsum(mrs_prob_dist_no_treatment_nLVO)"
   ]
  },
  {
   "cell_type": "code",
   "execution_count": 61,
   "id": "1c1e4f91",
   "metadata": {},
   "outputs": [
    {
     "data": {
      "text/plain": [
       "0.5565466025542539"
      ]
     },
     "execution_count": 61,
     "metadata": {},
     "output_type": "execute_result"
    }
   ],
   "source": [
    "mrs_prob_bins_no_treatment_nLVO[1]"
   ]
  },
  {
   "cell_type": "markdown",
   "id": "d967cd8f",
   "metadata": {},
   "source": [
    "Scale the bins to match the value from Holodinsky+2018, $P(mRS\\leq1, t=T_0)=0.46$."
   ]
  },
  {
   "cell_type": "code",
   "execution_count": 62,
   "id": "cb9a4bab",
   "metadata": {},
   "outputs": [],
   "source": [
    "mRS_ref_nLVO = 1\n",
    "p_ref_nLVO   = 0.46"
   ]
  },
  {
   "cell_type": "code",
   "execution_count": 63,
   "id": "5b9f418d-4fa8-48d8-a795-4ca77fb535db",
   "metadata": {},
   "outputs": [],
   "source": [
    "from outcome_utilities.scale_dist import scale_dist\n",
    "\n",
    "mrs_prob_dist_no_treatment_nLVO, mrs_prob_bins_no_treatment_nLVO = (\n",
    "    scale_dist(mrs_prob_bins_no_treatment_nLVO, p_ref_nLVO, mRS_ref=mRS_ref_nLVO))"
   ]
  },
  {
   "cell_type": "code",
   "execution_count": 64,
   "id": "9a582fc0",
   "metadata": {},
   "outputs": [
    {
     "data": {
      "text/plain": [
       "array([0.19802051, 0.26197949, 0.15192832, 0.15701327, 0.16812528,\n",
       "       0.06293313])"
      ]
     },
     "execution_count": 64,
     "metadata": {},
     "output_type": "execute_result"
    }
   ],
   "source": [
    "mrs_prob_dist_no_treatment_nLVO"
   ]
  },
  {
   "cell_type": "code",
   "execution_count": 65,
   "id": "2ff77b63",
   "metadata": {},
   "outputs": [
    {
     "data": {
      "text/plain": [
       "array([0.19802051, 0.46      , 0.61192832, 0.76894159, 0.93706687,\n",
       "       1.        ])"
      ]
     },
     "execution_count": 65,
     "metadata": {},
     "output_type": "execute_result"
    }
   ],
   "source": [
    "mrs_prob_bins_no_treatment_nLVO"
   ]
  },
  {
   "cell_type": "markdown",
   "id": "6e0c37ef-bb38-490a-9a93-3f51cf931aa8",
   "metadata": {},
   "source": [
    "Compare with the imported data:"
   ]
  },
  {
   "cell_type": "code",
   "execution_count": 66,
   "id": "8c15cc64-b41c-4eda-9002-ece162387a68",
   "metadata": {},
   "outputs": [
    {
     "data": {
      "text/plain": [
       "array([0.19802051, 0.26197949, 0.15192832, 0.15701327, 0.16812528,\n",
       "       0.06293313])"
      ]
     },
     "execution_count": 66,
     "metadata": {},
     "output_type": "execute_result"
    }
   ],
   "source": [
    "dict_no_treatment_nlvo['dist']"
   ]
  },
  {
   "cell_type": "markdown",
   "id": "84f4869c",
   "metadata": {},
   "source": [
    "---"
   ]
  },
  {
   "cell_type": "markdown",
   "id": "afc82309",
   "metadata": {},
   "source": [
    "## nLVO - thrombolysis"
   ]
  },
  {
   "cell_type": "markdown",
   "id": "009a2b53",
   "metadata": {},
   "source": [
    "## t=0 distribution\n",
    "\n",
    "Weighted distribution of the pre-stroke and \"no effect\" distributions."
   ]
  },
  {
   "cell_type": "markdown",
   "id": "a4fdb538-eff8-41f5-ac3b-46d20f925f92",
   "metadata": {},
   "source": [
    "Steps:\n",
    "1. \n",
    "1. \n",
    " "
   ]
  },
  {
   "cell_type": "markdown",
   "id": "6b1c7029",
   "metadata": {},
   "source": [
    "Find the weighting that results in $P(mRS<=1, t=0)=0.63$ (from Holodinsky+2018)."
   ]
  },
  {
   "cell_type": "code",
   "execution_count": 89,
   "id": "79396bd4-8386-4339-b6c2-e4ea2155fea3",
   "metadata": {},
   "outputs": [
    {
     "name": "stdout",
     "output_type": "stream",
     "text": [
      "0.7127280650232234 0.2872719349767766\n"
     ]
    }
   ],
   "source": [
    "from outcome_utilities.mRS_datasets import weight_pre_stroke_nlvo_oly, weight_no_treatment_nlvo_oly\n",
    "\n",
    "print(weight_pre_stroke_nlvo_oly, weight_no_treatment_nlvo_oly)"
   ]
  },
  {
   "cell_type": "code",
   "execution_count": 83,
   "id": "c6a74909-7849-49a1-865b-6076a9b18880",
   "metadata": {},
   "outputs": [],
   "source": [
    "mrs_prob_bins_no_treatment_nLVO_oly = dict_no_treatment_nlvo_oly['bins']\n",
    "mrs_prob_bins_t0_treatment_pre = dict_pre_stroke['bins']\n",
    "\n",
    "mrs_prob_dist_no_treatment_nLVO_oly = dict_no_treatment_nlvo_oly['dist']\n",
    "mrs_prob_dist_t0_treatment_pre = dict_pre_stroke['dist']"
   ]
  },
  {
   "cell_type": "code",
   "execution_count": 90,
   "id": "3720ffeb",
   "metadata": {},
   "outputs": [
    {
     "name": "stdout",
     "output_type": "stream",
     "text": [
      "Weights:  0.7127280650232234 0.2872719349767766\n"
     ]
    }
   ],
   "source": [
    "# Define the weights 'w':\n",
    "weight_pre_stroke_nlvo_oly = (\n",
    "    (0.63 - mrs_prob_bins_no_treatment_nLVO_oly[1]) / \n",
    "    (mrs_prob_bins_t0_treatment_pre[1] - mrs_prob_bins_no_treatment_nLVO_oly[1])\n",
    "    )\n",
    "weight_no_treatment_nlvo_oly = 1.0 - weight_pre_stroke_nlvo_oly\n",
    "\n",
    "print('Weights: ', weight_pre_stroke_nlvo_oly, weight_no_treatment_nlvo_oly)\n"
   ]
  },
  {
   "cell_type": "code",
   "execution_count": 91,
   "id": "7ec62820-1cc3-4c8c-9b4d-d3a7f9f9ad70",
   "metadata": {},
   "outputs": [],
   "source": [
    "mrs_prob_dist_t0_treatment_nLVO_oly = (\n",
    "    (weight_pre_stroke_nlvo_oly   * mrs_prob_dist_t0_treatment_pre) + \n",
    "    (weight_no_treatment_nlvo_oly * mrs_prob_dist_no_treatment_nLVO_oly) )\n",
    "\n",
    "# mrs_prob_dist_t0_treatment_nLVO_oly = np.diff(np.append([0.0],mrs_prob_bins_t0_treatment_nLVO_oly))\n",
    "mrs_prob_bins_t0_treatment_nLVO_oly = np.cumsum(mrs_prob_dist_t0_treatment_nLVO_oly)\n"
   ]
  },
  {
   "cell_type": "code",
   "execution_count": 92,
   "id": "3ae70f49",
   "metadata": {},
   "outputs": [
    {
     "data": {
      "text/plain": [
       "array([0.44857841, 0.18142159, 0.11354063, 0.12898698, 0.09610515,\n",
       "       0.03136724])"
      ]
     },
     "execution_count": 92,
     "metadata": {},
     "output_type": "execute_result"
    }
   ],
   "source": [
    "mrs_prob_dist_t0_treatment_nLVO_oly"
   ]
  },
  {
   "cell_type": "code",
   "execution_count": 93,
   "id": "df027415",
   "metadata": {},
   "outputs": [
    {
     "data": {
      "text/plain": [
       "array([0.44857841, 0.63      , 0.74354063, 0.87252761, 0.96863276,\n",
       "       1.        ])"
      ]
     },
     "execution_count": 93,
     "metadata": {},
     "output_type": "execute_result"
    }
   ],
   "source": [
    "mrs_prob_bins_t0_treatment_nLVO_oly"
   ]
  },
  {
   "cell_type": "markdown",
   "id": "af6b11b8-eb87-4f48-858d-b56c835cb368",
   "metadata": {},
   "source": [
    "Compare with the imported data:"
   ]
  },
  {
   "cell_type": "code",
   "execution_count": 94,
   "id": "9e3d121f-7f17-41c5-b208-d80302511ab9",
   "metadata": {},
   "outputs": [
    {
     "data": {
      "text/plain": [
       "array([0.44857840504423757, 0.1814215949557623, 0.11354062928179183,\n",
       "       0.12898698302604514, 0.09610514903527713, 0.031367238656885975],\n",
       "      dtype=object)"
      ]
     },
     "execution_count": 94,
     "metadata": {},
     "output_type": "execute_result"
    }
   ],
   "source": [
    "dict_t0_treatment_nlvo_oly['dist']"
   ]
  },
  {
   "cell_type": "code",
   "execution_count": 95,
   "id": "938ddc6b-8ce0-4b54-b883-e91c2f31c5a4",
   "metadata": {},
   "outputs": [
    {
     "data": {
      "image/png": "[encoded data removed]",
      "text/plain": [
       "<Figure size 432x288 with 1 Axes>"
      ]
     },
     "metadata": {
      "needs_background": "light"
     },
     "output_type": "display_data"
    }
   ],
   "source": [
    "weighted_pre  = weight_pre_stroke_nlvo_oly   * mrs_prob_dist_t0_treatment_pre\n",
    "weighted_nlvo_oly = weight_no_treatment_nlvo_oly * mrs_prob_dist_no_treatment_nLVO_oly\n",
    "\n",
    "bars = plt.bar(range(6), weighted_pre, label='Pre-stroke' )\n",
    "\n",
    "# Draw the second set of bars on top of the first using 'tops' list:\n",
    "tops = bars.datavalues\n",
    "plt.bar(range(6), weighted_nlvo_oly, bottom=tops, label='nLVO at no-effect time' )\n",
    "\n",
    "plt.legend()\n",
    "plt.show()"
   ]
  },
  {
   "cell_type": "code",
   "execution_count": 82,
   "id": "e0595984-ad3c-4c28-a7b4-232ece045fbd",
   "metadata": {},
   "outputs": [
    {
     "name": "stdout",
     "output_type": "stream",
     "text": [
      "0.09786465119634728 0.0978646511963473\n"
     ]
    }
   ],
   "source": [
    "print(weight_pre_stroke_nlvo_oly,np.sum(weighted_pre))"
   ]
  },
  {
   "cell_type": "markdown",
   "id": "3e662700",
   "metadata": {},
   "source": [
    "---"
   ]
  },
  {
   "cell_type": "markdown",
   "id": "853169ff-5b77-43b7-a3c9-32dc9ecc473f",
   "metadata": {
    "tags": []
   },
   "source": [
    "### References:\n",
    "\n",
    "- Holodinsky+2018\n",
    "- Goyal+2016\n",
    "- Emberson+2014\n",
    "- Lees+2010\n"
   ]
  }
 ],
 "metadata": {
  "kernelspec": {
   "display_name": "Python 3 (ipykernel)",
   "language": "python",
   "name": "python3"
  },
  "language_info": {
   "codemirror_mode": {
    "name": "ipython",
    "version": 3
   },
   "file_extension": ".py",
   "mimetype": "text/x-python",
   "name": "python",
   "nbconvert_exporter": "python",
   "pygments_lexer": "ipython3",
   "version": "3.9.12"
  }
 },
 "nbformat": 4,
 "nbformat_minor": 5
}
