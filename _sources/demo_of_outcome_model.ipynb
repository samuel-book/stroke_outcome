{
 "cells": [
  {
   "cell_type": "markdown",
   "metadata": {},
   "source": [
    "# Example output from stroke outcome model\n",
    "\n",
    "In this notebook we provide an example of the output from the stroke outcome model assuming IVT is delivered at 90 mins and MT is delivered at 120 mins after stroke onset.\n",
    "\n",
    "The model provides a sample distribution of mRS scores for 1,000 patients."
   ]
  },
  {
   "cell_type": "markdown",
   "metadata": {},
   "source": [
    "## Load packages and data file"
   ]
  },
  {
   "cell_type": "code",
   "execution_count": 1,
   "metadata": {
    "pycharm": {
     "name": "#%%\n"
    }
   },
   "outputs": [],
   "source": [
    "import matplotlib.pyplot as plt\n",
    "import numpy as np\n",
    "import pandas as pd\n",
    "from outcome_utilities.clinical_outcome import Clinical_outcome\n",
    "\n",
    "import warnings\n",
    "warnings.filterwarnings(\"ignore\")\n",
    "\n",
    "# Load mRS distributions\n",
    "mrs_dists = pd.read_csv(\n",
    "    './outcome_utilities/mrs_dist_probs_cumsum.csv', index_col='Stroke type')"
   ]
  },
  {
   "cell_type": "markdown",
   "metadata": {},
   "source": [
    "## View the loaded mRS distributions\n",
    "For each stroke type (by row) the the imported table shows the cumulative proportion of patients with each mRS score (0-6)"
   ]
  },
  {
   "cell_type": "code",
   "execution_count": 2,
   "metadata": {},
   "outputs": [
    {
     "data": {
      "text/html": [
       "<div>\n",
       "<style scoped>\n",
       "    .dataframe tbody tr th:only-of-type {\n",
       "        vertical-align: middle;\n",
       "    }\n",
       "\n",
       "    .dataframe tbody tr th {\n",
       "        vertical-align: top;\n",
       "    }\n",
       "\n",
       "    .dataframe thead th {\n",
       "        text-align: right;\n",
       "    }\n",
       "</style>\n",
       "<table border=\"1\" class=\"dataframe\">\n",
       "  <thead>\n",
       "    <tr style=\"text-align: right;\">\n",
       "      <th></th>\n",
       "      <th>0</th>\n",
       "      <th>1</th>\n",
       "      <th>2</th>\n",
       "      <th>3</th>\n",
       "      <th>4</th>\n",
       "      <th>5</th>\n",
       "      <th>6</th>\n",
       "    </tr>\n",
       "    <tr>\n",
       "      <th>Stroke type</th>\n",
       "      <th></th>\n",
       "      <th></th>\n",
       "      <th></th>\n",
       "      <th></th>\n",
       "      <th></th>\n",
       "      <th></th>\n",
       "      <th></th>\n",
       "    </tr>\n",
       "  </thead>\n",
       "  <tbody>\n",
       "    <tr>\n",
       "      <th>pre_stroke_nlvo</th>\n",
       "      <td>0.582881</td>\n",
       "      <td>0.745419</td>\n",
       "      <td>0.848859</td>\n",
       "      <td>0.951082</td>\n",
       "      <td>0.993055</td>\n",
       "      <td>1.000000</td>\n",
       "      <td>1.0</td>\n",
       "    </tr>\n",
       "    <tr>\n",
       "      <th>pre_stroke_nlvo_ivt_deaths</th>\n",
       "      <td>0.576469</td>\n",
       "      <td>0.737219</td>\n",
       "      <td>0.839522</td>\n",
       "      <td>0.940620</td>\n",
       "      <td>0.982131</td>\n",
       "      <td>0.989000</td>\n",
       "      <td>1.0</td>\n",
       "    </tr>\n",
       "    <tr>\n",
       "      <th>pre_stroke_lvo</th>\n",
       "      <td>0.417894</td>\n",
       "      <td>0.560853</td>\n",
       "      <td>0.679283</td>\n",
       "      <td>0.843494</td>\n",
       "      <td>0.957269</td>\n",
       "      <td>1.000000</td>\n",
       "      <td>1.0</td>\n",
       "    </tr>\n",
       "    <tr>\n",
       "      <th>pre_stroke_lvo_ivt_deaths</th>\n",
       "      <td>0.403644</td>\n",
       "      <td>0.541728</td>\n",
       "      <td>0.656119</td>\n",
       "      <td>0.814731</td>\n",
       "      <td>0.924626</td>\n",
       "      <td>0.965900</td>\n",
       "      <td>1.0</td>\n",
       "    </tr>\n",
       "    <tr>\n",
       "      <th>pre_stroke_lvo_mt_deaths</th>\n",
       "      <td>0.402850</td>\n",
       "      <td>0.540662</td>\n",
       "      <td>0.654829</td>\n",
       "      <td>0.813128</td>\n",
       "      <td>0.922807</td>\n",
       "      <td>0.964000</td>\n",
       "      <td>1.0</td>\n",
       "    </tr>\n",
       "    <tr>\n",
       "      <th>no_treatment_nlvo</th>\n",
       "      <td>0.197144</td>\n",
       "      <td>0.460000</td>\n",
       "      <td>0.580032</td>\n",
       "      <td>0.707768</td>\n",
       "      <td>0.855677</td>\n",
       "      <td>0.917702</td>\n",
       "      <td>1.0</td>\n",
       "    </tr>\n",
       "    <tr>\n",
       "      <th>no_effect_nlvo_ivt_deaths</th>\n",
       "      <td>0.197271</td>\n",
       "      <td>0.460000</td>\n",
       "      <td>0.577583</td>\n",
       "      <td>0.702252</td>\n",
       "      <td>0.845244</td>\n",
       "      <td>0.904454</td>\n",
       "      <td>1.0</td>\n",
       "    </tr>\n",
       "    <tr>\n",
       "      <th>t0_treatment_nlvo_ivt</th>\n",
       "      <td>0.429808</td>\n",
       "      <td>0.630000</td>\n",
       "      <td>0.738212</td>\n",
       "      <td>0.848427</td>\n",
       "      <td>0.929188</td>\n",
       "      <td>0.956300</td>\n",
       "      <td>1.0</td>\n",
       "    </tr>\n",
       "    <tr>\n",
       "      <th>no_treatment_lvo</th>\n",
       "      <td>0.050000</td>\n",
       "      <td>0.129000</td>\n",
       "      <td>0.265000</td>\n",
       "      <td>0.429000</td>\n",
       "      <td>0.676000</td>\n",
       "      <td>0.811000</td>\n",
       "      <td>1.0</td>\n",
       "    </tr>\n",
       "    <tr>\n",
       "      <th>no_effect_lvo_ivt_deaths</th>\n",
       "      <td>0.047898</td>\n",
       "      <td>0.123576</td>\n",
       "      <td>0.253858</td>\n",
       "      <td>0.410962</td>\n",
       "      <td>0.647576</td>\n",
       "      <td>0.776900</td>\n",
       "      <td>1.0</td>\n",
       "    </tr>\n",
       "    <tr>\n",
       "      <th>no_effect_lvo_mt_deaths</th>\n",
       "      <td>0.047626</td>\n",
       "      <td>0.122876</td>\n",
       "      <td>0.252420</td>\n",
       "      <td>0.408634</td>\n",
       "      <td>0.643909</td>\n",
       "      <td>0.772500</td>\n",
       "      <td>1.0</td>\n",
       "    </tr>\n",
       "    <tr>\n",
       "      <th>t0_treatment_lvo_ivt</th>\n",
       "      <td>0.112916</td>\n",
       "      <td>0.200000</td>\n",
       "      <td>0.327377</td>\n",
       "      <td>0.484757</td>\n",
       "      <td>0.698212</td>\n",
       "      <td>0.811443</td>\n",
       "      <td>1.0</td>\n",
       "    </tr>\n",
       "    <tr>\n",
       "      <th>t0_treatment_lvo_mt</th>\n",
       "      <td>0.314044</td>\n",
       "      <td>0.436216</td>\n",
       "      <td>0.554227</td>\n",
       "      <td>0.712005</td>\n",
       "      <td>0.853083</td>\n",
       "      <td>0.916125</td>\n",
       "      <td>1.0</td>\n",
       "    </tr>\n",
       "  </tbody>\n",
       "</table>\n",
       "</div>"
      ],
      "text/plain": [
       "                                   0         1         2         3         4  \\\n",
       "Stroke type                                                                    \n",
       "pre_stroke_nlvo             0.582881  0.745419  0.848859  0.951082  0.993055   \n",
       "pre_stroke_nlvo_ivt_deaths  0.576469  0.737219  0.839522  0.940620  0.982131   \n",
       "pre_stroke_lvo              0.417894  0.560853  0.679283  0.843494  0.957269   \n",
       "pre_stroke_lvo_ivt_deaths   0.403644  0.541728  0.656119  0.814731  0.924626   \n",
       "pre_stroke_lvo_mt_deaths    0.402850  0.540662  0.654829  0.813128  0.922807   \n",
       "no_treatment_nlvo           0.197144  0.460000  0.580032  0.707768  0.855677   \n",
       "no_effect_nlvo_ivt_deaths   0.197271  0.460000  0.577583  0.702252  0.845244   \n",
       "t0_treatment_nlvo_ivt       0.429808  0.630000  0.738212  0.848427  0.929188   \n",
       "no_treatment_lvo            0.050000  0.129000  0.265000  0.429000  0.676000   \n",
       "no_effect_lvo_ivt_deaths    0.047898  0.123576  0.253858  0.410962  0.647576   \n",
       "no_effect_lvo_mt_deaths     0.047626  0.122876  0.252420  0.408634  0.643909   \n",
       "t0_treatment_lvo_ivt        0.112916  0.200000  0.327377  0.484757  0.698212   \n",
       "t0_treatment_lvo_mt         0.314044  0.436216  0.554227  0.712005  0.853083   \n",
       "\n",
       "                                   5    6  \n",
       "Stroke type                                \n",
       "pre_stroke_nlvo             1.000000  1.0  \n",
       "pre_stroke_nlvo_ivt_deaths  0.989000  1.0  \n",
       "pre_stroke_lvo              1.000000  1.0  \n",
       "pre_stroke_lvo_ivt_deaths   0.965900  1.0  \n",
       "pre_stroke_lvo_mt_deaths    0.964000  1.0  \n",
       "no_treatment_nlvo           0.917702  1.0  \n",
       "no_effect_nlvo_ivt_deaths   0.904454  1.0  \n",
       "t0_treatment_nlvo_ivt       0.956300  1.0  \n",
       "no_treatment_lvo            0.811000  1.0  \n",
       "no_effect_lvo_ivt_deaths    0.776900  1.0  \n",
       "no_effect_lvo_mt_deaths     0.772500  1.0  \n",
       "t0_treatment_lvo_ivt        0.811443  1.0  \n",
       "t0_treatment_lvo_mt         0.916125  1.0  "
      ]
     },
     "execution_count": 2,
     "metadata": {},
     "output_type": "execute_result"
    }
   ],
   "source": [
    "mrs_dists"
   ]
  },
  {
   "cell_type": "markdown",
   "metadata": {},
   "source": [
    "## Set up outcome model and get output"
   ]
  },
  {
   "cell_type": "code",
   "execution_count": 3,
   "metadata": {
    "collapsed": false,
    "jupyter": {
     "outputs_hidden": false
    },
    "pycharm": {
     "name": "#%%\n"
    }
   },
   "outputs": [],
   "source": [
    "# Set up outcome model\n",
    "outcome_model = Clinical_outcome(mrs_dists, patients=1000)\n",
    "\n",
    "# Get outputs\n",
    "time_to_ivt = 90\n",
    "time_to_mt = 120\n",
    "outcomes = outcome_model.calculate_outcomes(time_to_ivt, time_to_mt)"
   ]
  },
  {
   "cell_type": "markdown",
   "metadata": {},
   "source": [
    "## Show raw model output\n",
    "\n",
    "The model output is a dictionary of results."
   ]
  },
  {
   "cell_type": "code",
   "execution_count": 4,
   "metadata": {
    "collapsed": false,
    "jupyter": {
     "outputs_hidden": false
    },
    "pycharm": {
     "name": "#%%\n"
    }
   },
   "outputs": [
    {
     "data": {
      "text/plain": [
       "{'lvo_untreated_probs': array([0.047, 0.073, 0.141, 0.155, 0.255, 0.124, 0.205]),\n",
       " 'nlvo_untreated_probs': array([0.211, 0.278, 0.117, 0.125, 0.133, 0.061, 0.075]),\n",
       " 'lvo_ivt_probs': array([0.091, 0.082, 0.126, 0.156, 0.226, 0.108, 0.211]),\n",
       " 'lvo_mt_probs': array([0.213, 0.133, 0.142, 0.146, 0.179, 0.08 , 0.107]),\n",
       " 'nlvo_ivt_probs': array([0.39 , 0.228, 0.108, 0.1  , 0.096, 0.035, 0.043]),\n",
       " 'lvo_untreated_mean_utility': 0.32685999999999993,\n",
       " 'nlvo_untreated_mean_utility': 0.6196499999999999,\n",
       " 'lvo_ivt_mean_utility': 0.36415000000000003,\n",
       " 'lvo_mt_mean_utility': 0.5296299999999999,\n",
       " 'nlvo_ivt_mean_utility': 0.72641,\n",
       " 'lvo_ivt_added_utility': 0.0372900000000001,\n",
       " 'lvo_mt_added_utility': 0.20277,\n",
       " 'nlvo_ivt_added_utility': 0.10676000000000008,\n",
       " 'lvo_untreated_cum_probs': array([0.047, 0.12 , 0.261, 0.416, 0.671, 0.795, 1.   ]),\n",
       " 'nlvo_untreated_cum_probs': array([0.211, 0.489, 0.606, 0.731, 0.864, 0.925, 1.   ]),\n",
       " 'lvo_ivt_cum_probs': array([0.091, 0.173, 0.299, 0.455, 0.681, 0.789, 1.   ]),\n",
       " 'lvo_mt_cum_probs': array([0.213, 0.346, 0.488, 0.634, 0.813, 0.893, 1.   ]),\n",
       " 'nlvo_ivt_cum_probs': array([0.39 , 0.618, 0.726, 0.826, 0.922, 0.957, 1.   ]),\n",
       " 'lvo_ivt_shift': array([ 0.044,  0.009, -0.015,  0.001, -0.029, -0.016,  0.006]),\n",
       " 'lvo_mt_shift': array([ 0.166,  0.06 ,  0.001, -0.009, -0.076, -0.044, -0.098]),\n",
       " 'nlvo_ivt_shift': array([ 0.179, -0.05 , -0.009, -0.025, -0.037, -0.026, -0.032]),\n",
       " 'lvo_untreated_mean_mRS': 3.69,\n",
       " 'nlvo_untreated_mean_mRS': 2.174,\n",
       " 'lvo_ivt_mean_mRS': 3.512,\n",
       " 'lvo_mt_mean_mRS': 2.613,\n",
       " 'nlvo_ivt_mean_mRS': 1.561,\n",
       " 'lvo_ivt_mean_shift': -0.178,\n",
       " 'lvo_mt_mean_shift': -1.022,\n",
       " 'nlvo_ivt_mean_shift': -0.613,\n",
       " 'lvo_ivt_improved': 0.184,\n",
       " 'lvo_mt_improved': 0.806,\n",
       " 'nlvo_ivt_improved': 0.601}"
      ]
     },
     "execution_count": 4,
     "metadata": {},
     "output_type": "execute_result"
    }
   ],
   "source": [
    "outcomes"
   ]
  },
  {
   "cell_type": "markdown",
   "metadata": {},
   "source": [
    "## Plot mRS distributions"
   ]
  },
  {
   "cell_type": "markdown",
   "metadata": {},
   "source": [
    "Define the plotting function:"
   ]
  },
  {
   "cell_type": "code",
   "execution_count": 5,
   "metadata": {
    "collapsed": false,
    "jupyter": {
     "outputs_hidden": false
    },
    "pycharm": {
     "name": "#%%\n"
    }
   },
   "outputs": [],
   "source": [
    "def draw_horizontal_bar(dist,label=' '):\n",
    "    \"\"\"\n",
    "    Draw a stacked horizontal bar chart of the values in 'dist'.\n",
    "    \n",
    "    dist  - list or np.array. The probability distribution \n",
    "            (non-cumulative).\n",
    "    label - string. The name printed next to these stacked bars.\n",
    "    \"\"\"\n",
    "    fig = plt.figure(figsize=(8,2))\n",
    "    ax = fig.add_subplot()\n",
    "    ax.set_frame_on(False)\n",
    "    \n",
    "    colour_list = plt.rcParams['axes.prop_cycle'].by_key()['color']\n",
    "    # The first bar will start at this point on the x-axis:\n",
    "    left = 0\n",
    "    for i in range(len(dist)):\n",
    "        # Draw a bar starting from 'left', the end of the previous bar,\n",
    "        # with a width equal to the probability of this mRS:\n",
    "        ax.barh(' ', width=dist[i], left=left, height=0.5, \n",
    "                 label=f'{i}', edgecolor='k', color=colour_list[i%6])\n",
    "        # Update 'left' with the width of the current bar so that the \n",
    "        # next bar drawn will start in the correct place.    \n",
    "        left += dist[i]\n",
    "    ax.set_xlabel('Probability')\n",
    "    ax.set_title(label)\n",
    "    ax.legend(loc='center',ncol=7, title='mRS', \n",
    "               bbox_to_anchor=[0.5,0.0,0.0,-1.20])   # Legend below axis."
   ]
  },
  {
   "cell_type": "markdown",
   "metadata": {},
   "source": [
    "Set the plot colour scheme"
   ]
  },
  {
   "cell_type": "code",
   "execution_count": 6,
   "metadata": {},
   "outputs": [],
   "source": [
    "plt.style.use('seaborn-colorblind')"
   ]
  },
  {
   "cell_type": "markdown",
   "metadata": {},
   "source": [
    "Plot mRS distribution for untreated LVO."
   ]
  },
  {
   "cell_type": "code",
   "execution_count": 7,
   "metadata": {
    "pycharm": {
     "name": "#%%\n"
    }
   },
   "outputs": [
    {
     "data": {
      "image/png": "[encoded data removed]",
      "text/plain": [
       "<Figure size 576x144 with 1 Axes>"
      ]
     },
     "metadata": {
      "needs_background": "light"
     },
     "output_type": "display_data"
    }
   ],
   "source": [
    "draw_horizontal_bar(outcomes['lvo_untreated_probs'], 'LVO untreated')"
   ]
  },
  {
   "cell_type": "markdown",
   "metadata": {},
   "source": [
    "Plot mRS distribution for LVO treated with IVT."
   ]
  },
  {
   "cell_type": "code",
   "execution_count": 8,
   "metadata": {
    "pycharm": {
     "name": "#%%\n"
    }
   },
   "outputs": [
    {
     "data": {
      "image/png": "[encoded data removed]",
      "text/plain": [
       "<Figure size 576x144 with 1 Axes>"
      ]
     },
     "metadata": {
      "needs_background": "light"
     },
     "output_type": "display_data"
    }
   ],
   "source": [
    "draw_horizontal_bar(outcomes['lvo_ivt_probs'], 'LVO IVT')"
   ]
  },
  {
   "cell_type": "markdown",
   "metadata": {},
   "source": [
    "Plot mRS distribution for LVO treated with MT."
   ]
  },
  {
   "cell_type": "code",
   "execution_count": 9,
   "metadata": {},
   "outputs": [
    {
     "data": {
      "image/png": "[encoded data removed]",
      "text/plain": [
       "<Figure size 576x144 with 1 Axes>"
      ]
     },
     "metadata": {
      "needs_background": "light"
     },
     "output_type": "display_data"
    }
   ],
   "source": [
    "draw_horizontal_bar(outcomes['lvo_mt_probs'], 'LVO MT')"
   ]
  },
  {
   "cell_type": "markdown",
   "metadata": {},
   "source": [
    "Plot mRS distribution for untreated nLVO."
   ]
  },
  {
   "cell_type": "code",
   "execution_count": 10,
   "metadata": {},
   "outputs": [
    {
     "data": {
      "image/png": "[encoded data removed]",
      "text/plain": [
       "<Figure size 576x144 with 1 Axes>"
      ]
     },
     "metadata": {
      "needs_background": "light"
     },
     "output_type": "display_data"
    }
   ],
   "source": [
    "draw_horizontal_bar(outcomes['nlvo_untreated_probs'], 'nLVO untreated')"
   ]
  },
  {
   "cell_type": "markdown",
   "metadata": {},
   "source": [
    "Plot mRS distribution for nLVO treated with IVT."
   ]
  },
  {
   "cell_type": "code",
   "execution_count": 11,
   "metadata": {},
   "outputs": [
    {
     "data": {
      "image/png": "[encoded data removed]",
      "text/plain": [
       "<Figure size 576x144 with 1 Axes>"
      ]
     },
     "metadata": {
      "needs_background": "light"
     },
     "output_type": "display_data"
    }
   ],
   "source": [
    "draw_horizontal_bar(outcomes['nlvo_ivt_probs'], 'nLVO IVT')"
   ]
  },
  {
   "cell_type": "markdown",
   "metadata": {},
   "source": [
    "## Plot changes in mRS proportions with treatment"
   ]
  },
  {
   "cell_type": "code",
   "execution_count": 12,
   "metadata": {},
   "outputs": [],
   "source": [
    "def plot_shift(dist, label=' '):\n",
    "    x=np.arange(7)\n",
    "    fig = plt.figure(figsize=(6,5))\n",
    "    ax = fig.add_subplot()\n",
    "    ax.bar(x, dist)\n",
    "    ax.hlines(0, -0.5, 6.5, color='k', linewidth=1)\n",
    "    ax.set_xlabel('mRS')\n",
    "    ax.set_ylabel('Change in probability')\n",
    "    ax.set_title(label)\n",
    "    plt.show()"
   ]
  },
  {
   "cell_type": "markdown",
   "metadata": {},
   "source": [
    "Plot changes in mRS proportions for LVO patients: comparing having no treatment to having IVT:"
   ]
  },
  {
   "cell_type": "code",
   "execution_count": 13,
   "metadata": {},
   "outputs": [
    {
     "data": {
      "image/png": "[encoded data removed]",
      "text/plain": [
       "<Figure size 432x360 with 1 Axes>"
      ]
     },
     "metadata": {
      "needs_background": "light"
     },
     "output_type": "display_data"
    }
   ],
   "source": [
    "plot_shift(outcomes['lvo_ivt_shift'], 'LVO-IVT shift (untreated to treated with IVT)')"
   ]
  },
  {
   "cell_type": "markdown",
   "metadata": {},
   "source": [
    "Plot changes in mRS proportions for LVO patients: comparing having no treatment to having MT:"
   ]
  },
  {
   "cell_type": "code",
   "execution_count": 14,
   "metadata": {},
   "outputs": [
    {
     "data": {
      "image/png": "[encoded data removed]",
      "text/plain": [
       "<Figure size 432x360 with 1 Axes>"
      ]
     },
     "metadata": {
      "needs_background": "light"
     },
     "output_type": "display_data"
    }
   ],
   "source": [
    "plot_shift(outcomes['lvo_mt_shift'], 'LVO-MT shift (untreated to treated with MT)')"
   ]
  },
  {
   "cell_type": "markdown",
   "metadata": {},
   "source": [
    "Plot changes in mRS proportions for nLVO patients: comparing having no treatment to having IVT:"
   ]
  },
  {
   "cell_type": "code",
   "execution_count": 15,
   "metadata": {},
   "outputs": [
    {
     "data": {
      "image/png": "[encoded data removed]",
      "text/plain": [
       "<Figure size 432x360 with 1 Axes>"
      ]
     },
     "metadata": {
      "needs_background": "light"
     },
     "output_type": "display_data"
    }
   ],
   "source": [
    "plot_shift(outcomes['nlvo_ivt_shift'], 'nLVO-IVT shift (untreated to treated with IVT)')"
   ]
  },
  {
   "cell_type": "markdown",
   "metadata": {},
   "source": [
    "## Other stats\n",
    "\n",
    "### Mean mRS"
   ]
  },
  {
   "cell_type": "code",
   "execution_count": 16,
   "metadata": {},
   "outputs": [
    {
     "name": "stdout",
     "output_type": "stream",
     "text": [
      "Mean mRS\n",
      "--------\n",
      "LVO untreated: 3.69\n",
      "LVO IVT: 3.512\n",
      "LVO MT: 2.613\n",
      "nLVO untreated: 2.174\n",
      "nLVO IVT: 1.561\n"
     ]
    }
   ],
   "source": [
    "print('Mean mRS')\n",
    "print('--------')\n",
    "print('LVO untreated:', outcomes['lvo_untreated_mean_mRS'])\n",
    "print('LVO IVT:', outcomes['lvo_ivt_mean_mRS'])\n",
    "print('LVO MT:', outcomes['lvo_mt_mean_mRS'])\n",
    "print('nLVO untreated:', outcomes['nlvo_untreated_mean_mRS'])\n",
    "print('nLVO IVT:', outcomes['nlvo_ivt_mean_mRS'])"
   ]
  },
  {
   "cell_type": "markdown",
   "metadata": {},
   "source": [
    "### Mean shift in mRS"
   ]
  },
  {
   "cell_type": "code",
   "execution_count": 17,
   "metadata": {},
   "outputs": [
    {
     "name": "stdout",
     "output_type": "stream",
     "text": [
      "Mean mRS shift\n",
      "--------------\n",
      "LVO IVT: -0.178\n",
      "LVO MT: -1.022\n",
      "nLVO IVT: -0.613\n"
     ]
    }
   ],
   "source": [
    "print('Mean mRS shift')\n",
    "print('--------------')\n",
    "print('LVO IVT:', outcomes['lvo_ivt_mean_shift'])\n",
    "print('LVO MT:', outcomes['lvo_mt_mean_shift'])\n",
    "print('nLVO IVT:', outcomes['nlvo_ivt_mean_shift'])"
   ]
  },
  {
   "cell_type": "markdown",
   "metadata": {},
   "source": [
    "### The proportion of patients with improved mRS\n",
    "Assuming all patients move up the mRS."
   ]
  },
  {
   "cell_type": "code",
   "execution_count": 18,
   "metadata": {},
   "outputs": [
    {
     "name": "stdout",
     "output_type": "stream",
     "text": [
      "Proportion improved\n",
      "-------------------\n",
      "LVO IVT: 0.184\n",
      "LVO MT: 0.806\n",
      "nLVO IVT: 0.601\n"
     ]
    }
   ],
   "source": [
    "print('Proportion improved')\n",
    "print('-------------------')\n",
    "print('LVO IVT:', outcomes['lvo_ivt_improved'])\n",
    "print('LVO MT:', outcomes['lvo_mt_improved'])\n",
    "print('nLVO IVT:', outcomes['nlvo_ivt_improved'])"
   ]
  },
  {
   "cell_type": "markdown",
   "metadata": {},
   "source": [
    "### Utility-weighted mRS outcomes\n",
    "\n",
    "In addition to mRS, we may calculate utility-weighted mRS (UW-mRS).\n",
    "\n",
    "UW-mRS incorporates both treatment effect and patient perceived quality of life as a single outcome measure for stroke trials.\n",
    "\n",
    "UW-mRS scores are based on a pooled analysis of 2,000+ patients. \n",
    "From  Wang X, Moullaali TJ, Li Q, Berge E, Robinson TG, Lindley R, et al.\n",
    "Utility-Weighted Modified Rankin Scale Scores for the Assessment of Stroke\n",
    "Outcome. Stroke. 2020 Aug 1;51(8):2411-7.\n",
    "\n",
    "| mRS Score | 0    | 1    | 2    | 3    | 4    | 5     | 6    |\n",
    "|-----------|------|------|------|------|------|-------|------|\n",
    "| Utility   | 0.97 | 0.88 | 0.74 | 0.55 | 0.20 | -0.19 | 0.00 |"
   ]
  },
  {
   "cell_type": "code",
   "execution_count": 19,
   "metadata": {},
   "outputs": [
    {
     "name": "stdout",
     "output_type": "stream",
     "text": [
      "LVO untreated UW-mRS: 0.327\n",
      "LVO IVT UW-mRS: 0.364 (added UW-mRS: 0.037)\n",
      "LVO MT UW-mRS: 0.530 (added UW-mRS: 0.203)\n",
      "nLVO untreated UW-mRS: 0.620\n",
      "nLVO IVT UW-mRS: 0.726 (added UW-mRS: 0.107)\n"
     ]
    }
   ],
   "source": [
    "x = outcomes['lvo_untreated_mean_utility']\n",
    "print(f'LVO untreated UW-mRS: {x:0.3f}')\n",
    "\n",
    "x1 = outcomes['lvo_ivt_mean_utility']\n",
    "x2 = outcomes['lvo_ivt_added_utility']\n",
    "print(f'LVO IVT UW-mRS: {x1:0.3f} (added UW-mRS: {x2:0.3f})')\n",
    "\n",
    "x1 = outcomes['lvo_mt_mean_utility']\n",
    "x2 = outcomes['lvo_mt_added_utility']\n",
    "print(f'LVO MT UW-mRS: {x1:0.3f} (added UW-mRS: {x2:0.3f})')\n",
    "\n",
    "x = outcomes['nlvo_untreated_mean_utility']\n",
    "print(f'nLVO untreated UW-mRS: {x:0.3f}')\n",
    "\n",
    "x1 = outcomes['nlvo_ivt_mean_utility']\n",
    "x2 = outcomes['nlvo_ivt_added_utility']\n",
    "print(f'nLVO IVT UW-mRS: {x1:0.3f} (added UW-mRS: {x2:0.3f})')\n",
    "\n"
   ]
  }
 ],
 "metadata": {
  "kernelspec": {
   "display_name": "Python 3 (ipykernel)",
   "language": "python",
   "name": "python3"
  },
  "language_info": {
   "codemirror_mode": {
    "name": "ipython",
    "version": 3
   },
   "file_extension": ".py",
   "mimetype": "text/x-python",
   "name": "python",
   "nbconvert_exporter": "python",
   "pygments_lexer": "ipython3",
   "version": "3.8.13"
  },
  "vscode": {
   "interpreter": {
    "hash": "1cbbc16b0c861749b9a95c5f128e49297cfff30c52b65168a4b24d814ebeea2e"
   }
  }
 },
 "nbformat": 4,
 "nbformat_minor": 4
}
