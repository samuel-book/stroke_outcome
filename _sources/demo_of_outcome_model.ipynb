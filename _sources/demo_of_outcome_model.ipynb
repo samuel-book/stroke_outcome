{
 "cells": [
  {
   "cell_type": "markdown",
   "metadata": {},
   "source": [
    "# Example output from stroke outcome model\n",
    "\n",
    "In this notebook we provide an example of the output from the stroke outcome model assuming IVT is delivered at 90 mins and MT is delieverd at 120 mins after stroke onset.\n",
    "\n",
    "The model provides a sample distribution of mRS scores for 1,000 patients."
   ]
  },
  {
   "cell_type": "markdown",
   "metadata": {},
   "source": [
    "## Load packages and data file"
   ]
  },
  {
   "cell_type": "code",
   "execution_count": 1,
   "metadata": {
    "pycharm": {
     "name": "#%%\n"
    }
   },
   "outputs": [],
   "source": [
    "import matplotlib.pyplot as plt\n",
    "import numpy as np\n",
    "import pandas as pd\n",
    "from outcome_utilities.clinical_outcome import Clinical_outcome\n",
    "\n",
    "import warnings\n",
    "warnings.filterwarnings(\"ignore\")\n",
    "\n",
    "# Load mRS distributions\n",
    "mrs_dists = pd.read_csv(\n",
    "    './outcome_utilities/mrs_dist_probs_cumsum.csv', index_col='Stroke type')"
   ]
  },
  {
   "cell_type": "markdown",
   "metadata": {},
   "source": [
    "## Set up outcome model and get output"
   ]
  },
  {
   "cell_type": "code",
   "execution_count": 2,
   "metadata": {
    "collapsed": false,
    "jupyter": {
     "outputs_hidden": false
    },
    "pycharm": {
     "name": "#%%\n"
    }
   },
   "outputs": [],
   "source": [
    "# Set up outcome model\n",
    "outcome_model = Clinical_outcome(mrs_dists, patients=1000)\n",
    "\n",
    "# Get outputs\n",
    "time_to_ivt = 90\n",
    "time_to_mt = 120\n",
    "outcomes = outcome_model.calculate_outcomes(time_to_ivt, time_to_mt)"
   ]
  },
  {
   "cell_type": "markdown",
   "metadata": {},
   "source": [
    "## Show raw model output\n",
    "\n",
    "The model output is a dictionary of resuls."
   ]
  },
  {
   "cell_type": "code",
   "execution_count": 3,
   "metadata": {
    "collapsed": false,
    "jupyter": {
     "outputs_hidden": false
    },
    "pycharm": {
     "name": "#%%\n"
    }
   },
   "outputs": [
    {
     "data": {
      "text/plain": [
       "{'lvo_untreated_probs': array([0.046, 0.075, 0.138, 0.173, 0.24 , 0.14 , 0.188]),\n",
       " 'nlvo_untreated_probs': array([0.189, 0.294, 0.098, 0.133, 0.148, 0.055, 0.083]),\n",
       " 'lvo_ivt_probs': array([0.082, 0.092, 0.13 , 0.163, 0.224, 0.112, 0.197]),\n",
       " 'lvo_mt_probs': array([0.203, 0.129, 0.137, 0.179, 0.171, 0.082, 0.099]),\n",
       " 'nlvo_ivt_probs': array([0.387, 0.204, 0.118, 0.117, 0.086, 0.034, 0.054]),\n",
       " 'lvo_untreated_mean_utility': 0.10453650793650793,\n",
       " 'nlvo_untreated_mean_utility': 0.19265714285714286,\n",
       " 'lvo_ivt_mean_utility': 0.11741904761904763,\n",
       " 'lvo_mt_mean_utility': 0.1678984126984127,\n",
       " 'nlvo_ivt_mean_utility': 0.2277206349206349,\n",
       " 'lvo_ivt_added_utility': 0.012882539682539704,\n",
       " 'lvo_mt_added_utility': 0.06336190476190479,\n",
       " 'nlvo_ivt_added_utility': 0.03506349206349205,\n",
       " 'lvo_untreated_cum_probs': array([0.046, 0.121, 0.259, 0.432, 0.672, 0.812, 1.   ]),\n",
       " 'nlvo_untreated_cum_probs': array([0.189, 0.483, 0.581, 0.714, 0.862, 0.917, 1.   ]),\n",
       " 'lvo_ivt_cum_probs': array([0.082, 0.174, 0.304, 0.467, 0.691, 0.803, 1.   ]),\n",
       " 'lvo_mt_cum_probs': array([0.203, 0.332, 0.469, 0.648, 0.819, 0.901, 1.   ]),\n",
       " 'nlvo_ivt_cum_probs': array([0.387, 0.591, 0.709, 0.826, 0.912, 0.946, 1.   ]),\n",
       " 'lvo_ivt_shift': array([ 0.036,  0.017, -0.008, -0.01 , -0.016, -0.028,  0.009]),\n",
       " 'lvo_mt_shift': array([ 0.157,  0.054, -0.001,  0.006, -0.069, -0.058, -0.089]),\n",
       " 'nlvo_ivt_shift': array([ 0.198, -0.09 ,  0.02 , -0.016, -0.062, -0.021, -0.029]),\n",
       " 'lvo_untreated_mean_mRS': 3.658,\n",
       " 'nlvo_untreated_mean_mRS': 2.254,\n",
       " 'lvo_ivt_mean_mRS': 3.479,\n",
       " 'lvo_mt_mean_mRS': 2.628,\n",
       " 'nlvo_ivt_mean_mRS': 1.629,\n",
       " 'lvo_ivt_mean_shift': -0.179,\n",
       " 'lvo_mt_mean_shift': -1.017,\n",
       " 'nlvo_ivt_mean_shift': -0.625,\n",
       " 'lvo_ivt_improved': 0.188,\n",
       " 'lvo_mt_improved': 0.823,\n",
       " 'nlvo_ivt_improved': 0.615}"
      ]
     },
     "execution_count": 3,
     "metadata": {},
     "output_type": "execute_result"
    }
   ],
   "source": [
    "outcomes"
   ]
  },
  {
   "cell_type": "markdown",
   "metadata": {},
   "source": [
    "## Plot mRS distributions"
   ]
  },
  {
   "cell_type": "code",
   "execution_count": 4,
   "metadata": {
    "collapsed": false,
    "jupyter": {
     "outputs_hidden": false
    },
    "pycharm": {
     "name": "#%%\n"
    }
   },
   "outputs": [],
   "source": [
    "plt.style.use('seaborn-colorblind')\n",
    "def draw_horizontal_bar(dist,label=' '):\n",
    "    \"\"\"\n",
    "    Draw a stacked horizontal bar chart of the values in 'dist'.\n",
    "    \n",
    "    dist  - list or np.array. The probability distribution \n",
    "            (non-cumulative).\n",
    "    label - string. The name printed next to these stacked bars.\n",
    "    \"\"\"\n",
    "    fig = plt.figure(figsize=(8,2))\n",
    "    ax = fig.add_subplot()\n",
    "    ax.set_frame_on(False)\n",
    "    \n",
    "    colour_list = plt.rcParams['axes.prop_cycle'].by_key()['color']\n",
    "    # The first bar will start at this point on the x-axis:\n",
    "    left = 0\n",
    "    for i in range(len(dist)):\n",
    "        # Draw a bar starting from 'left', the end of the previous bar,\n",
    "        # with a width equal to the probability of this mRS:\n",
    "        ax.barh(' ', width=dist[i], left=left, height=0.5, \n",
    "                 label=f'{i}', edgecolor='k', color=colour_list[i%6])\n",
    "        # Update 'left' with the width of the current bar so that the \n",
    "        # next bar drawn will start in the correct place.    \n",
    "        left += dist[i]\n",
    "    ax.set_xlabel('Probability')\n",
    "    ax.set_title(label)\n",
    "    ax.legend(loc='center',ncol=7, title='mRS', \n",
    "               bbox_to_anchor=[0.5,0.0,0.0,-1.20])   # Legend below axis."
   ]
  },
  {
   "cell_type": "markdown",
   "metadata": {},
   "source": [
    "Plot mRS distribution for untreated LVO."
   ]
  },
  {
   "cell_type": "code",
   "execution_count": 5,
   "metadata": {
    "pycharm": {
     "name": "#%%\n"
    }
   },
   "outputs": [
    {
     "data": {
      "image/png": "[encoded data removed]",
      "text/plain": [
       "<Figure size 576x144 with 1 Axes>"
      ]
     },
     "metadata": {
      "needs_background": "light"
     },
     "output_type": "display_data"
    }
   ],
   "source": [
    "draw_horizontal_bar(outcomes['lvo_untreated_probs'], 'LVO untreated')"
   ]
  },
  {
   "cell_type": "markdown",
   "metadata": {},
   "source": [
    "Plot mRS distribution for LVO treated with IVT."
   ]
  },
  {
   "cell_type": "code",
   "execution_count": 6,
   "metadata": {
    "pycharm": {
     "name": "#%%\n"
    }
   },
   "outputs": [
    {
     "data": {
      "image/png": "[encoded data removed]",
      "text/plain": [
       "<Figure size 576x144 with 1 Axes>"
      ]
     },
     "metadata": {
      "needs_background": "light"
     },
     "output_type": "display_data"
    }
   ],
   "source": [
    "draw_horizontal_bar(outcomes['lvo_ivt_probs'], 'LVO IVT')"
   ]
  },
  {
   "cell_type": "markdown",
   "metadata": {},
   "source": [
    "Plot mRS distribution for LVO treated with MT."
   ]
  },
  {
   "cell_type": "code",
   "execution_count": 7,
   "metadata": {},
   "outputs": [
    {
     "data": {
      "image/png": "[encoded data removed]",
      "text/plain": [
       "<Figure size 576x144 with 1 Axes>"
      ]
     },
     "metadata": {
      "needs_background": "light"
     },
     "output_type": "display_data"
    }
   ],
   "source": [
    "draw_horizontal_bar(outcomes['lvo_mt_probs'], 'LVO MT')"
   ]
  },
  {
   "cell_type": "markdown",
   "metadata": {},
   "source": [
    "Plot mRS distribution for untreated LVO."
   ]
  },
  {
   "cell_type": "code",
   "execution_count": 8,
   "metadata": {},
   "outputs": [
    {
     "data": {
      "image/png": "[encoded data removed]",
      "text/plain": [
       "<Figure size 576x144 with 1 Axes>"
      ]
     },
     "metadata": {
      "needs_background": "light"
     },
     "output_type": "display_data"
    }
   ],
   "source": [
    "draw_horizontal_bar(outcomes['nlvo_untreated_probs'], 'nLVO untreated')"
   ]
  },
  {
   "cell_type": "markdown",
   "metadata": {},
   "source": [
    "Plot mRS distribution for nLVO treated with IVT."
   ]
  },
  {
   "cell_type": "code",
   "execution_count": 9,
   "metadata": {},
   "outputs": [
    {
     "data": {
      "image/png": "[encoded data removed]",
      "text/plain": [
       "<Figure size 576x144 with 1 Axes>"
      ]
     },
     "metadata": {
      "needs_background": "light"
     },
     "output_type": "display_data"
    }
   ],
   "source": [
    "draw_horizontal_bar(outcomes['nlvo_ivt_probs'], 'nLVO IVT')"
   ]
  },
  {
   "cell_type": "markdown",
   "metadata": {},
   "source": [
    "## Plot changes in mRS proportions with treatment"
   ]
  },
  {
   "cell_type": "code",
   "execution_count": 10,
   "metadata": {},
   "outputs": [],
   "source": [
    "def plot_shift(dist, label=' '):\n",
    "    x=np.arange(7)\n",
    "    fig = plt.figure(figsize=(6,5))\n",
    "    ax = fig.add_subplot()\n",
    "    ax.bar(x, dist)\n",
    "    ax.hlines(0, -0.5, 6.5, color='k', linewidth=1)\n",
    "    ax.set_xlabel('mRS')\n",
    "    ax.set_ylabel('Change in probability')\n",
    "    ax.set_title(label)\n",
    "    plt.show()"
   ]
  },
  {
   "cell_type": "code",
   "execution_count": 11,
   "metadata": {},
   "outputs": [
    {
     "data": {
      "image/png": "[encoded data removed]",
      "text/plain": [
       "<Figure size 432x360 with 1 Axes>"
      ]
     },
     "metadata": {
      "needs_background": "light"
     },
     "output_type": "display_data"
    }
   ],
   "source": [
    "plot_shift(outcomes['lvo_ivt_shift'], 'LVO-IVT shift')"
   ]
  },
  {
   "cell_type": "code",
   "execution_count": 12,
   "metadata": {},
   "outputs": [
    {
     "data": {
      "image/png": "[encoded data removed]",
      "text/plain": [
       "<Figure size 432x360 with 1 Axes>"
      ]
     },
     "metadata": {
      "needs_background": "light"
     },
     "output_type": "display_data"
    }
   ],
   "source": [
    "plot_shift(outcomes['lvo_mt_shift'], 'LVO-MT shift')"
   ]
  },
  {
   "cell_type": "code",
   "execution_count": 13,
   "metadata": {},
   "outputs": [
    {
     "data": {
      "image/png": "[encoded data removed]",
      "text/plain": [
       "<Figure size 432x360 with 1 Axes>"
      ]
     },
     "metadata": {
      "needs_background": "light"
     },
     "output_type": "display_data"
    }
   ],
   "source": [
    "plot_shift(outcomes['nlvo_ivt_shift'], 'nLVO-IVT shift')"
   ]
  },
  {
   "cell_type": "markdown",
   "metadata": {},
   "source": [
    "## Other stats\n",
    "\n",
    "### Mean mRS"
   ]
  },
  {
   "cell_type": "code",
   "execution_count": 14,
   "metadata": {},
   "outputs": [
    {
     "name": "stdout",
     "output_type": "stream",
     "text": [
      "Mean mRS\n",
      "--------\n",
      "LVO untreated: 3.658\n",
      "LVO IVT: 3.479\n",
      "LVO MT: 2.628\n",
      "nLVO untreated: 2.254\n",
      "nLVO IVT: 1.629\n"
     ]
    }
   ],
   "source": [
    "print('Mean mRS')\n",
    "print('--------')\n",
    "print('LVO untreated:', outcomes['lvo_untreated_mean_mRS'])\n",
    "print('LVO IVT:', outcomes['lvo_ivt_mean_mRS'])\n",
    "print('LVO MT:', outcomes['lvo_mt_mean_mRS'])\n",
    "print('nLVO untreated:', outcomes['nlvo_untreated_mean_mRS'])\n",
    "print('nLVO IVT:', outcomes['nlvo_ivt_mean_mRS'])"
   ]
  },
  {
   "cell_type": "markdown",
   "metadata": {},
   "source": [
    "### Mean shift in mRS"
   ]
  },
  {
   "cell_type": "code",
   "execution_count": 15,
   "metadata": {},
   "outputs": [
    {
     "name": "stdout",
     "output_type": "stream",
     "text": [
      "Mean mRS shift\n",
      "--------------\n",
      "LVO IVT: -0.179\n",
      "LVO MT: -1.017\n",
      "nLVO IVT: -0.625\n"
     ]
    }
   ],
   "source": [
    "print('Mean mRS shift')\n",
    "print('--------------')\n",
    "print('LVO IVT:', outcomes['lvo_ivt_mean_shift'])\n",
    "print('LVO MT:', outcomes['lvo_mt_mean_shift'])\n",
    "print('nLVO IVT:', outcomes['nlvo_ivt_mean_shift'])"
   ]
  },
  {
   "cell_type": "markdown",
   "metadata": {},
   "source": [
    "### The proportion of patients with improved mRS"
   ]
  },
  {
   "cell_type": "code",
   "execution_count": 16,
   "metadata": {},
   "outputs": [
    {
     "name": "stdout",
     "output_type": "stream",
     "text": [
      "Proportion improved\n",
      "-------------------\n",
      "LVO IVT: 0.188\n",
      "LVO MT: 0.823\n",
      "nLVO IVT: 0.615\n"
     ]
    }
   ],
   "source": [
    "print('Proportion improved')\n",
    "print('-------------------')\n",
    "print('LVO IVT:', outcomes['lvo_ivt_improved'])\n",
    "print('LVO MT:', outcomes['lvo_mt_improved'])\n",
    "print('nLVO IVT:', outcomes['nlvo_ivt_improved'])"
   ]
  },
  {
   "cell_type": "markdown",
   "metadata": {},
   "source": [
    "### Utility-weighted outcomes\n",
    "\n",
    "In addition to mRS we may calculate utility-weighted mRS.\n",
    "\n",
    "mRS Utility scores are based on a pooled Analysis of 20 000+ Patients. \n",
    "From  Wang X, Moullaali TJ, Li Q, Berge E, Robinson TG, Lindley R, et al.\n",
    "Utility-Weighted Modified Rankin Scale Scores for the Assessment of Stroke\n",
    "Outcome. Stroke. 2020 Aug 1;51(8):2411-7.\n",
    "\n",
    "| mRS Score | 0    | 1    | 2    | 3    | 4    | 5     | 6    |\n",
    "|-----------|------|------|------|------|------|-------|------|\n",
    "| Utility   | 0.97 | 0.88 | 0.74 | 0.55 | 0.20 | -0.19 | 0.00 |"
   ]
  },
  {
   "cell_type": "code",
   "execution_count": 17,
   "metadata": {},
   "outputs": [
    {
     "name": "stdout",
     "output_type": "stream",
     "text": [
      "LVO untreated utility: 0.105\n",
      "LVO IVT utility: 0.117 (added utility: 0.013)\n",
      "LVO MT utility: 0.168 (added utility: 0.063)\n",
      "nLVO untreated utility: 0.193\n",
      "nLVO IVT utility: 0.228 (added utility: 0.035)\n"
     ]
    }
   ],
   "source": [
    "x = outcomes['lvo_untreated_mean_utility']\n",
    "print(f'LVO untreated utility: {x:0.3f}')\n",
    "\n",
    "x1 = outcomes['lvo_ivt_mean_utility']\n",
    "x2 = outcomes['lvo_ivt_added_utility']\n",
    "print(f'LVO IVT utility: {x1:0.3f} (added utility: {x2:0.3f})')\n",
    "\n",
    "x1 = outcomes['lvo_mt_mean_utility']\n",
    "x2 = outcomes['lvo_mt_added_utility']\n",
    "print(f'LVO MT utility: {x1:0.3f} (added utility: {x2:0.3f})')\n",
    "\n",
    "x = outcomes['nlvo_untreated_mean_utility']\n",
    "print(f'nLVO untreated utility: {x:0.3f}')\n",
    "\n",
    "x1 = outcomes['nlvo_ivt_mean_utility']\n",
    "x2 = outcomes['nlvo_ivt_added_utility']\n",
    "print(f'nLVO IVT utility: {x1:0.3f} (added utility: {x2:0.3f})')\n",
    "\n"
   ]
  }
 ],
 "metadata": {
  "kernelspec": {
   "display_name": "Python 3 (ipykernel)",
   "language": "python",
   "name": "python3"
  },
  "language_info": {
   "codemirror_mode": {
    "name": "ipython",
    "version": 3
   },
   "file_extension": ".py",
   "mimetype": "text/x-python",
   "name": "python",
   "nbconvert_exporter": "python",
   "pygments_lexer": "ipython3",
   "version": "3.8.13"
  },
  "vscode": {
   "interpreter": {
    "hash": "1cbbc16b0c861749b9a95c5f128e49297cfff30c52b65168a4b24d814ebeea2e"
   }
  }
 },
 "nbformat": 4,
 "nbformat_minor": 4
}
