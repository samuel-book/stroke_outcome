{
 "cells": [
  {
   "cell_type": "markdown",
   "id": "8ce4411b-bc71-41e3-9f97-80d4eef35eea",
   "metadata": {},
   "source": [
    "# Combine populations for weighted outcomes\n",
    "\n",
    "Use the patient population to combine the outcomes from the separate cohorts. This notebook combines the added utility, shift in mean mRS, and proportion with mRS<=2. The following notebook combines the mRS distributions.\n",
    "\n",
    "\n",
    "## Plain English summary\n",
    "\n",
    "In the previous notebook we calculated outcomes for patients across all of England and Wales. This assumed fixed times to treatment except for travel times to the stroke units. We calculated one set of times for the drip-and-ship scenario, where patients first go to their nearest stroke unit and are later transferred to the MT unit if they need thrombectomy, and a second set of times for the mothership scenario, where every patient goes directly to the MT unit.\n",
    "\n",
    "The existing data has separate entries for each cohort of patients:\n",
    "+ patients with an nLVO treated with IVT\n",
    "+ patients with a LVO treated with IVT only\n",
    "+ patients with a LVO treated with MT only\n",
    "+ patients with a LVO treated with both IVT and MT\n",
    "\n",
    "In this notebook we will combine the data of multiple groups of patients.\n",
    "\n",
    "\n",
    "## Aims\n",
    "\n",
    "To find the averaged outcome data for added utility, shift in mean mRS, and proportion with an mRS score of 2 or less for the following groups:\n",
    "+ patients with a LVO and a mix of the available treatment types\n",
    "+ patients with an nLVO and patients with a LVO and a mix of the available treatment types\n",
    "\n",
    "\n",
    "## Method\n",
    "\n",
    "Use the example patient proportions to calculate a weighted sum of the separate cohorts.\n",
    "\n",
    "\n",
    "## Notebook setup"
   ]
  },
  {
   "cell_type": "code",
   "execution_count": 1,
   "id": "a1b924f0-a2b6-4e8d-b012-2169bae7aec7",
   "metadata": {},
   "outputs": [],
   "source": [
    "import pandas as pd\n",
    "import numpy as np\n",
    "import os\n",
    "\n",
    "import stroke_outcome.outcome_utilities"
   ]
  },
  {
   "cell_type": "code",
   "execution_count": 2,
   "id": "696b59d1-9a12-4d63-931f-debc368d9fe8",
   "metadata": {},
   "outputs": [],
   "source": [
    "dir_output = 'output'"
   ]
  },
  {
   "cell_type": "markdown",
   "id": "83cc11a9-05f1-4cbe-a4a2-72cf7b225cc9",
   "metadata": {},
   "source": [
    "## Import data\n",
    "\n",
    "Patient proportions:"
   ]
  },
  {
   "cell_type": "code",
   "execution_count": 3,
   "id": "14c3a85e-ee9c-4ef0-8f1b-cfbe3ed33d97",
   "metadata": {},
   "outputs": [],
   "source": [
    "proportions = pd.read_csv(\n",
    "    os.path.join(dir_output, 'patient_proportions.csv'),\n",
    "    index_col=0, header=None).squeeze()"
   ]
  },
  {
   "cell_type": "code",
   "execution_count": 4,
   "id": "ccd23181-0891-440e-b5f9-7644bc2ab93b",
   "metadata": {},
   "outputs": [
    {
     "data": {
      "text/plain": [
       "0\n",
       "haemorrhagic         0.13600\n",
       "lvo_no_treatment     0.14648\n",
       "lvo_ivt_only         0.00840\n",
       "lvo_ivt_mt           0.08500\n",
       "lvo_mt_only          0.01500\n",
       "nlvo_no_treatment    0.50252\n",
       "nlvo_ivt             0.10660\n",
       "Name: 1, dtype: float64"
      ]
     },
     "execution_count": 4,
     "metadata": {},
     "output_type": "execute_result"
    }
   ],
   "source": [
    "proportions"
   ]
  },
  {
   "cell_type": "markdown",
   "id": "e223eaf2-9c9c-42fa-8198-5d742a1cb0a3",
   "metadata": {},
   "source": [
    "Calculate some additional proportions:"
   ]
  },
  {
   "cell_type": "code",
   "execution_count": 5,
   "id": "915d7fcc-b353-4253-95dd-1631fa4ac361",
   "metadata": {},
   "outputs": [
    {
     "name": "stdout",
     "output_type": "stream",
     "text": [
      "lvo_ivt_only\n",
      "lvo_ivt_mt\n",
      "lvo_mt_only\n"
     ]
    },
    {
     "data": {
      "text/plain": [
       "0.10840000000000001"
      ]
     },
     "execution_count": 5,
     "metadata": {},
     "output_type": "execute_result"
    }
   ],
   "source": [
    "# Proportion of treated LVO patients:\n",
    "prop_lvo_treated = 0.0\n",
    "\n",
    "for key, value in proportions.items():\n",
    "    if (('lvo' in key) & ('nlvo' not in key) & ('no_treat' not in key)):\n",
    "        print(key)\n",
    "        prop_lvo_treated += value\n",
    "\n",
    "prop_lvo_treated"
   ]
  },
  {
   "cell_type": "code",
   "execution_count": 6,
   "id": "74ec04e6-25bd-4113-84cf-a096a1ba3bf3",
   "metadata": {},
   "outputs": [
    {
     "name": "stdout",
     "output_type": "stream",
     "text": [
      "lvo_ivt_only\n",
      "lvo_ivt_mt\n",
      "lvo_mt_only\n",
      "nlvo_ivt\n"
     ]
    },
    {
     "data": {
      "text/plain": [
       "0.21500000000000002"
      ]
     },
     "execution_count": 6,
     "metadata": {},
     "output_type": "execute_result"
    }
   ],
   "source": [
    "# Proportion of treated ischaemic patients:\n",
    "prop_ischaemic_treated = 0.0\n",
    "\n",
    "for key, value in proportions.items():\n",
    "    if (('lvo' in key) & ('no_treat' not in key)):\n",
    "        print(key)\n",
    "        prop_ischaemic_treated += value\n",
    "\n",
    "prop_ischaemic_treated"
   ]
  },
  {
   "cell_type": "code",
   "execution_count": 7,
   "id": "9fc76da2-5978-4bed-bd1f-00699aa08fe9",
   "metadata": {},
   "outputs": [
    {
     "data": {
      "text/plain": [
       "0.864"
      ]
     },
     "execution_count": 7,
     "metadata": {},
     "output_type": "execute_result"
    }
   ],
   "source": [
    "# Proportion of ischaemic patients:\n",
    "prop_ischaemic = 1.0 - proportions['haemorrhagic']\n",
    "\n",
    "prop_ischaemic"
   ]
  },
  {
   "cell_type": "markdown",
   "id": "62f0649f-f026-41e2-bd3a-1f89967b5bb5",
   "metadata": {},
   "source": [
    "Outcomes:"
   ]
  },
  {
   "cell_type": "code",
   "execution_count": 8,
   "id": "40024c25-54d7-4e52-8e3b-c596cf099fc3",
   "metadata": {},
   "outputs": [],
   "source": [
    "df_results = pd.read_csv(os.path.join(dir_output, 'cohort_outcomes.csv'), index_col=0)"
   ]
  },
  {
   "cell_type": "code",
   "execution_count": 9,
   "id": "0b618867-1b2d-4bd6-8c68-7f7235de9ef2",
   "metadata": {},
   "outputs": [
    {
     "name": "stdout",
     "output_type": "stream",
     "text": [
      "<class 'pandas.core.frame.DataFrame'>\n",
      "Index: 34752 entries, Adur 001A to York 024F\n",
      "Data columns (total 51 columns):\n",
      " #   Column                                        Non-Null Count  Dtype  \n",
      "---  ------                                        --------------  -----  \n",
      " 0   closest_ivt_time                              34752 non-null  float64\n",
      " 1   closest_ivt_unit                              34752 non-null  object \n",
      " 2   closest_mt_time                               34752 non-null  float64\n",
      " 3   closest_mt_unit                               34752 non-null  object \n",
      " 4   transfer_mt_time                              34752 non-null  float64\n",
      " 5   transfer_mt_unit                              34752 non-null  object \n",
      " 6   mt_transfer_required                          34752 non-null  bool   \n",
      " 7   ivt_drip_ship                                 34752 non-null  float64\n",
      " 8   mt_drip_ship                                  34752 non-null  float64\n",
      " 9   ivt_mothership                                34752 non-null  float64\n",
      " 10  mt_mothership                                 34752 non-null  float64\n",
      " 11  drip_ship_nlvo_ivt_added_utility              34752 non-null  float64\n",
      " 12  drip_ship_nlvo_ivt_mean_mrs                   34752 non-null  float64\n",
      " 13  drip_ship_nlvo_ivt_mrs_less_equal_2           34752 non-null  float64\n",
      " 14  drip_ship_nlvo_ivt_mrs_shift                  34752 non-null  float64\n",
      " 15  drip_ship_nlvo_ivt_added_mrs_less_equal_2     34752 non-null  float64\n",
      " 16  drip_ship_lvo_ivt_added_utility               34752 non-null  float64\n",
      " 17  drip_ship_lvo_ivt_mean_mrs                    34752 non-null  float64\n",
      " 18  drip_ship_lvo_ivt_mrs_less_equal_2            34752 non-null  float64\n",
      " 19  drip_ship_lvo_ivt_mrs_shift                   34752 non-null  float64\n",
      " 20  drip_ship_lvo_ivt_added_mrs_less_equal_2      34752 non-null  float64\n",
      " 21  drip_ship_lvo_ivt_mt_added_utility            34752 non-null  float64\n",
      " 22  drip_ship_lvo_ivt_mt_mean_mrs                 34752 non-null  float64\n",
      " 23  drip_ship_lvo_ivt_mt_mrs_less_equal_2         34752 non-null  float64\n",
      " 24  drip_ship_lvo_ivt_mt_mrs_shift                34752 non-null  float64\n",
      " 25  drip_ship_lvo_ivt_mt_added_mrs_less_equal_2   34752 non-null  float64\n",
      " 26  drip_ship_lvo_mt_added_utility                34752 non-null  float64\n",
      " 27  drip_ship_lvo_mt_mean_mrs                     34752 non-null  float64\n",
      " 28  drip_ship_lvo_mt_mrs_less_equal_2             34752 non-null  float64\n",
      " 29  drip_ship_lvo_mt_mrs_shift                    34752 non-null  float64\n",
      " 30  drip_ship_lvo_mt_added_mrs_less_equal_2       34752 non-null  float64\n",
      " 31  mothership_nlvo_ivt_added_utility             34752 non-null  float64\n",
      " 32  mothership_nlvo_ivt_mean_mrs                  34752 non-null  float64\n",
      " 33  mothership_nlvo_ivt_mrs_less_equal_2          34752 non-null  float64\n",
      " 34  mothership_nlvo_ivt_mrs_shift                 34752 non-null  float64\n",
      " 35  mothership_nlvo_ivt_added_mrs_less_equal_2    34752 non-null  float64\n",
      " 36  mothership_lvo_ivt_added_utility              34752 non-null  float64\n",
      " 37  mothership_lvo_ivt_mean_mrs                   34752 non-null  float64\n",
      " 38  mothership_lvo_ivt_mrs_less_equal_2           34752 non-null  float64\n",
      " 39  mothership_lvo_ivt_mrs_shift                  34752 non-null  float64\n",
      " 40  mothership_lvo_ivt_added_mrs_less_equal_2     34752 non-null  float64\n",
      " 41  mothership_lvo_ivt_mt_added_utility           34752 non-null  float64\n",
      " 42  mothership_lvo_ivt_mt_mean_mrs                34752 non-null  float64\n",
      " 43  mothership_lvo_ivt_mt_mrs_less_equal_2        34752 non-null  float64\n",
      " 44  mothership_lvo_ivt_mt_mrs_shift               34752 non-null  float64\n",
      " 45  mothership_lvo_ivt_mt_added_mrs_less_equal_2  34752 non-null  float64\n",
      " 46  mothership_lvo_mt_added_utility               34752 non-null  float64\n",
      " 47  mothership_lvo_mt_mean_mrs                    34752 non-null  float64\n",
      " 48  mothership_lvo_mt_mrs_less_equal_2            34752 non-null  float64\n",
      " 49  mothership_lvo_mt_mrs_shift                   34752 non-null  float64\n",
      " 50  mothership_lvo_mt_added_mrs_less_equal_2      34752 non-null  float64\n",
      "dtypes: bool(1), float64(47), object(3)\n",
      "memory usage: 13.6+ MB\n"
     ]
    }
   ],
   "source": [
    "df_results.info()"
   ]
  },
  {
   "attachments": {},
   "cell_type": "markdown",
   "id": "5dc22304-7974-4818-b5f7-629c0b84dd93",
   "metadata": {},
   "source": [
    "## Mean outcomes\n",
    "\n",
    "### Combine LVO results\n",
    "\n",
    "Combine the separate IVT, MT, and IVT and MT cohorts for LVO into one \"LVO\" group."
   ]
  },
  {
   "cell_type": "code",
   "execution_count": 10,
   "id": "dcf6ea4d-4fbd-48f4-8024-cb10b7a32df0",
   "metadata": {},
   "outputs": [],
   "source": [
    "for model_name in ['drip_ship', 'mothership']:\n",
    "    for outcome_name in ['added_utility', 'mrs_less_equal_2', 'mrs_shift', 'added_mrs_less_equal_2']:\n",
    "        # New column for results:\n",
    "        col = f'{model_name}_lvo_mix_{outcome_name}'\n",
    "        \n",
    "        # Combine results:\n",
    "        df_results[col] = (\n",
    "            (df_results[f'{model_name}_lvo_ivt_{outcome_name}'] * proportions['lvo_ivt_only']) +\n",
    "            (df_results[f'{model_name}_lvo_mt_{outcome_name}'] * proportions['lvo_mt_only']) +\n",
    "            (df_results[f'{model_name}_lvo_ivt_mt_{outcome_name}'] * proportions['lvo_ivt_mt'])\n",
    "        )\n",
    "\n",
    "        # Divide by proportion of LVO patients:\n",
    "        df_results[col] = df_results[col] / prop_lvo_treated\n",
    "        \n",
    "        # Round the results:\n",
    "        df_results[col] = np.round(df_results[col], 5)"
   ]
  },
  {
   "attachments": {},
   "cell_type": "markdown",
   "id": "5022d417-9be8-412a-aaf9-130be434638a",
   "metadata": {},
   "source": [
    "### Calculate treatment rates based on expected proportions of LVO/nLVO\n",
    "\n",
    "Add weighted benefit based on proportions of treated LVO and nLVO: Add weighted utility, mrs<=2, and mean_shift based on stroke type and treatment rates.\n",
    "\n",
    "The expected shift from the no-treatment outcomes is zero for the following groups:\n",
    "+ Haemorrhagic\n",
    "+ LVO no treatment\n",
    "+ nLVO no treatment\n",
    "\n",
    "so we can skip adding them in the following equation."
   ]
  },
  {
   "cell_type": "code",
   "execution_count": 11,
   "id": "b0d66d4d-23a8-4753-ae2c-b3eaf724f2f1",
   "metadata": {},
   "outputs": [],
   "source": [
    "for model_name in ['drip_ship', 'mothership']:\n",
    "    for outcome_name in ['added_utility', 'mrs_less_equal_2', 'mrs_shift', 'added_mrs_less_equal_2']:\n",
    "        col = f'{model_name}_weighted_{outcome_name}'\n",
    "        df_results[col] = (\n",
    "            (df_results[f'{model_name}_nlvo_ivt_{outcome_name}'] * proportions['nlvo_ivt']) +\n",
    "            (df_results[f'{model_name}_lvo_ivt_{outcome_name}'] * proportions['lvo_ivt_only']) +\n",
    "            (df_results[f'{model_name}_lvo_mt_{outcome_name}'] * proportions['lvo_mt_only']) +\n",
    "            (df_results[f'{model_name}_lvo_ivt_mt_{outcome_name}'] * proportions['lvo_ivt_mt'])\n",
    "        )\n",
    "        # Remove proportion of non-ischaemic patients:\n",
    "        df_results[col] = df_results[col] / prop_ischaemic\n",
    "\n",
    "        # Round the results:\n",
    "        df_results[col] = np.round(df_results[col], 5)"
   ]
  },
  {
   "cell_type": "code",
   "execution_count": 12,
   "id": "f7390846-a86b-47a8-89c2-805d0bfb519f",
   "metadata": {},
   "outputs": [],
   "source": [
    "for model_name in ['drip_ship', 'mothership']:\n",
    "    for outcome_name in ['added_utility', 'mrs_less_equal_2', 'mrs_shift', 'added_mrs_less_equal_2']:\n",
    "        col = f'{model_name}_weighted_treated_{outcome_name}'\n",
    "        df_results[col] = (\n",
    "            (df_results[f'{model_name}_nlvo_ivt_{outcome_name}'] * proportions['nlvo_ivt']) +\n",
    "            (df_results[f'{model_name}_lvo_ivt_{outcome_name}'] * proportions['lvo_ivt_only']) +\n",
    "            (df_results[f'{model_name}_lvo_mt_{outcome_name}'] * proportions['lvo_mt_only']) +\n",
    "            (df_results[f'{model_name}_lvo_ivt_mt_{outcome_name}'] * proportions['lvo_ivt_mt'])\n",
    "        )\n",
    "        # Remove proportion of non-ischaemic patients:\n",
    "        df_results[col] = df_results[col] / prop_ischaemic_treated\n",
    "\n",
    "        # Round the results:\n",
    "        df_results[col] = np.round(df_results[col], 5)"
   ]
  },
  {
   "cell_type": "code",
   "execution_count": 13,
   "id": "fbda5f4c-42c3-47ab-987b-371583f2bdc7",
   "metadata": {},
   "outputs": [
    {
     "data": {
      "text/html": [
       "<div>\n",
       "<style scoped>\n",
       "    .dataframe tbody tr th:only-of-type {\n",
       "        vertical-align: middle;\n",
       "    }\n",
       "\n",
       "    .dataframe tbody tr th {\n",
       "        vertical-align: top;\n",
       "    }\n",
       "\n",
       "    .dataframe thead th {\n",
       "        text-align: right;\n",
       "    }\n",
       "</style>\n",
       "<table border=\"1\" class=\"dataframe\">\n",
       "  <thead>\n",
       "    <tr style=\"text-align: right;\">\n",
       "      <th>LSOA</th>\n",
       "      <th>Adur 001A</th>\n",
       "      <th>Adur 001B</th>\n",
       "      <th>Adur 001C</th>\n",
       "      <th>Adur 001D</th>\n",
       "      <th>Adur 001E</th>\n",
       "    </tr>\n",
       "  </thead>\n",
       "  <tbody>\n",
       "    <tr>\n",
       "      <th>closest_ivt_time</th>\n",
       "      <td>17.6</td>\n",
       "      <td>18.7</td>\n",
       "      <td>17.6</td>\n",
       "      <td>17.6</td>\n",
       "      <td>16.5</td>\n",
       "    </tr>\n",
       "    <tr>\n",
       "      <th>closest_ivt_unit</th>\n",
       "      <td>BN25BE</td>\n",
       "      <td>BN25BE</td>\n",
       "      <td>BN112DH</td>\n",
       "      <td>BN112DH</td>\n",
       "      <td>BN112DH</td>\n",
       "    </tr>\n",
       "    <tr>\n",
       "      <th>closest_mt_time</th>\n",
       "      <td>17.6</td>\n",
       "      <td>18.7</td>\n",
       "      <td>19.8</td>\n",
       "      <td>19.8</td>\n",
       "      <td>19.8</td>\n",
       "    </tr>\n",
       "    <tr>\n",
       "      <th>closest_mt_unit</th>\n",
       "      <td>BN25BE</td>\n",
       "      <td>BN25BE</td>\n",
       "      <td>BN25BE</td>\n",
       "      <td>BN25BE</td>\n",
       "      <td>BN25BE</td>\n",
       "    </tr>\n",
       "    <tr>\n",
       "      <th>transfer_mt_time</th>\n",
       "      <td>0.0</td>\n",
       "      <td>0.0</td>\n",
       "      <td>31.6</td>\n",
       "      <td>31.6</td>\n",
       "      <td>31.6</td>\n",
       "    </tr>\n",
       "    <tr>\n",
       "      <th>...</th>\n",
       "      <td>...</td>\n",
       "      <td>...</td>\n",
       "      <td>...</td>\n",
       "      <td>...</td>\n",
       "      <td>...</td>\n",
       "    </tr>\n",
       "    <tr>\n",
       "      <th>drip_ship_weighted_treated_added_mrs_less_equal_2</th>\n",
       "      <td>0.14571</td>\n",
       "      <td>0.14512</td>\n",
       "      <td>0.11861</td>\n",
       "      <td>0.11861</td>\n",
       "      <td>0.11918</td>\n",
       "    </tr>\n",
       "    <tr>\n",
       "      <th>mothership_weighted_treated_added_utility</th>\n",
       "      <td>0.13633</td>\n",
       "      <td>0.13579</td>\n",
       "      <td>0.13525</td>\n",
       "      <td>0.13525</td>\n",
       "      <td>0.13525</td>\n",
       "    </tr>\n",
       "    <tr>\n",
       "      <th>mothership_weighted_treated_mrs_less_equal_2</th>\n",
       "      <td>0.56689</td>\n",
       "      <td>0.5663</td>\n",
       "      <td>0.56571</td>\n",
       "      <td>0.56571</td>\n",
       "      <td>0.56571</td>\n",
       "    </tr>\n",
       "    <tr>\n",
       "      <th>mothership_weighted_treated_mrs_shift</th>\n",
       "      <td>-0.71592</td>\n",
       "      <td>-0.7129</td>\n",
       "      <td>-0.70988</td>\n",
       "      <td>-0.70988</td>\n",
       "      <td>-0.70988</td>\n",
       "    </tr>\n",
       "    <tr>\n",
       "      <th>mothership_weighted_treated_added_mrs_less_equal_2</th>\n",
       "      <td>0.14571</td>\n",
       "      <td>0.14512</td>\n",
       "      <td>0.14453</td>\n",
       "      <td>0.14453</td>\n",
       "      <td>0.14453</td>\n",
       "    </tr>\n",
       "  </tbody>\n",
       "</table>\n",
       "<p>75 rows × 5 columns</p>\n",
       "</div>"
      ],
      "text/plain": [
       "LSOA                                               Adur 001A Adur 001B  \\\n",
       "closest_ivt_time                                        17.6      18.7   \n",
       "closest_ivt_unit                                      BN25BE    BN25BE   \n",
       "closest_mt_time                                         17.6      18.7   \n",
       "closest_mt_unit                                       BN25BE    BN25BE   \n",
       "transfer_mt_time                                         0.0       0.0   \n",
       "...                                                      ...       ...   \n",
       "drip_ship_weighted_treated_added_mrs_less_equal_2    0.14571   0.14512   \n",
       "mothership_weighted_treated_added_utility            0.13633   0.13579   \n",
       "mothership_weighted_treated_mrs_less_equal_2         0.56689    0.5663   \n",
       "mothership_weighted_treated_mrs_shift               -0.71592   -0.7129   \n",
       "mothership_weighted_treated_added_mrs_less_equal_2   0.14571   0.14512   \n",
       "\n",
       "LSOA                                               Adur 001C Adur 001D  \\\n",
       "closest_ivt_time                                        17.6      17.6   \n",
       "closest_ivt_unit                                     BN112DH   BN112DH   \n",
       "closest_mt_time                                         19.8      19.8   \n",
       "closest_mt_unit                                       BN25BE    BN25BE   \n",
       "transfer_mt_time                                        31.6      31.6   \n",
       "...                                                      ...       ...   \n",
       "drip_ship_weighted_treated_added_mrs_less_equal_2    0.11861   0.11861   \n",
       "mothership_weighted_treated_added_utility            0.13525   0.13525   \n",
       "mothership_weighted_treated_mrs_less_equal_2         0.56571   0.56571   \n",
       "mothership_weighted_treated_mrs_shift               -0.70988  -0.70988   \n",
       "mothership_weighted_treated_added_mrs_less_equal_2   0.14453   0.14453   \n",
       "\n",
       "LSOA                                               Adur 001E  \n",
       "closest_ivt_time                                        16.5  \n",
       "closest_ivt_unit                                     BN112DH  \n",
       "closest_mt_time                                         19.8  \n",
       "closest_mt_unit                                       BN25BE  \n",
       "transfer_mt_time                                        31.6  \n",
       "...                                                      ...  \n",
       "drip_ship_weighted_treated_added_mrs_less_equal_2    0.11918  \n",
       "mothership_weighted_treated_added_utility            0.13525  \n",
       "mothership_weighted_treated_mrs_less_equal_2         0.56571  \n",
       "mothership_weighted_treated_mrs_shift               -0.70988  \n",
       "mothership_weighted_treated_added_mrs_less_equal_2   0.14453  \n",
       "\n",
       "[75 rows x 5 columns]"
      ]
     },
     "execution_count": 13,
     "metadata": {},
     "output_type": "execute_result"
    }
   ],
   "source": [
    "# Show results\n",
    "df_results.head().T"
   ]
  },
  {
   "cell_type": "markdown",
   "id": "7279e958-9b2f-458a-a5ab-b9147cec42e1",
   "metadata": {},
   "source": [
    "Save to file:"
   ]
  },
  {
   "cell_type": "code",
   "execution_count": 14,
   "id": "8baddb96-d2df-418f-834e-1fecc56cbf13",
   "metadata": {},
   "outputs": [],
   "source": [
    "# Save\n",
    "df_results.to_csv(os.path.join(dir_output, 'cohort_outcomes_weighted.csv'), index_label='lsoa')"
   ]
  },
  {
   "cell_type": "code",
   "execution_count": 15,
   "id": "f1f6435b-d14b-42f6-afcf-0b11c997ad8e",
   "metadata": {},
   "outputs": [
    {
     "name": "stderr",
     "output_type": "stream",
     "text": [
      "/tmp/ipykernel_49202/164885061.py:1: FutureWarning: The default value of numeric_only in DataFrame.mean is deprecated. In a future version, it will default to False. In addition, specifying 'numeric_only=None' is deprecated. Select only valid columns or specify the value of numeric_only to silence this warning.\n",
      "  summary = df_results.mean(axis=0).T\n"
     ]
    },
    {
     "data": {
      "text/plain": [
       "closest_ivt_time                                       19.548181\n",
       "closest_mt_time                                        34.939310\n",
       "transfer_mt_time                                       27.509447\n",
       "mt_transfer_required                                    0.675098\n",
       "ivt_drip_ship                                         109.548181\n",
       "                                                         ...    \n",
       "drip_ship_weighted_treated_added_mrs_less_equal_2       0.124662\n",
       "mothership_weighted_treated_added_utility               0.127779\n",
       "mothership_weighted_treated_mrs_less_equal_2            0.557609\n",
       "mothership_weighted_treated_mrs_shift                  -0.668417\n",
       "mothership_weighted_treated_added_mrs_less_equal_2      0.136428\n",
       "Length: 72, dtype: float64"
      ]
     },
     "execution_count": 15,
     "metadata": {},
     "output_type": "execute_result"
    }
   ],
   "source": [
    "summary = df_results.mean(axis=0).T\n",
    "summary.to_csv(os.path.join(dir_output, 'cohort_outcomes_weighted_summary.csv'), index_label='lsoa')\n",
    "summary"
   ]
  },
  {
   "cell_type": "markdown",
   "id": "cd221ed2-64e5-401c-a934-494abcca0c37",
   "metadata": {},
   "source": [
    "### Save separate added utility for sharing\n",
    "\n",
    "These saved files are pretty big (several 10s of megabytes). The stroke outcome paper shows only the added utility, so create a separate file that contains only the added utility information in the maps to save file space.\n",
    "\n",
    "Keep the following columns, which are anything to do with treatment or travel times or added utility:"
   ]
  },
  {
   "cell_type": "code",
   "execution_count": 16,
   "id": "62eb051e-3d94-403b-b341-bd8d3b001e2a",
   "metadata": {},
   "outputs": [],
   "source": [
    "cols_to_keep = [\n",
    "    'closest_ivt_time', 'closest_ivt_unit',\n",
    "    'closest_mt_time', 'closest_mt_unit',\n",
    "    'transfer_mt_time', 'transfer_mt_unit', 'mt_transfer_required',\n",
    "    'ivt_drip_ship', 'mt_drip_ship',\n",
    "    'ivt_mothership', 'mt_mothership'\n",
    "]\n",
    "\n",
    "cols_to_keep += [c for c in df_results.columns if 'added_utility' in c]\n",
    "\n",
    "df_added_utility = df_results[cols_to_keep].copy()"
   ]
  },
  {
   "cell_type": "markdown",
   "id": "30b28a77-55be-4c9e-b90f-7a9cad3a5f48",
   "metadata": {},
   "source": [
    "Save this data to file:"
   ]
  },
  {
   "cell_type": "code",
   "execution_count": 17,
   "id": "c9f958de-d058-44f2-af05-4fc63ea4c87c",
   "metadata": {},
   "outputs": [],
   "source": [
    "df_added_utility.to_csv(os.path.join(dir_output, 'fig_data_englandwales_maps_added_utility.csv'))"
   ]
  },
  {
   "cell_type": "markdown",
   "id": "560a29ed-9b2a-4478-b365-3e929c450eaa",
   "metadata": {},
   "source": [
    "This file does not include the \"Advantage of mothership\" data because it takes up more file space and is simple enough to calculate later.\n",
    "\n",
    "To find this information, take the difference between matching data in the mothership and the drip and ship columns:"
   ]
  },
  {
   "cell_type": "code",
   "execution_count": 18,
   "id": "40b0aacf-f31d-490a-984b-db06ab94bb80",
   "metadata": {},
   "outputs": [],
   "source": [
    "outcome_names = ['added_utility']\n",
    "cohort_names = ['nlvo_ivt', 'lvo_ivt', 'lvo_mt', 'lvo_mix', 'weighted', 'weighted_treated']\n",
    "\n",
    "cols_diff = [f'mothership_minus_dripship_{c}_{o}' for c in cohort_names for o in outcome_names]\n",
    "cols_moth = [f'mothership_{c}_{o}' for c in cohort_names for o in outcome_names]\n",
    "cols_drip = [f'drip_ship_{c}_{o}' for c in cohort_names for o in outcome_names]\n",
    "\n",
    "df_added_utility[cols_diff] = df_added_utility[cols_moth].values - df_added_utility[cols_drip].values\n",
    "\n",
    "# Round the values again in case of floating point error:\n",
    "df_added_utility[cols_diff] = np.round(df_added_utility[cols_diff], 5)"
   ]
  },
  {
   "cell_type": "code",
   "execution_count": 19,
   "id": "86075599-0597-440b-9ae0-8fbe376fb59d",
   "metadata": {},
   "outputs": [
    {
     "name": "stdout",
     "output_type": "stream",
     "text": [
      "<class 'pandas.core.frame.DataFrame'>\n",
      "Index: 34752 entries, Adur 001A to York 024F\n",
      "Data columns (total 31 columns):\n",
      " #   Column                                                    Non-Null Count  Dtype  \n",
      "---  ------                                                    --------------  -----  \n",
      " 0   closest_ivt_time                                          34752 non-null  float64\n",
      " 1   closest_ivt_unit                                          34752 non-null  object \n",
      " 2   closest_mt_time                                           34752 non-null  float64\n",
      " 3   closest_mt_unit                                           34752 non-null  object \n",
      " 4   transfer_mt_time                                          34752 non-null  float64\n",
      " 5   transfer_mt_unit                                          34752 non-null  object \n",
      " 6   mt_transfer_required                                      34752 non-null  bool   \n",
      " 7   ivt_drip_ship                                             34752 non-null  float64\n",
      " 8   mt_drip_ship                                              34752 non-null  float64\n",
      " 9   ivt_mothership                                            34752 non-null  float64\n",
      " 10  mt_mothership                                             34752 non-null  float64\n",
      " 11  drip_ship_nlvo_ivt_added_utility                          34752 non-null  float64\n",
      " 12  drip_ship_lvo_ivt_added_utility                           34752 non-null  float64\n",
      " 13  drip_ship_lvo_ivt_mt_added_utility                        34752 non-null  float64\n",
      " 14  drip_ship_lvo_mt_added_utility                            34752 non-null  float64\n",
      " 15  mothership_nlvo_ivt_added_utility                         34752 non-null  float64\n",
      " 16  mothership_lvo_ivt_added_utility                          34752 non-null  float64\n",
      " 17  mothership_lvo_ivt_mt_added_utility                       34752 non-null  float64\n",
      " 18  mothership_lvo_mt_added_utility                           34752 non-null  float64\n",
      " 19  drip_ship_lvo_mix_added_utility                           34752 non-null  float64\n",
      " 20  mothership_lvo_mix_added_utility                          34752 non-null  float64\n",
      " 21  drip_ship_weighted_added_utility                          34752 non-null  float64\n",
      " 22  mothership_weighted_added_utility                         34752 non-null  float64\n",
      " 23  drip_ship_weighted_treated_added_utility                  34752 non-null  float64\n",
      " 24  mothership_weighted_treated_added_utility                 34752 non-null  float64\n",
      " 25  mothership_minus_dripship_nlvo_ivt_added_utility          34752 non-null  float64\n",
      " 26  mothership_minus_dripship_lvo_ivt_added_utility           34752 non-null  float64\n",
      " 27  mothership_minus_dripship_lvo_mt_added_utility            34752 non-null  float64\n",
      " 28  mothership_minus_dripship_lvo_mix_added_utility           34752 non-null  float64\n",
      " 29  mothership_minus_dripship_weighted_added_utility          34752 non-null  float64\n",
      " 30  mothership_minus_dripship_weighted_treated_added_utility  34752 non-null  float64\n",
      "dtypes: bool(1), float64(27), object(3)\n",
      "memory usage: 8.3+ MB\n"
     ]
    }
   ],
   "source": [
    "df_added_utility.info()"
   ]
  },
  {
   "cell_type": "markdown",
   "id": "d6213660-afd4-48f7-838d-b2b96bcf574b",
   "metadata": {},
   "source": [
    "## Conclusion\n",
    "\n",
    "We have calculated a weighted sum of the separate patient cohorts to find outcome data for a mix of LVO patients and for the treated ischaemic population.\n",
    "\n",
    "We have also saved a file with just the added utility results from all of the patient cohorts. This file contains a copy of the data that will be used to create maps of added utility around England and Wales, and is saved separately so that this data can be shared without everyone needing to download a massive file of mostly irrelevant data."
   ]
  },
  {
   "cell_type": "code",
   "execution_count": null,
   "id": "65d93ae6-bc2a-4d70-9951-a91399083b72",
   "metadata": {},
   "outputs": [],
   "source": []
  }
 ],
 "metadata": {
  "kernelspec": {
   "display_name": "Python 3 (ipykernel)",
   "language": "python",
   "name": "python3"
  },
  "language_info": {
   "codemirror_mode": {
    "name": "ipython",
    "version": 3
   },
   "file_extension": ".py",
   "mimetype": "text/x-python",
   "name": "python",
   "nbconvert_exporter": "python",
   "pygments_lexer": "ipython3",
   "version": "3.9.16"
  }
 },
 "nbformat": 4,
 "nbformat_minor": 5
}
