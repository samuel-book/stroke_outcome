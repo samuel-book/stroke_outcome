{
 "cells": [
  {
   "cell_type": "markdown",
   "id": "21f2cfe7-eb24-4bb2-8392-59763c2ff072",
   "metadata": {},
   "source": [
    "# Predicting patient outcomes after a given treatment time using the calculated probability with time curves"
   ]
  },
  {
   "cell_type": "markdown",
   "id": "249f72ff-ed8e-4827-848b-238df0a99a4d",
   "metadata": {},
   "source": [
    "It will be useful for our models to calculate a predicted mRS outcome for a patient. The method detailed here uses only the patient's known mRS before stroke, the given time from onset to treatment, and the calculated probability with time curves (e.g. as calculated in the mathematics notebook). In other words, this method does not directly take into account any other factor relating to the patient, for example their age or whether they have had a stroke previously. "
   ]
  },
  {
   "cell_type": "markdown",
   "id": "04248e48-4b28-45b7-817e-57ec33e4eff3",
   "metadata": {},
   "source": [
    "## Aims\n",
    "\n",
    "We want to compare a patient 'x' with the known cumulative probability distributions from before. We can draw graphs of changing probability with time, then overlay a horizontal line at our chosen point 'x'. We can then find which mRS bin patient 'x' is in at any arbitrary time. \n",
    "\n",
    "We will also implement ways to automatically determine which mRS bin contains the patient rather than depending on a human to read a graph."
   ]
  },
  {
   "cell_type": "markdown",
   "id": "d87323d2-8033-44d8-a7a1-8c2b0a03ab20",
   "metadata": {},
   "source": [
    "## Generalisation\n",
    "This notebook is condensed into a single function named `stroke_outcome()` [here](#Generalisation)."
   ]
  },
  {
   "cell_type": "markdown",
   "id": "5120142e-b690-4682-b083-c41f081e29bd",
   "metadata": {},
   "source": [
    "---\n",
    "## Notebook admin"
   ]
  },
  {
   "cell_type": "code",
   "execution_count": 1,
   "id": "38dd8b9d",
   "metadata": {},
   "outputs": [],
   "source": [
    "# Keep notebook cleaner once finalised\n",
    "import warnings\n",
    "warnings.filterwarnings('ignore')"
   ]
  },
  {
   "cell_type": "code",
   "execution_count": 2,
   "id": "7e253275",
   "metadata": {},
   "outputs": [],
   "source": [
    "# Import packages\n",
    "import numpy as np\n",
    "import matplotlib.pyplot as plt"
   ]
  },
  {
   "cell_type": "code",
   "execution_count": 3,
   "id": "d84aa344",
   "metadata": {},
   "outputs": [],
   "source": [
    "# Set up MatPlotLib\n",
    "%matplotlib inline\n",
    "# Change default colour scheme:\n",
    "plt.style.use('seaborn-colorblind')"
   ]
  },
  {
   "cell_type": "markdown",
   "id": "9391d570-be15-4e47-b6d4-31d4b5d49342",
   "metadata": {},
   "source": [
    "---"
   ]
  },
  {
   "cell_type": "markdown",
   "id": "345e2e43-39ba-4406-ae45-9cb860672839",
   "metadata": {},
   "source": [
    "## Initial setup - import data, define constants, and plot"
   ]
  },
  {
   "cell_type": "markdown",
   "id": "39ceae2e-5fe3-4d2d-aa39-868474c3a364",
   "metadata": {},
   "source": [
    "### Import the probability data"
   ]
  },
  {
   "cell_type": "markdown",
   "id": "845822d6-ec9a-4ed7-b96f-91994a9c2cf6",
   "metadata": {},
   "source": [
    "In this example, we will use the data for an LVO treated with thrombectomy at times $t=0$ and $t=t_\\mathrm{ne}$. Import the probability bins from file:"
   ]
  },
  {
   "cell_type": "code",
   "execution_count": 4,
   "id": "7ed40262-0379-4154-a23f-42b64b1fe5dc",
   "metadata": {},
   "outputs": [],
   "source": [
    "from outcome_utilities.mRS_datasets import (\n",
    "    dict_t0_treatment_lvo_ect,  dict_no_treatment_lvo_ect )"
   ]
  },
  {
   "cell_type": "code",
   "execution_count": 5,
   "id": "e048af77-277a-4db4-8aae-5a8f8772e253",
   "metadata": {},
   "outputs": [],
   "source": [
    "mrs_prob_bins_t0_treatment = dict_t0_treatment_lvo_ect['bins']\n",
    "mrs_prob_dist_t0_treatment = dict_t0_treatment_lvo_ect['dist']\n",
    "\n",
    "mrs_prob_bins_no_treatment = dict_no_treatment_lvo_ect['bins']\n",
    "mrs_prob_dist_no_treatment = dict_no_treatment_lvo_ect['dist']"
   ]
  },
  {
   "cell_type": "markdown",
   "id": "b6fe7f87-e5a1-4acc-b9e2-e7de16cb1f61",
   "metadata": {},
   "source": [
    "Define the no-effect time for thrombectomy:"
   ]
  },
  {
   "cell_type": "code",
   "execution_count": 6,
   "id": "0cef441e-adbe-4974-b31a-cda9aa66dcfc",
   "metadata": {},
   "outputs": [],
   "source": [
    "t_ne = 8 * 60 # minutes"
   ]
  },
  {
   "cell_type": "markdown",
   "id": "c856e53a-965b-4e45-8135-936a7662f37e",
   "metadata": {},
   "source": [
    "### Define the constants $a$, $b$, and $A$"
   ]
  },
  {
   "cell_type": "markdown",
   "id": "eecccaee-92c6-4dda-9624-b8472169e8c1",
   "metadata": {
    "pycharm": {
     "name": "#%% md\n"
    }
   },
   "source": [
    "We will need the constants a, b, and A to calculate the changing probabilities with time. We can find these constants from the probability bins imported above by using `find_mrs_constants()`, a function that uses the same calculations as in the mathematics notebook."
   ]
  },
  {
   "cell_type": "code",
   "execution_count": 7,
   "id": "d55cc491-0cb6-48fb-89ad-04769af3a075",
   "metadata": {},
   "outputs": [],
   "source": [
    "from outcome_utilities.probs_with_time import find_mrs_constants"
   ]
  },
  {
   "cell_type": "code",
   "execution_count": 8,
   "id": "ec050d8a-ce46-4c13-9ee0-081940f1e3cc",
   "metadata": {},
   "outputs": [
    {
     "data": {
      "text/plain": [
       "\u001b[0;31mSignature:\u001b[0m\n",
       "\u001b[0mfind_mrs_constants\u001b[0m\u001b[0;34m(\u001b[0m\u001b[0;34m\u001b[0m\n",
       "\u001b[0;34m\u001b[0m    \u001b[0mmrs_prob_bins_t0_treatment\u001b[0m\u001b[0;34m,\u001b[0m\u001b[0;34m\u001b[0m\n",
       "\u001b[0;34m\u001b[0m    \u001b[0mmrs_prob_bins_no_treatment\u001b[0m\u001b[0;34m,\u001b[0m\u001b[0;34m\u001b[0m\n",
       "\u001b[0;34m\u001b[0m    \u001b[0mt_ne\u001b[0m\u001b[0;34m,\u001b[0m\u001b[0;34m\u001b[0m\n",
       "\u001b[0;34m\u001b[0m\u001b[0;34m)\u001b[0m\u001b[0;34m\u001b[0m\u001b[0;34m\u001b[0m\u001b[0m\n",
       "\u001b[0;31mSource:\u001b[0m   \n",
       "\u001b[0;32mdef\u001b[0m \u001b[0mfind_mrs_constants\u001b[0m\u001b[0;34m(\u001b[0m\u001b[0mmrs_prob_bins_t0_treatment\u001b[0m\u001b[0;34m,\u001b[0m \u001b[0;34m\u001b[0m\n",
       "\u001b[0;34m\u001b[0m    \u001b[0mmrs_prob_bins_no_treatment\u001b[0m\u001b[0;34m,\u001b[0m \u001b[0mt_ne\u001b[0m\u001b[0;34m)\u001b[0m\u001b[0;34m:\u001b[0m\u001b[0;34m\u001b[0m\n",
       "\u001b[0;34m\u001b[0m    \u001b[0;34m\"\"\"\u001b[0m\n",
       "\u001b[0;34m    Find constants a,b,A for calculating probability with time.\u001b[0m\n",
       "\u001b[0;34m\u001b[0m\n",
       "\u001b[0;34m    Inputs:\u001b[0m\n",
       "\u001b[0;34m    mrs_prob_bins_t0_treatment - list or np.array. Cumulative probability \u001b[0m\n",
       "\u001b[0;34m                                 bins at t=0.\u001b[0m\n",
       "\u001b[0;34m    mrs_prob_bins_no_treatment - list or np.array. Cumulative probability \u001b[0m\n",
       "\u001b[0;34m                                 bins at the no-effect time.\u001b[0m\n",
       "\u001b[0;34m    t_ne                       - int or float. The no-effect time.\u001b[0m\n",
       "\u001b[0;34m\u001b[0m\n",
       "\u001b[0;34m    Returns:\u001b[0m\n",
       "\u001b[0;34m    a, b, A - arrays of five values, one for each mRS<=0,1,2,3,4. \u001b[0m\n",
       "\u001b[0;34m              See the mathematics notebook for usage.\u001b[0m\n",
       "\u001b[0;34m    \"\"\"\u001b[0m\u001b[0;34m\u001b[0m\n",
       "\u001b[0;34m\u001b[0m    \u001b[0;31m# Use the [:-1] slice to exclude mRS<=5.\u001b[0m\u001b[0;34m\u001b[0m\n",
       "\u001b[0;34m\u001b[0m    \u001b[0mG_t0\u001b[0m  \u001b[0;34m=\u001b[0m \u001b[0mnp\u001b[0m\u001b[0;34m.\u001b[0m\u001b[0mlog\u001b[0m\u001b[0;34m(\u001b[0m      \u001b[0mmrs_prob_bins_t0_treatment\u001b[0m\u001b[0;34m[\u001b[0m\u001b[0;34m:\u001b[0m\u001b[0;34m-\u001b[0m\u001b[0;36m1\u001b[0m\u001b[0;34m]\u001b[0m\u001b[0;34m)\u001b[0m\u001b[0;34m\u001b[0m\n",
       "\u001b[0;34m\u001b[0m    \u001b[0mB_t0\u001b[0m  \u001b[0;34m=\u001b[0m \u001b[0mnp\u001b[0m\u001b[0;34m.\u001b[0m\u001b[0mlog\u001b[0m\u001b[0;34m(\u001b[0m\u001b[0;36m1.0\u001b[0m \u001b[0;34m-\u001b[0m \u001b[0mmrs_prob_bins_t0_treatment\u001b[0m\u001b[0;34m[\u001b[0m\u001b[0;34m:\u001b[0m\u001b[0;34m-\u001b[0m\u001b[0;36m1\u001b[0m\u001b[0;34m]\u001b[0m\u001b[0;34m)\u001b[0m\u001b[0;34m\u001b[0m\n",
       "\u001b[0;34m\u001b[0m    \u001b[0mG_tne\u001b[0m \u001b[0;34m=\u001b[0m \u001b[0mnp\u001b[0m\u001b[0;34m.\u001b[0m\u001b[0mlog\u001b[0m\u001b[0;34m(\u001b[0m      \u001b[0mmrs_prob_bins_no_treatment\u001b[0m\u001b[0;34m[\u001b[0m\u001b[0;34m:\u001b[0m\u001b[0;34m-\u001b[0m\u001b[0;36m1\u001b[0m\u001b[0;34m]\u001b[0m\u001b[0;34m)\u001b[0m\u001b[0;34m\u001b[0m\n",
       "\u001b[0;34m\u001b[0m    \u001b[0mB_tne\u001b[0m \u001b[0;34m=\u001b[0m \u001b[0mnp\u001b[0m\u001b[0;34m.\u001b[0m\u001b[0mlog\u001b[0m\u001b[0;34m(\u001b[0m\u001b[0;36m1.0\u001b[0m \u001b[0;34m-\u001b[0m \u001b[0mmrs_prob_bins_no_treatment\u001b[0m\u001b[0;34m[\u001b[0m\u001b[0;34m:\u001b[0m\u001b[0;34m-\u001b[0m\u001b[0;36m1\u001b[0m\u001b[0;34m]\u001b[0m\u001b[0;34m)\u001b[0m\u001b[0;34m\u001b[0m\n",
       "\u001b[0;34m\u001b[0m\u001b[0;34m\u001b[0m\n",
       "\u001b[0;34m\u001b[0m    \u001b[0ma\u001b[0m \u001b[0;34m=\u001b[0m \u001b[0;34m(\u001b[0m\u001b[0mG_t0\u001b[0m \u001b[0;34m-\u001b[0m \u001b[0mB_t0\u001b[0m\u001b[0;34m)\u001b[0m \u001b[0;34m-\u001b[0m \u001b[0;34m(\u001b[0m\u001b[0mG_tne\u001b[0m \u001b[0;34m-\u001b[0m \u001b[0mB_tne\u001b[0m\u001b[0;34m)\u001b[0m\u001b[0;34m\u001b[0m\n",
       "\u001b[0;34m\u001b[0m    \u001b[0mb\u001b[0m \u001b[0;34m=\u001b[0m \u001b[0;34m-\u001b[0m\u001b[0ma\u001b[0m\u001b[0;34m/\u001b[0m\u001b[0mt_ne\u001b[0m\u001b[0;34m\u001b[0m\n",
       "\u001b[0;34m\u001b[0m    \u001b[0mA\u001b[0m \u001b[0;34m=\u001b[0m \u001b[0ma\u001b[0m \u001b[0;34m+\u001b[0m \u001b[0;34m(\u001b[0m\u001b[0mG_tne\u001b[0m \u001b[0;34m-\u001b[0m \u001b[0mB_tne\u001b[0m\u001b[0;34m)\u001b[0m\u001b[0;34m\u001b[0m\n",
       "\u001b[0;34m\u001b[0m\u001b[0;34m\u001b[0m\n",
       "\u001b[0;34m\u001b[0m    \u001b[0;32mreturn\u001b[0m \u001b[0ma\u001b[0m\u001b[0;34m,\u001b[0m \u001b[0mb\u001b[0m\u001b[0;34m,\u001b[0m \u001b[0mA\u001b[0m\u001b[0;34m\u001b[0m\u001b[0;34m\u001b[0m\u001b[0m\n",
       "\u001b[0;31mFile:\u001b[0m      ~/stroke_outcome/outcome_utilities/probs_with_time.py\n",
       "\u001b[0;31mType:\u001b[0m      function\n"
      ]
     },
     "metadata": {},
     "output_type": "display_data"
    }
   ],
   "source": [
    "find_mrs_constants??"
   ]
  },
  {
   "cell_type": "code",
   "execution_count": 9,
   "id": "f8ac7a02-e439-48ca-8b0d-08cc2a920b8a",
   "metadata": {},
   "outputs": [],
   "source": [
    "a, b, A = find_mrs_constants(mrs_prob_bins_t0_treatment, \n",
    "                             mrs_prob_bins_no_treatment, t_ne)"
   ]
  },
  {
   "cell_type": "markdown",
   "id": "c108f12b-e738-4aca-9603-5bd2a2eccf09",
   "metadata": {},
   "source": [
    "Each of these arrays contains five values, one for each mRS<=0,1,2,3,4. "
   ]
  },
  {
   "cell_type": "code",
   "execution_count": 10,
   "id": "426a0aad-19a7-4689-b316-875d5d1fd6ec",
   "metadata": {},
   "outputs": [
    {
     "data": {
      "text/plain": [
       "array([2.92153649, 2.50547806, 2.08799477, 2.25100113, 2.35247623])"
      ]
     },
     "execution_count": 10,
     "metadata": {},
     "output_type": "execute_result"
    }
   ],
   "source": [
    "a"
   ]
  },
  {
   "cell_type": "code",
   "execution_count": 11,
   "id": "23b55a24-c80f-4c16-a8ee-f4f7e01a37ff",
   "metadata": {},
   "outputs": [
    {
     "data": {
      "text/plain": [
       "array([-0.00608653, -0.00521975, -0.00434999, -0.00468959, -0.00490099])"
      ]
     },
     "execution_count": 11,
     "metadata": {},
     "output_type": "execute_result"
    }
   ],
   "source": [
    "b"
   ]
  },
  {
   "cell_type": "code",
   "execution_count": 12,
   "id": "cf776305-5c6f-40ad-ab51-114ad88573b3",
   "metadata": {},
   "outputs": [
    {
     "data": {
      "text/plain": [
       "array([0.19892614, 0.84026081, 1.36510562, 2.36703744, 3.96339452])"
      ]
     },
     "execution_count": 12,
     "metadata": {},
     "output_type": "execute_result"
    }
   ],
   "source": [
    "A"
   ]
  },
  {
   "cell_type": "markdown",
   "id": "4a73e00c-8f5b-4112-8d84-f8abcb1232b9",
   "metadata": {},
   "source": [
    "### Define a function to plot the probability bins"
   ]
  },
  {
   "cell_type": "markdown",
   "id": "3db147b5-1de4-411d-9f54-07186c0c35ba",
   "metadata": {},
   "source": [
    "Previously we have plotted the cumulative probability lines, for example those calculated in the mathematics notebook. Here it will be clearer to colour the spaces in between the lines so that the image can be viewed as a series of stacked bins. We'll do this in a function named `plot_probs_filled()`.\n",
    "\n",
    "Plot probability over a time range $t$:"
   ]
  },
  {
   "cell_type": "code",
   "execution_count": 13,
   "id": "3f343418-ebfd-4c28-9ae6-3643571a5582",
   "metadata": {},
   "outputs": [],
   "source": [
    "t = np.arange(0,t_ne)"
   ]
  },
  {
   "cell_type": "code",
   "execution_count": 14,
   "id": "1829a9ed-2681-4aa9-80c6-9b83943097d0",
   "metadata": {
    "pycharm": {
     "name": "#%%\n"
    },
    "tags": []
   },
   "outputs": [],
   "source": [
    "def plot_probs_filled(A,b,t):\n",
    "    # P(mRS<=5)=1.0 at all times, so it has no defined A, a, and b.\n",
    "    # Instead append to this array a 0.0, which won't be used directly\n",
    "    # but will allow the \"for\" loop to go round one extra time.\n",
    "    A = np.append(A,0.0)\n",
    "\n",
    "    for i,A_i in enumerate(A):\n",
    "\n",
    "        # Define the probability line, p_i:\n",
    "        if i<5:\n",
    "            p_i = 1.0/(1.0 + np.exp(-A_i -b[i]*t)) \n",
    "        else:\n",
    "            # P(mRS<=5)=1.0 at all times:\n",
    "            p_i = np.full(t.shape,1.0)\n",
    "            \n",
    "        # Plot it as before and store the colour used:\n",
    "        l, = plt.plot(t, p_i, '-')#, label = f'mRS <= {i}')\n",
    "        colour = l.get_color()\n",
    "\n",
    "        # Fill the area between p_i and the line below, p_j.\n",
    "        # This area marks where mRS <= the given value.\n",
    "        # If p_j is not defined yet (i=0), set all p_j to zero:\n",
    "        p_j = p_j if i>0 else np.zeros_like(p_i)\n",
    "        plt.fill_between(t, p_i, p_j, label=f'mRS = {i}',\n",
    "                         color=colour, alpha=0.3 )\n",
    "        # ^ alpha is used as a quick way to lighten the fill colour.\n",
    "\n",
    "        # Store the most recently-created line for the next loop:\n",
    "        p_j = p_i\n",
    "\n",
    "\n",
    "    plt.legend(loc='center left', bbox_to_anchor=[1.0,0.5,0.2,0.2])\n",
    "    plt.ylabel('Probability')\n",
    "    plt.xlabel('Onset to treatment time (mins)')\n",
    "    plt.ylim(-0.02,1.02)"
   ]
  },
  {
   "cell_type": "code",
   "execution_count": 15,
   "id": "bf81d45d-2ae0-4a7f-861c-ab90d25ed968",
   "metadata": {},
   "outputs": [
    {
     "data": {
      "image/png": "[encoded data removed]",
      "text/plain": [
       "<Figure size 432x288 with 1 Axes>"
      ]
     },
     "metadata": {
      "needs_background": "light"
     },
     "output_type": "display_data"
    }
   ],
   "source": [
    "plot_probs_filled(A,b,t)\n",
    "plt.show()"
   ]
  },
  {
   "cell_type": "markdown",
   "id": "63bdb327-e9ff-48fc-b285-8908028ce103",
   "metadata": {},
   "source": [
    "---"
   ]
  },
  {
   "cell_type": "markdown",
   "id": "7acdca92-0cba-415f-8806-fd2f454e2e64",
   "metadata": {
    "pycharm": {
     "name": "#%% md\n"
    }
   },
   "source": [
    "## Predicting mRS at a given time"
   ]
  },
  {
   "cell_type": "markdown",
   "id": "17899254-182c-4974-80de-f2184d1b7eae",
   "metadata": {},
   "source": [
    "We can estimate the change in mRS for a patient 'x' by using the probability distributions. As a simple method, we can pick a probability of our liking at time zero, and draw a straight horizontal line across to the no-effect time. This horizontal line shows the patient's changing mRS score with increasing treatment time. We can then pick out a particular treatment time and compare the predicted mRS then with the mRS had the patient reached the no-effect time without treatment. "
   ]
  },
  {
   "cell_type": "markdown",
   "id": "ad93a5c1-6f5e-464a-8246-df2443e99b0b",
   "metadata": {},
   "source": [
    "For example, we'll define an 'x' and treatment time:"
   ]
  },
  {
   "cell_type": "code",
   "execution_count": 16,
   "id": "8db62497-cef3-4ed4-a9f8-455b7a0251ac",
   "metadata": {},
   "outputs": [],
   "source": [
    "x = 0.75\n",
    "treatment_time = 210 # minutes"
   ]
  },
  {
   "cell_type": "markdown",
   "id": "13246a68-8dba-409a-9098-6263f4192cb6",
   "metadata": {},
   "source": [
    "Plot which mRS bin this x value lands in at the treatment time:"
   ]
  },
  {
   "cell_type": "code",
   "execution_count": 17,
   "id": "d30da208-0ba8-4961-9cd8-91785979a60b",
   "metadata": {
    "pycharm": {
     "name": "#%%\n"
    }
   },
   "outputs": [
    {
     "data": {
      "image/png": "[encoded data removed]",
      "text/plain": [
       "<Figure size 432x288 with 1 Axes>"
      ]
     },
     "metadata": {
      "needs_background": "light"
     },
     "output_type": "display_data"
    }
   ],
   "source": [
    "# Draw the filled bins as before:\n",
    "plot_probs_filled(A,b,t)\n",
    "\n",
    "# Draw vertical line:\n",
    "plt.axvline(treatment_time, color='k', linestyle=':')\n",
    "    \n",
    "# Draw horizontal line:\n",
    "plt.axhline(x, color='k', linestyle=':')\n",
    "    \n",
    "# Add scatter markers along the horizontal line at the three key times:\n",
    "for v in [0,treatment_time,t_ne]:\n",
    "    plt.scatter(v,x,color='k',marker='o')\n",
    "    \n",
    "plt.show()"
   ]
  },
  {
   "cell_type": "markdown",
   "id": "1566fd75-8fa4-4de4-896c-40600500c18e",
   "metadata": {},
   "source": [
    "For this example patient, the mRS changes from 2 at the start time to 4 at the no-effect time. By looking at where the horizontal and vertical lines meet, we can see that being treated at this example treatment time would result in an mRS of 3 - an increase of one point on the scale compared with no treatment."
   ]
  },
  {
   "cell_type": "markdown",
   "id": "d93ed1fc-8ce8-4621-a0f8-1d25aa5c36c9",
   "metadata": {},
   "source": [
    "To automatically find which mRS bin patient x will fall into at the selected treatment time, we need to know the bins at this time. To find this, we'll import the function `find_mrs_bins_t()` from our `outcome_utilities` module."
   ]
  },
  {
   "cell_type": "code",
   "execution_count": 18,
   "id": "1fe5e4ab-8d68-457b-a14f-ce8c6d87e583",
   "metadata": {},
   "outputs": [],
   "source": [
    "from outcome_utilities.probs_with_time import find_mrs_bins_t"
   ]
  },
  {
   "cell_type": "code",
   "execution_count": 19,
   "id": "a3232838-bffc-4e05-88d2-e7eb61ca1ca7",
   "metadata": {},
   "outputs": [
    {
     "data": {
      "text/plain": [
       "\u001b[0;31mSignature:\u001b[0m \u001b[0mfind_mrs_bins_t\u001b[0m\u001b[0;34m(\u001b[0m\u001b[0mA\u001b[0m\u001b[0;34m,\u001b[0m \u001b[0mb\u001b[0m\u001b[0;34m,\u001b[0m \u001b[0mtreatment_time\u001b[0m\u001b[0;34m)\u001b[0m\u001b[0;34m\u001b[0m\u001b[0;34m\u001b[0m\u001b[0m\n",
       "\u001b[0;31mSource:\u001b[0m   \n",
       "\u001b[0;32mdef\u001b[0m \u001b[0mfind_mrs_bins_t\u001b[0m\u001b[0;34m(\u001b[0m\u001b[0mA\u001b[0m\u001b[0;34m,\u001b[0m \u001b[0mb\u001b[0m\u001b[0;34m,\u001b[0m \u001b[0mtreatment_time\u001b[0m\u001b[0;34m)\u001b[0m\u001b[0;34m:\u001b[0m\u001b[0;34m\u001b[0m\n",
       "\u001b[0;34m\u001b[0m    \u001b[0;34m\"\"\"\u001b[0m\n",
       "\u001b[0;34m    Find the cumulative probability bins at a given time. \u001b[0m\n",
       "\u001b[0;34m\u001b[0m\n",
       "\u001b[0;34m    Inputs:\u001b[0m\n",
       "\u001b[0;34m    A,b            - list or np.array. Contain constants for \u001b[0m\n",
       "\u001b[0;34m                     calculating probability.\u001b[0m\n",
       "\u001b[0;34m    treatment_time - int or float. Time from onset to treatment. \u001b[0m\n",
       "\u001b[0;34m\u001b[0m\n",
       "\u001b[0;34m    Returns:\u001b[0m\n",
       "\u001b[0;34m    mrs_prob_bins_t_treatment - np.array. Cumulative probabilities\u001b[0m\n",
       "\u001b[0;34m                                of the mRS bins at the treatment time.\u001b[0m\n",
       "\u001b[0;34m    \"\"\"\u001b[0m\u001b[0;34m\u001b[0m\n",
       "\u001b[0;34m\u001b[0m    \u001b[0mmrs_prob_bins_t_treatment\u001b[0m \u001b[0;34m=\u001b[0m \u001b[0;34m[\u001b[0m\u001b[0;34m]\u001b[0m\u001b[0;34m\u001b[0m\n",
       "\u001b[0;34m\u001b[0m    \u001b[0;32mfor\u001b[0m \u001b[0mi\u001b[0m\u001b[0;34m,\u001b[0m\u001b[0mA_i\u001b[0m \u001b[0;32min\u001b[0m \u001b[0menumerate\u001b[0m\u001b[0;34m(\u001b[0m\u001b[0mA\u001b[0m\u001b[0;34m)\u001b[0m\u001b[0;34m:\u001b[0m\u001b[0;34m\u001b[0m\n",
       "\u001b[0;34m\u001b[0m        \u001b[0mp_i\u001b[0m \u001b[0;34m=\u001b[0m \u001b[0;36m1.0\u001b[0m\u001b[0;34m/\u001b[0m\u001b[0;34m(\u001b[0m\u001b[0;36m1.0\u001b[0m \u001b[0;34m+\u001b[0m \u001b[0mnp\u001b[0m\u001b[0;34m.\u001b[0m\u001b[0mexp\u001b[0m\u001b[0;34m(\u001b[0m\u001b[0;34m-\u001b[0m\u001b[0mA_i\u001b[0m \u001b[0;34m-\u001b[0m\u001b[0mb\u001b[0m\u001b[0;34m[\u001b[0m\u001b[0mi\u001b[0m\u001b[0;34m]\u001b[0m\u001b[0;34m*\u001b[0m\u001b[0mtreatment_time\u001b[0m\u001b[0;34m)\u001b[0m\u001b[0;34m)\u001b[0m \u001b[0;34m\u001b[0m\n",
       "\u001b[0;34m\u001b[0m        \u001b[0mmrs_prob_bins_t_treatment\u001b[0m\u001b[0;34m.\u001b[0m\u001b[0mappend\u001b[0m\u001b[0;34m(\u001b[0m\u001b[0mp_i\u001b[0m\u001b[0;34m)\u001b[0m\u001b[0;34m\u001b[0m\n",
       "\u001b[0;34m\u001b[0m\u001b[0;34m\u001b[0m\n",
       "\u001b[0;34m\u001b[0m    \u001b[0;32mreturn\u001b[0m \u001b[0mnp\u001b[0m\u001b[0;34m.\u001b[0m\u001b[0marray\u001b[0m\u001b[0;34m(\u001b[0m\u001b[0mmrs_prob_bins_t_treatment\u001b[0m\u001b[0;34m)\u001b[0m\u001b[0;34m\u001b[0m\u001b[0;34m\u001b[0m\u001b[0m\n",
       "\u001b[0;31mFile:\u001b[0m      ~/stroke_outcome/outcome_utilities/probs_with_time.py\n",
       "\u001b[0;31mType:\u001b[0m      function\n"
      ]
     },
     "metadata": {},
     "output_type": "display_data"
    }
   ],
   "source": [
    "find_mrs_bins_t??"
   ]
  },
  {
   "cell_type": "code",
   "execution_count": 20,
   "id": "5c49c38f-6e54-45c3-a492-440743976cf2",
   "metadata": {},
   "outputs": [
    {
     "data": {
      "text/plain": [
       "array([0.25364872, 0.43637533, 0.61102146, 0.79934802, 0.94951074])"
      ]
     },
     "execution_count": 20,
     "metadata": {},
     "output_type": "execute_result"
    }
   ],
   "source": [
    "mrs_prob_bins_t_treatment = find_mrs_bins_t(A,b,treatment_time)\n",
    "\n",
    "mrs_prob_bins_t_treatment"
   ]
  },
  {
   "cell_type": "markdown",
   "id": "f0e8f9d5-c11d-40df-afc0-cb3293adb973",
   "metadata": {},
   "source": [
    "To find out which of these bins our patient 'x' falls into, we use the `digitize()` function:"
   ]
  },
  {
   "cell_type": "code",
   "execution_count": 21,
   "id": "99b76ca8-0dd3-4a96-af66-df2f655e57f5",
   "metadata": {},
   "outputs": [
    {
     "name": "stdout",
     "output_type": "stream",
     "text": [
      "mRS pre-stroke:             2\n",
      "mRS if not treated:         4\n",
      "mRS if treated at time=210: 3\n"
     ]
    }
   ],
   "source": [
    "mRS_t0 = np.digitize(x, mrs_prob_bins_t0_treatment, right=True)\n",
    "mRS_t  = np.digitize(x, mrs_prob_bins_t_treatment,  right=True)\n",
    "mRS_no = np.digitize(x, mrs_prob_bins_no_treatment, right=True)\n",
    "\n",
    "print(f'mRS pre-stroke:             {mRS_t0}')\n",
    "print(f'mRS if not treated:         {mRS_no}')\n",
    "print(f'mRS if treated at time={treatment_time}: {mRS_t}')"
   ]
  },
  {
   "cell_type": "markdown",
   "id": "f6209db0-eba3-4a6a-a6cf-f306af671dae",
   "metadata": {},
   "source": [
    "---"
   ]
  },
  {
   "cell_type": "markdown",
   "id": "f7d811b6-9bda-4f03-8fe3-5962e1bb3c85",
   "metadata": {},
   "source": [
    "## Multiple patients"
   ]
  },
  {
   "cell_type": "markdown",
   "id": "2bfe8c5c-b97d-420e-a6c8-878d592ce35d",
   "metadata": {},
   "source": [
    "The same process can be performed for a larger sample of $x$ values at a fixed treatment time to calculate the percentage of patients who should see an improvement in mRS compared with receiving no treatment. "
   ]
  },
  {
   "cell_type": "markdown",
   "id": "db79a814-87c9-496f-a20a-f38722cc5ba5",
   "metadata": {},
   "source": [
    "First we'll consider only 4 patients at the same treatment time as before and check each improvement individually."
   ]
  },
  {
   "cell_type": "code",
   "execution_count": 22,
   "id": "2d5ee30c-ae80-4131-8f0c-c9263bf5e5e9",
   "metadata": {},
   "outputs": [],
   "source": [
    "xs = np.arange(0.2,1.0,0.2)"
   ]
  },
  {
   "cell_type": "code",
   "execution_count": 23,
   "id": "7cea26d2-1cfc-4796-9f2f-827e814445f7",
   "metadata": {
    "pycharm": {
     "name": "#%%\n"
    }
   },
   "outputs": [
    {
     "data": {
      "image/png": "[encoded data removed]",
      "text/plain": [
       "<Figure size 432x288 with 1 Axes>"
      ]
     },
     "metadata": {
      "needs_background": "light"
     },
     "output_type": "display_data"
    }
   ],
   "source": [
    "# Draw the filled bins as before:\n",
    "plot_probs_filled(A,b,t)\n",
    "\n",
    "# Draw vertical line:\n",
    "plt.axvline(treatment_time, color='k', linestyle=':')\n",
    "    \n",
    "for x in xs:\n",
    "    # Draw horizontal line:\n",
    "    plt.axhline(x, color='k', linestyle=':')\n",
    "    \n",
    "    # Add scatter markers along the horizontal line at the three key times:\n",
    "    for v in [0,treatment_time,t_ne]:\n",
    "        plt.scatter(v,x,color='k',marker='o')\n",
    "    \n",
    "plt.show()"
   ]
  },
  {
   "cell_type": "markdown",
   "id": "f7c81292-1a25-4609-af34-c06c87ee0291",
   "metadata": {},
   "source": [
    "Some of these points are too close to the border between mRS bins for us to determine mRS by eye. This is where the `digitize()` method is most useful:"
   ]
  },
  {
   "cell_type": "code",
   "execution_count": 24,
   "id": "4d370a8c-03b9-48b7-a7a2-d496832bd038",
   "metadata": {},
   "outputs": [],
   "source": [
    "mRS_vals_t0_treatment = []\n",
    "mRS_vals_t_treatment  = []\n",
    "mRS_vals_no_treatment = []\n",
    "\n",
    "for x in xs: \n",
    "    # Find which bin 'x' lies in,\n",
    "    # i.e. which plotted probability line it lies under,\n",
    "    # at time t=0, t=treatment_time, and t=T_0.\n",
    "    mRS_t0_treatment = np.digitize(x, mrs_prob_bins_t0_treatment, right=True)\n",
    "    mRS_t_treatment  = np.digitize(x, mrs_prob_bins_t_treatment,  right=True)\n",
    "    mRS_no_treatment = np.digitize(x, mrs_prob_bins_no_treatment, right=True)\n",
    "    \n",
    "    # Store these in the lists:\n",
    "    mRS_vals_t0_treatment.append(mRS_t0_treatment)\n",
    "    mRS_vals_t_treatment.append( mRS_t_treatment)\n",
    "    mRS_vals_no_treatment.append(mRS_no_treatment)"
   ]
  },
  {
   "cell_type": "markdown",
   "id": "3ea0a865-c5fb-4b28-99a6-83490f76b7fc",
   "metadata": {},
   "source": [
    "Print the results so that each column shows the changing mRS of one patient."
   ]
  },
  {
   "cell_type": "code",
   "execution_count": 25,
   "id": "2f99cf06-09f1-4ce9-847b-426c97c1ebf0",
   "metadata": {},
   "outputs": [
    {
     "name": "stdout",
     "output_type": "stream",
     "text": [
      "mRS pre-stroke:             [0, 0, 1, 3]\n",
      "mRS if not treated:         [2, 3, 4, 4]\n",
      "mRS if treated at time=210: [0, 1, 2, 4]\n"
     ]
    }
   ],
   "source": [
    "print(f'mRS pre-stroke:             {mRS_vals_t0_treatment}')\n",
    "print(f'mRS if not treated:         {mRS_vals_no_treatment}')\n",
    "print(f'mRS if treated at time={treatment_time}: {mRS_vals_t_treatment}')"
   ]
  },
  {
   "cell_type": "markdown",
   "id": "9e5645e2-b252-4152-bdb7-e20d3564486f",
   "metadata": {},
   "source": [
    "For each of the patients, record whether their mRS improved compared with their untreated mRS level. If improved, record a 1, otherwise record a 0."
   ]
  },
  {
   "cell_type": "code",
   "execution_count": 26,
   "id": "80d57fbe-9acf-4840-9743-084ee276a4a9",
   "metadata": {},
   "outputs": [
    {
     "data": {
      "text/plain": [
       "[1, 1, 1, 0]"
      ]
     },
     "execution_count": 26,
     "metadata": {},
     "output_type": "execute_result"
    }
   ],
   "source": [
    "mRS_improved = []\n",
    "for i, mRS_t_treatment in enumerate(mRS_vals_t_treatment):\n",
    "    mRS_change = mRS_vals_no_treatment[i] - mRS_t_treatment\n",
    "    if mRS_change >= 1:\n",
    "        mRS_improved.append(1)\n",
    "    else:\n",
    "        mRS_improved.append(0)\n",
    "        \n",
    "mRS_improved"
   ]
  },
  {
   "cell_type": "markdown",
   "id": "77eebf3b-00ec-45ed-9318-6024755b40fd",
   "metadata": {},
   "source": [
    "Then take the average of the 1s and 0s across all patients. "
   ]
  },
  {
   "cell_type": "code",
   "execution_count": 27,
   "id": "76686a83-21a1-4ce3-b5de-fde80d5aff97",
   "metadata": {},
   "outputs": [
    {
     "name": "stdout",
     "output_type": "stream",
     "text": [
      "Probability of mRS improving by 1 or more: 0.75\n"
     ]
    }
   ],
   "source": [
    "treatment_effect = np.mean(mRS_improved)\n",
    "\n",
    "print(f'Probability of mRS improving by 1 or more: {treatment_effect}')"
   ]
  },
  {
   "cell_type": "markdown",
   "id": "15da9547-bc40-4027-8641-9b2d91745c31",
   "metadata": {},
   "source": [
    "For this patient population, three out of four patients saw an improvement in mRS when treated at the given treatment time. This matches the changes in mRS that we can read off the plot."
   ]
  },
  {
   "cell_type": "markdown",
   "id": "d0295423-d0ce-4aef-b978-deca6e0330c0",
   "metadata": {},
   "source": [
    "---"
   ]
  },
  {
   "cell_type": "markdown",
   "id": "e4a2169a-489b-4a91-860d-71ce95f6afbd",
   "metadata": {},
   "source": [
    "## Generalisation"
   ]
  },
  {
   "cell_type": "markdown",
   "id": "2ca4ade6-785b-4a68-8899-0d2342dd0933",
   "metadata": {},
   "source": [
    "To find a better estimate of the effectiveness of this treatment, we need to do the same calculation with a much higher number of patients. We'll sample random values of x for 100 patients and rewrite the code from before into one cell."
   ]
  },
  {
   "cell_type": "code",
   "execution_count": 28,
   "id": "3b43211b-554a-4884-9d9d-f48f9be4b255",
   "metadata": {},
   "outputs": [],
   "source": [
    "def stroke_outcome(mrs_prob_bins_t0_treatment, mrs_prob_bins_no_treatment, \n",
    "                   treatment_time, no_effect_time=8*60, \n",
    "                   xs=[], number_of_patients=100, print_result=1):\n",
    "    \"\"\"\n",
    "    Inputs\n",
    "    \n",
    "    dist_0:           1D list or numpy array. Element i corresponds to \n",
    "                      the proportion of patients that had mRS=i, before stroke or \n",
    "                      if treated at time t=0.\n",
    "    dist_F:           1D list or numpy array. Element i corresponds to \n",
    "                      the proportion of patients that had mRS=i if not treated\n",
    "                      or treated after time_zero_effect\n",
    "    treatment_time:   int. time in minutes between stroke and treatment    \n",
    "    time_zero_effect: int. time in minutes after stroke that treatment\n",
    "                      has no effect.                      \n",
    "    single:           bool. If True, model will only perform one iteration    \n",
    "    n_iter:           int. If single=False, number of iterations the model \n",
    "                      will perform.\n",
    "    xs:               1D list or numpy array. List of values of 'x' to try.\n",
    "                      \n",
    "    \n",
    "    Outputs\n",
    "    \n",
    "    mRS_0:  1D list. mRS if treated at time t=0     \n",
    "    mRS_F:  1D list. mRS if treated at time_zero_effect  \n",
    "    mRS_T:  1D list. mRS if treated at treatment_time\n",
    "    \"\"\"\n",
    "    ### Step 1: Find a, b, and A\n",
    "    a, b, A = find_mrs_constants(mrs_prob_bins_t0_treatment, \n",
    "                                 mrs_prob_bins_no_treatment, no_effect_time)\n",
    "\n",
    "    ### Step 2: Find probability bins at treatment_time\n",
    "    mrs_prob_bins_t_treatment = find_mrs_bins_t(A,b,treatment_time)\n",
    "\n",
    "    ### Step 3: Find the mRS of patient x at the key times\n",
    "\n",
    "    # Values of x to try:\n",
    "    if len(xs)>0:\n",
    "        number_of_patients = len(xs)\n",
    "    else:\n",
    "        # Generate random patients:\n",
    "        xs = np.random.rand(number_of_patients)\n",
    "\n",
    "    # Find mRS for each patient x:\n",
    "    mRS_vals_t0_treatment = []\n",
    "    mRS_vals_t_treatment  = []\n",
    "    mRS_vals_no_treatment = [] \n",
    "\n",
    "    count=0\n",
    "    while count<number_of_patients:\n",
    "        x = xs[count]\n",
    "\n",
    "        # Find which bin 'x' lies in at the three key times:\n",
    "        mRS_vals_t0_treatment.append(\n",
    "            np.digitize(x, mrs_prob_bins_t0_treatment, right=True))\n",
    "        mRS_vals_t_treatment.append( \n",
    "            np.digitize(x, mrs_prob_bins_t_treatment,  right=True))\n",
    "        mRS_vals_no_treatment.append(\n",
    "            np.digitize(x, mrs_prob_bins_no_treatment, right=True))\n",
    "\n",
    "        count += 1\n",
    "\n",
    "\n",
    "    ### Step 4: Find the probability of improvement\n",
    "\n",
    "    # For all of the patients (n_iter values of 'x'), record whether their \n",
    "    # mRS improved compared with their untreated mRS level. \n",
    "    # Then take the average of the 1s and 0s across all patients. \n",
    "    treatment_effect = np.mean(\n",
    "        [1 if mRS_vals_no_treatment[i] - T >=1 else 0 \n",
    "         for i,T in enumerate(mRS_vals_t_treatment)] )\n",
    "\n",
    "\n",
    "    ### Print some useful things:\n",
    "    if print_result>0:\n",
    "        if len(xs)==1:\n",
    "            print(f'mRS pre-stroke:            ',\n",
    "                  f'{mRS_vals_t0_treatment[-1]}')\n",
    "            print(f'mRS if not treated:        ',\n",
    "                  f'{mRS_vals_no_treatment[-1]}')\n",
    "            print(f'mRS if treated at time={treatment_time}:',\n",
    "                  f'{mRS_vals_t_treatment[-1]}')\n",
    "        else:\n",
    "            print(f'Probability of mRS improving by 1 or more: ',\n",
    "                  f'{treatment_effect}')\n",
    "\n",
    "    return (mRS_vals_t0_treatment, mRS_vals_no_treatment, \n",
    "            mRS_vals_t_treatment, treatment_effect)"
   ]
  },
  {
   "cell_type": "markdown",
   "id": "227f46fe-a49d-4933-bdd9-a350916c47c2",
   "metadata": {},
   "source": [
    "### Test the function"
   ]
  },
  {
   "cell_type": "markdown",
   "id": "089f8bbb-37a1-4e39-8f13-06a5c208ed20",
   "metadata": {},
   "source": [
    "We'll use this function here in a couple of test cases."
   ]
  },
  {
   "cell_type": "markdown",
   "id": "12fab255-f7ee-4d7c-82db-19a43052bafa",
   "metadata": {
    "tags": []
   },
   "source": [
    "__Test 1:__ Using the same single patient x at the same time as before should print the same values of mRS as we found earlier."
   ]
  },
  {
   "cell_type": "code",
   "execution_count": 29,
   "id": "32fcbac0-cd3c-44a2-9c69-8a7bb5d590cd",
   "metadata": {},
   "outputs": [],
   "source": [
    "x = 0.75\n",
    "treatment_time = 210 # minutes"
   ]
  },
  {
   "cell_type": "code",
   "execution_count": 30,
   "id": "0d04224e-4461-4604-a24c-f0997642ceb8",
   "metadata": {
    "pycharm": {
     "name": "#%%\n"
    }
   },
   "outputs": [
    {
     "name": "stdout",
     "output_type": "stream",
     "text": [
      "mRS pre-stroke:             2\n",
      "mRS if not treated:         4\n",
      "mRS if treated at time=210: 3\n"
     ]
    }
   ],
   "source": [
    "(mRS_vals_t0_treatment, mRS_vals_no_treatment, \n",
    " mRS_vals_t_treatment, treatment_effect) = (\n",
    "    stroke_outcome(mrs_prob_bins_t0_treatment, mrs_prob_bins_no_treatment, \n",
    "                   treatment_time, no_effect_time=t_ne, xs=[x]))"
   ]
  },
  {
   "cell_type": "markdown",
   "id": "81604cd4-a6d4-4980-8bbf-a210cddd7dee",
   "metadata": {},
   "source": [
    "These numbers match the single patient from earlier in the notebook."
   ]
  },
  {
   "cell_type": "markdown",
   "id": "f9fe30d6-102a-4bff-b1b8-486e46bb269d",
   "metadata": {
    "tags": []
   },
   "source": [
    "__Test 2:__ We can also test 100 patients with randomly-generated x:"
   ]
  },
  {
   "cell_type": "code",
   "execution_count": 31,
   "id": "882c7454-7d09-47b1-9846-0838b9be79b3",
   "metadata": {
    "pycharm": {
     "name": "#%%\n"
    }
   },
   "outputs": [
    {
     "name": "stdout",
     "output_type": "stream",
     "text": [
      "Probability of mRS improving by 1 or more:  0.78\n"
     ]
    }
   ],
   "source": [
    "(mRS_vals_t0_treatment, mRS_vals_no_treatment, \n",
    " mRS_vals_t_treatment, treatment_effect) = (\n",
    "    stroke_outcome(mrs_prob_bins_t0_treatment, mrs_prob_bins_no_treatment, \n",
    "                   treatment_time, no_effect_time=t_ne, number_of_patients=100))"
   ]
  },
  {
   "cell_type": "markdown",
   "id": "e6dcd239-91b4-4290-9d29-1a54757ca6b3",
   "metadata": {},
   "source": [
    "This will give a different result each time depending on the patient population."
   ]
  },
  {
   "cell_type": "markdown",
   "id": "932675fd-a828-4693-b461-ad47cd676d65",
   "metadata": {},
   "source": [
    "---"
   ]
  },
  {
   "cell_type": "markdown",
   "id": "ad3037a2-3044-4cb4-80f6-b123d180aed0",
   "metadata": {},
   "source": [
    "### __Example 1:__ Predicting mRS for groups of patients"
   ]
  },
  {
   "cell_type": "markdown",
   "id": "1373dc5c-af39-430c-aec7-b87b35b26ec4",
   "metadata": {},
   "source": [
    "By running the function multiple times, we can compare the average change in mRS at a range of different treatment times for different groups of 100 patients:"
   ]
  },
  {
   "cell_type": "code",
   "execution_count": 32,
   "id": "1e6635d5-77b6-4107-ba37-ca617c164a12",
   "metadata": {},
   "outputs": [
    {
     "name": "stdout",
     "output_type": "stream",
     "text": [
      "230.67 127.6318968753501\n"
     ]
    }
   ],
   "source": [
    "treatment_times = np.random.randint(0, t_ne, size=100)\n",
    "\n",
    "print(np.mean(treatment_times), np.std(treatment_times))"
   ]
  },
  {
   "cell_type": "code",
   "execution_count": 33,
   "id": "e41f64ac-1f5e-45f5-9db3-7fbe545537fd",
   "metadata": {},
   "outputs": [
    {
     "data": {
      "image/png": "[encoded data removed]",
      "text/plain": [
       "<Figure size 432x288 with 1 Axes>"
      ]
     },
     "metadata": {
      "needs_background": "light"
     },
     "output_type": "display_data"
    }
   ],
   "source": [
    "for treatment_time in treatment_times:\n",
    "    (mRS_vals_t0_treatment, mRS_vals_no_treatment, \n",
    "     mRS_vals_t_treatment, treatment_effect) = (\n",
    "    stroke_outcome(mrs_prob_bins_t0_treatment, mrs_prob_bins_no_treatment, \n",
    "                   treatment_time, no_effect_time=t_ne, \n",
    "                   number_of_patients=100, print_result=0))\n",
    "    plt.scatter(treatment_time, treatment_effect, color='y', edgecolor='k')\n",
    "    \n",
    "plt.xlabel('Time from onset to treatment (mins)')\n",
    "plt.ylabel('Probability of mRS improvement of 1 or more')\n",
    "plt.ylim(0,1)\n",
    "plt.show()"
   ]
  },
  {
   "cell_type": "markdown",
   "id": "f41248af-57d7-4ab2-9492-96138840c4ce",
   "metadata": {},
   "source": [
    "Two points at almost the same treatment time can have probabilities around 0.2 apart depending on the groups of patients considered. "
   ]
  },
  {
   "cell_type": "markdown",
   "id": "57be6474-873d-4502-a559-dd551a4fa15b",
   "metadata": {},
   "source": [
    "---"
   ]
  },
  {
   "cell_type": "markdown",
   "id": "e694289f-65b2-486b-af95-ba26780b37de",
   "metadata": {
    "pycharm": {
     "name": "#%% md\n"
    }
   },
   "source": [
    "### __Example 2:__ Only know starting mRS, not precise 'x'"
   ]
  },
  {
   "cell_type": "markdown",
   "id": "8aaa2769-cba6-4fc3-806e-7b98ee6ff9d8",
   "metadata": {},
   "source": [
    "Sometimes we want to consider a patient of a known starting mRS, without randomly assigning them an 'x' value to test. Instead we can look at the full range of 'x' that covers that starting mRS. Here we'll plot the area of the graph we're interested in, and then find the possible values of mRS when a patient in that area is treated at a given time. \n",
    "\n",
    "We'll use a starting mRS of 1 at a treatment time of 210 minutes.\n",
    "\n",
    "First, generate probabilities xs that give a t=0 mRS of m_start:"
   ]
  },
  {
   "cell_type": "code",
   "execution_count": 34,
   "id": "a98ac61e-ce6b-4b00-9f89-aa29e429d2e6",
   "metadata": {},
   "outputs": [],
   "source": [
    "m_start = 1 \n",
    "xmin = mrs_prob_bins_t0_treatment[m_start-1] # set xmin to 0 for mRS=0.\n",
    "xmax = mrs_prob_bins_t0_treatment[m_start]"
   ]
  },
  {
   "cell_type": "code",
   "execution_count": 35,
   "id": "209b2628-3079-4f30-90ad-129dcf329a44",
   "metadata": {
    "pycharm": {
     "name": "#%%\n"
    }
   },
   "outputs": [],
   "source": [
    "treatment_time = 210 "
   ]
  },
  {
   "cell_type": "code",
   "execution_count": 36,
   "id": "9c1bbe8c-9fa7-499c-b00f-f7da68abd198",
   "metadata": {},
   "outputs": [],
   "source": [
    "mrs_prob_bins_t_treatment = find_mrs_bins_t(A,b,treatment_time)"
   ]
  },
  {
   "cell_type": "markdown",
   "id": "07fbefbd-2ed6-474e-8e46-5d9e04c03c4f",
   "metadata": {
    "pycharm": {
     "name": "#%% md\n"
    }
   },
   "source": [
    "Plot the considered mRS as a probability range on the y-axis:"
   ]
  },
  {
   "cell_type": "code",
   "execution_count": 37,
   "id": "41dc7db6-c485-4198-a4f8-894d1b6ec7f4",
   "metadata": {},
   "outputs": [],
   "source": [
    "t = np.arange(0,t_ne)"
   ]
  },
  {
   "cell_type": "code",
   "execution_count": 38,
   "id": "a13cd444-ef1d-4abf-a80b-15df6e34e033",
   "metadata": {
    "pycharm": {
     "name": "#%%\n"
    }
   },
   "outputs": [
    {
     "data": {
      "image/png": "[encoded data removed]",
      "text/plain": [
       "<Figure size 432x288 with 1 Axes>"
      ]
     },
     "metadata": {
      "needs_background": "light"
     },
     "output_type": "display_data"
    }
   ],
   "source": [
    "# Similar plot to before:\n",
    "plot_probs_filled(A,b,t)\n",
    "\n",
    "# Vertical line at treatment time:\n",
    "plt.axvline(treatment_time, color='k', linestyle=':')\n",
    "# Horizontal lines for considered 'x' range:\n",
    "for x in [xmin,xmax]:\n",
    "    plt.axhline(x, color='k', linestyle=':')\n",
    "    \n",
    "plt.show()"
   ]
  },
  {
   "cell_type": "markdown",
   "id": "b8baf660-cb36-4305-a877-9e4638c527cb",
   "metadata": {},
   "source": [
    "We can see that the group of 'x' values with mRS=1 at time t=0 will be predicted different mRS values at the chosen treatment_time. Some of the group will have mRS=2 and others mRS=3. To find the proportions of the group that will receive each prediction, we can use the following function."
   ]
  },
  {
   "cell_type": "code",
   "execution_count": 39,
   "id": "b2f1a5b3-9a5c-426e-bb15-eb1230301a11",
   "metadata": {
    "pycharm": {
     "name": "#%%\n"
    }
   },
   "outputs": [],
   "source": [
    "def prob_mRS_in_xrange(bins,xmin,xmax,m_start='?',time='???'):\n",
    "    \"\"\"\n",
    "    Given some range in cumulative probability, find the probability of being\n",
    "    in each mRS bin at a given time t. \n",
    "    \n",
    "    Inputs:\n",
    "    bins    - List or np.array. List of cumulative probabilities of each mRS \n",
    "              at a given time t. \n",
    "    xmin    - Float. Minimum P(mRS<=x|t) to check.\n",
    "    xmax    - Float. Maximum P(mRS<=x|t) to check\n",
    "    m_start - String. Used for printing only, the mRS at t=0.\n",
    "    time    - String. Used for printing only, the value of t.\n",
    "    \n",
    "    Returns:\n",
    "    -\n",
    "    \"\"\"\n",
    "    # Find intersections of the probability lines with the vertical t line\n",
    "    # within the specified range of x:\n",
    "    m_int = np.where( (bins<xmax) & (bins>xmin) )[0] \n",
    "    \n",
    "    if len(m_int)>0:\n",
    "        # Find the probability of each m:\n",
    "        p_int = bins[m_int]\n",
    "        \n",
    "        # Include the boundary values at xmin, xmax:\n",
    "        m_ints = np.array([m_int[0]-1, *m_int, m_int[-1]+1])+1\n",
    "        p_ints = [xmin, *p_int, xmax]\n",
    "        \n",
    "        # Store probabilities here:\n",
    "        pm_list = []\n",
    "        for i in range(len(m_ints)-1):\n",
    "            # Find the proportion of the probability range (y-axis span)\n",
    "            # that is covered by this value of mRS.\n",
    "            pmin = p_ints[i]\n",
    "            pmax = p_ints[i+1]\n",
    "            p_m = (pmax-pmin)/(xmax-xmin)\n",
    "            print(f'P(mRS={m_ints[i]:1} | m_start={m_start:1},',\n",
    "                  f't={time:3}): {p_m:1.4f}')\n",
    "            pm_list.append(p_m)\n",
    "        print('Sanity check: sum of probs', np.sum(pm_list))\n",
    "        \n",
    "    else:\n",
    "        # If there are no intersections in the chosen x range,\n",
    "        # find the fixed value of mRS in this range.\n",
    "        try:\n",
    "            m_int = np.where(bins>=xmax)[0][0]\n",
    "        except:\n",
    "            # m>4 isn't included in the input data.\n",
    "            m_int = 5\n",
    "        \n",
    "        print(f'P(mRS={m_int:1} | m_start={m_start:1},',\n",
    "              f't={time:3}): 1.0')\n",
    "        m_ints  = [m_int]\n",
    "        pm_list = [1.0]\n",
    "        \n",
    "    return m_ints, pm_list"
   ]
  },
  {
   "cell_type": "markdown",
   "id": "d505fed2-fc1f-4f61-a963-e4a09584ce4a",
   "metadata": {},
   "source": [
    "Draw the plot again and then print the predicted mRS values:"
   ]
  },
  {
   "cell_type": "code",
   "execution_count": 40,
   "id": "a906ddea-6404-4b18-8a42-304668a08592",
   "metadata": {
    "pycharm": {
     "name": "#%%\n"
    }
   },
   "outputs": [
    {
     "data": {
      "image/png": "[encoded data removed]",
      "text/plain": [
       "<Figure size 432x288 with 1 Axes>"
      ]
     },
     "metadata": {
      "needs_background": "light"
     },
     "output_type": "display_data"
    },
    {
     "name": "stdout",
     "output_type": "stream",
     "text": [
      "m_start: 1\n",
      "\n",
      "Time = 0\n",
      "P(mRS=1 | m_start=1, t=  0): 1.0\n",
      "\n",
      "Time = 210\n",
      "P(mRS=2 | m_start=1, t=210): 0.4126\n",
      "P(mRS=3 | m_start=1, t=210): 0.5874\n",
      "Sanity check: sum of probs 1.0\n",
      "\n",
      "Time = 480\n",
      "P(mRS=4 | m_start=1, t=480): 1.0\n"
     ]
    }
   ],
   "source": [
    "# Similar plot to before:\n",
    "plot_probs_filled(A,b,t)\n",
    "\n",
    "# Vertical line at treatment time:\n",
    "plt.axvline(treatment_time, color='k', linestyle=':')\n",
    "# Horizontal lines for considered 'x' range:\n",
    "for x in [xmin,xmax]:\n",
    "    plt.axhline(x, color='k', linestyle=':')\n",
    "    \n",
    "plt.show()\n",
    "\n",
    "# Use this function to find the probability of each mRS at a given time:\n",
    "print('m_start:', m_start)\n",
    "# Check probability of each mRS at t=0, t=T, and t=T_0:\n",
    "print('\\nTime =', 0)\n",
    "mRS_vals_t0_treatment, probs_t0_treatment = prob_mRS_in_xrange(\n",
    "    mrs_prob_bins_t0_treatment, xmin, xmax, m_start, 0)\n",
    "\n",
    "print('\\nTime =', treatment_time)\n",
    "mRS_vals_t_treatment, probs_t_treatment = prob_mRS_in_xrange(\n",
    "    mrs_prob_bins_t_treatment, xmin, xmax, m_start, treatment_time)\n",
    "\n",
    "print('\\nTime =', t_ne)\n",
    "mRS_vals_no_treatment, probs_no_treatment = prob_mRS_in_xrange(\n",
    "    mrs_prob_bins_no_treatment, xmin, xmax, m_start, t_ne)"
   ]
  },
  {
   "cell_type": "markdown",
   "id": "a384220c-2b93-46c5-9437-0876c1193e84",
   "metadata": {
    "pycharm": {
     "name": "#%% md\n"
    }
   },
   "source": [
    "---"
   ]
  }
 ],
 "metadata": {
  "kernelspec": {
   "display_name": "Python 3 (ipykernel)",
   "language": "python",
   "name": "python3"
  },
  "language_info": {
   "codemirror_mode": {
    "name": "ipython",
    "version": 3
   },
   "file_extension": ".py",
   "mimetype": "text/x-python",
   "name": "python",
   "nbconvert_exporter": "python",
   "pygments_lexer": "ipython3",
   "version": "3.9.12"
  }
 },
 "nbformat": 4,
 "nbformat_minor": 5
}
