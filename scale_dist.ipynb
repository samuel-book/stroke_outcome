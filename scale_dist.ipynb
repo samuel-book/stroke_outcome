{
 "cells": [
  {
   "cell_type": "markdown",
   "id": "d2fe7caf-41b7-4394-a08c-133175aca9d8",
   "metadata": {},
   "source": [
    "# Mathematics for creating a new probability distribution from limited data using scaling"
   ]
  },
  {
   "cell_type": "markdown",
   "id": "e2e6a69d-22a5-4d70-8fd6-4b4bda3cf0a5",
   "metadata": {},
   "source": [
    "Sometimes the data that we need for the stroke outcome model does not exist and must be created by combining multiple other sources of data. In this case, we want to define a new probability distribution of the modified Rankin scale (mRS) scores across a patient population, and we have two pieces of data to combine. The first, $P_\\mathrm{new}$, is a single known probability for the new distribution. The second is an existing probability distribution. \n",
    "\n",
    "We will take the distribution where the probabilities are known for all mRS and scale the probability bins around the single known point in the new distribution. In this case, we'll scale a pre-stroke probability distribution around a chosen point for $P_{\\mathrm{new}}(\\mathrm{mRS}\\leq 1)$."
   ]
  },
  {
   "cell_type": "markdown",
   "id": "bfaa77c6-f9e0-40a4-aede-04340fa1084a",
   "metadata": {},
   "source": [
    "### The scaling method"
   ]
  },
  {
   "cell_type": "markdown",
   "id": "faf45e1d-4eb1-44ad-967b-4ff67b63ec7e",
   "metadata": {},
   "source": [
    "To create the new distribution, we initially want to set $P_{\\mathrm{new}}(\\mathrm{mRS}\\leq 1)$ to the known value. To find the other mRS values, we start with the pre-stroke bins only and find the size ratio of each mRS bin to the mRS$\\leq1$ bin. By carrying the ratios over to the new distribution, we can define the new points.\n",
    "\n",
    "For example:\n",
    "+ The pre-stroke mRS<=1 area $G_P$ covers only mRS=0 and mRS=1. \n",
    "+ The pre-stroke mRS=0 bin covers some known percentage $G_{P0}$% of the full area $G_P$. \n",
    "+ We set the new mRS=0 bin to be $G_{P0}$% of the size of the $t=0$ mRS$\\leq1$ bin, $G$.\n",
    "\n",
    "For mRS>1, we instead keep the same size ratio of each bin to the combined mRS>1 bins. "
   ]
  },
  {
   "cell_type": "markdown",
   "id": "4845c762-e0fa-4f14-b9e3-bc4390543ac3",
   "metadata": {},
   "source": [
    "---"
   ]
  },
  {
   "cell_type": "markdown",
   "id": "b3f0f4cc-7fbb-4597-ab54-333d5a5e4dfe",
   "metadata": {},
   "source": [
    "## Notebook admin"
   ]
  },
  {
   "cell_type": "code",
   "execution_count": 1,
   "id": "38dd8b9d",
   "metadata": {},
   "outputs": [],
   "source": [
    "# Keep notebook cleaner once finalised\n",
    "import warnings\n",
    "warnings.filterwarnings('ignore')"
   ]
  },
  {
   "cell_type": "code",
   "execution_count": 2,
   "id": "7e253275",
   "metadata": {},
   "outputs": [],
   "source": [
    "# Import packages\n",
    "import numpy as np\n",
    "import matplotlib.pyplot as plt"
   ]
  },
  {
   "cell_type": "code",
   "execution_count": 3,
   "id": "d84aa344",
   "metadata": {},
   "outputs": [],
   "source": [
    "# Set up MatPlotLib\n",
    "%matplotlib inline\n",
    "# Change default colour scheme:\n",
    "plt.style.use('seaborn-colorblind')"
   ]
  },
  {
   "cell_type": "markdown",
   "id": "93f94f7d-7c2b-4729-b043-c4d2c23998b8",
   "metadata": {},
   "source": [
    "---"
   ]
  },
  {
   "cell_type": "markdown",
   "id": "4a080f95-1a69-42dd-9199-5475c92f9e0a",
   "metadata": {},
   "source": [
    "## Collect the available data"
   ]
  },
  {
   "cell_type": "markdown",
   "id": "a795a5a2-d414-4ff6-9450-a982b79bdaa9",
   "metadata": {},
   "source": [
    "These data are copied over from `mRS_datasets.ipynb`. Distribution of mRS pre-stroke for patients with nLVO, from the SAMueL-1 data set:"
   ]
  },
  {
   "cell_type": "code",
   "execution_count": 4,
   "id": "0114ae9f-3dfc-474c-bc87-cf558c160184",
   "metadata": {},
   "outputs": [],
   "source": [
    "bins_pre_stroke = np.array(\n",
    "    [0.5829, 0.1625, 0.1034, 0.1022, 0.042 , 0.0069, 0.    ])\n",
    "bins_cumsum_pre_stroke = np.cumsum(bins_pre_stroke)"
   ]
  },
  {
   "cell_type": "markdown",
   "id": "70392bfb-2740-40b5-abef-7370b94ed812",
   "metadata": {},
   "source": [
    "Say that we only know the following point of the new distribution, $P_{\\mathrm{new}}(\\mathrm{mRS}\\leq1)=0.2322$:"
   ]
  },
  {
   "cell_type": "code",
   "execution_count": 5,
   "id": "7fdae336-32e4-4369-8a4f-45bacb362185",
   "metadata": {},
   "outputs": [],
   "source": [
    "p_mRSleq1_new = 0.2322"
   ]
  },
  {
   "cell_type": "markdown",
   "id": "946ef865-5eab-45cd-9fb6-b04afe87c7f1",
   "metadata": {},
   "source": [
    "---"
   ]
  },
  {
   "cell_type": "markdown",
   "id": "5a72ce53-da3a-415f-8ec7-78d1723587fc",
   "metadata": {},
   "source": [
    "## Plot the known data:\n",
    "\n",
    "To save repetition we'll define some functions to draw a stacked bar chart and to draw horizontal arrows <-->."
   ]
  },
  {
   "cell_type": "code",
   "execution_count": 6,
   "id": "a90f7b10-429d-4c6a-8b9d-8fc109493396",
   "metadata": {},
   "outputs": [],
   "source": [
    "from outcome_utilities.dist_plot import draw_horizontal_bar"
   ]
  },
  {
   "cell_type": "code",
   "execution_count": 7,
   "id": "82481701-f368-435f-b8f8-0f0dca64fe67",
   "metadata": {},
   "outputs": [],
   "source": [
    "def draw_horizontal_arrow(x_left,x_right,y,label='', fontsize=None):\n",
    "    \"\"\"\n",
    "    Draw an arrow <-> with a label below it.\n",
    "    \n",
    "    x_left, x_right, y - float or int. The coordinates of the arrow.\n",
    "    label              - string. Optional label to add above the arrow.\n",
    "    \"\"\"\n",
    "    # Draw a horizontal arrow between x_left and x_right at height y:\n",
    "    plt.annotate('', xy=(x_left,y), xytext=(x_right,y),\n",
    "                 arrowprops=dict(arrowstyle='<->'))\n",
    "    # and add a label for the arrow:\n",
    "    plt.annotate(label, xy=(0.5*(x_left+x_right),y-0.1), ha='center',\n",
    "                 fontsize=fontsize)"
   ]
  },
  {
   "cell_type": "markdown",
   "id": "4bc4baf9-feda-47f8-bc5e-bd52e89c1b10",
   "metadata": {},
   "source": [
    "Plot the stacked bar charts:"
   ]
  },
  {
   "cell_type": "code",
   "execution_count": 8,
   "id": "5467ae77-d7bf-4bea-81ca-6abd98b2bebf",
   "metadata": {},
   "outputs": [
    {
     "data": {
      "image/png": "[encoded data removed]",
      "text/plain": [
       "<Figure size 432x288 with 1 Axes>"
      ]
     },
     "metadata": {
      "needs_background": "light"
     },
     "output_type": "display_data"
    }
   ],
   "source": [
    "# Draw the pre-stroke distribution: \n",
    "draw_horizontal_bar(bins_pre_stroke, 'Pre-stroke nLVO')\n",
    "# Add legend now to prevent doubling all the labels:\n",
    "plt.legend(loc='center',ncol=7, title='mRS',\n",
    "           bbox_to_anchor=[0.5,0.0,0.0,-0.5])   # Legend below axis.\n",
    "\n",
    "# Set up an empty bar for the t=0 distribution:\n",
    "draw_horizontal_bar([0.0], 'New distribution')\n",
    "# Draw a vertical line where mRS<=1:\n",
    "plt.scatter(Pnew_mRSleq1_t0, 1.0, marker='|', color='k', s=6000)\n",
    "\n",
    "# Annotate where mRS<=1.\n",
    "draw_horizontal_arrow(0.0, p_mRSleq1_new, y=0.7, label='mRS<=1')\n",
    "draw_horizontal_arrow(0.0, bins_cumsum_pre_stroke[1],\n",
    "                      y=-0.3, label='mRS<=1')\n",
    "\n",
    "# Other setup:\n",
    "plt.xlabel('Probability')\n",
    "plt.xlim(0,1)\n",
    "plt.ylim(-0.5,1.5)       \n",
    "plt.title('Probability distributions')\n",
    "plt.show()"
   ]
  },
  {
   "cell_type": "markdown",
   "id": "3ff9fd8b-b054-46cc-a2ee-610d53651d0e",
   "metadata": {},
   "source": [
    "The point where mRS$\\leq$1 is different in each of the distributions. "
   ]
  },
  {
   "cell_type": "markdown",
   "id": "66dd7c82-bf26-4c5f-b544-0b21cc7310b2",
   "metadata": {},
   "source": [
    "---"
   ]
  },
  {
   "cell_type": "markdown",
   "id": "f9b98cf5-97cf-4a6b-8a48-305f78a8d9f9",
   "metadata": {},
   "source": [
    "### Calculate the scaled distribution"
   ]
  },
  {
   "cell_type": "markdown",
   "id": "43cd6d46-e50e-4520-97bf-5463acc09b99",
   "metadata": {},
   "source": [
    "The function that we have written to do this scaling is stored in a package in the `outcome_utilities` directory. "
   ]
  },
  {
   "cell_type": "code",
   "execution_count": 9,
   "id": "b4d80302-0b7e-41c1-92f7-a5733184f45c",
   "metadata": {},
   "outputs": [],
   "source": [
    "from outcome_utilities.scale_dist import scale_dist"
   ]
  },
  {
   "cell_type": "code",
   "execution_count": 10,
   "id": "fdd0adbf-2655-4056-b83d-b706bf1f7010",
   "metadata": {},
   "outputs": [
    {
     "data": {
      "text/plain": [
       "\u001b[0;31mSignature:\u001b[0m \u001b[0mscale_dist\u001b[0m\u001b[0;34m(\u001b[0m\u001b[0mmrs_prob_bins\u001b[0m\u001b[0;34m,\u001b[0m \u001b[0mp_ref\u001b[0m\u001b[0;34m,\u001b[0m \u001b[0mmRS_ref\u001b[0m\u001b[0;34m)\u001b[0m\u001b[0;34m\u001b[0m\u001b[0;34m\u001b[0m\u001b[0m\n",
       "\u001b[0;31mSource:\u001b[0m   \n",
       "\u001b[0;32mdef\u001b[0m \u001b[0mscale_dist\u001b[0m\u001b[0;34m(\u001b[0m\u001b[0mmrs_prob_bins\u001b[0m\u001b[0;34m,\u001b[0m\u001b[0mp_ref\u001b[0m\u001b[0;34m,\u001b[0m\u001b[0mmRS_ref\u001b[0m\u001b[0;34m)\u001b[0m\u001b[0;34m:\u001b[0m\u001b[0;34m\u001b[0m\n",
       "\u001b[0;34m\u001b[0m    \u001b[0;34m\"\"\"\u001b[0m\n",
       "\u001b[0;34m    Scale an existing probability distribution to a new data point.\u001b[0m\n",
       "\u001b[0;34m\u001b[0m\n",
       "\u001b[0;34m    Inputs:\u001b[0m\n",
       "\u001b[0;34m    mrs_prob_bins - list or np.array. Prob. dist to be scaled.\u001b[0m\n",
       "\u001b[0;34m    p_ref         - float. Reference probability.\u001b[0m\n",
       "\u001b[0;34m    mRS_ref       - int. The mRS bin of this reference probability.\u001b[0m\n",
       "\u001b[0;34m\u001b[0m\n",
       "\u001b[0;34m    Returns:.\u001b[0m\n",
       "\u001b[0;34m    mrs_prob_dist_sc - np.array. Prob. dist after scaling.\u001b[0m\n",
       "\u001b[0;34m    mrs_prob_bins_sc - np.array. Cumulative prob. dist after scaling.\u001b[0m\n",
       "\u001b[0;34m    \"\"\"\u001b[0m\u001b[0;34m\u001b[0m\n",
       "\u001b[0;34m\u001b[0m    \u001b[0;31m# Store the scaled bins in mrs_prob_bins_sc:\u001b[0m\u001b[0;34m\u001b[0m\n",
       "\u001b[0;34m\u001b[0m    \u001b[0mmrs_prob_bins_sc\u001b[0m \u001b[0;34m=\u001b[0m \u001b[0;34m[\u001b[0m\u001b[0;34m]\u001b[0m\u001b[0;34m\u001b[0m\n",
       "\u001b[0;34m\u001b[0m\u001b[0;34m\u001b[0m\n",
       "\u001b[0;34m\u001b[0m    \u001b[0;32mfor\u001b[0m \u001b[0mmRS\u001b[0m \u001b[0;32min\u001b[0m \u001b[0mrange\u001b[0m\u001b[0;34m(\u001b[0m\u001b[0mlen\u001b[0m\u001b[0;34m(\u001b[0m\u001b[0mmrs_prob_bins\u001b[0m\u001b[0;34m)\u001b[0m\u001b[0;34m)\u001b[0m\u001b[0;34m:\u001b[0m\u001b[0;34m\u001b[0m\n",
       "\u001b[0;34m\u001b[0m        \u001b[0;32mif\u001b[0m \u001b[0mmRS\u001b[0m\u001b[0;34m<=\u001b[0m\u001b[0mmRS_ref\u001b[0m\u001b[0;34m:\u001b[0m\u001b[0;34m\u001b[0m\n",
       "\u001b[0;34m\u001b[0m            \u001b[0;31m# For the points below the new reference p_ref.\u001b[0m\u001b[0;34m\u001b[0m\n",
       "\u001b[0;34m\u001b[0m            \u001b[0;31m# Find the size ratio of this bin to the mRS<=mRS_ref bin.\u001b[0m\u001b[0;34m\u001b[0m\n",
       "\u001b[0;34m\u001b[0m            \u001b[0;31m# When mRS=mRS_ref, ratio=1.\u001b[0m\u001b[0;34m\u001b[0m\n",
       "\u001b[0;34m\u001b[0m            \u001b[0mratio\u001b[0m \u001b[0;34m=\u001b[0m \u001b[0mmrs_prob_bins\u001b[0m\u001b[0;34m[\u001b[0m\u001b[0mmRS\u001b[0m\u001b[0;34m]\u001b[0m \u001b[0;34m/\u001b[0m \u001b[0mmrs_prob_bins\u001b[0m\u001b[0;34m[\u001b[0m\u001b[0mmRS_ref\u001b[0m\u001b[0;34m]\u001b[0m\u001b[0;34m\u001b[0m\n",
       "\u001b[0;34m\u001b[0m            \u001b[0;31m# Scale the bins:\u001b[0m\u001b[0;34m\u001b[0m\n",
       "\u001b[0;34m\u001b[0m            \u001b[0mmrs_prob_bins_sc\u001b[0m\u001b[0;34m.\u001b[0m\u001b[0mappend\u001b[0m\u001b[0;34m(\u001b[0m\u001b[0mp_ref\u001b[0m \u001b[0;34m*\u001b[0m \u001b[0mratio\u001b[0m\u001b[0;34m)\u001b[0m\u001b[0;34m\u001b[0m\n",
       "\u001b[0;34m\u001b[0m        \u001b[0;32melse\u001b[0m\u001b[0;34m:\u001b[0m\u001b[0;34m\u001b[0m\n",
       "\u001b[0;34m\u001b[0m            \u001b[0;31m# For the points above the new reference p_ref.\u001b[0m\u001b[0;34m\u001b[0m\n",
       "\u001b[0;34m\u001b[0m            \u001b[0;31m# Find the size ratio of this bin excluding mRS<=mRS_ref,\u001b[0m\u001b[0;34m\u001b[0m\n",
       "\u001b[0;34m\u001b[0m            \u001b[0;31m# with size (mrs_prob_bins[mRS]-mrs_prob_bins[mRS_ref]),\u001b[0m\u001b[0;34m\u001b[0m\n",
       "\u001b[0;34m\u001b[0m            \u001b[0;31m# to the mRS>mRS_ref bin,\u001b[0m\u001b[0;34m\u001b[0m\n",
       "\u001b[0;34m\u001b[0m            \u001b[0;31m# with size (1-mrs_prob_bins[mRS_ref]).\u001b[0m\u001b[0;34m\u001b[0m\n",
       "\u001b[0;34m\u001b[0m            \u001b[0mratio\u001b[0m \u001b[0;34m=\u001b[0m \u001b[0;34m(\u001b[0m\u001b[0;34m(\u001b[0m\u001b[0mmrs_prob_bins\u001b[0m\u001b[0;34m[\u001b[0m\u001b[0mmRS\u001b[0m\u001b[0;34m]\u001b[0m \u001b[0;34m-\u001b[0m \u001b[0mmrs_prob_bins\u001b[0m\u001b[0;34m[\u001b[0m\u001b[0mmRS_ref\u001b[0m\u001b[0;34m]\u001b[0m\u001b[0;34m)\u001b[0m \u001b[0;34m/\u001b[0m\u001b[0;34m\u001b[0m\n",
       "\u001b[0;34m\u001b[0m                     \u001b[0;34m(\u001b[0m\u001b[0;36m1\u001b[0m \u001b[0;34m-\u001b[0m \u001b[0mmrs_prob_bins\u001b[0m\u001b[0;34m[\u001b[0m\u001b[0mmRS_ref\u001b[0m\u001b[0;34m]\u001b[0m\u001b[0;34m)\u001b[0m\u001b[0;34m)\u001b[0m\u001b[0;34m\u001b[0m\n",
       "\u001b[0;34m\u001b[0m            \u001b[0;31m# Scale the bins:\u001b[0m\u001b[0;34m\u001b[0m\n",
       "\u001b[0;34m\u001b[0m            \u001b[0mmrs_prob_bins_sc\u001b[0m\u001b[0;34m.\u001b[0m\u001b[0mappend\u001b[0m\u001b[0;34m(\u001b[0m\u001b[0mp_ref\u001b[0m \u001b[0;34m+\u001b[0m \u001b[0;34m(\u001b[0m\u001b[0;36m1\u001b[0m\u001b[0;34m-\u001b[0m\u001b[0mp_ref\u001b[0m\u001b[0;34m)\u001b[0m\u001b[0;34m*\u001b[0m\u001b[0mratio\u001b[0m\u001b[0;34m)\u001b[0m\u001b[0;34m\u001b[0m\n",
       "\u001b[0;34m\u001b[0m\u001b[0;34m\u001b[0m\n",
       "\u001b[0;34m\u001b[0m    \u001b[0mmrs_prob_bins_sc\u001b[0m \u001b[0;34m=\u001b[0m \u001b[0mnp\u001b[0m\u001b[0;34m.\u001b[0m\u001b[0marray\u001b[0m\u001b[0;34m(\u001b[0m\u001b[0mmrs_prob_bins_sc\u001b[0m\u001b[0;34m)\u001b[0m\u001b[0;34m\u001b[0m\n",
       "\u001b[0;34m\u001b[0m    \u001b[0;31m# Use bins to obtain distribution\u001b[0m\u001b[0;34m\u001b[0m\n",
       "\u001b[0;34m\u001b[0m    \u001b[0mmrs_prob_dist_sc\u001b[0m \u001b[0;34m=\u001b[0m \u001b[0mnp\u001b[0m\u001b[0;34m.\u001b[0m\u001b[0mdiff\u001b[0m\u001b[0;34m(\u001b[0m\u001b[0mnp\u001b[0m\u001b[0;34m.\u001b[0m\u001b[0mconcatenate\u001b[0m\u001b[0;34m(\u001b[0m\u001b[0;34m(\u001b[0m\u001b[0;34m[\u001b[0m\u001b[0;36m0.0\u001b[0m\u001b[0;34m]\u001b[0m\u001b[0;34m,\u001b[0m\u001b[0mmrs_prob_bins_sc\u001b[0m\u001b[0;34m)\u001b[0m\u001b[0;34m)\u001b[0m\u001b[0;34m)\u001b[0m\u001b[0;34m\u001b[0m\n",
       "\u001b[0;34m\u001b[0m\u001b[0;34m\u001b[0m\n",
       "\u001b[0;34m\u001b[0m    \u001b[0;32mreturn\u001b[0m \u001b[0mmrs_prob_dist_sc\u001b[0m\u001b[0;34m,\u001b[0m \u001b[0mmrs_prob_bins_sc\u001b[0m\u001b[0;34m\u001b[0m\u001b[0;34m\u001b[0m\u001b[0m\n",
       "\u001b[0;31mFile:\u001b[0m      ~/stroke_outcome/outcome_utilities/scale_dist.py\n",
       "\u001b[0;31mType:\u001b[0m      function\n"
      ]
     },
     "metadata": {},
     "output_type": "display_data"
    }
   ],
   "source": [
    "scale_dist??"
   ]
  },
  {
   "cell_type": "markdown",
   "id": "0efd3c9a-48aa-4c90-a5d0-33dd3900b880",
   "metadata": {},
   "source": [
    "$\\phantom{gap}$\n",
    "\n",
    "Use this function to scale our bins:"
   ]
  },
  {
   "cell_type": "code",
   "execution_count": 11,
   "id": "c6aa0f9c-ff5e-4032-8fcb-6d7f703cd07a",
   "metadata": {},
   "outputs": [],
   "source": [
    "bins_new, bins_cumsum_new = (\n",
    "    scale_dist(bins_cumsum_pre_stroke, p_mRSleq1_new, mRS_ref=1))"
   ]
  },
  {
   "cell_type": "code",
   "execution_count": 12,
   "id": "3bb23a50-4932-4329-8ee2-9782726b0b2f",
   "metadata": {},
   "outputs": [
    {
     "data": {
      "text/plain": [
       "array([0.18157953, 0.05062047, 0.31182451, 0.30820566, 0.12665986,\n",
       "       0.02080841, 0.        ])"
      ]
     },
     "execution_count": 12,
     "metadata": {},
     "output_type": "execute_result"
    }
   ],
   "source": [
    "bins_new"
   ]
  },
  {
   "cell_type": "code",
   "execution_count": 13,
   "id": "e8aae77a-1528-4cfe-ba39-dcdee67eccfc",
   "metadata": {},
   "outputs": [
    {
     "data": {
      "text/plain": [
       "array([0.18157953, 0.2322    , 0.54402451, 0.85223016, 0.97889002,\n",
       "       0.99969843, 0.99969843])"
      ]
     },
     "execution_count": 13,
     "metadata": {},
     "output_type": "execute_result"
    }
   ],
   "source": [
    "bins_cumsum_new"
   ]
  },
  {
   "cell_type": "markdown",
   "id": "6b05c27f-8894-47b1-8925-39244d8e7c48",
   "metadata": {},
   "source": [
    "---"
   ]
  },
  {
   "cell_type": "markdown",
   "id": "0e540be4-62f2-4013-b001-2a0ca21c92db",
   "metadata": {},
   "source": [
    "### Plot the two distributions:"
   ]
  },
  {
   "cell_type": "code",
   "execution_count": 14,
   "id": "9f7035da-fe49-488c-93d3-6b46266b469f",
   "metadata": {},
   "outputs": [
    {
     "data": {
      "image/png": "[encoded data removed]",
      "text/plain": [
       "<Figure size 432x288 with 1 Axes>"
      ]
     },
     "metadata": {
      "needs_background": "light"
     },
     "output_type": "display_data"
    }
   ],
   "source": [
    "# Draw the pre-stroke distribution: \n",
    "draw_horizontal_bar(bins_pre_stroke, 'Pre-stroke nLVO')\n",
    "# Add legend now to prevent doubling all the labels:\n",
    "plt.legend(loc='center',ncol=7, title='mRS',\n",
    "           bbox_to_anchor=[0.5,0.0,0.0,-0.5])   # Legend below axis.\n",
    "\n",
    "# Draw the t=0 distribution:\n",
    "draw_horizontal_bar(bins_new, 'New distribution')\n",
    "\n",
    "# Add labels:\n",
    "dists = [bins_pre_stroke, bins_new]\n",
    "for i,dist in enumerate(dists):\n",
    "    # Draw a vertical line where mRS<=1:\n",
    "    plt.scatter(np.sum(dist[:2]), i, marker='|', color='k', s=6000, zorder=4)\n",
    "    \n",
    "    # Annotate where mRS<=1 and mRS>1:\n",
    "    draw_horizontal_arrow(0.0, np.sum(dist[:2]), y=i-0.3, label='mRS<=1')\n",
    "    draw_horizontal_arrow(np.sum(dist[:2]), 1.0, y=i-0.3, label='mRS>1')\n",
    "\n",
    "    for j in range(len(dist)):\n",
    "        if j<2:\n",
    "            big_bin_size = np.sum(dist[:2])    # sum of mRS<=1 bins\n",
    "        else:\n",
    "            big_bin_size = np.sum(dist[2:])    # sum of mRS>1 bins\n",
    "\n",
    "        size_ratio = dist[j] / big_bin_size\n",
    "        \n",
    "        # Define the middle x-coordinate of the bin: \n",
    "        midpoint = np.mean([np.sum(dist[:j]), np.sum(dist[:j+1])])\n",
    "        \n",
    "        # Write the percentage size ratio:\n",
    "        plt.annotate(f'{size_ratio*100:1.0f}%', xy=(midpoint,i+0.3), \n",
    "                     ha='center', va='center') # text alignment\n",
    "    \n",
    "# Other setup:\n",
    "plt.xlabel('Probability')\n",
    "plt.xlim(0,1)\n",
    "plt.ylim(-0.5,1.5)       \n",
    "plt.title('Probability distributions')\n",
    "\n",
    "plt.show()"
   ]
  },
  {
   "cell_type": "markdown",
   "id": "ea92856d-8951-4017-9e07-aa10c999071c",
   "metadata": {},
   "source": [
    "For example, the mRS=0 bin covers 78% of the combined mRS$\\leq$1 bins in the original pre-stroke distribution, and the new scaled distribution keeps this size ratio. Similarly, the mRS=2 bin covers 41% of the combined mRS>1 bins in both cases."
   ]
  }
 ],
 "metadata": {
  "kernelspec": {
   "display_name": "Python 3 (ipykernel)",
   "language": "python",
   "name": "python3"
  },
  "language_info": {
   "codemirror_mode": {
    "name": "ipython",
    "version": 3
   },
   "file_extension": ".py",
   "mimetype": "text/x-python",
   "name": "python",
   "nbconvert_exporter": "python",
   "pygments_lexer": "ipython3",
   "version": "3.8.13"
  }
 },
 "nbformat": 4,
 "nbformat_minor": 5
}
