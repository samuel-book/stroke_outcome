{
 "cells": [
  {
   "cell_type": "markdown",
   "id": "86ce7613-26ec-46b7-a3fd-60a632a84702",
   "metadata": {
    "pycharm": {
     "name": "#%% md\n"
    }
   },
   "source": [
    "# Defining modified Rankin Scale (mRS) probability distributions for untreated patients, and predicted distributions if treatment given at time of stroke onset"
   ]
  },
  {
   "cell_type": "markdown",
   "id": "50556cb1-ecf8-4897-b052-42a2497ae0ef",
   "metadata": {
    "pycharm": {
     "name": "#%% md\n"
    }
   },
   "source": [
    "## Plain English Summary\n",
    "\n",
    "When we predict the outcome of a person who has had a stroke, we want to be able to say what is the likely improvement in disability level they would experience due to the treatment.\n",
    "\n",
    "Disability levels may be measured in various ways. In this project we are using the modified Rankin Scale (mRS). It is a commonly used scale for measuring the degree of disability or dependence in the daily activities of people who have suffered a stroke.\n",
    "\n",
    "The scale runs from 0-6, running from perfect health without symptoms to death:\n",
    "\n",
    "| Score | Description |\n",
    "|---|---|\n",
    "| 0 | No symptoms. |\n",
    "| 1 | No significant disability. Able to carry out all usual activities, despite some symptoms. |\n",
    "| 2 | Slight disability. Able to look after own affairs without assistance, but unable to carry out all previous activities. |\n",
    "| 3 | Moderate disability. Requires some help, but able to walk unassisted. |\n",
    "| 4 | Moderately severe disability. Unable to attend to own bodily needs without assistance, and unable to walk unassisted. |\n",
    "| 5 | Severe disability. Requires constant nursing care and attention, bedridden, incontinent. |\n",
    "| 6 | Dead. |\n",
    "\n",
    "The improvement in disability level they can get will depend on the time from when their stroke symptoms began and when they receive treatment. The best possible outcome would be if they were treated immediately after they had their stroke. The benefit of treatment reduces over time until the treatment no longer offers any benefit, and they will not be better off than having no treatment.\n",
    "\n",
    "In this notebook we describe how we estimate the spread of disability levels if treatment was given immediately after the stroke (at *t = 0*), and what the spread of disability levels would be if the treatment was given at a time when it was no longer effective (at *t = No Effect*). These are two key pieces of information we will later use to estimate the spread of disability levels if we know the time after stroke symptoms began when a person was treated with either thrombolysis (IVT), a clot-busting medication, or thrombectomy (MT), the physical removal of a clot. The methodology described here is for patients with an ischaemic stroke (a stroke that is caused by a clot), where the location of the clot is either in a large vessel occlusion (LVO), or not (nLVO)."
   ]
  },
  {
   "cell_type": "markdown",
   "id": "9383fc88-7200-438a-a42e-acd31ce0b914",
   "metadata": {},
   "source": [
    "# Method\n",
    "\n",
    "A more in depth description of the method is found in the document [predicting granular disability outcomes after treatment of stroke with thrombolysis (IVT) or thrombectomy (MT)](./intro.md) \n",
    "\n",
    "This model contains mRS outcome distributions for three patient-treatment cohorts: 1) nLVO-IVT (patients with an nLVO that are treated with IVT), 2) LVO-IVT (patients with an LVO that are treated with IVT), 3) LVO-MT (patients with an LVO that are treated with MT). For each patient-treatment cohort, we estimate two mRS distributions: one mRS distribution if treatment is given at *t = 0* (time of stroke onset), and one mRS distribution if treatment is given at *t = No Effect* (time of no effect). In order to estimate these two mRS distributions, we use data from reperfusion treatment clinical trials and stroke admission data from England and Wales (Sentinel Stroke National Audit Programme, SSNAP). To select the relevant patients for each cohort we will use the National Institutes of Health Stroke Scale (NIHSS) on arrival as a surrogate to classify patients as nLVO (NIHSS 0-10) or LVO (NIHSS 11+).\n",
    "\n",
    "All mRS distributions created are based on the assumption that, following treatment, the mRS distribution will lie between two extremes: 1) reperfusion perfectly restores function, and the resulting mRS distribution is the same as the pre-stroke mRS distribution (this data is obtained from the SSNAP dataset), and 2) reperfusion treatment fails to restore any function and the resulting mRS distribution is the same as a control untreated population, though with added excess deaths that may be caused by the treatment. To create required mRS distributions we find a weighting between these two extremes that give us a distribution that matches published reference points.\n",
    "\n",
    "The *t = 0* mRS distributions are calculated to give the expected mRS distributions if treatment was given immediately after stroke onset, and also include the risk of excess deaths caused by taking the treatment. Further details specific to stroke type and treatment type are given below.\n",
    "\n",
    "The *t = No Effect* mRS distributions are based on mRS distribution data when patients did not receive any treatment (this represents what will happen if the patient takes the treatment at *t = No Effect*). This data is obtained from the untreated control group in clinical trials and further adjusted to include the risk of excess deaths caused by taking the treatment. Further details specific to stroke type and treatment type are given below.\n",
    "\n",
    "From this description it can be seen that for each patient-treatment cohort four pieces of information are required:\n",
    "\n",
    "1) **pre-stroke mRS distribution** (fully recovered) \n",
    "2) **treatment has no effect mRS distribution**\n",
    "3) **excess deaths** due to treatment \n",
    "4) **weights** to combine the two mRS distributions (pre-stroke and no effect) to represent the *t = 0* mRS distribution.\n",
    "\n",
    "Next we describe how we obtain these four pieces of information for the three patient-treatment cohorts.\n",
    "\n",
    "1) **Pre-stroke mRS distribution** (fully recovered)\n",
    "\n",
    "The *pre-stroke mRS distribution* is taken from the SSNAP dataset, extracting the patients that have an ischaemic stroke and using NIHSS 0-10 as a surrogate for nLVO, or NIHSS 11+ as a surrogate for LVO to further extract the relevant patients for each patient-treatment cohort. This mRS distribution is then corrected for the excess deaths due to treatment (see *weights* subsection below for more information).\n",
    "\n",
    "2) **Treatment has no effect mRS distribution**\n",
    "\n",
    "* For *nLVO patients* the *no effect mRS distribution* is taken from the untreated control group of combined nLVO/LVO data from Lees et al. 2010, and from that we remove the contribution of the LVO patients by using the results from the untreated control group of LVO-only data from Goyal et al. 2016. Each mRS distribution (Lees, and Goyal) are adjusted to account for the excess deaths due to IVT treatment (using their relevant patient type: nLVO and/or LVO, see *weights* subsection below for more information). The two mRS distributions are then combined, using weightings (154% Lees and -54% Goyal) chosen such that the resulting mRS distribution represents just the nLVO patients and matches the P(mRS <= 1, *t = No Effect\"*) of 0.46 (from the control group in Emberson with NIHSS of 0-10).\n",
    "\n",
    "* For *LVO patients* the *no effect mRS distribution* is taken from the untreated control population from Goyal et al. 2016.  This mRS distribution is then corrected for the excess deaths due to treatment (see *weights* subsection below for more information).\n",
    "\n",
    "3) **Excess deaths**\n",
    "\n",
    "All mRS distributions are corrected for the *excess deaths* due to treatment. We use 1.10% for nLVO patients with IVT, 3.41% for LVO patients with IVT, 2.29% for a combination of nLVO/LVO patients with IVT (risk of fatal cerebral harmorrhage, Emberson et al., 2014), and 3.6% for MT (this is an adjustment of deaths in the model to give an overal mortality of 15.3% when treatment time is 285 minnutes, from the trial-metanalysis of Goyal et al., 2016). See appendix for more details.\n",
    "\n",
    "1) **Weights** (for combining the no effect and fully recovered mRS distributions for t = 0)\n",
    "\n",
    "* For nLVO patients treated with IVT at *t = 0* the *weights* used to combine the two mRS distributions (61% fully recovered & 39% no effect) were informed by data from Emberson et al. 2014, and found in order to match the P(mRS <= 1, t=0) of 0.63. 46% of patients with NIHSS 0-10 had mRS 0-1 in the untreated group (see figure 2 Emberson et al. 2014). Translated into a odds of a good outcome (0.85), and multipied with the odds ratio for mRS 0-1 at *t = 0* (which is 2.0, obtained from extrapolating back to *t = 0* in figure 1 Emberson et al. 2014), gives a probability of 63%.\n",
    "\n",
    "* For LVO patients treated with IVT at *t = 0* the *weights* used to combine these two mRS distributions (18% fully recovered & 82% no effect) are chosen to match predicted P(mRS <= 1, t=0) of 0.20, which is set as a target by extrapolating the control group mRS for patients with NIHSS 11+ from Emberson et al. 2014 back to a predicted odds ratio of mRS 0-1 of 2.0 at *t = 0*.\n",
    "\n",
    "* For LVO patients treated with MT at *t = 0* the *weights* used to combine these two mRS distributions (75% fully recovered & 25% no effect) are taken from Hui et al. 2020, who reported 75% successful recanalisation with thrombectomy. We assume that recanalisation at t=0 restores all pre-stroke function*. \n",
    "\n",
    "\\*Extrapolating results of good outcome, when recanalisation has been achieved with MT, from Fransen et al. 2016 back to *t = 0*, assuming 75% recanalisation, gives the same proportion of patients with mRS <= 2 as the pre-stroke mRS in the SSNAP data (therefore this extrapolation would suggest full recovery of all health with MT theoretically carried out at *t = 0*).\n",
    "\n",
    "Note: Also calculated in this notebook, and stored for future use, are the **no treatment mRS distributions** that are used as the control populations: 1) nLVO without treatment; 2) LVO without treatment.\n",
    "\n",
    "* For *nLVO patients* the *no treatment mRS distribution* is taken from the untreated control group of combined nLVO/LVO data from Lees et al. 2010, and from that we remove the contribution of the LVO patients by using the results from the untreated control group of LVO-only data from Goyal et al. 2016. Weightings for these two untreated control groups (146% Lees and -46% Goyal) are chosen such that the resulting mRS distribution represents just the nLVO patients and matches the P(mRS <= 1, *t = No Effect\"*) of 0.46 (from the control group in Emberson with NIHSS of 0-10).\n",
    "\n",
    "* For *LVO patients* the *no treatment mRS distribution* is taken from the untreated control population from Goyal et al. 2016."
   ]
  },
  {
   "cell_type": "markdown",
   "id": "e717f52c-6928-4961-8c1c-2ef52293a8f7",
   "metadata": {},
   "source": [
    "# The code\n",
    "\n",
    "Now we will show the code to calculate the mRS distributions that we have explained above."
   ]
  },
  {
   "cell_type": "markdown",
   "id": "99466c7d-30d9-4941-8fd3-ec265ee70e54",
   "metadata": {},
   "source": [
    "## Import packages"
   ]
  },
  {
   "cell_type": "code",
   "execution_count": 1,
   "id": "cdeb106b-0a66-496d-ab8c-90bb8b65cf38",
   "metadata": {},
   "outputs": [],
   "source": [
    "import matplotlib.pyplot as plt\n",
    "import numpy as np\n",
    "import pandas as pd\n",
    "\n",
    "# Set NumPy and Pandas to print 4 decimal places\n",
    "np.set_printoptions(precision=4)\n",
    "pd.set_option(\"display.precision\", 4)"
   ]
  },
  {
   "cell_type": "code",
   "execution_count": 2,
   "id": "2cc61b68-00eb-4040-8ccd-fc42505ef260",
   "metadata": {},
   "outputs": [],
   "source": [
    "plt.style.use('seaborn-colorblind')"
   ]
  },
  {
   "cell_type": "markdown",
   "id": "a3ea30bc-0915-4cef-a6d0-f59c8f67c938",
   "metadata": {},
   "source": [
    "## Set up dictionaries for results"
   ]
  },
  {
   "cell_type": "code",
   "execution_count": 3,
   "id": "bca72a1c-d70a-4a17-ba7a-531d8e745f82",
   "metadata": {},
   "outputs": [],
   "source": [
    "all_distributions_bins = dict()\n",
    "all_distributions_cumsum = dict()"
   ]
  },
  {
   "cell_type": "markdown",
   "id": "8894d742-9e91-4311-865d-d3f8855171a7",
   "metadata": {},
   "source": [
    "## Pre-stroke mRS distribution (fully recovered)\n",
    "\n",
    "Use the pre-stroke mRS distributions from SSNAP data to estimate the best possible outcome from treatment."
   ]
  },
  {
   "cell_type": "markdown",
   "id": "ad091b9a-cd76-4e2a-a63e-48f1b6ad542c",
   "metadata": {},
   "source": [
    "### Pre-stroke mRS distribution for nLVO patients"
   ]
  },
  {
   "cell_type": "code",
   "execution_count": 4,
   "id": "1071d2f8-8253-4990-b0ad-6d332c58185a",
   "metadata": {},
   "outputs": [
    {
     "name": "stdout",
     "output_type": "stream",
     "text": [
      "Pre-stroke nLVO\n",
      "---------------\n",
      "mRS bins:\n",
      "array([0.5829, 0.1625, 0.1034, 0.1022, 0.042 , 0.0069, 0.    ])\n",
      "\n",
      "mRS cumulative:\n",
      "array([0.5829, 0.7454, 0.8489, 0.9511, 0.9931, 1.    , 1.    ])\n"
     ]
    }
   ],
   "source": [
    "# Pre-stroke nLVO uses pre-stroke mRS from SSNAP for patients with ischaemic\n",
    "# stroke and NIHSS 0-10.\n",
    "\n",
    "# Define distribution from SSNAP data\n",
    "pre_stroke_nlvo_bins = np.array([\n",
    "    0.582881, 0.162538, 0.103440, 0.102223, 0.041973, 0.006945, 0.0])\n",
    "\n",
    "# Normalise\n",
    "pre_stroke_nlvo_bins = pre_stroke_nlvo_bins /np.sum(pre_stroke_nlvo_bins)\n",
    "all_distributions_bins['pre_stroke_nlvo'] = pre_stroke_nlvo_bins\n",
    "\n",
    "# Make cumulative distribution\n",
    "pre_stroke_nlvo_cumsum = np.cumsum(pre_stroke_nlvo_bins)\n",
    "all_distributions_cumsum['pre_stroke_nlvo'] = pre_stroke_nlvo_cumsum\n",
    "\n",
    "# Show\n",
    "print('Pre-stroke nLVO')\n",
    "print('---------------')\n",
    "print('mRS bins:')\n",
    "print(repr(pre_stroke_nlvo_bins))\n",
    "print()\n",
    "print('mRS cumulative:')\n",
    "print(repr(pre_stroke_nlvo_cumsum))"
   ]
  },
  {
   "cell_type": "markdown",
   "id": "e4ef711a-69b5-4718-b2ba-2d0825ea8049",
   "metadata": {},
   "source": [
    "#### Add IVT extra deaths (to pre-stroke nLVO patients)\n",
    "The distribution is corrected for 1.1% excess deaths in the IVT-treated group (from Emberson et al., 2014, using NIHSS 0-10 as a surrogate for nLVO)."
   ]
  },
  {
   "cell_type": "code",
   "execution_count": 5,
   "id": "2fa54535-c154-4845-a3e8-686403824e88",
   "metadata": {},
   "outputs": [
    {
     "name": "stdout",
     "output_type": "stream",
     "text": [
      "Pre-stroke nLVO with IVT deaths\n",
      "-------------------------------\n",
      "mRS bins:\n",
      "array([0.5765, 0.1608, 0.1023, 0.1011, 0.0415, 0.0069, 0.011 ])\n",
      "\n",
      "mRS cumulative:\n",
      "array([0.5765, 0.7372, 0.8395, 0.9406, 0.9821, 0.989 , 1.    ])\n"
     ]
    }
   ],
   "source": [
    "# Take a copy of the mRS distribution for nLVO pre-stroke\n",
    "pre_stroke_nlvo_bins_ivt_deaths = np.copy(pre_stroke_nlvo_bins)\n",
    "\n",
    "# Adjust deaths to include the 1.10% excess that are due to haemorrhage from use \n",
    "# of IVT in nLVO patents (Emberson et al., 2014)\n",
    "excess_deaths = 0.011\n",
    "pre_stroke_nlvo_bins_ivt_deaths[6] += excess_deaths\n",
    "correction_mrs_0_to_5 = (\n",
    "    (np.sum(pre_stroke_nlvo_bins_ivt_deaths[0:6]) - excess_deaths) / \n",
    "    (np.sum(pre_stroke_nlvo_bins_ivt_deaths[0:6])))\n",
    "pre_stroke_nlvo_bins_ivt_deaths[0:6] *= correction_mrs_0_to_5\n",
    "pre_stroke_nlvo_cumsum_ivt_deaths = np.cumsum(pre_stroke_nlvo_bins_ivt_deaths)\n",
    "\n",
    "# Store\n",
    "all_distributions_bins['pre_stroke_nlvo_ivt_deaths'] = \\\n",
    "    pre_stroke_nlvo_bins_ivt_deaths\n",
    "all_distributions_cumsum['pre_stroke_nlvo_ivt_deaths'] = \\\n",
    "    pre_stroke_nlvo_cumsum_ivt_deaths\n",
    "\n",
    "# Show\n",
    "print('Pre-stroke nLVO with IVT deaths')\n",
    "print('-------------------------------')\n",
    "print('mRS bins:')\n",
    "print(repr(pre_stroke_nlvo_bins_ivt_deaths))\n",
    "print()\n",
    "print('mRS cumulative:')\n",
    "print(repr(pre_stroke_nlvo_cumsum_ivt_deaths))"
   ]
  },
  {
   "cell_type": "markdown",
   "id": "efd55823-b939-4bdd-94b1-94a42684537b",
   "metadata": {},
   "source": [
    "### LVO pre-stroke mRS distribution"
   ]
  },
  {
   "cell_type": "code",
   "execution_count": 6,
   "id": "f1995387-b43e-4196-b907-65ab358a3a77",
   "metadata": {},
   "outputs": [
    {
     "name": "stdout",
     "output_type": "stream",
     "text": [
      "Pre-stroke LVO\n",
      "--------------\n",
      "mRS bins:\n",
      "array([0.4179, 0.143 , 0.1184, 0.1642, 0.1138, 0.0427, 0.    ])\n",
      "\n",
      "mRS cumulative:\n",
      "array([0.4179, 0.5609, 0.6793, 0.8435, 0.9573, 1.    , 1.    ])\n"
     ]
    }
   ],
   "source": [
    "# Pre-stroke nLVO uses pre-stroke mRS from SSNAP for patients with ischaemic\n",
    "# stroke and NIHSS 0-10.\n",
    "\n",
    "# Define distribution from SSNAP data\n",
    "pre_stroke_lvo_bins = np.array([\n",
    "    0.417894, 0.142959, 0.118430, 0.164211, 0.113775, 0.042731, 0.0])\n",
    "\n",
    "# Normalise\n",
    "pre_stroke_lvo_bins = pre_stroke_lvo_bins /np.sum(pre_stroke_lvo_bins)\n",
    "all_distributions_bins['pre_stroke_lvo'] = pre_stroke_lvo_bins\n",
    "\n",
    "# Make cumulative distribution\n",
    "pre_stroke_lvo_cumsum = np.cumsum(pre_stroke_lvo_bins)\n",
    "all_distributions_cumsum['pre_stroke_lvo'] = pre_stroke_lvo_cumsum\n",
    "\n",
    "# Show\n",
    "print('Pre-stroke LVO')\n",
    "print('--------------')\n",
    "print('mRS bins:')\n",
    "print(repr(pre_stroke_lvo_bins))\n",
    "print()\n",
    "print('mRS cumulative:')\n",
    "print(repr(pre_stroke_lvo_cumsum))"
   ]
  },
  {
   "cell_type": "markdown",
   "id": "3d2f0ee5-716d-4365-bb1b-8d6658a2ad20",
   "metadata": {},
   "source": [
    "#### Add IVT extra deaths (to pre-stroke LVO patients)\n",
    "The distribution is corrected for 3.41% excess deaths in the IVT-treated group (from Emberson et al., 2014, using NIHSS 11+ as a surrogate for LVO)."
   ]
  },
  {
   "cell_type": "code",
   "execution_count": 7,
   "id": "5d182625-e706-4fbd-ad17-cc55a205755f",
   "metadata": {},
   "outputs": [
    {
     "name": "stdout",
     "output_type": "stream",
     "text": [
      "Pre-stroke lvo with IVT deaths\n",
      "------------------------------\n",
      "mRS bins:\n",
      "array([0.4036, 0.1381, 0.1144, 0.1586, 0.1099, 0.0413, 0.0341])\n",
      "\n",
      "mRS cumulative:\n",
      "array([0.4036, 0.5417, 0.6561, 0.8147, 0.9246, 0.9659, 1.    ])\n"
     ]
    }
   ],
   "source": [
    "# Take a copy of the mRS distribution for LVO pre-stroke\n",
    "pre_stroke_lvo_bins_ivt_deaths = np.copy(pre_stroke_lvo_bins)\n",
    "\n",
    "# Adjust deaths to include the 3.41% excess that are due to haemorrhage from use \n",
    "# of IVT in LVO patents (Emberson et al., 2014)\n",
    "excess_deaths = 0.0341\n",
    "pre_stroke_lvo_bins_ivt_deaths[6] += excess_deaths\n",
    "correction_mrs_0_to_5 = (\n",
    "    (np.sum(pre_stroke_lvo_bins_ivt_deaths[0:6]) - excess_deaths) / \n",
    "    (np.sum(pre_stroke_lvo_bins_ivt_deaths[0:6])))\n",
    "pre_stroke_lvo_bins_ivt_deaths[0:6] *= correction_mrs_0_to_5\n",
    "pre_stroke_lvo_cumsum_ivt_deaths = np.cumsum(pre_stroke_lvo_bins_ivt_deaths)\n",
    "\n",
    "# Store\n",
    "all_distributions_bins['pre_stroke_lvo_ivt_deaths'] = \\\n",
    "    pre_stroke_lvo_bins_ivt_deaths\n",
    "all_distributions_cumsum['pre_stroke_lvo_ivt_deaths'] = \\\n",
    "    pre_stroke_lvo_cumsum_ivt_deaths\n",
    "\n",
    "# Show\n",
    "print('Pre-stroke lvo with IVT deaths')\n",
    "print('------------------------------')\n",
    "print('mRS bins:')\n",
    "print(repr(pre_stroke_lvo_bins_ivt_deaths))\n",
    "print()\n",
    "print('mRS cumulative:')\n",
    "print(repr(pre_stroke_lvo_cumsum_ivt_deaths))"
   ]
  },
  {
   "cell_type": "markdown",
   "id": "3a5245a9-da4f-49e1-bcf8-4b0e7c0d3a38",
   "metadata": {},
   "source": [
    "#### Add MT extra deaths (to pre-stroke LVO patients)\n",
    "The distribution is corrected for -3.6% excess deaths (a 3.6% percentage point reduction in deaths) in the MT-treated group (Goyal et al., 2016). These already include excess deaths from any use of IVT first."
   ]
  },
  {
   "cell_type": "code",
   "execution_count": 8,
   "id": "933bfc9f-0bb0-457f-9c72-a73c1864b3b5",
   "metadata": {},
   "outputs": [
    {
     "name": "stdout",
     "output_type": "stream",
     "text": [
      "Pre-stroke lvo with mt deaths\n",
      "-----------------------------\n",
      "mRS bins:\n",
      "array([0.4028, 0.1378, 0.1142, 0.1583, 0.1097, 0.0412, 0.036 ])\n",
      "\n",
      "mRS cumulative:\n",
      "array([0.4028, 0.5407, 0.6548, 0.8131, 0.9228, 0.964 , 1.    ])\n"
     ]
    }
   ],
   "source": [
    "# Take a copy of the mRS distribution for LVO pre-stroke\n",
    "pre_stroke_lvo_bins_mt_deaths = np.copy(pre_stroke_lvo_bins)\n",
    "\n",
    "# Adjust deaths to include give 15.3% @ 285 min treatment (Goyal et al., 2016)\n",
    "excess_deaths = 0.036\n",
    "pre_stroke_lvo_bins_mt_deaths[6] += excess_deaths\n",
    "correction_mrs_0_to_5 = (\n",
    "    (np.sum(pre_stroke_lvo_bins_mt_deaths[0:6]) - excess_deaths) / \n",
    "    (np.sum(pre_stroke_lvo_bins_mt_deaths[0:6])))\n",
    "pre_stroke_lvo_bins_mt_deaths[0:6] *= correction_mrs_0_to_5\n",
    "pre_stroke_lvo_cumsum_mt_deaths = np.cumsum(pre_stroke_lvo_bins_mt_deaths)\n",
    "\n",
    "# Store\n",
    "all_distributions_bins['pre_stroke_lvo_mt_deaths'] = \\\n",
    "    pre_stroke_lvo_bins_mt_deaths\n",
    "all_distributions_cumsum['pre_stroke_lvo_mt_deaths'] = \\\n",
    "    pre_stroke_lvo_cumsum_mt_deaths\n",
    "\n",
    "# Show\n",
    "print('Pre-stroke lvo with mt deaths')\n",
    "print('-----------------------------')\n",
    "print('mRS bins:')\n",
    "print(repr(pre_stroke_lvo_bins_mt_deaths))\n",
    "print()\n",
    "print('mRS cumulative:')\n",
    "print(repr(pre_stroke_lvo_cumsum_mt_deaths))"
   ]
  },
  {
   "cell_type": "markdown",
   "id": "80a7a430-4153-4143-a8cd-ed0479c901e8",
   "metadata": {},
   "source": [
    "---"
   ]
  },
  {
   "cell_type": "markdown",
   "id": "52a75f09-9023-465f-ab11-c5ea19704025",
   "metadata": {},
   "source": [
    "## Treatment has no effect mRS distribution: nLVO patients with IVT\n",
    "\n",
    "This mRS distribution is taken from the untreated control group of combined nLVO/LVO data from Lees et al. 2010, and from that we remove the contribution of the LVO patients by using the results from the untreated control group of LVO-only data from Goyal et al. 2016. Weightings for these two untreated control groups (149% Lees and -49% Goyal) are chosen such that the resulting mRS distribution to represent just the nLVO patients matches the P(mRS <= 1, *t = No Effect\"*) of 0.46 (from the control group in Emberson with NIHSS of 0-10). \n",
    "\n",
    "Before the two individual mRS distributions are combined, they are each corrected for the excess deaths due to IVT treatment. For nLVO patients this is 1.10%, and for LVO patients this is 3.41% (see appendix)."
   ]
  },
  {
   "cell_type": "markdown",
   "id": "1d79801b-b6b0-4c98-bcab-270be63d6859",
   "metadata": {},
   "source": [
    "Set up required distributions from data."
   ]
  },
  {
   "cell_type": "code",
   "execution_count": 9,
   "id": "eaa8e157-8cd3-4199-9110-597c5c73ec2a",
   "metadata": {},
   "outputs": [
    {
     "name": "stdout",
     "output_type": "stream",
     "text": [
      "nLVO-LVO combined no treatment effect\n",
      "-------------------------------------\n",
      "mRS bins:\n",
      "array([0.1486, 0.2022, 0.1253, 0.1397, 0.1806, 0.0861, 0.1175])\n",
      "\n",
      "mRS cumulative:\n",
      "array([0.1486, 0.3508, 0.4761, 0.6158, 0.7964, 0.8825, 1.    ])\n",
      "\n",
      "LVO combined no treatment effect\n",
      "-------------------------------------\n",
      "mRS bins:\n",
      "array([0.05 , 0.079, 0.136, 0.164, 0.247, 0.135, 0.189])\n",
      "\n",
      "mRS cumulative:\n",
      "array([0.05 , 0.129, 0.265, 0.429, 0.676, 0.811, 1.   ])\n"
     ]
    }
   ],
   "source": [
    "# Define distribution from Lees et al. 2010\n",
    "no_treatment_nlvo_lvo_bins = np.array(\n",
    "    [0.1486, 0.2022, 0.1253, 0.1397, 0.1806, 0.0861, 0.1175])\n",
    "\n",
    "# Define distribution from Goyal et al. 2016\n",
    "no_treatment_lvo_bins = np.array(\n",
    "    [0.050, 0.079, 0.136, 0.164, 0.247, 0.135, 0.189])\n",
    "\n",
    "# Normalise\n",
    "no_treatment_nlvo_lvo_bins = (\n",
    "    no_treatment_nlvo_lvo_bins / np.sum(no_treatment_nlvo_lvo_bins))\n",
    "\n",
    "no_treatment_lvo_bins = (\n",
    "    no_treatment_lvo_bins / np.sum(no_treatment_lvo_bins))\n",
    "\n",
    "# Make cumulative distribution\n",
    "no_treatment_nlvo_lvo_cumsum = np.cumsum(no_treatment_nlvo_lvo_bins)\n",
    "no_treatment_lvo_cumsum = np.cumsum(no_treatment_lvo_bins)\n",
    "\n",
    "# Show\n",
    "print('nLVO-LVO combined no treatment effect')\n",
    "print('-------------------------------------')\n",
    "print('mRS bins:')\n",
    "print(repr(no_treatment_nlvo_lvo_bins))\n",
    "print()\n",
    "print('mRS cumulative:')\n",
    "print(repr(no_treatment_nlvo_lvo_cumsum))\n",
    "print()\n",
    "print('LVO combined no treatment effect')\n",
    "print('-------------------------------------')\n",
    "print('mRS bins:')\n",
    "print(repr(no_treatment_lvo_bins))\n",
    "print()\n",
    "print('mRS cumulative:')\n",
    "print(repr(no_treatment_lvo_cumsum))"
   ]
  },
  {
   "cell_type": "markdown",
   "id": "3ff9e37f-d63c-4b86-ace9-4c29a98bba01",
   "metadata": {},
   "source": [
    "### Add IVT extra deaths (for Lees untreated control group, combined nLVO/LVO)\n",
    "The distribution is corrected for excess deaths in the IVT-treated group (from Emberson et al., 2014). We use 1.10% for nLVO (using NIHSS 11+ as a surrogate for LVO), and 3.41% for LVO (using NIHSS 11 as a surrogate for LVO)."
   ]
  },
  {
   "cell_type": "code",
   "execution_count": 10,
   "id": "008cc78b-be1e-4860-a5ab-10b7dc143c1b",
   "metadata": {},
   "outputs": [
    {
     "name": "stdout",
     "output_type": "stream",
     "text": [
      "No treatment combined nlvo/lvo with IVT deaths\n",
      "----------------------------------------------\n",
      "mRS bins:\n",
      "array([0.1447, 0.197 , 0.122 , 0.1361, 0.1759, 0.0839, 0.1404])\n",
      "\n",
      "mRS cumulative:\n",
      "array([0.1447, 0.3417, 0.4637, 0.5998, 0.7757, 0.8596, 1.    ])\n"
     ]
    }
   ],
   "source": [
    "# Take a copy of the mRS distribution for Lees untreated control group (n/LVO)\n",
    "no_treatment_nlvo_lvo_bins_ivt_deaths = np.copy(no_treatment_nlvo_lvo_bins)\n",
    "\n",
    "# Adjust deaths to include the 2.29% excess due to haemorrhage from use of IVT\n",
    "excess_deaths = 0.0229\n",
    "no_treatment_nlvo_lvo_bins_ivt_deaths[6] += excess_deaths\n",
    "correction_mrs_0_to_5 = (\n",
    "    (np.sum(no_treatment_nlvo_lvo_bins_ivt_deaths[0:6]) - excess_deaths) / \n",
    "    (np.sum(no_treatment_nlvo_lvo_bins_ivt_deaths[0:6])))\n",
    "no_treatment_nlvo_lvo_bins_ivt_deaths[0:6] *= correction_mrs_0_to_5\n",
    "no_treatment_nlvo_lvo_cumsum_ivt_deaths = (\n",
    "                            np.cumsum(no_treatment_nlvo_lvo_bins_ivt_deaths))\n",
    "\n",
    "# Show\n",
    "print('No treatment combined nlvo/lvo with IVT deaths')\n",
    "print('----------------------------------------------')\n",
    "print('mRS bins:')\n",
    "print(repr(no_treatment_nlvo_lvo_bins_ivt_deaths))\n",
    "print()\n",
    "print('mRS cumulative:')\n",
    "print(repr(no_treatment_nlvo_lvo_cumsum_ivt_deaths))"
   ]
  },
  {
   "cell_type": "markdown",
   "id": "4bc1501b-533e-441d-bdd9-69ed4490fa0c",
   "metadata": {},
   "source": [
    "### Add IVT extra deaths (for Goyal's untreated control group, LVO)\n",
    "The distribution is corrected for 3.41% excess deaths in the IVT-treated group (from Emberson et al., 2014, using NIHSS 11+ as a surrogate for LVO)."
   ]
  },
  {
   "cell_type": "code",
   "execution_count": 11,
   "id": "bc80fb13-84f5-456a-bc43-8bd186fd4526",
   "metadata": {},
   "outputs": [
    {
     "name": "stdout",
     "output_type": "stream",
     "text": [
      "No treatment combined lvo with IVT deaths\n",
      "-----------------------------------------\n",
      "mRS bins:\n",
      "array([0.0479, 0.0757, 0.1303, 0.1571, 0.2366, 0.1293, 0.2231])\n",
      "\n",
      "mRS cumulative:\n",
      "array([0.0479, 0.1236, 0.2539, 0.411 , 0.6476, 0.7769, 1.    ])\n"
     ]
    }
   ],
   "source": [
    "# Take a copy of the mRS distribution for Goyals untreated control group (LVO)\n",
    "no_treatment_lvo_bins_ivt_deaths = np.copy(no_treatment_lvo_bins)\n",
    "\n",
    "# Adjust deaths to include the 3.41% excess due to haemorrhage from use of IVT\n",
    "excess_deaths = 0.0341\n",
    "no_treatment_lvo_bins_ivt_deaths[6] += excess_deaths\n",
    "correction_mrs_0_to_5 = (\n",
    "    (np.sum(no_treatment_lvo_bins_ivt_deaths[0:6]) - excess_deaths) / \n",
    "    (np.sum(no_treatment_lvo_bins_ivt_deaths[0:6])))\n",
    "no_treatment_lvo_bins_ivt_deaths[0:6] *= correction_mrs_0_to_5\n",
    "no_treatment_lvo_cumsum_ivt_deaths = np.cumsum(no_treatment_lvo_bins_ivt_deaths)\n",
    "\n",
    "# Show\n",
    "print('No treatment combined lvo with IVT deaths')\n",
    "print('-----------------------------------------')\n",
    "print('mRS bins:')\n",
    "print(repr(no_treatment_lvo_bins_ivt_deaths))\n",
    "print()\n",
    "print('mRS cumulative:')\n",
    "print(repr(no_treatment_lvo_cumsum_ivt_deaths))"
   ]
  },
  {
   "cell_type": "markdown",
   "id": "076b8716-32a3-4fa0-9933-0f47268c53d8",
   "metadata": {},
   "source": [
    "---"
   ]
  },
  {
   "cell_type": "markdown",
   "id": "b57212ae-ce0e-4670-893f-c21245c43fbe",
   "metadata": {},
   "source": [
    "### Calculate a weighted distribution of LVO and nLVO\n",
    "\n",
    "We want an untreated control group containing nLVO patients to use as our mRS distribution to represent when IVT treatment has no effect on nLVO patients. Using the two untreated control groups (nLVO/LVO from Lees, and LVO from Goyal) calculate the weights needed to remove the effect of the LVO patients from Lees, that also gives a mRS distribution with P(mRS <= 1, *t = No Effect*) = 46% (Emberson et al. 2014)."
   ]
  },
  {
   "cell_type": "markdown",
   "id": "27393c5f-e2fa-4dea-afb3-552eccfad56a",
   "metadata": {},
   "source": [
    "#### Calculate weights without excess IVT deaths\n",
    "This is used to get the mRS distribution for nLVO patients who had no treatment (the control nLVO population). This mRS distribution is not used in this notebook, but is stored to be used in later notebooks."
   ]
  },
  {
   "cell_type": "code",
   "execution_count": 12,
   "id": "0dc60ffa-68f4-4001-aeaa-2c7021f2631b",
   "metadata": {},
   "outputs": [
    {
     "name": "stdout",
     "output_type": "stream",
     "text": [
      "Weights (Lee, Goyal): 1.4923, -0.4923\n"
     ]
    }
   ],
   "source": [
    "# Calculate the difference between the target of P(mRS<=1,t=No Effect)=0.46 for  \n",
    "#   nLVO and the no treatment combined nLVO/LVO P(mRS<=1)\n",
    "target_diff = 0.46 - no_treatment_nlvo_lvo_cumsum[1]\n",
    "\n",
    "# Calculate the known current difference between the no treatment LVO P(mRS<=1) \n",
    "#   and the combined nLVO/LVO P(mRS<=1) \n",
    "current_diff = (no_treatment_lvo_cumsum[1] - no_treatment_nlvo_lvo_cumsum[1])\n",
    "\n",
    "# The weight attributable to LVO is the target difference / the current \n",
    "#   difference\n",
    "weight_lvo = target_diff / current_diff\n",
    "\n",
    "# The weight attributable to nLVO is (1 - the weight attributable to LVO)\n",
    "weight_nlvo_lvo = 1.0 - weight_lvo\n",
    "\n",
    "print(f'Weights (Lee, Goyal): {weight_nlvo_lvo:.4f},', f'{weight_lvo:.4f}')"
   ]
  },
  {
   "cell_type": "markdown",
   "id": "0ad778cb-0504-4dba-9425-5d81ae394dea",
   "metadata": {},
   "source": [
    "Apply the weights"
   ]
  },
  {
   "cell_type": "code",
   "execution_count": 13,
   "id": "576d0ff7-0794-4f54-957a-a6ea3f6a6255",
   "metadata": {},
   "outputs": [
    {
     "name": "stdout",
     "output_type": "stream",
     "text": [
      "nLVO no treatment effect\n",
      "------------------------\n",
      "mRS bins:\n",
      "array([0.1971, 0.2629, 0.12  , 0.1277, 0.1479, 0.062 , 0.0823])\n",
      "\n",
      "mRS cumulative:\n",
      "array([0.1971, 0.46  , 0.58  , 0.7078, 0.8557, 0.9177, 1.    ])\n"
     ]
    }
   ],
   "source": [
    "# Apply weights\n",
    "no_treatment_nlvo_bins = (\n",
    "    (weight_nlvo_lvo * no_treatment_nlvo_lvo_bins) + \n",
    "    (weight_lvo * no_treatment_lvo_bins))\n",
    "\n",
    "# Normalise\n",
    "no_treatment_nlvo_bins = (\n",
    "    no_treatment_nlvo_bins / np.sum(no_treatment_nlvo_bins))\n",
    "\n",
    "# Make cumulative distribution (before correction for deaths)\n",
    "no_treatment_nlvo_cumsum = np.cumsum(no_treatment_nlvo_bins)\n",
    "\n",
    "# Copy, to add trteament deaths\n",
    "no_effect_nlvo_ivt_bins = np.copy(no_treatment_nlvo_bins)\n",
    "\n",
    "# Store\n",
    "all_distributions_bins['no_treatment_nlvo'] = no_effect_nlvo_ivt_bins\n",
    "\n",
    "# Make cumulative distribution\n",
    "no_effect_nlvo_cumsum = np.cumsum(no_effect_nlvo_ivt_bins)\n",
    "all_distributions_cumsum['no_treatment_nlvo'] = no_effect_nlvo_cumsum\n",
    "\n",
    "# Show\n",
    "print('nLVO no treatment effect')\n",
    "print('------------------------')\n",
    "print('mRS bins:')\n",
    "print(repr(no_effect_nlvo_ivt_bins))\n",
    "print()\n",
    "print('mRS cumulative:')\n",
    "print(repr(no_effect_nlvo_cumsum))"
   ]
  },
  {
   "cell_type": "markdown",
   "id": "13aea090-ee31-4e40-b07b-35294006463e",
   "metadata": {},
   "source": [
    "#### Calculate weights with excess IVT deaths\n",
    "\n",
    "This is used to get the mRS distribution for nLVO patients who had IVT treatment at *t = No Effect* (this is for the patient-treatment cohort nLVO-IVT).\n",
    "\n",
    "Note: We use the mRS distributions for no treatment with excess IVT deaths to represent the outcome of having treatment at *t = No Effect*."
   ]
  },
  {
   "cell_type": "code",
   "execution_count": 14,
   "id": "e9bf21f5-92a3-4866-bc65-a3835b474ca8",
   "metadata": {},
   "outputs": [
    {
     "name": "stdout",
     "output_type": "stream",
     "text": [
      "Weights (Lee, Goyal): 1.5424, -0.5424\n"
     ]
    }
   ],
   "source": [
    "# Calculate the difference between the target of P(mRS<=1,t=No Effect)=0.46 for \n",
    "#   nLVO and the no treatment combined nLVO/LVO P(mRS<=1) with excess IVT deaths\n",
    "target_diff = 0.46 - no_treatment_nlvo_lvo_cumsum_ivt_deaths[1]\n",
    "\n",
    "# Calculate the known current difference between the no treatment LVO \n",
    "#   P(mRS<=1,t=No Effect) and the combined nLVO/LVO P(mRS<=1), both with \n",
    "#   excess IVT deaths \n",
    "current_diff = (no_treatment_lvo_cumsum_ivt_deaths[1] - \n",
    "                no_treatment_nlvo_lvo_cumsum_ivt_deaths[1])\n",
    "\n",
    "# The weight attributable to LVO is the target difference / the current \n",
    "#   difference\n",
    "weight_lvo = target_diff / current_diff\n",
    "\n",
    "\n",
    "weight_nlvo_lvo = 1.0 - weight_lvo\n",
    "\n",
    "print(f'Weights (Lee, Goyal): {weight_nlvo_lvo:.4f},', f'{weight_lvo:.4f}')"
   ]
  },
  {
   "cell_type": "markdown",
   "id": "35c02390-07fd-42c9-8df6-eb9003370201",
   "metadata": {},
   "source": [
    "Apply the weights"
   ]
  },
  {
   "cell_type": "code",
   "execution_count": 15,
   "id": "2e014cb5-e65b-4bd2-90d5-82e6b89e8943",
   "metadata": {},
   "outputs": [
    {
     "name": "stdout",
     "output_type": "stream",
     "text": [
      "nLVO no treatment effect_ivt_deaths\n",
      "-----------------------------------\n",
      "mRS bins:\n",
      "array([0.1973, 0.2627, 0.1176, 0.1247, 0.143 , 0.0592, 0.0955])\n",
      "\n",
      "mRS cumulative:\n",
      "array([0.1973, 0.46  , 0.5776, 0.7023, 0.8452, 0.9045, 1.    ])\n"
     ]
    }
   ],
   "source": [
    "# Apply weights\n",
    "no_treatment_nlvo_bins_ivt_deaths = (\n",
    "    (weight_nlvo_lvo * no_treatment_nlvo_lvo_bins_ivt_deaths) + \n",
    "    (weight_lvo * no_treatment_lvo_bins_ivt_deaths))\n",
    "\n",
    "# Normalise\n",
    "no_treatment_nlvo_bins_ivt_deaths = (no_treatment_nlvo_bins_ivt_deaths / \n",
    "                                     np.sum(no_treatment_nlvo_bins_ivt_deaths))\n",
    "\n",
    "# Make cumulative distribution (before correction for deaths)\n",
    "no_treatment_nlvo_cumsum_ivt_deaths = \\\n",
    "    np.cumsum(no_treatment_nlvo_bins_ivt_deaths)\n",
    "\n",
    "# Copy, to add treatment deaths\n",
    "no_effect_nlvo_ivt_bins_ivt_deaths = np.copy(no_treatment_nlvo_bins_ivt_deaths)\n",
    "\n",
    "# Store\n",
    "all_distributions_bins['no_effect_nlvo_ivt_deaths'] = \\\n",
    "    no_effect_nlvo_ivt_bins_ivt_deaths\n",
    "\n",
    "# Make cumulative distribution\n",
    "no_effect_nlvo_cumsum_ivt_deaths = np.cumsum(no_treatment_nlvo_bins_ivt_deaths)\n",
    "all_distributions_cumsum['no_effect_nlvo_ivt_deaths'] = \\\n",
    "    no_effect_nlvo_cumsum_ivt_deaths\n",
    "\n",
    "# Show\n",
    "print('nLVO no treatment effect_ivt_deaths')\n",
    "print('-----------------------------------')\n",
    "print('mRS bins:')\n",
    "print(repr(no_effect_nlvo_ivt_bins_ivt_deaths))\n",
    "print()\n",
    "print('mRS cumulative:')\n",
    "print(repr(no_effect_nlvo_cumsum_ivt_deaths))"
   ]
  },
  {
   "cell_type": "markdown",
   "id": "a32e540c-2715-41e2-83af-3bdea53614b1",
   "metadata": {},
   "source": [
    "---"
   ]
  },
  {
   "cell_type": "markdown",
   "id": "3f128e17-3b47-4d31-895e-448b656c1d71",
   "metadata": {},
   "source": [
    "### mRS distribution at *t = 0* for nLVO patients with IVT\n",
    "\n",
    "We now have the two mRS distributions (fully recovered, and no effect) to calculate the mRS distribution for nLVO patients recieving IVT at *t = 0*.\n",
    "\n",
    "The weights used to combine these two mRS distribution (61% fully recovered & 39% no effect) were informed by data from Emberson et al. 2014, and found in order to match the P(mRS <= 1, *t = 0*) of 0.63. 63% is estimated from Emberson et al. 2014, where 46% of untreated patients with NIHSS 0-10 had mRS 0-1, and the odds ratio of mRS 0-1 extrapolates back to 2.0 at *t = 0*.\n",
    "\n",
    "Note 1: We use the mRS distributions for no treatment adjusted with excess IVT deaths to represent the outcome of having treatment at *t = No Effect*.\\\n",
    "Note 2: We use the mRS distributions for pre-stroke adjusted with excess IVT deaths to represent the outcome of having a full recovery with treatment at *t = 0*."
   ]
  },
  {
   "cell_type": "markdown",
   "id": "822d321c-0648-4bd9-b42c-389c031db23e",
   "metadata": {},
   "source": [
    "Calculate weights."
   ]
  },
  {
   "cell_type": "code",
   "execution_count": 16,
   "id": "2f93ccc9-d34b-4861-81ec-40f64a9bc688",
   "metadata": {},
   "outputs": [
    {
     "name": "stdout",
     "output_type": "stream",
     "text": [
      "Weights (pre-stroke, no treatment): 0.6132, 0.3868\n"
     ]
    }
   ],
   "source": [
    "# Calculate the difference between the target of P(mRS<=1,t=0)=0.63 for nLVO\n",
    "#   and the no treatment combined nLVO/LVO P(mRS<=1) with excess IVT deaths\n",
    "target_diff  = 0.63 - no_treatment_nlvo_cumsum_ivt_deaths[1]\n",
    "\n",
    "# Calculate the known current difference between pre-stroke nLVO P(mRS<=1) and  \n",
    "#   the no treatment nLVO P(mRS<=1), both with excess IVT deaths \n",
    "current_diff = (pre_stroke_nlvo_cumsum_ivt_deaths[1] - \n",
    "                no_treatment_nlvo_cumsum_ivt_deaths[1])\n",
    "\n",
    "# The weight attributable to pre-stroke is the target difference / the current \n",
    "#   difference\n",
    "weight_pre_stroke_nlvo = target_diff / current_diff\n",
    "\n",
    "# The weight attributable to no treatment is (1 - the weight attributable to \n",
    "#   pre-stroke)\n",
    "weight_no_treatment_nlvo = 1.0 - weight_pre_stroke_nlvo\n",
    "\n",
    "print(f'Weights (pre-stroke, no treatment): {weight_pre_stroke_nlvo:.4f},',\n",
    "      f'{weight_no_treatment_nlvo:.4f}')"
   ]
  },
  {
   "cell_type": "markdown",
   "id": "37f7b912-7c80-4631-ab2a-44fa23465c56",
   "metadata": {},
   "source": [
    "Apply the weights."
   ]
  },
  {
   "cell_type": "code",
   "execution_count": 17,
   "id": "5a86f353-401b-471d-8c9f-1c8a89513977",
   "metadata": {},
   "outputs": [
    {
     "name": "stdout",
     "output_type": "stream",
     "text": [
      "nLVO IVT t0 treatment effect\n",
      "----------------------------\n",
      "mRS bins:\n",
      "array([0.4298, 0.2002, 0.1082, 0.1102, 0.0808, 0.0271, 0.0437])\n",
      "\n",
      "mRS cumulative:\n",
      "array([0.4298, 0.63  , 0.7382, 0.8484, 0.9292, 0.9563, 1.    ])\n"
     ]
    }
   ],
   "source": [
    "# Apply weights\n",
    "t0_treatment_nlvo_ivt_bins = (\n",
    "    (weight_pre_stroke_nlvo * pre_stroke_nlvo_bins_ivt_deaths) +\n",
    "    (weight_no_treatment_nlvo * no_treatment_nlvo_bins_ivt_deaths))\n",
    "\n",
    "# Normalise\n",
    "t0_treatment_nlvo_ivt_bins = (\n",
    "    t0_treatment_nlvo_ivt_bins / np.sum(t0_treatment_nlvo_ivt_bins))\n",
    "\n",
    "# Store\n",
    "all_distributions_bins['t0_treatment_nlvo_ivt'] = t0_treatment_nlvo_ivt_bins\n",
    "\n",
    "# Make cumulative distribution\n",
    "t0_treatment_nlvo_ivt_cumsum = np.cumsum(t0_treatment_nlvo_ivt_bins)\n",
    "all_distributions_cumsum['t0_treatment_nlvo_ivt'] = t0_treatment_nlvo_ivt_cumsum\n",
    "\n",
    "# Show\n",
    "print('nLVO IVT t0 treatment effect')\n",
    "print('----------------------------')\n",
    "print('mRS bins:')\n",
    "print(repr(t0_treatment_nlvo_ivt_bins))\n",
    "print()\n",
    "print('mRS cumulative:')\n",
    "print(repr(t0_treatment_nlvo_ivt_cumsum))"
   ]
  },
  {
   "cell_type": "markdown",
   "id": "b5d0b0bb-ac79-4f31-9bec-37e4120245c1",
   "metadata": {},
   "source": [
    "---"
   ]
  },
  {
   "cell_type": "markdown",
   "id": "eeb4b28b-5993-42c7-adc8-ab4ad34c4543",
   "metadata": {},
   "source": [
    "## Treatment has no effect mRS distribution: LVO patients with IVT or MT\n",
    "\n",
    "For *LVO patients* the *no effect mRS distribution* is taken from the untreated control population from Goyal et al. 2016.  \n",
    "\n",
    "This mRS distribution is then corrected for the excess deaths due to treatment.  We use 3.41% for LVO patients with IVT (Emberson et al., 2014), and 3.6% for MT (Goyal et al., 2016). No correction for IVT-related deaths is needed when LVO is treated with MT as the Goyal control group includes use of IVT."
   ]
  },
  {
   "cell_type": "code",
   "execution_count": 18,
   "id": "db661725-2b66-4bee-94d1-94632cbd7645",
   "metadata": {},
   "outputs": [
    {
     "name": "stdout",
     "output_type": "stream",
     "text": [
      "LVO no treatment effect\n",
      "------------------------\n",
      "mRS bins:\n",
      "array([0.05 , 0.079, 0.136, 0.164, 0.247, 0.135, 0.189])\n",
      "\n",
      "mRS cumulative:\n",
      "array([0.05 , 0.129, 0.265, 0.429, 0.676, 0.811, 1.   ])\n"
     ]
    }
   ],
   "source": [
    "# Store (mRS distribution for LVO no treatment, Goyal. Calculated in cell 8)\n",
    "all_distributions_bins['no_treatment_lvo'] = no_treatment_lvo_bins\n",
    "all_distributions_cumsum['no_treatment_lvo'] = no_treatment_lvo_cumsum\n",
    "\n",
    "# Show\n",
    "print('LVO no treatment effect')\n",
    "print('------------------------')\n",
    "print('mRS bins:')\n",
    "print(repr(no_treatment_lvo_bins))\n",
    "print()\n",
    "print('mRS cumulative:')\n",
    "print(repr(no_treatment_lvo_cumsum))"
   ]
  },
  {
   "cell_type": "markdown",
   "id": "11df1cd4-84c1-4787-8bbd-4427472da0eb",
   "metadata": {},
   "source": [
    "### Add IVT extra deaths (for Goyals untreated control group, LVO)\n",
    "The distribution is corrected for 3.41% excess deaths in the IVT-treated group (from Emberson et al., 2014, using NIHSS 11+ as a surrogate for LVO)."
   ]
  },
  {
   "cell_type": "code",
   "execution_count": 19,
   "id": "24acf49f-323e-4a10-a034-6b95b8a4f7e2",
   "metadata": {},
   "outputs": [
    {
     "name": "stdout",
     "output_type": "stream",
     "text": [
      "LVO no treatment effect IVT deaths\n",
      "----------------------------------\n",
      "mRS bins:\n",
      "array([0.0479, 0.0757, 0.1303, 0.1571, 0.2366, 0.1293, 0.2231])\n",
      "\n",
      "mRS cumulative:\n",
      "array([0.0479, 0.1236, 0.2539, 0.411 , 0.6476, 0.7769, 1.    ])\n"
     ]
    }
   ],
   "source": [
    "# Store (mRS distribution for LVO no treatment with IVT excess deaths, Goyal)\n",
    "all_distributions_bins['no_effect_lvo_ivt_deaths'] = \\\n",
    "    no_treatment_lvo_bins_ivt_deaths\n",
    "all_distributions_cumsum['no_effect_lvo_ivt_deaths'] = \\\n",
    "    no_treatment_lvo_cumsum_ivt_deaths\n",
    "\n",
    "# Show\n",
    "print('LVO no treatment effect IVT deaths')\n",
    "print('----------------------------------')\n",
    "print('mRS bins:')\n",
    "print(repr(no_treatment_lvo_bins_ivt_deaths))\n",
    "print()\n",
    "print('mRS cumulative:')\n",
    "print(repr(no_treatment_lvo_cumsum_ivt_deaths))"
   ]
  },
  {
   "cell_type": "markdown",
   "id": "61b33f0b-9a21-4e38-9c4b-c5ecbd6c559e",
   "metadata": {},
   "source": [
    "### Add MT extra deaths (for Goyals untreated control group, LVO)\n",
    "The distribution is corrected for 3.6% excess deaths ((a 3.6% percentage point reduction in deaths) in the MT-treated group. This is the adjustment needed to give 15.3% deaths when treated at 285 minutes (Goyal et al., 2016). These already include excess deaths from any use of IVT first."
   ]
  },
  {
   "cell_type": "code",
   "execution_count": 20,
   "id": "8323f1d4-27d4-4deb-b9f1-dc20419b14e0",
   "metadata": {},
   "outputs": [
    {
     "name": "stdout",
     "output_type": "stream",
     "text": [
      "LVO no treatment effect MT deaths\n",
      "----------------------------------\n",
      "mRS bins:\n",
      "array([0.0478, 0.0755, 0.13  , 0.1567, 0.236 , 0.129 , 0.225 ])\n",
      "\n",
      "mRS cumulative:\n",
      "array([0.0478, 0.1233, 0.2532, 0.41  , 0.646 , 0.775 , 1.    ])\n"
     ]
    }
   ],
   "source": [
    "# Take copy of mRS distribution for LVO patients with no treatment\n",
    "no_treatment_lvo_bins_mt_deaths = np.copy(no_treatment_lvo_bins)\n",
    "\n",
    "# Adjust deaths to include give 15.3% @ 285 min treatment (Goyal et al., 2016)\n",
    "excess_deaths = 0.036\n",
    "no_treatment_lvo_bins_mt_deaths[6] += excess_deaths\n",
    "correction_mrs_0_to_5 = (\n",
    "    (np.sum(no_treatment_lvo_bins_mt_deaths[0:6]) - excess_deaths) / \n",
    "    (np.sum(no_treatment_lvo_bins_mt_deaths[0:6])))\n",
    "no_treatment_lvo_bins_mt_deaths[0:6] *= correction_mrs_0_to_5\n",
    "no_treatment_lvo_cumsum_mt_deaths = np.cumsum(no_treatment_lvo_bins_mt_deaths)\n",
    "\n",
    "# Store\n",
    "all_distributions_bins['no_effect_lvo_mt_deaths'] = \\\n",
    "    no_treatment_lvo_bins_mt_deaths\n",
    "all_distributions_cumsum['no_effect_lvo_mt_deaths'] = \\\n",
    "    no_treatment_lvo_cumsum_mt_deaths\n",
    "\n",
    "# Show\n",
    "print('LVO no treatment effect MT deaths')\n",
    "print('----------------------------------')\n",
    "print('mRS bins:')\n",
    "print(repr(no_treatment_lvo_bins_mt_deaths))\n",
    "print()\n",
    "print('mRS cumulative:')\n",
    "print(repr(no_treatment_lvo_cumsum_mt_deaths))"
   ]
  },
  {
   "cell_type": "markdown",
   "id": "c2c8042c-5a2b-4c05-bc7c-793459a823fe",
   "metadata": {},
   "source": [
    "---"
   ]
  },
  {
   "cell_type": "markdown",
   "id": "0848f206-b0f8-4ee0-943c-c01bab639c58",
   "metadata": {},
   "source": [
    "### mRS distribution at *t = 0* for LVO patients with IVT\n",
    "\n",
    "We now have the two mRS distributions (fully recovered, and no effect) to calculate the mRS distribution for LVO patients recieving IVT at *t = 0*.\n",
    "\n",
    "The weights used to combine the two mRS distribution (18% fully recovered & 82% no effect) were informed by data from Emberson et al. 2014, and found in order to match the P(mRS <= 1, t = 0) of 0.20, which is set as a target by extrapolating the control group mRS for patients with NIHSS 11+ back to a predicted odds ratio of mRS 0-1 of 2.0 at *t = 0*.\n",
    "\n",
    "Calculate the weights needed to give a distribution with P(mRS <= 1, t = 0) = 20%.\n",
    "\n",
    "Note 1: We use the mRS distributions for no treatment adjusted with excess IVT deaths to represent the outcome of having treatment at *t = No Effect*.\\\n",
    "Note 2: We use the mRS distributions for pre-stroke adjusted with excess IVT deaths to represent the outcome of having a full recovery with treatment at *t = 0*."
   ]
  },
  {
   "cell_type": "code",
   "execution_count": 21,
   "id": "dd7e3d94-b203-4792-bdc7-c7075cc123ab",
   "metadata": {},
   "outputs": [
    {
     "name": "stdout",
     "output_type": "stream",
     "text": [
      "Weights (pre-stroke, no_treatment): 0.1828, 0.8172\n"
     ]
    }
   ],
   "source": [
    "# Calculate the difference between the target of P(mRS<=1)=0.20 for LVO and the \n",
    "#   pre-stroke LVO P(mRS<=1) with excess IVT deaths\n",
    "target_diff = 0.20 - pre_stroke_lvo_cumsum_ivt_deaths[1]\n",
    "\n",
    "# Calculate the known current difference between the no treatment LVO P(mRS<=1) \n",
    "#   and the pre-stroke LVO P(mRS<=1), both with excess IVT deaths\n",
    "current_diff = (no_treatment_lvo_cumsum_ivt_deaths[1] - \n",
    "                pre_stroke_lvo_cumsum_ivt_deaths[1])\n",
    "\n",
    "# The weight attributable to no treatment LVO is the target difference / the \n",
    "#   current difference\n",
    "weight_no_treatment_lvo = target_diff / current_diff\n",
    "\n",
    "# The weight attributable to pre-stroke LVO is (1 - the weight attributable to\n",
    "#   no treatment LVO\n",
    "weight_pre_stroke_lvo = 1.0 - weight_no_treatment_lvo\n",
    "\n",
    "print(\n",
    "    f'Weights (pre-stroke, no_treatment): {weight_pre_stroke_lvo:.4f},', \\\n",
    "    f'{weight_no_treatment_lvo:.4f}')"
   ]
  },
  {
   "cell_type": "markdown",
   "id": "5d348ac5-f97c-4ca8-a989-aa16e2d4c793",
   "metadata": {},
   "source": [
    "Apply the weights."
   ]
  },
  {
   "cell_type": "code",
   "execution_count": 22,
   "id": "54482650-e163-433c-a613-9bd85daeba33",
   "metadata": {},
   "outputs": [
    {
     "name": "stdout",
     "output_type": "stream",
     "text": [
      "LVO t0 IVT treatment effect\n",
      "---------------------------\n",
      "mRS bins:\n",
      "array([0.1129, 0.0871, 0.1274, 0.1574, 0.2135, 0.1132, 0.1886])\n",
      "\n",
      "mRS cumulative:\n",
      "array([0.1129, 0.2   , 0.3274, 0.4848, 0.6982, 0.8114, 1.    ])\n"
     ]
    }
   ],
   "source": [
    "# Apply weights\n",
    "t0_treatment_lvo_ivt_bins = (\n",
    "    (weight_pre_stroke_lvo * pre_stroke_lvo_bins_ivt_deaths) +\n",
    "    (weight_no_treatment_lvo * no_treatment_lvo_bins_ivt_deaths))\n",
    "\n",
    "# Normalise\n",
    "t0_treatment_lvo_ivt_bins = (\n",
    "    t0_treatment_lvo_ivt_bins / np.sum(t0_treatment_lvo_ivt_bins))\n",
    "\n",
    "all_distributions_bins['t0_treatment_lvo_ivt'] = t0_treatment_lvo_ivt_bins\n",
    "\n",
    "# Make cumulative distribution\n",
    "t0_treatment_lvo_ivt_cumsum = np.cumsum(t0_treatment_lvo_ivt_bins)\n",
    "all_distributions_cumsum['t0_treatment_lvo_ivt'] = t0_treatment_lvo_ivt_cumsum\n",
    "\n",
    "# Show\n",
    "print('LVO t0 IVT treatment effect')\n",
    "print('---------------------------')\n",
    "print('mRS bins:')\n",
    "print(repr(t0_treatment_lvo_ivt_bins))\n",
    "print()\n",
    "print('mRS cumulative:')\n",
    "print(repr(t0_treatment_lvo_ivt_cumsum))"
   ]
  },
  {
   "cell_type": "markdown",
   "id": "6a520451-eb30-4ac6-9580-39b84bae211a",
   "metadata": {},
   "source": [
    "---"
   ]
  },
  {
   "cell_type": "markdown",
   "id": "64f5461d-d9e1-455f-966f-bf4d5fcb2ca8",
   "metadata": {},
   "source": [
    "## mRS distribution at *t = 0* for LVO patients with MT\n",
    "\n",
    "We now have the two mRS distributions (fully recovered, and no effect) to calculate the mRS distribution for LVO patients recieving MT at *t = 0*.\n",
    "\n",
    "The weights used to combine the two mRS distribution (75% fully recovered & 25% no effect) are taken from Hui et al. 2020, who reported 75% successful recanalisation with thrombectomy. We assume that recanalisation at *t = 0* restores all pre-stroke function*.\n",
    "\n",
    "*Extrapolating results of good outcome, when recanalisation has been achieved with thrombectomy, from Fransen et al. 2016 back to t = 0, assuming 75% recanalisation, gives the same proportion of patients with mRS <= 2 as the pre-stroke mRS in the SSNAP data (therefore this extrapolation would suggest full recovery of all health with thrombectomy theoretically carried out at t = 0)."
   ]
  },
  {
   "cell_type": "code",
   "execution_count": 23,
   "id": "b0e7a82b-9439-4c45-a79c-327307a16981",
   "metadata": {},
   "outputs": [
    {
     "name": "stdout",
     "output_type": "stream",
     "text": [
      "Weights (pre-stroke, no treatment): 0.7500,0.2500\n"
     ]
    }
   ],
   "source": [
    "weight_pre_stroke_lvo = 0.75\n",
    "weight_no_treatment_lvo = 1.0 - weight_pre_stroke_lvo\n",
    "\n",
    "print(f'Weights (pre-stroke, no treatment): {weight_pre_stroke_lvo:.4f},' \\\n",
    "      f'{weight_no_treatment_lvo:.4f}')"
   ]
  },
  {
   "cell_type": "markdown",
   "id": "fcf91b3f-73f2-46fd-ac0e-35e24e91321c",
   "metadata": {},
   "source": [
    "Apply the weights"
   ]
  },
  {
   "cell_type": "code",
   "execution_count": 24,
   "id": "4d7e726f-992e-4dd7-bc25-17674a5c14b4",
   "metadata": {},
   "outputs": [
    {
     "name": "stdout",
     "output_type": "stream",
     "text": [
      "LVO MT t0 treatment effect\n",
      "--------------------------\n",
      "mRS bins:\n",
      "array([0.3141, 0.1222, 0.1181, 0.1579, 0.1413, 0.0631, 0.0832])\n",
      "\n",
      "mRS cumulative:\n",
      "array([0.3141, 0.4363, 0.5544, 0.7123, 0.8536, 0.9167, 1.    ])\n"
     ]
    }
   ],
   "source": [
    "# Apply weights\n",
    "t0_treatment_lvo_mt_bins = (\n",
    "    (weight_pre_stroke_lvo * pre_stroke_lvo_bins_mt_deaths) +\n",
    "    (weight_no_treatment_lvo * no_treatment_lvo_bins_mt_deaths))\n",
    "\n",
    "# Normalise\n",
    "t0_treatment_lvo_mt_bins = (\n",
    "    t0_treatment_lvo_mt_bins / np.sum(t0_treatment_lvo_mt_bins))\n",
    "all_distributions_bins['t0_treatment_lvo_mt'] = t0_treatment_lvo_mt_bins\n",
    "\n",
    "# Make cumulative distribution\n",
    "t0_treatment_lvo_mt_cumsum = np.cumsum(t0_treatment_lvo_mt_bins)\n",
    "all_distributions_cumsum['t0_treatment_lvo_mt'] = t0_treatment_lvo_mt_cumsum\n",
    "\n",
    "# Show\n",
    "print('LVO MT t0 treatment effect')\n",
    "print('--------------------------')\n",
    "print('mRS bins:')\n",
    "print(repr(t0_treatment_lvo_mt_bins))\n",
    "print()\n",
    "print('mRS cumulative:')\n",
    "print(repr(t0_treatment_lvo_mt_cumsum))"
   ]
  },
  {
   "cell_type": "markdown",
   "id": "7461288f-754a-43ba-a74d-2f7501a34e0c",
   "metadata": {},
   "source": [
    "---"
   ]
  },
  {
   "cell_type": "markdown",
   "id": "23019821-a140-4387-8e72-6766b345544b",
   "metadata": {},
   "source": [
    "## Show all results"
   ]
  },
  {
   "cell_type": "code",
   "execution_count": 25,
   "id": "e5ca1f30-4aec-44f0-82de-796dd4728f6a",
   "metadata": {},
   "outputs": [
    {
     "data": {
      "text/html": [
       "<div>\n",
       "<style scoped>\n",
       "    .dataframe tbody tr th:only-of-type {\n",
       "        vertical-align: middle;\n",
       "    }\n",
       "\n",
       "    .dataframe tbody tr th {\n",
       "        vertical-align: top;\n",
       "    }\n",
       "\n",
       "    .dataframe thead th {\n",
       "        text-align: right;\n",
       "    }\n",
       "</style>\n",
       "<table border=\"1\" class=\"dataframe\">\n",
       "  <thead>\n",
       "    <tr style=\"text-align: right;\">\n",
       "      <th></th>\n",
       "      <th>0</th>\n",
       "      <th>1</th>\n",
       "      <th>2</th>\n",
       "      <th>3</th>\n",
       "      <th>4</th>\n",
       "      <th>5</th>\n",
       "      <th>6</th>\n",
       "    </tr>\n",
       "  </thead>\n",
       "  <tbody>\n",
       "    <tr>\n",
       "      <th>pre_stroke_nlvo</th>\n",
       "      <td>0.5829</td>\n",
       "      <td>0.1625</td>\n",
       "      <td>0.1034</td>\n",
       "      <td>0.1022</td>\n",
       "      <td>0.0420</td>\n",
       "      <td>0.0069</td>\n",
       "      <td>0.0000</td>\n",
       "    </tr>\n",
       "    <tr>\n",
       "      <th>pre_stroke_nlvo_ivt_deaths</th>\n",
       "      <td>0.5765</td>\n",
       "      <td>0.1608</td>\n",
       "      <td>0.1023</td>\n",
       "      <td>0.1011</td>\n",
       "      <td>0.0415</td>\n",
       "      <td>0.0069</td>\n",
       "      <td>0.0110</td>\n",
       "    </tr>\n",
       "    <tr>\n",
       "      <th>pre_stroke_lvo</th>\n",
       "      <td>0.4179</td>\n",
       "      <td>0.1430</td>\n",
       "      <td>0.1184</td>\n",
       "      <td>0.1642</td>\n",
       "      <td>0.1138</td>\n",
       "      <td>0.0427</td>\n",
       "      <td>0.0000</td>\n",
       "    </tr>\n",
       "    <tr>\n",
       "      <th>pre_stroke_lvo_ivt_deaths</th>\n",
       "      <td>0.4036</td>\n",
       "      <td>0.1381</td>\n",
       "      <td>0.1144</td>\n",
       "      <td>0.1586</td>\n",
       "      <td>0.1099</td>\n",
       "      <td>0.0413</td>\n",
       "      <td>0.0341</td>\n",
       "    </tr>\n",
       "    <tr>\n",
       "      <th>pre_stroke_lvo_mt_deaths</th>\n",
       "      <td>0.4028</td>\n",
       "      <td>0.1378</td>\n",
       "      <td>0.1142</td>\n",
       "      <td>0.1583</td>\n",
       "      <td>0.1097</td>\n",
       "      <td>0.0412</td>\n",
       "      <td>0.0360</td>\n",
       "    </tr>\n",
       "    <tr>\n",
       "      <th>no_treatment_nlvo</th>\n",
       "      <td>0.1971</td>\n",
       "      <td>0.2629</td>\n",
       "      <td>0.1200</td>\n",
       "      <td>0.1277</td>\n",
       "      <td>0.1479</td>\n",
       "      <td>0.0620</td>\n",
       "      <td>0.0823</td>\n",
       "    </tr>\n",
       "    <tr>\n",
       "      <th>no_effect_nlvo_ivt_deaths</th>\n",
       "      <td>0.1973</td>\n",
       "      <td>0.2627</td>\n",
       "      <td>0.1176</td>\n",
       "      <td>0.1247</td>\n",
       "      <td>0.1430</td>\n",
       "      <td>0.0592</td>\n",
       "      <td>0.0955</td>\n",
       "    </tr>\n",
       "    <tr>\n",
       "      <th>t0_treatment_nlvo_ivt</th>\n",
       "      <td>0.4298</td>\n",
       "      <td>0.2002</td>\n",
       "      <td>0.1082</td>\n",
       "      <td>0.1102</td>\n",
       "      <td>0.0808</td>\n",
       "      <td>0.0271</td>\n",
       "      <td>0.0437</td>\n",
       "    </tr>\n",
       "    <tr>\n",
       "      <th>no_treatment_lvo</th>\n",
       "      <td>0.0500</td>\n",
       "      <td>0.0790</td>\n",
       "      <td>0.1360</td>\n",
       "      <td>0.1640</td>\n",
       "      <td>0.2470</td>\n",
       "      <td>0.1350</td>\n",
       "      <td>0.1890</td>\n",
       "    </tr>\n",
       "    <tr>\n",
       "      <th>no_effect_lvo_ivt_deaths</th>\n",
       "      <td>0.0479</td>\n",
       "      <td>0.0757</td>\n",
       "      <td>0.1303</td>\n",
       "      <td>0.1571</td>\n",
       "      <td>0.2366</td>\n",
       "      <td>0.1293</td>\n",
       "      <td>0.2231</td>\n",
       "    </tr>\n",
       "    <tr>\n",
       "      <th>no_effect_lvo_mt_deaths</th>\n",
       "      <td>0.0478</td>\n",
       "      <td>0.0755</td>\n",
       "      <td>0.1300</td>\n",
       "      <td>0.1567</td>\n",
       "      <td>0.2360</td>\n",
       "      <td>0.1290</td>\n",
       "      <td>0.2250</td>\n",
       "    </tr>\n",
       "    <tr>\n",
       "      <th>t0_treatment_lvo_ivt</th>\n",
       "      <td>0.1129</td>\n",
       "      <td>0.0871</td>\n",
       "      <td>0.1274</td>\n",
       "      <td>0.1574</td>\n",
       "      <td>0.2135</td>\n",
       "      <td>0.1132</td>\n",
       "      <td>0.1886</td>\n",
       "    </tr>\n",
       "    <tr>\n",
       "      <th>t0_treatment_lvo_mt</th>\n",
       "      <td>0.3141</td>\n",
       "      <td>0.1222</td>\n",
       "      <td>0.1181</td>\n",
       "      <td>0.1579</td>\n",
       "      <td>0.1413</td>\n",
       "      <td>0.0631</td>\n",
       "      <td>0.0832</td>\n",
       "    </tr>\n",
       "  </tbody>\n",
       "</table>\n",
       "</div>"
      ],
      "text/plain": [
       "                                 0       1       2       3       4       5  \\\n",
       "pre_stroke_nlvo             0.5829  0.1625  0.1034  0.1022  0.0420  0.0069   \n",
       "pre_stroke_nlvo_ivt_deaths  0.5765  0.1608  0.1023  0.1011  0.0415  0.0069   \n",
       "pre_stroke_lvo              0.4179  0.1430  0.1184  0.1642  0.1138  0.0427   \n",
       "pre_stroke_lvo_ivt_deaths   0.4036  0.1381  0.1144  0.1586  0.1099  0.0413   \n",
       "pre_stroke_lvo_mt_deaths    0.4028  0.1378  0.1142  0.1583  0.1097  0.0412   \n",
       "no_treatment_nlvo           0.1971  0.2629  0.1200  0.1277  0.1479  0.0620   \n",
       "no_effect_nlvo_ivt_deaths   0.1973  0.2627  0.1176  0.1247  0.1430  0.0592   \n",
       "t0_treatment_nlvo_ivt       0.4298  0.2002  0.1082  0.1102  0.0808  0.0271   \n",
       "no_treatment_lvo            0.0500  0.0790  0.1360  0.1640  0.2470  0.1350   \n",
       "no_effect_lvo_ivt_deaths    0.0479  0.0757  0.1303  0.1571  0.2366  0.1293   \n",
       "no_effect_lvo_mt_deaths     0.0478  0.0755  0.1300  0.1567  0.2360  0.1290   \n",
       "t0_treatment_lvo_ivt        0.1129  0.0871  0.1274  0.1574  0.2135  0.1132   \n",
       "t0_treatment_lvo_mt         0.3141  0.1222  0.1181  0.1579  0.1413  0.0631   \n",
       "\n",
       "                                 6  \n",
       "pre_stroke_nlvo             0.0000  \n",
       "pre_stroke_nlvo_ivt_deaths  0.0110  \n",
       "pre_stroke_lvo              0.0000  \n",
       "pre_stroke_lvo_ivt_deaths   0.0341  \n",
       "pre_stroke_lvo_mt_deaths    0.0360  \n",
       "no_treatment_nlvo           0.0823  \n",
       "no_effect_nlvo_ivt_deaths   0.0955  \n",
       "t0_treatment_nlvo_ivt       0.0437  \n",
       "no_treatment_lvo            0.1890  \n",
       "no_effect_lvo_ivt_deaths    0.2231  \n",
       "no_effect_lvo_mt_deaths     0.2250  \n",
       "t0_treatment_lvo_ivt        0.1886  \n",
       "t0_treatment_lvo_mt         0.0832  "
      ]
     },
     "execution_count": 25,
     "metadata": {},
     "output_type": "execute_result"
    }
   ],
   "source": [
    "all_distributions_bins_df = pd.DataFrame(all_distributions_bins).T\n",
    "all_distributions_bins_df.to_csv(\n",
    "    './outcome_utilities/mrs_dist_probs_bins.csv', index_label='Stroke type')\n",
    "all_distributions_bins_df"
   ]
  },
  {
   "cell_type": "code",
   "execution_count": 26,
   "id": "7aeb7272-d003-4605-bee8-e59dd5df5a1f",
   "metadata": {},
   "outputs": [
    {
     "data": {
      "text/html": [
       "<div>\n",
       "<style scoped>\n",
       "    .dataframe tbody tr th:only-of-type {\n",
       "        vertical-align: middle;\n",
       "    }\n",
       "\n",
       "    .dataframe tbody tr th {\n",
       "        vertical-align: top;\n",
       "    }\n",
       "\n",
       "    .dataframe thead th {\n",
       "        text-align: right;\n",
       "    }\n",
       "</style>\n",
       "<table border=\"1\" class=\"dataframe\">\n",
       "  <thead>\n",
       "    <tr style=\"text-align: right;\">\n",
       "      <th></th>\n",
       "      <th>0</th>\n",
       "      <th>1</th>\n",
       "      <th>2</th>\n",
       "      <th>3</th>\n",
       "      <th>4</th>\n",
       "      <th>5</th>\n",
       "      <th>6</th>\n",
       "    </tr>\n",
       "  </thead>\n",
       "  <tbody>\n",
       "    <tr>\n",
       "      <th>pre_stroke_nlvo</th>\n",
       "      <td>0.5829</td>\n",
       "      <td>0.7454</td>\n",
       "      <td>0.8489</td>\n",
       "      <td>0.9511</td>\n",
       "      <td>0.9931</td>\n",
       "      <td>1.0000</td>\n",
       "      <td>1.0</td>\n",
       "    </tr>\n",
       "    <tr>\n",
       "      <th>pre_stroke_nlvo_ivt_deaths</th>\n",
       "      <td>0.5765</td>\n",
       "      <td>0.7372</td>\n",
       "      <td>0.8395</td>\n",
       "      <td>0.9406</td>\n",
       "      <td>0.9821</td>\n",
       "      <td>0.9890</td>\n",
       "      <td>1.0</td>\n",
       "    </tr>\n",
       "    <tr>\n",
       "      <th>pre_stroke_lvo</th>\n",
       "      <td>0.4179</td>\n",
       "      <td>0.5609</td>\n",
       "      <td>0.6793</td>\n",
       "      <td>0.8435</td>\n",
       "      <td>0.9573</td>\n",
       "      <td>1.0000</td>\n",
       "      <td>1.0</td>\n",
       "    </tr>\n",
       "    <tr>\n",
       "      <th>pre_stroke_lvo_ivt_deaths</th>\n",
       "      <td>0.4036</td>\n",
       "      <td>0.5417</td>\n",
       "      <td>0.6561</td>\n",
       "      <td>0.8147</td>\n",
       "      <td>0.9246</td>\n",
       "      <td>0.9659</td>\n",
       "      <td>1.0</td>\n",
       "    </tr>\n",
       "    <tr>\n",
       "      <th>pre_stroke_lvo_mt_deaths</th>\n",
       "      <td>0.4028</td>\n",
       "      <td>0.5407</td>\n",
       "      <td>0.6548</td>\n",
       "      <td>0.8131</td>\n",
       "      <td>0.9228</td>\n",
       "      <td>0.9640</td>\n",
       "      <td>1.0</td>\n",
       "    </tr>\n",
       "    <tr>\n",
       "      <th>no_treatment_nlvo</th>\n",
       "      <td>0.1971</td>\n",
       "      <td>0.4600</td>\n",
       "      <td>0.5800</td>\n",
       "      <td>0.7078</td>\n",
       "      <td>0.8557</td>\n",
       "      <td>0.9177</td>\n",
       "      <td>1.0</td>\n",
       "    </tr>\n",
       "    <tr>\n",
       "      <th>no_effect_nlvo_ivt_deaths</th>\n",
       "      <td>0.1973</td>\n",
       "      <td>0.4600</td>\n",
       "      <td>0.5776</td>\n",
       "      <td>0.7023</td>\n",
       "      <td>0.8452</td>\n",
       "      <td>0.9045</td>\n",
       "      <td>1.0</td>\n",
       "    </tr>\n",
       "    <tr>\n",
       "      <th>t0_treatment_nlvo_ivt</th>\n",
       "      <td>0.4298</td>\n",
       "      <td>0.6300</td>\n",
       "      <td>0.7382</td>\n",
       "      <td>0.8484</td>\n",
       "      <td>0.9292</td>\n",
       "      <td>0.9563</td>\n",
       "      <td>1.0</td>\n",
       "    </tr>\n",
       "    <tr>\n",
       "      <th>no_treatment_lvo</th>\n",
       "      <td>0.0500</td>\n",
       "      <td>0.1290</td>\n",
       "      <td>0.2650</td>\n",
       "      <td>0.4290</td>\n",
       "      <td>0.6760</td>\n",
       "      <td>0.8110</td>\n",
       "      <td>1.0</td>\n",
       "    </tr>\n",
       "    <tr>\n",
       "      <th>no_effect_lvo_ivt_deaths</th>\n",
       "      <td>0.0479</td>\n",
       "      <td>0.1236</td>\n",
       "      <td>0.2539</td>\n",
       "      <td>0.4110</td>\n",
       "      <td>0.6476</td>\n",
       "      <td>0.7769</td>\n",
       "      <td>1.0</td>\n",
       "    </tr>\n",
       "    <tr>\n",
       "      <th>no_effect_lvo_mt_deaths</th>\n",
       "      <td>0.0478</td>\n",
       "      <td>0.1233</td>\n",
       "      <td>0.2532</td>\n",
       "      <td>0.4100</td>\n",
       "      <td>0.6460</td>\n",
       "      <td>0.7750</td>\n",
       "      <td>1.0</td>\n",
       "    </tr>\n",
       "    <tr>\n",
       "      <th>t0_treatment_lvo_ivt</th>\n",
       "      <td>0.1129</td>\n",
       "      <td>0.2000</td>\n",
       "      <td>0.3274</td>\n",
       "      <td>0.4848</td>\n",
       "      <td>0.6982</td>\n",
       "      <td>0.8114</td>\n",
       "      <td>1.0</td>\n",
       "    </tr>\n",
       "    <tr>\n",
       "      <th>t0_treatment_lvo_mt</th>\n",
       "      <td>0.3141</td>\n",
       "      <td>0.4363</td>\n",
       "      <td>0.5544</td>\n",
       "      <td>0.7123</td>\n",
       "      <td>0.8536</td>\n",
       "      <td>0.9167</td>\n",
       "      <td>1.0</td>\n",
       "    </tr>\n",
       "  </tbody>\n",
       "</table>\n",
       "</div>"
      ],
      "text/plain": [
       "                                 0       1       2       3       4       5  \\\n",
       "pre_stroke_nlvo             0.5829  0.7454  0.8489  0.9511  0.9931  1.0000   \n",
       "pre_stroke_nlvo_ivt_deaths  0.5765  0.7372  0.8395  0.9406  0.9821  0.9890   \n",
       "pre_stroke_lvo              0.4179  0.5609  0.6793  0.8435  0.9573  1.0000   \n",
       "pre_stroke_lvo_ivt_deaths   0.4036  0.5417  0.6561  0.8147  0.9246  0.9659   \n",
       "pre_stroke_lvo_mt_deaths    0.4028  0.5407  0.6548  0.8131  0.9228  0.9640   \n",
       "no_treatment_nlvo           0.1971  0.4600  0.5800  0.7078  0.8557  0.9177   \n",
       "no_effect_nlvo_ivt_deaths   0.1973  0.4600  0.5776  0.7023  0.8452  0.9045   \n",
       "t0_treatment_nlvo_ivt       0.4298  0.6300  0.7382  0.8484  0.9292  0.9563   \n",
       "no_treatment_lvo            0.0500  0.1290  0.2650  0.4290  0.6760  0.8110   \n",
       "no_effect_lvo_ivt_deaths    0.0479  0.1236  0.2539  0.4110  0.6476  0.7769   \n",
       "no_effect_lvo_mt_deaths     0.0478  0.1233  0.2532  0.4100  0.6460  0.7750   \n",
       "t0_treatment_lvo_ivt        0.1129  0.2000  0.3274  0.4848  0.6982  0.8114   \n",
       "t0_treatment_lvo_mt         0.3141  0.4363  0.5544  0.7123  0.8536  0.9167   \n",
       "\n",
       "                              6  \n",
       "pre_stroke_nlvo             1.0  \n",
       "pre_stroke_nlvo_ivt_deaths  1.0  \n",
       "pre_stroke_lvo              1.0  \n",
       "pre_stroke_lvo_ivt_deaths   1.0  \n",
       "pre_stroke_lvo_mt_deaths    1.0  \n",
       "no_treatment_nlvo           1.0  \n",
       "no_effect_nlvo_ivt_deaths   1.0  \n",
       "t0_treatment_nlvo_ivt       1.0  \n",
       "no_treatment_lvo            1.0  \n",
       "no_effect_lvo_ivt_deaths    1.0  \n",
       "no_effect_lvo_mt_deaths     1.0  \n",
       "t0_treatment_lvo_ivt        1.0  \n",
       "t0_treatment_lvo_mt         1.0  "
      ]
     },
     "execution_count": 26,
     "metadata": {},
     "output_type": "execute_result"
    }
   ],
   "source": [
    "all_distributions_cumsum_df = pd.DataFrame(all_distributions_cumsum).T\n",
    "all_distributions_cumsum_df.to_csv(\n",
    "    './outcome_utilities/mrs_dist_probs_cumsum.csv', index_label='Stroke type')\n",
    "all_distributions_cumsum_df"
   ]
  },
  {
   "cell_type": "markdown",
   "id": "8c2abc8a-e4a3-4ce0-8607-635871dee238",
   "metadata": {},
   "source": [
    "---"
   ]
  },
  {
   "cell_type": "markdown",
   "id": "96ae0145-f1e9-4503-b783-011037ce31c7",
   "metadata": {},
   "source": [
    "## Plot distributions"
   ]
  },
  {
   "cell_type": "code",
   "execution_count": 27,
   "id": "8f24f42d-d147-4709-afe9-2158ac7e1a06",
   "metadata": {},
   "outputs": [],
   "source": [
    "from outcome_utilities.dist_plot import draw_horizontal_bar, \\\n",
    "    draw_connections"
   ]
  },
  {
   "cell_type": "markdown",
   "id": "4c715f06-e395-4d3c-a581-f2549d81ffaa",
   "metadata": {},
   "source": [
    "Define plot colour scheme"
   ]
  },
  {
   "cell_type": "code",
   "execution_count": 28,
   "id": "1ceac448-8413-49be-9342-b2615b15891e",
   "metadata": {},
   "outputs": [],
   "source": [
    "plt.style.use('seaborn-colorblind')"
   ]
  },
  {
   "cell_type": "code",
   "execution_count": 29,
   "id": "2da8321d-4dcb-4f39-8d38-7e625635a824",
   "metadata": {},
   "outputs": [
    {
     "data": {
      "text/plain": [
       "0    0.1129\n",
       "1    0.0871\n",
       "2    0.1274\n",
       "3    0.1574\n",
       "4    0.2135\n",
       "5    0.1132\n",
       "6    0.1886\n",
       "Name: t0_treatment_lvo_ivt, dtype: float64"
      ]
     },
     "execution_count": 29,
     "metadata": {},
     "output_type": "execute_result"
    }
   ],
   "source": [
    "all_distributions_bins_df.loc['t0_treatment_lvo_ivt']"
   ]
  },
  {
   "cell_type": "code",
   "execution_count": 30,
   "id": "8ca3e569-cc22-4495-9f84-c8dd40b7a9e3",
   "metadata": {},
   "outputs": [
    {
     "data": {
      "image/png": "[encoded data removed]",
      "text/plain": [
       "<Figure size 1200x300 with 3 Axes>"
      ]
     },
     "metadata": {},
     "output_type": "display_data"
    }
   ],
   "source": [
    "plot_info = [\n",
    "    [all_distributions_bins_df.loc['no_effect_nlvo_ivt_deaths'], \n",
    "     all_distributions_bins_df.loc['t0_treatment_nlvo_ivt'], \n",
    "     'nLVO treated with IVT'],\n",
    "    [all_distributions_bins_df.loc['no_effect_lvo_ivt_deaths'], \n",
    "     all_distributions_bins_df.loc['t0_treatment_lvo_ivt'], \n",
    "     'LVO treated with IVT'],\n",
    "    [all_distributions_bins_df.loc['no_effect_lvo_mt_deaths'], \n",
    "     all_distributions_bins_df.loc['t0_treatment_lvo_mt'], \n",
    "     'LVO treated with MT']\n",
    "    ]\n",
    "\n",
    "fig, axs = plt.subplots(1,3, figsize=(12,3), gridspec_kw={'wspace':0.2})\n",
    "y_vals = [1, 0]\n",
    "\n",
    "for i,info in enumerate(plot_info):\n",
    "    ylabel_top = 'Time = 0 hours' if i<1 else ' '\n",
    "    ylabel_bottom = 'Time of no effect' if i<1 else '  '\n",
    "    y_labels = [ylabel_top, ylabel_bottom]\n",
    "    \n",
    "    ax = axs[i]\n",
    "    \n",
    "    # Draw no effect distribution\n",
    "    draw_horizontal_bar(info[0], y=y_vals[1], ax=ax)\n",
    "    \n",
    "    if i<1:\n",
    "        # Add legend now to prevent doubling all the labels:\n",
    "        fig.legend(loc='upper center',ncol=7, title='mRS', \n",
    "                   bbox_to_anchor=[0.5,-0.1])   # Legend below axis.\n",
    "    \n",
    "    # Draww t=0 distribution\n",
    "    draw_horizontal_bar(info[1], y=y_vals[0], ax=ax)\n",
    "    \n",
    "    # Darw connecting lines\n",
    "    draw_connections(info[1], info[0], ax=ax)\n",
    "    \n",
    "    # Add general content\n",
    "    label = info[2]\n",
    "    ax.set_xlabel('Probability')\n",
    "    ax.set_title(label)\n",
    "    ax.set_xlim(0,1)\n",
    "    \n",
    "    ax.set_xticks(np.arange(0.0,1.01,0.1), minor=True)\n",
    "    ax.tick_params(top=True, which='both')\n",
    "    \n",
    "    ax.set_yticks(y_vals)\n",
    "    ax.set_yticklabels(y_labels)\n",
    "    \n",
    "    \n",
    "plt.savefig(f'./images/dist_bars.jpg', dpi=300, bbox_inches='tight')\n",
    "plt.show()"
   ]
  },
  {
   "cell_type": "markdown",
   "id": "391d8c2a",
   "metadata": {},
   "source": [
    "Plot individual plots"
   ]
  },
  {
   "cell_type": "code",
   "execution_count": 31,
   "id": "23ed3dbf",
   "metadata": {},
   "outputs": [
    {
     "data": {
      "image/png": "[encoded data removed]",
      "text/plain": [
       "<Figure size 600x400 with 1 Axes>"
      ]
     },
     "metadata": {},
     "output_type": "display_data"
    },
    {
     "data": {
      "image/png": "[encoded data removed]",
      "text/plain": [
       "<Figure size 600x400 with 1 Axes>"
      ]
     },
     "metadata": {},
     "output_type": "display_data"
    },
    {
     "data": {
      "image/png": "[encoded data removed]",
      "text/plain": [
       "<Figure size 600x400 with 1 Axes>"
      ]
     },
     "metadata": {},
     "output_type": "display_data"
    }
   ],
   "source": [
    "for i,info in enumerate(plot_info):\n",
    "\n",
    "    fig, ax = plt.subplots(1,1, figsize=(6,4), gridspec_kw={'wspace':0.2})\n",
    "    y_vals = [1, 0]\n",
    "\n",
    "    ylabel_top = 'Time = 0 hours'\n",
    "    ylabel_bottom = 'Time of no effect'\n",
    "    y_labels = [ylabel_top, ylabel_bottom]\n",
    "    \n",
    "    # Draw no effect distribution\n",
    "    draw_horizontal_bar(info[0], y=y_vals[1], ax=ax)\n",
    "    \n",
    "    fig.legend(loc='upper center',ncol=7, title='mRS', \n",
    "                   bbox_to_anchor=[0.5,-0.0])   # Legend below axis.\n",
    "    \n",
    "    # Draww t=0 distribution\n",
    "    draw_horizontal_bar(info[1], y=y_vals[0], ax=ax)\n",
    "    \n",
    "    # Darw connecting lines\n",
    "    draw_connections(info[1], info[0], ax=ax)\n",
    "    \n",
    "    # Add general content\n",
    "    label = info[2]\n",
    "    ax.set_xlabel('Probability')\n",
    "    ax.set_title(label)\n",
    "    ax.set_xlim(0,1)\n",
    "    \n",
    "    ax.set_xticks(np.arange(0.0,1.01,0.1), minor=True)\n",
    "    ax.tick_params(top=True, which='both')\n",
    "    \n",
    "    ax.set_yticks(y_vals)\n",
    "    ax.set_yticklabels(y_labels)\n",
    "    \n",
    "    label = label.replace(' ', '_')\n",
    "    plt.savefig(f'./images/dist_bars_{label}.jpg', dpi=300, bbox_inches='tight')\n",
    "    plt.show()"
   ]
  },
  {
   "cell_type": "markdown",
   "id": "32ff49cb-4e93-48a3-9908-d279661ed19a",
   "metadata": {},
   "source": [
    "## References\n",
    "\n",
    "de la Ossa Herrero N, Carrera D, Gorchs M, Querol M, Millán M, Gomis M, et al. Design and Validation of a Prehospital Stroke Scale to Predict Large Arterial Occlusion The Rapid Arterial Occlusion Evaluation Scale. Stroke; a journal of cerebral circulation. 2013 Nov 26;45. \n",
    "\n",
    "Emberson J, Lees KR, Lyden P, et al. _Effect of treatment delay, age, and stroke severity on the effects of intravenous thrombolysis with alteplase for acute ischaemic stroke: A meta-analysis of individual patient data from randomised trials._ The Lancet 2014;384:1929–35. doi:10.1016/S0140-6736(14)60584-5\n",
    "\n",
    "Fransen, P., Berkhemer, O., Lingsma, H. et al. Time to Reperfusion and Treatment Effect for Acute Ischemic Stroke: A Randomized Clinical Trial. JAMA Neurol. 2016 Feb 1;73(2):190–6. DOI: 10.1001/jamaneurol.2015.3886\n",
    "\n",
    "Goyal M, Menon BK, van Zwam WH, et al. _Endovascular thrombectomy after large-vessel ischaemic stroke: a meta-analysis of individual patient data from five randomised trials._ The Lancet 2016;387:1723-1731. doi:10.1016/S0140-6736(16)00163-X\n",
    "\n",
    "Hui W, Wu C, Zhao W, Sun H, Hao J, Liang H, et al. Efficacy and Safety of Recanalization Therapy for Acute Ischemic Stroke With Large Vessel Occlusion. Stroke. 2020 Jul;51(7):2026–35. \n",
    "\n",
    "IST-3 collaborative group, Sandercock P, Wardlaw JM, Lindley RI, Dennis M, Cohen G, et al. The benefits and harms of intravenous thrombolysis with recombinant tissue plasminogen activator within 6 h of acute ischaemic stroke (the third international stroke trial [IST-3]): a randomised controlled trial. Lancet. 2012 379:2352-63.\n",
    "\n",
    "Lees KR, Bluhmki E, von Kummer R, et al. _Time to treatment with intravenous alteplase and outcome in stroke: an updated pooled analysis of ECASS, ATLANTIS, NINDS, and EPITHET trials_. The Lancet 2010;375:1695-703. doi:10.1016/S0140-6736(10)60491-6\n",
    "\n",
    "McMeekin P, White P, James MA, Price CI, Flynn D, Ford GA. Estimating the number of UK stroke patients eligible for endovascular thrombectomy. European Stroke Journal. 2017;2:319–26. \n",
    "\n",
    "SAMueL-1 data on mRS before stroke (DOI: 10.5281/zenodo.6896710): https://samuel-book.github.io/samuel-1/descriptive_stats/08_prestroke_mrs.html"
   ]
  },
  {
   "cell_type": "markdown",
   "id": "2bd02663-bfd4-4a84-931c-24ff0c51335f",
   "metadata": {},
   "source": [
    "## Appendix\n",
    "\n",
    "### 1. Excess deaths due to treatment\n",
    "\n",
    "#### IVT deaths due to fatal intracranial haemorrhage (Emberson et al., 2014): \n",
    "\n",
    "| NIHSS | Treated | Control | Excess |\n",
    "|-------|---------|---------|--------|\n",
    "| 0-10  | 1.41%   | 0.32%   | 1.10%  |\n",
    "| 11+   | 3.85%   | 0.45%   | 3.41%  |\n",
    "| All   | 2.68%   | 0.39%   | 2.29%  |\n",
    "\n",
    "Excess deaths due to IVT are assumed to occur independently of time. Differing risks of death are applied according to whether the patient is assumed nLVO (NIHSS 0-10 as a surrogate for nLVO) or LVO (NIHSS 11+, as a surrogate for LVO). Note: Rounding errors exist in the \"Excess\" column.\n",
    "\n",
    "We use Embersons 2.29% excess deaths from IVT on all patients (nLVO and LVO) with the combined nLVO/LVO population from Lees et al. 2010. From the available trial data, we assume that the split between nLVO/LVO is as near the same in both Lees and Emberson:\n",
    "* Lees has 3670 patients, they provide a granular level of mRS distribution for their population (combined nLVO/LVO) but they do not provide the proportions of the split.\n",
    "* Emberson has 6756 patients (they have the 3035 patients from IST-3 in addition to those in Lees, with 51 unaccounted for), they provide the excess deaths by stroke severity. To obtain their value of 2.29% excess deaths from IVT for all patients, this requires a weighting of 48.27% nLVO and 51.73% LVO.\n",
    "* IST-3 has 3035 patients and provide proportion of patients by stroke severity: 48.24% nLVO and 51.76% LVO. This is as near as the same that we have calculated in Emberson. \n",
    "* Assuming that Lees contains the other patients in Emberson (those not from IST-3), then it is a fair assumption that Lees has the same split (nLVO/LVO) of patients as Emberson, and so can use 2.29% excess deaths from IVT for Lees combined nLVO/LVO population.\n",
    "\n",
    "#### MT deaths (Goyal et al., 2016):\n",
    "\n",
    "| Treated* | Control |\n",
    "|----------|---------|\n",
    "| 15.3%    | 18.9%   |\n",
    "\n",
    "* Average onset to reperfusion time of 285 minutes.\n",
    "\n",
    "Without correction for MT-related deaths, the model predicts a 13.2% mortality rate for LVO patients treated at 285 minutes. Adding in a 3.6% risk of death from treatment corrects this to the trial results of 15.3% mortality at 285 minutes treatment. \n",
    "\n",
    "The control group in Goyal et al. do not receive MT, but do receive other interventions such as IVT (used in 83% of patients). No additional IVT-related deaths need to be considered when modelling use of MT as the control group (used to estimate the effect of MT at a time MT is no longer effective) already includes IVT-related excess deaths."
   ]
  }
 ],
 "metadata": {
  "kernelspec": {
   "display_name": "Python 3.8.15 ('samuel')",
   "language": "python",
   "name": "python3"
  },
  "language_info": {
   "codemirror_mode": {
    "name": "ipython",
    "version": 3
   },
   "file_extension": ".py",
   "mimetype": "text/x-python",
   "name": "python",
   "nbconvert_exporter": "python",
   "pygments_lexer": "ipython3",
   "version": "3.8.15"
  },
  "vscode": {
   "interpreter": {
    "hash": "b368e36a85415766688ec72e3e874a4b525584eabf4bf7122952a4e0fd64fcde"
   }
  }
 },
 "nbformat": 4,
 "nbformat_minor": 5
}
