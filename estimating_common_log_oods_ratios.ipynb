{
 "cells": [
  {
   "cell_type": "markdown",
   "id": "dd08f7c1-e34c-413b-a9e2-b6457cc18265",
   "metadata": {},
   "source": [
    "# Estimating the slope of the common log odds ratio for thrombolysis and thrombectomy\n",
    " \n",
    "Assumption: The slops of the log Odds Ratio for mRS <= x is the same for for all x 0-4.\n",
    "\n",
    "Basis of model\n",
    "==============\n",
    "\n",
    "Holodinsky JK, Williamson TS, Demchuk AM, et al. Modeling Stroke Patient \n",
    "Transport for All Patients With Suspected Large-Vessel Occlusion. JAMA \n",
    "Neurol. 2018;75(12):1477-1486. doi:10.1001/jamaneurol.2018.2424\n",
    "\n",
    "\n",
    "References for decay of effect of thrombolysis and thrombectomy\n",
    "===============================================================\n",
    "\n",
    "Decay of effect of thrombolysis without image selection of patients taken from:\n",
    "Emberson, Jonathan, Kennedy R. Lees, Patrick Lyden, Lisa Blackwell, \n",
    "Gregory Albers, Erich Bluhmki, Thomas Brott, et al (2014). “Effect of Treatment \n",
    "Delay, Age, and Stroke Severity on the Effects of Intravenous Thrombolysis with\n",
    "Alteplase for Acute Ischaemic Stroke: A Meta-Analysis of Individual Patient\n",
    "Data from Randomised Trials.” The Lancet 384: 1929–1935.\n",
    "https://doi.org/10.1016/S0140-6736(14)60584-5.\n",
    "\n",
    "* Time to no effect = 6.3hrs\n",
    "\n",
    "Decay of effect of thrombectomy without image selection of patients taken from:\n",
    "Fransen, Puck S. S., Olvert A. Berkhemer, Hester F. Lingsma, Debbie Beumer, \n",
    "Lucie A. van den Berg, Albert J. Yoo, Wouter J. Schonewille, et al. (2016)\n",
    "“Time to Reperfusion and Treatment Effect for Acute Ischemic Stroke: A \n",
    "Randomized Clinical Trial.” JAMA Neurology 73: 190–96. \n",
    "https://doi.org/10.1001/jamaneurol.2015.3886.\n",
    "\n",
    "* Time to no effect = 8hrs"
   ]
  },
  {
   "cell_type": "code",
   "execution_count": 1,
   "id": "c0b7d8b5-cbff-4301-a15b-29c2c9fe6914",
   "metadata": {},
   "outputs": [],
   "source": [
    "# Probabilities taken from Holodinsky\n",
    "\n",
    "pGood_LVO_untreated = 0.1328\n",
    "pGood_nLVO_untreated = 0.4622\n",
    "\n",
    "pGood_LVO_treated_thrombectomy_t_zero = 0.5018\n",
    "pGood_LVO_treated_thrombolysis_t_zero = 0.2411\n",
    "pGood_nLVO_treated_thrombolysis_t_zero = 0.6444"
   ]
  },
  {
   "cell_type": "code",
   "execution_count": 2,
   "id": "9b726211-f842-4338-8941-f597856fe6d2",
   "metadata": {},
   "outputs": [
    {
     "name": "stdout",
     "output_type": "stream",
     "text": [
      "oddsGood_LVO_untreated:                    0.153\n",
      "oddsGood_nLVO_untreated:                   0.859\n",
      "oddsGood_LVO_treated_thrombectomy_t_zero:  1.007\n",
      "oddsGood_LVO_treated_thrombolysis_t_zero:  0.318\n",
      "oddsGood_nLVO_treated_thrombolysis_t_zero: 1.812\n"
     ]
    }
   ],
   "source": [
    "# Calculate odds\n",
    "\n",
    "oddsGood_LVO_untreated = (\n",
    "    pGood_LVO_untreated / (1 - pGood_LVO_untreated))\n",
    "\n",
    "oddsGood_nLVO_untreated = (\n",
    "    pGood_nLVO_untreated / (1 - pGood_nLVO_untreated))\n",
    "\n",
    "oddsGood_LVO_treated_thrombectomy_t_zero = (\n",
    "    pGood_LVO_treated_thrombectomy_t_zero / (1 - pGood_LVO_treated_thrombectomy_t_zero))\n",
    "\n",
    "oddsGood_LVO_treated_thrombolysis_t_zero = (\n",
    "    pGood_LVO_treated_thrombolysis_t_zero / (1 -pGood_LVO_treated_thrombolysis_t_zero))\n",
    "\n",
    "oddsGood_nLVO_treated_thrombolysis_t_zero = (\n",
    "    pGood_nLVO_treated_thrombolysis_t_zero / (1 - pGood_nLVO_treated_thrombolysis_t_zero))\n",
    "\n",
    "print (f'oddsGood_LVO_untreated:                    {oddsGood_LVO_untreated:0.3f}')\n",
    "print (f'oddsGood_nLVO_untreated:                   {oddsGood_nLVO_untreated:0.3f}')\n",
    "print (f'oddsGood_LVO_treated_thrombectomy_t_zero:  {oddsGood_LVO_treated_thrombectomy_t_zero:0.3f}')\n",
    "print (f'oddsGood_LVO_treated_thrombolysis_t_zero:  {oddsGood_LVO_treated_thrombolysis_t_zero:0.3f}')\n",
    "print (f'oddsGood_nLVO_treated_thrombolysis_t_zero: {oddsGood_nLVO_treated_thrombolysis_t_zero:0.3f}')"
   ]
  },
  {
   "cell_type": "code",
   "execution_count": 3,
   "id": "237f5e3c-da1c-4959-9bc6-fda458f0ffe0",
   "metadata": {},
   "outputs": [
    {
     "name": "stdout",
     "output_type": "stream",
     "text": [
      "OR_LVO_treated_thrombectomy_t_zero:  6.577\n",
      "OR_LVO_treated_thrombolysis_t_zero:  2.075\n",
      "OR_nLVO_treated_thrombolysis_t_zero: 2.109\n"
     ]
    }
   ],
   "source": [
    "# Calculate odds ratio (if treated at t=0)\n",
    "\n",
    "OR_LVO_treated_thrombectomy_t_zero = (\n",
    "    oddsGood_LVO_treated_thrombectomy_t_zero / oddsGood_LVO_untreated)\n",
    "\n",
    "OR_LVO_treated_thrombolysis_t_zero = (\n",
    "    oddsGood_LVO_treated_thrombolysis_t_zero / oddsGood_LVO_untreated)\n",
    "\n",
    "OR_nLVO_treated_thrombolysis_t_zero = (\n",
    "    oddsGood_nLVO_treated_thrombolysis_t_zero / oddsGood_nLVO_untreated)\n",
    "\n",
    "print (f'OR_LVO_treated_thrombectomy_t_zero:  {OR_LVO_treated_thrombectomy_t_zero:0.3f}')\n",
    "print (f'OR_LVO_treated_thrombolysis_t_zero:  {OR_LVO_treated_thrombolysis_t_zero:0.3f}')\n",
    "print (f'OR_nLVO_treated_thrombolysis_t_zero: {OR_nLVO_treated_thrombolysis_t_zero:0.3f}')"
   ]
  },
  {
   "cell_type": "code",
   "execution_count": 4,
   "id": "895215b6-b3aa-448b-bd7e-ca288dc26a5e",
   "metadata": {},
   "outputs": [],
   "source": [
    "# Calculate log odds\n",
    "from math import log\n",
    "log_OR_LVO_treated_thrombectomy_t_zero = log(OR_LVO_treated_thrombectomy_t_zero)\n",
    "log_OR_LVO_treated_thrombolysis_t_zero = log(OR_LVO_treated_thrombolysis_t_zero)\n",
    "log_OR_nLVO_treated_thrombolysis_t_zero = log(OR_nLVO_treated_thrombolysis_t_zero)"
   ]
  },
  {
   "cell_type": "code",
   "execution_count": 5,
   "id": "31fb3b88-0b7a-40e4-a1ed-2791eda1e22b",
   "metadata": {},
   "outputs": [
    {
     "name": "stdout",
     "output_type": "stream",
     "text": [
      "slope_log_OR_LVO_thrombectomy:  0.003924\n",
      "slope_log_OR_LVO_thrombolysis:  0.001931\n",
      "slope_log)OR_nLVO_thrombolysis: 0.001974\n"
     ]
    }
   ],
   "source": [
    "# Calculate slope of log OR (in minutes)\n",
    "\n",
    "time_to_no_effect_thrombolysis = 6.3 * 60\n",
    "time_to_no_effect_thrombectomy = 8.0 * 60\n",
    "\n",
    "slope_log_OR_LVO_thrombectomy = (\n",
    "    log_OR_LVO_treated_thrombectomy_t_zero / time_to_no_effect_thrombectomy)\n",
    "\n",
    "slope_log_OR_LVO_thrombolysis = (\n",
    "    log_OR_LVO_treated_thrombolysis_t_zero / time_to_no_effect_thrombolysis)\n",
    "\n",
    "slope_log_OR_nLVO_thrombolysis = (\n",
    "    log_OR_nLVO_treated_thrombolysis_t_zero / time_to_no_effect_thrombolysis)\n",
    "\n",
    "print (f'slope_log_OR_LVO_thrombectomy:  {slope_log_OR_LVO_thrombectomy:.6f}')\n",
    "print (f'slope_log_OR_LVO_thrombolysis:  {slope_log_OR_LVO_thrombolysis:.6f}')\n",
    "print (f'slope_log)OR_nLVO_thrombolysis: {slope_log_OR_nLVO_thrombolysis:.6f}')"
   ]
  }
 ],
 "metadata": {
  "kernelspec": {
   "display_name": "Python 3 (ipykernel)",
   "language": "python",
   "name": "python3"
  },
  "language_info": {
   "codemirror_mode": {
    "name": "ipython",
    "version": 3
   },
   "file_extension": ".py",
   "mimetype": "text/x-python",
   "name": "python",
   "nbconvert_exporter": "python",
   "pygments_lexer": "ipython3",
   "version": "3.9.12"
  }
 },
 "nbformat": 4,
 "nbformat_minor": 5
}
