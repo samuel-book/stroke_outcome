{
 "cells": [
  {
   "cell_type": "markdown",
   "id": "ab00b814-ee96-4281-bd49-96c5bbf21191",
   "metadata": {},
   "source": [
    "# Mathematics for extrapolating a known odds ratio with time back to time zero"
   ]
  },
  {
   "cell_type": "markdown",
   "id": "2a134090-e7ac-4c3b-a305-558bef4e0a3d",
   "metadata": {},
   "source": [
    "The stroke outcome model requires a complete set of the modified Rankin scale (mRS) probability distribution data at different times, but not all of this data is available in the literature. In particular, the distribution of patients treated with intravenous thrombolysis (IVT) at an onset-to-treatment-time of zero hours is unknown as it is impossible to collect this data from a real patient population. To define this time-zero distribution, we have to extrapolate backwards in time from other known data. \n",
    "\n",
    "The paper by Emberson et al. 2014 (see References at the end of this notebook) contains data about the IVT-treated patient population at the time-of-no-effect and about the change with time of the odds ratio of patients receiving a good outcome, defined as mRS$\\leq$1. We can take their data at times of 1 hour and 6.3 hours, the time of no effect for IVT, and recreate the straight-line fit to these points. By extrapolating the straight line back to time zero, we can define the probability of a good outcome at that time. "
   ]
  },
  {
   "cell_type": "markdown",
   "id": "4d5a9888-2a32-41c4-9742-932b30a6d6fc",
   "metadata": {},
   "source": [
    "# Aims"
   ]
  },
  {
   "cell_type": "markdown",
   "id": "82599eb3-ce97-4feb-b2d2-36c1fe2b5e9d",
   "metadata": {},
   "source": [
    "To set up the extrapolation generally, we will do the following steps:\n",
    "\n",
    "+ Gather the odds ratio with time data from Emberson et al. 2014\n",
    "+ Recreate the straight line fit in the form $\\log(\\mathrm{odds\\ ratio}) = a + bt$\n",
    "+ Define the log(odds ratio) at time zero\n",
    "+ Convert this to a formula for probability at time zero\n",
    "\n",
    "To convert the new log(odds ratio) to probability at our chosen start time of zero hours, we have to provide an already-known probability at the time-of-no-effect."
   ]
  },
  {
   "cell_type": "markdown",
   "id": "3ba63bc5-438b-4d13-9f07-ff31bd2cb2a4",
   "metadata": {},
   "source": [
    "## Notebook admin"
   ]
  },
  {
   "cell_type": "code",
   "execution_count": 1,
   "id": "7c820a69-41d1-464c-b9fa-b6b712b01e49",
   "metadata": {},
   "outputs": [],
   "source": [
    "# Keep notebook cleaner once finalised\n",
    "import warnings\n",
    "warnings.filterwarnings('ignore')"
   ]
  },
  {
   "cell_type": "code",
   "execution_count": 2,
   "id": "c609e80a-fc26-4ded-8722-632a9f606d3e",
   "metadata": {},
   "outputs": [],
   "source": [
    "# Import packages\n",
    "import numpy as np\n",
    "import matplotlib.pyplot as plt"
   ]
  },
  {
   "cell_type": "code",
   "execution_count": 3,
   "id": "0e14a350-3ada-4925-afab-ce52653df8b2",
   "metadata": {},
   "outputs": [],
   "source": [
    "# Set up MatPlotLib\n",
    "%matplotlib inline\n",
    "# Change default colour scheme:\n",
    "plt.style.use('seaborn-colorblind')"
   ]
  },
  {
   "cell_type": "markdown",
   "id": "c4ac553f-7a05-4e1e-b794-e6afe70cd9e6",
   "metadata": {},
   "source": [
    "---"
   ]
  },
  {
   "cell_type": "markdown",
   "id": "cde63568-8f59-493a-9e2f-e1d0b7a87a46",
   "metadata": {},
   "source": [
    "## Gather data "
   ]
  },
  {
   "cell_type": "markdown",
   "id": "2915a9dd-9f87-4377-a28a-f9ce19f1a5e6",
   "metadata": {},
   "source": [
    "We're mainly using the plot of odds ratio with time from Emberson et al. 2014 (their Figure 1):\n",
    "\n",
    "> ![](./images/emberson-et-al-2014_figure-1_odds-ratio-with-time.png)\n",
    "\n",
    "> n.b. The y-axis is definitely \"odds ratio\". The dark blue line was calculated using \"log(odds ratio)\" and then transformed to \"odds ratio\" for the graph. "
   ]
  },
  {
   "cell_type": "markdown",
   "id": "84bd4b7e-4a72-4f96-81c0-02b3cd982dd6",
   "metadata": {},
   "source": [
    "We can define a few points from this figure:\n",
    "\n",
    "+ The time-of-no-effect $t_{\\mathrm{ne}} = 6.3\\mathrm{hr}$ (marked with white square). \n",
    "+ The odds ratio $OR(\\mathrm{mRS}\\leq 1\\ |\\ t=t_{\\mathrm{ne}}) = 1.0$ (marked with white square). \n",
    "+ The odds ratio $OR(\\mathrm{mRS}\\leq 1\\ |\\ t=1\\mathrm{hr}) \\sim 1.9$ (intersection of the main dark blue line with the y-axis)."
   ]
  },
  {
   "cell_type": "code",
   "execution_count": 4,
   "id": "d9748fc8-c7b4-461b-abde-7f908055553c",
   "metadata": {},
   "outputs": [],
   "source": [
    "t_ne = 6.3 # hours\n",
    "OR_mRSleq1_tne = 1.0\n",
    "OR_mRSleq1_t1 = 1.9"
   ]
  },
  {
   "cell_type": "markdown",
   "id": "27e1af1f-8edc-4efb-b14b-86a636807855",
   "metadata": {},
   "source": [
    "### Plot the available data"
   ]
  },
  {
   "cell_type": "markdown",
   "id": "c965dae1-a54f-4918-bc36-ab6ef47924b8",
   "metadata": {},
   "source": [
    "We'll plot the data in terms of log(odds ratio) and draw a straight line connecting the points. This will match the data behind the main dark blue line in Figure 1 from Emberson et al. 2014.\n",
    "\n",
    "Define x and y coordinates for the t=1hr and t=t_ne points:"
   ]
  },
  {
   "cell_type": "code",
   "execution_count": 5,
   "id": "6cc0df60-eced-4d44-8786-b9ae71da8c5d",
   "metadata": {},
   "outputs": [],
   "source": [
    "x_t1  = 1                         # hours\n",
    "y_t1  = np.log(OR_mRSleq1_t1)     # from the data\n",
    "\n",
    "x_tne = t_ne                      # hours\n",
    "y_tne = 0                         # by definition, log(1)=0"
   ]
  },
  {
   "cell_type": "markdown",
   "id": "2b912120-47e7-42cc-af63-b8934988f432",
   "metadata": {},
   "source": [
    "Define some coordinates of the straight line connecting these two points:"
   ]
  },
  {
   "cell_type": "code",
   "execution_count": 6,
   "id": "cf95d4db-55b2-4860-bf25-8eb76f911fa6",
   "metadata": {},
   "outputs": [],
   "source": [
    "# Find the step from the t=1 point to the t_ne point:\n",
    "x_step = x_tne - x_t1\n",
    "y_step = y_tne - y_t1\n",
    "\n",
    "# Starting from the t=1hr point, step forwards and backwards in t:\n",
    "x_line = [x_t1-x_step, x_t1+x_step]\n",
    "y_line = [y_t1-y_step, y_t1+y_step]"
   ]
  },
  {
   "cell_type": "markdown",
   "id": "f929b00e-b200-4736-8da7-aa7577527f77",
   "metadata": {},
   "source": [
    "Plot the data:"
   ]
  },
  {
   "cell_type": "code",
   "execution_count": 7,
   "id": "63abcfa3-0dad-4f90-b6ae-11f21c562836",
   "metadata": {},
   "outputs": [
    {
     "data": {
      "image/png": "[encoded data removed]",
      "text/plain": [
       "<Figure size 432x288 with 1 Axes>"
      ]
     },
     "metadata": {
      "needs_background": "light"
     },
     "output_type": "display_data"
    }
   ],
   "source": [
    "# Mark these two data points:\n",
    "plt.scatter(x_t1, y_t1, label='Patient treated at 6.3hr', marker='D')\n",
    "plt.scatter(x_tne, y_tne, label='Patient treated at 1hr', marker='o')\n",
    "\n",
    "# Draw a straight line passing through the two points:\n",
    "plt.plot(x_line, y_line, linestyle=':',color='k')\n",
    "\n",
    "# Ọther plot setup:\n",
    "plt.ylabel('log(odds ratio)')\n",
    "plt.xlabel('Onset to treatment time (hours)')\n",
    "plt.xlim(0, 7)\n",
    "plt.ylim(-0.02, 0.8)\n",
    "plt.legend()\n",
    "plt.title('log(odds ratio)')\n",
    "plt.show()"
   ]
  },
  {
   "cell_type": "markdown",
   "id": "c870c7d4-c013-4946-8d11-f7158e8060eb",
   "metadata": {},
   "source": [
    "---"
   ]
  },
  {
   "cell_type": "markdown",
   "id": "5860eb17-d5f6-4d75-a757-8f4891aa3f60",
   "metadata": {},
   "source": [
    "## Define a straight line model for log(odds ratio)"
   ]
  },
  {
   "cell_type": "markdown",
   "id": "250763a5-dee1-4b87-b391-0f7bcc8cda64",
   "metadata": {},
   "source": [
    "Here, we want to define log(OR) for mRS$\\leq$1 at $t=0$. We can connect the two known points with a straight line, $\\log(OR)=a+bt$, and then continue the line backwards in time to $t=0$. \n",
    "\n",
    "At $t=t_{\\mathrm{ne}}$, we know that $\\log\\bigl[OR(\\mathrm{mRS}\\ |\\ t=t_{\\mathrm{ne}})\\bigr] = 0 $ and so\n",
    "\n",
    "$$ a+b \\cdot t_{\\mathrm{ne}} = 0 $$\n",
    "\n",
    "$$ b  = -\\frac{a}{t_{\\mathrm{ne}}} $$"
   ]
  },
  {
   "cell_type": "markdown",
   "id": "32acd217-0872-47e7-acdc-0174c7da770f",
   "metadata": {},
   "source": [
    "Then for a generic $t$, we use this $b$ with $a + b t = \\log(OR) $ to find $a$. \n",
    "\n",
    "$$ \n",
    "\\begin{align*}\n",
    "a -\\frac{a\\cdot t}{t_{\\mathrm{ne}}} & = \\log(OR) \\\\\n",
    "a\\left(1 - \\frac{t}{t_{\\mathrm{ne}}}\\right) & = \\log(OR) \\\\\n",
    "\\end{align*}\n",
    "$$\n",
    "\n",
    "\n",
    "$$ a = \\frac{\\log(OR)}{1 - \\frac{t}{t_{\\mathrm{ne}}}} $$"
   ]
  },
  {
   "cell_type": "markdown",
   "id": "8c067c3d-5f53-4127-aee1-5646a3407958",
   "metadata": {},
   "source": [
    "At $t=1\\,$hr,\n",
    "\n",
    "$$ a = \\frac{\\log(1.9)}{1 - \\frac{1\\,\\mathrm{hr}}{6.3\\,\\mathrm{hr}}} $$\n",
    "\n",
    "This contains only known values and so we can calculate $a$."
   ]
  },
  {
   "cell_type": "markdown",
   "id": "b472f5c4-2ef4-4cbf-9c54-dbbb0fdb6dbc",
   "metadata": {},
   "source": [
    "> Note that the units of $t$ and $t_{\\mathrm{ne}}$ _must_ match here. In the equations above, we have used hours. If we had to use minutes instead, we would use:\n",
    "$$ a = \\frac{\\log(1.9)}{1 - \\frac{60\\,\\mathrm{minutes}}{6.3\\times60\\,\\mathrm{minutes}}} $$ "
   ]
  },
  {
   "cell_type": "markdown",
   "id": "6682b856-dd2b-4b91-9eb8-df96cda11cd4",
   "metadata": {},
   "source": [
    "---"
   ]
  },
  {
   "cell_type": "markdown",
   "id": "aae960c4-a5cc-44cc-b6d7-8376337df17a",
   "metadata": {},
   "source": [
    "## Extrapolate to t=0"
   ]
  },
  {
   "cell_type": "markdown",
   "id": "81861042-3d72-4adf-9910-f11d1321aa3e",
   "metadata": {},
   "source": [
    "Now that we've defined $a$ and $b$, we can use the same straight line equation to find the log(odds ratio) at $t=0$.\n",
    "\n",
    "At $t=0$, the straight line $a+bt = a +0 = a $ and so:\n",
    "\n",
    "4: $$ \\log\\bigl[OR(\\mathrm{mRS}\\leq1\\ |\\ t=0\\,\\mathrm{hr})\\bigr] = a $$"
   ]
  },
  {
   "cell_type": "markdown",
   "id": "0a8b56d6-1e7f-441f-8f25-3532695f9dcc",
   "metadata": {},
   "source": [
    "Calculate $a$ using time in hours:"
   ]
  },
  {
   "cell_type": "code",
   "execution_count": 8,
   "id": "97957d8b-22c8-4a88-ab28-96dd92cdb0ea",
   "metadata": {},
   "outputs": [
    {
     "data": {
      "text/plain": [
       "0.7629583929973748"
      ]
     },
     "execution_count": 8,
     "metadata": {},
     "output_type": "execute_result"
    }
   ],
   "source": [
    "a = np.log(OR_mRSleq1_t1) / (1.0 - 1.0/(t_ne) )\n",
    "\n",
    "a"
   ]
  },
  {
   "cell_type": "markdown",
   "id": "2ec70724-5ce9-4d76-a169-5b99fe18e08e",
   "metadata": {},
   "source": [
    "### Plot the new value"
   ]
  },
  {
   "cell_type": "markdown",
   "id": "cd492a8e-6489-479b-a0a4-d69237bacfb6",
   "metadata": {},
   "source": [
    "We can compare the newly-calculated log(OR) value with the plot from before:"
   ]
  },
  {
   "cell_type": "code",
   "execution_count": 9,
   "id": "5c9fb89e-e68c-4832-8a21-2cb0c106bff2",
   "metadata": {},
   "outputs": [],
   "source": [
    "# Define x and y coordinates of the t=0 point:\n",
    "x_t0 = 0\n",
    "y_t0 = a"
   ]
  },
  {
   "cell_type": "code",
   "execution_count": 20,
   "id": "f1517ddf-2a06-40f6-83f1-042bb67bf5cf",
   "metadata": {},
   "outputs": [
    {
     "data": {
      "image/png": "[encoded data removed]",
      "text/plain": [
       "<Figure size 432x288 with 1 Axes>"
      ]
     },
     "metadata": {
      "needs_background": "light"
     },
     "output_type": "display_data"
    }
   ],
   "source": [
    "# Mark the data points:\n",
    "plt.scatter(x_t1, y_t1, label='Patient treated at 6.3hr', marker='D')\n",
    "plt.scatter(x_tne, y_tne, label='Patient treated at 1hr', marker='o')\n",
    "plt.scatter(x_t0, y_t0, label='Extrapolated point', marker='s')\n",
    "\n",
    "# Draw a straight line connecting the points:\n",
    "plt.plot(x_line, y_line, linestyle=':',color='k')\n",
    "\n",
    "# Ọther plot setup:\n",
    "plt.ylabel('log(odds ratio)')\n",
    "plt.xlabel('Onset to treatment time (hours)')\n",
    "plt.xlim(-0.1, 7)\n",
    "plt.ylim(-0.02, 0.8)\n",
    "plt.legend()\n",
    "plt.title('log(odds ratio)')\n",
    "\n",
    "plt.savefig('./images/extrapolate-emberson-fig1.jpg', dpi=300, bbox_inches='tight')\n",
    "plt.show()"
   ]
  },
  {
   "cell_type": "markdown",
   "id": "ad9e4e85-cc24-46e6-af19-18b5215b73bd",
   "metadata": {},
   "source": [
    "---"
   ]
  },
  {
   "cell_type": "markdown",
   "id": "8d2204e2-1b25-4f18-8ac8-2578dca65e7d",
   "metadata": {},
   "source": [
    "## Convert this log(OR) to probability"
   ]
  },
  {
   "cell_type": "markdown",
   "id": "c8941365-c62e-444e-ac05-43437158e417",
   "metadata": {
    "tags": []
   },
   "source": [
    "We can use the new value of log(odds ratio) at $t=0$ to define a probability at $t=0$, assuming that we already know a probability at the time-of-no-effect, $P(\\mathrm{mRS}\\leq x\\ |\\ t_{\\mathrm{ne}})$. \n",
    "\n",
    "By definition, the odds ratio:\n",
    "\n",
    "$$ OR(\\mathrm{mRS},x,t) = \\left\\{ \\frac{P(\\mathrm{mRS}\\leq x\\ |\\ t)}{P(\\mathrm{mRS}>x\\ |\\ t)} \\right\\} \\div \\left\\{ \\frac{P(\\mathrm{mRS}\\leq x\\ |\\ t_{\\mathrm{ne}})}{P(\\mathrm{mRS}>x\\ |\\ t_{\\mathrm{ne}})} \\right\\} $$\n",
    "\n",
    "Filling in the unknowns and rearranging:\n",
    "\n",
    "$$ \\frac{P(\\mathrm{mRS}\\leq 1\\ |\\ t=0)}{P(\\mathrm{mRS}>1\\ |\\ t=0)}  = OR(\\mathrm{mRS}\\leq1,t=0) \\cdot \\left\\{ \\frac{P(\\mathrm{mRS}\\leq 1\\ |\\ t_{\\mathrm{ne}})}{P(\\mathrm{mRS}>1\\ |\\ t_{\\mathrm{ne}})} \\right\\} $$\n",
    "\n",
    "To rearrange this equation to find probability, we'll set $P=P(\\mathrm{mRS}\\leq 1\\ |\\ t=0)$ and set the entire right-hand-side of the equation to a new constant $R$:\n",
    "\n",
    "$$\n",
    "\\begin{align*}\n",
    "\\frac{P}{1 - P}  & = R \\\\\n",
    "P & = R(1-P) \\\\\n",
    "P + (P\\cdot R) & = R \\\\\n",
    "P(1 + R) & = R \\\\\n",
    "P & = \\frac{R}{1 + R} \\\\\n",
    "\\end{align*}\n",
    "$$"
   ]
  },
  {
   "cell_type": "markdown",
   "id": "7265b8d0-4480-4ee8-b770-14bd784dcc43",
   "metadata": {},
   "source": [
    "This is ugly to write out in full, so we define $P_R = P(\\mathrm{mRS}\\leq 1\\ |\\ t_{\\mathrm{ne}})$ and use $\\log\\bigl[OR(\\mathrm{mRS}\\leq1\\ |\\ t=0\\,\\mathrm{hr})\\bigr] = a$ from before so that:\n",
    "\n",
    "$$ P(\\mathrm{mRS}\\leq 1\\ |\\ t=0) = \\frac{e^{a} \\cdot \\left\\{ \\frac{P_{R}}{1 - P_{R}} \\right\\}}{1 + e^{a} \\cdot \\left\\{ \\frac{P_{R}}{1 - P_{R}} \\right\\}} $$"
   ]
  },
  {
   "cell_type": "markdown",
   "id": "81dcf509-7f42-4970-97c6-1842dd64b297",
   "metadata": {},
   "source": [
    "---"
   ]
  },
  {
   "cell_type": "markdown",
   "id": "918f7f29-6fdb-40a2-9b5d-0966c8b60fce",
   "metadata": {},
   "source": [
    "## Calculate the probability at time zero"
   ]
  },
  {
   "cell_type": "markdown",
   "id": "f0bd7669-2426-46cc-95f9-ffb6d847995a",
   "metadata": {},
   "source": [
    "We can take values of $P(\\mathrm{mRS}\\leq 1\\ |\\ t_{\\mathrm{ne}})$ from Emberson et al. 2014 (data in Figure 2), where the stroke scale score NIHSS$\\leq$10 is a surrogate for a non-Large Vessel Occlusions (nLVO) and NIHSS>10 is a surrogate for a Large Vessel Occlusion (LVO).\n",
    "\n",
    "+ $P(\\mathrm{mRS}\\leq 1\\ |\\ t_{\\mathrm{ne}} \\ |\\ \\mathrm{nLVO}) = 0.46$ \n",
    "+ $P(\\mathrm{mRS}\\leq 1\\ |\\ t_{\\mathrm{ne}} \\ |\\ \\mathrm{LVO}) = 0.13$"
   ]
  },
  {
   "cell_type": "code",
   "execution_count": 11,
   "id": "3a3659ff-9d37-4fb0-9478-eb72bedc55f7",
   "metadata": {},
   "outputs": [],
   "source": [
    "# Probability of mRS<=1 at t=t_ne (a.k.a. probability P_R):\n",
    "p_mRSleq1_tne_nlvo = 0.46\n",
    "p_mRSleq1_tne_lvo = 0.13"
   ]
  },
  {
   "cell_type": "markdown",
   "id": "f3abccfb-4963-4670-8720-55922cb85051",
   "metadata": {},
   "source": [
    "For each probability, we calculate $R$ and then $P(\\mathrm{mRS}\\leq 1\\ |\\ t=0)$."
   ]
  },
  {
   "cell_type": "code",
   "execution_count": 12,
   "id": "2c3ccc56-cc9e-460e-b8f2-c532b3133253",
   "metadata": {},
   "outputs": [],
   "source": [
    "R = np.exp(a) * p_mRSleq1_tne_nlvo / (1 - p_mRSleq1_tne_nlvo)\n",
    "p_mRSleq1_t0_nlvo = R / (1 + R)"
   ]
  },
  {
   "cell_type": "code",
   "execution_count": 13,
   "id": "b9efd6e7-2661-41d0-8661-080add254360",
   "metadata": {},
   "outputs": [],
   "source": [
    "R = np.exp(a) * p_mRSleq1_tne_lvo / (1 - p_mRSleq1_tne_lvo)\n",
    "p_mRSleq1_t0_lvo = R / (1 + R)"
   ]
  },
  {
   "cell_type": "code",
   "execution_count": 14,
   "id": "d49b0647-0b25-4be5-9e46-2f873a19b53b",
   "metadata": {},
   "outputs": [
    {
     "name": "stdout",
     "output_type": "stream",
     "text": [
      "nLVO mRS<=1 Probability at time=0:  0.6463\n",
      "LVO  mRS<=1 Probability at time=0:  0.2427\n"
     ]
    }
   ],
   "source": [
    "print(f'nLVO mRS<=1 Probability at time=0: {p_mRSleq1_t0_nlvo:7.4f}')\n",
    "print(f'LVO  mRS<=1 Probability at time=0: {p_mRSleq1_t0_lvo:7.4f}')"
   ]
  },
  {
   "cell_type": "markdown",
   "id": "812e8650-e5ac-470d-80ac-cb9a2a909afe",
   "metadata": {},
   "source": [
    "---"
   ]
  },
  {
   "cell_type": "markdown",
   "id": "8b88efcc-b99c-4371-82fe-8c6fc07a164b",
   "metadata": {},
   "source": [
    "## Sidetrack: more general extrapolation"
   ]
  },
  {
   "cell_type": "markdown",
   "id": "82c61e58-f334-4da0-9666-1f93ff5c5f2c",
   "metadata": {},
   "source": [
    "> This section isn't essential for following the examples above. "
   ]
  },
  {
   "cell_type": "markdown",
   "id": "fe71a4ce-9038-4d13-8841-007f1e996076",
   "metadata": {},
   "source": [
    "In the current example we have chosen the reference data points at times $t=1$hr and $t=t_{\\mathrm{ne}}$, but generally any two times $t=t_1$ and $t=t_2$ could be used so long as we know the following: \n",
    "\n",
    "For $t_1$:\n",
    "+ the time $t_1$, and\n",
    "+ odds ratio $OR(t=t_1)$.\n",
    "\n",
    "For $t_2$:\n",
    "+ the time $t_2$, \n",
    "+ odds ratio $OR(t=t_2)$, and\n",
    "+ probability $P(t=t_2)$ for the conversion.\n",
    "\n",
    "This is most convenient for $t_2=t_{\\mathrm{ne}}$ because we know that $OR(t=t_{\\mathrm{ne}})=1$ by definition. Also, $t_1$ can be bigger or smaller than $t_2$. By defining a straight line for log(odds ratio) in the form $a+bt$ we can extrapolate to find the log(odds ratio) at any $t$, not just for $t=0$.\n",
    "\n",
    "> Important: Make sure the two odds ratios are defined in the same way. Are both using the same baseline at $t=t_\\mathrm{ne}$? "
   ]
  },
  {
   "cell_type": "markdown",
   "id": "4a9519e0-26b8-44c2-9b2f-1f652fdf8518",
   "metadata": {},
   "source": [
    "### Find $a$"
   ]
  },
  {
   "cell_type": "markdown",
   "id": "c0cd7a1f-a8af-4893-9a1d-0d79db416942",
   "metadata": {},
   "source": [
    "\n",
    "To find $a$ for two generic data points at times $t_1$ and $t_2$, we write the log(odds ratio) for each:\n",
    "\n",
    "$$ a + b t_1 = \\log(OR_1) $$\n",
    "\n",
    "$$ a + b t_2 = \\log(OR_2) $$\n",
    "\n",
    "We can combine these by isolating $b$ in each case:\n",
    "\n",
    "$$ b = \\frac{\\log(OR_2) - a}{t_2} = \\frac{\\log(OR_1) - a}{t_1}  $$\n",
    "\n",
    "And then rearrange to find $a$:\n",
    "\n",
    "$$\n",
    "\\begin{align*}\n",
    "t_1 \\log(OR_2) - t_1 a & = t_2 \\log(OR_1) - t_2 a  \\\\ \\\\ \n",
    "t_2 a - t_1 a & = t_2 \\log(OR_1) - t_1 \\log(OR_2) \\\\ \\\\\n",
    "a (t_2 - t_1) & = t_2 \\log(OR_1) - t_1 \\log(OR_2) \\\\ \\\\\n",
    "a & = \\frac{t_2 \\log(OR_1) - t_1 \\log(OR_2)}{t_2 - t_1} \\\\\n",
    "\\end{align*}\n",
    "$$"
   ]
  },
  {
   "cell_type": "markdown",
   "id": "1e53d8f3-b281-43aa-9fad-735b06f996fa",
   "metadata": {},
   "source": [
    "To put this into the same form as Equation 3, the $a$ defined for $t=t_\\mathrm{ne}$, we multiply the right hand side by $\\left(\\frac{1}{t_2} \\div \\frac{1}{t_2}\\right)$ which is equal to 1:\n",
    "\n",
    "$$ a = \\frac{\\log(OR_1) - \\frac{t_1}{t_2} \\log(OR_2)}{1 - \\frac{t_1}{t_2}} $$\n",
    "\n",
    "When $t_2=t_\\mathrm{ne}$, then $\\log(OR_2)=0$ by definition and the formula for $a$ matches Equation 3."
   ]
  },
  {
   "cell_type": "markdown",
   "id": "e399ac41-e931-4543-ac55-bb66696d464b",
   "metadata": {},
   "source": [
    "### Find $b$"
   ]
  },
  {
   "cell_type": "markdown",
   "id": "f7add07f-a118-4314-9a5c-c4975cf613f1",
   "metadata": {},
   "source": [
    "It is straightforward to find $b$ given two values of log(odds ratio) at two times when we know that the two points are connected by a straight line. \n",
    "\n",
    "By definition, the gradient $m$ of a straight line $y=m\\cdot x+c$ between two coordinates $(x_1, y_1)$ and $(x_2, y_2)$ is:\n",
    "\n",
    "$$ m = \\frac{y_2 - y_1}{x_2 - x_1} $$\n",
    "\n",
    "So for our straight line of $\\log(OR) = a+bt$ with two coordinates $(t_1, \\log[OR_1])$ and $(t_2, \\log[OR_2])$, we find the gradient:\n",
    "\n",
    "$$ b = \\frac{\\log(OR_2) - \\log(OR_1)}{t_2 - t_1} $$"
   ]
  },
  {
   "cell_type": "markdown",
   "id": "2bf6dc87-52ea-4368-8142-166d2f1000d5",
   "metadata": {},
   "source": [
    "---"
   ]
  },
  {
   "cell_type": "markdown",
   "id": "a8442bdb-ae97-43ea-98b9-e4edd627d059",
   "metadata": {},
   "source": [
    "## General function"
   ]
  },
  {
   "cell_type": "markdown",
   "id": "e98c9958-d43f-4117-9570-30ad0b7a9ad6",
   "metadata": {},
   "source": [
    "We have combined the steps above into a function `extrapolate_odds_ratio()` that is stored in the `outcome_utilities` directory. The function takes the known times, odds ratios and probabilities, and extrapolates the straight line of log(odds ratio) to a given time $t_e$. It returns the probability and odds ratio at $t_e$ and the constants $a$ and $b$ that make the straight line. "
   ]
  },
  {
   "cell_type": "code",
   "execution_count": 15,
   "id": "0c60373c-e491-486c-afed-20ba86142d8c",
   "metadata": {},
   "outputs": [],
   "source": [
    "from outcome_utilities.extrapolate_odds_ratio import extrapolate_odds_ratio"
   ]
  },
  {
   "cell_type": "code",
   "execution_count": 16,
   "id": "82460f0c-119a-4d84-bd78-b45ab4b2f2a2",
   "metadata": {},
   "outputs": [
    {
     "data": {
      "text/plain": [
       "\u001b[0;31mSignature:\u001b[0m \u001b[0mextrapolate_odds_ratio\u001b[0m\u001b[0;34m(\u001b[0m\u001b[0mt_1\u001b[0m\u001b[0;34m,\u001b[0m \u001b[0mOR_1\u001b[0m\u001b[0;34m,\u001b[0m \u001b[0mt_2\u001b[0m\u001b[0;34m,\u001b[0m \u001b[0mOR_2\u001b[0m\u001b[0;34m,\u001b[0m \u001b[0mp_2\u001b[0m\u001b[0;34m,\u001b[0m \u001b[0mt_e\u001b[0m\u001b[0;34m=\u001b[0m\u001b[0;36m0\u001b[0m\u001b[0;34m)\u001b[0m\u001b[0;34m\u001b[0m\u001b[0;34m\u001b[0m\u001b[0m\n",
       "\u001b[0;31mSource:\u001b[0m   \n",
       "\u001b[0;32mdef\u001b[0m \u001b[0mextrapolate_odds_ratio\u001b[0m\u001b[0;34m(\u001b[0m\u001b[0mt_1\u001b[0m\u001b[0;34m,\u001b[0m\u001b[0mOR_1\u001b[0m\u001b[0;34m,\u001b[0m\u001b[0mt_2\u001b[0m\u001b[0;34m,\u001b[0m\u001b[0mOR_2\u001b[0m\u001b[0;34m,\u001b[0m\u001b[0mp_2\u001b[0m\u001b[0;34m,\u001b[0m\u001b[0mt_e\u001b[0m\u001b[0;34m=\u001b[0m\u001b[0;36m0\u001b[0m\u001b[0;34m)\u001b[0m\u001b[0;34m:\u001b[0m\u001b[0;34m\u001b[0m\n",
       "\u001b[0;34m\u001b[0m    \u001b[0;34m\"\"\"\u001b[0m\n",
       "\u001b[0;34m    Use two odds ratios to extrapolate the straight line fit and find\u001b[0m\n",
       "\u001b[0;34m    the odds ratio at a given time, then convert to probability.\u001b[0m\n",
       "\u001b[0;34m\u001b[0m\n",
       "\u001b[0;34m    The three time parameters MUST use the same units, e.g. hours.\u001b[0m\n",
       "\u001b[0;34m\u001b[0m\n",
       "\u001b[0;34m    Inputs:\u001b[0m\n",
       "\u001b[0;34m    t_1, t_2   - float. Times for data points 1 and 2.\u001b[0m\n",
       "\u001b[0;34m    OR_1, OR_2 - float. Odds ratios at times t_1 and t_2.\u001b[0m\n",
       "\u001b[0;34m    p_2        - float. Probability at time t_2.\u001b[0m\n",
       "\u001b[0;34m    t_e        - float. Time to extrapolate the line to.\u001b[0m\n",
       "\u001b[0;34m\u001b[0m\n",
       "\u001b[0;34m    Returns:\u001b[0m\n",
       "\u001b[0;34m    OR_e - float. Extrapolated odds ratio at time t_e.\u001b[0m\n",
       "\u001b[0;34m    p_e  - float. Extrapolated probability at time t_e.\u001b[0m\n",
       "\u001b[0;34m    a, b - float. Constants for the straight line fit a+bt.\u001b[0m\n",
       "\u001b[0;34m    \"\"\"\u001b[0m\u001b[0;34m\u001b[0m\n",
       "\u001b[0;34m\u001b[0m    \u001b[0;31m# Calculate \"a\", the log(odds ratio) at time t=0:\u001b[0m\u001b[0;34m\u001b[0m\n",
       "\u001b[0;34m\u001b[0m    \u001b[0ma\u001b[0m \u001b[0;34m=\u001b[0m \u001b[0;34m(\u001b[0m\u001b[0;34m(\u001b[0m\u001b[0mnp\u001b[0m\u001b[0;34m.\u001b[0m\u001b[0mlog\u001b[0m\u001b[0;34m(\u001b[0m\u001b[0mOR_1\u001b[0m\u001b[0;34m)\u001b[0m \u001b[0;34m-\u001b[0m \u001b[0;34m(\u001b[0m\u001b[0mt_1\u001b[0m\u001b[0;34m/\u001b[0m\u001b[0mt_2\u001b[0m\u001b[0;34m)\u001b[0m\u001b[0;34m*\u001b[0m\u001b[0mnp\u001b[0m\u001b[0;34m.\u001b[0m\u001b[0mlog\u001b[0m\u001b[0;34m(\u001b[0m\u001b[0mOR_2\u001b[0m\u001b[0;34m)\u001b[0m\u001b[0;34m)\u001b[0m \u001b[0;34m/\u001b[0m\u001b[0;34m\u001b[0m\n",
       "\u001b[0;34m\u001b[0m         \u001b[0;34m(\u001b[0m\u001b[0;36m1.0\u001b[0m \u001b[0;34m-\u001b[0m \u001b[0;34m(\u001b[0m\u001b[0mt_1\u001b[0m\u001b[0;34m/\u001b[0m\u001b[0mt_2\u001b[0m\u001b[0;34m)\u001b[0m\u001b[0;34m)\u001b[0m \u001b[0;34m)\u001b[0m\u001b[0;34m\u001b[0m\n",
       "\u001b[0;34m\u001b[0m\u001b[0;34m\u001b[0m\n",
       "\u001b[0;34m\u001b[0m    \u001b[0;31m# Calculate \"b\", the gradient of the log(odds ratio) straight line.\u001b[0m\u001b[0;34m\u001b[0m\n",
       "\u001b[0;34m\u001b[0m    \u001b[0mb\u001b[0m \u001b[0;34m=\u001b[0m \u001b[0;34m(\u001b[0m\u001b[0mnp\u001b[0m\u001b[0;34m.\u001b[0m\u001b[0mlog\u001b[0m\u001b[0;34m(\u001b[0m\u001b[0mOR_2\u001b[0m\u001b[0;34m)\u001b[0m\u001b[0;34m-\u001b[0m\u001b[0mnp\u001b[0m\u001b[0;34m.\u001b[0m\u001b[0mlog\u001b[0m\u001b[0;34m(\u001b[0m\u001b[0mOR_1\u001b[0m\u001b[0;34m)\u001b[0m\u001b[0;34m)\u001b[0m \u001b[0;34m/\u001b[0m \u001b[0;34m(\u001b[0m\u001b[0mt_2\u001b[0m \u001b[0;34m-\u001b[0m \u001b[0mt_1\u001b[0m\u001b[0;34m)\u001b[0m\u001b[0;34m\u001b[0m\n",
       "\u001b[0;34m\u001b[0m\u001b[0;34m\u001b[0m\n",
       "\u001b[0;34m\u001b[0m    \u001b[0;31m# Use these to calculate the odds ratio at time t_e:\u001b[0m\u001b[0;34m\u001b[0m\n",
       "\u001b[0;34m\u001b[0m    \u001b[0mOR_e\u001b[0m \u001b[0;34m=\u001b[0m \u001b[0mnp\u001b[0m\u001b[0;34m.\u001b[0m\u001b[0mexp\u001b[0m\u001b[0;34m(\u001b[0m \u001b[0ma\u001b[0m \u001b[0;34m+\u001b[0m \u001b[0mb\u001b[0m\u001b[0;34m*\u001b[0m\u001b[0mt_e\u001b[0m \u001b[0;34m)\u001b[0m\u001b[0;34m\u001b[0m\n",
       "\u001b[0;34m\u001b[0m\u001b[0;34m\u001b[0m\n",
       "\u001b[0;34m\u001b[0m    \u001b[0;31m# Rearrange odds ratio formula:\u001b[0m\u001b[0;34m\u001b[0m\n",
       "\u001b[0;34m\u001b[0m    \u001b[0;31m# ORe = {pe/(1-pe)} / {p2/(1-p2)}\u001b[0m\u001b[0;34m\u001b[0m\n",
       "\u001b[0;34m\u001b[0m    \u001b[0;31m# pe/(1-pe) = ORe * p2/(1-p2)\u001b[0m\u001b[0;34m\u001b[0m\n",
       "\u001b[0;34m\u001b[0m    \u001b[0;31m# Calculate R, the right-hand-side of this equation:\u001b[0m\u001b[0;34m\u001b[0m\n",
       "\u001b[0;34m\u001b[0m    \u001b[0mR\u001b[0m \u001b[0;34m=\u001b[0m \u001b[0mOR_e\u001b[0m \u001b[0;34m*\u001b[0m \u001b[0mp_2\u001b[0m \u001b[0;34m/\u001b[0m \u001b[0;34m(\u001b[0m\u001b[0;36m1\u001b[0m \u001b[0;34m-\u001b[0m \u001b[0mp_2\u001b[0m\u001b[0;34m)\u001b[0m\u001b[0;34m\u001b[0m\n",
       "\u001b[0;34m\u001b[0m\u001b[0;34m\u001b[0m\n",
       "\u001b[0;34m\u001b[0m    \u001b[0;31m# Rearrange pe/(1-pe)=R to find pe, probability at time t=t_e:\u001b[0m\u001b[0;34m\u001b[0m\n",
       "\u001b[0;34m\u001b[0m    \u001b[0mp_e\u001b[0m \u001b[0;34m=\u001b[0m \u001b[0mR\u001b[0m \u001b[0;34m/\u001b[0m \u001b[0;34m(\u001b[0m\u001b[0;36m1\u001b[0m \u001b[0;34m+\u001b[0m \u001b[0mR\u001b[0m\u001b[0;34m)\u001b[0m\u001b[0;34m\u001b[0m\n",
       "\u001b[0;34m\u001b[0m\u001b[0;34m\u001b[0m\n",
       "\u001b[0;34m\u001b[0m    \u001b[0;32mreturn\u001b[0m \u001b[0mOR_e\u001b[0m\u001b[0;34m,\u001b[0m \u001b[0mp_e\u001b[0m\u001b[0;34m,\u001b[0m \u001b[0ma\u001b[0m\u001b[0;34m,\u001b[0m \u001b[0mb\u001b[0m\u001b[0;34m\u001b[0m\u001b[0;34m\u001b[0m\u001b[0m\n",
       "\u001b[0;31mFile:\u001b[0m      ~/stroke_outcome/outcome_utilities/extrapolate_odds_ratio.py\n",
       "\u001b[0;31mType:\u001b[0m      function\n"
      ]
     },
     "metadata": {},
     "output_type": "display_data"
    }
   ],
   "source": [
    "extrapolate_odds_ratio??"
   ]
  },
  {
   "cell_type": "markdown",
   "id": "09a404fc-ea01-4973-9b85-4c2c6b6806f2",
   "metadata": {},
   "source": [
    "$\\phantom{gap}$\n",
    "\n",
    "Check that this gives the same results as we found earlier in the notebook for the nLVO data:"
   ]
  },
  {
   "cell_type": "code",
   "execution_count": 17,
   "id": "4366b5a4-bdf4-48b8-825d-1a9fa3d52ef5",
   "metadata": {},
   "outputs": [],
   "source": [
    "OR_0, p_0, a_0, b_0 = extrapolate_odds_ratio(\n",
    "    t_1=1, OR_1=1.9,                             # t=1hr data\n",
    "    t_2=t_ne, OR_2=1, p_2=p_mRSleq1_tne_nlvo,    # t=t_ne data \n",
    "    t_e=0 )                                 # Extrapolate to this time."
   ]
  },
  {
   "cell_type": "markdown",
   "id": "ae294d74-253a-4c3f-8f07-571e2c10fd18",
   "metadata": {},
   "source": [
    "Define the gradient of the straight line we plotted initially, before calculating $b$:"
   ]
  },
  {
   "cell_type": "code",
   "execution_count": 18,
   "id": "65bd6b21-1552-4bd5-b633-b2240d463a2c",
   "metadata": {},
   "outputs": [],
   "source": [
    "gradient = y_step / x_step"
   ]
  },
  {
   "cell_type": "code",
   "execution_count": 19,
   "id": "313ef41b-97ef-4fe5-aa9f-7905244deece",
   "metadata": {},
   "outputs": [
    {
     "name": "stdout",
     "output_type": "stream",
     "text": [
      "  | From function | From notebook |\n",
      "P |     0.6463    |     0.6463    |\n",
      "a |     0.7630    |     0.7630    |\n",
      "b |    -0.1211    |    -0.1211    |\n"
     ]
    }
   ],
   "source": [
    "print('  | From function | From notebook |')\n",
    "print(f'P |    {p_0:7.4f}    |    {p_mRSleq1_t0_nlvo:7.4f}    |')\n",
    "print(f'a |    {a_0:7.4f}    |    {a:7.4f}    |')\n",
    "print(f'b |    {b_0:7.4f}    |    {gradient:7.4f}    |')"
   ]
  },
  {
   "cell_type": "markdown",
   "id": "14879346-41d0-4efc-852c-84c20b610807",
   "metadata": {},
   "source": [
    "---"
   ]
  },
  {
   "cell_type": "markdown",
   "id": "14abfaea-0087-495a-a73b-f2cf99ed1d22",
   "metadata": {},
   "source": [
    "## Reference for generating the time-zero probabilities:"
   ]
  },
  {
   "cell_type": "markdown",
   "id": "30595645-54de-4362-aaf5-4beb418837c0",
   "metadata": {},
   "source": [
    "Define the no-treatment probabilities from Emberson et al. 2014 Figure 2:"
   ]
  },
  {
   "cell_type": "code",
   "execution_count": 23,
   "id": "67a4ecc6-59b5-4b02-8418-20a2fa33ec88",
   "metadata": {},
   "outputs": [],
   "source": [
    "p_mRSleq1_notreatment_nLVO = (189 + 538) / (321 + 1252)\n",
    "o_mRSleq1_notreatment_nLVO = (\n",
    "    p_mRSleq1_notreatment_nLVO / (1.0-p_mRSleq1_notreatment_nLVO))\n",
    "\n",
    "\n",
    "p_mRSleq1_notreatment_LVO = (175 + 55 + 8) / (808 + 671 + 313)\n",
    "o_mRSleq1_notreatment_LVO = (\n",
    "    p_mRSleq1_notreatment_LVO / (1.0-p_mRSleq1_notreatment_LVO))"
   ]
  },
  {
   "cell_type": "markdown",
   "id": "04e0a78d-05aa-4156-80a1-5fbfccb52604",
   "metadata": {},
   "source": [
    "Calculate the time-zero probabilities: "
   ]
  },
  {
   "cell_type": "code",
   "execution_count": 24,
   "id": "3b3adc1d-c71a-47cd-a9fe-7c9f88b5bbe0",
   "metadata": {},
   "outputs": [],
   "source": [
    "or_mRSleq1_t0treatment, p_mRSleq1_t0treatment_nLVO, a, b = \\\n",
    "extrapolate_odds_ratio(\n",
    "    t_1=1, OR_1=1.9,                                    # t=1hr data\n",
    "    t_2=6.3, OR_2=1, p_2=p_mRSleq1_notreatment_nLVO,    # t=t_ne data \n",
    "    t_e=0 )                                 # Extrapolate to this time."
   ]
  },
  {
   "cell_type": "code",
   "execution_count": 25,
   "id": "bcd85fc6-c6dd-4196-806f-34360b778eba",
   "metadata": {},
   "outputs": [],
   "source": [
    "or_mRSleq1_t0treatment, p_mRSleq1_t0treatment_LVO, a, b = \\\n",
    "extrapolate_odds_ratio(\n",
    "    t_1=1, OR_1=1.9,                                    # t=1hr data\n",
    "    t_2=6.3, OR_2=1, p_2=p_mRSleq1_notreatment_LVO,    # t=t_ne data \n",
    "    t_e=0 )                                 # Extrapolate to this time."
   ]
  },
  {
   "cell_type": "code",
   "execution_count": 30,
   "id": "a34340f0-a628-4306-8d89-6d7c7adb2a17",
   "metadata": {},
   "outputs": [
    {
     "name": "stdout",
     "output_type": "stream",
     "text": [
      "      |            Probability             |\n",
      "      | Time zero treatment | No treatment |\n",
      "nLVO: |        0.6483       |    0.4622    |\n",
      "LVO:  |        0.2472       |    0.1328    |\n"
     ]
    }
   ],
   "source": [
    "print('      |            Probability             |')\n",
    "print('      | Time zero treatment | No treatment |')\n",
    "print(f'nLVO: |        {p_mRSleq1_t0treatment_nLVO:.4f}       |    {p_mRSleq1_notreatment_nLVO:.4f}    |')\n",
    "print(f'LVO:  |        {p_mRSleq1_t0treatment_LVO:.4f}       |    {p_mRSleq1_notreatment_LVO:.4f}    |')"
   ]
  },
  {
   "cell_type": "markdown",
   "id": "5764862c-3f20-41db-926f-b7c04fa98730",
   "metadata": {},
   "source": [
    "The odds ratio we've just calculated is the same for nLVO as for LVO. "
   ]
  },
  {
   "cell_type": "markdown",
   "id": "bbec5a58-82a6-43cb-98ea-31ec6acbe597",
   "metadata": {},
   "source": [
    "---"
   ]
  },
  {
   "cell_type": "markdown",
   "id": "fb7012c5-23e2-4efa-9699-f690836fc54a",
   "metadata": {},
   "source": [
    "## References"
   ]
  },
  {
   "cell_type": "markdown",
   "id": "503d5ad2-9f4c-441f-80c5-dcfb4f0c73c4",
   "metadata": {},
   "source": [
    "Emberson J, Lees KR, Lyden P, et al. _Effect of treatment delay, age, and stroke severity on the effects of intravenous thrombolysis with alteplase for acute ischaemic stroke: A meta-analysis of individual patient data from randomised trials_. The Lancet 2014;384:1929–35. doi:10.1016/S0140-6736(14)60584-5"
   ]
  }
 ],
 "metadata": {
  "kernelspec": {
   "display_name": "Python 3 (ipykernel)",
   "language": "python",
   "name": "python3"
  },
  "language_info": {
   "codemirror_mode": {
    "name": "ipython",
    "version": 3
   },
   "file_extension": ".py",
   "mimetype": "text/x-python",
   "name": "python",
   "nbconvert_exporter": "python",
   "pygments_lexer": "ipython3",
   "version": "3.8.13"
  }
 },
 "nbformat": 4,
 "nbformat_minor": 5
}
