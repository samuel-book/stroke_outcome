{
 "cells": [
  {
   "cell_type": "markdown",
   "id": "06435bfe-d908-4a16-979b-1dace50522b7",
   "metadata": {},
   "source": [
    "# mRS distribution derivation\n",
    "\n",
    "k"
   ]
  },
  {
   "cell_type": "code",
   "execution_count": 60,
   "id": "434d6849-54f7-4804-b026-3ee035936d1f",
   "metadata": {},
   "outputs": [],
   "source": [
    "import numpy as np"
   ]
  },
  {
   "cell_type": "code",
   "execution_count": 61,
   "id": "1da6a0a0-6a64-46f9-8dce-a12cea63b386",
   "metadata": {},
   "outputs": [],
   "source": [
    "def fudge_sum_one(dist, dp=3):\n",
    "    \"\"\"\n",
    "    Force sum of a distribution to be exactly 1.\n",
    "    \n",
    "    Nudge the smallest fractions down or the largest fractions up as required.\n",
    "    \"\"\"\n",
    "    if np.round(np.sum(np.round(dist, dp)), dp) == 1.0:\n",
    "        # Nothing to see here.\n",
    "        return np.round(dist, dp)\n",
    "\n",
    "    # Add or subtract from the mRS proportions until the sum is 1.\n",
    "    # Start by adding to numbers with large fractional parts\n",
    "    # or subtracting from numbers with small fractional parts.\n",
    "\n",
    "    \n",
    "    # Store the integer part of each value,\n",
    "    # the fractional part of each value,\n",
    "    # and values to track how many times the integer part\n",
    "    # has been fudged upwards and downwards.\n",
    "    # Final digit of each value:\n",
    "    success = False\n",
    "    while success == False:\n",
    "        # Convert to integers.\n",
    "        dist = dist * 10**dp\n",
    "        dist_int = dist.astype(int)\n",
    "        dist_frac = dist % dist.astype(int)\n",
    "        target = 10 ** dp\n",
    "        # final_digits = np.round((10 * ((dist * 10**(dp - 1)) % 1)), 0).astype(int)\n",
    "        # if np.all(final_digits == 0.0):\n",
    "        if np.all(dist_frac == 0.0):\n",
    "            # If the dist is already rounded to the requested dp,\n",
    "            # try the next digit up.\n",
    "            dp -= 1\n",
    "        else:\n",
    "            # Use this precision.\n",
    "            success = True\n",
    "            \n",
    "    arr = np.zeros((len(dist), 4), dtype=int)\n",
    "    arr[:, 0] = dist_int\n",
    "    arr[:, 1] = (dist_frac * 1000).astype(int)\n",
    "    \n",
    "    # Cut off this process after 20 loops.\n",
    "    loops = 0\n",
    "    sum_dist = np.sum(arr[:, 0])\n",
    "\n",
    "    while loops < 20:\n",
    "        if sum_dist < target:\n",
    "            # Pick out the values that have been added to\n",
    "            # the fewest times.\n",
    "            min_change = np.min(arr[:, 2])\n",
    "            inds_min_change = np.where(arr[:, 2] == min_change)\n",
    "            # Of these, pick out the value with the largest\n",
    "            # fractional part.\n",
    "            largest_frac = np.max(arr[inds_min_change, 1])\n",
    "            ind_largest_frac = np.where(\n",
    "                (arr[:, 2] == min_change) &\n",
    "                (arr[:, 1] == largest_frac)\n",
    "            )\n",
    "            if len(ind_largest_frac[0]) > 1:\n",
    "                # Arbitrarily pick the lowest mRS if multiple options.\n",
    "                ind_largest_frac = ind_largest_frac[0][0]\n",
    "            # Add one to the final digit of this mRS proportion\n",
    "            # and record the change in column 2.\n",
    "            arr[ind_largest_frac, 0] += 1\n",
    "            # arr[ind_largest_frac, 1] +=  \n",
    "            arr[ind_largest_frac, 2] += 1\n",
    "        elif sum_dist > target:\n",
    "            # Pick out the values that have been subtracted from\n",
    "            # the fewest times.\n",
    "            min_change = np.min(arr[:, 3])\n",
    "            inds_min_change = np.where(arr[:, 3] == min_change)\n",
    "            # Of these, pick out the value with the smallest\n",
    "            # fractional part.\n",
    "            smallest_frac = np.min(arr[inds_min_change, 1])\n",
    "            ind_smallest_frac = np.where(\n",
    "                (arr[:, 3] == min_change) &\n",
    "                (arr[:, 1] == smallest_frac)\n",
    "            )\n",
    "            if len(ind_smallest_frac[0]) > 1:\n",
    "                # Arbitrarily pick the lowest mRS if multiple options.\n",
    "                ind_smallest_frac = ind_smallest_frac[0][0]\n",
    "            # Subtract one from the final digit of this mRS proportion\n",
    "            # and record the change in column 3.\n",
    "            arr[ind_smallest_frac, 0] -= 1\n",
    "            # arr[ind_smallest_frac, 1] -= 1\n",
    "            arr[ind_smallest_frac, 3] += 1\n",
    "        sum_dist = np.sum(arr[:, 0])\n",
    "        if sum_dist == target:\n",
    "            loops = 20\n",
    "        else:\n",
    "            loops += 1\n",
    "\n",
    "    # Take the new fudged distribution:\n",
    "    dist_fudged = arr[:, 0] / 10**dp\n",
    "\n",
    "    return dist_fudged"
   ]
  },
  {
   "cell_type": "markdown",
   "id": "baa8cd5b-e6f9-4b4a-be9f-e0cda108a2e1",
   "metadata": {},
   "source": [
    "Store the derived mRS distributions in this dictionary:"
   ]
  },
  {
   "cell_type": "code",
   "execution_count": 62,
   "id": "4cd0fa9f-97e9-416c-8e34-8225bfee69e6",
   "metadata": {},
   "outputs": [],
   "source": [
    "mrs_dists = dict()"
   ]
  },
  {
   "cell_type": "markdown",
   "id": "f075e1f7-9df1-480d-90ed-1cecfc2e21db",
   "metadata": {},
   "source": [
    "## Pre-stroke data\n",
    "\n",
    "![](images/data_sources_pre-stroke.png)"
   ]
  },
  {
   "cell_type": "code",
   "execution_count": 63,
   "id": "253b73c5-a21c-4265-aad1-eaab6030b1c2",
   "metadata": {},
   "outputs": [],
   "source": [
    "pre_stroke_nlvo = np.array(\n",
    "    [0.582771, 0.163513, 0.103988, 0.101109, 0.041796, 0.006822, 0.0000])\n",
    "pre_stroke_lvo = np.array(\n",
    "    [0.407796, 0.143538, 0.120133, 0.166050, 0.118023, 0.044460, 0.0000])"
   ]
  },
  {
   "cell_type": "markdown",
   "id": "8a84193a-486e-4a39-b418-bfc30846e4c2",
   "metadata": {},
   "source": [
    "Round to 3 decimal places and force sum to be exactly 1 by nudging the smallest fractions down or the largest fractions up as required."
   ]
  },
  {
   "cell_type": "code",
   "execution_count": 64,
   "id": "478cf299-8270-48be-a8d8-1b7880137bfb",
   "metadata": {},
   "outputs": [],
   "source": [
    "# Use append to make sure the mRS=6 value can't be changed.\n",
    "pre_stroke_nlvo = np.append(fudge_sum_one(pre_stroke_nlvo[:-1], dp=3), 0.0)\n",
    "pre_stroke_lvo = np.append(fudge_sum_one(pre_stroke_lvo[:-1], dp=3), 0.0)"
   ]
  },
  {
   "cell_type": "code",
   "execution_count": 65,
   "id": "9dacc237-c6d8-46e2-aa0b-8b138a44c221",
   "metadata": {},
   "outputs": [],
   "source": [
    "mrs_dists['pre_stroke_nlvo'] = pre_stroke_nlvo\n",
    "mrs_dists['pre_stroke_lvo'] = pre_stroke_lvo"
   ]
  },
  {
   "cell_type": "code",
   "execution_count": 66,
   "id": "2ca8fb2d-2452-44e2-b4f7-ca8450c9b24e",
   "metadata": {},
   "outputs": [
    {
     "name": "stdout",
     "output_type": "stream",
     "text": [
      "[0.583 0.163 0.104 0.101 0.042 0.007 0.   ]\n",
      "[0.408 0.144 0.12  0.166 0.118 0.044 0.   ]\n"
     ]
    }
   ],
   "source": [
    "print(mrs_dists['pre_stroke_nlvo'])\n",
    "print(mrs_dists['pre_stroke_lvo'])"
   ]
  },
  {
   "cell_type": "markdown",
   "id": "cf244174-7ccf-4d51-ba8f-e9b9f7f94a88",
   "metadata": {},
   "source": [
    "## LVO - no treatment\n",
    "\n",
    "![](./images/data_sources_lvo-no-treatment.png)"
   ]
  },
  {
   "cell_type": "code",
   "execution_count": 67,
   "id": "02ef313e-2d8d-4233-818a-62039d4ac6e6",
   "metadata": {},
   "outputs": [],
   "source": [
    "mrs_dists['no_treatment_lvo'] = np.array([\n",
    "    0.050, 0.079, 0.136, 0.164, 0.247, 0.135, 0.189])"
   ]
  },
  {
   "cell_type": "code",
   "execution_count": 68,
   "id": "5b521f16-3b15-45ff-a615-aaa4f8640016",
   "metadata": {},
   "outputs": [
    {
     "data": {
      "text/plain": [
       "1.0"
      ]
     },
     "execution_count": 68,
     "metadata": {},
     "output_type": "execute_result"
    }
   ],
   "source": [
    "np.sum(mrs_dists['no_treatment_lvo'])"
   ]
  },
  {
   "cell_type": "markdown",
   "id": "64221704-1db7-470e-befd-09d214a45e04",
   "metadata": {},
   "source": [
    "## nLVO - no treatment\n",
    "\n",
    "![](./images/data_sources_nlvo-no-treatment.png)"
   ]
  },
  {
   "cell_type": "markdown",
   "id": "0ab24104-3f2f-4426-8e45-8124c6a60bd1",
   "metadata": {},
   "source": [
    "__1. Collect data__"
   ]
  },
  {
   "cell_type": "code",
   "execution_count": 69,
   "id": "5dfac74f-1459-46f9-a46c-49c6046f258a",
   "metadata": {},
   "outputs": [],
   "source": [
    "no_treatment_nlvo_lvo = np.array(\n",
    "    [0.1486, 0.2022, 0.1253, 0.1397, 0.1806, 0.0861, 0.1175])"
   ]
  },
  {
   "cell_type": "code",
   "execution_count": 70,
   "id": "01dfe259-b7d2-49e4-b896-1c553e8d04c5",
   "metadata": {},
   "outputs": [
    {
     "name": "stdout",
     "output_type": "stream",
     "text": [
      "0.9999999999999999 [0.149 0.202 0.125 0.14  0.181 0.086 0.117]\n"
     ]
    }
   ],
   "source": [
    "no_treatment_nlvo_lvo = fudge_sum_one(no_treatment_nlvo_lvo, dp=3)\n",
    "\n",
    "print(np.sum(no_treatment_nlvo_lvo), no_treatment_nlvo_lvo)"
   ]
  },
  {
   "cell_type": "markdown",
   "id": "99c3b128-a704-4d3a-a749-2b6f6ec3a581",
   "metadata": {},
   "source": [
    "__2. Find a reference probability__"
   ]
  },
  {
   "cell_type": "code",
   "execution_count": 71,
   "id": "7637473a-a1af-4724-966a-abf26fd5b713",
   "metadata": {},
   "outputs": [],
   "source": [
    "p_mrsleq1_nlvo = 0.46"
   ]
  },
  {
   "cell_type": "markdown",
   "id": "4adff333-0a5c-4e3b-82a9-4acf4a794c87",
   "metadata": {},
   "source": [
    "__3. Remove the LVO patients__\n",
    "\n",
    "Assume that the combined nLVO and LVO mRS distribution is made up of a weighted sum of a separate nLVO and LVO distribution.\n",
    "\n",
    "Define these probabilities for mRS <= 1: \n",
    "+ $P_1$ for nLVO & LVO,\n",
    "+ $P_2$ for LVO,\n",
    "+ $P_3$ for nLVO\n",
    "\n",
    "And calculate the weight $w$.\n",
    "\n",
    "The nLVO probability $P_3$ is found by:\n",
    "1. scaling up the combined nLVO & LVO distribution to $(1 + w)$\n",
    "1. scaling down the LVO distribution to $w$\n",
    "2. taking the difference\n",
    "\n",
    "As a formula, this is:\n",
    "\n",
    "$$ P_3 = (1 + w) \\times P_1 - w \\times P_2$$\n",
    "\n",
    "Rearrange to find the weight $w$:\n",
    "\n",
    "$$ w \\times (P_1 - P_2) = P_3 - P_1 $$\n",
    "\n",
    "$$ w = \\frac{P_3 - P_1}{P_1 - P_2} $$\n"
   ]
  },
  {
   "cell_type": "code",
   "execution_count": 72,
   "id": "98417506-4573-4f06-a457-db22531d163e",
   "metadata": {},
   "outputs": [],
   "source": [
    "p1 = np.sum(no_treatment_nlvo_lvo[:2])          # nLVO & LVO\n",
    "p2 = np.sum(mrs_dists['no_treatment_lvo'][:2])  # LVO\n",
    "p3 = p_mrsleq1_nlvo                             # nLVO"
   ]
  },
  {
   "cell_type": "code",
   "execution_count": 73,
   "id": "9728ca72-b73a-4c68-adcb-22436e16029e",
   "metadata": {},
   "outputs": [
    {
     "data": {
      "text/plain": [
       "0.49099099099099125"
      ]
     },
     "execution_count": 73,
     "metadata": {},
     "output_type": "execute_result"
    }
   ],
   "source": [
    "w = (p3 - p1) / (p1 - p2)\n",
    "\n",
    "w"
   ]
  },
  {
   "cell_type": "markdown",
   "id": "d3da2817-4f4a-4c36-8864-08cb245d33cc",
   "metadata": {},
   "source": [
    "Use this weight to calculate the new distribution:"
   ]
  },
  {
   "cell_type": "code",
   "execution_count": 74,
   "id": "d02f021c-cc53-4217-9a0b-4830893e737a",
   "metadata": {},
   "outputs": [
    {
     "data": {
      "text/plain": [
       "array([0.19760811, 0.26239189, 0.1195991 , 0.12821622, 0.14859459,\n",
       "       0.06194144, 0.08164865])"
      ]
     },
     "execution_count": 74,
     "metadata": {},
     "output_type": "execute_result"
    }
   ],
   "source": [
    "no_treatment_nlvo = (1 + w) * no_treatment_nlvo_lvo - w * mrs_dists['no_treatment_lvo']\n",
    "\n",
    "no_treatment_nlvo"
   ]
  },
  {
   "cell_type": "markdown",
   "id": "edbc0e1a-3b42-4f4b-959d-bc64f7f32a4e",
   "metadata": {},
   "source": [
    "Round to the same precision as the no-treatment LVO distribution:"
   ]
  },
  {
   "cell_type": "code",
   "execution_count": 75,
   "id": "a6625d53-109b-4a43-b10a-781b30f1103b",
   "metadata": {},
   "outputs": [
    {
     "name": "stdout",
     "output_type": "stream",
     "text": [
      "1.0 [0.198 0.262 0.12  0.128 0.148 0.062 0.082]\n"
     ]
    }
   ],
   "source": [
    "no_treatment_nlvo = fudge_sum_one(no_treatment_nlvo, dp=3)\n",
    "\n",
    "print(np.round(np.sum(no_treatment_nlvo), 3), no_treatment_nlvo)"
   ]
  },
  {
   "cell_type": "code",
   "execution_count": 76,
   "id": "680f16b9-5edb-4256-841e-c1d43723c7b8",
   "metadata": {},
   "outputs": [],
   "source": [
    "mrs_dists['no_treatment_nlvo'] = no_treatment_nlvo"
   ]
  },
  {
   "cell_type": "markdown",
   "id": "291bd8e7-add3-4b8a-b4d2-1b6d366a237e",
   "metadata": {},
   "source": [
    "Check that the mRS <= 1 values sum to the target probability:"
   ]
  },
  {
   "cell_type": "code",
   "execution_count": 77,
   "id": "293b3d4b-95a9-4b51-b1ac-514d816c1e11",
   "metadata": {},
   "outputs": [
    {
     "data": {
      "text/plain": [
       "0.46"
      ]
     },
     "execution_count": 77,
     "metadata": {},
     "output_type": "execute_result"
    }
   ],
   "source": [
    "np.sum(mrs_dists['no_treatment_nlvo'][:2])"
   ]
  },
  {
   "cell_type": "markdown",
   "id": "dc30112a-742b-494f-bce8-d2c96ad96a61",
   "metadata": {},
   "source": [
    "Are the values the same to a few decimal places?"
   ]
  },
  {
   "cell_type": "code",
   "execution_count": 78,
   "id": "2d588bb5-889a-420b-8870-7b917f99cfa8",
   "metadata": {},
   "outputs": [
    {
     "data": {
      "text/plain": [
       "True"
      ]
     },
     "execution_count": 78,
     "metadata": {},
     "output_type": "execute_result"
    }
   ],
   "source": [
    "np.isclose(np.sum(mrs_dists['no_treatment_nlvo'][:2]), p_mrsleq1_nlvo)"
   ]
  },
  {
   "cell_type": "markdown",
   "id": "b1c9247c-25e8-4abe-a7cc-c554a7f4a619",
   "metadata": {},
   "source": [
    "## nLVO at no-effect time\n",
    "\n",
    "![](./images/data_sources_nlvo-ivt-no-effect.png)"
   ]
  },
  {
   "cell_type": "code",
   "execution_count": 79,
   "id": "8845ad2f-88a9-4b13-b630-1f3a5b5234cd",
   "metadata": {},
   "outputs": [],
   "source": [
    "no_effect_nlvo_ivt_deaths = np.append(\n",
    "    mrs_dists['no_treatment_nlvo'][:-1] * (1.0 - 0.011),\n",
    "    mrs_dists['no_treatment_nlvo'][-1] + np.sum(mrs_dists['no_treatment_nlvo'][:-1] * 0.011),\n",
    ")"
   ]
  },
  {
   "cell_type": "code",
   "execution_count": 80,
   "id": "5a7decb9-4f12-4415-885f-e75bc2b25547",
   "metadata": {},
   "outputs": [
    {
     "data": {
      "text/plain": [
       "array([0.195822, 0.259118, 0.11868 , 0.126592, 0.146372, 0.061318,\n",
       "       0.092098])"
      ]
     },
     "execution_count": 80,
     "metadata": {},
     "output_type": "execute_result"
    }
   ],
   "source": [
    "no_effect_nlvo_ivt_deaths"
   ]
  },
  {
   "cell_type": "code",
   "execution_count": 81,
   "id": "3088661d-89a6-4049-963d-77646b2866ff",
   "metadata": {},
   "outputs": [
    {
     "name": "stdout",
     "output_type": "stream",
     "text": [
      "1.0 [0.196 0.259 0.119 0.127 0.146 0.061 0.092]\n"
     ]
    }
   ],
   "source": [
    "no_effect_nlvo_ivt_deaths = fudge_sum_one(no_effect_nlvo_ivt_deaths, dp=3)\n",
    "\n",
    "print(np.round(np.sum(no_effect_nlvo_ivt_deaths), 3), no_effect_nlvo_ivt_deaths)"
   ]
  },
  {
   "cell_type": "code",
   "execution_count": 82,
   "id": "c060c123-9add-4739-a729-475976dad5d8",
   "metadata": {},
   "outputs": [],
   "source": [
    "mrs_dists['no_effect_nlvo_ivt_deaths'] = no_effect_nlvo_ivt_deaths"
   ]
  },
  {
   "cell_type": "markdown",
   "id": "aed4cc6f-7ab9-45d2-8641-51e06e283305",
   "metadata": {},
   "source": [
    "## LVO - IVT at no-effect time\n",
    "\n",
    "![](./images/data_sources_lvo-ivt-no-effect.png)"
   ]
  },
  {
   "cell_type": "code",
   "execution_count": 83,
   "id": "16dea7e7-717a-4c9f-9b55-7cf875a65ef0",
   "metadata": {},
   "outputs": [],
   "source": [
    "no_effect_lvo_ivt_deaths = np.append(\n",
    "    mrs_dists['no_treatment_lvo'][:-1] * (1.0 - 0.034),\n",
    "    mrs_dists['no_treatment_lvo'][-1] + np.sum(mrs_dists['no_treatment_lvo'][:-1] * 0.034),\n",
    ")"
   ]
  },
  {
   "cell_type": "code",
   "execution_count": 84,
   "id": "e07a3ac0-8d09-469c-952b-496e8cd2dd0b",
   "metadata": {},
   "outputs": [
    {
     "data": {
      "text/plain": [
       "array([0.0483  , 0.076314, 0.131376, 0.158424, 0.238602, 0.13041 ,\n",
       "       0.216574])"
      ]
     },
     "execution_count": 84,
     "metadata": {},
     "output_type": "execute_result"
    }
   ],
   "source": [
    "no_effect_lvo_ivt_deaths"
   ]
  },
  {
   "cell_type": "code",
   "execution_count": 85,
   "id": "24a0faba-4b52-45af-98a8-13303bc1fac6",
   "metadata": {},
   "outputs": [
    {
     "name": "stdout",
     "output_type": "stream",
     "text": [
      "1.0 [0.048 0.076 0.131 0.159 0.239 0.13  0.217]\n"
     ]
    }
   ],
   "source": [
    "no_effect_lvo_ivt_deaths = fudge_sum_one(no_effect_lvo_ivt_deaths, dp=3)\n",
    "\n",
    "print(np.round(np.sum(no_effect_lvo_ivt_deaths), 3), no_effect_lvo_ivt_deaths)"
   ]
  },
  {
   "cell_type": "code",
   "execution_count": 86,
   "id": "5d332da9-549d-41be-b25a-cdc49476d341",
   "metadata": {},
   "outputs": [],
   "source": [
    "mrs_dists['no_effect_lvo_ivt_deaths'] = no_effect_lvo_ivt_deaths"
   ]
  },
  {
   "cell_type": "markdown",
   "id": "7b619f18-ced7-41c1-9f4a-4d0c6dd5a49f",
   "metadata": {},
   "source": [
    "## LVO - MT at no-effect time\n",
    "\n",
    "![](./images/data_sources_lvo-mt-no-effect.png)"
   ]
  },
  {
   "cell_type": "code",
   "execution_count": 87,
   "id": "c4e5d67f-1012-464d-b88a-ab80a785c300",
   "metadata": {},
   "outputs": [],
   "source": [
    "no_effect_lvo_mt_deaths = np.append(\n",
    "    mrs_dists['no_treatment_lvo'][:-1] * (1.0 - 0.040),\n",
    "    mrs_dists['no_treatment_lvo'][-1] + np.sum(mrs_dists['no_treatment_lvo'][:-1] * 0.040),\n",
    ")"
   ]
  },
  {
   "cell_type": "code",
   "execution_count": 88,
   "id": "8cef2d08-f2ab-4249-8341-0166b3eb18ac",
   "metadata": {},
   "outputs": [
    {
     "data": {
      "text/plain": [
       "array([0.048  , 0.07584, 0.13056, 0.15744, 0.23712, 0.1296 , 0.22144])"
      ]
     },
     "execution_count": 88,
     "metadata": {},
     "output_type": "execute_result"
    }
   ],
   "source": [
    "no_effect_lvo_mt_deaths"
   ]
  },
  {
   "cell_type": "code",
   "execution_count": 89,
   "id": "4ed5b082-526c-40d6-90ff-0ebfe72622ac",
   "metadata": {},
   "outputs": [
    {
     "name": "stdout",
     "output_type": "stream",
     "text": [
      "1.0 [0.048 0.076 0.131 0.157 0.237 0.13  0.221]\n"
     ]
    }
   ],
   "source": [
    "no_effect_lvo_mt_deaths = fudge_sum_one(no_effect_lvo_mt_deaths, dp=3)\n",
    "\n",
    "print(np.round(np.sum(no_effect_lvo_mt_deaths), 3), no_effect_lvo_mt_deaths)"
   ]
  },
  {
   "cell_type": "code",
   "execution_count": 92,
   "id": "13cfe320-fa35-41d5-94fd-2d7d21076046",
   "metadata": {},
   "outputs": [],
   "source": [
    "mrs_dists['no_effect_lvo_mt_deaths'] = no_effect_lvo_mt_deaths"
   ]
  },
  {
   "cell_type": "markdown",
   "id": "433b84c5-c024-4693-9d2b-dfe8ee661b22",
   "metadata": {},
   "source": [
    "## nLVO - IVT at time zero\n",
    "\n",
    "![](data_sources_nlvo-ivt-time-zero.png)\n",
    "\n",
    "__1. Get reference probability at no-effect time__"
   ]
  },
  {
   "cell_type": "code",
   "execution_count": 94,
   "id": "4da6cbd9-3adf-478b-b661-627977df4a52",
   "metadata": {},
   "outputs": [
    {
     "data": {
      "text/plain": [
       "0.455"
      ]
     },
     "execution_count": 94,
     "metadata": {},
     "output_type": "execute_result"
    }
   ],
   "source": [
    "p_mrsleq1_tne = np.sum(mrs_dists['no_effect_nlvo_ivt_deaths'][:2])\n",
    "\n",
    "p_mrsleq1_tne"
   ]
  },
  {
   "cell_type": "markdown",
   "id": "3ffbd4be-0670-4aa0-8cce-5f6c420a5fc9",
   "metadata": {},
   "source": [
    "__2. Calculate a reference probability at time zero.__"
   ]
  },
  {
   "cell_type": "code",
   "execution_count": 95,
   "id": "2afc5c79-09d9-4ad0-b299-1915e5d1f0d5",
   "metadata": {},
   "outputs": [],
   "source": [
    "a = 0.76296"
   ]
  },
  {
   "cell_type": "code",
   "execution_count": 116,
   "id": "e4f2bead-7035-4d7e-96a9-7ef151dcbb6a",
   "metadata": {},
   "outputs": [
    {
     "data": {
      "text/plain": [
       "0.642"
      ]
     },
     "execution_count": 116,
     "metadata": {},
     "output_type": "execute_result"
    }
   ],
   "source": [
    "t = np.exp(a) * (p_mrsleq1_tne / (1.0 - p_mrsleq1_tne))\n",
    "p_mrsleq1_t0 = round(t / (1 + t), 3)\n",
    "\n",
    "p_mrsleq1_t0"
   ]
  },
  {
   "cell_type": "markdown",
   "id": "396d5e1a-57d3-43cf-a0b4-0454476f1f87",
   "metadata": {},
   "source": [
    "__3. Combine mRS distributions.__"
   ]
  },
  {
   "cell_type": "code",
   "execution_count": 117,
   "id": "657b4d3e-af21-4f9e-9fb7-d607fb163bce",
   "metadata": {},
   "outputs": [],
   "source": [
    "pre_stroke_nlvo_ivt_deaths = np.append(\n",
    "    mrs_dists['pre_stroke_nlvo'][:-1] * (1.0 - 0.011),\n",
    "    mrs_dists['pre_stroke_nlvo'][-1] + np.sum(mrs_dists['pre_stroke_nlvo'][:-1] * 0.011),\n",
    ")"
   ]
  },
  {
   "cell_type": "markdown",
   "id": "4890638d-05e0-47ee-a8d1-4956a40851f6",
   "metadata": {},
   "source": [
    "The time-zero distribution is a weighted combination of the pre-stroke and no-effect distributions.\n",
    "\n",
    "Define these probabilities for mRS <= 1: \n",
    "+ $P_1$ for time-zero,\n",
    "+ $P_2$ for pre-stroke,\n",
    "+ $P_3$ for no-effect.\n",
    "\n",
    "And calculate the weight $w$.\n",
    "\n",
    "The time-zero probability $P_1$ is found by:\n",
    "1. scaling down the no-effect distribution to $(1 - w)$\n",
    "1. scaling down the pre-stroke distribution to $w$\n",
    "2. taking the sum\n",
    "\n",
    "As a formula, this is:\n",
    "\n",
    "$$ P_1 = (1 - w) \\times P_3 + w \\times P_2$$\n",
    "\n",
    "Rearrange to find the weight $w$:\n",
    "\n",
    "$$ w \\times (P_2 - P_3) = P_1 - P_3 $$\n",
    "\n",
    "$$ w = \\frac{P_1 - P_3}{P_2 - P_3} $$\n"
   ]
  },
  {
   "cell_type": "code",
   "execution_count": 118,
   "id": "707d87e3-5f1b-4853-a0c2-e5f9401630d2",
   "metadata": {},
   "outputs": [],
   "source": [
    "p1 = p_mrsleq1_t0\n",
    "p2 = np.sum(mrs_dists['pre_stroke_nlvo'][:2])\n",
    "p3 = p_mrsleq1_tne"
   ]
  },
  {
   "cell_type": "code",
   "execution_count": 119,
   "id": "4179d17f-aaf7-4be9-9c05-038a20cc252d",
   "metadata": {},
   "outputs": [
    {
     "data": {
      "text/plain": [
       "0.6426116838487973"
      ]
     },
     "execution_count": 119,
     "metadata": {},
     "output_type": "execute_result"
    }
   ],
   "source": [
    "w = (p1 - p3) / (p2 - p3)\n",
    "\n",
    "w"
   ]
  },
  {
   "cell_type": "markdown",
   "id": "68793efb-00c3-403b-ba1e-0c4567952dc1",
   "metadata": {},
   "source": [
    "Use this weight to calculate the new distribution:"
   ]
  },
  {
   "cell_type": "code",
   "execution_count": 120,
   "id": "5aeb28ac-5544-43bb-9bf3-95e5f7173ebd",
   "metadata": {},
   "outputs": [
    {
     "data": {
      "text/plain": [
       "array([0.44469072, 0.19730928, 0.10936082, 0.1102921 , 0.07916838,\n",
       "       0.02629897, 0.03287973])"
      ]
     },
     "execution_count": 120,
     "metadata": {},
     "output_type": "execute_result"
    }
   ],
   "source": [
    "time_zero_nlvo = (1 - w) * mrs_dists['no_effect_nlvo_ivt_deaths'] + w * mrs_dists['pre_stroke_nlvo']\n",
    "\n",
    "time_zero_nlvo"
   ]
  },
  {
   "cell_type": "markdown",
   "id": "97efdd80-fac0-4b97-87d0-cb70fb955733",
   "metadata": {},
   "source": [
    "Round to the same precision as the no-treatment LVO distribution:"
   ]
  },
  {
   "cell_type": "code",
   "execution_count": 121,
   "id": "384d501e-1d35-411e-aee4-6ac9929219d5",
   "metadata": {},
   "outputs": [
    {
     "name": "stdout",
     "output_type": "stream",
     "text": [
      "1.0 [0.445 0.197 0.11  0.11  0.079 0.026 0.033]\n"
     ]
    }
   ],
   "source": [
    "time_zero_nlvo = fudge_sum_one(time_zero_nlvo, dp=3)\n",
    "\n",
    "print(np.round(np.sum(time_zero_nlvo), 3), time_zero_nlvo)"
   ]
  },
  {
   "cell_type": "code",
   "execution_count": 122,
   "id": "249d76d6-f604-4fff-9cce-a2441f47cf9d",
   "metadata": {},
   "outputs": [],
   "source": [
    "mrs_dists['t0_treatment_nlvo_ivt'] = time_zero_nlvo"
   ]
  },
  {
   "cell_type": "markdown",
   "id": "6e96d45b-d348-49ba-8f78-666930d599a1",
   "metadata": {},
   "source": [
    "Check that the mRS <= 1 values sum to the target probability:"
   ]
  },
  {
   "cell_type": "code",
   "execution_count": 123,
   "id": "35ecf7ca-941f-43dc-bc7f-2c029ba08d4d",
   "metadata": {},
   "outputs": [
    {
     "data": {
      "text/plain": [
       "0.642"
      ]
     },
     "execution_count": 123,
     "metadata": {},
     "output_type": "execute_result"
    }
   ],
   "source": [
    "np.sum(mrs_dists['t0_treatment_nlvo_ivt'][:2])"
   ]
  },
  {
   "cell_type": "markdown",
   "id": "ed37da9a-1311-4ce8-ac30-840aa1928b24",
   "metadata": {},
   "source": [
    "Are the values the same to a few decimal places?"
   ]
  },
  {
   "cell_type": "code",
   "execution_count": 125,
   "id": "79241b5f-8dfa-4b3b-a166-f030f9f4e627",
   "metadata": {},
   "outputs": [
    {
     "data": {
      "text/plain": [
       "True"
      ]
     },
     "execution_count": 125,
     "metadata": {},
     "output_type": "execute_result"
    }
   ],
   "source": [
    "np.isclose(np.sum(mrs_dists['t0_treatment_nlvo_ivt'][:2]), p_mrsleq1_t0)"
   ]
  },
  {
   "cell_type": "markdown",
   "id": "d312a25a-ff50-4fdc-a857-bfb0eb4554f7",
   "metadata": {},
   "source": [
    "## LVO - IVT at time zero\n",
    "\n",
    "![](data_sources_lvo-ivt-time-zero.png)\n",
    "\n",
    "__1. Get reference probability at no-effect time__"
   ]
  },
  {
   "cell_type": "code",
   "execution_count": 126,
   "id": "322961dd-cd4b-4efa-9e7c-b5d63d0c5650",
   "metadata": {},
   "outputs": [
    {
     "data": {
      "text/plain": [
       "0.124"
      ]
     },
     "execution_count": 126,
     "metadata": {},
     "output_type": "execute_result"
    }
   ],
   "source": [
    "p_mrsleq1_tne = np.sum(mrs_dists['no_effect_lvo_ivt_deaths'][:2])\n",
    "\n",
    "p_mrsleq1_tne"
   ]
  },
  {
   "cell_type": "markdown",
   "id": "79572e8d-4657-4e9f-95fa-9c03939c1f65",
   "metadata": {},
   "source": [
    "__2. Calculate a reference probability at time zero.__"
   ]
  },
  {
   "cell_type": "code",
   "execution_count": 127,
   "id": "9a56f595-0b95-40c6-bcac-b7162b63c523",
   "metadata": {},
   "outputs": [],
   "source": [
    "a = 0.76296"
   ]
  },
  {
   "cell_type": "code",
   "execution_count": 128,
   "id": "5eea8c6c-71ff-4167-93db-c3a49e06e54d",
   "metadata": {},
   "outputs": [
    {
     "data": {
      "text/plain": [
       "0.233"
      ]
     },
     "execution_count": 128,
     "metadata": {},
     "output_type": "execute_result"
    }
   ],
   "source": [
    "t = np.exp(a) * (p_mrsleq1_tne / (1.0 - p_mrsleq1_tne))\n",
    "p_mrsleq1_t0 = round(t / (1 + t), 3)\n",
    "\n",
    "p_mrsleq1_t0"
   ]
  },
  {
   "cell_type": "markdown",
   "id": "1d6f3ea4-2f1d-4513-bc87-c1d1f4e43605",
   "metadata": {},
   "source": [
    "__3. Combine mRS distributions.__"
   ]
  },
  {
   "cell_type": "code",
   "execution_count": 129,
   "id": "1232e5d2-f2e2-4896-9416-590eefc3e4ef",
   "metadata": {},
   "outputs": [],
   "source": [
    "pre_stroke_lvo_ivt_deaths = np.append(\n",
    "    mrs_dists['pre_stroke_lvo'][:-1] * (1.0 - 0.034),\n",
    "    mrs_dists['pre_stroke_lvo'][-1] + np.sum(mrs_dists['pre_stroke_lvo'][:-1] * 0.034),\n",
    ")"
   ]
  },
  {
   "cell_type": "markdown",
   "id": "6aca7714-b521-4712-8588-d57e6f554efe",
   "metadata": {},
   "source": [
    "The time-zero distribution is a weighted combination of the pre-stroke and no-effect distributions.\n",
    "\n",
    "Define these probabilities for mRS <= 1: \n",
    "+ $P_1$ for time-zero,\n",
    "+ $P_2$ for pre-stroke,\n",
    "+ $P_3$ for no-effect.\n",
    "\n",
    "And calculate the weight $w$.\n",
    "\n",
    "The time-zero probability $P_1$ is found by:\n",
    "1. scaling down the no-effect distribution to $(1 - w)$\n",
    "1. scaling down the pre-stroke distribution to $w$\n",
    "2. taking the sum\n",
    "\n",
    "As a formula, this is:\n",
    "\n",
    "$$ P_1 = (1 - w) \\times P_3 + w \\times P_2$$\n",
    "\n",
    "Rearrange to find the weight $w$:\n",
    "\n",
    "$$ w \\times (P_2 - P_3) = P_1 - P_3 $$\n",
    "\n",
    "$$ w = \\frac{P_1 - P_3}{P_2 - P_3} $$\n"
   ]
  },
  {
   "cell_type": "code",
   "execution_count": 130,
   "id": "897cba5b-e5ef-4913-9e54-e6faab207ba5",
   "metadata": {},
   "outputs": [],
   "source": [
    "p1 = p_mrsleq1_t0\n",
    "p2 = np.sum(mrs_dists['pre_stroke_lvo'][:2])\n",
    "p3 = p_mrsleq1_tne"
   ]
  },
  {
   "cell_type": "code",
   "execution_count": 131,
   "id": "c0357166-1034-43e1-a1c3-9588d51ac337",
   "metadata": {},
   "outputs": [
    {
     "data": {
      "text/plain": [
       "0.25467289719626174"
      ]
     },
     "execution_count": 131,
     "metadata": {},
     "output_type": "execute_result"
    }
   ],
   "source": [
    "w = (p1 - p3) / (p2 - p3)\n",
    "\n",
    "w"
   ]
  },
  {
   "cell_type": "markdown",
   "id": "7c48843b-ee09-41f2-9945-d0c01ee0f4bb",
   "metadata": {},
   "source": [
    "Use this weight to calculate the new distribution:"
   ]
  },
  {
   "cell_type": "code",
   "execution_count": 132,
   "id": "0a2fe350-1d1b-4ffb-a257-61f5ba5f276c",
   "metadata": {},
   "outputs": [
    {
     "data": {
      "text/plain": [
       "array([0.13968224, 0.09331776, 0.1281986 , 0.16078271, 0.20818458,\n",
       "       0.10809813, 0.16173598])"
      ]
     },
     "execution_count": 132,
     "metadata": {},
     "output_type": "execute_result"
    }
   ],
   "source": [
    "time_zero_lvo = (1 - w) * mrs_dists['no_effect_lvo_ivt_deaths'] + w * mrs_dists['pre_stroke_lvo']\n",
    "\n",
    "time_zero_lvo"
   ]
  },
  {
   "cell_type": "markdown",
   "id": "65342654-7a26-4461-a54d-a96e13868825",
   "metadata": {},
   "source": [
    "Round to the same precision as the no-treatment LVO distribution:"
   ]
  },
  {
   "cell_type": "code",
   "execution_count": 133,
   "id": "46015c57-f72a-448e-8642-600c71d17b55",
   "metadata": {},
   "outputs": [
    {
     "name": "stdout",
     "output_type": "stream",
     "text": [
      "1.0 [0.14  0.093 0.128 0.161 0.208 0.108 0.162]\n"
     ]
    }
   ],
   "source": [
    "time_zero_lvo = fudge_sum_one(time_zero_lvo, dp=3)\n",
    "\n",
    "print(np.round(np.sum(time_zero_lvo), 3), time_zero_lvo)"
   ]
  },
  {
   "cell_type": "code",
   "execution_count": 134,
   "id": "387ecd06-da35-42a4-af1b-c2bbd0228482",
   "metadata": {},
   "outputs": [],
   "source": [
    "mrs_dists['t0_treatment_lvo_ivt'] = time_zero_lvo"
   ]
  },
  {
   "cell_type": "markdown",
   "id": "38b718c2-18e5-43d3-b619-d5ea80fddfec",
   "metadata": {},
   "source": [
    "Check that the mRS <= 1 values sum to the target probability:"
   ]
  },
  {
   "cell_type": "code",
   "execution_count": 135,
   "id": "55d155bf-2a49-4070-8897-ce799ae60f13",
   "metadata": {},
   "outputs": [
    {
     "data": {
      "text/plain": [
       "0.233"
      ]
     },
     "execution_count": 135,
     "metadata": {},
     "output_type": "execute_result"
    }
   ],
   "source": [
    "np.sum(mrs_dists['t0_treatment_lvo_ivt'][:2])"
   ]
  },
  {
   "cell_type": "markdown",
   "id": "473cb84a-4508-4ddb-b91a-b06793ad7239",
   "metadata": {},
   "source": [
    "Are the values the same to a few decimal places?"
   ]
  },
  {
   "cell_type": "code",
   "execution_count": 136,
   "id": "58bc3d30-7b4a-440d-bdef-aef83f6e5ad5",
   "metadata": {},
   "outputs": [
    {
     "data": {
      "text/plain": [
       "True"
      ]
     },
     "execution_count": 136,
     "metadata": {},
     "output_type": "execute_result"
    }
   ],
   "source": [
    "np.isclose(np.sum(mrs_dists['t0_treatment_lvo_ivt'][:2]), p_mrsleq1_t0)"
   ]
  },
  {
   "cell_type": "markdown",
   "id": "30bd1b0d-aa6b-4367-aedd-81c00807b3f3",
   "metadata": {},
   "source": [
    "## LVO - MT at time zero\n",
    "\n",
    "![](./images/data_sources_lvo-mt-time-zero.png)\n",
    "\n",
    "__2. Add excess deaths to pre-stroke distribution.__"
   ]
  },
  {
   "cell_type": "code",
   "execution_count": 137,
   "id": "af183437-0e87-41b8-a639-1b76379f5920",
   "metadata": {},
   "outputs": [],
   "source": [
    "pre_stroke_lvo_mt_deaths = np.append(\n",
    "    mrs_dists['pre_stroke_lvo'][:-1] * (1.0 - 0.040),\n",
    "    mrs_dists['pre_stroke_lvo'][-1] + np.sum(mrs_dists['pre_stroke_lvo'][:-1] * 0.040),\n",
    ")"
   ]
  },
  {
   "cell_type": "code",
   "execution_count": 142,
   "id": "5a3c3434-0e34-48f8-bc44-17ad4bda8f80",
   "metadata": {},
   "outputs": [
    {
     "name": "stdout",
     "output_type": "stream",
     "text": [
      "1.0 [0.392 0.138 0.115 0.16  0.113 0.042 0.04 ]\n"
     ]
    }
   ],
   "source": [
    "pre_stroke_lvo_mt_deaths = fudge_sum_one(pre_stroke_lvo_mt_deaths, dp=3)\n",
    "\n",
    "print(np.round(np.sum(pre_stroke_lvo_mt_deaths), 3), pre_stroke_lvo_mt_deaths)"
   ]
  },
  {
   "cell_type": "markdown",
   "id": "f1930e8f-c182-4a2d-b7d6-5df96b65bfd3",
   "metadata": {},
   "source": [
    "__3. Combine the data for full effect and no effect of recanalisation.__"
   ]
  },
  {
   "cell_type": "code",
   "execution_count": 144,
   "id": "e749c597-0213-463b-b2e9-56c83eb3e23e",
   "metadata": {},
   "outputs": [
    {
     "data": {
      "text/plain": [
       "array([0.306  , 0.1225 , 0.119  , 0.15925, 0.144  , 0.064  , 0.08525])"
      ]
     },
     "execution_count": 144,
     "metadata": {},
     "output_type": "execute_result"
    }
   ],
   "source": [
    "time_zero_lvo_mt = (\n",
    "    0.75 * pre_stroke_lvo_mt_deaths +\n",
    "    0.25 * mrs_dists['no_effect_lvo_mt_deaths']\n",
    ")\n",
    "\n",
    "time_zero_lvo_mt"
   ]
  },
  {
   "cell_type": "code",
   "execution_count": 145,
   "id": "b0bad2a9-2d8e-4969-b2f3-84e11ccca01f",
   "metadata": {},
   "outputs": [
    {
     "name": "stdout",
     "output_type": "stream",
     "text": [
      "1.0 [0.306 0.123 0.119 0.159 0.144 0.064 0.085]\n"
     ]
    }
   ],
   "source": [
    "time_zero_lvo_mt = fudge_sum_one(time_zero_lvo_mt, dp=3)\n",
    "\n",
    "print(np.round(np.sum(time_zero_lvo_mt), 3), time_zero_lvo_mt)"
   ]
  },
  {
   "cell_type": "code",
   "execution_count": null,
   "id": "824aa66b-e254-4afe-8287-c31b6b5a9f5f",
   "metadata": {},
   "outputs": [],
   "source": []
  }
 ],
 "metadata": {
  "kernelspec": {
   "display_name": "Python 3 (ipykernel)",
   "language": "python",
   "name": "python3"
  },
  "language_info": {
   "codemirror_mode": {
    "name": "ipython",
    "version": 3
   },
   "file_extension": ".py",
   "mimetype": "text/x-python",
   "name": "python",
   "nbconvert_exporter": "python",
   "pygments_lexer": "ipython3",
   "version": "3.9.16"
  }
 },
 "nbformat": 4,
 "nbformat_minor": 5
}
