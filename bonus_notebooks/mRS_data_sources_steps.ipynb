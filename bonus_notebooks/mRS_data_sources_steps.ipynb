{
 "cells": [
  {
   "cell_type": "markdown",
   "id": "43809afe-c7f3-4d40-96dd-64ab58909f0e",
   "metadata": {},
   "source": [
    "# mRS distribution derivation, step-by-step\n",
    "\n",
    "Because Anna has become muddled once again"
   ]
  },
  {
   "cell_type": "code",
   "execution_count": 1,
   "id": "52464b5c-1474-404d-8c61-bef40e8bc628",
   "metadata": {},
   "outputs": [],
   "source": [
    "import numpy as np\n",
    "import matplotlib.pyplot as plt"
   ]
  },
  {
   "cell_type": "markdown",
   "id": "6df91fad-cc83-4bdd-a494-dc7a1793242a",
   "metadata": {},
   "source": [
    "![](./images/excess_deaths_mt.png)"
   ]
  },
  {
   "cell_type": "code",
   "execution_count": 2,
   "id": "4146676d-09bf-4997-bc01-9f96c40f5663",
   "metadata": {},
   "outputs": [],
   "source": [
    "mrs_dists = dict()\n",
    "mrs_dists['pre_stroke_lvo'] = np.array([0.4179, 0.1430, 0.1184, 0.1642, 0.1138, 0.0427, 0.0000])\n",
    "mrs_dists['no_treatment_lvo'] = np.array([0.0500, 0.0790, 0.1360, 0.1640, 0.2470, 0.1350, 0.1890])"
   ]
  },
  {
   "cell_type": "code",
   "execution_count": 3,
   "id": "7d848646-9a1e-4516-9dc5-0f667c356a12",
   "metadata": {},
   "outputs": [],
   "source": [
    "mrs_dists_cumsum = dict()\n",
    "for key, val in zip(mrs_dists.keys(), mrs_dists.values()):\n",
    "    mrs_dists_cumsum[key] = np.cumsum(mrs_dists[key])"
   ]
  },
  {
   "cell_type": "code",
   "execution_count": 4,
   "id": "2bdf13cf-1128-4b7d-a6c8-ed4ffa89c15d",
   "metadata": {},
   "outputs": [
    {
     "data": {
      "text/plain": [
       "{'pre_stroke_lvo': array([0.4179, 0.5609, 0.6793, 0.8435, 0.9573, 1.    , 1.    ]),\n",
       " 'no_treatment_lvo': array([0.05 , 0.129, 0.265, 0.429, 0.676, 0.811, 1.   ])}"
      ]
     },
     "execution_count": 4,
     "metadata": {},
     "output_type": "execute_result"
    }
   ],
   "source": [
    "mrs_dists_cumsum"
   ]
  },
  {
   "cell_type": "code",
   "execution_count": 5,
   "id": "192370f7-a5d7-404e-b66f-dff798007f66",
   "metadata": {},
   "outputs": [],
   "source": [
    "def convert_prob_to_logodds(p):\n",
    "    return np.log(p / (1.0 - p))"
   ]
  },
  {
   "cell_type": "code",
   "execution_count": 6,
   "id": "708565e9-78be-4d80-b9bf-84b4a1595ead",
   "metadata": {},
   "outputs": [],
   "source": [
    "def convert_logodds_to_prob(l):\n",
    "    return np.exp(l) / (1.0 + np.exp(l))"
   ]
  },
  {
   "cell_type": "code",
   "execution_count": null,
   "id": "443b76d5-1d5c-4bf2-8af7-7f132e9fa8ba",
   "metadata": {},
   "outputs": [],
   "source": [
    "# Probabilities in pre-stroke and no-treatment dists:\n",
    "# P(mRS < 6)\n",
    "p_pre = mrs_dists_cumsum['pre_stroke_lvo'][5]\n",
    "p_not = mrs_dists_cumsum['no_treatment_lvo'][5]\n",
    "\n",
    "# Target probability at average MT treatment time:\n",
    "p_death_mt = 97.0 / 633.0\n",
    "p_target = 1.0 - p_death_mt\n",
    "l_target = convert_prob_to_logodds(p_target)\n",
    "\n",
    "# Times in hours:\n",
    "t0 = 0.0\n",
    "tne = 8.0\n",
    "# Average MT treatment time:\n",
    "t_target = (285.0 / 60.0)"
   ]
  },
  {
   "cell_type": "code",
   "execution_count": null,
   "id": "a4fdb46c-a7e9-449c-880c-a1a6be7e7b38",
   "metadata": {},
   "outputs": [],
   "source": [
    "p_pre, p_not, p_target"
   ]
  },
  {
   "cell_type": "code",
   "execution_count": null,
   "id": "a0278055-f0a0-4c43-8821-a02aa1f5d1c8",
   "metadata": {},
   "outputs": [],
   "source": [
    "convert_logodds_to_prob(l_target)"
   ]
  },
  {
   "cell_type": "markdown",
   "id": "bd96cdcc-c227-4190-84e5-fab31acd6100",
   "metadata": {},
   "source": [
    "## When excess deaths are zero, what is the mortality rate at 285 minutes?"
   ]
  },
  {
   "cell_type": "code",
   "execution_count": null,
   "id": "a3cc9fba-8ed6-4a91-994b-fb47cc1021e7",
   "metadata": {},
   "outputs": [],
   "source": [
    "def calculate_logodds_with_excess_deaths(p_pre, p_not, ed):\n",
    "    # Weight pre-stroke probability by excess deaths:\n",
    "    p_pre_deaths = p_pre * (1.0 - ed)\n",
    "    # Weight no-treatment probability by excess deaths:\n",
    "    p_tne = p_not * (1.0 - ed)\n",
    "    # Calculate new time-zero-treatment probability by\n",
    "    # combining the new pre-stroke and no-treatment probs:\n",
    "    p_t0 = 0.75 * p_pre_deaths + 0.25 * p_tne\n",
    "    \n",
    "    # Convert time-zero and time-of-no-effect probs to logodds:\n",
    "    l_t0 = convert_prob_to_logodds(p_t0)\n",
    "    l_tne = convert_prob_to_logodds(p_tne)\n",
    "    return l_t0, l_tne"
   ]
  },
  {
   "cell_type": "code",
   "execution_count": null,
   "id": "b8e146ac-dcc0-4ee8-b6de-2e2345d91de1",
   "metadata": {},
   "outputs": [],
   "source": [
    "def calculate_logodds_t_target(ed, p_pre, p_not, tne, t0, t_target):\n",
    "    l_t0, l_tne = calculate_logodds_with_excess_deaths(p_pre, p_not, ed)\n",
    "\n",
    "    slope = (l_tne - l_t0) / (tne - t0)\n",
    "    y_intercept = l_t0\n",
    "\n",
    "    l_t_target = slope * t_target + y_intercept\n",
    "    return l_t_target"
   ]
  },
  {
   "cell_type": "code",
   "execution_count": null,
   "id": "011477ae-e6e6-4382-a17c-a9ddac2d2199",
   "metadata": {},
   "outputs": [],
   "source": [
    "l_target_ed0 = calculate_logodds_t_target(0.0, p_pre, p_not, tne, t0, t_target)\n",
    "p_target_ed0 = convert_logodds_to_prob(l_target_ed0)\n",
    "\n",
    "print(f'Mortality at {t_target} hours: {1.0 - p_target_ed0:.2%}')"
   ]
  },
  {
   "cell_type": "markdown",
   "id": "2d45bcf7-e3da-43b7-b426-24698b571de5",
   "metadata": {},
   "source": [
    "## Try various excess death rates"
   ]
  },
  {
   "cell_type": "code",
   "execution_count": null,
   "id": "06ee4f8d-43ec-472e-8e0b-d4084b482756",
   "metadata": {},
   "outputs": [],
   "source": [
    "plt.scatter(t_target, l_target, label='Target', marker='x')\n",
    "for ed in np.arange(0.00, 0.10, 0.02):\n",
    "    # Find endpoints of the straight line for this excess deaths value:\n",
    "    l_t0, l_tne = calculate_logodds_with_excess_deaths(p_pre, p_not, ed)\n",
    "    # Plot the straight line fit:\n",
    "    plt.plot(\n",
    "        [t0, tne],\n",
    "        [l_t0, l_tne],\n",
    "        label=f'{ed:.2%} excess deaths'\n",
    "    )\n",
    "plt.legend()\n",
    "plt.ylabel('log(odds)')\n",
    "plt.xlabel('Time (hours)')\n",
    "plt.show()"
   ]
  },
  {
   "cell_type": "markdown",
   "id": "e6edd17b-b1ab-4e07-b1be-7bc3392c1228",
   "metadata": {},
   "source": [
    "## Optimize the value of \"excess deaths\""
   ]
  },
  {
   "cell_type": "code",
   "execution_count": null,
   "id": "1d7cc431-4a9f-474c-a61b-26a943358207",
   "metadata": {},
   "outputs": [],
   "source": [
    "def calculate_difference_logodds_t_target(ed, args):\n",
    "    l_t_target = calculate_logodds_t_target(ed, *args[1:])\n",
    "    return np.abs(args[0] - l_t_target)"
   ]
  },
  {
   "cell_type": "code",
   "execution_count": null,
   "id": "ba2477f2-9c26-4705-a5d4-5b69c42f7d00",
   "metadata": {},
   "outputs": [],
   "source": [
    "from scipy.optimize import minimize"
   ]
  },
  {
   "cell_type": "code",
   "execution_count": null,
   "id": "b5aeb9c3-cba0-4b88-97bf-15460685a185",
   "metadata": {},
   "outputs": [],
   "source": [
    "results = minimize(\n",
    "    calculate_difference_logodds_t_target,  # Result from this func.\n",
    "    0.03,                                    # Initial guess.\n",
    "    # args = [p_pre, p_not, tne, t0, t_target],  # Constants.\n",
    "    args = [l_target, p_pre, p_not, tne, t0, t_target],  # Constants.\n",
    "    method='Nelder-Mead'                    # Good when abs() in func.\n",
    ")\n",
    "\n",
    "# Save the optimized excess deaths value:\n",
    "ed_opt = results.x[0]\n",
    "\n",
    "# View full results:\n",
    "results"
   ]
  },
  {
   "cell_type": "markdown",
   "id": "36004efc-13c2-49b2-8521-63b14a0273e5",
   "metadata": {},
   "source": [
    "Check that this value is sensible by plotting its straight line fit:"
   ]
  },
  {
   "cell_type": "code",
   "execution_count": null,
   "id": "52a4bf44-a003-46c4-93c3-c64c6304d09e",
   "metadata": {},
   "outputs": [],
   "source": [
    "plt.scatter(t_target, l_target, label='Target', marker='x')\n",
    "\n",
    "l_t0, l_tne = calculate_logodds_with_excess_deaths(p_pre, p_not, ed_opt)\n",
    "plt.plot(\n",
    "    [t0, tne],\n",
    "    [l_t0, l_tne],\n",
    "    label=f'{ed_opt:.2%} excess deaths'\n",
    ")\n",
    "\n",
    "# l_t_target_opt = calculate_logodds_t_target(ed_opt)\n",
    "# plt.scatter(t_target, l_t_target_opt, marker='x', color='k')\n",
    "plt.ylabel('log(odds)')\n",
    "plt.xlabel('Time (hours)')\n",
    "plt.legend()\n",
    "plt.show()"
   ]
  },
  {
   "cell_type": "markdown",
   "id": "03ec8796-29fa-4e51-8ab6-3f4bd07387a4",
   "metadata": {},
   "source": [
    "# Flip the probabilities\n",
    "\n",
    "This method doesn't seem to work properly - get 36% excess deaths. Think it's because the mRS=6 bin is zero in the pre-stroke distribution, so scaling it up keeps the zero value when it ought to become non-zero deaths."
   ]
  },
  {
   "cell_type": "code",
   "execution_count": 25,
   "id": "36f1bfb7-3833-48f6-a303-e2ade7442bd9",
   "metadata": {},
   "outputs": [],
   "source": [
    "# Probabilities in pre-stroke and no-treatment dists:\n",
    "# P(mRS < 6)\n",
    "p_death_pre = mrs_dists['pre_stroke_lvo'][-1]\n",
    "p_death_not = mrs_dists['no_treatment_lvo'][-1]\n",
    "\n",
    "# Target probability at average MT treatment time:\n",
    "p_death_mt = 97.0 / 633.0\n",
    "l_death_target = convert_prob_to_logodds(p_death_mt)\n",
    "\n",
    "# Times in hours:\n",
    "t0 = 0.0\n",
    "tne = 8.0\n",
    "# Average MT treatment time:\n",
    "t_target = (285.0 / 60.0)"
   ]
  },
  {
   "cell_type": "code",
   "execution_count": 22,
   "id": "922e417b-d807-472d-ad20-25c99c8e1450",
   "metadata": {},
   "outputs": [
    {
     "name": "stdout",
     "output_type": "stream",
     "text": [
      "0.0 0.189 0.15323854660347552\n"
     ]
    }
   ],
   "source": [
    "print(p_death_pre, p_death_not, p_death_mt)"
   ]
  },
  {
   "cell_type": "code",
   "execution_count": 9,
   "id": "414548b5-ee40-475b-9b55-1f439f0a1340",
   "metadata": {},
   "outputs": [
    {
     "data": {
      "text/plain": [
       "0.0"
      ]
     },
     "execution_count": 9,
     "metadata": {},
     "output_type": "execute_result"
    }
   ],
   "source": [
    "p_death_pre * (1.00 + 0.02)"
   ]
  },
  {
   "cell_type": "code",
   "execution_count": 10,
   "id": "69692fd4-3374-4e22-9833-b901237f2e5a",
   "metadata": {},
   "outputs": [
    {
     "data": {
      "text/plain": [
       "0.19278"
      ]
     },
     "execution_count": 10,
     "metadata": {},
     "output_type": "execute_result"
    }
   ],
   "source": [
    "p_death_not * (1.00 + 0.02)"
   ]
  },
  {
   "cell_type": "code",
   "execution_count": 11,
   "id": "ed3ea4be-037b-41b8-b2c5-9998c6bd6e9e",
   "metadata": {},
   "outputs": [
    {
     "data": {
      "text/plain": [
       "0.15323854660347552"
      ]
     },
     "execution_count": 11,
     "metadata": {},
     "output_type": "execute_result"
    }
   ],
   "source": [
    "p_death_mt"
   ]
  },
  {
   "cell_type": "code",
   "execution_count": 12,
   "id": "78596a21-b081-485a-8a05-f61738022358",
   "metadata": {},
   "outputs": [
    {
     "data": {
      "text/plain": [
       "-1.709423182567419"
      ]
     },
     "execution_count": 12,
     "metadata": {},
     "output_type": "execute_result"
    }
   ],
   "source": [
    "l_death_target"
   ]
  },
  {
   "cell_type": "markdown",
   "id": "04a95d6b-967f-46c7-9019-0fac19ccc535",
   "metadata": {},
   "source": [
    "## When excess deaths are zero, what is the mortality rate at 285 minutes?"
   ]
  },
  {
   "cell_type": "code",
   "execution_count": 13,
   "id": "3d357db4-556e-4735-8281-c40eca4dcb85",
   "metadata": {},
   "outputs": [],
   "source": [
    "def calculate_logodds_with_excess_deaths(p_pre, p_not, ed):\n",
    "    # Weight pre-stroke probability by excess deaths:\n",
    "    p_pre_deaths = p_pre * (1.0 + ed)\n",
    "    # Weight no-treatment probability by excess deaths:\n",
    "    p_tne = p_not * (1.0 + ed)\n",
    "    # Calculate new time-zero-treatment probability by\n",
    "    # combining the new pre-stroke and no-treatment probs:\n",
    "    p_t0 = 0.75 * p_pre_deaths + 0.25 * p_tne\n",
    "    \n",
    "    # Convert time-zero and time-of-no-effect probs to logodds:\n",
    "    l_t0 = convert_prob_to_logodds(p_t0)\n",
    "    l_tne = convert_prob_to_logodds(p_tne)\n",
    "    return l_t0, l_tne"
   ]
  },
  {
   "cell_type": "code",
   "execution_count": 14,
   "id": "2f3abd23-e6fe-47c8-ab7a-56684924596c",
   "metadata": {},
   "outputs": [],
   "source": [
    "def calculate_logodds_t_target(ed, p_pre, p_not, tne, t0, t_target):\n",
    "    l_t0, l_tne = calculate_logodds_with_excess_deaths(p_pre, p_not, ed)\n",
    "\n",
    "    slope = (l_tne - l_t0) / (tne - t0)\n",
    "    y_intercept = l_t0\n",
    "\n",
    "    l_t_target = slope * t_target + y_intercept\n",
    "    return l_t_target"
   ]
  },
  {
   "cell_type": "code",
   "execution_count": 27,
   "id": "30d04761-87c0-4093-8dfa-bbfbe48a2fcb",
   "metadata": {},
   "outputs": [
    {
     "name": "stdout",
     "output_type": "stream",
     "text": [
      "-3.0038998858142176 -1.4565210390557706\n"
     ]
    }
   ],
   "source": [
    "l_death_t0, l_death_tne = calculate_logodds_with_excess_deaths(p_death_pre, p_death_not, ed=0.0)\n",
    "\n",
    "print(l_death_t0, l_death_tne)"
   ]
  },
  {
   "cell_type": "code",
   "execution_count": 23,
   "id": "62491681-21e2-41c3-b0cc-bed5937ff96f",
   "metadata": {},
   "outputs": [
    {
     "name": "stdout",
     "output_type": "stream",
     "text": [
      "Mortality at 4.75 hours: 11.05%\n"
     ]
    }
   ],
   "source": [
    "l_death_target_ed0 = calculate_logodds_t_target(0.0, p_death_pre, p_death_not, tne, t0, t_target)\n",
    "p_death_target_ed0 = convert_logodds_to_prob(l_death_target_ed0)\n",
    "\n",
    "print(f'Mortality at {t_target} hours: {p_death_target_ed0:.2%}')"
   ]
  },
  {
   "cell_type": "code",
   "execution_count": 26,
   "id": "1d1a2361-4b24-4f8d-9c82-2a14fce6682b",
   "metadata": {},
   "outputs": [
    {
     "data": {
      "text/plain": [
       "-2.08514369555139"
      ]
     },
     "execution_count": 26,
     "metadata": {},
     "output_type": "execute_result"
    }
   ],
   "source": [
    "l_death_target_ed0"
   ]
  },
  {
   "cell_type": "markdown",
   "id": "ca6be830-b3c0-4fa2-99aa-4cd56cada0a9",
   "metadata": {},
   "source": [
    "## Try various excess death rates"
   ]
  },
  {
   "cell_type": "code",
   "execution_count": 30,
   "id": "61bc3f19-2476-43ed-ab10-82ad77d44016",
   "metadata": {},
   "outputs": [
    {
     "data": {
      "image/png": "[encoded data removed]",
      "text/plain": [
       "<Figure size 640x480 with 1 Axes>"
      ]
     },
     "metadata": {},
     "output_type": "display_data"
    }
   ],
   "source": [
    "for ed in np.arange(0.00, 0.10, 0.02):\n",
    "    # Find endpoints of the straight line for this excess deaths value:\n",
    "    # l_t0, l_tne = calculate_logodds_with_excess_deaths(p_pre, p_not, ed)\n",
    "    l_death_t0, l_death_tne = calculate_logodds_with_excess_deaths(p_death_pre, p_death_not, ed)\n",
    "    # Plot the straight line fit:\n",
    "    plt.plot(\n",
    "        [t0, tne],\n",
    "        [l_death_t0, l_death_tne],\n",
    "        label=f'{ed:.2%} excess deaths'\n",
    "    )\n",
    "    \n",
    "    l_death_target_ed = calculate_logodds_t_target(ed, p_death_pre, p_death_not, tne, t0, t_target)\n",
    "    plt.scatter(t_target, l_death_target_ed)\n",
    "\n",
    "plt.scatter(t_target, l_death_target, label='Target', marker='x', color='k')\n",
    "plt.legend()\n",
    "plt.ylabel('log(odds)')\n",
    "plt.xlabel('Time (hours)')\n",
    "plt.show()"
   ]
  },
  {
   "cell_type": "markdown",
   "id": "6978407f-3c88-40f2-843f-c5c01c180a1c",
   "metadata": {},
   "source": [
    "## Optimize the value of \"excess deaths\""
   ]
  },
  {
   "cell_type": "code",
   "execution_count": 17,
   "id": "c798368e-efde-48fc-b548-74c95a21baa6",
   "metadata": {},
   "outputs": [],
   "source": [
    "def calculate_difference_logodds_t_target(ed, args):\n",
    "    l_t_target = calculate_logodds_t_target(ed, *args[1:])\n",
    "    return np.abs(args[0] - l_t_target)"
   ]
  },
  {
   "cell_type": "code",
   "execution_count": 18,
   "id": "3b458430-e369-4c78-bb05-f63764e196ee",
   "metadata": {},
   "outputs": [],
   "source": [
    "from scipy.optimize import minimize"
   ]
  },
  {
   "cell_type": "code",
   "execution_count": 19,
   "id": "49d231df-90f1-4a8f-8e78-51918090b6f7",
   "metadata": {},
   "outputs": [
    {
     "data": {
      "text/plain": [
       "       message: Optimization terminated successfully.\n",
       "       success: True\n",
       "        status: 0\n",
       "           fun: 1.3232797258844187e-05\n",
       "             x: [ 3.698e-01]\n",
       "           nit: 19\n",
       "          nfev: 38\n",
       " final_simplex: (array([[ 3.698e-01],\n",
       "                       [ 3.698e-01]]), array([ 1.323e-05,  7.133e-05]))"
      ]
     },
     "execution_count": 19,
     "metadata": {},
     "output_type": "execute_result"
    }
   ],
   "source": [
    "results = minimize(\n",
    "    calculate_difference_logodds_t_target,  # Result from this func.\n",
    "    0.03,                                    # Initial guess.\n",
    "    args = [l_death_target, p_death_pre, p_death_not, tne, t0, t_target],  # Constants.\n",
    "    method='Nelder-Mead'                    # Good when abs() in func.\n",
    ")\n",
    "\n",
    "# Save the optimized excess deaths value:\n",
    "ed_opt = results.x[0]\n",
    "\n",
    "# View full results:\n",
    "results"
   ]
  },
  {
   "cell_type": "markdown",
   "id": "5c143cee-cae5-41ef-86b4-a50df22f8412",
   "metadata": {},
   "source": [
    "Check that this value is sensible by plotting its straight line fit:"
   ]
  },
  {
   "cell_type": "code",
   "execution_count": 20,
   "id": "f19debbc-827e-4c4e-bbf2-25d059d8f5db",
   "metadata": {},
   "outputs": [
    {
     "data": {
      "image/png": "[encoded data removed]",
      "text/plain": [
       "<Figure size 640x480 with 1 Axes>"
      ]
     },
     "metadata": {},
     "output_type": "display_data"
    }
   ],
   "source": [
    "plt.scatter(t_target, l_death_target, label='Target', marker='x')\n",
    "\n",
    "l_death_t0, l_death_tne = calculate_logodds_with_excess_deaths(p_death_pre, p_death_not, ed_opt)\n",
    "plt.plot(\n",
    "    [t0, tne],\n",
    "    [l_death_t0, l_death_tne],\n",
    "    label=f'{ed_opt:.2%} excess deaths'\n",
    ")\n",
    "\n",
    "# l_t_target_opt = calculate_logodds_t_target(ed_opt)\n",
    "# plt.scatter(t_target, l_t_target_opt, marker='x', color='k')\n",
    "plt.ylabel('log(odds)')\n",
    "plt.xlabel('Time (hours)')\n",
    "plt.legend()\n",
    "plt.show()"
   ]
  },
  {
   "cell_type": "code",
   "execution_count": 21,
   "id": "6098375c-db16-4015-a165-cb5a3612aa64",
   "metadata": {},
   "outputs": [
    {
     "data": {
      "text/plain": [
       "0.15323854660347552"
      ]
     },
     "execution_count": 21,
     "metadata": {},
     "output_type": "execute_result"
    }
   ],
   "source": [
    "convert_logodds_to_prob(l_death_target)"
   ]
  },
  {
   "cell_type": "code",
   "execution_count": null,
   "id": "1f21455a-7281-4e86-af4d-976f87050c71",
   "metadata": {},
   "outputs": [],
   "source": []
  }
 ],
 "metadata": {
  "kernelspec": {
   "display_name": "Python 3 (ipykernel)",
   "language": "python",
   "name": "python3"
  },
  "language_info": {
   "codemirror_mode": {
    "name": "ipython",
    "version": 3
   },
   "file_extension": ".py",
   "mimetype": "text/x-python",
   "name": "python",
   "nbconvert_exporter": "python",
   "pygments_lexer": "ipython3",
   "version": "3.9.16"
  }
 },
 "nbformat": 4,
 "nbformat_minor": 5
}
