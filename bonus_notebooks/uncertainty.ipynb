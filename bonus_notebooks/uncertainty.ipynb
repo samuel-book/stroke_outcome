{
 "cells": [
  {
   "cell_type": "markdown",
   "id": "0fbe735a-20a8-461a-8a05-a198ee727cf0",
   "metadata": {},
   "source": [
    "# Uncertainties"
   ]
  },
  {
   "cell_type": "markdown",
   "id": "2f514cf2-58d3-4a28-9a52-75dd070d0d11",
   "metadata": {},
   "source": [
    "Generally"
   ]
  },
  {
   "cell_type": "markdown",
   "id": "dcef74f0-9daf-4189-95cf-9746924837eb",
   "metadata": {},
   "source": [
    "---"
   ]
  },
  {
   "cell_type": "markdown",
   "id": "9708ef27-f3cf-4ec5-9c19-a36e057933b5",
   "metadata": {},
   "source": [
    "## Notebook admin"
   ]
  },
  {
   "cell_type": "code",
   "execution_count": 16,
   "id": "5c5f0c99-98f9-4d73-aac4-9541211426c6",
   "metadata": {},
   "outputs": [],
   "source": [
    "import matplotlib.pyplot as plt\n",
    "import numpy as np\n",
    "import pandas as pd\n",
    "\n",
    "from scipy.stats import norm\n",
    "\n",
    "# Set NumPy and Pandas to print 4 decimal places\n",
    "np.set_printoptions(precision=4)\n",
    "pd.set_option(\"display.precision\", 4)"
   ]
  },
  {
   "cell_type": "code",
   "execution_count": null,
   "id": "825e6248-6001-4611-a210-782cce81a63c",
   "metadata": {},
   "outputs": [],
   "source": []
  },
  {
   "cell_type": "markdown",
   "id": "6740bd7a-053c-4e19-9e3e-0e731cfc7e83",
   "metadata": {},
   "source": [
    "---"
   ]
  },
  {
   "cell_type": "markdown",
   "id": "1a0a421c-4ca3-4e11-98a2-0d8149fe0048",
   "metadata": {},
   "source": [
    "# Population uncertainties\n",
    "\n",
    "Use the [population proportion confidence interval](https://en.wikipedia.org/wiki/Population_proportion):\n",
    "\n",
    "$$ CI = \\hat{p} \\pm z^* \\sqrt{\\frac{\\hat{p}(1-\\hat{p})}{n}} $$\n",
    "\n",
    "for sample probability $\\hat{p}$, scale factor relating to confidence interval $z^*$, and sample population size $n$ out of the full population of size $N$.\n",
    "\n",
    "The conditions for inference (i.e. the requirements for this formula to be statistically valid) are:\n",
    "    \n",
    "+ $n \\cdot \\hat{p} \\geq 10$\n",
    "+ $n \\cdot (1-\\hat{p}) \\geq 10$\n",
    "+ $N \\geq 10 n$\n",
    "\n",
    "$z^*$ is calculated using the confidence level $C$:\n",
    "\n",
    "$$ z^* = \\frac{1-C}{2} $$"
   ]
  },
  {
   "cell_type": "code",
   "execution_count": 2,
   "id": "08d8a334-d21b-4577-bea9-fb0f6d966c96",
   "metadata": {},
   "outputs": [],
   "source": [
    "def calculate_pm_confint(p, n, zstar):\n",
    "    return zstar * np.sqrt( (p*(1-p))/n )"
   ]
  },
  {
   "cell_type": "code",
   "execution_count": 46,
   "id": "d449d713-5883-4dea-8312-c3c894713521",
   "metadata": {},
   "outputs": [],
   "source": [
    "def calculate_zstar(C):\n",
    "    # C is the area under the normal distribution that we want. \n",
    "    # Define some proportion \"1-C\" from the centre of the normal dist:\n",
    "    area_under_both_tails = 1-C\n",
    "    # We want to only exclude the right-hand tail instead of both tails. \n",
    "    # So halve this proportion:\n",
    "    area_under_tail = area_under_both_tails*0.5\n",
    "    # Probability density function is called \"ppf\". \n",
    "    # Find zstar, which is where the area under the normal distribution\n",
    "    # to the right of zstar is equal to tail_area.\n",
    "    zstar = norm.ppf(1-area_under_tail)\n",
    "    return zstar"
   ]
  },
  {
   "cell_type": "code",
   "execution_count": 47,
   "id": "590663a2-9f33-44e5-a420-700b094a1267",
   "metadata": {},
   "outputs": [
    {
     "data": {
      "text/plain": [
       "1.959963984540054"
      ]
     },
     "execution_count": 47,
     "metadata": {},
     "output_type": "execute_result"
    }
   ],
   "source": [
    "C = 0.95\n",
    "zstar = calculate_zstar(C)\n",
    "\n",
    "zstar"
   ]
  },
  {
   "cell_type": "code",
   "execution_count": 30,
   "id": "e508dbfe-5260-4b39-b35d-90f83055a1fd",
   "metadata": {},
   "outputs": [],
   "source": [
    "n_patients_total_pre_stroke_nlvo = 184761\n",
    "dist_pre_stroke_nlvo = np.array(\n",
    "    [0.582881, 0.162538, 0.103440, 0.102223, 0.041973, 0.006945, 0.0])"
   ]
  },
  {
   "cell_type": "code",
   "execution_count": 31,
   "id": "70be9971-4862-46b5-b994-605b1f0afdf5",
   "metadata": {},
   "outputs": [],
   "source": [
    "n_patients_total_pre_stroke_lvo = 61915\n",
    "dist_pre_stroke_lvo = np.array([\n",
    "    0.417894, 0.142959, 0.118430, 0.164211, 0.113775, 0.042731, 0.0])"
   ]
  },
  {
   "cell_type": "code",
   "execution_count": 32,
   "id": "f027adcb-b0bb-40e1-ac20-b76dde24db3a",
   "metadata": {},
   "outputs": [],
   "source": [
    "n_patients_total_notreatment_lvo = 645\n",
    "dist_notreatment_lvo = (\n",
    "    np.array([5.0, 7.9, 13.6, 16.4, 24.7, 13.5, 18.9])/100.0)"
   ]
  },
  {
   "cell_type": "code",
   "execution_count": 33,
   "id": "71b863b1-8055-4920-93e2-e142372c7d6a",
   "metadata": {},
   "outputs": [],
   "source": [
    "n_patients_total_notreatment_nlvo_lvo = 1820\n",
    "dist_notreatment_nlvo_lvo = np.array(\n",
    "    [0.1486, 0.2022, 0.1253, 0.1397, 0.1806, 0.0861, 0.1175])"
   ]
  },
  {
   "cell_type": "code",
   "execution_count": 45,
   "id": "091b2321-e0e8-46c2-aa7b-1a822a90a67f",
   "metadata": {},
   "outputs": [
    {
     "name": "stdout",
     "output_type": "stream",
     "text": [
      "Problem 0 6\n",
      "Problem 1 6\n"
     ]
    },
    {
     "data": {
      "image/png": "[encoded data removed]",
      "text/plain": [
       "<Figure size 432x288 with 1 Axes>"
      ]
     },
     "metadata": {
      "needs_background": "light"
     },
     "output_type": "display_data"
    }
   ],
   "source": [
    "dists = [\n",
    "    dist_pre_stroke_nlvo,\n",
    "    dist_pre_stroke_lvo,\n",
    "    dist_notreatment_lvo,\n",
    "    dist_notreatment_nlvo_lvo,\n",
    "]\n",
    "n_patients = [\n",
    "    n_patients_total_pre_stroke_nlvo,\n",
    "    n_patients_total_pre_stroke_lvo,\n",
    "    n_patients_total_notreatment_lvo,\n",
    "    n_patients_total_notreatment_nlvo_lvo,\n",
    "]\n",
    "\n",
    "colour_list = ['#0072B2', '#009E73', '#D55E00', '#CC79A7', \n",
    "               '#F0E442', '#56B4E9', 'DarkSlateGray']\n",
    "\n",
    "\n",
    "for d, dist in enumerate(dists):\n",
    "    dist_cumsum = np.cumsum(dist)\n",
    "    n = n_patients[d]\n",
    "    confints = []\n",
    "    \n",
    "    for i,p in enumerate(dist):\n",
    "        if n*p < 10:\n",
    "            print('Problem', d, i)\n",
    "        if n*(1-p)<10:\n",
    "            print('Problem', d, i)\n",
    "        \n",
    "        pm_confint = calculate_pm_confint(p, n, zstar)\n",
    "        confints.append(pm_confint)\n",
    "        plt.scatter(dist_cumsum[i], d, marker='|', s=100, color=colour_list[i])\n",
    "        plt.errorbar(dist_cumsum[i],d, xerr=pm_confint, \n",
    "                     color=colour_list[i], capsize=10)\n",
    "\n",
    "plt.xlim(0,1)\n",
    "plt.show()"
   ]
  },
  {
   "cell_type": "code",
   "execution_count": null,
   "id": "0bdadba5-b33a-4e34-ae43-51d777b57842",
   "metadata": {},
   "outputs": [],
   "source": []
  }
 ],
 "metadata": {
  "kernelspec": {
   "display_name": "Python 3 (ipykernel)",
   "language": "python",
   "name": "python3"
  },
  "language_info": {
   "codemirror_mode": {
    "name": "ipython",
    "version": 3
   },
   "file_extension": ".py",
   "mimetype": "text/x-python",
   "name": "python",
   "nbconvert_exporter": "python",
   "pygments_lexer": "ipython3",
   "version": "3.8.13"
  }
 },
 "nbformat": 4,
 "nbformat_minor": 5
}
